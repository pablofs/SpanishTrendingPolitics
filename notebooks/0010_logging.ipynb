{
 "metadata": {
  "name": "",
  "signature": "sha256:65b182c2c6895f7b22ba8aa174e82b3ec62d2ef4e9ab4238f07c4474640005c1"
 },
 "nbformat": 3,
 "nbformat_minor": 0,
 "worksheets": [
  {
   "cells": [
    {
     "cell_type": "code",
     "collapsed": false,
     "input": [
      "# http://stackoverflow.com/questions/16571150/how-to-capture-stdout-output-from-a-python-function-call\n",
      "# http://stackoverflow.com/questions/28660700/stringio-getvalue-raising-unicodedecodeerror-when-printing-traceback\n",
      "\n",
      "# https://docs.python.org/2/library/stringio.html#module-cStringIO\n",
      "# cStringIO is faster than StringIO but:\n",
      "# \"Unlike the StringIO module, this module is not able to accept Unicode strings that cannot be encoded as plain ASCII strings.\n",
      "import cStringIO\n",
      "import StringIO\n",
      "import io\n",
      "import traceback\n",
      "import sys\n",
      "\n",
      "class Capturing(list):\n",
      "    def __enter__(self):\n",
      "        # Save the stdout original value\n",
      "        self._stdout = sys.stdout\n",
      "        # Redirect the stdout to StringIO()\n",
      "        sys.stdout = self._stringio = cStringIO.StringIO()\n",
      "        return self\n",
      "    def __exit__(self, *args):\n",
      "        try:\n",
      "            self.extend(self._stringio.getvalue().splitlines())\n",
      "        except UnicodeDecodeError as e:\n",
      "            print \"[From Capturing]-------------------------------------------\"\n",
      "            print traceback.format_exc()\n",
      "        finally:\n",
      "            # Empty the buffer\n",
      "            self._stringio.truncate(0)\n",
      "            # Return to stdout original value\n",
      "            sys.stdout = self._stdout"
     ],
     "language": "python",
     "metadata": {},
     "outputs": [],
     "prompt_number": 1
    },
    {
     "cell_type": "code",
     "collapsed": false,
     "input": [
      "# Utilizamos los m\u00e9todos:\n",
      "#    repr:  Return a string containing a printable representation of an object ( https://docs.python.org/2/library/functions.html#func-repr )\n",
      "#    ast.literal_eval: Safely evaluate an expression node or a Unicode or Latin-1 encoded string containing a Python literal or container display ( https://docs.python.org/2/library/ast.html#ast.literal_eval )\n",
      "# para convertir un texto a un formato 'printable' y deshacer el cambio con ast.literal_eval\n",
      "\n",
      "import ast\n",
      "\n",
      "#\n",
      "input=[\"Hola...\",\n",
      "    u'unicode' + ' ' + str(898),\n",
      "    u'\u00e1\u00e9\u00ed\u00f3\u00fa\u00c1\u00c9\u00cd\u00d3\u00da\u00f1\u00d1',\n",
      "    '\u00e1\u00e9\u00ed\u00f3\u00fa\u00c1\u00c9\u00cd\u00d3\u00da\u00f1\u00d1',\n",
      "    \"Adios: \u00f3\",\n",
      "    u'2: \u00e1\u00e9\u00ed\u00f3\u00fa\u00c1\u00c9\u00cd\u00d3\u00da\u00f1\u00d1',\n",
      "    \"2: Adios.\"]\n",
      "\n",
      "print 'Input\\n------'\n",
      "for s in input:\n",
      "    print s # u' %s' % s\n",
      "#\n",
      "output=[]\n",
      "with Capturing() as output:\n",
      "    for s in input:\n",
      "        # Utilizamos 'print repr(s)' para envitar el UnicodeDecodeError en lugar de 'print s'\n",
      "        print repr(s)\n",
      "    \n",
      "# Log output\n",
      "print '\\nLog output\\n----------'\n",
      "print 'len(output):', len(output)\n",
      "print 'output:\\n', output\n",
      "print '\\noutput (literal_eval):\\n----------------------'\n",
      "for s in output:\n",
      "    # Utilizamos 'ast.literal_eval(s)' para revertir el cambio hecho con 'repr(s)'\n",
      "    print ast.literal_eval(s)"
     ],
     "language": "python",
     "metadata": {},
     "outputs": [
      {
       "output_type": "stream",
       "stream": "stdout",
       "text": [
        "Input\n",
        "------\n",
        "Hola...\n",
        "unicode 898\n",
        "\u00e1\u00e9\u00ed\u00f3\u00fa\u00c1\u00c9\u00cd\u00d3\u00da\u00f1\u00d1\n",
        "\u00e1\u00e9\u00ed\u00f3\u00fa\u00c1\u00c9\u00cd\u00d3\u00da\u00f1\u00d1\n",
        "Adios: \u00f3\n",
        "2: \u00e1\u00e9\u00ed\u00f3\u00fa\u00c1\u00c9\u00cd\u00d3\u00da\u00f1\u00d1\n",
        "2: Adios.\n",
        "\n",
        "Log output\n",
        "----------\n",
        "len(output): 7\n",
        "output:\n",
        "[\"'Hola...'\", \"u'unicode 898'\", \"u'\\\\xe1\\\\xe9\\\\xed\\\\xf3\\\\xfa\\\\xc1\\\\xc9\\\\xcd\\\\xd3\\\\xda\\\\xf1\\\\xd1'\", \"'\\\\xc3\\\\xa1\\\\xc3\\\\xa9\\\\xc3\\\\xad\\\\xc3\\\\xb3\\\\xc3\\\\xba\\\\xc3\\\\x81\\\\xc3\\\\x89\\\\xc3\\\\x8d\\\\xc3\\\\x93\\\\xc3\\\\x9a\\\\xc3\\\\xb1\\\\xc3\\\\x91'\", \"'Adios: \\\\xc3\\\\xb3'\", \"u'2: \\\\xe1\\\\xe9\\\\xed\\\\xf3\\\\xfa\\\\xc1\\\\xc9\\\\xcd\\\\xd3\\\\xda\\\\xf1\\\\xd1'\", \"'2: Adios.'\"]\n",
        "\n",
        "output (literal_eval):\n",
        "----------------------\n",
        "Hola...\n",
        "unicode 898\n",
        "\u00e1\u00e9\u00ed\u00f3\u00fa\u00c1\u00c9\u00cd\u00d3\u00da\u00f1\u00d1\n",
        "\u00e1\u00e9\u00ed\u00f3\u00fa\u00c1\u00c9\u00cd\u00d3\u00da\u00f1\u00d1\n",
        "Adios: \u00f3\n",
        "2: \u00e1\u00e9\u00ed\u00f3\u00fa\u00c1\u00c9\u00cd\u00d3\u00da\u00f1\u00d1\n",
        "2: Adios.\n"
       ]
      }
     ],
     "prompt_number": 2
    },
    {
     "cell_type": "code",
     "collapsed": false,
     "input": [
      "# Ejemplo de texto que da error.  Extra\u00eddo de las pruebas de 0006_congres_analyzer.ipynb\n",
      "'''\n",
      "El error se produce por mezclar diferentes encodings como se dice aqu\u00ed:\n",
      "https://docs.python.org/2/library/stringio.html\n",
      "The StringIO object can accept either Unicode or 8-bit strings, but mixing the two may take some care.\n",
      "If both are used, 8-bit strings that cannot be interpreted as 7-bit ASCII (that use the 8th bit) will\n",
      "cause a UnicodeError to be raised when getvalue() is called.\n",
      "'''\n",
      "t_text = \"'KO (El se\\xc3\\xb1or|La se\\xc3\\xb1ora) (PRESIDENTE|PRESIDENTA):' u'    El se\\xf1or PRESIDENTE: Entramos en el orden del d\\xeda. En primer lugar,'\"\n",
      "ast.literal_eval(t_text)"
     ],
     "language": "python",
     "metadata": {},
     "outputs": [
      {
       "ename": "SyntaxError",
       "evalue": "(unicode error) 'ascii' codec can't decode byte 0xc3 in position 9: ordinal not in range(128) (<unknown>, line 1)",
       "output_type": "pyerr",
       "traceback": [
        "\u001b[1;36m  File \u001b[1;32m\"<unknown>\"\u001b[1;36m, line \u001b[1;32m1\u001b[0m\n\u001b[1;31mSyntaxError\u001b[0m\u001b[1;31m:\u001b[0m (unicode error) 'ascii' codec can't decode byte 0xc3 in position 9: ordinal not in range(128)\n"
       ]
      }
     ],
     "prompt_number": 14
    },
    {
     "cell_type": "code",
     "collapsed": false,
     "input": [
      "def rprint(*obj):\n",
      "    print u' '.join([repr('%s'%x) for x in obj])\n",
      "    \n",
      "rprint(u\"KO (El se\u00f1or|La se\u00f1ora) (PRESIDENTE|PRESIDENTA):\",u\"     El se\u00f1or PRESIDENTE: Comenzamos con las preguntas dirigidas al se\u00f1or\")\n",
      "rprint(\"KO (El se\u00f1or|La se\u00f1ora) (PRESIDENTE|PRESIDENTA):\",u\"     El se\u00f1or PRESIDENTE: Comenzamos con las preguntas dirigidas al se\u00f1or\")"
     ],
     "language": "python",
     "metadata": {},
     "outputs": [
      {
       "output_type": "stream",
       "stream": "stdout",
       "text": [
        "u'KO (El se\\xf1or|La se\\xf1ora) (PRESIDENTE|PRESIDENTA):' u'     El se\\xf1or PRESIDENTE: Comenzamos con las preguntas dirigidas al se\\xf1or'\n",
        "'KO (El se\\xc3\\xb1or|La se\\xc3\\xb1ora) (PRESIDENTE|PRESIDENTA):' u'     El se\\xf1or PRESIDENTE: Comenzamos con las preguntas dirigidas al se\\xf1or'\n"
       ]
      }
     ],
     "prompt_number": 9
    },
    {
     "cell_type": "code",
     "collapsed": false,
     "input": [
      "# Si cambiamos el texto que da error para evitar la mezcla de encodings no se produce el error\n",
      "# \"'KO (El se\\xc3\\xb1or|La se\\xc3\\xb1ora) [...]\"  -->  \"u'KO (El se\\xc3\\xb1or|La se\\xc3\\xb1ora) [...]\"\n",
      "t_text = \"u'KO (El se\\xf1or|La se\\xf1ora) (PRESIDENTE|PRESIDENTA):' u'     El se\\xf1or PRESIDENTE: Comenzamos con las preguntas dirigidas al se\\xf1or'\"\n",
      "print \"Funciona ast.literal_eval:\"\n",
      "print ast.literal_eval(t_text)\n",
      "t_text = \"'KO (El se\\xc3\\xb1or|La se\\xc3\\xb1ora) (PRESIDENTE|PRESIDENTA):' u'     El se\\xf1or PRESIDENTE: Comenzamos con las preguntas dirigidas al se\\xf1or'\"\n",
      "print \"\\nFalla ast.literal_eval:\"\n",
      "print ast.literal_eval(t_text)"
     ],
     "language": "python",
     "metadata": {},
     "outputs": [
      {
       "output_type": "stream",
       "stream": "stdout",
       "text": [
        "Funciona ast.literal_eval:\n",
        "KO (El se\u00f1or|La se\u00f1ora) (PRESIDENTE|PRESIDENTA):     El se\u00f1or PRESIDENTE: Comenzamos con las preguntas dirigidas al se\u00f1or\n",
        "\n",
        "Falla ast.literal_eval:\n"
       ]
      },
      {
       "ename": "SyntaxError",
       "evalue": "(unicode error) 'ascii' codec can't decode byte 0xc3 in position 9: ordinal not in range(128) (<unknown>, line 1)",
       "output_type": "pyerr",
       "traceback": [
        "\u001b[1;36m  File \u001b[1;32m\"<unknown>\"\u001b[1;36m, line \u001b[1;32m1\u001b[0m\n\u001b[1;31mSyntaxError\u001b[0m\u001b[1;31m:\u001b[0m (unicode error) 'ascii' codec can't decode byte 0xc3 in position 9: ordinal not in range(128)\n"
       ]
      }
     ],
     "prompt_number": 12
    },
    {
     "cell_type": "code",
     "collapsed": false,
     "input": [
      "# Test \n",
      "\n",
      "t_text = \"'KO (El se\\xc3\\xb1or|La se\\xc3\\xb1ora) (PRESIDENTE|PRESIDENTA):' u'    El se\\xf1or PRESIDENTE: Entramos en el orden del d\\xeda. En primer lugar,'\"\n",
      "print t_text\n",
      "\n",
      "output=[]\n",
      "with Capturing() as output:\n",
      "    for s in input:\n",
      "        rprint(s)\n",
      "    rprint(t_text)\n",
      "    rprint(u\"KO (El se\u00f1or|La se\u00f1ora) (PRESIDENTE|PRESIDENTA):\",u\"     El se\u00f1or PRESIDENTE: Comenzamos con las preguntas dirigidas al se\u00f1or\")\n",
      "    \n",
      "# Log output\n",
      "print '\\nLog output\\n-----------'\n",
      "print 'len(output):', len(output)\n",
      "print 'output:\\n', output\n",
      "print '\\noutput (literal_eval):\\n----------------------'\n",
      "for s in output:\n",
      "    print ast.literal_eval(s)\n"
     ],
     "language": "python",
     "metadata": {},
     "outputs": [
      {
       "output_type": "stream",
       "stream": "stdout",
       "text": [
        "'KO (El se\u00f1or|La se\u00f1ora) (PRESIDENTE|PRESIDENTA):' u'    El se\ufffdor PRESIDENTE: Entramos en el orden del d\ufffda. En primer lugar,'\n",
        "\n",
        "Log output\n",
        "-----------\n",
        "len(output): 9\n",
        "output:\n",
        "[\"'Hola...'\", \"u'unicode 898'\", \"u'\\\\xe1\\\\xe9\\\\xed\\\\xf3\\\\xfa\\\\xc1\\\\xc9\\\\xcd\\\\xd3\\\\xda\\\\xf1\\\\xd1'\", \"'\\\\xc3\\\\xa1\\\\xc3\\\\xa9\\\\xc3\\\\xad\\\\xc3\\\\xb3\\\\xc3\\\\xba\\\\xc3\\\\x81\\\\xc3\\\\x89\\\\xc3\\\\x8d\\\\xc3\\\\x93\\\\xc3\\\\x9a\\\\xc3\\\\xb1\\\\xc3\\\\x91'\", \"'Adios: \\\\xc3\\\\xb3'\", \"u'2: \\\\xe1\\\\xe9\\\\xed\\\\xf3\\\\xfa\\\\xc1\\\\xc9\\\\xcd\\\\xd3\\\\xda\\\\xf1\\\\xd1'\", \"'2: Adios.'\", '\"\\'KO (El se\\\\xc3\\\\xb1or|La se\\\\xc3\\\\xb1ora) (PRESIDENTE|PRESIDENTA):\\' u\\'    El se\\\\xf1or PRESIDENTE: Entramos en el orden del d\\\\xeda. En primer lugar,\\'\"', \"u'KO (El se\\\\xf1or|La se\\\\xf1ora) (PRESIDENTE|PRESIDENTA):' u'     El se\\\\xf1or PRESIDENTE: Comenzamos con las preguntas dirigidas al se\\\\xf1or'\"]\n",
        "\n",
        "output (literal_eval):\n",
        "----------------------\n",
        "Hola...\n",
        "unicode 898\n",
        "\u00e1\u00e9\u00ed\u00f3\u00fa\u00c1\u00c9\u00cd\u00d3\u00da\u00f1\u00d1\n",
        "\u00e1\u00e9\u00ed\u00f3\u00fa\u00c1\u00c9\u00cd\u00d3\u00da\u00f1\u00d1\n",
        "Adios: \u00f3\n",
        "2: \u00e1\u00e9\u00ed\u00f3\u00fa\u00c1\u00c9\u00cd\u00d3\u00da\u00f1\u00d1\n",
        "2: Adios.\n",
        "'KO (El se\u00f1or|La se\u00f1ora) (PRESIDENTE|PRESIDENTA):' u'    El se\ufffdor PRESIDENTE: Entramos en el orden del d\ufffda. En primer lugar,'\n",
        "KO (El se\u00f1or|La se\u00f1ora) (PRESIDENTE|PRESIDENTA):     El se\u00f1or PRESIDENTE: Comenzamos con las preguntas dirigidas al se\u00f1or\n"
       ]
      }
     ],
     "prompt_number": 13
    },
    {
     "cell_type": "code",
     "collapsed": false,
     "input": [],
     "language": "python",
     "metadata": {},
     "outputs": []
    }
   ],
   "metadata": {}
  }
 ]
}