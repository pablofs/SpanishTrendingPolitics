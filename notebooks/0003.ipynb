{
 "metadata": {
  "name": "",
  "signature": "sha256:7b0e19c0110bf656c4fb7808655779a763d467b0ba502cce6804b787fede6dc4"
 },
 "nbformat": 3,
 "nbformat_minor": 0,
 "worksheets": [
  {
   "cells": [
    {
     "cell_type": "heading",
     "level": 1,
     "metadata": {},
     "source": [
      "Scraping"
     ]
    },
    {
     "cell_type": "code",
     "collapsed": false,
     "input": [
      "# Webs de documents dels partits pol\u00edtics:\n",
      "\n",
      "# PP\n",
      "# http://www.pp.es/actualidad/documentos?page=1\n",
      "\n",
      "# PSOE\n",
      "# http://www.psoe.es/ambito/saladeprensa/docs/index.do?spaceId=3753&apt=4182&apt=4182&apt=4182&pagina=3\n",
      "\n",
      "# Podemos\n",
      "# http://podemos.info/prensa/ante-las-acusaciones-publicadas-por-el-mundo-el-30062014/\n",
      "    \n",
      "# Ciudadanos\n",
      "# http://www.ciudadanos-cs.org/prensa#p=1&n=10\n",
      "\n",
      "# Izquierda Unida\n",
      "# http://www.izquierda-unida.es/documentos?page=1\n",
      "\n",
      "# http://scrapy.org/\n",
      "# https://media.readthedocs.org/pdf/scrapy/0.24/scrapy.pdf"
     ],
     "language": "python",
     "metadata": {},
     "outputs": [],
     "prompt_number": 2
    },
    {
     "cell_type": "heading",
     "level": 3,
     "metadata": {},
     "source": [
      "M\u00e8todes i utilitats"
     ]
    },
    {
     "cell_type": "code",
     "collapsed": false,
     "input": [
      "from urllib2 import Request, urlopen, URLError\n",
      "\n",
      "# M\u00e8tode per obtenir una p\u00e0gina web\n",
      "def get_html_page(url_page):\n",
      "    req = Request(url_page)\n",
      "    try:\n",
      "        html_page = urlopen(req)\n",
      "    except URLError as e:\n",
      "        if hasattr(e, 'reason'):\n",
      "            print 'We failed to reach a server. URL: ' + url_page\n",
      "            print 'Reason: ', e.reason\n",
      "        elif hasattr(e, 'code'):\n",
      "            print 'The server couldn\\'t fulfill the request. URL: ' + url_page\n",
      "            print 'Error code: ', e.code\n",
      "    else:\n",
      "        # everything is fine\n",
      "        return html_page    "
     ],
     "language": "python",
     "metadata": {},
     "outputs": [],
     "prompt_number": 3
    },
    {
     "cell_type": "code",
     "collapsed": false,
     "input": [
      "# http://stackoverflow.com/questions/7100125/storing-python-dictionaries\n",
      "\n",
      "import json\n",
      "\n",
      "# M\u00e8todes per grabar y carregar fitxers en format json\n",
      "def save_dict_json(dict, filename):\n",
      "    with open(filename, 'wb') as fp:\n",
      "        json.dump(dict, fp)\n",
      "\n",
      "def load_dict_json(filename):\n",
      "    with open(filename, 'rb') as fp:\n",
      "        return json.load(fp)\n",
      "    \n",
      "# M\u00e8tode per grabar un fitxer de texte\n",
      "def save_text_file(text, file_name, encoding = 'utf8'):\n",
      "    with open(file_name, \"w\") as text_file:\n",
      "        text_file.write(text.encode(encoding))\n",
      "        \n",
      "# M\u00e8tode per eliminar caracters incorrectes als noms de fitxers (potser millor utilitzar: https://pypi.python.org/pypi/goldfinch/0.4)\n",
      "invalid_filename_chars_windows = '\\/:*?\"<>|'\n",
      "def del_invalid_chars(value, deletechars):\n",
      "    for c in deletechars:\n",
      "        value = value.replace(c,'')\n",
      "    return value;"
     ],
     "language": "python",
     "metadata": {},
     "outputs": [],
     "prompt_number": 4
    },
    {
     "cell_type": "code",
     "collapsed": false,
     "input": [
      "# http://stackoverflow.com/questions/22676/how-do-i-download-a-file-over-http-using-python/22776#22776\n",
      "# http://blog.radevic.com/2012/07/python-download-url-to-file-with.html\n",
      "\n",
      "import urllib2\n",
      "import sys\n",
      "\n",
      "# M\u00e8tode per descarregar fitxers d'una url\n",
      "def download_file(url, file_name, path = \"\", verbose = False):\n",
      "    u = urllib2.urlopen(url)\n",
      "    f = open(path+file_name, 'wb')\n",
      "    meta = u.info()\n",
      "    file_size = int(meta.getheaders(\"Content-Length\")[0])\n",
      "    if verbose:\n",
      "        print(\"Downloading: {0} Bytes: {1}\".format(url, file_size))\n",
      "\n",
      "    file_size_dl = 0\n",
      "    block_sz = 8192\n",
      "    while True:\n",
      "        buffer = u.read(block_sz)\n",
      "        if not buffer:\n",
      "            break\n",
      "\n",
      "        file_size_dl += len(buffer)\n",
      "        f.write(buffer)\n",
      "        \n",
      "        if verbose:\n",
      "            p = float(file_size_dl) / file_size\n",
      "            status = \"\\r{0} bytes  [{1:.2%}]\".format(file_size_dl, p)\n",
      "            status = status + chr(8)*(len(status)+1)\n",
      "            sys.stdout.write(status)\n",
      "            sys.stdout.flush()\n",
      "\n",
      "            # done = int(50 * file_size_dl / file_size)\n",
      "            # sys.stdout.write(\"\\r[%s%s]\" % ('=' * done, ' ' * (50-done)) )    \n",
      "            # sys.stdout.flush()\n",
      "\n",
      "    f.close()\n",
      "    print(\"\\n\")\n",
      "\n",
      "# url = 'http://www.pp.es/sites/default/files/documentos/pr_den_2015.pdf'\n",
      "# file_name = url.split('/')[-1]    \n",
      "# download_file(url, file_name,'../data/pp/')"
     ],
     "language": "python",
     "metadata": {},
     "outputs": [],
     "prompt_number": 5
    },
    {
     "cell_type": "code",
     "collapsed": false,
     "input": [
      "%matplotlib inline\n",
      "import numpy as np\n",
      "import matplotlib.pyplot as plt\n",
      "import datetime\n",
      "import collections\n",
      "\n",
      "# M\u00e8tode per dibuixar un diagrama de barres amb les freq\u00fc\u00e8ncies dels documents per dies\n",
      "def plot_doc_freq_bar_chart(loaded_doc_dict, barcolor, xticks_freq = 30, yticks_freq = 1):\n",
      "    \n",
      "    # Group docs by date\n",
      "    doc_dict_group_by_date = {}\n",
      "    for key in loaded_doc_dict:\n",
      "        date = datetime.datetime.strptime(loaded_doc_dict[key]['date'], \"%d/%m/%Y\")\n",
      "        if date in doc_dict_group_by_date:\n",
      "            doc_dict_group_by_date[date].update({key:{'url':loaded_doc_dict[key]['url'],'name':loaded_doc_dict[key]['name']}})\n",
      "        else:\n",
      "            doc_dict_group_by_date[date] = {key:{'url':loaded_doc_dict[key]['url'],'name':loaded_doc_dict[key]['name']}}\n",
      "    # print doc_dict_group_by_date\n",
      "\n",
      "    doc_dict_group_by_date_ord = collections.OrderedDict(sorted(doc_dict_group_by_date.items(), reverse=False))\n",
      "    # print doc_dict_group_by_date_ord\n",
      "\n",
      "    # Dictionary with all days freq. doc\n",
      "    base = datetime.datetime.today().replace(hour=0, minute=0, second=0, microsecond=0)\n",
      "    numdays = (base-next(iter(doc_dict_group_by_date_ord))).days\n",
      "    # print \"Desde:\", base, \", fins:\", next(iter(doc_dict_group_by_date_ord)), \", dies:\", numdays\n",
      "\n",
      "    date_list = [base - datetime.timedelta(days=x) for x in range(0, numdays)]\n",
      "\n",
      "    all_days_dict = collections.OrderedDict(zip(date_list, [0]*len(date_list)))\n",
      "    # print all_days_dict\n",
      "\n",
      "    for key in doc_dict_group_by_date:\n",
      "        if key in all_days_dict:\n",
      "            all_days_dict[key]=len(doc_dict_group_by_date[key].items())\n",
      "\n",
      "    # for key in all_days_dict:\n",
      "    #    if all_days_dict[key] > 0:\n",
      "    #        print \"Date:\", key, \"Num. docs:\", all_days_dict[key] \n",
      "\n",
      "    \n",
      "    # Plot frequency bar chart Num. docs / day\n",
      "\n",
      "    # Get xticks month labels \n",
      "    i = 0\n",
      "    xticks_labels = []\n",
      "    for key in all_days_dict:\n",
      "        if i % xticks_freq == 0:\n",
      "            xticks_labels.append(key.strftime(\"%b %Y\"))\n",
      "        i+=1\n",
      "    # print xticks_labels\n",
      "\n",
      "    # Get yticks num. docs labels\n",
      "    yticks_labels = []\n",
      "    for i in range(0,max(all_days_dict.values())+1):\n",
      "        if i % yticks_freq == 0:\n",
      "            yticks_labels.append(str(i))\n",
      "    # print yticks_labels\n",
      "\n",
      "    # Start plot\n",
      "    fig, ax = plt.subplots()\n",
      "    fig.set_size_inches(18.5,10.5)\n",
      "    # fig.subplots_adjust(left  = 0.0, right = 1.0, bottom = 0.0, top = 1.0, wspace = 0.0, hspace = 0.0)\n",
      "    fig.canvas.draw()\n",
      "\n",
      "    plt.bar(range(len(all_days_dict)), all_days_dict.values(), color = barcolor, align='center')\n",
      "    plt.xticks(np.arange(0, len(all_days_dict), xticks_freq))\n",
      "    plt.yticks(np.arange(0, max(all_days_dict.values())+1, yticks_freq))\n",
      "    # plt.grid(True)\n",
      "\n",
      "    ax.set_xticklabels(xticks_labels, rotation='vertical')\n",
      "    ax.set_yticklabels(yticks_labels)\n",
      "    \n",
      "    plt.show()"
     ],
     "language": "python",
     "metadata": {},
     "outputs": [],
     "prompt_number": 6
    },
    {
     "cell_type": "heading",
     "level": 4,
     "metadata": {},
     "source": [
      "Estructura dels diccionaris de documents"
     ]
    },
    {
     "cell_type": "code",
     "collapsed": false,
     "input": [
      "'''\n",
      "document_dictionary = {\n",
      "    <num_doc> : {\n",
      "        'party' : <'PP', 'PSOE', 'Podemos'>,\n",
      "        'date': <data del document>,\n",
      "        'url': <url del document>,\n",
      "        'type': <'html','pdf'>,\n",
      "        'file': <<path + filename> on s'ha descarregat el document. Si \u00e9s buit el document no s'ha descarregat encara.>,\n",
      "        'content': <contingut del document en format texte>\n",
      "        'updated': <data d'actualitzaci\u00f3 del camp 'content'>\n",
      "    }\n",
      "}\n",
      "'''"
     ],
     "language": "python",
     "metadata": {},
     "outputs": [
      {
       "metadata": {},
       "output_type": "pyout",
       "prompt_number": 15,
       "text": [
        "\"\\ndocument_dictionary = {\\n    <num_doc> : {\\n        'party' : <'PP', 'PSOE', 'Podemos'>,\\n        'date': <data del document>,\\n        'url': <url del document>,\\n        'type': <'html','pdf'>,\\n        'file': <<path + filename> on s'ha descarregat el document. Si \\xc3\\xa9s buit el document no s'ha descarregat encara.>,\\n        'content': <contingut del document en format texte>\\n        'updated': <data d'actualitzaci\\xc3\\xb3 del camp 'content'>\\n    }\\n}\\n\""
       ]
      }
     ],
     "prompt_number": 15
    },
    {
     "cell_type": "heading",
     "level": 3,
     "metadata": {},
     "source": [
      "Scraping de la web de documents del PP"
     ]
    },
    {
     "cell_type": "code",
     "collapsed": false,
     "input": [
      "# PP\n",
      "\n",
      "# http://stackoverflow.com/questions/3075550/how-can-i-get-href-links-from-html-code\n",
      "# http://stackoverflow.com/questions/12451997/beautifulsoup-gettext-from-between-p-not-picking-up-subsequent-paragraphs\n",
      "# http://stackoverflow.com/questions/23380171/using-beautifulsoup-extract-text-without-tags\n",
      "# http://www.crummy.com/software/BeautifulSoup/bs4/doc/#find-all-next-and-find-next\n",
      "\n",
      "from bs4 import BeautifulSoup\n",
      "import re\n",
      "import time\n",
      "\n",
      "t_init = time.clock()\n",
      "\n",
      "pp_url = \"http://www.pp.es/actualidad/documentos\"\n",
      "continue_scraping = True\n",
      "web_page = 0\n",
      "prev_num_doc = 1\n",
      "num_doc = 1\n",
      "pp_doc_dict = {}\n",
      "\n",
      "while continue_scraping :\n",
      "    url_page = pp_url + \"?page={}\".format(web_page)\n",
      "    html_page = get_html_page(url_page)\n",
      "    if html_page is not None:\n",
      "        print \"Parsing: \" + url_page\n",
      "        soup = BeautifulSoup(html_page)\n",
      "    else:\n",
      "        break\n",
      "    \n",
      "    prev_num_doc = num_doc\n",
      "    pp_doc_dict_page = {}\n",
      "    for div in soup.findAll('div', {'class' : 'info_doc_listed'}):\n",
      "        time_tag = div.find_next(\"time\")\n",
      "        link_tag = div.find_next(\"a\",attrs={'href': re.compile(\".pdf$\")})\n",
      "        pp_doc_dict_page[num_doc] = {'party':'PP', 'date':time_tag.getText(), 'url':link_tag.get('href'), 'name':link_tag.getText(), 'type':'pdf', 'file':''}\n",
      "        # print num_doc, \": \", pp_doc_dict_page[num_doc] \n",
      "        num_doc+=1\n",
      "    \n",
      "    # If page documents was already in the dictionary stop the scraping, otherwise add page documents\n",
      "    if (prev_num_doc> 1 and pp_doc_dict[prev_num_doc-1]['url']==pp_doc_dict_page[num_doc-1]['url']):\n",
      "        continue_scraping = False\n",
      "        print \"Scrap finished.\"\n",
      "    else:\n",
      "        pp_doc_dict.update(pp_doc_dict_page)\n",
      "    \n",
      "    #\n",
      "    web_page+=1\n",
      "    \n",
      "    # if (web_page > 2):\n",
      "    if (web_page > 200):\n",
      "        continue_scraping = False\n",
      "\n",
      "t_end = time.clock()\n",
      "print \"Parse finished in {0:.2f} seconds\".format(t_end-t_init)\n",
      "print \"Saving docs dictionary...\"\n",
      "save_dict_json(pp_doc_dict, 'pp_doc_dict.json')\n",
      "print \"Number of Documents: {}\".format(len(pp_doc_dict))    "
     ],
     "language": "python",
     "metadata": {},
     "outputs": [
      {
       "output_type": "stream",
       "stream": "stdout",
       "text": [
        "Parsing: http://www.pp.es/actualidad/documentos?page=0\n",
        "Parsing: http://www.pp.es/actualidad/documentos?page=1"
       ]
      },
      {
       "output_type": "stream",
       "stream": "stdout",
       "text": [
        "\n",
        "Parsing: http://www.pp.es/actualidad/documentos?page=2"
       ]
      },
      {
       "output_type": "stream",
       "stream": "stdout",
       "text": [
        "\n",
        "Parsing: http://www.pp.es/actualidad/documentos?page=3"
       ]
      },
      {
       "output_type": "stream",
       "stream": "stdout",
       "text": [
        "\n",
        "Parsing: http://www.pp.es/actualidad/documentos?page=4"
       ]
      },
      {
       "output_type": "stream",
       "stream": "stdout",
       "text": [
        "\n",
        "Parsing: http://www.pp.es/actualidad/documentos?page=5"
       ]
      },
      {
       "output_type": "stream",
       "stream": "stdout",
       "text": [
        "\n",
        "Parsing: http://www.pp.es/actualidad/documentos?page=6"
       ]
      },
      {
       "output_type": "stream",
       "stream": "stdout",
       "text": [
        "\n",
        "Parsing: http://www.pp.es/actualidad/documentos?page=7"
       ]
      },
      {
       "output_type": "stream",
       "stream": "stdout",
       "text": [
        "\n",
        "Parsing: http://www.pp.es/actualidad/documentos?page=8"
       ]
      },
      {
       "output_type": "stream",
       "stream": "stdout",
       "text": [
        "\n",
        "Parsing: http://www.pp.es/actualidad/documentos?page=9"
       ]
      },
      {
       "output_type": "stream",
       "stream": "stdout",
       "text": [
        "\n",
        "Parsing: http://www.pp.es/actualidad/documentos?page=10"
       ]
      },
      {
       "output_type": "stream",
       "stream": "stdout",
       "text": [
        "\n",
        "Parsing: http://www.pp.es/actualidad/documentos?page=11"
       ]
      },
      {
       "output_type": "stream",
       "stream": "stdout",
       "text": [
        "\n",
        "Parsing: http://www.pp.es/actualidad/documentos?page=12"
       ]
      },
      {
       "output_type": "stream",
       "stream": "stdout",
       "text": [
        "\n",
        "Parsing: http://www.pp.es/actualidad/documentos?page=13"
       ]
      },
      {
       "output_type": "stream",
       "stream": "stdout",
       "text": [
        "\n",
        "Parsing: http://www.pp.es/actualidad/documentos?page=14"
       ]
      },
      {
       "output_type": "stream",
       "stream": "stdout",
       "text": [
        "\n",
        "Parsing: http://www.pp.es/actualidad/documentos?page=15"
       ]
      },
      {
       "output_type": "stream",
       "stream": "stdout",
       "text": [
        "\n",
        "Parsing: http://www.pp.es/actualidad/documentos?page=16"
       ]
      },
      {
       "output_type": "stream",
       "stream": "stdout",
       "text": [
        "\n",
        "Parsing: http://www.pp.es/actualidad/documentos?page=17"
       ]
      },
      {
       "output_type": "stream",
       "stream": "stdout",
       "text": [
        "\n",
        "Parsing: http://www.pp.es/actualidad/documentos?page=18"
       ]
      },
      {
       "output_type": "stream",
       "stream": "stdout",
       "text": [
        "\n",
        "Parsing: http://www.pp.es/actualidad/documentos?page=19"
       ]
      },
      {
       "output_type": "stream",
       "stream": "stdout",
       "text": [
        "\n",
        "Parsing: http://www.pp.es/actualidad/documentos?page=20"
       ]
      },
      {
       "output_type": "stream",
       "stream": "stdout",
       "text": [
        "\n",
        "Parsing: http://www.pp.es/actualidad/documentos?page=21"
       ]
      },
      {
       "output_type": "stream",
       "stream": "stdout",
       "text": [
        "\n",
        "Parsing: http://www.pp.es/actualidad/documentos?page=22"
       ]
      },
      {
       "output_type": "stream",
       "stream": "stdout",
       "text": [
        "\n",
        "Parsing: http://www.pp.es/actualidad/documentos?page=23"
       ]
      },
      {
       "output_type": "stream",
       "stream": "stdout",
       "text": [
        "\n",
        "Parsing: http://www.pp.es/actualidad/documentos?page=24"
       ]
      },
      {
       "output_type": "stream",
       "stream": "stdout",
       "text": [
        "\n",
        "Parsing: http://www.pp.es/actualidad/documentos?page=25"
       ]
      },
      {
       "output_type": "stream",
       "stream": "stdout",
       "text": [
        "\n",
        "Parsing: http://www.pp.es/actualidad/documentos?page=26"
       ]
      },
      {
       "output_type": "stream",
       "stream": "stdout",
       "text": [
        "\n",
        "Parsing: http://www.pp.es/actualidad/documentos?page=27"
       ]
      },
      {
       "output_type": "stream",
       "stream": "stdout",
       "text": [
        "\n",
        "Parsing: http://www.pp.es/actualidad/documentos?page=28"
       ]
      },
      {
       "output_type": "stream",
       "stream": "stdout",
       "text": [
        "\n",
        "Parsing: http://www.pp.es/actualidad/documentos?page=29"
       ]
      },
      {
       "output_type": "stream",
       "stream": "stdout",
       "text": [
        "\n",
        "Parsing: http://www.pp.es/actualidad/documentos?page=30"
       ]
      },
      {
       "output_type": "stream",
       "stream": "stdout",
       "text": [
        "\n",
        "Parsing: http://www.pp.es/actualidad/documentos?page=31"
       ]
      },
      {
       "output_type": "stream",
       "stream": "stdout",
       "text": [
        "\n",
        "Parsing: http://www.pp.es/actualidad/documentos?page=32"
       ]
      },
      {
       "output_type": "stream",
       "stream": "stdout",
       "text": [
        "\n",
        "Parsing: http://www.pp.es/actualidad/documentos?page=33"
       ]
      },
      {
       "output_type": "stream",
       "stream": "stdout",
       "text": [
        "\n",
        "Parsing: http://www.pp.es/actualidad/documentos?page=34"
       ]
      },
      {
       "output_type": "stream",
       "stream": "stdout",
       "text": [
        "\n",
        "Parsing: http://www.pp.es/actualidad/documentos?page=35"
       ]
      },
      {
       "output_type": "stream",
       "stream": "stdout",
       "text": [
        "\n",
        "Parsing: http://www.pp.es/actualidad/documentos?page=36"
       ]
      },
      {
       "output_type": "stream",
       "stream": "stdout",
       "text": [
        "\n",
        "Parsing: http://www.pp.es/actualidad/documentos?page=37"
       ]
      },
      {
       "output_type": "stream",
       "stream": "stdout",
       "text": [
        "\n",
        "Parsing: http://www.pp.es/actualidad/documentos?page=38"
       ]
      },
      {
       "output_type": "stream",
       "stream": "stdout",
       "text": [
        "\n",
        "Parsing: http://www.pp.es/actualidad/documentos?page=39"
       ]
      },
      {
       "output_type": "stream",
       "stream": "stdout",
       "text": [
        "\n",
        "Parsing: http://www.pp.es/actualidad/documentos?page=40"
       ]
      },
      {
       "output_type": "stream",
       "stream": "stdout",
       "text": [
        "\n",
        "Parsing: http://www.pp.es/actualidad/documentos?page=41"
       ]
      },
      {
       "output_type": "stream",
       "stream": "stdout",
       "text": [
        "\n",
        "Parsing: http://www.pp.es/actualidad/documentos?page=42"
       ]
      },
      {
       "output_type": "stream",
       "stream": "stdout",
       "text": [
        "\n",
        "Parsing: http://www.pp.es/actualidad/documentos?page=43"
       ]
      },
      {
       "output_type": "stream",
       "stream": "stdout",
       "text": [
        "\n",
        "Parsing: http://www.pp.es/actualidad/documentos?page=44"
       ]
      },
      {
       "output_type": "stream",
       "stream": "stdout",
       "text": [
        "\n",
        "Parsing: http://www.pp.es/actualidad/documentos?page=45"
       ]
      },
      {
       "output_type": "stream",
       "stream": "stdout",
       "text": [
        "\n",
        "Parsing: http://www.pp.es/actualidad/documentos?page=46"
       ]
      },
      {
       "output_type": "stream",
       "stream": "stdout",
       "text": [
        "\n",
        "Parsing: http://www.pp.es/actualidad/documentos?page=47"
       ]
      },
      {
       "output_type": "stream",
       "stream": "stdout",
       "text": [
        "\n",
        "Parsing: http://www.pp.es/actualidad/documentos?page=48"
       ]
      },
      {
       "output_type": "stream",
       "stream": "stdout",
       "text": [
        "\n",
        "Parsing: http://www.pp.es/actualidad/documentos?page=49"
       ]
      },
      {
       "output_type": "stream",
       "stream": "stdout",
       "text": [
        "\n",
        "Parsing: http://www.pp.es/actualidad/documentos?page=50"
       ]
      },
      {
       "output_type": "stream",
       "stream": "stdout",
       "text": [
        "\n",
        "Parsing: http://www.pp.es/actualidad/documentos?page=51"
       ]
      },
      {
       "output_type": "stream",
       "stream": "stdout",
       "text": [
        "\n",
        "Parsing: http://www.pp.es/actualidad/documentos?page=52"
       ]
      },
      {
       "output_type": "stream",
       "stream": "stdout",
       "text": [
        "\n",
        "Parsing: http://www.pp.es/actualidad/documentos?page=53"
       ]
      },
      {
       "output_type": "stream",
       "stream": "stdout",
       "text": [
        "\n",
        "Parsing: http://www.pp.es/actualidad/documentos?page=54"
       ]
      },
      {
       "output_type": "stream",
       "stream": "stdout",
       "text": [
        "\n",
        "Parsing: http://www.pp.es/actualidad/documentos?page=55"
       ]
      },
      {
       "output_type": "stream",
       "stream": "stdout",
       "text": [
        "\n",
        "Parsing: http://www.pp.es/actualidad/documentos?page=56"
       ]
      },
      {
       "output_type": "stream",
       "stream": "stdout",
       "text": [
        "\n",
        "Parsing: http://www.pp.es/actualidad/documentos?page=57"
       ]
      },
      {
       "output_type": "stream",
       "stream": "stdout",
       "text": [
        "\n",
        "Parsing: http://www.pp.es/actualidad/documentos?page=58"
       ]
      },
      {
       "output_type": "stream",
       "stream": "stdout",
       "text": [
        "\n",
        "Parsing: http://www.pp.es/actualidad/documentos?page=59"
       ]
      },
      {
       "output_type": "stream",
       "stream": "stdout",
       "text": [
        "\n",
        "Parsing: http://www.pp.es/actualidad/documentos?page=60"
       ]
      },
      {
       "output_type": "stream",
       "stream": "stdout",
       "text": [
        "\n",
        "Parsing: http://www.pp.es/actualidad/documentos?page=61"
       ]
      },
      {
       "output_type": "stream",
       "stream": "stdout",
       "text": [
        "\n",
        "Parsing: http://www.pp.es/actualidad/documentos?page=62"
       ]
      },
      {
       "output_type": "stream",
       "stream": "stdout",
       "text": [
        "\n",
        "Parsing: http://www.pp.es/actualidad/documentos?page=63"
       ]
      },
      {
       "output_type": "stream",
       "stream": "stdout",
       "text": [
        "\n",
        "Parsing: http://www.pp.es/actualidad/documentos?page=64"
       ]
      },
      {
       "output_type": "stream",
       "stream": "stdout",
       "text": [
        "\n",
        "Parsing: http://www.pp.es/actualidad/documentos?page=65"
       ]
      },
      {
       "output_type": "stream",
       "stream": "stdout",
       "text": [
        "\n",
        "Parsing: http://www.pp.es/actualidad/documentos?page=66"
       ]
      },
      {
       "output_type": "stream",
       "stream": "stdout",
       "text": [
        "\n",
        "Parsing: http://www.pp.es/actualidad/documentos?page=67"
       ]
      },
      {
       "output_type": "stream",
       "stream": "stdout",
       "text": [
        "\n",
        "Parsing: http://www.pp.es/actualidad/documentos?page=68"
       ]
      },
      {
       "output_type": "stream",
       "stream": "stdout",
       "text": [
        "\n",
        "Parsing: http://www.pp.es/actualidad/documentos?page=69"
       ]
      },
      {
       "output_type": "stream",
       "stream": "stdout",
       "text": [
        "\n",
        "Parsing: http://www.pp.es/actualidad/documentos?page=70"
       ]
      },
      {
       "output_type": "stream",
       "stream": "stdout",
       "text": [
        "\n",
        "Parsing: http://www.pp.es/actualidad/documentos?page=71"
       ]
      },
      {
       "output_type": "stream",
       "stream": "stdout",
       "text": [
        "\n",
        "Parsing: http://www.pp.es/actualidad/documentos?page=72"
       ]
      },
      {
       "output_type": "stream",
       "stream": "stdout",
       "text": [
        "\n",
        "Parsing: http://www.pp.es/actualidad/documentos?page=73"
       ]
      },
      {
       "output_type": "stream",
       "stream": "stdout",
       "text": [
        "\n",
        "Parsing: http://www.pp.es/actualidad/documentos?page=74"
       ]
      },
      {
       "output_type": "stream",
       "stream": "stdout",
       "text": [
        "\n",
        "Parsing: http://www.pp.es/actualidad/documentos?page=75"
       ]
      },
      {
       "output_type": "stream",
       "stream": "stdout",
       "text": [
        "\n",
        "Parsing: http://www.pp.es/actualidad/documentos?page=76"
       ]
      },
      {
       "output_type": "stream",
       "stream": "stdout",
       "text": [
        "\n",
        "Parsing: http://www.pp.es/actualidad/documentos?page=77"
       ]
      },
      {
       "output_type": "stream",
       "stream": "stdout",
       "text": [
        "\n",
        "Parsing: http://www.pp.es/actualidad/documentos?page=78"
       ]
      },
      {
       "output_type": "stream",
       "stream": "stdout",
       "text": [
        "\n",
        "Parsing: http://www.pp.es/actualidad/documentos?page=79"
       ]
      },
      {
       "output_type": "stream",
       "stream": "stdout",
       "text": [
        "\n",
        "Parsing: http://www.pp.es/actualidad/documentos?page=80"
       ]
      },
      {
       "output_type": "stream",
       "stream": "stdout",
       "text": [
        "\n",
        "Parsing: http://www.pp.es/actualidad/documentos?page=81"
       ]
      },
      {
       "output_type": "stream",
       "stream": "stdout",
       "text": [
        "\n",
        "Parsing: http://www.pp.es/actualidad/documentos?page=82"
       ]
      },
      {
       "output_type": "stream",
       "stream": "stdout",
       "text": [
        "\n",
        "Parsing: http://www.pp.es/actualidad/documentos?page=83"
       ]
      },
      {
       "output_type": "stream",
       "stream": "stdout",
       "text": [
        "\n",
        "Parsing: http://www.pp.es/actualidad/documentos?page=84"
       ]
      },
      {
       "output_type": "stream",
       "stream": "stdout",
       "text": [
        "\n",
        "Parsing: http://www.pp.es/actualidad/documentos?page=85"
       ]
      },
      {
       "output_type": "stream",
       "stream": "stdout",
       "text": [
        "\n",
        "Parsing: http://www.pp.es/actualidad/documentos?page=86"
       ]
      },
      {
       "output_type": "stream",
       "stream": "stdout",
       "text": [
        "\n",
        "Parsing: http://www.pp.es/actualidad/documentos?page=87"
       ]
      },
      {
       "output_type": "stream",
       "stream": "stdout",
       "text": [
        "\n",
        "Parsing: http://www.pp.es/actualidad/documentos?page=88"
       ]
      },
      {
       "output_type": "stream",
       "stream": "stdout",
       "text": [
        "\n",
        "Parsing: http://www.pp.es/actualidad/documentos?page=89"
       ]
      },
      {
       "output_type": "stream",
       "stream": "stdout",
       "text": [
        "\n",
        "Parsing: http://www.pp.es/actualidad/documentos?page=90"
       ]
      },
      {
       "output_type": "stream",
       "stream": "stdout",
       "text": [
        "\n",
        "Parsing: http://www.pp.es/actualidad/documentos?page=91"
       ]
      },
      {
       "output_type": "stream",
       "stream": "stdout",
       "text": [
        "\n",
        "Parsing: http://www.pp.es/actualidad/documentos?page=92"
       ]
      },
      {
       "output_type": "stream",
       "stream": "stdout",
       "text": [
        "\n",
        "Parsing: http://www.pp.es/actualidad/documentos?page=93"
       ]
      },
      {
       "output_type": "stream",
       "stream": "stdout",
       "text": [
        "\n",
        "Parsing: http://www.pp.es/actualidad/documentos?page=94"
       ]
      },
      {
       "output_type": "stream",
       "stream": "stdout",
       "text": [
        "\n",
        "Parsing: http://www.pp.es/actualidad/documentos?page=95"
       ]
      },
      {
       "output_type": "stream",
       "stream": "stdout",
       "text": [
        "\n",
        "Parsing: http://www.pp.es/actualidad/documentos?page=96"
       ]
      },
      {
       "output_type": "stream",
       "stream": "stdout",
       "text": [
        "\n",
        "Parsing: http://www.pp.es/actualidad/documentos?page=97"
       ]
      },
      {
       "output_type": "stream",
       "stream": "stdout",
       "text": [
        "\n",
        "Parsing: http://www.pp.es/actualidad/documentos?page=98"
       ]
      },
      {
       "output_type": "stream",
       "stream": "stdout",
       "text": [
        "\n",
        "Parsing: http://www.pp.es/actualidad/documentos?page=99"
       ]
      },
      {
       "output_type": "stream",
       "stream": "stdout",
       "text": [
        "\n",
        "Parsing: http://www.pp.es/actualidad/documentos?page=100"
       ]
      },
      {
       "output_type": "stream",
       "stream": "stdout",
       "text": [
        "\n",
        "Parsing: http://www.pp.es/actualidad/documentos?page=101"
       ]
      },
      {
       "output_type": "stream",
       "stream": "stdout",
       "text": [
        "\n",
        "Parsing: http://www.pp.es/actualidad/documentos?page=102"
       ]
      },
      {
       "output_type": "stream",
       "stream": "stdout",
       "text": [
        "\n",
        "Parsing: http://www.pp.es/actualidad/documentos?page=103"
       ]
      },
      {
       "output_type": "stream",
       "stream": "stdout",
       "text": [
        "\n",
        "Parsing: http://www.pp.es/actualidad/documentos?page=104"
       ]
      },
      {
       "output_type": "stream",
       "stream": "stdout",
       "text": [
        "\n",
        "Parsing: http://www.pp.es/actualidad/documentos?page=105"
       ]
      },
      {
       "output_type": "stream",
       "stream": "stdout",
       "text": [
        "\n",
        "Parsing: http://www.pp.es/actualidad/documentos?page=106"
       ]
      },
      {
       "output_type": "stream",
       "stream": "stdout",
       "text": [
        "\n",
        "Parsing: http://www.pp.es/actualidad/documentos?page=107"
       ]
      },
      {
       "output_type": "stream",
       "stream": "stdout",
       "text": [
        "\n",
        "Parsing: http://www.pp.es/actualidad/documentos?page=108"
       ]
      },
      {
       "output_type": "stream",
       "stream": "stdout",
       "text": [
        "\n",
        "Parsing: http://www.pp.es/actualidad/documentos?page=109"
       ]
      },
      {
       "output_type": "stream",
       "stream": "stdout",
       "text": [
        "\n",
        "Parsing: http://www.pp.es/actualidad/documentos?page=110"
       ]
      },
      {
       "output_type": "stream",
       "stream": "stdout",
       "text": [
        "\n",
        "Parsing: http://www.pp.es/actualidad/documentos?page=111"
       ]
      },
      {
       "output_type": "stream",
       "stream": "stdout",
       "text": [
        "\n",
        "Parsing: http://www.pp.es/actualidad/documentos?page=112"
       ]
      },
      {
       "output_type": "stream",
       "stream": "stdout",
       "text": [
        "\n",
        "Parsing: http://www.pp.es/actualidad/documentos?page=113"
       ]
      },
      {
       "output_type": "stream",
       "stream": "stdout",
       "text": [
        "\n",
        "Parsing: http://www.pp.es/actualidad/documentos?page=114"
       ]
      },
      {
       "output_type": "stream",
       "stream": "stdout",
       "text": [
        "\n",
        "Parsing: http://www.pp.es/actualidad/documentos?page=115"
       ]
      },
      {
       "output_type": "stream",
       "stream": "stdout",
       "text": [
        "\n",
        "Parsing: http://www.pp.es/actualidad/documentos?page=116"
       ]
      },
      {
       "output_type": "stream",
       "stream": "stdout",
       "text": [
        "\n",
        "Parsing: http://www.pp.es/actualidad/documentos?page=117"
       ]
      },
      {
       "output_type": "stream",
       "stream": "stdout",
       "text": [
        "\n",
        "Parsing: http://www.pp.es/actualidad/documentos?page=118"
       ]
      },
      {
       "output_type": "stream",
       "stream": "stdout",
       "text": [
        "\n",
        "Parsing: http://www.pp.es/actualidad/documentos?page=119"
       ]
      },
      {
       "output_type": "stream",
       "stream": "stdout",
       "text": [
        "\n",
        "Parsing: http://www.pp.es/actualidad/documentos?page=120"
       ]
      },
      {
       "output_type": "stream",
       "stream": "stdout",
       "text": [
        "\n",
        "Parsing: http://www.pp.es/actualidad/documentos?page=121"
       ]
      },
      {
       "output_type": "stream",
       "stream": "stdout",
       "text": [
        "\n",
        "Parsing: http://www.pp.es/actualidad/documentos?page=122"
       ]
      },
      {
       "output_type": "stream",
       "stream": "stdout",
       "text": [
        "\n",
        "Parsing: http://www.pp.es/actualidad/documentos?page=123"
       ]
      },
      {
       "output_type": "stream",
       "stream": "stdout",
       "text": [
        "\n",
        "Parsing: http://www.pp.es/actualidad/documentos?page=124"
       ]
      },
      {
       "output_type": "stream",
       "stream": "stdout",
       "text": [
        "\n",
        "Parsing: http://www.pp.es/actualidad/documentos?page=125"
       ]
      },
      {
       "output_type": "stream",
       "stream": "stdout",
       "text": [
        "\n",
        "Parsing: http://www.pp.es/actualidad/documentos?page=126"
       ]
      },
      {
       "output_type": "stream",
       "stream": "stdout",
       "text": [
        "\n",
        "Parsing: http://www.pp.es/actualidad/documentos?page=127"
       ]
      },
      {
       "output_type": "stream",
       "stream": "stdout",
       "text": [
        "\n",
        "Parsing: http://www.pp.es/actualidad/documentos?page=128"
       ]
      },
      {
       "output_type": "stream",
       "stream": "stdout",
       "text": [
        "\n",
        "Parsing: http://www.pp.es/actualidad/documentos?page=129"
       ]
      },
      {
       "output_type": "stream",
       "stream": "stdout",
       "text": [
        "\n",
        "Parsing: http://www.pp.es/actualidad/documentos?page=130"
       ]
      },
      {
       "output_type": "stream",
       "stream": "stdout",
       "text": [
        "\n",
        "Parsing: http://www.pp.es/actualidad/documentos?page=131"
       ]
      },
      {
       "output_type": "stream",
       "stream": "stdout",
       "text": [
        "\n",
        "Parsing: http://www.pp.es/actualidad/documentos?page=132"
       ]
      },
      {
       "output_type": "stream",
       "stream": "stdout",
       "text": [
        "\n",
        "Parsing: http://www.pp.es/actualidad/documentos?page=133"
       ]
      },
      {
       "output_type": "stream",
       "stream": "stdout",
       "text": [
        "\n",
        "Parsing: http://www.pp.es/actualidad/documentos?page=134"
       ]
      },
      {
       "output_type": "stream",
       "stream": "stdout",
       "text": [
        "\n",
        "Parsing: http://www.pp.es/actualidad/documentos?page=135"
       ]
      },
      {
       "output_type": "stream",
       "stream": "stdout",
       "text": [
        "\n",
        "Parsing: http://www.pp.es/actualidad/documentos?page=136"
       ]
      },
      {
       "output_type": "stream",
       "stream": "stdout",
       "text": [
        "\n",
        "Parsing: http://www.pp.es/actualidad/documentos?page=137"
       ]
      },
      {
       "output_type": "stream",
       "stream": "stdout",
       "text": [
        "\n",
        "Parsing: http://www.pp.es/actualidad/documentos?page=138"
       ]
      },
      {
       "output_type": "stream",
       "stream": "stdout",
       "text": [
        "\n",
        "Parsing: http://www.pp.es/actualidad/documentos?page=139"
       ]
      },
      {
       "output_type": "stream",
       "stream": "stdout",
       "text": [
        "\n",
        "Parsing: http://www.pp.es/actualidad/documentos?page=140"
       ]
      },
      {
       "output_type": "stream",
       "stream": "stdout",
       "text": [
        "\n",
        "Parsing: http://www.pp.es/actualidad/documentos?page=141"
       ]
      },
      {
       "output_type": "stream",
       "stream": "stdout",
       "text": [
        "\n",
        "Parsing: http://www.pp.es/actualidad/documentos?page=142"
       ]
      },
      {
       "output_type": "stream",
       "stream": "stdout",
       "text": [
        "\n",
        "Parsing: http://www.pp.es/actualidad/documentos?page=143"
       ]
      },
      {
       "output_type": "stream",
       "stream": "stdout",
       "text": [
        "\n",
        "Parsing: http://www.pp.es/actualidad/documentos?page=144"
       ]
      },
      {
       "output_type": "stream",
       "stream": "stdout",
       "text": [
        "\n",
        "Parsing: http://www.pp.es/actualidad/documentos?page=145"
       ]
      },
      {
       "output_type": "stream",
       "stream": "stdout",
       "text": [
        "\n",
        "Parsing: http://www.pp.es/actualidad/documentos?page=146"
       ]
      },
      {
       "output_type": "stream",
       "stream": "stdout",
       "text": [
        "\n",
        "Parsing: http://www.pp.es/actualidad/documentos?page=147"
       ]
      },
      {
       "output_type": "stream",
       "stream": "stdout",
       "text": [
        "\n",
        "Parsing: http://www.pp.es/actualidad/documentos?page=148"
       ]
      },
      {
       "output_type": "stream",
       "stream": "stdout",
       "text": [
        "\n",
        "Parsing: http://www.pp.es/actualidad/documentos?page=149"
       ]
      },
      {
       "output_type": "stream",
       "stream": "stdout",
       "text": [
        "\n",
        "Parsing: http://www.pp.es/actualidad/documentos?page=150"
       ]
      },
      {
       "output_type": "stream",
       "stream": "stdout",
       "text": [
        "\n",
        "Parsing: http://www.pp.es/actualidad/documentos?page=151"
       ]
      },
      {
       "output_type": "stream",
       "stream": "stdout",
       "text": [
        "\n",
        "Parsing: http://www.pp.es/actualidad/documentos?page=152"
       ]
      },
      {
       "output_type": "stream",
       "stream": "stdout",
       "text": [
        "\n",
        "Parsing: http://www.pp.es/actualidad/documentos?page=153"
       ]
      },
      {
       "output_type": "stream",
       "stream": "stdout",
       "text": [
        "\n",
        "Scrap finished."
       ]
      },
      {
       "output_type": "stream",
       "stream": "stdout",
       "text": [
        "\n",
        "Parse finished in 256.17 seconds\n",
        "Saving docs dictionary...\n",
        "Number of Documents: 1527\n"
       ]
      }
     ],
     "prompt_number": 7
    },
    {
     "cell_type": "code",
     "collapsed": false,
     "input": [
      "pp_loaded_doc_dict = load_dict_json('pp_doc_dict.json')\n",
      "# print pp_loaded_doc_dict"
     ],
     "language": "python",
     "metadata": {},
     "outputs": [],
     "prompt_number": 8
    },
    {
     "cell_type": "heading",
     "level": 4,
     "metadata": {},
     "source": [
      "Bar Chart del n\u00famero de documents al llarg del temps (docs \"scraped\" de la web del PP)"
     ]
    },
    {
     "cell_type": "code",
     "collapsed": false,
     "input": [
      "plot_doc_freq_bar_chart(pp_loaded_doc_dict, 'blue', xticks_freq = 60, yticks_freq = 5)"
     ],
     "language": "python",
     "metadata": {},
     "outputs": [
      {
       "metadata": {},
       "output_type": "display_data",
       "png": "[encoded data removed]",
       "text": [
        "<matplotlib.figure.Figure at 0x7a8ccf0>"
       ]
      }
     ],
     "prompt_number": 30
    },
    {
     "cell_type": "code",
     "collapsed": false,
     "input": [
      "# M\u00e8tode per descarregar els documents del diccionari de docs del PP\n",
      "def download_pp_docs(pp_doc_dict, path=\"\", overwrite = False):\n",
      "    for key in pp_doc_dict:\n",
      "        if pp_doc_dict[key]['file']==\"\" or overwrite:\n",
      "            if pp_doc_dict[key]['type'] == 'html':\n",
      "                html_page = get_html_page(pp_doc_dict[key]['url'])\n",
      "                print \"Saving: \", pp_doc_dict[key]['url']\n",
      "                file_name = pp_doc_dict[key]['name'] + '.html'\n",
      "                save_text_file(html_page, path + file_name)\n",
      "                pp_doc_dict[key]['file'] = path + file_name\n",
      "            elif pp_doc_dict[key]['type'] == 'pdf':\n",
      "                print \"Saving: \", pp_doc_dict[key]['url']\n",
      "                file_name = pp_doc_dict[key]['url'].split('/')[-1]\n",
      "                download_file(pp_doc_dict[key]['url'], file_name, path)\n",
      "                pp_doc_dict[key]['file'] = path + file_name\n",
      "            else:\n",
      "                print \"Unknown file type to download:\", pp_doc_dict[key]['type']\n",
      "    \n",
      "    print \"Updating 'pp_doc_dict'...\"            \n",
      "    save_dict_json(pp_doc_dict, 'pp_doc_dict.json')\n",
      "            \n",
      "download_pp_docs(pp_loaded_doc_dict, '../data/pp/')"
     ],
     "language": "python",
     "metadata": {},
     "outputs": []
    },
    {
     "cell_type": "heading",
     "level": 3,
     "metadata": {},
     "source": [
      "Scraping de la web de documents del PSOE"
     ]
    },
    {
     "cell_type": "code",
     "collapsed": false,
     "input": [
      "# PSOE\n",
      "\n",
      "from bs4 import BeautifulSoup\n",
      "import re\n",
      "import time\n",
      "\n",
      "t_init = time.clock()\n",
      "\n",
      "psoe_url = \"http://www.psoe.es\"\n",
      "psoe_url_docs = psoe_url + \"/ambito/saladeprensa/docs/index.do?spaceId=3753&apt=4182&apt=4182&apt=4182\"\n",
      "continue_scraping = True\n",
      "web_page = 1\n",
      "prev_num_doc = 1\n",
      "num_doc = 1\n",
      "psoe_doc_dict = {}\n",
      "\n",
      "while continue_scraping :\n",
      "    url_page = psoe_url_docs + \"&pagina={}\".format(web_page)\n",
      "\n",
      "    html_page = get_html_page(url_page)\n",
      "    if html_page is not None:\n",
      "        print \"Parsing: \" + url_page\n",
      "        soup = BeautifulSoup(html_page)\n",
      "    else:\n",
      "        break\n",
      "    \n",
      "    prev_num_doc = num_doc\n",
      "    psoe_doc_dict_page = {}\n",
      "    for div in soup.findAll('div', {'class' : 'cajita'}):\n",
      "        link = div.find_next(\"a\", attrs={'href': re.compile(\"^/saladeprensa\")})\n",
      "        url_page = psoe_url + link.get('href')\n",
      "        \n",
      "        html_page = get_html_page(url_page)\n",
      "        if html_page is not None:\n",
      "            print \"\\tParsing: \" + url_page\n",
      "            soup = BeautifulSoup(html_page)\n",
      "        else:\n",
      "            break\n",
      "        \n",
      "        div_col_cuerpo = soup.find('div', {'class' : 'col-cuerpo'})\n",
      "        link_pdf = div_col_cuerpo.find(\"a\",attrs={'href': re.compile(\".pdf$\")})\n",
      "        title_h2 = div_col_cuerpo.find(\"h2\")\n",
      "        div_fecha = div_col_cuerpo.find('div', {'class' : 'fecha'})\n",
      "        strFecha = div_fecha.getText().strip()\n",
      "        try:\n",
      "            dtDate = datetime.datetime.strptime(strFecha, \"%d/%m/%y\")\n",
      "        except ValueError as e:\n",
      "            print e, \"\\ndtDate: \", dtDate\n",
      "            continue\n",
      "        strFecha = dtDate.strftime(\"%d/%m/%Y\")\n",
      "        if link_pdf :\n",
      "            psoe_doc_dict_page[num_doc] = {'party':'PSOE', 'date':strFecha, 'url':psoe_url+link_pdf.get('href'), 'name':title_h2.getText().strip(), 'type':'pdf', 'file':''}\n",
      "        else:\n",
      "            psoe_doc_dict_page[num_doc] = {'party':'PSOE', 'date':strFecha, 'url':url_page, 'name':title_h2.getText().strip(), 'type':'html', 'file':''}\n",
      "        # print num_doc, \": \", psoe_doc_dict_page[num_doc] \n",
      "        num_doc+=1\n",
      "                            \n",
      "    # If page documents was already in the dictionary stop the scraping, otherwise add page documents\n",
      "    if (prev_num_doc> 1 and (prev_num_doc == num_doc or psoe_doc_dict[prev_num_doc-1]['url']==psoe_doc_dict_page[num_doc-1]['url'])):\n",
      "        continue_scraping = False\n",
      "        print \"Scrap finished.\"\n",
      "    else:\n",
      "        psoe_doc_dict.update(psoe_doc_dict_page)\n",
      "    \n",
      "    #\n",
      "    web_page+=1\n",
      "    \n",
      "    #\n",
      "    if (web_page > 30):\n",
      "        continue_scraping = False\n",
      "\n",
      "t_end = time.clock()\n",
      "print \"Parse finished in {0:.2f} seconds\".format(t_end-t_init)\n",
      "print \"Saving docs dictionary...\"\n",
      "save_dict_json(psoe_doc_dict, 'psoe_doc_dict.json')\n",
      "print \"Number of Documents: {}\".format(len(psoe_doc_dict))  "
     ],
     "language": "python",
     "metadata": {},
     "outputs": [
      {
       "output_type": "stream",
       "stream": "stdout",
       "text": [
        "Parsing: http://www.psoe.es/ambito/saladeprensa/docs/index.do?spaceId=3753&apt=4182&apt=4182&apt=4182&pagina=1\n",
        "\tParsing: http://www.psoe.es/saladeprensa/docs/773925/page/manifiesto-dia-internacional-la-mujer.html"
       ]
      },
      {
       "output_type": "stream",
       "stream": "stdout",
       "text": [
        "\n",
        "\tParsing: http://www.psoe.es/saladeprensa/docs/772868/page/manifiesto-psoe-dia-mundial-las-enfermaedades-raras.html"
       ]
      },
      {
       "output_type": "stream",
       "stream": "stdout",
       "text": [
        "\n",
        "\tParsing: http://www.psoe.es/saladeprensa/docs/770762/page/tres-anos-la-reforma-laboral-del-100215.html"
       ]
      },
      {
       "output_type": "stream",
       "stream": "stdout",
       "text": [
        "\n",
        "\tParsing: http://www.psoe.es/saladeprensa/docs/766092/page/intervencion-pedro-sanchez-el-plenario-del-grupo-parlamentario-socialista.html"
       ]
      },
      {
       "output_type": "stream",
       "stream": "stdout",
       "text": [
        "\n",
        "\tParsing: http://www.psoe.es/saladeprensa/docs/761930/page/manifiesto-dia-la-constitucion.html"
       ]
      },
      {
       "output_type": "stream",
       "stream": "stdout",
       "text": [
        "\n",
        "\tParsing: http://www.psoe.es/saladeprensa/docs/761266/page/intervencion-pedro-sanchez-el-foro-cinco-dias.html"
       ]
      },
      {
       "output_type": "stream",
       "stream": "stdout",
       "text": [
        "\n",
        "Parsing: http://www.psoe.es/ambito/saladeprensa/docs/index.do?spaceId=3753&apt=4182&apt=4182&apt=4182&pagina=2"
       ]
      },
      {
       "output_type": "stream",
       "stream": "stdout",
       "text": [
        "\n",
        "\tParsing: http://www.psoe.es/saladeprensa/docs/760214/page/manifiesto-del-psoe-por-dia-internacional-contra-violencia-genero.html"
       ]
      },
      {
       "output_type": "stream",
       "stream": "stdout",
       "text": [
        "\n",
        "\tParsing: http://www.psoe.es/saladeprensa/docs/758883/page/documentos-consejo-politico-federal.html"
       ]
      },
      {
       "output_type": "stream",
       "stream": "stdout",
       "text": [
        "\n",
        "\tParsing: http://www.psoe.es/saladeprensa/docs/754623/page/dia-contra-cancer-mama.html"
       ]
      },
      {
       "output_type": "stream",
       "stream": "stdout",
       "text": [
        "\n",
        "\tParsing: http://www.psoe.es/saladeprensa/docs/754423/page/manifiesto-del-psoe-por-dia-internacional-para-erradicacion-la-pobreza-2014.html"
       ]
      },
      {
       "output_type": "stream",
       "stream": "stdout",
       "text": [
        "\n",
        "\tParsing: http://www.psoe.es/saladeprensa/docs/752014/page/dia-internacional-las-personas-mayores-2014.html"
       ]
      },
      {
       "output_type": "stream",
       "stream": "stdout",
       "text": [
        "\n",
        "\tParsing: http://www.psoe.es/saladeprensa/docs/748112/page/manifiesto-del-psoe-por-dia-mundial-la-salud-sexual.html"
       ]
      },
      {
       "output_type": "stream",
       "stream": "stdout",
       "text": [
        "\n",
        "Parsing: http://www.psoe.es/ambito/saladeprensa/docs/index.do?spaceId=3753&apt=4182&apt=4182&apt=4182&pagina=3"
       ]
      },
      {
       "output_type": "stream",
       "stream": "stdout",
       "text": [
        "\n",
        "\tParsing: http://www.psoe.es/saladeprensa/docs/743734/page/congreso-extraordinario-de-julio.html"
       ]
      },
      {
       "output_type": "stream",
       "stream": "stdout",
       "text": [
        "\n",
        "\tParsing: http://www.psoe.es/saladeprensa/docs/742302/page/carta-pedro-sanchez-militancia-.html"
       ]
      },
      {
       "output_type": "stream",
       "stream": "stdout",
       "text": [
        "\n",
        "\tParsing: http://www.psoe.es/saladeprensa/docs/734122/page/programa-accesible-para-las-personas-con-discapacidad.html"
       ]
      },
      {
       "output_type": "stream",
       "stream": "stdout",
       "text": [
        "\n",
        "\tParsing: http://www.psoe.es/saladeprensa/docs/732300/page/socialista-691.html"
       ]
      },
      {
       "output_type": "stream",
       "stream": "stdout",
       "text": [
        "\n",
        "\tParsing: http://www.psoe.es/saladeprensa/docs/725922/page/-manifiesto-del-psoe-el-mayo-.html"
       ]
      },
      {
       "output_type": "stream",
       "stream": "stdout",
       "text": [
        "\n",
        "\tParsing: http://www.psoe.es/saladeprensa/docs/721663/page/manifiesto-dia-internacional-contra-discriminacion-racial.html"
       ]
      },
      {
       "output_type": "stream",
       "stream": "stdout",
       "text": [
        "\n",
        "Parsing: http://www.psoe.es/ambito/saladeprensa/docs/index.do?spaceId=3753&apt=4182&apt=4182&apt=4182&pagina=4"
       ]
      },
      {
       "output_type": "stream",
       "stream": "stdout",
       "text": [
        "\n",
        "\tParsing: http://www.psoe.es/saladeprensa/docs/719883/page/marzo.html"
       ]
      },
      {
       "output_type": "stream",
       "stream": "stdout",
       "text": [
        "\n",
        "\tParsing: http://www.psoe.es/saladeprensa/docs/718150/page/peticion-comision-investigacion-ceuta.html"
       ]
      },
      {
       "output_type": "stream",
       "stream": "stdout",
       "text": [
        "\n",
        "\tParsing: http://www.psoe.es/saladeprensa/docs/714346/page/documentos-comite-federal.html"
       ]
      },
      {
       "output_type": "stream",
       "stream": "stdout",
       "text": [
        "\n",
        "\tParsing: http://www.psoe.es/saladeprensa/docs/711836/page/diciembre-dia-internacional-las-migraciones-.html"
       ]
      },
      {
       "output_type": "stream",
       "stream": "stdout",
       "text": [
        "\n",
        "\tParsing: http://www.psoe.es/saladeprensa/docs/710323/page/psoe-denuncia-que-los-recortes-del-gobierno-del-nos-estan-conviertiendo-una-sociedad-mas-injusta-desigual-empobrecida.html"
       ]
      },
      {
       "output_type": "stream",
       "stream": "stdout",
       "text": [
        "\n",
        "\tParsing: http://www.psoe.es/saladeprensa/docs/709207/page/dia-internacional-contra-violencia-genero-de-noviembre.html"
       ]
      },
      {
       "output_type": "stream",
       "stream": "stdout",
       "text": [
        "\n",
        "Parsing: http://www.psoe.es/ambito/saladeprensa/docs/index.do?spaceId=3753&apt=4182&apt=4182&apt=4182&pagina=5"
       ]
      },
      {
       "output_type": "stream",
       "stream": "stdout",
       "text": [
        "\n",
        "\tParsing: http://www.psoe.es/saladeprensa/docs/703588/page/valoraciones-psoe-prensa-regional-los-pge-2014-.html"
       ]
      },
      {
       "output_type": "stream",
       "stream": "stdout",
       "text": [
        "\n",
        "\tParsing: http://www.psoe.es/saladeprensa/docs/701278/page/sostener-las-pensiones-publicas.html"
       ]
      },
      {
       "output_type": "stream",
       "stream": "stdout",
       "text": [
        "\n",
        "\tParsing: http://www.psoe.es/saladeprensa/docs/695066/page/documentacion-comite-federal.html"
       ]
      },
      {
       "output_type": "stream",
       "stream": "stdout",
       "text": [
        "\n",
        "\tParsing: http://www.psoe.es/saladeprensa/docs/694628/page/reunion-del-consejo-territorial.html"
       ]
      },
      {
       "output_type": "stream",
       "stream": "stdout",
       "text": [
        "\n",
        "\tParsing: http://www.psoe.es/saladeprensa/docs/688909/page/manifiesto-del-psoe-por-17-mayo-dia-internacional-contra-discriminacion-por-orientacion-sexual-identidad-genero-2013.html"
       ]
      },
      {
       "output_type": "stream",
       "stream": "stdout",
       "text": [
        "\n",
        "\tParsing: http://www.psoe.es/saladeprensa/docs/688056/page/otra-europa-posible.html"
       ]
      },
      {
       "output_type": "stream",
       "stream": "stdout",
       "text": [
        "\n",
        "Parsing: http://www.psoe.es/ambito/saladeprensa/docs/index.do?spaceId=3753&apt=4182&apt=4182&apt=4182&pagina=6"
       ]
      },
      {
       "output_type": "stream",
       "stream": "stdout",
       "text": [
        "\n",
        "\tParsing: http://www.psoe.es/saladeprensa/docs/686149/page/resumen-del-documento-del-psoe-sobre-modelo-territorial.html"
       ]
      },
      {
       "output_type": "stream",
       "stream": "stdout",
       "text": [
        "\n",
        "\tParsing: http://www.psoe.es/saladeprensa/docs/684300/page/manifiesto-dia-internacional-del-pueblo-gitano-abril.html"
       ]
      },
      {
       "output_type": "stream",
       "stream": "stdout",
       "text": [
        "\n",
        "\tParsing: http://www.psoe.es/saladeprensa/docs/682493/page/documento-firmado-por-psoe-fadsp-defensa-la-sanidad-publica-universal-calidad.html"
       ]
      },
      {
       "output_type": "stream",
       "stream": "stdout",
       "text": [
        "\n",
        "\tParsing: http://www.psoe.es/saladeprensa/docs/675754/page/presupuesto-psoe-2013.html"
       ]
      },
      {
       "output_type": "stream",
       "stream": "stdout",
       "text": [
        "\n",
        "\tParsing: http://www.psoe.es/saladeprensa/docs/675434/page/texto-recurso-inconstitucionalidad-contra-euro-por-receta.html"
       ]
      },
      {
       "output_type": "stream",
       "stream": "stdout",
       "text": [
        "\n",
        "\tParsing: http://www.psoe.es/saladeprensa/docs/673879/page/consejo-territorial-balance-oposicion-del-psoe-balance-ano-gobierno-del-psoe.html"
       ]
      },
      {
       "output_type": "stream",
       "stream": "stdout",
       "text": [
        "\n",
        "Parsing: http://www.psoe.es/ambito/saladeprensa/docs/index.do?spaceId=3753&apt=4182&apt=4182&apt=4182&pagina=7"
       ]
      },
      {
       "output_type": "stream",
       "stream": "stdout",
       "text": [
        "\n",
        "\tParsing: http://www.psoe.es/saladeprensa/docs/672351/page/manifiesto-dia-internacional-del-voluntariado.html"
       ]
      },
      {
       "output_type": "stream",
       "stream": "stdout",
       "text": [
        "\n",
        "\tParsing: http://www.psoe.es/saladeprensa/docs/671968/page/manifiesto-del-psoe-dia-internacional-las-personas-con-discapacidad.html"
       ]
      },
      {
       "output_type": "stream",
       "stream": "stdout",
       "text": [
        "\n",
        "\tParsing: http://www.psoe.es/saladeprensa/docs/667360/page/psoe-asume-mal-resultado-las-elecciones-gallegas-vascas-.html"
       ]
      },
      {
       "output_type": "stream",
       "stream": "stdout",
       "text": [
        "\n",
        "\tParsing: http://www.psoe.es/saladeprensa/docs/666587/page/manifiesto-socialista-contra-pobreza-espana-el-mundo.html"
       ]
      },
      {
       "output_type": "stream",
       "stream": "stdout",
       "text": [
        "\n",
        "\tParsing: http://www.psoe.es/saladeprensa/docs/664663/page/manifiesto-del-psoe-por-dia-internacional-las-personas-mayores.html"
       ]
      },
      {
       "output_type": "stream",
       "stream": "stdout",
       "text": [
        "\n",
        "\tParsing: http://www.psoe.es/saladeprensa/docs/664251/page/manifiesto-del-psoe-con-motivo-del-dia-mundial-por-aborto-legal-seguro-gratuito.html"
       ]
      },
      {
       "output_type": "stream",
       "stream": "stdout",
       "text": [
        "\n",
        "Parsing: http://www.psoe.es/ambito/saladeprensa/docs/index.do?spaceId=3753&apt=4182&apt=4182&apt=4182&pagina=8"
       ]
      },
      {
       "output_type": "stream",
       "stream": "stdout",
       "text": [
        "\n",
        "\tParsing: http://www.psoe.es/saladeprensa/docs/663685/page/programa-electoral-del-psdeg-para-21-octubre.html"
       ]
      },
      {
       "output_type": "stream",
       "stream": "stdout",
       "text": [
        "\n",
        "\tParsing: http://www.psoe.es/saladeprensa/docs/661333/page/adelanto-electoral-galicia-que-habra-contado-rajoy-feijoo.html"
       ]
      },
      {
       "output_type": "stream",
       "stream": "stdout",
       "text": [
        "\n",
        "\tParsing: http://www.psoe.es/saladeprensa/docs/657176/page/dos-clases-educacion-.html"
       ]
      },
      {
       "output_type": "stream",
       "stream": "stdout",
       "text": [
        "\n",
        "\tParsing: http://www.psoe.es/saladeprensa/docs/653609/page/martes-junio-2012-.html"
       ]
      },
      {
       "output_type": "stream",
       "stream": "stdout",
       "text": [
        "\n",
        "\tParsing: http://www.psoe.es/saladeprensa/docs/651234/page/prima-riesgo-maximos-historicos.html"
       ]
      },
      {
       "output_type": "stream",
       "stream": "stdout",
       "text": [
        "\n",
        "\tParsing: http://www.psoe.es/saladeprensa/docs/651149/page/manifiesto-con-motivo-del-dia-internacional-contra-homofobia-transfobia-2012.html"
       ]
      },
      {
       "output_type": "stream",
       "stream": "stdout",
       "text": [
        "\n",
        "Parsing: http://www.psoe.es/ambito/saladeprensa/docs/index.do?spaceId=3753&apt=4182&apt=4182&apt=4182&pagina=9"
       ]
      },
      {
       "output_type": "stream",
       "stream": "stdout",
       "text": [
        "\n",
        "\tParsing: http://www.psoe.es/saladeprensa/docs/650407/page/juntos-por-crecimiento-empleo.html"
       ]
      },
      {
       "output_type": "stream",
       "stream": "stdout",
       "text": [
        "\n",
        "\tParsing: http://www.psoe.es/saladeprensa/docs/646646/page/100-dias-gobierno-del.html"
       ]
      },
      {
       "output_type": "stream",
       "stream": "stdout",
       "text": [
        "\n",
        "\tParsing: http://www.psoe.es/saladeprensa/docs/644523/page/manifiesto-del-psoe-ante-dia-mundial-los-derechos-del-consumidor.html"
       ]
      },
      {
       "output_type": "stream",
       "stream": "stdout",
       "text": [
        "\n",
        "\tParsing: http://www.psoe.es/saladeprensa/docs/642831/page/programa-del-psoe-para-las-elecciones-autonomicas.html"
       ]
      },
      {
       "output_type": "stream",
       "stream": "stdout",
       "text": [
        "\n",
        "\tParsing: http://www.psoe.es/saladeprensa/docs/637422/page/organos-federales-aprobados-por-38-congreso-resultado-la-votacion.html"
       ]
      },
      {
       "output_type": "stream",
       "stream": "stdout",
       "text": [
        "\n",
        "\tParsing: http://www.psoe.es/saladeprensa/docs/622626/page/manifiesto-del-psoe-por-dia-la-constitucion.html"
       ]
      },
      {
       "output_type": "stream",
       "stream": "stdout",
       "text": [
        "\n",
        "Parsing: http://www.psoe.es/ambito/saladeprensa/docs/index.do?spaceId=3753&apt=4182&apt=4182&apt=4182&pagina=10"
       ]
      },
      {
       "output_type": "stream",
       "stream": "stdout",
       "text": [
        "\n",
        "\tParsing: http://www.psoe.es/saladeprensa/docs/619495/page/manifiesto-del-psoe-por-una-rebelion-social-contra-violencia-genero.html"
       ]
      },
      {
       "output_type": "stream",
       "stream": "stdout",
       "text": [
        "\n",
        "\tParsing: http://www.psoe.es/saladeprensa/docs/608926/page/intervencion-rubalcaba-ante-comite-federal-que-aprobado-programa-electoral-del-psoe.html"
       ]
      },
      {
       "output_type": "stream",
       "stream": "stdout",
       "text": [
        "\n",
        "\tParsing: http://www.psoe.es/saladeprensa/docs/607071/page/candidaturas-congreso-los-diputados-senado.html"
       ]
      },
      {
       "output_type": "stream",
       "stream": "stdout",
       "text": [
        "\n",
        "\tParsing: http://www.psoe.es/saladeprensa/docs/603343/page/dia-internacional-contra-explotacion-sexual-trata-seres-humanos.html"
       ]
      },
      {
       "output_type": "stream",
       "stream": "stdout",
       "text": [
        "\n",
        "\tParsing: http://www.psoe.es/saladeprensa/docs/597504/page/documento-sobre-reforma-la-constitucion.html"
       ]
      },
      {
       "output_type": "stream",
       "stream": "stdout",
       "text": [
        "\n",
        "\tParsing: http://www.psoe.es/saladeprensa/docs/582886/page/manifiesto-del-psoe-el-dia-internacional-del-orgullo-lgtb-2011.html"
       ]
      },
      {
       "output_type": "stream",
       "stream": "stdout",
       "text": [
        "\n",
        "Parsing: http://www.psoe.es/ambito/saladeprensa/docs/index.do?spaceId=3753&apt=4182&apt=4182&apt=4182&pagina=11"
       ]
      },
      {
       "output_type": "stream",
       "stream": "stdout",
       "text": [
        "\n",
        "\tParsing: http://www.psoe.es/saladeprensa/docs/576545/page/que-pp-dice-hace-que-pp-dice-pero-hace.html"
       ]
      },
      {
       "output_type": "stream",
       "stream": "stdout",
       "text": [
        "\n",
        "\tParsing: http://www.psoe.es/saladeprensa/docs/576064/page/conoce-precampana-campana-socialistas.html"
       ]
      },
      {
       "output_type": "stream",
       "stream": "stdout",
       "text": [
        "\n",
        "\tParsing: http://www.psoe.es/saladeprensa/docs/563063/page/manifiesto-por-25-aniversario-la-ley-general-sanidad.html"
       ]
      },
      {
       "output_type": "stream",
       "stream": "stdout",
       "text": [
        "\n",
        "\tParsing: http://www.psoe.es/saladeprensa/docs/558670/page/guia-campana-campanas-la-red-voluntarios.html"
       ]
      },
      {
       "output_type": "stream",
       "stream": "stdout",
       "text": [
        "\n",
        "\tParsing: http://www.psoe.es/saladeprensa/docs/553028/page/la-corrupcion-la-comunidad-valenciana.html"
       ]
      },
      {
       "output_type": "stream",
       "stream": "stdout",
       "text": [
        "\n",
        "\tParsing: http://www.psoe.es/saladeprensa/docs/548839/page/declaracion-del-psoe-con-motivo-del-aniversario-del.html"
       ]
      },
      {
       "output_type": "stream",
       "stream": "stdout",
       "text": [
        "\n",
        "Parsing: http://www.psoe.es/ambito/saladeprensa/docs/index.do?spaceId=3753&apt=4182&apt=4182&apt=4182&pagina=12"
       ]
      },
      {
       "output_type": "stream",
       "stream": "stdout",
       "text": [
        "\n",
        "\tParsing: http://www.psoe.es/saladeprensa/docs/545282/page/declaracion-santander-por-igualdad.html"
       ]
      },
      {
       "output_type": "stream",
       "stream": "stdout",
       "text": [
        "\n",
        "\tParsing: http://www.psoe.es/saladeprensa/docs/543320/page/discurso-integro-la-clausura-jose-luis-rodriguez-zapatero.html"
       ]
      },
      {
       "output_type": "stream",
       "stream": "stdout",
       "text": [
        "\n",
        "\tParsing: http://www.psoe.es/saladeprensa/docs/531452/page/manifiesto-del-psoe-el-aniversario-la-constitucion.html"
       ]
      },
      {
       "output_type": "stream",
       "stream": "stdout",
       "text": [
        "\n",
        "\tParsing: http://www.psoe.es/saladeprensa/docs/528528/page/manifiesto-del-psoe-con-motivo-del-dia-internacional-contra-violencia-genero.html"
       ]
      },
      {
       "output_type": "stream",
       "stream": "stdout",
       "text": [
        "\n",
        "\tParsing: http://www.psoe.es/saladeprensa/docs/520139/page/todos-unidos-contra-hambre.html"
       ]
      },
      {
       "output_type": "stream",
       "stream": "stdout",
       "text": [
        "\n",
        "\tParsing: http://www.psoe.es/saladeprensa/docs/476234/page/discurso-del-presidente-del-gobierno-el-pleno-del-congreso-los-diputados-para-informar-sobre.html"
       ]
      },
      {
       "output_type": "stream",
       "stream": "stdout",
       "text": [
        "\n",
        "Parsing: http://www.psoe.es/ambito/saladeprensa/docs/index.do?spaceId=3753&apt=4182&apt=4182&apt=4182&pagina=13"
       ]
      },
      {
       "output_type": "stream",
       "stream": "stdout",
       "text": [
        "\n",
        "\tParsing: http://www.psoe.es/saladeprensa/docs/448421/page/conferencia-prensa-del-presidente-del-gobierno-despues-la-reunion-del-consejo-ministros-que-aprueba-proyecto-ley-economia-sostenible.html"
       ]
      },
      {
       "output_type": "stream",
       "stream": "stdout",
       "text": [
        "\n",
        "\tParsing: http://www.psoe.es/saladeprensa/docs/428514/page/declaracion-del-presidente-del-gobierno-para-pagina-web-la-presidencia-espanola-la-union-europea-.html"
       ]
      },
      {
       "output_type": "stream",
       "stream": "stdout",
       "text": [
        "\n",
        "\tParsing: http://www.psoe.es/saladeprensa/docs/428508/page/base-documental-la-presidencia-espanola-la-union-europea.html"
       ]
      },
      {
       "output_type": "stream",
       "stream": "stdout",
       "text": [
        "\n",
        "\tParsing: http://www.psoe.es/saladeprensa/docs/428477/page/conferencia-prensa-zapatero-tras-ultima-reunion-del-ano-del-consejo-ministros.html"
       ]
      },
      {
       "output_type": "stream",
       "stream": "stdout",
       "text": [
        "\n",
        "\tParsing: http://www.psoe.es/saladeprensa/docs/428475/page/intervencion-zapatero-para-exponer-las-prioridades-la-presidencia-espanola-la-union-europea.html"
       ]
      },
      {
       "output_type": "stream",
       "stream": "stdout",
       "text": [
        "\n",
        "\tParsing: http://www.psoe.es/saladeprensa/docs/428473/page/discurso-zapatero-para-informar-sobre-estrategia-para-crecimiento-economico-sostenible.html"
       ]
      },
      {
       "output_type": "stream",
       "stream": "stdout",
       "text": [
        "\n",
        "Parsing: http://www.psoe.es/ambito/saladeprensa/docs/index.do?spaceId=3753&apt=4182&apt=4182&apt=4182&pagina=14"
       ]
      },
      {
       "output_type": "stream",
       "stream": "stdout",
       "text": [
        "\n",
        "\tParsing: http://www.psoe.es/saladeprensa/docs/403648/page/ahora-mas-que-nunca.html"
       ]
      },
      {
       "output_type": "stream",
       "stream": "stdout",
       "text": [
        "\n",
        "\tParsing: http://www.psoe.es/saladeprensa/docs/398459/page/conclusiones-.html"
       ]
      },
      {
       "output_type": "stream",
       "stream": "stdout",
       "text": [
        "\n",
        "\tParsing: http://www.psoe.es/saladeprensa/docs/396269/page/resolucion-politica-.html"
       ]
      },
      {
       "output_type": "stream",
       "stream": "stdout",
       "text": [
        "\n",
        "\tParsing: http://www.psoe.es/saladeprensa/docs/373888/page/consejo-territorial.html"
       ]
      },
      {
       "output_type": "stream",
       "stream": "stdout",
       "text": [
        "\n",
        "\tParsing: http://www.psoe.es/saladeprensa/docs/308487/page/mas-europa-mas-empleo.html"
       ]
      },
      {
       "output_type": "stream",
       "stream": "stdout",
       "text": [
        "\n",
        "\tParsing: http://www.psoe.es/saladeprensa/docs/285069/page/candidatura-manifiesto-programa-para-los-comicios-del-junio.html"
       ]
      },
      {
       "output_type": "stream",
       "stream": "stdout",
       "text": [
        "\n",
        "Parsing: http://www.psoe.es/ambito/saladeprensa/docs/index.do?spaceId=3753&apt=4182&apt=4182&apt=4182&pagina=15"
       ]
      },
      {
       "output_type": "stream",
       "stream": "stdout",
       "text": [
        "\n",
        "\tParsing: http://www.psoe.es/saladeprensa/docs/237499/page/las-personas-primero.html"
       ]
      },
      {
       "output_type": "stream",
       "stream": "stdout",
       "text": [
        "\n",
        "\tParsing: http://www.psoe.es/saladeprensa/docs/235451/page/sociedad-contra-violencia-genero.html"
       ]
      },
      {
       "output_type": "stream",
       "stream": "stdout",
       "text": [
        "\n",
        "\tParsing: http://www.psoe.es/saladeprensa/docs/232640/page/tiempo-para-politicas-socialdemocratas-.html"
       ]
      },
      {
       "output_type": "stream",
       "stream": "stdout",
       "text": [
        "\n",
        "\tParsing: http://www.psoe.es/saladeprensa/docs/222081/page/manifiesto-del-psoe-el-dia-internacional-las-personas-mayores.html"
       ]
      },
      {
       "output_type": "stream",
       "stream": "stdout",
       "text": [
        "\n",
        "\tParsing: http://www.psoe.es/saladeprensa/docs/215340/page/discurso-barack-obama-.html"
       ]
      },
      {
       "output_type": "stream",
       "stream": "stdout",
       "text": [
        "\n",
        "\tParsing: http://www.psoe.es/saladeprensa/docs/203582/page/construyendo-igualdad.html"
       ]
      },
      {
       "output_type": "stream",
       "stream": "stdout",
       "text": [
        "\n",
        "Parsing: http://www.psoe.es/ambito/saladeprensa/docs/index.do?spaceId=3753&apt=4182&apt=4182&apt=4182&pagina=16"
       ]
      },
      {
       "output_type": "stream",
       "stream": "stdout",
       "text": [
        "\n",
        "\tParsing: http://www.psoe.es/saladeprensa/docs/191091/page/ponencia-marco-para-37-congreso-federal.html"
       ]
      },
      {
       "output_type": "stream",
       "stream": "stdout",
       "text": [
        "\n",
        "\tParsing: http://www.psoe.es/saladeprensa/docs/188583/page/compromiso-con-igualdad-calidad-del-empleo-cambio-modelo-crecimiento.html"
       ]
      },
      {
       "output_type": "stream",
       "stream": "stdout",
       "text": [
        "\n",
        "\tParsing: http://www.psoe.es/saladeprensa/docs/187961/page/el-uso-los-recursos-naturales-condicionara-nuestro-futuro.html"
       ]
      },
      {
       "output_type": "stream",
       "stream": "stdout",
       "text": [
        "\n",
        "\tParsing: http://www.psoe.es/saladeprensa/docs/184157/page/videoteca-del-psoe.html"
       ]
      },
      {
       "output_type": "stream",
       "stream": "stdout",
       "text": [
        "\n",
        "\tParsing: http://www.psoe.es/saladeprensa/docs/184054/page/resolucion-del-comite-federal.html"
       ]
      },
      {
       "output_type": "stream",
       "stream": "stdout",
       "text": [
        "\n",
        "\tParsing: http://www.psoe.es/saladeprensa/docs/179705/page/valoracion-del-debate.html"
       ]
      },
      {
       "output_type": "stream",
       "stream": "stdout",
       "text": [
        "\n",
        "Parsing: http://www.psoe.es/ambito/saladeprensa/docs/index.do?spaceId=3753&apt=4182&apt=4182&apt=4182&pagina=17"
       ]
      },
      {
       "output_type": "stream",
       "stream": "stdout",
       "text": [
        "\n",
        "\tParsing: http://www.psoe.es/saladeprensa/docs/171142/page/candidaturas-socialistas-para-los-comicios-marzo.html"
       ]
      },
      {
       "output_type": "stream",
       "stream": "stdout",
       "text": [
        "\n",
        "\tParsing: http://www.psoe.es/saladeprensa/docs/170060/page/2004-2008-balance-legislatura.html"
       ]
      },
      {
       "output_type": "stream",
       "stream": "stdout",
       "text": [
        "\n",
        "\tParsing: http://www.psoe.es/saladeprensa/docs/166513/page/dia-internacional-contra-sida.html"
       ]
      },
      {
       "output_type": "stream",
       "stream": "stdout",
       "text": [
        "\n",
        "\tParsing: http://www.psoe.es/saladeprensa/docs/165247/page/nueva-prestacion-por-nacimiento-adopcion.html"
       ]
      },
      {
       "output_type": "stream",
       "stream": "stdout",
       "text": [
        "\n",
        "\tParsing: http://www.psoe.es/saladeprensa/docs/161139/page/politica-contra-pobreza.html"
       ]
      },
      {
       "output_type": "stream",
       "stream": "stdout",
       "text": [
        "\n",
        "\tParsing: http://www.psoe.es/saladeprensa/docs/165246/page/estatuto-del-trabajador-autonomo.html"
       ]
      },
      {
       "output_type": "stream",
       "stream": "stdout",
       "text": [
        "\n",
        "Parsing: http://www.psoe.es/ambito/saladeprensa/docs/index.do?spaceId=3753&apt=4182&apt=4182&apt=4182&pagina=18"
       ]
      },
      {
       "output_type": "stream",
       "stream": "stdout",
       "text": [
        "\n",
        "\tParsing: http://www.psoe.es/saladeprensa/docs/159672/page/medidas-apoyo-emancipacion-impulso-del-alquiler.html"
       ]
      },
      {
       "output_type": "stream",
       "stream": "stdout",
       "text": [
        "\n",
        "\tParsing: http://www.psoe.es/saladeprensa/docs/154927/page/psm-encara-futuro-con-voluntad-abrirse-ciudadania.html"
       ]
      },
      {
       "output_type": "stream",
       "stream": "stdout",
       "text": [
        "\n",
        "\tParsing: http://www.psoe.es/saladeprensa/docs/154254/page/hipocresia-del-2.html"
       ]
      },
      {
       "output_type": "stream",
       "stream": "stdout",
       "text": [
        "\n",
        "\tParsing: http://www.psoe.es/saladeprensa/docs/153012/page/por-europa-la-igualdad.html"
       ]
      },
      {
       "output_type": "stream",
       "stream": "stdout",
       "text": [
        "\n",
        "\tParsing: http://www.psoe.es/saladeprensa/docs/151277/page/informaciones-sobre-ruptura-la-tregua.html"
       ]
      },
      {
       "output_type": "stream",
       "stream": "stdout",
       "text": [
        "\n",
        "\tParsing: http://www.psoe.es/saladeprensa/docs/144847/page/diario-campana.html"
       ]
      },
      {
       "output_type": "stream",
       "stream": "stdout",
       "text": [
        "\n",
        "Parsing: http://www.psoe.es/ambito/saladeprensa/docs/index.do?spaceId=3753&apt=4182&apt=4182&apt=4182&pagina=19"
       ]
      },
      {
       "output_type": "stream",
       "stream": "stdout",
       "text": [
        "\n",
        "\tParsing: http://www.psoe.es/saladeprensa/docs/136508/page/igualdad-calidad-el-empleo.html"
       ]
      },
      {
       "output_type": "stream",
       "stream": "stdout",
       "text": [
        "\n",
        "\tParsing: http://www.psoe.es/saladeprensa/docs/123746/page/miramos-adelante.html"
       ]
      },
      {
       "output_type": "stream",
       "stream": "stdout",
       "text": [
        "\n",
        "\tParsing: http://www.psoe.es/saladeprensa/docs/121887/page/dia-internacional-contra-discriminacion-racial.html"
       ]
      },
      {
       "output_type": "stream",
       "stream": "stdout",
       "text": [
        "\n",
        "\tParsing: http://www.psoe.es/saladeprensa/docs/117331/page/hacia-liderazgo-reconocimiento-las-mujeres.html"
       ]
      },
      {
       "output_type": "stream",
       "stream": "stdout",
       "text": [
        "\n",
        "\tParsing: http://www.psoe.es/saladeprensa/docs/116171/page/programas-para-las-elecciones-2007.html"
       ]
      },
      {
       "output_type": "stream",
       "stream": "stdout",
       "text": [
        "\n",
        "\tParsing: http://www.psoe.es/saladeprensa/docs/99833/page/dia-mundial-las-migraciones.html"
       ]
      },
      {
       "output_type": "stream",
       "stream": "stdout",
       "text": [
        "\n",
        "Parsing: http://www.psoe.es/ambito/saladeprensa/docs/index.do?spaceId=3753&apt=4182&apt=4182&apt=4182&pagina=20"
       ]
      },
      {
       "output_type": "stream",
       "stream": "stdout",
       "text": [
        "\n",
        "\tParsing: http://www.psoe.es/saladeprensa/docs/98709/page/dia-mundial-la-abolicion-la-esclavitud.html"
       ]
      },
      {
       "output_type": "stream",
       "stream": "stdout",
       "text": [
        "\n",
        "\tParsing: http://www.psoe.es/saladeprensa/docs/97873/page/si-sabes-calles-contra-violencia-machista-.html"
       ]
      },
      {
       "output_type": "stream",
       "stream": "stdout",
       "text": [
        "\n",
        "\tParsing: http://www.psoe.es/saladeprensa/docs/97224/page/documentos-del-comite-federal.html"
       ]
      },
      {
       "output_type": "stream",
       "stream": "stdout",
       "text": [
        "\n",
        "\tParsing: http://www.psoe.es/saladeprensa/docs/94438/page/parlamento-europeo-resolucion-sobre-proceso-paz.html"
       ]
      },
      {
       "output_type": "stream",
       "stream": "stdout",
       "text": [
        "\n",
        "\tParsing: http://www.psoe.es/saladeprensa/docs/93587/page/dia-internacional-para-erradicacion-la-pobreza.html"
       ]
      },
      {
       "output_type": "stream",
       "stream": "stdout",
       "text": [
        "\n",
        "\tParsing: http://www.psoe.es/saladeprensa/docs/85620/page/dia-del-orgullo-gay.html"
       ]
      },
      {
       "output_type": "stream",
       "stream": "stdout",
       "text": [
        "\n",
        "Parsing: http://www.psoe.es/ambito/saladeprensa/docs/index.do?spaceId=3753&apt=4182&apt=4182&apt=4182&pagina=21"
       ]
      },
      {
       "output_type": "stream",
       "stream": "stdout",
       "text": [
        "\n",
        "\tParsing: http://www.psoe.es/saladeprensa/docs/81337/page/dia-internet.html"
       ]
      },
      {
       "output_type": "stream",
       "stream": "stdout",
       "text": [
        "\n",
        "\tParsing: http://www.psoe.es/saladeprensa/docs/79898/page/psoe-manifiesta-total-compromiso-con-una-reforma-laboral-que-mejore-calidad-del-trabajo-dinamismo-la-economia.html"
       ]
      },
      {
       "output_type": "stream",
       "stream": "stdout",
       "text": [
        "\n",
        "\tParsing: http://www.psoe.es/saladeprensa/docs/76447/page/dia-internacional-contra-racismo-xenofobia.html"
       ]
      },
      {
       "output_type": "stream",
       "stream": "stdout",
       "text": [
        "\n",
        "\tParsing: http://www.psoe.es/saladeprensa/docs/75576/page/convencion-municipal-documento-conclusiones.html"
       ]
      },
      {
       "output_type": "stream",
       "stream": "stdout",
       "text": [
        "\n",
        "\tParsing: http://www.psoe.es/saladeprensa/docs/75021/page/diario-la-memoria.html"
       ]
      },
      {
       "output_type": "stream",
       "stream": "stdout",
       "text": [
        "\n",
        "\tParsing: http://www.psoe.es/saladeprensa/docs/70543/page/resolucion-del-comite-federal-del-psoe.html"
       ]
      },
      {
       "output_type": "stream",
       "stream": "stdout",
       "text": [
        "\n",
        "Parsing: http://www.psoe.es/ambito/saladeprensa/docs/index.do?spaceId=3753&apt=4182&apt=4182&apt=4182&pagina=22"
       ]
      },
      {
       "output_type": "stream",
       "stream": "stdout",
       "text": [
        "\n",
        "\tParsing: http://www.psoe.es/saladeprensa/docs/68418/page/congreso-los-diputados-enmiendas-del-grupo-socialista-propuesta-reforma-del-estatuto-cataluna.html"
       ]
      },
      {
       "output_type": "stream",
       "stream": "stdout",
       "text": [
        "\n",
        "\tParsing: http://www.psoe.es/saladeprensa/docs/66824/page/voluntariado-bandera-compromiso-social.html"
       ]
      },
      {
       "output_type": "stream",
       "stream": "stdout",
       "text": [
        "\n",
        "\tParsing: http://www.psoe.es/saladeprensa/docs/66451/page/detener-sida-manteniendo-compromiso.html"
       ]
      },
      {
       "output_type": "stream",
       "stream": "stdout",
       "text": [
        "\n",
        "\tParsing: http://www.psoe.es/saladeprensa/docs/62683/page/conclusiones-generales-del-dictamen-sobre-propuesta-reforma-del-estatuto-cataluna.html"
       ]
      },
      {
       "output_type": "stream",
       "stream": "stdout",
       "text": [
        "\n",
        "\tParsing: http://www.psoe.es/saladeprensa/docs/60500/page/las-cuentas-del-psoe-donaciones.html"
       ]
      },
      {
       "output_type": "stream",
       "stream": "stdout",
       "text": [
        "\n",
        "\tParsing: http://www.psoe.es/saladeprensa/docs/54224/page/congreso-los-diputados.html"
       ]
      },
      {
       "output_type": "stream",
       "stream": "stdout",
       "text": [
        "\n",
        "Parsing: http://www.psoe.es/ambito/saladeprensa/docs/index.do?spaceId=3753&apt=4182&apt=4182&apt=4182&pagina=23"
       ]
      },
      {
       "output_type": "stream",
       "stream": "stdout",
       "text": [
        "\n",
        "\tParsing: http://www.psoe.es/saladeprensa/docs/51113/page/mayo.html"
       ]
      },
      {
       "output_type": "stream",
       "stream": "stdout",
       "text": [
        "\n",
        "\tParsing: http://www.psoe.es/saladeprensa/docs/49642/page/dia-internacional-del-pueblo-gitano.html"
       ]
      },
      {
       "output_type": "stream",
       "stream": "stdout",
       "text": [
        "\n",
        "\tParsing: http://www.psoe.es/saladeprensa/docs/48561/page/dia-forestal-mundial.html"
       ]
      },
      {
       "output_type": "stream",
       "stream": "stdout",
       "text": [
        "\n",
        "\tParsing: http://www.psoe.es/saladeprensa/docs/48044/page/sociedad-consumo-sociedad-los-consumidores.html"
       ]
      },
      {
       "output_type": "stream",
       "stream": "stdout",
       "text": [
        "\n",
        "\tParsing: http://www.psoe.es/saladeprensa/docs/47486/page/aniversario-los-atentados-del-de-marzo.html"
       ]
      },
      {
       "output_type": "stream",
       "stream": "stdout",
       "text": [
        "\n",
        "\tParsing: http://www.psoe.es/saladeprensa/docs/44848/page/conclusiones-la-jornada-parlamento-democracia.html"
       ]
      },
      {
       "output_type": "stream",
       "stream": "stdout",
       "text": [
        "\n",
        "Parsing: http://www.psoe.es/ambito/saladeprensa/docs/index.do?spaceId=3753&apt=4182&apt=4182&apt=4182&pagina=24"
       ]
      },
      {
       "output_type": "stream",
       "stream": "stdout",
       "text": [
        "\n",
        "Scrap finished."
       ]
      },
      {
       "output_type": "stream",
       "stream": "stdout",
       "text": [
        "\n",
        "Parse finished in 125.12 seconds\n",
        "Saving docs dictionary...\n",
        "Number of Documents: 138\n"
       ]
      }
     ],
     "prompt_number": 7
    },
    {
     "cell_type": "code",
     "collapsed": false,
     "input": [
      "psoe_loaded_doc_dict = load_dict_json('psoe_doc_dict.json')\n",
      "# print psoe_loaded_doc_dict"
     ],
     "language": "python",
     "metadata": {},
     "outputs": [],
     "prompt_number": 8
    },
    {
     "cell_type": "heading",
     "level": 4,
     "metadata": {},
     "source": [
      "Bar Chart del n\u00famero de documents al llarg del temps (docs \"scraped\" de la web del PSOE)"
     ]
    },
    {
     "cell_type": "code",
     "collapsed": false,
     "input": [
      "plot_doc_freq_bar_chart(psoe_loaded_doc_dict, 'red', xticks_freq = 90)"
     ],
     "language": "python",
     "metadata": {},
     "outputs": [
      {
       "metadata": {},
       "output_type": "display_data",
       "png": "[encoded data removed]",
       "text": [
        "<matplotlib.figure.Figure at 0x3e481d0>"
       ]
      }
     ],
     "prompt_number": 9
    },
    {
     "cell_type": "code",
     "collapsed": false,
     "input": [
      "# M\u00e8tode per descarregar els documents del diccionari de docs del PSOE\n",
      "def download_psoe_docs(psoe_doc_dict, path=\"\", overwrite = False):\n",
      "    for key in psoe_doc_dict:\n",
      "        if psoe_doc_dict[key]['file']==\"\" or overwrite:\n",
      "            if psoe_doc_dict[key]['type'] == 'html':\n",
      "                html_page = get_html_page(psoe_doc_dict[key]['url'])\n",
      "                if html_page:\n",
      "                    print \"Parsing: \" + url_page\n",
      "                else:\n",
      "                    continue\n",
      "\n",
      "                soup = BeautifulSoup(html_page)\n",
      "                div_body_detall = soup.find('div', {'class' : 'body_detall'})\n",
      "                if div_body_detall:\n",
      "                    print \"Saving: \", psoe_doc_dict[key]['url']\n",
      "                    # print div_body_detall.getText()\n",
      "                    file_name = del_invalid_chars(psoe_doc_dict[key]['name'] + '.html', invalid_filename_chars_windows)\n",
      "                    save_text_file(div_body_detall.getText(), path + file_name)\n",
      "                    psoe_doc_dict[key]['file'] = path + file_name\n",
      "                else:\n",
      "                    print \"ERROR: No trobat detall del doc: \" + url_page\n",
      "            elif psoe_doc_dict[key]['type'] == 'pdf':\n",
      "                print \"Saving: \", psoe_doc_dict[key]['url']\n",
      "                file_name = psoe_doc_dict[key]['url'].split('/')[-1]\n",
      "                download_file(psoe_doc_dict[key]['url'], file_name, path)\n",
      "                psoe_doc_dict[key]['file'] = path + file_name\n",
      "            else:\n",
      "                print \"Unknown file type to download:\", psoe_doc_dict[key]['type']\n",
      "\n",
      "    print \"Updating 'psoe_doc_dict'...\"\n",
      "    save_dict_json(psoe_doc_dict, 'psoe_doc_dict.json')\n",
      "            \n",
      "download_psoe_docs(psoe_loaded_doc_dict, '../data/psoe/')"
     ],
     "language": "python",
     "metadata": {},
     "outputs": []
    },
    {
     "cell_type": "heading",
     "level": 3,
     "metadata": {},
     "source": [
      "Scraping de la web de documents de Podemos"
     ]
    },
    {
     "cell_type": "code",
     "collapsed": false,
     "input": [
      "# Podemos\n",
      "\n",
      "t_init = time.clock()\n",
      "\n",
      "podemos_url = \"http://podemos.info\"\n",
      "podemos_url_docs = podemos_url + \"/prensa\"\n",
      "continue_scraping = True\n",
      "web_page = 1\n",
      "prev_num_doc = 1\n",
      "num_doc = 1\n",
      "podemos_doc_dict = {}\n",
      "\n",
      "while continue_scraping :\n",
      "    url_page = podemos_url_docs + \"/page/{}/\".format(web_page)\n",
      "\n",
      "    html_page = get_html_page(url_page)\n",
      "    if html_page is not None:\n",
      "        print \"Parsing: \" + url_page\n",
      "        soup = BeautifulSoup(html_page)\n",
      "    else:\n",
      "        break\n",
      "    \n",
      "    prev_num_doc = num_doc\n",
      "    podemos_doc_dict_page = {}\n",
      "    for div in soup.findAll('div', {'class' : 'col_x3_x1'}):\n",
      "        link = div.find_next(\"a\", attrs={'href': re.compile(\"^\"+podemos_url_docs)})\n",
      "        if link:\n",
      "            url_page = link.get('href')\n",
      "            \n",
      "            html_page = get_html_page(url_page)\n",
      "            if html_page is not None:\n",
      "                print \"\\tParsing: \" + url_page\n",
      "                soup = BeautifulSoup(html_page)\n",
      "            else:\n",
      "                break\n",
      "\n",
      "            div_content = soup.find('div', {'id' : 'content'})\n",
      "            title_h1 = div_content.find(\"h1\")\n",
      "            div_sidebar = soup.find('div', {'class' : 'struct_txt_content_sidebar_info'})\n",
      "            p_fecha = div_sidebar.find_next('strong')\n",
      "            strFecha = p_fecha.getText().strip().rsplit(' ', 1)[0]\n",
      "            dtDate = datetime.datetime.strptime(strFecha, \"%d/%b/%Y\")\n",
      "            strFecha = dtDate.strftime(\"%d/%m/%Y\")\n",
      "            p_autor = div_sidebar.find_next('strong')\n",
      "            podemos_doc_dict_page[num_doc] = {'party':'Podemos', 'date':strFecha, 'url':url_page, 'name':title_h1.getText().strip(), 'type':'html', 'file':''}\n",
      "            # print num_doc, \": \", podemos_doc_dict_page[num_doc] \n",
      "            num_doc+=1\n",
      "                            \n",
      "    # If page documents was already in the dictionary stop the scraping, otherwise add page documents\n",
      "    if (prev_num_doc> 1 and (prev_num_doc == num_doc or podemos_doc_dict[prev_num_doc-1]['url']==podemos_doc_dict_page[num_doc-1]['url'])):\n",
      "        continue_scraping = False\n",
      "        print \"Scrap finished.\"\n",
      "    else:\n",
      "        podemos_doc_dict.update(podemos_doc_dict_page)\n",
      "    \n",
      "    #\n",
      "    web_page+=1\n",
      "    \n",
      "    #\n",
      "    if (web_page > 5):\n",
      "        continue_scraping = False\n",
      "\n",
      "t_end = time.clock()\n",
      "print \"Parse finished in {0:.2f} seconds\".format(t_end-t_init)\n",
      "print \"Saving docs dictionary...\"\n",
      "save_dict_json(podemos_doc_dict, 'podemos_doc_dict.json')\n",
      "print \"Number of Documents: {}\".format(len(podemos_doc_dict))"
     ],
     "language": "python",
     "metadata": {},
     "outputs": [
      {
       "output_type": "stream",
       "stream": "stdout",
       "text": [
        "Parsing: http://podemos.info/prensa/page/1/\n",
        "\tParsing: http://podemos.info/prensa/los-grupos-parlamentarios-espanoles-de-la-eurocamara-sin-el-pp-y-upyd-exigen-la-paralizacion-inmediata-de-los-desahucios-en-curso/"
       ]
      },
      {
       "output_type": "stream",
       "stream": "stdout",
       "text": [
        "\n",
        "\tParsing: http://podemos.info/prensa/lola-sanchez-ruedademasas-15072014-plaza-podemos-info/"
       ]
      },
      {
       "output_type": "stream",
       "stream": "stdout",
       "text": [
        "\n",
        "\tParsing: http://podemos.info/prensa/solidaridad-con-carmen-y-carlos-desde-podemos/"
       ]
      },
      {
       "output_type": "stream",
       "stream": "stdout",
       "text": [
        "\n",
        "\tParsing: http://podemos.info/prensa/carlos-jimenez-villarejo-ruedademasas-28062014-plaza-podemos-info/"
       ]
      },
      {
       "output_type": "stream",
       "stream": "stdout",
       "text": [
        "\n",
        "\tParsing: http://podemos.info/prensa/ante-las-acusaciones-publicadas-por-el-mundo-el-30062014/"
       ]
      },
      {
       "output_type": "stream",
       "stream": "stdout",
       "text": [
        "\n",
        "\tParsing: http://podemos.info/prensa/pablo-echenique-ruedademasas-2/"
       ]
      },
      {
       "output_type": "stream",
       "stream": "stdout",
       "text": [
        "\n",
        "\tParsing: http://podemos.info/prensa/comunicado-de-podemos-sobre-la-noticia-de-el-pais/"
       ]
      },
      {
       "output_type": "stream",
       "stream": "stdout",
       "text": [
        "\n",
        "\tParsing: http://podemos.info/prensa/reflexiones-sobre-el-14-j-y-propuestas/"
       ]
      },
      {
       "output_type": "stream",
       "stream": "stdout",
       "text": [
        "\n",
        "\tParsing: http://podemos.info/prensa/comunicado-abdicacion/"
       ]
      },
      {
       "output_type": "stream",
       "stream": "stdout",
       "text": [
        "\n",
        "\tParsing: http://podemos.info/prensa/podemos-en-apoyo-al-multireferendum/"
       ]
      },
      {
       "output_type": "stream",
       "stream": "stdout",
       "text": [
        "\n",
        "Parsing: http://podemos.info/prensa/page/2/"
       ]
      },
      {
       "output_type": "stream",
       "stream": "stdout",
       "text": [
        "\n",
        "\tParsing: http://podemos.info/prensa/pablo-iglesias-presenta-la-candidatura-de-podemos-en-leganes/"
       ]
      },
      {
       "output_type": "stream",
       "stream": "stdout",
       "text": [
        "\n",
        "\tParsing: http://podemos.info/prensa/compromiso-con-la-transparencia-y-la-pluralidad-en-los-debates-electorales/"
       ]
      },
      {
       "output_type": "stream",
       "stream": "stdout",
       "text": [
        "\n",
        "\tParsing: http://podemos.info/prensa/pablo-iglesias-emplaza-al-resto-de-partidos-a-hacer-publicas-sus-presupuestos-de-campana-y-el-origen-del-dinero-2/"
       ]
      },
      {
       "output_type": "stream",
       "stream": "stdout",
       "text": [
        "\n",
        "\tParsing: http://podemos.info/prensa/un-sondeo-acentua-la-caida-de-los-dos-grandes-partidos-espanoles/"
       ]
      },
      {
       "output_type": "stream",
       "stream": "stdout",
       "text": [
        "\n",
        "\tParsing: http://podemos.info/prensa/declaracion-de-pablo-iglesias-por-el-asesinato-de-la-presidenta-de-la-diputacion-de-leon/"
       ]
      },
      {
       "output_type": "stream",
       "stream": "stdout",
       "text": [
        "\n",
        "\tParsing: http://podemos.info/prensa/el-actor-alberto-san-juan-explica-las-primarias-abiertas-de-podemos/"
       ]
      },
      {
       "output_type": "stream",
       "stream": "stdout",
       "text": [
        "\n",
        "\tParsing: http://podemos.info/prensa/pablo-iglesias-se-reune-con-el-presidente-del-sindicato-de-tecnicos-de-hacienda-gestha/"
       ]
      },
      {
       "output_type": "stream",
       "stream": "stdout",
       "text": [
        "\n",
        "We failed to reach a server. URL: http://podemos.info/prensa/page/3/"
       ]
      },
      {
       "output_type": "stream",
       "stream": "stdout",
       "text": [
        "\n",
        "Reason:  Not Found\n",
        "Parse finished in 40.34 seconds\n",
        "Saving docs dictionary...\n",
        "Number of Documents: 17\n"
       ]
      }
     ],
     "prompt_number": 22
    },
    {
     "cell_type": "code",
     "collapsed": false,
     "input": [
      "podemos_loaded_doc_dict = load_dict_json('podemos_doc_dict.json')\n",
      "# print pp_loaded_doc_dict"
     ],
     "language": "python",
     "metadata": {},
     "outputs": [],
     "prompt_number": 31
    },
    {
     "cell_type": "heading",
     "level": 4,
     "metadata": {},
     "source": [
      "Bar Chart del n\u00famero de documents al llarg del temps (docs \"scraped\" de la web de Podemos)"
     ]
    },
    {
     "cell_type": "code",
     "collapsed": false,
     "input": [
      "plot_doc_freq_bar_chart(podemos_loaded_doc_dict, 'green')"
     ],
     "language": "python",
     "metadata": {},
     "outputs": [
      {
       "metadata": {},
       "output_type": "display_data",
       "png": "[encoded data removed]",
       "text": [
        "<matplotlib.figure.Figure at 0x83fc9d0>"
       ]
      }
     ],
     "prompt_number": 32
    },
    {
     "cell_type": "code",
     "collapsed": false,
     "input": [
      "# M\u00e8tode per descarregar els documents del diccionari de docs de Podemos\n",
      "def download_podemos_docs(podemos_doc_dict, path=\"\", overwrite=False):\n",
      "    for key in podemos_doc_dict:\n",
      "        if podemos_doc_dict[key]['file']==\"\" or overwrite:\n",
      "            if podemos_doc_dict[key]['type'] == 'html':\n",
      "                html_page = get_html_page(podemos_doc_dict[key]['url'])\n",
      "                if html_page:\n",
      "                    print \"Parsing: \" + url_page\n",
      "                else:\n",
      "                    continue\n",
      "\n",
      "                soup = BeautifulSoup(html_page)\n",
      "                div_struct_txt = soup.find('div', {'id' : 'struct_txt'})\n",
      "                if div_struct_txt:\n",
      "                    # Neteja del doc eliminant parts\n",
      "                    div_share = div_struct_txt.find('div', {'class' : 'articles_txt_share_bottom_box'})\n",
      "                    div_share.extract()\n",
      "                    div_left = div_struct_txt.find('div', {'class' : 'left_nav'})\n",
      "                    div_left.extract()\n",
      "                    print \"Saving: \", podemos_doc_dict[key]['url']\n",
      "                    # print div_struct_txt\n",
      "                    filename = del_invalid_chars(podemos_doc_dict[key]['name'] + '.html', invalid_filename_chars_windows)\n",
      "                    save_text_file(div_struct_txt, path + filename)\n",
      "                    podemos_doc_dict[key]['file'] = path + filename\n",
      "                else:\n",
      "                    print \"ERROR: No trobat detall del doc: \" + url_page\n",
      "            elif podemos_doc_dict[key]['type'] == 'pdf':\n",
      "                print \"Saving: \", podemos_doc_dict[key]['url']\n",
      "                file_name = psoe_doc_dict[key]['url'].split('/')[-1]\n",
      "                download_file(podemos_doc_dict[key]['url'], file_name, path)\n",
      "                podemos_doc_dict[key]['file'] = path + filename\n",
      "            else:\n",
      "                print \"Unknown file type to download:\", podemos_doc_dict[key]['type']\n",
      "            \n",
      "    print \"Updating 'podemos_doc_dict'...\"\n",
      "    save_dict_json(podemos_doc_dict, 'podemos_doc_dict.json')\n",
      "    \n",
      "download_podemos_docs(podemos_loaded_doc_dict, '../data/podemos/')"
     ],
     "language": "python",
     "metadata": {},
     "outputs": []
    },
    {
     "cell_type": "heading",
     "level": 2,
     "metadata": {},
     "source": [
      "Saving parsed docs to MongoDB [ under construction...   ^__^  ]"
     ]
    },
    {
     "cell_type": "code",
     "collapsed": false,
     "input": [
      "import pymongo\n",
      "\n",
      "# Connection to Mongo DB\n",
      "try:\n",
      "    conn=pymongo.MongoClient()\n",
      "    print \"Connected successfully!!!\"\n",
      "except pymongo.errors.ConnectionFailure, e:\n",
      "   print \"Could not connect to MongoDB: %s\" % e \n",
      "conn\n",
      "print conn.database_names()\n"
     ],
     "language": "python",
     "metadata": {},
     "outputs": []
    },
    {
     "cell_type": "code",
     "collapsed": false,
     "input": [
      "db = conn['crawlerDB']\n",
      "print db.collection_names()\n",
      "collection = db['http://hunch.netDB']"
     ],
     "language": "python",
     "metadata": {},
     "outputs": []
    },
    {
     "cell_type": "code",
     "collapsed": false,
     "input": [
      "print collection.count()\n",
      "\n",
      "for d in collection.find():\n",
      "    print d"
     ],
     "language": "python",
     "metadata": {},
     "outputs": []
    },
    {
     "cell_type": "code",
     "collapsed": false,
     "input": [
      "collection.find({\"date\":\"16/10/2014\"}).count()"
     ],
     "language": "python",
     "metadata": {},
     "outputs": []
    },
    {
     "cell_type": "code",
     "collapsed": false,
     "input": [
      "collection.find({\"date\":{\"$gte\":\"01/01/2014\"}}).count()"
     ],
     "language": "python",
     "metadata": {},
     "outputs": []
    },
    {
     "cell_type": "code",
     "collapsed": false,
     "input": [],
     "language": "python",
     "metadata": {},
     "outputs": []
    },
    {
     "cell_type": "code",
     "collapsed": false,
     "input": [],
     "language": "python",
     "metadata": {},
     "outputs": []
    }
   ],
   "metadata": {}
  }
 ]
}