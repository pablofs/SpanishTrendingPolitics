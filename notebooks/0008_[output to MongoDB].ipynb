{
 "metadata": {
  "name": "",
  "signature": "sha256:0f26d73764f153f296d4318ec331daf67db9925392d9ebd57cae0860fbf6e04f"
 },
 "nbformat": 3,
 "nbformat_minor": 0,
 "worksheets": [
  {
   "cells": [
    {
     "cell_type": "heading",
     "level": 1,
     "metadata": {},
     "source": [
      "Scraping"
     ]
    },
    {
     "cell_type": "heading",
     "level": 3,
     "metadata": {},
     "source": [
      "M\u00e8todes i utilitats"
     ]
    },
    {
     "cell_type": "code",
     "collapsed": false,
     "input": [
      "from urllib2 import Request, urlopen, URLError\n",
      "\n",
      "# M\u00e8tode per obtenir una p\u00e0gina web\n",
      "def get_html_page(url_page):\n",
      "    req = Request(url_page)\n",
      "    try:\n",
      "        html_page = urlopen(req)\n",
      "    except URLError as e:\n",
      "        if hasattr(e, 'reason'):\n",
      "            print 'We failed to reach a server. URL: ' + url_page\n",
      "            print 'Reason: ', e.reason\n",
      "        elif hasattr(e, 'code'):\n",
      "            print 'The server couldn\\'t fulfill the request. URL: ' + url_page\n",
      "            print 'Error code: ', e.code\n",
      "    else:\n",
      "        # everything is fine\n",
      "        return html_page"
     ],
     "language": "python",
     "metadata": {},
     "outputs": [],
     "prompt_number": 1
    },
    {
     "cell_type": "code",
     "collapsed": false,
     "input": [
      "# http://stackoverflow.com/questions/7100125/storing-python-dictionaries\n",
      "\n",
      "import json\n",
      "from bson import json_util\n",
      "import yaml\n",
      "\n",
      "# http://api.mongodb.org/python/1.10.1/api/bson/json_util.html\n",
      "# M\u00e8todes per grabar y carregar fitxers en format json\n",
      "def save_dict_json(dict, filename):\n",
      "    with open(filename, 'wb') as fp:\n",
      "        json.dump(dict, fp, default=json_util.default)\n",
      "\n",
      "def load_dict_json(filename):\n",
      "    with open(filename, 'rb') as fp:\n",
      "        return json.load(fp, object_hook=json_util.object_hook)\n",
      "\n",
      "# http://stackoverflow.com/questions/956867/how-to-get-string-objects-instead-of-unicode-ones-from-json-in-python\n",
      "def load_dict_yaml(filename):\n",
      "    with open(filename, 'rb') as fp:\n",
      "        return yaml.load(fp)\n",
      "    \n",
      "# M\u00e8tode per grabar un fitxer de texte\n",
      "def save_text_file(text, file_name, encoding = 'utf-8'):\n",
      "    with open(file_name, \"w\") as text_file:\n",
      "        if encoding:\n",
      "            text_file.write(text.encode(encoding))\n",
      "        else:\n",
      "            text_file.write(text)\n",
      "            \n",
      "# M\u00e8tode per grabar un fitxer de texte\n",
      "def save_list_text_file(text_list, file_name):\n",
      "    with open(file_name, \"w\") as text_file:\n",
      "        for item in text_list:\n",
      "            text_file.write(\"%s\\n\" % item)\n",
      "        \n",
      "# M\u00e8tode per carregar un fitxer de texte\n",
      "def load_text_file(file_name, encoding = 'utf-8'):\n",
      "    with open(file_name, \"r\") as text_file:\n",
      "        if encoding:\n",
      "            return text_file.read().decode(encoding)\n",
      "        else:\n",
      "            return text_file.read()\n",
      "        \n",
      "# M\u00e8tode per eliminar caracters incorrectes als noms de fitxers (potser millor utilitzar: https://pypi.python.org/pypi/goldfinch/0.4)\n",
      "invalid_filename_chars_windows = '\\/:*?\"<>|'\n",
      "def del_invalid_chars(value, deletechars):\n",
      "    for c in deletechars:\n",
      "        value = value.replace(c,'')\n",
      "    return value;\n",
      "\n",
      "import datetime\n",
      "\n",
      "# M\u00e8tode per cambiar de format de data\n",
      "def format_date(strFecha, format_1, format_2):\n",
      "    dtDate = datetime.datetime.strptime(strFecha, format_1)\n",
      "    return dtDate.strftime(format_2)"
     ],
     "language": "python",
     "metadata": {},
     "outputs": [],
     "prompt_number": 2
    },
    {
     "cell_type": "code",
     "collapsed": false,
     "input": [
      "def get_text_between( s, first, last, include_limits = False, first_ocurrences = True ):\n",
      "    try:\n",
      "        if first_ocurrences:\n",
      "            if include_limits:\n",
      "                start = s.index( first )\n",
      "                end = s.rindex( last, start ) + len(last)\n",
      "                return s[start:end]\n",
      "            else:\n",
      "                start = s.index( first ) + len( first )\n",
      "                end = s.rindex( last, start ) \n",
      "            return s[start:end]\n",
      "        else: \n",
      "            # look for last ocurrences of first and last\n",
      "            if include_limits:\n",
      "                start = s.rindex( first )\n",
      "                end = s.index( last ) + len(last)\n",
      "                return s[start:end]\n",
      "            else:\n",
      "                start = s.rindex( first ) + len( first )\n",
      "                end = s.index( last ) \n",
      "            return s[start:end]            \n",
      "    except ValueError:\n",
      "        return \"\"\n",
      "    \n",
      "def remove_text_between( s, first, last, include_limits = False ):\n",
      "    try:\n",
      "        if include_limits:\n",
      "            start = s.index( first ) + len( first )\n",
      "            end = s.index( last, start ) \n",
      "            return s[:start] + s[end:] \n",
      "        else:\n",
      "            start = s.index( first )\n",
      "            end = s.index( last, start ) + len(last)\n",
      "            return s[:start] + s[end:]\n",
      "    except ValueError:\n",
      "        return \"\"\n",
      "    \n",
      "def remove_spaces_and_newline(s):\n",
      "    return re.sub(r'\\s+', ' ', s.replace('\\n',''))"
     ],
     "language": "python",
     "metadata": {},
     "outputs": [],
     "prompt_number": 3
    },
    {
     "cell_type": "code",
     "collapsed": false,
     "input": [
      "# http://stackoverflow.com/questions/22676/how-do-i-download-a-file-over-http-using-python/22776#22776\n",
      "# http://blog.radevic.com/2012/07/python-download-url-to-file-with.html\n",
      "\n",
      "import urllib2\n",
      "import sys\n",
      "\n",
      "# M\u00e8tode per descarregar fitxers d'una url\n",
      "def download_file(url, file_name, path = \"\", verbose = False):\n",
      "    u = urllib2.urlopen(url)\n",
      "    f = open(path+file_name, 'wb')\n",
      "    meta = u.info()\n",
      "    file_size = int(meta.getheaders(\"Content-Length\")[0])\n",
      "    if verbose:\n",
      "        print(\"Downloading: {0} Bytes: {1}\".format(url, file_size))\n",
      "\n",
      "    file_size_dl = 0\n",
      "    block_sz = 8192\n",
      "    while True:\n",
      "        buffer = u.read(block_sz)\n",
      "        if not buffer:\n",
      "            break\n",
      "\n",
      "        file_size_dl += len(buffer)\n",
      "        f.write(buffer)\n",
      "        \n",
      "        if verbose:\n",
      "            p = float(file_size_dl) / file_size\n",
      "            status = \"\\r{0} bytes  [{1:.2%}]\".format(file_size_dl, p)\n",
      "            status = status + chr(8)*(len(status)+1)\n",
      "            sys.stdout.write(status)\n",
      "            sys.stdout.flush()\n",
      "\n",
      "            # done = int(50 * file_size_dl / file_size)\n",
      "            # sys.stdout.write(\"\\r[%s%s]\" % ('=' * done, ' ' * (50-done)) )    \n",
      "            # sys.stdout.flush()\n",
      "\n",
      "    f.close()\n",
      "    print(\"\\n\")\n",
      "\n",
      "# url = 'http://www.pp.es/sites/default/files/documentos/pr_den_2015.pdf'\n",
      "# file_name = url.split('/')[-1]    \n",
      "# download_file(url, file_name,'../data/pp/')"
     ],
     "language": "python",
     "metadata": {},
     "outputs": [],
     "prompt_number": 4
    },
    {
     "cell_type": "code",
     "collapsed": false,
     "input": [
      "# http://stackoverflow.com/questions/26494211/extracting-text-from-a-pdf-file-using-pdfminer-in-python\n",
      "\n",
      "from pdfminer.pdfinterp import PDFResourceManager, PDFPageInterpreter\n",
      "from pdfminer.converter import TextConverter\n",
      "from pdfminer.layout import LAParams\n",
      "from pdfminer.pdfpage import PDFPage\n",
      "from cStringIO import StringIO\n",
      "\n",
      "def convert_pdf_to_txt(path, codec = 'utf-8'):\n",
      "    rsrcmgr = PDFResourceManager()\n",
      "    retstr = StringIO()\n",
      "    laparams = LAParams()\n",
      "    device = TextConverter(rsrcmgr, retstr, codec=codec, laparams=laparams)\n",
      "    fp = file(path, 'rb')\n",
      "    interpreter = PDFPageInterpreter(rsrcmgr, device)\n",
      "    password = \"\"\n",
      "    maxpages = 0\n",
      "    caching = True\n",
      "    pagenos=set()\n",
      "\n",
      "    for page in PDFPage.get_pages(fp, pagenos, maxpages=maxpages, password=password,caching=caching, check_extractable=True):\n",
      "        interpreter.process_page(page)\n",
      "\n",
      "    text = retstr.getvalue()\n",
      "\n",
      "    fp.close()\n",
      "    device.close()\n",
      "    retstr.close()\n",
      "    \n",
      "    # http://stackoverflow.com/questions/25315566/unicodedecodeerror-in-nltks-word-tokenize-despite-i-forced-the-encoding\n",
      "    text = text.decode(codec)\n",
      "    return text"
     ],
     "language": "python",
     "metadata": {},
     "outputs": [],
     "prompt_number": 5
    },
    {
     "cell_type": "code",
     "collapsed": false,
     "input": [
      "print convert_pdf_to_txt('CIS/docs/19991126_doc.pdf')"
     ],
     "language": "python",
     "metadata": {},
     "outputs": [
      {
       "output_type": "stream",
       "stream": "stdout",
       "text": [
        " \n",
        " \n",
        " \n",
        " \n",
        " \n",
        " \n",
        "\n",
        " \n",
        "\n",
        "BAR\u00d3METRO DE NOVIEMBRE \n",
        "\n",
        " \n",
        "\n",
        "Estudio n\u00ba 2.376 \n",
        "Noviembre 1999 \n",
        "\n",
        " \n",
        " \n",
        " \n",
        " \n",
        " \n",
        " \n",
        " \n",
        " \n",
        " \n",
        " \n",
        " \n",
        " \n",
        " \n",
        "\n",
        " \n",
        "\n",
        "\f",
        " \n",
        " \n",
        " \n",
        " \n",
        " \n",
        " \n",
        "\n",
        " \n",
        "\n",
        " \n",
        " \n",
        " \n",
        " \n",
        " \n",
        " \n",
        " \n",
        " \n",
        " \n",
        " \n",
        " \n",
        " \n",
        " \n",
        " \n",
        " \n",
        " \n",
        " \n",
        " \n",
        " \n",
        " \n",
        " \n",
        " \n",
        " \n",
        " \n",
        " \n",
        " \n",
        " \n",
        " \n",
        " \n",
        " \n",
        " \n",
        " \n",
        "\n",
        " \n",
        "\n",
        "FICHA T\u00c9CNICA \n",
        "\n",
        "BAR\u00d3METRO DE NOVIEMBRE \n",
        "\n",
        " \n",
        "\n",
        " \n",
        "\n",
        "Estudio n\u00ba 2.376 \n",
        "Noviembre 1999 \n",
        "\n",
        "\f",
        "Noviembre 1999 \n",
        "\n",
        " \n",
        "CIS \n",
        "Estudio n\u00ba 2.376. Bar\u00f3metro de noviembre \n",
        " \n",
        " \n",
        " \n",
        " \n",
        "\u00c1mbito: \n",
        " \n",
        "Nacional. Se incluyen las provincias insulares y se excluyen Ceuta y Melilla. \n",
        " \n",
        " \n",
        "Universo: \n",
        " \n",
        "Poblaci\u00f3n espa\u00f1ola de ambos sexos de 18 a\u00f1os y m\u00e1s. \n",
        " \n",
        " \n",
        "Tama\u00f1o de la muestra: \n",
        " \n",
        "Dise\u00f1ada: 2.500 entrevistas. \n",
        "Realizada: 2.492 entrevistas. \n",
        " \n",
        " \n",
        "Afijaci\u00f3n: \n",
        " \n",
        "Proporcional. \n",
        " \n",
        " \n",
        "Ponderaci\u00f3n: \n",
        " \n",
        "No procede. \n",
        " \n",
        " \n",
        "Puntos de Muestreo: \n",
        " \n",
        "168 municipios y 46 provincias. \n",
        " \n",
        " \n",
        "Procedimiento de muestreo: \n",
        " \n",
        "Poliet\u00e1pico,  estratificado  por  conglomerados,  con  selecci\u00f3n  de  las  unidades  primarias  de  muestreo \n",
        "(municipios) y de las unidades secundarias (secciones) de forma aleatoria proporcional, y de las unidades \n",
        "\u00faltimas (individuos) por rutas aleatorias y cuotas de sexo y edad. \n",
        " \n",
        "Los estratos se han formado por el cruce de las 17 comunidades aut\u00f3nomas con el tama\u00f1o de h\u00e1bitat, \n",
        "dividido en 7 categor\u00edas: menor o igual a 2.000 habitantes; de 2.001 a 10.000; de 10.001 a 50.000; de \n",
        "50.001 a 100.000; de 100.001 a 400.000; de 400.001 a 1.000.000, y m\u00e1s de 1.000.000 de habitantes. \n",
        " \n",
        "Los cuestionarios se han aplicado mediante entrevista personal en los domicilios. \n",
        " \n",
        "\n",
        "\f",
        "Noviembre 1999 \n",
        "\n",
        " \n",
        "CIS \n",
        "Estudio n\u00ba 2.376. Bar\u00f3metro de noviembre \n",
        " \n",
        " \n",
        " \n",
        "Error muestral: \n",
        " \n",
        "Para un nivel de confianza del 95,5% (dos sigmas), y P = Q, el error es de \u00b12% para el conjunto de la \n",
        "muestra y en el supuesto de muestreo aleatorio simple. \n",
        " \n",
        " \n",
        "Fecha de realizaci\u00f3n: \n",
        " \n",
        "Del 26 al 30 de noviembre  de 1999. \n",
        " \n",
        " \n",
        " \n",
        "\n",
        "\f",
        " \n",
        " \n",
        " \n",
        " \n",
        " \n",
        " \n",
        "\n",
        " \n",
        "\n",
        " \n",
        "\n",
        " \n",
        " \n",
        " \n",
        " \n",
        " \n",
        " \n",
        " \n",
        " \n",
        " \n",
        " \n",
        " \n",
        " \n",
        " \n",
        " \n",
        " \n",
        " \n",
        " \n",
        " \n",
        " \n",
        " \n",
        " \n",
        " \n",
        " \n",
        " \n",
        " \n",
        " \n",
        " \n",
        " \n",
        " \n",
        " \n",
        " \n",
        " \n",
        "\n",
        " \n",
        " \n",
        " \n",
        " \n",
        "\n",
        " \n",
        "\n",
        "DISTRIBUCIONES MARGINALES \n",
        "\n",
        "BAR\u00d3METRO DE NOVIEMBRE \n",
        "\n",
        " \n",
        "\n",
        " \n",
        "\n",
        "Estudio n\u00ba 2.376 \n",
        "Noviembre 1999 \n",
        "\n",
        "\f",
        " \n",
        "CIS \n",
        "Estudio n\u00ba 2.376. Bar\u00f3metro de noviembre  \n",
        " \n",
        " \n",
        " \n",
        "Pregunta 1 \n",
        "Para empezar, quisiera hacerle algunas preguntas sobre h\u00e1bitos de compra y horarios comerciales. De las \n",
        "siguientes razones que aparecen en esta tarjeta, me gustar\u00eda que me dijera \u00bfcu\u00e1l es la que a Ud. le parece \n",
        "m\u00e1s importante para comprar en grandes almacenes? \n",
        "\u00bfY para comprar en tiendas o boutiques? \n",
        "\u00bfY para comprar en supermercados? \n",
        "\u00bfY para comprar en hipermercados? \n",
        "\n",
        "Noviembre 1999 \n",
        "\n",
        " \n",
        "\n",
        "Permanecen abiertos m\u00e1s horas  \n",
        "Tienen mejores precios \n",
        "Tienen productos de mayor calidad \n",
        "Ofrecen mejor trato al cliente  \n",
        "Est\u00e1n m\u00e1s cerca de su domicilio \n",
        "Tienen mayor variedad de productos \n",
        "Abren algunos domingos y d\u00edas festivos  \n",
        "Otras respuestas  \n",
        "N.S.  \n",
        "N.C.  \n",
        " \n",
        "(N)  \n",
        "\n",
        "Grandes \n",
        "almacenes \n",
        "23,1 \n",
        "20,6 \n",
        "4,1 \n",
        "1,7 \n",
        "2,5 \n",
        "28,3 \n",
        "3,7 \n",
        "6,3 \n",
        "7,4 \n",
        "2,2 \n",
        " \n",
        "(2487) \n",
        "\n",
        "Tiendas o \n",
        "boutiques \n",
        "1,2 \n",
        "5,5 \n",
        "24,7 \n",
        "27,5 \n",
        "22,5 \n",
        "2,1 \n",
        ",5 \n",
        "6,8 \n",
        "7,6 \n",
        "1,7 \n",
        " \n",
        "(2484) \n",
        "\n",
        "Supermercados  Hipermercados \n",
        "\n",
        "5,9 \n",
        "28,5 \n",
        "4,6 \n",
        "4,9 \n",
        "30,8 \n",
        "14,6 \n",
        ",9 \n",
        "4,1 \n",
        "4,4 \n",
        "1,3 \n",
        " \n",
        "(2485) \n",
        "\n",
        "15,8 \n",
        "29,3 \n",
        "2,6 \n",
        "1,2 \n",
        "4,3 \n",
        "25,2 \n",
        "4,2 \n",
        "5,8 \n",
        "8,8 \n",
        "2,8 \n",
        " \n",
        "(2480) \n",
        "\n",
        "Pregunta 2 \n",
        "\u00bfAcostumbra Ud. a realizar personalmente las compras de productos de alimentaci\u00f3n, bebidas, productos \n",
        "de limpieza, etc. ...? \n",
        "\n",
        "Siempre o casi siempre \n",
        "Algunas veces  \n",
        "Nunca o casi nunca \n",
        "N.C. \n",
        " \n",
        "(N)  \n",
        "\n",
        "52,2 \n",
        "18,2 \n",
        "29,5 \n",
        ",1 \n",
        " \n",
        "(2492) \n",
        "\n",
        "(Pasar a Preguntas 2a a 2f. N = 1755) \n",
        "\n",
        "(Pasar a Pregunta 3. N = 737) \n",
        " \n",
        "\n",
        " \n",
        "\n",
        " \n",
        " \n",
        "\n",
        " \n",
        " \n",
        " \n",
        " \n",
        " \n",
        " \n",
        " \n",
        "\n",
        " \n",
        " \n",
        "\n",
        " \n",
        " \n",
        "\n",
        " \n",
        " \n",
        "  \n",
        "\n",
        "- 1 -\n",
        "\n",
        "\f",
        " \n",
        "\n",
        " \n",
        " \n",
        "\n",
        " \n",
        "\n",
        " \n",
        " \n",
        " \n",
        " \n",
        " \n",
        " \n",
        "\n",
        " \n",
        "\n",
        " \n",
        " \n",
        "\n",
        " \n",
        " \n",
        "\n",
        " \n",
        " \n",
        "\n",
        " \n",
        "CIS \n",
        "Estudio n\u00ba 2.376. Bar\u00f3metro de noviembre  \n",
        " \n",
        " \n",
        "\n",
        "Noviembre 1999 \n",
        "\n",
        "S\u00d3LO A QUIENES REALIZAN PERSONALMENTE SIEMPRE O CASI SIEMPRE, O ALGUNAS \n",
        "VECES, LAS COMPRAS DE PRODUCTOS DE ALIMENTACI\u00d3N, BEBIDAS Y PRODUCTOS DE \n",
        "\n",
        "LIMPIEZA (1 \u00f3 2 en Pregunta 2. N = 1755) \n",
        "\n",
        "Pregunta 2a \n",
        "\u00bfY suele Ud. hacer este tipo de compras solo/a o acompa\u00f1ado/a de alg\u00fan familiar? \n",
        "\n",
        "Siempre solo/a \n",
        "Generalmente solo/a  \n",
        "Generalmente acompa\u00f1ado/a de un familiar \n",
        "Siempre acompa\u00f1ado/a de un familiar \n",
        "N.C. \n",
        " \n",
        "(N)  \n",
        "\n",
        "37,2 \n",
        "21,3 \n",
        "32,2 \n",
        "9,2 \n",
        ",1 \n",
        " \n",
        "(1755) \n",
        "\n",
        "(Pasar a Pregunta 2b. N = 652) \n",
        "\n",
        " \n",
        "(Pasar a Preguntas 2b y 2c. N = 939) \n",
        "(Pasar a Pregunta 2c. N = 162) \n",
        "\n",
        "S\u00d3LO A QUIENES REALIZAN PERSONALMENTE SIEMPRE O CASI SIEMPRE, O ALGUNAS \n",
        "VECES, LAS COMPRAS DE PRODUCTOS DE ALIMENTACI\u00d3N, BEBIDAS Y PRODUCTOS DE \n",
        "\n",
        "LIMPIEZA (1 \u00f3 2 en Pregunta 2. N = 1755) \n",
        "\n",
        "S\u00d3LO A QUIENES SUELEN HACER ESTE TIPO DE COMPRAS SIEMPRE SOLOS/AS, GENERALMENTE \n",
        "SOLOS/AS O GENERALMENTE ACOMPA\u00d1ADOS/AS DE UN FAMILIAR (1, 2 \u00f3 3 en Pregunta 2a. N = 1591) \n",
        "\n",
        "Pregunta 2b \n",
        "\u00bfD\u00f3nde suele Ud. realizar este tipo de compras, principalmente, cuando va Ud. solo/a? \n",
        "\n",
        "En tiendas especializadas (fruter\u00edas, pescader\u00edas, etc.) de la calle \n",
        "En mercados de barrio o galer\u00edas de alimentaci\u00f3n \n",
        "En supermercados \n",
        "En hipermercados, grandes superficies  \n",
        "En grandes almacenes  \n",
        "En mercadillos o venta ambulante  \n",
        "N.C.  \n",
        " \n",
        "(N)  \n",
        "\n",
        "26,6 \n",
        "16,1 \n",
        "39,8 \n",
        "11,8 \n",
        "3,1 \n",
        ",8 \n",
        "1,8 \n",
        " \n",
        "(1591) \n",
        "\n",
        " \n",
        " \n",
        "  \n",
        "\n",
        "- 2 -\n",
        "\n",
        "\f",
        " \n",
        " \n",
        "\n",
        " \n",
        "\n",
        " \n",
        " \n",
        "\n",
        " \n",
        "\n",
        " \n",
        " \n",
        " \n",
        " \n",
        " \n",
        "\n",
        " \n",
        " \n",
        "\n",
        " \n",
        " \n",
        "\n",
        " \n",
        " \n",
        "\n",
        " \n",
        "CIS \n",
        "Estudio n\u00ba 2.376. Bar\u00f3metro de noviembre  \n",
        " \n",
        " \n",
        "\n",
        "Noviembre 1999 \n",
        "\n",
        "S\u00d3LO A QUIENES REALIZAN PERSONALMENTE SIEMPRE O CASI SIEMPRE, O ALGUNAS \n",
        "VECES, LAS COMPRAS DE PRODUCTOS DE ALIMENTACI\u00d3N, BEBIDAS Y PRODUCTOS DE \n",
        "\n",
        "LIMPIEZA (1 \u00f3 2 en Pregunta 2. N = 1755) \n",
        "\n",
        "S\u00d3LO A QUIENES SUELEN HACER ESTE TIPO DE COMPRAS GENERALMENTE SOLOS/AS, \n",
        "\n",
        "GENERALMENTE ACOMPA\u00d1ADOS/AS DE UN FAMILIAR O SIEMPRE ACOMPA\u00d1ADOS/AS DE UN \n",
        "\n",
        "FAMILIAR (2, 3 \u00f3 4 en Pregunta 2a. N = 1101) \n",
        "\n",
        "Pregunta 2c \n",
        "\u00bfD\u00f3nde suele realizar este tipo de compras, principalmente, cuando va Ud. acompa\u00f1ado/a de un familiar? \n",
        "\n",
        "En tiendas especializadas (fruter\u00edas, pescader\u00edas, etc.) de la calle \n",
        "En mercados de barrio o galer\u00edas de alimentaci\u00f3n \n",
        "En supermercados \n",
        "En hipermercados, grandes superficies  \n",
        "En grandes almacenes  \n",
        "En mercadillos o venta ambulante  \n",
        "N.C.  \n",
        " \n",
        "(N)  \n",
        "\n",
        "7,7 \n",
        "7,1 \n",
        "34,7 \n",
        "37,7 \n",
        "8,8 \n",
        ",7 \n",
        "3,3 \n",
        " \n",
        "(1101) \n",
        "\n",
        "S\u00d3LO A QUIENES REALIZAN PERSONALMENTE SIEMPRE O CASI SIEMPRE, O ALGUNAS \n",
        "VECES, LAS COMPRAS DE PRODUCTOS DE ALIMENTACI\u00d3N, BEBIDAS Y PRODUCTOS DE \n",
        "\n",
        "LIMPIEZA (1 \u00f3 2 en Pregunta 2. N = 1755) \n",
        "\n",
        "Pregunta 2d \n",
        "Actualmente  algunos  supermercados  y  comercios  abren  algunos  domingos  y  festivos,  uno  al  mes \n",
        "aproximadamente, \u00bfaprovecha Ud. este d\u00eda para realizar este tipo de compra...? \n",
        "\n",
        "Siempre o casi siempre  \n",
        "S\u00f3lo algunas veces \n",
        "Nunca o casi nunca \n",
        "N.C.  \n",
        " \n",
        "(N)  \n",
        "\n",
        "5,5 \n",
        "25,1 \n",
        "68,0 \n",
        "1,4 \n",
        " \n",
        "(1755) \n",
        "\n",
        " \n",
        " \n",
        "  \n",
        "\n",
        "- 3 -\n",
        "\n",
        "\f",
        " \n",
        "\n",
        " \n",
        " \n",
        "\n",
        " \n",
        " \n",
        "\n",
        " \n",
        " \n",
        " \n",
        " \n",
        " \n",
        " \n",
        "\n",
        " \n",
        " \n",
        " \n",
        "\n",
        " \n",
        "\n",
        " \n",
        " \n",
        "\n",
        " \n",
        "CIS \n",
        "Estudio n\u00ba 2.376. Bar\u00f3metro de noviembre  \n",
        " \n",
        " \n",
        "\n",
        "Noviembre 1999 \n",
        "\n",
        "S\u00d3LO A QUIENES REALIZAN PERSONALMENTE SIEMPRE O CASI SIEMPRE, O ALGUNAS \n",
        "VECES, LAS COMPRAS DE PRODUCTOS DE ALIMENTACI\u00d3N, BEBIDAS Y PRODUCTOS DE \n",
        "\n",
        "LIMPIEZA (1 \u00f3 2 en Pregunta 2. N = 1755) \n",
        "\n",
        "Pregunta 2e \n",
        "Si los comercios que est\u00e1n pr\u00f3ximos a su domicilio abriesen libremente en domingos y festivos, \u00bfcon qu\u00e9 \n",
        "probabilidad:  mucha,  bastante,  poca  o  ninguna  aprovechar\u00eda  Ud.  esos  d\u00edas  para  realizar  este  tipo  de \n",
        "compra? \n",
        "\n",
        "Mucha \n",
        "Bastante \n",
        "Poca \n",
        "Ninguna  \n",
        "N.S.  \n",
        "N.C.  \n",
        " \n",
        "(N)  \n",
        "\n",
        "5,2 \n",
        "21,5 \n",
        "34,5 \n",
        "34,9 \n",
        "2,6 \n",
        "1,3 \n",
        " \n",
        "(1755) \n",
        "\n",
        "S\u00d3LO A QUIENES REALIZAN PERSONALMENTE SIEMPRE O CASI SIEMPRE, O ALGUNAS \n",
        "VECES, LAS COMPRAS DE PRODUCTOS DE ALIMENTACI\u00d3N, BEBIDAS Y PRODUCTOS DE \n",
        "\n",
        "LIMPIEZA (1 \u00f3 2 en Pregunta 2. N = 1755) \n",
        "\n",
        "Pregunta 2f \n",
        "Y,  si  los  comercios  alejados  de  su  domicilio  abriesen  libremente  en  domingos  y  festivos,  \u00bfcon  qu\u00e9 \n",
        "probabilidad:  mucha,  bastante,  poca  o  ninguna  aprovechar\u00eda  Ud.  esos  d\u00edas  para  realizar  este  tipo  de \n",
        "compra? \n",
        "\n",
        "Mucha \n",
        "Bastante \n",
        "Poca \n",
        "Ninguna  \n",
        "N.S.  \n",
        "N.C.  \n",
        " \n",
        "(N)  \n",
        "\n",
        "2,8 \n",
        "10,0 \n",
        "26,8 \n",
        "55,2 \n",
        "3,0 \n",
        "2,2 \n",
        " \n",
        "(1755) \n",
        "\n",
        " \n",
        " \n",
        "  \n",
        "\n",
        "- 4 -\n",
        "\n",
        "\f",
        " \n",
        "\n",
        " \n",
        "\n",
        " \n",
        " \n",
        " \n",
        "\n",
        " \n",
        " \n",
        "\n",
        " \n",
        "\n",
        " \n",
        " \n",
        " \n",
        "\n",
        " \n",
        "\n",
        " \n",
        " \n",
        "\n",
        " \n",
        " \n",
        "\n",
        " \n",
        "\n",
        " \n",
        "CIS \n",
        "Estudio n\u00ba 2.376. Bar\u00f3metro de noviembre  \n",
        " \n",
        " \n",
        "\n",
        "Noviembre 1999 \n",
        "\n",
        "Pregunta 3 \n",
        "Cuando  necesita  ropa  o  calzado  para  Ud.,  \u00bfsuele  ir  de  compras  personalmente,  o  deja  que  sea  otra \n",
        "persona la que haga las compras por Ud.? \n",
        "\n",
        "Suele ir personalmente \n",
        "Deja que sea otra persona  \n",
        "N.C. \n",
        " \n",
        "(N)  \n",
        "\n",
        "83,1 \n",
        "16,7 \n",
        ",1 \n",
        " \n",
        "(2492) \n",
        "\n",
        "(Pasar a Preguntas 3a a 3f. N = 2072) \n",
        "(Pasar a Pregunta 4. N = 420) \n",
        " \n",
        "\n",
        "S\u00d3LO A QUIENES REALIZAN PERSONALMENTE LAS COMPRAS DE ROPA O CALZADO \n",
        "\n",
        "(1 en Pregunta 3. N = 2072) \n",
        "\n",
        "Pregunta 3a \n",
        "\u00bfY suele Ud. hacer este tipo de compras solo/a o acompa\u00f1ado/a de alg\u00fan familiar? \n",
        "\n",
        "Siempre solo/a \n",
        "Generalmente solo/a  \n",
        "Generalmente acompa\u00f1ado/a de un familiar \n",
        "Siempre acompa\u00f1ado/a de un familiar  \n",
        "N.C. \n",
        " \n",
        "(N)  \n",
        "\n",
        "31,1 \n",
        "18,6 \n",
        "37,2 \n",
        "13,0 \n",
        ",1 \n",
        " \n",
        "(2072) \n",
        "\n",
        "(Pasar a Pregunta 3b. N = 644) \n",
        "\n",
        " \n",
        "(Pasar a Preguntas 3b y 3c. N = 1156) \n",
        "(Pasar a Pregunta 3c. N = 269) \n",
        "\n",
        "S\u00d3LO A QUIENES REALIZAN PERSONALMENTE LAS COMPRAS DE ROPA O CALZADO \n",
        "\n",
        "(1 en Pregunta 3. N = 2072) \n",
        "\n",
        "S\u00d3LO A QUIENES SUELEN HACER ESTE TIPO DE COMPRAS SIEMPRE SOLOS/AS, \n",
        "\n",
        "GENERALMENTE SOLOS/AS, O GENERALMENTE ACOMPA\u00d1ADOS/AS DE UN FAMILIAR \n",
        "\n",
        "(1, 2 \u00f3 3 en Pregunta 3a. N = 1800) \n",
        "\n",
        "Pregunta 3b \n",
        "\u00bfD\u00f3nde suele Ud. realizar este tipo de compras, principalmente, cuando va Ud. solo/a? \n",
        "\n",
        "En tiendas o boutiques especializadas de la calle  \n",
        "En centros o galer\u00edas comerciales  \n",
        "En hipermercados, grandes superficies \n",
        "En grandes almacenes  \n",
        "En mercadillos o venta ambulante \n",
        "N.C.  \n",
        " \n",
        "(N)  \n",
        "\n",
        " \n",
        " \n",
        "  \n",
        "\n",
        "65,9 \n",
        "12,2 \n",
        "4,4 \n",
        "8,1 \n",
        "5,9 \n",
        "3,5 \n",
        " \n",
        "(1800) \n",
        "\n",
        "- 5 -\n",
        "\n",
        "\f",
        " \n",
        "CIS \n",
        "Estudio n\u00ba 2.376. Bar\u00f3metro de noviembre  \n",
        " \n",
        " \n",
        "\n",
        "Noviembre 1999 \n",
        "\n",
        "S\u00d3LO A QUIENES REALIZAN PERSONALMENTE LAS COMPRAS DE ROPA O CALZADO \n",
        "\n",
        "(1 en Pregunta 3. N = 2072) \n",
        "\n",
        "S\u00d3LO A QUIENES SUELEN HACER ESTE TIPO DE COMPRAS GENERALMENTE \n",
        "SOLOS/AS, GENERALMENTE ACOMPA\u00d1ADOS/AS DE UN FAMILIAR O SIEMPRE \n",
        "\n",
        "ACOMPA\u00d1ADOS/AS DE UN FAMILIAR (2, 3 \u00f3 4 en Pregunta 3a. N = 1425) \n",
        "\n",
        "Pregunta 3c \n",
        "\u00bfD\u00f3nde suele realizar este tipo de compras, principalmente, cuando va Ud. acompa\u00f1ado/a de un familiar? \n",
        "\n",
        "En tiendas o boutiques especializadas de la calle  \n",
        "En centros o galer\u00edas comerciales  \n",
        "En hipermercados, grandes superficies \n",
        "En grandes almacenes  \n",
        "En mercadillos o venta ambulante \n",
        "N.C.  \n",
        " \n",
        "(N)  \n",
        "\n",
        "51,2 \n",
        "15,8 \n",
        "9,0 \n",
        "14,7 \n",
        "4,7 \n",
        "4,6 \n",
        " \n",
        "(1425) \n",
        "\n",
        "S\u00d3LO A QUIENES REALIZAN PERSONALMENTE LAS COMPRAS DE ROPA O CALZADO \n",
        "\n",
        "(1 en Pregunta 3. N = 2072) \n",
        "\n",
        "Pregunta 3d \n",
        "Actualmente  algunas  grandes  superficies  y  comercios  abren  algunos  domingos  y  festivos,  uno  al  mes \n",
        "aproximadamente, \u00bfaprovecha Ud. este d\u00eda para realizar este tipo de compra...? \n",
        "\n",
        "Siempre o casi siempre  \n",
        "S\u00f3lo algunas veces \n",
        "Nunca o casi nunca \n",
        "N.C.  \n",
        " \n",
        "(N)  \n",
        "\n",
        "4,6 \n",
        "22,7 \n",
        "70,3 \n",
        "2,4 \n",
        " \n",
        "(2072) \n",
        "\n",
        " \n",
        " \n",
        " \n",
        "\n",
        " \n",
        "\n",
        " \n",
        " \n",
        "\n",
        " \n",
        " \n",
        "\n",
        " \n",
        " \n",
        " \n",
        "\n",
        " \n",
        " \n",
        " \n",
        "\n",
        " \n",
        "\n",
        " \n",
        " \n",
        "\n",
        " \n",
        " \n",
        "  \n",
        "\n",
        "- 6 -\n",
        "\n",
        "\f",
        " \n",
        "\n",
        " \n",
        " \n",
        "\n",
        " \n",
        " \n",
        "\n",
        " \n",
        " \n",
        " \n",
        " \n",
        "\n",
        " \n",
        " \n",
        " \n",
        "\n",
        " \n",
        " \n",
        " \n",
        "\n",
        " \n",
        "\n",
        " \n",
        "CIS \n",
        "Estudio n\u00ba 2.376. Bar\u00f3metro de noviembre  \n",
        " \n",
        " \n",
        "\n",
        "Noviembre 1999 \n",
        "\n",
        "S\u00d3LO A QUIENES REALIZAN PERSONALMENTE LAS COMPRAS DE ROPA O CALZADO \n",
        "\n",
        "(1 en Pregunta 3. N = 2072) \n",
        "\n",
        "Pregunta 3e \n",
        "Si los comercios que est\u00e1n pr\u00f3ximos a su domicilio abriesen libremente en domingos y festivos, \u00bfcon qu\u00e9 \n",
        "probabilidad:  mucha,  bastante,  poca  o  ninguna  aprovechar\u00eda  Ud.  esos  d\u00edas  para  realizar  este  tipo  de \n",
        "compra? \n",
        "\n",
        "Mucha \n",
        "Bastante \n",
        "Poca \n",
        "Ninguna  \n",
        "N.S.  \n",
        "N.C.  \n",
        " \n",
        "(N)  \n",
        "\n",
        "3,9 \n",
        "19,1 \n",
        "31,2 \n",
        "40,1 \n",
        "3,7 \n",
        "2,1 \n",
        " \n",
        "(2072) \n",
        "\n",
        "S\u00d3LO A QUIENES REALIZAN PERSONALMENTE LAS COMPRAS DE ROPA O CALZADO \n",
        "\n",
        "(1 en Pregunta 3. N = 2072) \n",
        "\n",
        "Pregunta 3f \n",
        "Y,  si  los  comercios  alejados  de  su  domicilio  abriesen  libremente  en  domingos  y  festivos,  \u00bfcon  qu\u00e9 \n",
        "probabilidad:  mucha,  bastante,  poca  o  ninguna  aprovechar\u00eda  Ud.  esos  d\u00edas  para  realizar  este  tipo  de \n",
        "compra? \n",
        "\n",
        "Mucha \n",
        "Bastante \n",
        "Poca \n",
        "Ninguna  \n",
        "N.S.  \n",
        "N.C.  \n",
        " \n",
        "(N)  \n",
        "\n",
        "2,1 \n",
        "9,6 \n",
        "26,5 \n",
        "55,6 \n",
        "3,4 \n",
        "2,8 \n",
        " \n",
        "(2072) \n",
        "\n",
        " \n",
        " \n",
        "  \n",
        "\n",
        "- 7 -\n",
        "\n",
        "\f",
        " \n",
        "\n",
        " \n",
        " \n",
        " \n",
        " \n",
        "\n",
        " \n",
        " \n",
        "\n",
        " \n",
        " \n",
        " \n",
        " \n",
        "\n",
        " \n",
        " \n",
        "\n",
        " \n",
        "\n",
        " \n",
        "CIS \n",
        "Estudio n\u00ba 2.376. Bar\u00f3metro de noviembre  \n",
        " \n",
        " \n",
        "\n",
        "Noviembre 1999 \n",
        "\n",
        "Pregunta 4 \n",
        "\u00bfEst\u00e1 Ud. a favor de que las horas de apertura y cierre de los comercios sean establecidas libremente por \n",
        "los propios comerciantes o piensa, por el contrario, que deben ser fijadas por una normativa de car\u00e1cter \n",
        "general? \n",
        " \n",
        "\n",
        "Deben ser establecidas libremente por los propios comerciantes \n",
        "Deben ser fijadas por una normativa de car\u00e1cter general  \n",
        "N.S.  \n",
        "N.C. \n",
        " \n",
        "(N)  \n",
        "\n",
        "45,6 \n",
        "43,7 \n",
        "9,8 \n",
        ",9 \n",
        " \n",
        "(2491) \n",
        "\n",
        "Pregunta 5 \n",
        "Como Ud. seguramente sabe, en Espa\u00f1a los horarios comerciales y la apertura de comercios en domingos \n",
        "y festivos est\u00e1n regulados por ley. Personalmente, y teniendo en cuenta sus h\u00e1bitos de compra, \u00bfhasta qu\u00e9 \n",
        "punto se siente Ud. perjudicado por la limitaci\u00f3n de apertura de establecimientos comerciales en domingos \n",
        "y festivos...? \n",
        "\n",
        "Muy perjudicado \n",
        "Bastante  \n",
        "Poco \n",
        "Nada \n",
        "N.S.  \n",
        "N.C. \n",
        " \n",
        "(N)  \n",
        "\n",
        "1,4 \n",
        "8,9 \n",
        "23,2 \n",
        "62,5 \n",
        "3,3 \n",
        ",7 \n",
        " \n",
        "(2489) \n",
        "\n",
        "Pregunta 6 \n",
        "En conjunto, \u00bfes Ud. partidario del sistema actual de limitaci\u00f3n de horarios y apertura de comercios en \n",
        "domingos y festivos o, por el contrario, prefiere el sistema de plena libertad de apertura y cierre de los \n",
        "establecimientos comerciales? \n",
        "\n",
        "Es  partidario  de  la  limitaci\u00f3n  de  horarios  y \n",
        "apertura de comercios en domingos y festivos \n",
        "Es  partidario  de  la  plena  libertad  de  horarios  y \n",
        "apertura de los establecimientos comerciales \n",
        "N.S.  \n",
        "N.C.  \n",
        " \n",
        "(N)  \n",
        "\n",
        " \n",
        "42,1 \n",
        " \n",
        "46,9 \n",
        "9,9 \n",
        "1,0 \n",
        " \n",
        "(2490) \n",
        "\n",
        " \n",
        " \n",
        "  \n",
        "\n",
        "- 8 -\n",
        "\n",
        "\f",
        " \n",
        "CIS \n",
        "Estudio n\u00ba 2.376. Bar\u00f3metro de noviembre  \n",
        " \n",
        " \n",
        "\n",
        "Noviembre 1999 \n",
        "\n",
        "Pregunta 7 \n",
        "Para terminar con este tema, le voy a leer una serie de frases y quisiera que me dijera si est\u00e1 Ud. muy de \n",
        "acuerdo, bastante, poco o nada de acuerdo con cada una de ellas. \n",
        "\n",
        " \n",
        " \n",
        " \n",
        " \n",
        "\n",
        "1. Muy de acuerdo \n",
        "2. Bastante de acuerdo \n",
        "3. Poco de acuerdo \n",
        "4. Nada de acuerdo \n",
        "\n",
        " \n",
        "La libertad de horarios comerciales ayudar\u00eda a reducir \n",
        "el paro \n",
        "La  libertad  de  horarios  comerciales  ayudar\u00eda  a  los \n",
        "peque\u00f1os comerciantes a mejorar su competitividad \n",
        "Los  horarios  de  apertura  y  cierre  de  los  comercios \n",
        "deben ser los mismos en invierno que en verano \n",
        "Los  horarios  de  apertura  y  cierre  de  los  comercios \n",
        "deben  de  ser  los  mismos  en  todas  las  ciudades  y \n",
        "pueblos de Espa\u00f1a \n",
        "\n",
        "1 \n",
        " \n",
        "6,9  \n",
        " \n",
        "6,8  \n",
        " \n",
        "8,2  \n",
        " \n",
        " \n",
        "13,5  \n",
        "\n",
        "2 \n",
        " \n",
        "29,8  \n",
        " \n",
        "32,3  \n",
        " \n",
        "22,9  \n",
        " \n",
        " \n",
        "30,2  \n",
        "\n",
        "3 \n",
        " \n",
        "21,9  \n",
        " \n",
        "19,5  \n",
        " \n",
        "25,6  \n",
        " \n",
        " \n",
        "18,4  \n",
        "\n",
        "4 \n",
        " \n",
        "27,4  \n",
        " \n",
        "27,0  \n",
        " \n",
        "32,5  \n",
        " \n",
        " \n",
        "22,6  \n",
        "\n",
        "N.S. \n",
        " \n",
        "13,5  \n",
        " \n",
        "14,1  \n",
        " \n",
        "10,3  \n",
        " \n",
        " \n",
        "14,5 \n",
        "\n",
        "N.C. \n",
        " \n",
        ",4 \n",
        " \n",
        ",3 \n",
        " \n",
        ",6 \n",
        " \n",
        " \n",
        "1,0 \n",
        "\n",
        "(N) \n",
        " \n",
        "(2489) \n",
        " \n",
        "(2490) \n",
        " \n",
        "(2489) \n",
        " \n",
        " \n",
        "(2490) \n",
        "\n",
        "Pregunta 8 \n",
        "Cambiando de tema, \u00bfconoce o ha o\u00eddo hablar algo sobre la Prestaci\u00f3n Social Sustitutoria que deben \n",
        "cumplir los j\u00f3venes que se declaran objetores de conciencia, en lugar de hacer el Servicio Militar? \n",
        "\n",
        "S\u00ed, conoce o ha o\u00eddo hablar de la \n",
        "Prestaci\u00f3n Social Sustitutoria \n",
        "No sabe nada de este tema  \n",
        "N.C. \n",
        " \n",
        "(N)  \n",
        "\n",
        " \n",
        "79,0 \n",
        "20,8 \n",
        ",2 \n",
        " \n",
        "(2491) \n",
        "\n",
        "(Pasar a Pregunta 13. N = 522) \n",
        " \n",
        "\n",
        " \n",
        " \n",
        "\n",
        " \n",
        " \n",
        " \n",
        " \n",
        " \n",
        " \n",
        " \n",
        "\n",
        " \n",
        " \n",
        " \n",
        " \n",
        " \n",
        " \n",
        "\n",
        " \n",
        "\n",
        " \n",
        " \n",
        "\n",
        " \n",
        " \n",
        "  \n",
        "\n",
        "- 9 -\n",
        "\n",
        "\f",
        " \n",
        "\n",
        " \n",
        " \n",
        " \n",
        "\n",
        " \n",
        " \n",
        "\n",
        " \n",
        " \n",
        " \n",
        "\n",
        " \n",
        " \n",
        " \n",
        "\n",
        " \n",
        "\n",
        " \n",
        " \n",
        "\n",
        " \n",
        "CIS \n",
        "Estudio n\u00ba 2.376. Bar\u00f3metro de noviembre  \n",
        " \n",
        " \n",
        "\n",
        "S\u00d3LO A QUIENES CONOCEN O HAN O\u00cdDO HABLAR DE LA PRESTACI\u00d3N SOCIAL \n",
        "\n",
        "SUSTITUTORIA (1 en Pregunta 8. N = 1969) \n",
        "\n",
        "Noviembre 1999 \n",
        "\n",
        "Pregunta 9 \n",
        "\u00bfEn cu\u00e1l o cu\u00e1les de las siguientes situaciones se encuentra Ud.? \n",
        " \n",
        " \n",
        "\n",
        "(Multirrespuesta) \n",
        "\n",
        "He realizado/estoy realizando la Prestaci\u00f3n Social Sustitutoria \n",
        "Conozco j\u00f3venes que han realizado/est\u00e1n realizando la \n",
        "Prestaci\u00f3n Social Sustitutoria \n",
        "Estoy vinculado por motivos profesionales o personales a una \n",
        "entidad donde colaboran objetores de conciencia \n",
        "He recibido servicios prestados por objetores de conciencia  \n",
        "Ninguna \n",
        "N.C.  \n",
        " \n",
        "(N)  \n",
        "\n",
        "4,0 \n",
        " \n",
        "56,4 \n",
        " \n",
        "3,6 \n",
        "1,4 \n",
        "39,0 \n",
        ",3 \n",
        " \n",
        "(1966) \n",
        "\n",
        "S\u00d3LO A QUIENES CONOCEN O HAN O\u00cdDO HABLAR DE LA PRESTACI\u00d3N SOCIAL \n",
        "\n",
        "SUSTITUTORIA (1 en Pregunta 8. N = 1969) \n",
        "\n",
        "Pregunta 10 \n",
        "En general, \u00bfc\u00f3mo valora Ud. la Prestaci\u00f3n Social Sustitutoria...? \n",
        "\n",
        "Muy positivamente  \n",
        "Positivamente  \n",
        "Negativamente  \n",
        "Muy negativamente \n",
        "(NO LEER) \n",
        "Indiferente \n",
        "No tiene una opini\u00f3n formada \n",
        "N.C. \n",
        " \n",
        "(N)  \n",
        "\n",
        "15,7 \n",
        "53,0 \n",
        "12,9 \n",
        "4,8 \n",
        " \n",
        "7,8 \n",
        "5,3 \n",
        ",5 \n",
        " \n",
        "(1969) \n",
        "\n",
        " \n",
        " \n",
        "  \n",
        "\n",
        "- 10 -\n",
        "\n",
        "\f",
        " \n",
        "\n",
        " \n",
        " \n",
        " \n",
        "\n",
        " \n",
        "\n",
        " \n",
        " \n",
        " \n",
        " \n",
        " \n",
        " \n",
        "\n",
        " \n",
        " \n",
        " \n",
        "\n",
        " \n",
        "\n",
        " \n",
        "CIS \n",
        "Estudio n\u00ba 2.376. Bar\u00f3metro de noviembre  \n",
        " \n",
        " \n",
        "\n",
        "S\u00d3LO A QUIENES CONOCEN O HAN O\u00cdDO HABLAR DE LA PRESTACI\u00d3N SOCIAL \n",
        "\n",
        "SUSTITUTORIA (1 en Pregunta 8. N = 1969) \n",
        "\n",
        "Noviembre 1999 \n",
        "\n",
        "Pregunta 11 \n",
        "\u00bfCree  Ud.  que  las  actividades  realizadas  por  los  objetores  de  conciencia  durante  la  Prestaci\u00f3n  Social \n",
        "Sustitutoria son muy beneficiosas, bastante beneficiosas, poco o nada beneficiosas para la sociedad en \n",
        "general? \n",
        "\n",
        "Muy beneficiosas \n",
        "Bastante beneficiosas  \n",
        "Poco beneficiosas  \n",
        "Nada beneficiosas \n",
        "N.S.  \n",
        "N.C. \n",
        " \n",
        "(N)  \n",
        "\n",
        "18,5 \n",
        "51,6 \n",
        "15,7 \n",
        "5,8 \n",
        "7,6 \n",
        ",7 \n",
        " \n",
        "(1968) \n",
        "\n",
        "S\u00d3LO A QUIENES CONOCEN O HAN O\u00cdDO HABLAR DE LA PRESTACI\u00d3N SOCIAL \n",
        "\n",
        "SUSTITUTORIA (1 en Pregunta 8. N = 1969) \n",
        "\n",
        "Pregunta 12 \n",
        "Como Ud. sabe, la finalizaci\u00f3n del servicio militar obligatorio en diciembre del a\u00f1o 2000, llevar\u00e1 consigo la \n",
        "desaparici\u00f3n de la Prestaci\u00f3n Social Sustitutoria. Esta desaparici\u00f3n de la Prestaci\u00f3n Social Sustitutoria, \u00bfle \n",
        "parece a Ud. un hecho muy positivo, positivo, negativo o muy negativo para la sociedad en general? \n",
        "\n",
        "Muy positivo \n",
        "Positivo \n",
        "Indiferente (NO LEER)  \n",
        "Negativo \n",
        "Muy negativo  \n",
        "N.S.  \n",
        "N.C. \n",
        " \n",
        "(N)  \n",
        "\n",
        "11,4 \n",
        "28,3 \n",
        "14,4 \n",
        "33,0 \n",
        "4,0 \n",
        "8,0 \n",
        ",9 \n",
        " \n",
        "(1969) \n",
        "\n",
        " \n",
        " \n",
        "  \n",
        "\n",
        "- 11 -\n",
        "\n",
        "\f",
        " \n",
        "CIS \n",
        "Estudio n\u00ba 2.376. Bar\u00f3metro de noviembre  \n",
        " \n",
        " \n",
        "\n",
        "Noviembre 1999 \n",
        "\n",
        "Pregunta 13 \n",
        "Vamos a hablar ahora de la labor que desarrollan los objetores de conciencia, como por ejemplo ayudar a \n",
        "personas mayores o con minusval\u00edas, colaborar en servicios de protecci\u00f3n civil, medio ambiente o sanidad, \n",
        "etc. \u00bfCree Ud. que es necesario que los poderes p\u00fablicos adopten medidas para garantizar la realizaci\u00f3n \n",
        "de \u00e9stas y otras actividades una vez que desaparezca la Prestaci\u00f3n Social Sustitutoria, con motivo de la \n",
        "finalizaci\u00f3n del servicio militar obligatorio en diciembre del a\u00f1o 2000? \n",
        "\n",
        "Muy necesario  \n",
        "Bastante necesario \n",
        "Poco necesario  \n",
        "Nada necesario  \n",
        "N.S. \n",
        "N.C. \n",
        " \n",
        "(N)  \n",
        "\n",
        "23,8 \n",
        "50,7 \n",
        "7,9 \n",
        "6,9 \n",
        "10,0 \n",
        ",7 \n",
        " \n",
        "(2491) \n",
        "\n",
        "Pregunta 14 \n",
        "En  esta  tarjeta  aparecen  algunos  sectores  donde  los  objetores  de  conciencia  desarrollan  actividades \n",
        "durante el tiempo que dura su prestaci\u00f3n social. Quisiera que me dijera los tres que, desde su punto de \n",
        "vista, ser\u00edan m\u00e1s necesarios de cara a adoptar medidas que garanticen la continuidad de la labor que \n",
        "actualmente realizan los objetores. \n",
        " \n",
        " \n",
        "\n",
        "(Multirrespuesta: m\u00e1ximo tres respuestas) \n",
        "\n",
        "Ayuda a grupos econ\u00f3micamente desfavorecidos  \n",
        "Atenci\u00f3n a inmigrantes y personas pertenecientes a minor\u00edas \u00e9tnicas \n",
        "Protecci\u00f3n civil  \n",
        "Cooperaci\u00f3n internacional  \n",
        "Atenci\u00f3n a personas de la tercera edad  \n",
        "Sanidad \n",
        "Atenci\u00f3n a personas con minusval\u00edas \n",
        "Protecci\u00f3n del medio ambiente \n",
        "Educaci\u00f3n y cultura  \n",
        "Ninguno  \n",
        " \n",
        "(N)  \n",
        "\n",
        "41,4 \n",
        "17,4 \n",
        "19,5 \n",
        "4,2 \n",
        "73,5 \n",
        "20,9 \n",
        "63,4 \n",
        "17,8 \n",
        "9,6 \n",
        "3,5 \n",
        " \n",
        "(2349) \n",
        "\n",
        " \n",
        "\n",
        " \n",
        "\n",
        " \n",
        " \n",
        " \n",
        " \n",
        " \n",
        " \n",
        "\n",
        " \n",
        " \n",
        "\n",
        " \n",
        "\n",
        " \n",
        " \n",
        "  \n",
        "\n",
        "- 12 -\n",
        "\n",
        "\f",
        " \n",
        "\n",
        " \n",
        "\n",
        " \n",
        " \n",
        " \n",
        "\n",
        " \n",
        "\n",
        " \n",
        " \n",
        " \n",
        "\n",
        " \n",
        "\n",
        " \n",
        "CIS \n",
        "Estudio n\u00ba 2.376. Bar\u00f3metro de noviembre  \n",
        " \n",
        " \n",
        "\n",
        "Noviembre 1999 \n",
        "\n",
        "Pregunta 15 \n",
        "Una de las medidas que se podr\u00edan tomar para garantizar estas labores ser\u00eda la creaci\u00f3n de un servicio civil \n",
        "para j\u00f3venes de ambos sexos que tuviera car\u00e1cter voluntario, \u00bfhasta qu\u00e9 punto ser\u00eda Ud. partidario de la \n",
        "creaci\u00f3n de un servicio civil de este tipo? \n",
        "\n",
        "Muy partidario \n",
        "Bastante partidario  \n",
        "Poco partidario \n",
        "Nada partidario \n",
        "N.S.  \n",
        "N.C. \n",
        " \n",
        "(N)  \n",
        "\n",
        "25,2 \n",
        "53,7 \n",
        "7,4 \n",
        "6,2 \n",
        "6,9 \n",
        ",6 \n",
        " \n",
        "(2492) \n",
        "\n",
        "Pregunta 16 \n",
        "\u00bfY cree Ud. que los j\u00f3venes espa\u00f1oles de ambos sexos participar\u00edan voluntariamente en un proyecto de \n",
        "esta naturaleza? \n",
        "\n",
        "S\u00ed, con toda seguridad \n",
        "Casi seguro que s\u00ed \n",
        "Casi seguro que no \n",
        "No, con toda seguridad  \n",
        "N.S. \n",
        "N.C. \n",
        " \n",
        "(N)  \n",
        "\n",
        "14,1 \n",
        "42,7 \n",
        "19,5 \n",
        "7,7 \n",
        "15,4 \n",
        ",5 \n",
        " \n",
        "(2492) \n",
        "\n",
        "Pregunta 17 \n",
        "A continuaci\u00f3n le voy a leer una serie de cosas que podr\u00edan servir de est\u00edmulo a los j\u00f3venes de ambos \n",
        "sexos para participar en este proyecto. \n",
        "Quisiera  que  me  puntuase  de  0  a  10  cada  una  de  ellas,  seg\u00fan  la  importancia  que  Ud.  cree  que  le \n",
        "conceder\u00eda la gente joven y teniendo en cuenta que el 0 significa que \u201clos j\u00f3venes no la considerar\u00edan nada \n",
        "importante\u201d y el 10 que \u201cla considerar\u00edan muy importante\" \n",
        "\n",
        " \n",
        " \n",
        "Validez como pr\u00e1cticas en algunos estudios \n",
        "Valoraci\u00f3n para el ingreso en la Funci\u00f3n P\u00fablica \n",
        "C\u00f3mputo como antig\u00fcedad en la Funci\u00f3n P\u00fablica  \n",
        "C\u00f3mputo a efectos de la Seguridad Social \n",
        "C\u00f3mputo a efectos de la percepci\u00f3n del paro  \n",
        "Cobertura sanitaria  \n",
        "Desgravaciones fiscales  \n",
        "Prioridad para la obtenci\u00f3n de ayudas p\u00fablicas  \n",
        "(becas, acceso a centros educativos, viviendas, etc.) \n",
        "\n",
        "Media \n",
        " \n",
        "7,14  \n",
        "7,00  \n",
        "6,58  \n",
        "7,13  \n",
        "7,59  \n",
        "7,50  \n",
        "6,73  \n",
        " \n",
        "7,84  \n",
        "\n",
        "Desviaci\u00f3n \n",
        "t\u00edpica \n",
        "2,47 \n",
        "2,59 \n",
        "2,82 \n",
        "2,62 \n",
        "2,55 \n",
        "2,57 \n",
        "3,05 \n",
        " \n",
        "2,38 \n",
        "\n",
        "N \n",
        " \n",
        "2076 \n",
        "2037 \n",
        "1946 \n",
        "2012 \n",
        "2096 \n",
        "2028 \n",
        "1976 \n",
        " \n",
        "2096 \n",
        "\n",
        " \n",
        " \n",
        "  \n",
        "\n",
        "- 13 -\n",
        "\n",
        "\f",
        "Noviembre 1999 \n",
        "\n",
        " \n",
        "\n",
        " \n",
        "\n",
        " \n",
        " \n",
        "\n",
        " \n",
        " \n",
        " \n",
        " \n",
        " \n",
        " \n",
        "\n",
        " \n",
        " \n",
        "\n",
        " \n",
        " \n",
        " \n",
        " \n",
        " \n",
        " \n",
        "\n",
        " \n",
        " \n",
        "\n",
        " \n",
        "\n",
        " \n",
        "CIS \n",
        "Estudio n\u00ba 2.376. Bar\u00f3metro de noviembre  \n",
        " \n",
        " \n",
        "\n",
        "Pregunta 18 \n",
        "En el caso de que se crease este servicio civil: \n",
        "\n",
        "Pregunta 18a \n",
        "\u00bfDesde qu\u00e9 edad considerar\u00eda Ud. adecuada su participaci\u00f3n? \n",
        "\n",
        "Media (a\u00f1os) \n",
        "Desviaci\u00f3n t\u00edpica \n",
        "N  \n",
        "\n",
        "17,94 \n",
        "1,70 \n",
        "2177 \n",
        "\n",
        "Pregunta 18b \n",
        "Y, \u00bfhasta qu\u00e9 edad? \n",
        "\n",
        "Media (a\u00f1os) \n",
        "Desviaci\u00f3n t\u00edpica  \n",
        "N  \n",
        "\n",
        "31,59 \n",
        "12,86 \n",
        "1741 \n",
        "\n",
        "Pregunta 18c \n",
        "\u00bfCu\u00e1l cree Ud. que ser\u00eda la duraci\u00f3n m\u00e1s id\u00f3nea? \n",
        "\n",
        "Menos de 3 meses  \n",
        "Entre 3 y 6 meses  \n",
        "Entre 6 y 9 meses  \n",
        "Entre 9 meses y 1 a\u00f1o  \n",
        "M\u00e1s de 1 a\u00f1o \n",
        "N.S. \n",
        "N.C.  \n",
        " \n",
        "(N)  \n",
        "\n",
        "6,2 \n",
        "23,8 \n",
        "15,3 \n",
        "17,5 \n",
        "15,8 \n",
        "18,7 \n",
        "2,7 \n",
        " \n",
        "(2491) \n",
        "\n",
        " \n",
        " \n",
        "  \n",
        "\n",
        "- 14 -\n",
        "\n",
        "\f",
        " \n",
        "\n",
        " \n",
        " \n",
        "\n",
        " \n",
        " \n",
        " \n",
        " \n",
        "\n",
        " \n",
        " \n",
        "\n",
        " \n",
        " \n",
        " \n",
        " \n",
        "\n",
        " \n",
        " \n",
        "\n",
        " \n",
        "\n",
        " \n",
        "CIS \n",
        "Estudio n\u00ba 2.376. Bar\u00f3metro de noviembre  \n",
        " \n",
        " \n",
        "\n",
        "Pregunta 18d \n",
        "\u00bfCu\u00e1l cree Ud. que ser\u00eda la dedicaci\u00f3n diaria m\u00e1s adecuada? \n",
        "\n",
        "Noviembre 1999 \n",
        "\n",
        "Menos de 3 horas \n",
        "3 horas  \n",
        "4 horas  \n",
        "5 horas \n",
        "6 horas \n",
        "M\u00e1s de 6 horas  \n",
        "N.S. \n",
        "N.C.  \n",
        " \n",
        "(N)  \n",
        "\n",
        "14,3 \n",
        "24,1 \n",
        "20,0 \n",
        "8,2 \n",
        "6,2 \n",
        "5,6 \n",
        "19,0 \n",
        "2,5 \n",
        " \n",
        "(2492) \n",
        "\n",
        "Pregunta 18e \n",
        "\u00bfCu\u00e1l cree Ud. que ser\u00eda la dedicaci\u00f3n semanal m\u00e1s adecuada? \n",
        "\n",
        "Menos de 3 d\u00edas a la semana  \n",
        "3 d\u00edas a la semana \n",
        "4 d\u00edas a la semana \n",
        "5 d\u00edas a la semana \n",
        "6 d\u00edas a la semana  \n",
        "Todos los d\u00edas  \n",
        "N.S. \n",
        "N.C.  \n",
        " \n",
        "(N)  \n",
        "\n",
        "12,6 \n",
        "27,5 \n",
        "12,2 \n",
        "18,3 \n",
        "2,8 \n",
        "5,4 \n",
        "18,6 \n",
        "2,7 \n",
        " \n",
        "(2484) \n",
        "\n",
        "Pregunta 19 \n",
        "\u00bfCu\u00e1ntos a\u00f1os cumpli\u00f3 Ud. en su \u00faltimo cumplea\u00f1os? \n",
        "\n",
        "18-24  \n",
        "25-34  \n",
        "35-44  \n",
        "45-54  \n",
        "55-64  \n",
        "65 y + \n",
        "N.C. \n",
        " \n",
        "(N)  \n",
        "\n",
        " \n",
        " \n",
        "  \n",
        "\n",
        "14,9 \n",
        "20,3 \n",
        "17,6 \n",
        "14,3 \n",
        "13,2 \n",
        "19,5 \n",
        ",2 \n",
        " \n",
        "(2492) \n",
        "\n",
        "- 15 -\n",
        "\n",
        "\f",
        " \n",
        "\n",
        " \n",
        " \n",
        " \n",
        "\n",
        " \n",
        "\n",
        " \n",
        " \n",
        " \n",
        " \n",
        "\n",
        " \n",
        "\n",
        " \n",
        " \n",
        " \n",
        "\n",
        " \n",
        "\n",
        " \n",
        "CIS \n",
        "Estudio n\u00ba 2.376. Bar\u00f3metro de noviembre  \n",
        " \n",
        " \n",
        "\n",
        "Noviembre 1999 \n",
        "\n",
        "S\u00d3LO A QUIENES TIENEN ENTRE 18 Y 30 A\u00d1OS (AMBOS SEXOS) (N = 670) \n",
        "\n",
        "Pregunta 20 \n",
        "Si en Espa\u00f1a se implantara un Servicio Civil Voluntario, no retribuido, pero s\u00ed incentivado, que garantizase \n",
        "las tareas y actividades que ahora realizan los objetores de conciencia, \u00bfcon qu\u00e9 probabilidad cree Ud. que \n",
        "participar\u00eda en \u00e9l? \n",
        "\n",
        "Con toda probabilidad  \n",
        "Depende, en funci\u00f3n de su duraci\u00f3n y horario \n",
        "Depende, en funci\u00f3n de los incentivos  \n",
        "No participar\u00eda  \n",
        "Otras respuestas  \n",
        "N.S.  \n",
        "N.C. \n",
        " \n",
        "(N) \n",
        "\n",
        "13,4 \n",
        "36,6 \n",
        "18,5 \n",
        "25,3 \n",
        "1,8 \n",
        "3,5 \n",
        ",9 \n",
        " \n",
        "(664) \n",
        "\n",
        "Pregunta 21 \n",
        "Cambiando de tema. Refiri\u00e9ndonos ahora a la situaci\u00f3n econ\u00f3mica general de  Espa\u00f1a, \u00bfc\u00f3mo la calificar\u00eda \n",
        "Ud. ...? \n",
        "\n",
        "Muy buena \n",
        "Buena  \n",
        "Regular  \n",
        "Mala \n",
        "Muy mala  \n",
        "N.S.  \n",
        "N.C. \n",
        " \n",
        "(N)  \n",
        "\n",
        "2,2 \n",
        "30,6 \n",
        "47,1 \n",
        "13,1 \n",
        "4,2 \n",
        "2,2 \n",
        ",6 \n",
        " \n",
        "(2492) \n",
        "\n",
        "Pregunta 22 \n",
        "Y, \u00bfcree Ud. que dentro de un a\u00f1o, la situaci\u00f3n econ\u00f3mica del pa\u00eds ser\u00e1 mejor, igual o peor que ahora? \n",
        "\n",
        "Mejor  \n",
        "Igual  \n",
        "Peor \n",
        "N.S. \n",
        "N.C. \n",
        " \n",
        "(N)  \n",
        "\n",
        "17,1 \n",
        "52,3 \n",
        "12,1 \n",
        "17,8 \n",
        ",7 \n",
        " \n",
        "(2486) \n",
        "\n",
        " \n",
        " \n",
        "  \n",
        "\n",
        "- 16 -\n",
        "\n",
        "\f",
        " \n",
        "\n",
        " \n",
        "\n",
        " \n",
        " \n",
        " \n",
        " \n",
        "\n",
        " \n",
        "\n",
        " \n",
        " \n",
        " \n",
        " \n",
        "\n",
        " \n",
        "\n",
        " \n",
        "\n",
        " \n",
        "\n",
        " \n",
        "CIS \n",
        "Estudio n\u00ba 2.376. Bar\u00f3metro de noviembre  \n",
        " \n",
        " \n",
        "\n",
        "Noviembre 1999 \n",
        "\n",
        "Pregunta 23 \n",
        "Y refiri\u00e9ndonos ahora a la situaci\u00f3n pol\u00edtica general de Espa\u00f1a, \u00bfc\u00f3mo la calificar\u00eda Ud. ...? \n",
        "\n",
        "Muy buena \n",
        "Buena  \n",
        "Regular  \n",
        "Mala \n",
        "Muy mala  \n",
        "N.S. \n",
        "N.C.  \n",
        " \n",
        "(N)  \n",
        "\n",
        "1,8 \n",
        "22,2 \n",
        "39,6 \n",
        "17,6 \n",
        "6,9 \n",
        "10,0 \n",
        "2,0 \n",
        " \n",
        "(2492) \n",
        "\n",
        "Pregunta 24 \n",
        "Y, \u00bfcree Ud. que dentro de un a\u00f1o, la situaci\u00f3n pol\u00edtica del pa\u00eds ser\u00e1 mejor, igual o peor que ahora? \n",
        "\n",
        "Mejor  \n",
        "Igual  \n",
        "Peor \n",
        "N.S. \n",
        "N.C.  \n",
        " \n",
        "(N)  \n",
        "\n",
        "11,4 \n",
        "50,6 \n",
        "12,3 \n",
        "23,7 \n",
        "2,0 \n",
        " \n",
        "(2486) \n",
        "\n",
        "Pregunta 25 \n",
        "Cuando se habla de pol\u00edtica se utilizan normalmente las expresiones izquierda y derecha. En esta tarjeta \n",
        "hay una serie de casillas que van de izquierda a derecha. \u00bfEn qu\u00e9 casilla se colocar\u00eda Ud.? \n",
        "\n",
        "Izquierda (1 - 2) \n",
        "                (3 - 4)  \n",
        "                (5 - 6)  \n",
        "                (7 - 8)  \n",
        "Derecha (9 -10) \n",
        "N.S. \n",
        "N.C. \n",
        " \n",
        "(N)  \n",
        "\n",
        "Media \n",
        "Desviaci\u00f3n t\u00edpica \n",
        "N  \n",
        "\n",
        "6,9 \n",
        "21,0 \n",
        "26,9 \n",
        "10,9 \n",
        "2,4 \n",
        "15,6 \n",
        "16,3 \n",
        " \n",
        "(2492) \n",
        "\n",
        "4,84 \n",
        "1,96 \n",
        "1698 \n",
        "\n",
        " \n",
        " \n",
        "  \n",
        "\n",
        "- 17 -\n",
        "\n",
        "\f",
        " \n",
        "\n",
        " \n",
        "\n",
        " \n",
        " \n",
        " \n",
        " \n",
        " \n",
        "\n",
        " \n",
        " \n",
        " \n",
        "\n",
        " \n",
        "\n",
        " \n",
        " \n",
        " \n",
        "\n",
        " \n",
        "CIS \n",
        "Estudio n\u00ba 2.376. Bar\u00f3metro de noviembre  \n",
        " \n",
        " \n",
        "\n",
        "Noviembre 1999 \n",
        "\n",
        "Pregunta 26 \n",
        "\u00bfMe podr\u00eda decir a qu\u00e9 partido o coalici\u00f3n vot\u00f3 Ud. en las elecciones generales de marzo de 1996? \n",
        "\n",
        "IU  \n",
        "PP \n",
        "PSOE \n",
        "EA  \n",
        "HB \n",
        "PNV  \n",
        "CiU \n",
        "ERC  \n",
        "BNG  \n",
        "PA \n",
        "CC  \n",
        "UV \n",
        "IC-EV  \n",
        "Otros  \n",
        "No ten\u00eda edad \n",
        "En blanco  \n",
        "No vot\u00f3  \n",
        "No recuerda \n",
        "N.C. \n",
        " \n",
        "(N)  \n",
        "\n",
        "4,1 \n",
        "23,2 \n",
        "22,7 \n",
        " ,0 \n",
        ",4 \n",
        ",8 \n",
        "2,2 \n",
        ",6 \n",
        ",4 \n",
        ",3 \n",
        " ,0 \n",
        ",1 \n",
        ",4 \n",
        ",9 \n",
        "5,2 \n",
        "1,8 \n",
        "16,6 \n",
        "4,7 \n",
        "15,4 \n",
        " \n",
        "(2492) \n",
        "\n",
        "S\u00d3LO A QUIENES MENCIONAN UN PARTIDO CONCRETO EN PREGUNTA 26 (N = 1400) \n",
        "\n",
        "Pregunta 27 \n",
        "\u00bfEra la primera vez que votaba Ud. por ese partido en unas elecciones generales, le hab\u00eda votado ya \n",
        "alguna vez o suele Ud. votar siempre por \u00e9l en las elecciones generales? \n",
        "\n",
        "Es la primera vez que le vota  \n",
        "Ya le hab\u00eda votado alguna vez  \n",
        "Suele votar siempre por \u00e9l \n",
        "N.C.  \n",
        " \n",
        "(N)  \n",
        "\n",
        "13,8 \n",
        "27,6 \n",
        "55,1 \n",
        "3,6 \n",
        " \n",
        "(1400) \n",
        "\n",
        "  (Pasar a Pregunta 27a. N = 193) \n",
        "\n",
        " \n",
        " \n",
        "  \n",
        "\n",
        "- 18 -\n",
        "\n",
        "\f",
        " \n",
        "\n",
        " \n",
        "\n",
        " \n",
        " \n",
        "\n",
        " \n",
        "\n",
        " \n",
        " \n",
        " \n",
        "\n",
        " \n",
        "\n",
        " \n",
        " \n",
        " \n",
        "\n",
        " \n",
        "\n",
        " \n",
        " \n",
        " \n",
        "\n",
        " \n",
        "CIS \n",
        "Estudio n\u00ba 2.376. Bar\u00f3metro de noviembre  \n",
        " \n",
        " \n",
        "\n",
        "Noviembre 1999 \n",
        "\n",
        "S\u00d3LO A QUIENES MENCIONAN UN PARTIDO CONCRETO EN PREGUNTA 26 (N = 1400) \n",
        "\n",
        "S\u00d3LO A QUIENES VOTARON A UN PARTIDO CONCRETO POR PRIMERA VEZ \n",
        "\n",
        "(1 en Pregunta 27. N = 193) \n",
        "\n",
        "Pregunta 27a \n",
        "\u00bfY a qu\u00e9 partido sol\u00eda Ud. votar en anteriores elecciones generales? \n",
        "\n",
        "IU  \n",
        "PP  \n",
        "PSOE \n",
        "HB \n",
        "PNV \n",
        "CiU \n",
        "PA  \n",
        "CC \n",
        "UV  \n",
        "Otros partidos  \n",
        "Es la primera vez que pod\u00eda votar  \n",
        "En una elecciones hab\u00eda votado a un partido y en otras a otro \n",
        "No suele votar o suele votar en blanco  \n",
        "N.C.  \n",
        " \n",
        "(N) \n",
        "\n",
        "2,1 \n",
        "1,6 \n",
        "46,6 \n",
        ",5 \n",
        "1,0 \n",
        "1,0 \n",
        "1,0 \n",
        ",5 \n",
        "2,6 \n",
        "4,1 \n",
        "22,3 \n",
        "2,6 \n",
        "9,3 \n",
        "4,7 \n",
        " \n",
        "(193) \n",
        "\n",
        "Pregunta 28 \n",
        "Sexo: \n",
        "\n",
        "Varones  \n",
        "Mujeres  \n",
        " \n",
        "(N)  \n",
        "\n",
        "48,4 \n",
        "51,6 \n",
        " \n",
        "(2488) \n",
        "\n",
        "Pregunta 29 \n",
        "\u00bfHa ido Ud. a la escuela o cursado alg\u00fan tipo de estudios? \n",
        "\n",
        "No, es analfabeto \n",
        "No, pero sabe leer y escribir \n",
        "S\u00ed, ha ido a la escuela  \n",
        "N.C. \n",
        " \n",
        "(N)  \n",
        "\n",
        "2,5 \n",
        "8,3 \n",
        "89,1 \n",
        ",1 \n",
        " \n",
        "(2492) \n",
        "\n",
        "  (Pasar a Pregunta 29a. N = 2221) \n",
        "\n",
        " \n",
        " \n",
        "  \n",
        "\n",
        "- 19 -\n",
        "\n",
        "\f",
        " \n",
        "\n",
        " \n",
        " \n",
        " \n",
        "\n",
        " \n",
        "\n",
        " \n",
        " \n",
        " \n",
        "\n",
        " \n",
        "\n",
        " \n",
        "\n",
        " \n",
        "CIS \n",
        "Estudio n\u00ba 2.376. Bar\u00f3metro de noviembre  \n",
        " \n",
        " \n",
        "\n",
        "S\u00d3LO A QUIENES HAN IDO A LA ESCUELA (3 en Pregunta 29. N = 2221) \n",
        "\n",
        "Noviembre 1999 \n",
        "\n",
        "Pregunta 29a \n",
        "\u00bfCu\u00e1les son los estudios de m\u00e1s alto nivel oficial que Ud. ha cursado (con independencia de que los haya \n",
        "terminado o no)?  \n",
        "\n",
        "Estudios primarios sin finalizar  \n",
        "Estudios primarios \n",
        "EGB o equivalente  \n",
        "Formaci\u00f3n Profesional 1 y ense\u00f1anza T\u00e9cnico Profesional equivalente \n",
        "Bachillerato superior, BUP. y equivalentes \n",
        "Formaci\u00f3n profesional 2 y equivalentes  \n",
        "Arquitecto e Ingeniero T\u00e9cnico \n",
        "Diplomado de otras Escuelas Universitarias y equivalentes \n",
        "Estudios superiores de 2 o 3 a\u00f1os  \n",
        "Arquitecto e Ingeniero Superior  \n",
        "Licenciado  \n",
        "Doctorado  \n",
        "Estudios de Posgrado o especializaci\u00f3n  \n",
        "Otros estudios no reglados \n",
        "N.C. \n",
        " \n",
        "(N)  \n",
        "\n",
        "5,6 \n",
        "27,4 \n",
        "23,3 \n",
        "6,3 \n",
        "15,4 \n",
        "7,0 \n",
        ",9 \n",
        "5,6 \n",
        ",4 \n",
        ",5 \n",
        "6,5 \n",
        ",3 \n",
        ",2 \n",
        ",4 \n",
        ",2 \n",
        " \n",
        "(2221) \n",
        "\n",
        "Preguntas 29 y 29a \n",
        "Nivel de estudios: \n",
        "\n",
        "Sin estudios \n",
        "Primaria \n",
        "Secundaria \n",
        "F.P. \n",
        "Medios universitarios \n",
        "Superiores  \n",
        "Otros no reglados  \n",
        "N.C. \n",
        " \n",
        "(N)  \n",
        "\n",
        "15,8 \n",
        "24,4 \n",
        "34,4 \n",
        "11,9 \n",
        "6,2 \n",
        "6,7 \n",
        ",3 \n",
        ",3 \n",
        " \n",
        "(2492) \n",
        "\n",
        " \n",
        " \n",
        "  \n",
        "\n",
        "- 20 -\n",
        "\n",
        "\f",
        " \n",
        " \n",
        "\n",
        " \n",
        "\n",
        " \n",
        " \n",
        " \n",
        "\n",
        " \n",
        " \n",
        "\n",
        " \n",
        " \n",
        " \n",
        "\n",
        " \n",
        " \n",
        "\n",
        " \n",
        " \n",
        " \n",
        "\n",
        " \n",
        "\n",
        "Noviembre 1999 \n",
        "\n",
        " \n",
        "CIS \n",
        "Estudio n\u00ba 2.376. Bar\u00f3metro de noviembre  \n",
        " \n",
        " \n",
        "\n",
        "Pregunta 30 \n",
        "\u00bfQui\u00e9n es la persona que aporta m\u00e1s ingresos al hogar? \n",
        "\n",
        "El entrevistado  \n",
        "Otra persona \n",
        "(NO LEER) El entrevistado y otra persona a partes iguales \n",
        "N.C. \n",
        " \n",
        "(N)  \n",
        "\n",
        "42,7 \n",
        "50,4 \n",
        "6,6 \n",
        ",4 \n",
        " \n",
        "(2486) \n",
        "\n",
        "Pregunta 31 \n",
        "\u00bfEn cu\u00e1l de las siguientes situaciones se encuentra Ud. actualmente? \n",
        "\n",
        "trabajado,  sus \n",
        "\n",
        "(anteriormente  no  ha \n",
        "\n",
        "Trabaja  \n",
        "Jubilado o pensionista (anteriormente ha trabajado)  \n",
        "Pensionista \n",
        "labores, etc.) \n",
        "Parado y ha trabajado antes \n",
        "Parado y busca su primer empleo \n",
        "Estudiante  \n",
        "Sus labores  \n",
        "Otra situaci\u00f3n \n",
        "N.C. \n",
        " \n",
        "(N)  \n",
        "\n",
        "(Pasar a Pregunta 31a. N = 1065) \n",
        "\n",
        "(Pasar a Pregunta 31b. N = 232) \n",
        " \n",
        "\n",
        "42,8 \n",
        "17,7 \n",
        " \n",
        "4,6 \n",
        "8,1 \n",
        "1,2 \n",
        "7,1 \n",
        "17,9 \n",
        ",6 \n",
        ",1 \n",
        " \n",
        "(2491) \n",
        "\n",
        "S\u00d3LO A LOS QUE TRABAJAN (1 en Pregunta 31. N = 1065) \n",
        "\n",
        "Pregunta 31a \n",
        "\u00bfPiensa Ud. que es muy probable, bastante, poco o nada probable que durante los pr\u00f3ximos doce meses \n",
        "pierda Ud. su empleo actual? \n",
        "\n",
        "Muy probable  \n",
        "Bastante probable \n",
        "Poco probable  \n",
        "Nada probable  \n",
        "N.S. \n",
        "N.C.  \n",
        " \n",
        "(N)  \n",
        "\n",
        " \n",
        " \n",
        "  \n",
        "\n",
        "3,8 \n",
        "9,5 \n",
        "32,0 \n",
        "49,9 \n",
        "3,7 \n",
        "1,1 \n",
        " \n",
        "(1054) \n",
        "\n",
        "- 21 -\n",
        "\n",
        "\f",
        " \n",
        "CIS \n",
        "Estudio n\u00ba 2.376. Bar\u00f3metro de noviembre  \n",
        " \n",
        " \n",
        "\n",
        "S\u00d3LO A LOS PARADOS (4 \u00f3 5 en Pregunta 31. N = 232) \n",
        "\n",
        "Noviembre 1999 \n",
        "\n",
        "Pregunta 31b \n",
        "\u00bfY  cree  Ud.  que  es  muy  probable,  bastante,  poco  o  nada  probable  que  en  los  pr\u00f3ximos  doce  meses \n",
        "encuentre Ud. trabajo? \n",
        "\n",
        "Muy probable \n",
        "Bastante probable  \n",
        "Poco probable  \n",
        "Nada probable  \n",
        "N.S. \n",
        "N.C. \n",
        " \n",
        "(N) \n",
        "\n",
        "16,5 \n",
        "32,6 \n",
        "31,3 \n",
        "12,2 \n",
        "7,0 \n",
        ",4 \n",
        " \n",
        "(230) \n",
        "\n",
        "Pregunta 32 \n",
        "\u00bfY  cu\u00e1l  es/era  su  actual/\u00faltima  ocupaci\u00f3n  u  oficio?  Es  decir,  \u00bfen  qu\u00e9  consiste/t\u00eda  espec\u00edficamente  su \n",
        "trabajo?  \n",
        "\n",
        "Profesionales, t\u00e9cnicos y similares \n",
        "Miembros del Gobierno, altos directivos, Administraci\u00f3n P\u00fablica y empresa privada \n",
        "Propietarios y gerentes de hosteler\u00eda, comercio y agricultura \n",
        "Cuadros medios  \n",
        "Capataces y personal encargado en actividades de servicios personales \n",
        "Personal administrativo y similar \n",
        "Comerciantes, vendedores y similares \n",
        "Personal de los servicios  \n",
        "Trabajadores cualificados y semicualificados  \n",
        "Trabajadores agr\u00edcolas y no cualificados no agr\u00edcolas \n",
        "Profesionales de las Fuerzas Armadas \n",
        "Sin informaci\u00f3n suficiente \n",
        "N.C. \n",
        " \n",
        "(N)  \n",
        "\n",
        "10,4 \n",
        "2,1 \n",
        "12,1 \n",
        "1,4 \n",
        "1,7 \n",
        "9,4 \n",
        "5,3 \n",
        "11,8 \n",
        "33,4 \n",
        "9,4 \n",
        ",9 \n",
        ",9 \n",
        "1,3 \n",
        " \n",
        "(2468) \n",
        "\n",
        " \n",
        "\n",
        " \n",
        " \n",
        " \n",
        "\n",
        " \n",
        " \n",
        "\n",
        " \n",
        " \n",
        " \n",
        " \n",
        " \n",
        " \n",
        "\n",
        " \n",
        " \n",
        "\n",
        " \n",
        " \n",
        "\n",
        " \n",
        " \n",
        "  \n",
        "\n",
        "- 22 -\n",
        "\n",
        "\f",
        " \n",
        "\n",
        " \n",
        " \n",
        " \n",
        "\n",
        " \n",
        " \n",
        " \n",
        " \n",
        " \n",
        " \n",
        " \n",
        " \n",
        "\n",
        " \n",
        " \n",
        " \n",
        "\n",
        " \n",
        " \n",
        "\n",
        " \n",
        " \n",
        "\n",
        " \n",
        "CIS \n",
        "Estudio n\u00ba 2.376. Bar\u00f3metro de noviembre  \n",
        " \n",
        " \n",
        "\n",
        "Pregunta 33 \n",
        "\u00bfUd. (o el cabeza de familia) trabaja (o trabajaba) como\u2026? \n",
        "\n",
        "Noviembre 1999 \n",
        "\n",
        "Asalariado fijo (a sueldo, comisi\u00f3n, jornal, etc., con car\u00e1cter fijo) \n",
        "Asalariado eventual o interino (a sueldo, comisi\u00f3n, jornal, etc., \n",
        "con car\u00e1cter temporal o interino) \n",
        "Empresario o profesional con asalariados  \n",
        "Profesional o trabajador aut\u00f3nomo (sin asalariados)  \n",
        "Ayuda familiar (sin remuneraci\u00f3n reglamentada en la empresa o \n",
        "negocio de un familiar) \n",
        "Miembro de una cooperativa \n",
        "Otra situaci\u00f3n \n",
        "N.C.  \n",
        " \n",
        "(N)  \n",
        "\n",
        "50,3 \n",
        " \n",
        "24,9 \n",
        "5,0 \n",
        "17,3 \n",
        " \n",
        ",5 \n",
        ",2 \n",
        ",5 \n",
        "1,2 \n",
        " \n",
        "(2483) \n",
        "\n",
        "(Pasar a Pregunta 33a. N = 1869) \n",
        "\n",
        "S\u00d3LO A LOS ASALARIADOS (1 \u00f3 2 en Pregunta 33. N = 1869) \n",
        "\n",
        "Pregunta 33a \n",
        "\u00bfTrabaja/ba Ud. (o el cabeza de familia) en la Administraci\u00f3n P\u00fablica, en una empresa p\u00fablica, en una \n",
        "empresa privada, en una organizaci\u00f3n privada sin fines del lucro o en el servicio dom\u00e9stico? \n",
        "\n",
        "Administraci\u00f3n P\u00fablica \n",
        "Empresa p\u00fablica \n",
        "Empresa privada  \n",
        "Organizaci\u00f3n sin fines de lucro  \n",
        "Servicio dom\u00e9stico  \n",
        "Otros  \n",
        "N.C. \n",
        " \n",
        "(N)  \n",
        "\n",
        "14,4 \n",
        "5,5 \n",
        "77,3 \n",
        ",5 \n",
        "1,7 \n",
        ",2 \n",
        ",4 \n",
        " \n",
        "(1849) \n",
        "\n",
        " \n",
        " \n",
        "  \n",
        "\n",
        "- 23 -\n",
        "\n",
        "\f",
        " \n",
        " \n",
        "\n",
        " \n",
        " \n",
        "\n",
        " \n",
        " \n",
        " \n",
        " \n",
        "\n",
        " \n",
        "\n",
        " \n",
        "\n",
        " \n",
        "CIS \n",
        "Estudio n\u00ba 2.376. Bar\u00f3metro de noviembre  \n",
        " \n",
        " \n",
        "\n",
        "Noviembre 1999 \n",
        "\n",
        "Pregunta 34 \n",
        "\u00bfA qu\u00e9 actividad se dedica principalmente la empresa u organizaci\u00f3n donde Ud. (o el cabeza de familia) \n",
        "trabaja/ba? \n",
        "\n",
        "Producci\u00f3n agr\u00edcola y ganadera, silvicultura, caza y pesca \n",
        "Servicios agr\u00edcolas y ganaderos  \n",
        "Energ\u00eda, extracci\u00f3n y preparaci\u00f3n de combustibles \n",
        "Extracci\u00f3n y transformaci\u00f3n de minerales no energ\u00e9ticos, industria qu\u00edmica \n",
        "Metalurgia, maquinaria y material el\u00e9ctrico \n",
        "Material de transporte e instrumentos de precisi\u00f3n  \n",
        "Alimentos, bebidas y tabaco \n",
        "Textiles, cuero, calzado y confecci\u00f3n \n",
        "Otras industrias manufactureras \n",
        "Construcci\u00f3n \n",
        "Comercio al por mayor y por menor  \n",
        "Restaurantes, caf\u00e9s y hosteler\u00eda  \n",
        "Reparaciones  \n",
        "Transporte y comunicaciones \n",
        "Finanzas, seguros y actividades inmobiliarias \n",
        "Servicios prestados a las empresas, alquileres de bienes  \n",
        "Administraciones P\u00fablicas, Defensa, Seguridad Social, Diplomacia \n",
        "Servicios de saneamiento de v\u00edas p\u00fablicas, servicios personales y servicio dom\u00e9stico \n",
        "Educaci\u00f3n, investigaci\u00f3n, sanidad, asistencia social  \n",
        "Servicios recreativos y culturales  \n",
        "N.C.  \n",
        " \n",
        "(N)  \n",
        "\n",
        "11,3 \n",
        ",2 \n",
        "1,1 \n",
        "3,0 \n",
        "6,6 \n",
        "1,9 \n",
        "2,5 \n",
        "3,0 \n",
        "4,2 \n",
        "10,3 \n",
        "12,0 \n",
        "6,4 \n",
        "2,1 \n",
        "7,4 \n",
        "2,1 \n",
        "2,6 \n",
        "6,4 \n",
        "5,3 \n",
        "8,3 \n",
        "1,4 \n",
        "1,7 \n",
        " \n",
        "(2474) \n",
        "\n",
        "Preguntas 30 a 34 \n",
        "\n",
        "Directores y profesionales  \n",
        "T\u00e9cnicos y cuadros medios \n",
        "Peque\u00f1os empresarios  \n",
        "Agricultores \n",
        "Empleados de oficinas y servicios \n",
        "Obreros cualificados  \n",
        "Obreros no cualificados \n",
        "Jubilados y pensionistas \n",
        "Parados \n",
        "Estudiantes \n",
        "Sus labores  \n",
        "No clasificables  \n",
        " \n",
        "(N)  \n",
        "\n",
        "2,8 \n",
        "6,2 \n",
        "5,0 \n",
        ",8 \n",
        "7,3 \n",
        "9,9 \n",
        "8,4 \n",
        "22,2 \n",
        "9,3 \n",
        "7,1 \n",
        "17,9 \n",
        "2,9 \n",
        " \n",
        "(2492) \n",
        "\n",
        " \n",
        " \n",
        "  \n",
        "\n",
        "- 24 -\n",
        "\n",
        "\f",
        " \n",
        "\n",
        " \n",
        " \n",
        "\n",
        " \n",
        "CIS \n",
        "Estudio n\u00ba 2.376. Bar\u00f3metro de noviembre  \n",
        " \n",
        " \n",
        "\n",
        "Estatus socioecon\u00f3mico: \n",
        "\n",
        "Noviembre 1999 \n",
        "\n",
        "Clase alta/ media-alta \n",
        "Nuevas clases medias \n",
        "Viejas clases medias \n",
        "Obreros cualificados \n",
        "Obreros no cualificados  \n",
        " \n",
        "(N)  \n",
        "\n",
        "13,4 \n",
        "16,2 \n",
        "18,4 \n",
        "34,4 \n",
        "17,6 \n",
        " \n",
        "(2385) \n",
        "\n",
        " \n",
        "\n",
        " \n",
        " \n",
        "  \n",
        "\n",
        "- 25 -\n",
        "\n",
        "\f",
        "\n"
       ]
      }
     ],
     "prompt_number": 79
    },
    {
     "cell_type": "code",
     "collapsed": false,
     "input": [
      "# http://stackoverflow.com/questions/26494211/extracting-text-from-a-pdf-file-using-pdfminer-in-python\n",
      "\n",
      "from pdfminer.pdfinterp import PDFResourceManager, PDFPageInterpreter\n",
      "from pdfminer.converter import TextConverter\n",
      "from pdfminer.layout import LAParams\n",
      "from pdfminer.pdfpage import PDFPage\n",
      "from cStringIO import StringIO\n",
      "\n",
      "def convert_pdf_from_stream_to_txt(gridFS_result, codec = 'utf-8'):\n",
      "    rsrcmgr = PDFResourceManager()\n",
      "    retstr = StringIO()\n",
      "    laparams = LAParams()\n",
      "    device = TextConverter(rsrcmgr, retstr, codec=codec, laparams=laparams)\n",
      "    \n",
      "    '''\n",
      "    output=open(\"CIS/docs/temp_file_001\",\"wb\")\n",
      "    output.write(gridFS_result.read())\n",
      "    output.close()\n",
      "    \n",
      "    fp = file(\"CIS/docs/temp_file_001\", 'rb')\n",
      "    '''\n",
      "    fp = gridFS_result\n",
      "    \n",
      "    interpreter = PDFPageInterpreter(rsrcmgr, device)\n",
      "    password = \"\"\n",
      "    maxpages = 0\n",
      "    caching = True\n",
      "    pagenos=set()\n",
      "\n",
      "    for page in PDFPage.get_pages(fp, pagenos, maxpages=maxpages, password=password,caching=caching, check_extractable=True):\n",
      "        interpreter.process_page(page)\n",
      "\n",
      "    text = retstr.getvalue()\n",
      "\n",
      "    # fp.close()\n",
      "    device.close()\n",
      "    retstr.close()\n",
      "    \n",
      "    # http://stackoverflow.com/questions/25315566/unicodedecodeerror-in-nltks-word-tokenize-despite-i-forced-the-encoding\n",
      "    text = text.decode(codec)\n",
      "    return text"
     ],
     "language": "python",
     "metadata": {},
     "outputs": [],
     "prompt_number": 31
    },
    {
     "cell_type": "heading",
     "level": 2,
     "metadata": {},
     "source": [
      "Scraping de la web del CIS (Centro de Investigaciones Sociol\u00f3gicas)"
     ]
    },
    {
     "cell_type": "heading",
     "level": 3,
     "metadata": {},
     "source": [
      "Obtenim el llistat de tots els \"Bar\u00f3metros - Depositados en Banco de Datos\" (desde l'actualitat fins 06/04/94: 2087, BAR\u00d3METRO ABRIL 1994)"
     ]
    },
    {
     "cell_type": "code",
     "collapsed": false,
     "input": [
      "# http://stackoverflow.com/questions/23377533/python-beautifulsoup-parsing-table\n",
      "\n",
      "# B\u00fasqueda amb un par\u00e0metre: p\u00e0gina\n",
      "# http://www.cis.es/cis/opencm/ES/11_barometros/depositados.jsp?pagina=1&orden=1&desc=null\n",
      "\n",
      "# Mime types\n",
      "# http://www.iana.org/assignments/media-types/media-types.xhtml\n",
      "\n",
      "from selenium import webdriver\n",
      "from selenium.webdriver.common.by import By\n",
      "from selenium.webdriver.support import expected_conditions as EC\n",
      "from selenium.webdriver.support.ui import WebDriverWait\n",
      "from selenium.common.exceptions import TimeoutException\n",
      "from selenium.common.exceptions import NoSuchElementException\n",
      "from bs4 import BeautifulSoup\n",
      "import re\n",
      "import os \n",
      "import time\n",
      "import datetime\n",
      "\n",
      "os.environ[\"PATH\"] = 'C:\\Users\\pablo_000\\Documents\\P\\Data Science\\chromedriver' \\\n",
      "    + os.pathsep + 'C:\\Users\\pfernandezs\\Documents\\P\\Cosas\\Data Science\\posgrau\\chromedriver'\n",
      "\n",
      "browser = webdriver.Chrome()\n",
      "\n",
      "url_CIS = \"http://www.cis.es\"\n",
      "delay = 5\n",
      "element_id = \"logos_pie\"\n",
      "\n",
      "num_barometro = 0\n",
      "continue_scraping = True\n",
      "web_page = 1\n",
      "barometro_docs_dict = {}\n",
      "\n",
      "while continue_scraping :\n",
      "\n",
      "    url_page = \"http://www.cis.es/cis/opencm/ES/11_barometros/depositados.jsp?pagina={}&orden=1&desc=null\".format(web_page)\n",
      "    browser.get(url_page)\n",
      "\n",
      "    # Wait for the page to load\n",
      "    # http://selenium-python.readthedocs.org/en/latest/waits.html\n",
      "    try:\n",
      "        WebDriverWait(browser, delay).until(EC.presence_of_element_located((By.ID, element_id)))\n",
      "        # print \"Page is ready!\"\n",
      "    except TimeoutException:\n",
      "        print \"Loading took too much time!\"\n",
      "    except NoSuchElementException:\n",
      "        print \"Element id didn't find: \" + element_id        \n",
      "\n",
      "    html_page=browser.page_source\n",
      "\n",
      "    if html_page is not None:\n",
      "        print \"Parsing: ...\" + url_page\n",
      "\n",
      "        soup = BeautifulSoup(html_page)\n",
      "\n",
      "        table_resultados = soup.find('table', {'class' : 'resultados'})\n",
      "        table_resultados_body = table_resultados.find('tbody')\n",
      "        \n",
      "        table_resultados_rows = table_resultados_body.findAll('tr')\n",
      "        \n",
      "        for row in table_resultados_rows:\n",
      "            # <td class=\"fecha\">\n",
      "            td_fecha = row.find('td', {'class' : 'fecha'})\n",
      "            # <td class=\"numero\">\n",
      "            td_numero = row.find('td', {'class' : 'numero'})\n",
      "            # <td class=\"titulo\">\n",
      "            td_titulo = row.find('td', {'class' : 'titulo'})\n",
      "            # <td class=\"ficheros\">\n",
      "            td_ficheros = row.find('td', {'class' : 'ficheros'})\n",
      "            \n",
      "            url_barometro = \"\"\n",
      "            # <a class=\"cruces\" target=\"_blank\" title='Resultados en html del estudio 3050. Enlace en nueva ventana' \n",
      "            # href='/cis/export/sites/default/-Archivos/Marginales/3040_3059/3050/es3050mar.html'>\n",
      "            a_html = td_ficheros.find('a', attrs={'title': re.compile(\"^Resultado\"), 'href': re.compile(\".html$\")})\n",
      "            if a_html:\n",
      "                url_barometro = url_CIS + a_html['href']\n",
      "                # raw_doc = get_html_page(url_barometro)\n",
      "                id_raw_doc = ''\n",
      "                doc_type = 'text/html'\n",
      "            else:\n",
      "                a_pdf = td_ficheros.find('a', attrs={'title': re.compile(\"^Resultado\"), 'href': re.compile(\".pdf$\")})\n",
      "                if a_pdf:\n",
      "                    url_barometro = url_CIS + a_pdf['href']\n",
      "                    id_raw_doc = ''\n",
      "                    doc_type = 'application/pdf'\n",
      "                else:\n",
      "                    print \"Resultado no encontrado:\", td_fecha.getText().strip(), \"|\", \\\n",
      "                        td_numero.getText().strip(), \"|\", \\\n",
      "                        td_titulo.getText().strip()\n",
      "                        \n",
      "            if url_barometro != \"\":\n",
      "                barometro_docs_dict[num_barometro] = \\\n",
      "                    {'date': datetime.datetime.strptime(td_fecha.getText().strip(), \"%d/%m/%y\"), \\\n",
      "                    'number': td_numero.getText().strip(), \\\n",
      "                    'title': td_titulo.getText().strip(), \\\n",
      "                    'url': url_barometro, \\\n",
      "                    'id_raw_doc': id_raw_doc, \\\n",
      "                    'doc_type': doc_type, \\\n",
      "                    'updated_raw_doc': datetime.datetime.utcnow(), \\\n",
      "                    'barometro_dict': {} \\\n",
      "                    }\n",
      "                num_barometro += 1\n",
      "\n",
      "    web_page += 1\n",
      "\n",
      "    if web_page > 8:\n",
      "        print \"Reached web_page limit:\", web_page\n",
      "        continue_scraping = False\n",
      "    \n",
      "\n",
      "print \"Num. docs:\", len(barometro_docs_dict)\n",
      "# print barometro_docs_dict\n",
      "print \"Saving 'barometro_docs_dict'...\"\n",
      "save_dict_json(barometro_docs_dict, 'barometro_docs_dict.json')"
     ],
     "language": "python",
     "metadata": {},
     "outputs": [
      {
       "output_type": "stream",
       "stream": "stdout",
       "text": [
        "Parsing: ...http://www.cis.es/cis/opencm/ES/11_barometros/depositados.jsp?pagina=1&orden=1&desc=null\n",
        "Parsing: ...http://www.cis.es/cis/opencm/ES/11_barometros/depositados.jsp?pagina=2&orden=1&desc=null"
       ]
      },
      {
       "output_type": "stream",
       "stream": "stdout",
       "text": [
        "\n",
        "Resultado no encontrado:"
       ]
      },
      {
       "output_type": "stream",
       "stream": "stdout",
       "text": [
        " 02/11/11 | 2917 | BAR\u00d3METRO NOVIEMBRE 2011\n",
        "Parsing: ...http://www.cis.es/cis/opencm/ES/11_barometros/depositados.jsp?pagina=3&orden=1&desc=null"
       ]
      },
      {
       "output_type": "stream",
       "stream": "stdout",
       "text": [
        "\n",
        "Parsing: ...http://www.cis.es/cis/opencm/ES/11_barometros/depositados.jsp?pagina=4&orden=1&desc=null"
       ]
      },
      {
       "output_type": "stream",
       "stream": "stdout",
       "text": [
        "\n",
        "Parsing: ...http://www.cis.es/cis/opencm/ES/11_barometros/depositados.jsp?pagina=5&orden=1&desc=null"
       ]
      },
      {
       "output_type": "stream",
       "stream": "stdout",
       "text": [
        "\n",
        "Parsing: ...http://www.cis.es/cis/opencm/ES/11_barometros/depositados.jsp?pagina=6&orden=1&desc=null"
       ]
      },
      {
       "output_type": "stream",
       "stream": "stdout",
       "text": [
        "\n",
        "Parsing: ...http://www.cis.es/cis/opencm/ES/11_barometros/depositados.jsp?pagina=7&orden=1&desc=null"
       ]
      },
      {
       "output_type": "stream",
       "stream": "stdout",
       "text": [
        "\n",
        "Parsing: ...http://www.cis.es/cis/opencm/ES/11_barometros/depositados.jsp?pagina=8&orden=1&desc=null"
       ]
      },
      {
       "output_type": "stream",
       "stream": "stdout",
       "text": [
        "\n",
        "Resultado no encontrado:"
       ]
      },
      {
       "output_type": "stream",
       "stream": "stdout",
       "text": [
        " 18/03/94 | 2085 | BAR\u00d3METRO MARZO 1994\n",
        "Resultado no encontrado: 22/02/94 | 2083 | BAR\u00d3METRO FEBRERO 1994\n",
        "Resultado no encontrado: 12/01/94 | 2077 | BAR\u00d3METRO ENERO 1994\n",
        "Resultado no encontrado: 16/12/93 | 2076 | BAR\u00d3METRO DICIEMBRE 1993\n",
        "Resultado no encontrado: 26/11/93 | 2073 | BAR\u00d3METRO NOVIEMBRE 1993\n",
        "Resultado no encontrado: 13/10/93 | 2068 | BAR\u00d3METRO OCTUBRE 1993\n",
        "Resultado no encontrado: 21/09/93 | 2066 | BAR\u00d3METRO SEPTIEMBRE 1993\n",
        "Resultado no encontrado: 24/07/93 | 2065 | BAR\u00d3METRO JULIO 1993\n",
        "Resultado no encontrado: 25/06/93 | 2062 | BAR\u00d3METRO JUNIO 1993\n",
        "Resultado no encontrado: 15/05/93 | 2059 | BAR\u00d3METRO MAYO 1993\n",
        "Resultado no encontrado: 24/04/93 | 2055 | BAR\u00d3METRO ABRIL 1993: PREELECTORAL ELECCIONES GENERALES 1993 (II)\n",
        "Reached web_page limit: 9\n",
        "Num. docs: 228\n",
        "Saving 'barometro_docs_dict'...\n"
       ]
      }
     ],
     "prompt_number": 43
    },
    {
     "cell_type": "markdown",
     "metadata": {},
     "source": [
      "A partir de \"ABRIL 1994\" no es troben els resultats del bar\u00f2metre:\n",
      "\n",
      "    Resultado no encontrado: 18/03/94 | 2085 | BAR\u00d3METRO MARZO 1994\n",
      "    Resultado no encontrado: 22/02/94 | 2083 | BAR\u00d3METRO FEBRERO 1994\n",
      "    Resultado no encontrado: 12/01/94 | 2077 | BAR\u00d3METRO ENERO 1994\n",
      "    Resultado no encontrado: 16/12/93 | 2076 | BAR\u00d3METRO DICIEMBRE 1993\n",
      "    Resultado no encontrado: 26/11/93 | 2073 | BAR\u00d3METRO NOVIEMBRE 1993\n",
      "    Resultado no encontrado: 13/10/93 | 2068 | BAR\u00d3METRO OCTUBRE 1993\n",
      "    Resultado no encontrado: 21/09/93 | 2066 | BAR\u00d3METRO SEPTIEMBRE 1993\n",
      "    Resultado no encontrado: 24/07/93 | 2065 | BAR\u00d3METRO JULIO 1993\n",
      "    Resultado no encontrado: 25/06/93 | 2062 | BAR\u00d3METRO JUNIO 1993\n",
      "    Resultado no encontrado: 15/05/93 | 2059 | BAR\u00d3METRO MAYO 1993\n",
      "    Resultado no encontrado: 24/04/93 | 2055 | BAR\u00d3METRO ABRIL 1993: PREELECTORAL ELECCIONES GENERALES 1993 (II)\n",
      "\n",
      "Per tant, nom\u00e9s hi ha un problema amb el bar\u00f2metre de \"NOVIEMBRE 2011\".  L'afegirem a m\u00e0 al diccionari:"
     ]
    },
    {
     "cell_type": "code",
     "collapsed": false,
     "input": [
      "# http://www.cis.es/cis/opencm/ES/11_barometros/depositados.jsp?pagina=2&orden=1&desc=null\n",
      "\n",
      "# <a class=\"cruces\" target=\"_blank\" title='Mapa para seleccionar muestras en html del estudio 2917. Enlace en nueva ventana' href='/cis/export/sites/default/-Archivos/Marginales/2900_2919/2917/Es2917_mapa.htm'>\n",
      "# 'href' -> http://www.cis.es/cis/export/sites/default/-Archivos/Marginales/2900_2919/2917/Es2917_mapa.htm\n",
      "'''\n",
      "<!--Total nacional 00-->\n",
      "<area shape=\"rect\" coords=\"153,05,279,20\"\n",
      " title=\"Muestra NACIONAL. Enlace a resultados y ficha t\u00e9cnica en formato html\"\n",
      " href=\"e291700.html\" target=\"_self\" alt=\"Muestra NACIONAL. Enlace a resultados y ficha t\u00e9cnica en formato html\" />\n",
      "\n",
      "<!--Pa\u00eds Vasco 01-->\n",
      "<area shape=\"rect\" coords=\"214,76,303,92\"\n",
      " title=\"Muestra del PA\u00cdS VASCO. Enlace a resultados y ficha t\u00e9cnica en formato html\"\n",
      " href=\"e291701.html\" target=\"_self\" alt=\"Muestra del PA\u00cdS VASCO. Enlace a resultados y ficha t\u00e9cnica en formato html\" />\n",
      "'''\n",
      "# Ens quedem amb els resultats 'Total nacional':\n",
      "url_barometro = \"http://www.cis.es/cis/export/sites/default/-Archivos/Marginales/2900_2919/2917/e291700.html\"\n",
      "\n",
      "num_barometro = len(barometro_docs_dict)\n",
      "\n",
      "barometro_docs_dict[num_barometro] = \\\n",
      "                    {'date': datetime.datetime.strptime('02/11/11', \"%d/%m/%y\"), \\\n",
      "                    'number': '2917', \\\n",
      "                    'title': 'BAR\u00d3METRO NOVIEMBRE 2011', \\\n",
      "                    'url': url_barometro, \\\n",
      "                    'id_raw_doc': '', \\\n",
      "                    'doc_type': 'text/html', \\\n",
      "                    'updated_raw_doc': datetime.datetime.utcnow(), \\\n",
      "                    'barometro_dict': {} \\\n",
      "                    }\n",
      "    \n",
      "print \"Num. docs:\", len(barometro_docs_dict)\n",
      "# print barometro_docs_dict\n",
      "print \"Saving 'barometro_docs_dict'...\"\n",
      "save_dict_json(barometro_docs_dict, 'barometro_docs_dict.json')"
     ],
     "language": "python",
     "metadata": {},
     "outputs": [
      {
       "output_type": "stream",
       "stream": "stdout",
       "text": [
        "Num. docs: 229\n",
        "Saving 'barometro_docs_dict'...\n"
       ]
      }
     ],
     "prompt_number": 44
    },
    {
     "cell_type": "heading",
     "level": 4,
     "metadata": {},
     "source": [
      "Estad\u00edstica dels tipus de docs obtinguts:"
     ]
    },
    {
     "cell_type": "code",
     "collapsed": false,
     "input": [
      "#\n",
      "loaded_barometro_docs_dict = load_dict_json('barometro_docs_dict.json')\n",
      "print \"Num. of docs:\", len(loaded_barometro_docs_dict)\n",
      "docs_type_html = 0\n",
      "docs_type_pdf = 0\n",
      "docs_type_others = 0\n",
      "for key in loaded_barometro_docs_dict:\n",
      "    if loaded_barometro_docs_dict[key]['doc_type'] == 'text/html':\n",
      "        docs_type_html += 1\n",
      "    elif loaded_barometro_docs_dict[key]['doc_type'] == 'application/pdf':\n",
      "        docs_type_pdf += 1\n",
      "    else:\n",
      "        docs_type_others += 1\n",
      "\n",
      "print \"Num. docs_type_html:\", docs_type_html, \",\", (100.*docs_type_html/len(loaded_barometro_docs_dict)), \"%\"\n",
      "print \"Num. docs_type_pdf:\", docs_type_pdf, \",\", (100.*docs_type_pdf/len(loaded_barometro_docs_dict)), \"%\"\n",
      "print \"Num. docs_type_others:\", docs_type_others, \",\", (100.*docs_type_others/len(loaded_barometro_docs_dict)), \"%\""
     ],
     "language": "python",
     "metadata": {},
     "outputs": [
      {
       "output_type": "stream",
       "stream": "stdout",
       "text": [
        "Num. of docs: 229\n",
        "Num. docs_type_html: 215 , 93.8864628821 %\n",
        "Num. docs_type_pdf: 14 , 6.1135371179 %\n",
        "Num. docs_type_others: 0 , 0.0 %\n"
       ]
      }
     ],
     "prompt_number": 7
    },
    {
     "cell_type": "heading",
     "level": 3,
     "metadata": {},
     "source": [
      "Creaci\u00f3 de la base de dades del CIS"
     ]
    },
    {
     "cell_type": "heading",
     "level": 4,
     "metadata": {},
     "source": [
      "Estructura del diccionari de documents"
     ]
    },
    {
     "cell_type": "code",
     "collapsed": false,
     "input": [
      "'''\n",
      "barometro_docs_dict = {\n",
      "    'date': <data del document (bar\u00f3metro del CIS)>,\n",
      "    'number': <n\u00famero identificador del document (CIS)>,\n",
      "    'title': <t\u00edtol del document (CIS)>,\n",
      "    'url': <url del document>,\n",
      "    'id_raw_doc': <id del fitxer amb el contingut del document (sense tractar)>,\n",
      "    'doc_type': <'html' | 'pdf'>,\n",
      "    'updated_raw_doc': <data d'actualitzaci\u00f3 del camp 'id_raw_doc'>,\n",
      "    'barometro_dict': <diccionari amb les preguntes i resultats del bar\u00f2metre>,\n",
      "    'updated_barometro_dict': <data d'actualitzaci\u00f3 del camp 'barometro_dict'>\n",
      "}\n",
      "\n",
      "barometro_dict = {\n",
      "\n",
      "}\n",
      "'''"
     ],
     "language": "python",
     "metadata": {},
     "outputs": []
    },
    {
     "cell_type": "heading",
     "level": 4,
     "metadata": {},
     "source": [
      "Obrir conexi\u00f3 a la BD 'CIS'"
     ]
    },
    {
     "cell_type": "code",
     "collapsed": false,
     "input": [
      "import pymongo\n",
      "\n",
      "# Create the connection to MongoDB\n",
      "try:\n",
      "    connection=pymongo.MongoClient()\n",
      "    print \"Connection to Mongo Daemon successful!!!\"\n",
      "except pymongo.errors.ConnectionFailure, e:\n",
      "    print \"Could not connect to MongoDB: %s\" % e\n",
      "    \n",
      "# Obtenim la BD del Congr\u00e9s\n",
      "db = connection['CIS']\n",
      "#\n",
      "print \"Collections:\", db.collection_names()"
     ],
     "language": "python",
     "metadata": {},
     "outputs": [
      {
       "output_type": "stream",
       "stream": "stdout",
       "text": [
        "Connection to Mongo Daemon successful!!!\n",
        "Collections: [u'system.indexes', u'barometro_docs', u'barometro_docs.chunks', u'barometro_docs.files']\n"
       ]
      }
     ],
     "prompt_number": 8
    },
    {
     "cell_type": "markdown",
     "metadata": {},
     "source": [
      "Check the database status http://127.0.0.1:28017/"
     ]
    },
    {
     "cell_type": "heading",
     "level": 4,
     "metadata": {},
     "source": [
      "Tancar la conexi\u00f3 a la BD"
     ]
    },
    {
     "cell_type": "code",
     "collapsed": false,
     "input": [
      "connection.close()"
     ],
     "language": "python",
     "metadata": {},
     "outputs": [],
     "prompt_number": 49
    },
    {
     "cell_type": "heading",
     "level": 4,
     "metadata": {},
     "source": [
      "Guardem el diccionari dels bar\u00f2metres"
     ]
    },
    {
     "cell_type": "code",
     "collapsed": false,
     "input": [
      "#\n",
      "collection = db['barometro_docs']\n",
      "collection.drop()\n",
      "\n",
      "#\n",
      "loaded_barometro_docs_dict = load_dict_json('barometro_docs_dict.json')\n",
      "print \"num. of docs:\", len(loaded_barometro_docs_dict)\n",
      "for key in loaded_barometro_docs_dict:\n",
      "    collection.insert(loaded_barometro_docs_dict[key])\n",
      "\n",
      "#\n",
      "print \"num. of rows: \", collection.count()\n",
      "for doc in collection.find():\n",
      "    print doc"
     ],
     "language": "python",
     "metadata": {},
     "outputs": [
      {
       "output_type": "stream",
       "stream": "stdout",
       "text": [
        "num. of docs: 229\n",
        "num. of rows: "
       ]
      },
      {
       "output_type": "stream",
       "stream": "stdout",
       "text": [
        " 229\n",
        "{u'doc_type': u'text/html', u'id_raw_doc': u'', u'title': u'BAR\\xd3METRO ABRIL 1995', u'url': u'http://www.cis.es/cis/export/sites/default/-Archivos/Marginales/2140_2159/2156/e215600.html', u'barometro_dict': {}, u'number': u'2156', u'date': datetime.datetime(1995, 4, 19, 0, 0), u'_id': ObjectId('5528dd7c7c4c6704c43c96c6'), u'updated_raw_doc': datetime.datetime(2015, 4, 11, 8, 34, 22, 496000)}\n",
        "{u'doc_type': u'text/html', u'id_raw_doc': u'', u'title': u'BAR\\xd3METRO MARZO 1995', u'url': u'http://www.cis.es/cis/export/sites/default/-Archivos/Marginales/2140_2159/2151/e215100.html', u'barometro_dict': {}, u'number': u'2151', u'date': datetime.datetime(1995, 3, 19, 0, 0), u'_id': ObjectId('5528dd7c7c4c6704c43c96c7'), u'updated_raw_doc': datetime.datetime(2015, 4, 11, 8, 34, 22, 496000)}\n",
        "{u'doc_type': u'text/html', u'id_raw_doc': u'', u'title': u'BAR\\xd3METRO JUNIO 1995', u'url': u'http://www.cis.es/cis/export/sites/default/-Archivos/Marginales/2180_2199/2184/e218400.html', u'barometro_dict': {}, u'number': u'2184', u'date': datetime.datetime(1995, 6, 25, 0, 0), u'_id': ObjectId('5528dd7c7c4c6704c43c96c8'), u'updated_raw_doc': datetime.datetime(2015, 4, 11, 8, 34, 22, 496000)}\n",
        "{u'doc_type': u'text/html', u'id_raw_doc': u'', u'title': u'BAR\\xd3METRO MAYO 1995', u'url': u'http://www.cis.es/cis/export/sites/default/-Archivos/Marginales/2180_2199/2181/e218100.html', u'barometro_dict': {}, u'number': u'2181', u'date': datetime.datetime(1995, 5, 25, 0, 0), u'_id': ObjectId('5528dd7c7c4c6704c43c96c9'), u'updated_raw_doc': datetime.datetime(2015, 4, 11, 8, 34, 22, 496000)}\n",
        "{u'doc_type': u'text/html', u'id_raw_doc': u'', u'title': u'BAR\\xd3METRO SEPTIEMBRE 1995', u'url': u'http://www.cis.es/cis/export/sites/default/-Archivos/Marginales/2180_2199/2190/e219000.html', u'barometro_dict': {}, u'number': u'2190', u'date': datetime.datetime(1995, 9, 13, 0, 0), u'_id': ObjectId('5528dd7c7c4c6704c43c96ca'), u'updated_raw_doc': datetime.datetime(2015, 4, 11, 8, 34, 22, 496000)}\n",
        "{u'doc_type': u'text/html', u'id_raw_doc': u'', u'title': u'BAR\\xd3METRO JULIO 1995: UNI\\xd3N EUROPEA', u'url': u'http://www.cis.es/cis/export/sites/default/-Archivos/Marginales/2180_2199/2188/e218800.html', u'barometro_dict': {}, u'number': u'2188', u'date': datetime.datetime(1995, 7, 12, 0, 0), u'_id': ObjectId('5528dd7c7c4c6704c43c96cb'), u'updated_raw_doc': datetime.datetime(2015, 4, 11, 8, 34, 22, 496000)}\n",
        "{u'doc_type': u'text/html', u'id_raw_doc': u'', u'title': u'BAR\\xd3METRO NOVIEMBRE 1995', u'url': u'http://www.cis.es/cis/export/sites/default/-Archivos/Marginales/2180_2199/2197/e219700.html', u'barometro_dict': {}, u'number': u'2197', u'date': datetime.datetime(1995, 11, 8, 0, 0), u'_id': ObjectId('5528dd7c7c4c6704c43c96cc'), u'updated_raw_doc': datetime.datetime(2015, 4, 11, 8, 34, 22, 496000)}\n",
        "{u'doc_type': u'text/html', u'id_raw_doc': u'', u'title': u'BAR\\xd3METRO OCTUBRE 1995', u'url': u'http://www.cis.es/cis/export/sites/default/-Archivos/Marginales/2180_2199/2194/e219400.html', u'barometro_dict': {}, u'number': u'2194', u'date': datetime.datetime(1995, 10, 17, 0, 0), u'_id': ObjectId('5528dd7c7c4c6704c43c96cd'), u'updated_raw_doc': datetime.datetime(2015, 4, 11, 8, 34, 22, 496000)}\n",
        "{u'doc_type': u'text/html', u'id_raw_doc': u'', u'title': u'BAR\\xd3METRO DICIEMBRE 1999: EXPECTATIVAS 2000', u'url': u'http://www.cis.es/cis/export/sites/default/-Archivos/Marginales/2360_2379/2377/e237700.html', u'barometro_dict': {}, u'number': u'2377', u'date': datetime.datetime(1999, 12, 16, 0, 0), u'_id': ObjectId('5528dd7c7c4c6704c43c96ce'), u'updated_raw_doc': datetime.datetime(2015, 4, 11, 8, 34, 8, 628000)}\n",
        "{u'doc_type': u'text/html', u'id_raw_doc': u'', u'title': u'BAR\\xd3METRO FEBRERO 1995', u'url': u'http://www.cis.es/cis/export/sites/default/-Archivos/Marginales/2120_2139/2132/e213200.html', u'barometro_dict': {}, u'number': u'2132', u'date': datetime.datetime(1995, 2, 2, 0, 0), u'_id': ObjectId('5528dd7c7c4c6704c43c96cf'), u'updated_raw_doc': datetime.datetime(2015, 4, 11, 8, 34, 22, 496000)}\n",
        "{u'doc_type': u'text/html', u'id_raw_doc': u'', u'title': u'BAR\\xd3METRO ENERO 1995', u'url': u'http://www.cis.es/cis/export/sites/default/-Archivos/Marginales/2120_2139/2130/e213000.html', u'barometro_dict': {}, u'number': u'2130', u'date': datetime.datetime(1995, 1, 12, 0, 0), u'_id': ObjectId('5528dd7c7c4c6704c43c96d0'), u'updated_raw_doc': datetime.datetime(2015, 4, 11, 8, 34, 22, 496000)}\n",
        "{u'doc_type': u'text/html', u'id_raw_doc': u'', u'title': u'BAR\\xd3METRO NOVIEMBRE 2002', u'url': u'http://www.cis.es/cis/export/sites/default/-Archivos/Marginales/2460_2479/2471/e247100.html', u'barometro_dict': {}, u'number': u'2471', u'date': datetime.datetime(2002, 11, 16, 0, 0), u'_id': ObjectId('5528dd7c7c4c6704c43c96d1'), u'updated_raw_doc': datetime.datetime(2015, 4, 11, 8, 34, 1, 413000)}\n",
        "{u'doc_type': u'text/html', u'id_raw_doc': u'', u'title': u'BAR\\xd3METRO DICIEMBRE 2002: EXPECTATIVAS 2003', u'url': u'http://www.cis.es/cis/export/sites/default/-Archivos/Marginales/2460_2479/2474/e247400.html', u'barometro_dict': {}, u'number': u'2474', u'date': datetime.datetime(2002, 12, 10, 0, 0), u'_id': ObjectId('5528dd7c7c4c6704c43c96d2'), u'updated_raw_doc': datetime.datetime(2015, 4, 11, 8, 34, 1, 413000)}\n",
        "{u'doc_type': u'text/html', u'id_raw_doc': u'', u'title': u'BAR\\xd3METRO ENERO 2003', u'url': u'http://www.cis.es/cis/export/sites/default/-Archivos/Marginales/2460_2479/2477/e247700.html', u'barometro_dict': {}, u'number': u'2477', u'date': datetime.datetime(2003, 1, 21, 0, 0), u'_id': ObjectId('5528dd7c7c4c6704c43c96d3'), u'updated_raw_doc': datetime.datetime(2015, 4, 11, 8, 34, 1, 413000)}\n",
        "{u'doc_type': u'text/html', u'id_raw_doc': u'', u'title': u'BAR\\xd3METRO FEBRERO 2003', u'url': u'http://www.cis.es/cis/export/sites/default/-Archivos/Marginales/2480_2499/2481/e248100.html', u'barometro_dict': {}, u'number': u'2481', u'date': datetime.datetime(2003, 2, 22, 0, 0), u'_id': ObjectId('5528dd7c7c4c6704c43c96d4'), u'updated_raw_doc': datetime.datetime(2015, 4, 11, 8, 34, 1, 413000)}\n",
        "{u'doc_type': u'text/html', u'id_raw_doc': u'', u'title': u'BAR\\xd3METRO JUNIO 2002', u'url': u'http://www.cis.es/cis/export/sites/default/-Archivos/Marginales/2440_2459/2459/e245900.html', u'barometro_dict': {}, u'number': u'2459', u'date': datetime.datetime(2002, 6, 26, 0, 0), u'_id': ObjectId('5528dd7c7c4c6704c43c96d5'), u'updated_raw_doc': datetime.datetime(2015, 4, 11, 8, 34, 1, 413000)}\n",
        "{u'doc_type': u'text/html', u'id_raw_doc': u'', u'title': u'BAR\\xd3METRO JULIO 2002', u'url': u'http://www.cis.es/cis/export/sites/default/-Archivos/Marginales/2460_2479/2463/e246300.html', u'barometro_dict': {}, u'number': u'2463', u'date': datetime.datetime(2002, 7, 16, 0, 0), u'_id': ObjectId('5528dd7c7c4c6704c43c96d6'), u'updated_raw_doc': datetime.datetime(2015, 4, 11, 8, 34, 1, 413000)}\n",
        "{u'doc_type': u'text/html', u'id_raw_doc': u'', u'title': u'BAR\\xd3METRO SEPTIEMBRE 2002', u'url': u'http://www.cis.es/cis/export/sites/default/-Archivos/Marginales/2460_2479/2466/e246600.html', u'barometro_dict': {}, u'number': u'2466', u'date': datetime.datetime(2002, 9, 24, 0, 0), u'_id': ObjectId('5528dd7c7c4c6704c43c96d7'), u'updated_raw_doc': datetime.datetime(2015, 4, 11, 8, 34, 1, 413000)}\n",
        "{u'doc_type': u'text/html', u'id_raw_doc': u'', u'title': u'BAR\\xd3METRO OCTUBRE 2002', u'url': u'http://www.cis.es/cis/export/sites/default/-Archivos/Marginales/2460_2479/2468/e246800.html', u'barometro_dict': {}, u'number': u'2468', u'date': datetime.datetime(2002, 10, 16, 0, 0), u'_id': ObjectId('5528dd7c7c4c6704c43c96d8'), u'updated_raw_doc': datetime.datetime(2015, 4, 11, 8, 34, 1, 413000)}\n",
        "{u'doc_type': u'text/html', u'id_raw_doc': u'', u'title': u'BAR\\xd3METRO ABRIL 2002', u'url': u'http://www.cis.es/cis/export/sites/default/-Archivos/Marginales/2440_2459/2454/e245400.html', u'barometro_dict': {}, u'number': u'2454', u'date': datetime.datetime(2002, 4, 16, 0, 0), u'_id': ObjectId('5528dd7c7c4c6704c43c96d9'), u'updated_raw_doc': datetime.datetime(2015, 4, 11, 8, 34, 1, 413000)}\n",
        "{u'doc_type': u'text/html', u'id_raw_doc': u'', u'title': u'BAR\\xd3METRO MAYO 2002', u'url': u'http://www.cis.es/cis/export/sites/default/-Archivos/Marginales/2440_2459/2457/e245700.html', u'barometro_dict': {}, u'number': u'2457', u'date': datetime.datetime(2002, 5, 20, 0, 0), u'_id': ObjectId('5528dd7c7c4c6704c43c96da'), u'updated_raw_doc': datetime.datetime(2015, 4, 11, 8, 34, 1, 413000)}\n",
        "{u'doc_type': u'application/pdf', u'id_raw_doc': u'', u'title': u'BAR\\xd3METRO NOVIEMBRE 1999', u'url': u'http://www.cis.es/cis/export/sites/default/-Archivos/Marginales/2360_2379/2376/Es2376mar.pdf', u'barometro_dict': {}, u'number': u'2376', u'date': datetime.datetime(1999, 11, 26, 0, 0), u'_id': ObjectId('5528dd7c7c4c6704c43c96db'), u'updated_raw_doc': datetime.datetime(2015, 4, 11, 8, 34, 8, 628000)}\n",
        "{u'doc_type': u'text/html', u'id_raw_doc': u'', u'title': u'BAR\\xd3METRO NOVIEMBRE 2012', u'url': u'http://www.cis.es/cis/export/sites/default/-Archivos/Marginales/2960_2979/2966/e296600.html', u'barometro_dict': {}, u'number': u'2966', u'date': datetime.datetime(2012, 11, 5, 0, 0), u'_id': ObjectId('5528dd7c7c4c6704c43c96dc'), u'updated_raw_doc': datetime.datetime(2015, 4, 11, 8, 33, 41, 305000)}\n",
        "{u'doc_type': u'text/html', u'id_raw_doc': u'', u'title': u'BAR\\xd3METRO OCTUBRE 2012', u'url': u'http://www.cis.es/cis/export/sites/default/-Archivos/Marginales/2960_2979/2960/e296000.html', u'barometro_dict': {}, u'number': u'2960', u'date': datetime.datetime(2012, 10, 2, 0, 0), u'_id': ObjectId('5528dd7c7c4c6704c43c96dd'), u'updated_raw_doc': datetime.datetime(2015, 4, 11, 8, 33, 41, 305000)}\n",
        "{u'doc_type': u'text/html', u'id_raw_doc': u'', u'title': u'BAR\\xd3METRO SEPTIEMBRE 2012', u'url': u'http://www.cis.es/cis/export/sites/default/-Archivos/Marginales/2940_2959/2954/e295400.html', u'barometro_dict': {}, u'number': u'2954', u'date': datetime.datetime(2012, 9, 3, 0, 0), u'_id': ObjectId('5528dd7c7c4c6704c43c96de'), u'updated_raw_doc': datetime.datetime(2015, 4, 11, 8, 33, 41, 305000)}\n",
        "{u'doc_type': u'text/html', u'id_raw_doc': u'', u'title': u'BAR\\xd3METRO JULIO 2012', u'url': u'http://www.cis.es/cis/export/sites/default/-Archivos/Marginales/2940_2959/2951/e295100.html', u'barometro_dict': {}, u'number': u'2951', u'date': datetime.datetime(2012, 7, 2, 0, 0), u'_id': ObjectId('5528dd7c7c4c6704c43c96df'), u'updated_raw_doc': datetime.datetime(2015, 4, 11, 8, 33, 41, 305000)}\n",
        "{u'doc_type': u'text/html', u'id_raw_doc': u'', u'title': u'BAR\\xd3METRO MARZO 2013', u'url': u'http://www.cis.es/cis/export/sites/default/-Archivos/Marginales/2980_2999/2981/e298100.html', u'barometro_dict': {}, u'number': u'2981', u'date': datetime.datetime(2013, 3, 1, 0, 0), u'_id': ObjectId('5528dd7c7c4c6704c43c96e0'), u'updated_raw_doc': datetime.datetime(2015, 4, 11, 8, 33, 41, 305000)}\n",
        "{u'doc_type': u'text/html', u'id_raw_doc': u'', u'title': u'BAR\\xd3METRO FEBRERO 2013', u'url': u'http://www.cis.es/cis/export/sites/default/-Archivos/Marginales/2960_2979/2978/e297800.html', u'barometro_dict': {}, u'number': u'2978', u'date': datetime.datetime(2013, 2, 4, 0, 0), u'_id': ObjectId('5528dd7c7c4c6704c43c96e1'), u'updated_raw_doc': datetime.datetime(2015, 4, 11, 8, 33, 41, 305000)}\n",
        "{u'doc_type': u'text/html', u'id_raw_doc': u'', u'title': u'BAR\\xd3METRO ENERO 2013', u'url': u'http://www.cis.es/cis/export/sites/default/-Archivos/Marginales/2960_2979/2976/e297600.html', u'barometro_dict': {}, u'number': u'2976', u'date': datetime.datetime(2013, 1, 4, 0, 0), u'_id': ObjectId('5528dd7c7c4c6704c43c96e2'), u'updated_raw_doc': datetime.datetime(2015, 4, 11, 8, 33, 41, 305000)}\n",
        "{u'doc_type': u'text/html', u'id_raw_doc': u'', u'title': u'BAR\\xd3METRO DICIEMBRE 2012', u'url': u'http://www.cis.es/cis/export/sites/default/-Archivos/Marginales/2960_2979/2972/e297200.html', u'barometro_dict': {}, u'number': u'2972', u'date': datetime.datetime(2012, 12, 1, 0, 0), u'_id': ObjectId('5528dd7c7c4c6704c43c96e3'), u'updated_raw_doc': datetime.datetime(2015, 4, 11, 8, 33, 41, 305000)}\n",
        "{u'doc_type': u'application/pdf', u'id_raw_doc': u'', u'title': u'BAR\\xd3METRO MAYO 2000: UNI\\xd3N EUROPEA', u'url': u'http://www.cis.es/cis/export/sites/default/-Archivos/Marginales/2380_2399/2392/Es2392mar.pdf', u'barometro_dict': {}, u'number': u'2392', u'date': datetime.datetime(2000, 5, 26, 0, 0), u'_id': ObjectId('5528dd7c7c4c6704c43c96e4'), u'updated_raw_doc': datetime.datetime(2015, 4, 11, 8, 34, 8, 628000)}\n",
        "{u'doc_type': u'text/html', u'id_raw_doc': u'', u'title': u'BAR\\xd3METRO JUNIO 2012', u'url': u'http://www.cis.es/cis/export/sites/default/-Archivos/Marginales/2940_2959/2948/e294800.html', u'barometro_dict': {}, u'number': u'2948', u'date': datetime.datetime(2012, 6, 2, 0, 0), u'_id': ObjectId('5528dd7c7c4c6704c43c96e5'), u'updated_raw_doc': datetime.datetime(2015, 4, 11, 8, 33, 41, 305000)}\n",
        "{u'doc_type': u'text/html', u'id_raw_doc': u'', u'title': u'BAR\\xd3METRO MAYO 2012', u'url': u'http://www.cis.es/cis/export/sites/default/-Archivos/Marginales/2940_2959/2944/e294400.html', u'barometro_dict': {}, u'number': u'2944', u'date': datetime.datetime(2012, 5, 3, 0, 0), u'_id': ObjectId('5528dd7c7c4c6704c43c96e6'), u'updated_raw_doc': datetime.datetime(2015, 4, 11, 8, 33, 41, 305000)}\n",
        "{u'doc_type': u'text/html', u'id_raw_doc': u'', u'title': u'BAR\\xd3METRO ABRIL 2000', u'url': u'http://www.cis.es/cis/export/sites/default/-Archivos/Marginales/2380_2399/2389/e238900.html', u'barometro_dict': {}, u'number': u'2389', u'date': datetime.datetime(2000, 4, 29, 0, 0), u'_id': ObjectId('5528dd7c7c4c6704c43c96e7'), u'updated_raw_doc': datetime.datetime(2015, 4, 11, 8, 34, 8, 628000)}\n",
        "{u'doc_type': u'text/html', u'id_raw_doc': u'', u'title': u'BAR\\xd3METRO DE ENERO 2015', u'url': u'http://www.cis.es/cis/export/sites/default/-Archivos/Marginales/3040_3059/3050/es3050mar.html', u'barometro_dict': {}, u'number': u'3050', u'date': datetime.datetime(2015, 1, 2, 0, 0), u'_id': ObjectId('5528dd7c7c4c6704c43c96e8'), u'updated_raw_doc': datetime.datetime(2015, 4, 11, 8, 33, 41, 289000)}\n",
        "{u'doc_type': u'text/html', u'id_raw_doc': u'', u'title': u'BAR\\xd3METRO DE SEPTIEMBRE 2014', u'url': u'http://www.cis.es/cis/export/sites/default/-Archivos/Marginales/3020_3039/3038/es3038mar.html', u'barometro_dict': {}, u'number': u'3038', u'date': datetime.datetime(2014, 9, 2, 0, 0), u'_id': ObjectId('5528dd7c7c4c6704c43c96e9'), u'updated_raw_doc': datetime.datetime(2015, 4, 11, 8, 33, 41, 289000)}\n",
        "{u'doc_type': u'text/html', u'id_raw_doc': u'', u'title': u'BAR\\xd3METRO DE ABRIL 2014', u'url': u'http://www.cis.es/cis/export/sites/default/-Archivos/Marginales/3020_3039/3021/es3021mar.html', u'barometro_dict': {}, u'number': u'3021', u'date': datetime.datetime(2014, 4, 1, 0, 0), u'_id': ObjectId('5528dd7c7c4c6704c43c96ea'), u'updated_raw_doc': datetime.datetime(2015, 4, 11, 8, 33, 41, 289000)}\n",
        "{u'doc_type': u'text/html', u'id_raw_doc': u'', u'title': u'BAR\\xd3METRO FEBRERO 2000', u'url': u'http://www.cis.es/cis/export/sites/default/-Archivos/Marginales/2380_2399/2383/e238300.html', u'barometro_dict': {}, u'number': u'2383', u'date': datetime.datetime(2000, 2, 25, 0, 0), u'_id': ObjectId('5528dd7c7c4c6704c43c96eb'), u'updated_raw_doc': datetime.datetime(2015, 4, 11, 8, 34, 8, 628000)}\n",
        "{u'doc_type': u'text/html', u'id_raw_doc': u'', u'title': u'BAR\\xd3METRO FEBRERO 2004', u'url': u'http://www.cis.es/cis/export/sites/default/-Archivos/Marginales/2540_2559/2556/e255600.html', u'barometro_dict': {}, u'number': u'2556', u'date': datetime.datetime(2004, 2, 20, 0, 0), u'_id': ObjectId('5528dd7c7c4c6704c43c96ec'), u'updated_raw_doc': datetime.datetime(2015, 4, 11, 8, 34, 1, 397000)}\n",
        "{u'doc_type': u'text/html', u'id_raw_doc': u'', u'title': u'BAR\\xd3METRO ENERO 2004', u'url': u'http://www.cis.es/cis/export/sites/default/-Archivos/Marginales/2540_2559/2554/e255400.html', u'barometro_dict': {}, u'number': u'2554', u'date': datetime.datetime(2004, 1, 10, 0, 0), u'_id': ObjectId('5528dd7c7c4c6704c43c96ed'), u'updated_raw_doc': datetime.datetime(2015, 4, 11, 8, 34, 1, 397000)}\n",
        "{u'doc_type': u'text/html', u'id_raw_doc': u'', u'title': u'BAR\\xd3METRO DICIEMBRE 2003: EXPECTATIVAS 2004', u'url': u'http://www.cis.es/cis/export/sites/default/-Archivos/Marginales/2540_2559/2548/e254800.html', u'barometro_dict': {}, u'number': u'2548', u'date': datetime.datetime(2003, 12, 10, 0, 0), u'_id': ObjectId('5528dd7c7c4c6704c43c96ee'), u'updated_raw_doc': datetime.datetime(2015, 4, 11, 8, 34, 1, 397000)}\n",
        "{u'doc_type': u'text/html', u'id_raw_doc': u'', u'title': u'BAR\\xd3METRO NOVIEMBRE 2003', u'url': u'http://www.cis.es/cis/export/sites/default/-Archivos/Marginales/2540_2559/2545/e254500.html', u'barometro_dict': {}, u'number': u'2545', u'date': datetime.datetime(2003, 11, 14, 0, 0), u'_id': ObjectId('5528dd7c7c4c6704c43c96ef'), u'updated_raw_doc': datetime.datetime(2015, 4, 11, 8, 34, 1, 397000)}\n",
        "{u'doc_type': u'text/html', u'id_raw_doc': u'', u'title': u'BAR\\xd3METRO OCTUBRE 2003', u'url': u'http://www.cis.es/cis/export/sites/default/-Archivos/Marginales/2540_2559/2541/e254100.html', u'barometro_dict': {}, u'number': u'2541', u'date': datetime.datetime(2003, 10, 25, 0, 0), u'_id': ObjectId('5528dd7c7c4c6704c43c96f0'), u'updated_raw_doc': datetime.datetime(2015, 4, 11, 8, 34, 1, 397000)}\n",
        "{u'doc_type': u'text/html', u'id_raw_doc': u'', u'title': u'BAR\\xd3METRO SEPTIEMBRE 2003', u'url': u'http://www.cis.es/cis/export/sites/default/-Archivos/Marginales/2520_2539/2535/e253500.html', u'barometro_dict': {}, u'number': u'2535', u'date': datetime.datetime(2003, 9, 8, 0, 0), u'_id': ObjectId('5528dd7c7c4c6704c43c96f1'), u'updated_raw_doc': datetime.datetime(2015, 4, 11, 8, 34, 1, 397000)}\n",
        "{u'doc_type': u'text/html', u'id_raw_doc': u'', u'title': u'BAR\\xd3METRO JULIO 2003', u'url': u'http://www.cis.es/cis/export/sites/default/-Archivos/Marginales/2520_2539/2531/e253100.html', u'barometro_dict': {}, u'number': u'2531', u'date': datetime.datetime(2003, 7, 2, 0, 0), u'_id': ObjectId('5528dd7c7c4c6704c43c96f2'), u'updated_raw_doc': datetime.datetime(2015, 4, 11, 8, 34, 1, 397000)}\n",
        "{u'doc_type': u'text/html', u'id_raw_doc': u'', u'title': u'BAR\\xd3METRO JUNIO 2003', u'url': u'http://www.cis.es/cis/export/sites/default/-Archivos/Marginales/2520_2539/2528/e252800.html', u'barometro_dict': {}, u'number': u'2528', u'date': datetime.datetime(2003, 6, 17, 0, 0), u'_id': ObjectId('5528dd7c7c4c6704c43c96f3'), u'updated_raw_doc': datetime.datetime(2015, 4, 11, 8, 34, 1, 397000)}\n",
        "{u'doc_type': u'text/html', u'id_raw_doc': u'', u'title': u'BAR\\xd3METRO MAYO 2003', u'url': u'http://www.cis.es/cis/export/sites/default/-Archivos/Marginales/2500_2519/2511/e251100.html', u'barometro_dict': {}, u'number': u'2511', u'date': datetime.datetime(2003, 5, 16, 0, 0), u'_id': ObjectId('5528dd7c7c4c6704c43c96f4'), u'updated_raw_doc': datetime.datetime(2015, 4, 11, 8, 34, 1, 397000)}\n",
        "{u'doc_type': u'text/html', u'id_raw_doc': u'', u'title': u'BAR\\xd3METRO ABRIL 2003', u'url': u'http://www.cis.es/cis/export/sites/default/-Archivos/Marginales/2500_2519/2508/e250800.html', u'barometro_dict': {}, u'number': u'2508', u'date': datetime.datetime(2003, 4, 24, 0, 0), u'_id': ObjectId('5528dd7c7c4c6704c43c96f5'), u'updated_raw_doc': datetime.datetime(2015, 4, 11, 8, 34, 1, 397000)}\n",
        "{u'doc_type': u'text/html', u'id_raw_doc': u'', u'title': u'BAR\\xd3METRO MARZO 2003', u'url': u'http://www.cis.es/cis/export/sites/default/-Archivos/Marginales/2480_2499/2483/e248300.html', u'barometro_dict': {}, u'number': u'2483', u'date': datetime.datetime(2003, 3, 15, 0, 0), u'_id': ObjectId('5528dd7c7c4c6704c43c96f6'), u'updated_raw_doc': datetime.datetime(2015, 4, 11, 8, 34, 1, 413000)}\n",
        "{u'doc_type': u'application/pdf', u'id_raw_doc': u'', u'title': u'BAR\\xd3METRO OCTUBRE 1999', u'url': u'http://www.cis.es/cis/export/sites/default/-Archivos/Marginales/2360_2379/2372/Es2372mar.pdf', u'barometro_dict': {}, u'number': u'2372', u'date': datetime.datetime(1999, 10, 22, 0, 0), u'_id': ObjectId('5528dd7c7c4c6704c43c96f7'), u'updated_raw_doc': datetime.datetime(2015, 4, 11, 8, 34, 8, 628000)}\n",
        "{u'doc_type': u'text/html', u'id_raw_doc': u'', u'title': u'BAR\\xd3METRO MARZO 2004', u'url': u'http://www.cis.es/cis/export/sites/default/-Archivos/Marginales/2540_2559/2558/e255800.html', u'barometro_dict': {}, u'number': u'2558', u'date': datetime.datetime(2004, 3, 16, 0, 0), u'_id': ObjectId('5528dd7c7c4c6704c43c96f8'), u'updated_raw_doc': datetime.datetime(2015, 4, 11, 8, 33, 57, 366000)}\n",
        "{u'doc_type': u'text/html', u'id_raw_doc': u'', u'title': u'BAR\\xd3METRO JULIO 2009', u'url': u'http://www.cis.es/cis/export/sites/default/-Archivos/Marginales/2800_2819/2811/e281100.html', u'barometro_dict': {}, u'number': u'2811', u'date': datetime.datetime(2009, 7, 7, 0, 0), u'_id': ObjectId('5528dd7c7c4c6704c43c96f9'), u'updated_raw_doc': datetime.datetime(2015, 4, 11, 8, 33, 52, 595000)}\n",
        "{u'doc_type': u'text/html', u'id_raw_doc': u'', u'title': u'BAR\\xd3METRO SEPTIEMBRE 2009', u'url': u'http://www.cis.es/cis/export/sites/default/-Archivos/Marginales/2800_2819/2812/e281200.html', u'barometro_dict': {}, u'number': u'2812', u'date': datetime.datetime(2009, 9, 4, 0, 0), u'_id': ObjectId('5528dd7c7c4c6704c43c96fa'), u'updated_raw_doc': datetime.datetime(2015, 4, 11, 8, 33, 46, 276000)}\n",
        "{u'doc_type': u'text/html', u'id_raw_doc': u'', u'title': u'BAR\\xd3METRO DICIEMBRE 2009', u'url': u'http://www.cis.es/cis/export/sites/default/-Archivos/Marginales/2820_2839/2824/e282400.html', u'barometro_dict': {}, u'number': u'2824', u'date': datetime.datetime(2009, 12, 1, 0, 0), u'_id': ObjectId('5528dd7c7c4c6704c43c96fb'), u'updated_raw_doc': datetime.datetime(2015, 4, 11, 8, 33, 46, 276000)}\n",
        "{u'doc_type': u'text/html', u'id_raw_doc': u'', u'title': u'BAR\\xd3METRO ENERO 2010', u'url': u'http://www.cis.es/cis/export/sites/default/-Archivos/Marginales/2820_2839/2828/e282800.html', u'barometro_dict': {}, u'number': u'2828', u'date': datetime.datetime(2010, 1, 9, 0, 0), u'_id': ObjectId('5528dd7c7c4c6704c43c96fc'), u'updated_raw_doc': datetime.datetime(2015, 4, 11, 8, 33, 46, 276000)}\n",
        "{u'doc_type': u'text/html', u'id_raw_doc': u'', u'title': u'BAR\\xd3METRO OCTUBRE 2009', u'url': u'http://www.cis.es/cis/export/sites/default/-Archivos/Marginales/2800_2819/2815/e281500.html', u'barometro_dict': {}, u'number': u'2815', u'date': datetime.datetime(2009, 10, 7, 0, 0), u'_id': ObjectId('5528dd7c7c4c6704c43c96fd'), u'updated_raw_doc': datetime.datetime(2015, 4, 11, 8, 33, 46, 276000)}\n",
        "{u'doc_type': u'text/html', u'id_raw_doc': u'', u'title': u'BAR\\xd3METRO NOVIEMBRE 2009', u'url': u'http://www.cis.es/cis/export/sites/default/-Archivos/Marginales/2820_2839/2820/e282000.html', u'barometro_dict': {}, u'number': u'2820', u'date': datetime.datetime(2009, 11, 2, 0, 0), u'_id': ObjectId('5528dd7c7c4c6704c43c96fe'), u'updated_raw_doc': datetime.datetime(2015, 4, 11, 8, 33, 46, 276000)}\n",
        "{u'doc_type': u'text/html', u'id_raw_doc': u'', u'title': u'BAR\\xd3METRO ABRIL 2010', u'url': u'http://www.cis.es/cis/export/sites/default/-Archivos/Marginales/2820_2839/2834/e283400.html', u'barometro_dict': {}, u'number': u'2834', u'date': datetime.datetime(2010, 4, 6, 0, 0), u'_id': ObjectId('5528dd7c7c4c6704c43c96ff'), u'updated_raw_doc': datetime.datetime(2015, 4, 11, 8, 33, 46, 272000)}\n",
        "{u'doc_type': u'text/html', u'id_raw_doc': u'', u'title': u'BAR\\xd3METRO MAYO 2010', u'url': u'http://www.cis.es/cis/export/sites/default/-Archivos/Marginales/2820_2839/2836/e283600.html', u'barometro_dict': {}, u'number': u'2836', u'date': datetime.datetime(2010, 5, 4, 0, 0), u'_id': ObjectId('5528dd7c7c4c6704c43c9700'), u'updated_raw_doc': datetime.datetime(2015, 4, 11, 8, 33, 46, 268000)}\n",
        "{u'doc_type': u'text/html', u'id_raw_doc': u'', u'title': u'BAR\\xd3METRO FEBRERO 2010', u'url': u'http://www.cis.es/cis/export/sites/default/-Archivos/Marginales/2820_2839/2830/e283000.html', u'barometro_dict': {}, u'number': u'2830', u'date': datetime.datetime(2010, 2, 5, 0, 0), u'_id': ObjectId('5528dd7c7c4c6704c43c9701'), u'updated_raw_doc': datetime.datetime(2015, 4, 11, 8, 33, 46, 272000)}\n",
        "{u'doc_type': u'text/html', u'id_raw_doc': u'', u'title': u'BAR\\xd3METRO MARZO 2010', u'url': u'http://www.cis.es/cis/export/sites/default/-Archivos/Marginales/2820_2839/2831/e283100.html', u'barometro_dict': {}, u'number': u'2831', u'date': datetime.datetime(2010, 3, 2, 0, 0), u'_id': ObjectId('5528dd7c7c4c6704c43c9702'), u'updated_raw_doc': datetime.datetime(2015, 4, 11, 8, 33, 46, 272000)}\n",
        "{u'doc_type': u'text/html', u'id_raw_doc': u'', u'title': u'BAR\\xd3METRO ENERO 2000', u'url': u'http://www.cis.es/cis/export/sites/default/-Archivos/Marginales/2380_2399/2381/e238100.html', u'barometro_dict': {}, u'number': u'2381', u'date': datetime.datetime(2000, 1, 27, 0, 0), u'_id': ObjectId('5528dd7c7c4c6704c43c9703'), u'updated_raw_doc': datetime.datetime(2015, 4, 11, 8, 34, 8, 628000)}\n",
        "{u'doc_type': u'text/html', u'id_raw_doc': u'', u'title': u'BAR\\xd3METRO SEPTIEMBRE 1996', u'url': u'http://www.cis.es/cis/export/sites/default/-Archivos/Marginales/2220_2239/2222/e222200.html', u'barometro_dict': {}, u'number': u'2222', u'date': datetime.datetime(1996, 9, 27, 0, 0), u'_id': ObjectId('5528dd7c7c4c6704c43c9704'), u'updated_raw_doc': datetime.datetime(2015, 4, 11, 8, 34, 17, 75000)}\n",
        "{u'doc_type': u'text/html', u'id_raw_doc': u'', u'title': u'BAR\\xd3METRO NOVIEMBRE 1996', u'url': u'http://www.cis.es/cis/export/sites/default/-Archivos/Marginales/2220_2239/2229/e222900.html', u'barometro_dict': {}, u'number': u'2229', u'date': datetime.datetime(1996, 11, 23, 0, 0), u'_id': ObjectId('5528dd7c7c4c6704c43c9705'), u'updated_raw_doc': datetime.datetime(2015, 4, 11, 8, 34, 17, 75000)}\n",
        "{u'doc_type': u'text/html', u'id_raw_doc': u'', u'title': u'BAR\\xd3METRO SEPTIEMBRE 1998', u'url': u'http://www.cis.es/cis/export/sites/default/-Archivos/Marginales/2300_2319/2303/e230300.html', u'barometro_dict': {}, u'number': u'2303', u'date': datetime.datetime(1998, 9, 25, 0, 0), u'_id': ObjectId('5528dd7c7c4c6704c43c9706'), u'updated_raw_doc': datetime.datetime(2015, 4, 11, 8, 34, 17, 59000)}\n",
        "{u'doc_type': u'text/html', u'id_raw_doc': u'', u'title': u'BAR\\xd3METRO OCTUBRE 1996', u'url': u'http://www.cis.es/cis/export/sites/default/-Archivos/Marginales/2220_2239/2225/e222500.html', u'barometro_dict': {}, u'number': u'2225', u'date': datetime.datetime(1996, 10, 26, 0, 0), u'_id': ObjectId('5528dd7c7c4c6704c43c9707'), u'updated_raw_doc': datetime.datetime(2015, 4, 11, 8, 34, 17, 75000)}\n",
        "{u'doc_type': u'text/html', u'id_raw_doc': u'', u'title': u'BAR\\xd3METRO MARZO 1997', u'url': u'http://www.cis.es/cis/export/sites/default/-Archivos/Marginales/2240_2259/2242/e224200.html', u'barometro_dict': {}, u'number': u'2242', u'date': datetime.datetime(1997, 3, 19, 0, 0), u'_id': ObjectId('5528dd7c7c4c6704c43c9708'), u'updated_raw_doc': datetime.datetime(2015, 4, 11, 8, 34, 17, 75000)}\n",
        "{u'doc_type': u'text/html', u'id_raw_doc': u'', u'title': u'BAR\\xd3METRO ABRIL 1997', u'url': u'http://www.cis.es/cis/export/sites/default/-Archivos/Marginales/2240_2259/2244/e224400.html', u'barometro_dict': {}, u'number': u'2244', u'date': datetime.datetime(1997, 4, 23, 0, 0), u'_id': ObjectId('5528dd7c7c4c6704c43c9709'), u'updated_raw_doc': datetime.datetime(2015, 4, 11, 8, 34, 17, 75000)}\n",
        "{u'doc_type': u'text/html', u'id_raw_doc': u'', u'title': u'BAR\\xd3METRO ENERO 1997', u'url': u'http://www.cis.es/cis/export/sites/default/-Archivos/Marginales/2220_2239/2233/e223300.html', u'barometro_dict': {}, u'number': u'2233', u'date': datetime.datetime(1997, 1, 23, 0, 0), u'_id': ObjectId('5528dd7c7c4c6704c43c970a'), u'updated_raw_doc': datetime.datetime(2015, 4, 11, 8, 34, 17, 75000)}\n",
        "{u'doc_type': u'text/html', u'id_raw_doc': u'', u'title': u'BAR\\xd3METRO OCTUBRE 1998', u'url': u'http://www.cis.es/cis/export/sites/default/-Archivos/Marginales/2300_2319/2307/e230700.html', u'barometro_dict': {}, u'number': u'2307', u'date': datetime.datetime(1998, 10, 26, 0, 0), u'_id': ObjectId('5528dd7c7c4c6704c43c970b'), u'updated_raw_doc': datetime.datetime(2015, 4, 11, 8, 34, 8, 628000)}\n",
        "{u'doc_type': u'text/html', u'id_raw_doc': u'', u'title': u'BAR\\xd3METRO JULIO 1997', u'url': u'http://www.cis.es/cis/export/sites/default/-Archivos/Marginales/2240_2259/2254/e225400.html', u'barometro_dict': {}, u'number': u'2254', u'date': datetime.datetime(1997, 7, 11, 0, 0), u'_id': ObjectId('5528dd7c7c4c6704c43c970c'), u'updated_raw_doc': datetime.datetime(2015, 4, 11, 8, 34, 17, 75000)}\n",
        "{u'doc_type': u'text/html', u'id_raw_doc': u'', u'title': u'BAR\\xd3METRO SEPTIEMBRE 1997', u'url': u'http://www.cis.es/cis/export/sites/default/-Archivos/Marginales/2240_2259/2259/e225900.html', u'barometro_dict': {}, u'number': u'2259', u'date': datetime.datetime(1997, 9, 26, 0, 0), u'_id': ObjectId('5528dd7c7c4c6704c43c970d'), u'updated_raw_doc': datetime.datetime(2015, 4, 11, 8, 34, 17, 75000)}\n",
        "{u'doc_type': u'text/html', u'id_raw_doc': u'', u'title': u'BAR\\xd3METRO MAYO 1997', u'url': u'http://www.cis.es/cis/export/sites/default/-Archivos/Marginales/2240_2259/2248/e224800.html', u'barometro_dict': {}, u'number': u'2248', u'date': datetime.datetime(1997, 5, 23, 0, 0), u'_id': ObjectId('5528dd7c7c4c6704c43c970e'), u'updated_raw_doc': datetime.datetime(2015, 4, 11, 8, 34, 17, 75000)}\n",
        "{u'doc_type': u'text/html', u'id_raw_doc': u'', u'title': u'BAR\\xd3METRO JUNIO 1997', u'url': u'http://www.cis.es/cis/export/sites/default/-Archivos/Marginales/2240_2259/2252/e225200.html', u'barometro_dict': {}, u'number': u'2252', u'date': datetime.datetime(1997, 6, 20, 0, 0), u'_id': ObjectId('5528dd7c7c4c6704c43c970f'), u'updated_raw_doc': datetime.datetime(2015, 4, 11, 8, 34, 17, 75000)}\n",
        "{u'doc_type': u'text/html', u'id_raw_doc': u'', u'title': u'BAR\\xd3METRO JUNIO 2004', u'url': u'http://www.cis.es/cis/export/sites/default/-Archivos/Marginales/2560_2579/2568/e256800.html', u'barometro_dict': {}, u'number': u'2568', u'date': datetime.datetime(2004, 6, 25, 0, 0), u'_id': ObjectId('5528dd7c7c4c6704c43c9710'), u'updated_raw_doc': datetime.datetime(2015, 4, 11, 8, 33, 57, 366000)}\n",
        "{u'doc_type': u'text/html', u'id_raw_doc': u'', u'title': u'BAR\\xd3METRO JULIO 2004', u'url': u'http://www.cis.es/cis/export/sites/default/-Archivos/Marginales/2560_2579/2570/e257000.html', u'barometro_dict': {}, u'number': u'2570', u'date': datetime.datetime(2004, 7, 9, 0, 0), u'_id': ObjectId('5528dd7c7c4c6704c43c9711'), u'updated_raw_doc': datetime.datetime(2015, 4, 11, 8, 33, 57, 366000)}\n",
        "{u'doc_type': u'text/html', u'id_raw_doc': u'', u'title': u'BAR\\xd3METRO DICIEMBRE 2006', u'url': u'http://www.cis.es/cis/export/sites/default/-Archivos/Marginales/2660_2679/2666/e266600.html', u'barometro_dict': {}, u'number': u'2666', u'date': datetime.datetime(2006, 12, 13, 0, 0), u'_id': ObjectId('5528dd7c7c4c6704c43c9712'), u'updated_raw_doc': datetime.datetime(2015, 4, 11, 8, 33, 52, 611000)}\n",
        "{u'doc_type': u'text/html', u'id_raw_doc': u'', u'title': u'BAR\\xd3METRO NOVIEMBRE 2006', u'url': u'http://www.cis.es/cis/export/sites/default/-Archivos/Marginales/2660_2679/2662/e266200.html', u'barometro_dict': {}, u'number': u'2662', u'date': datetime.datetime(2006, 11, 18, 0, 0), u'_id': ObjectId('5528dd7c7c4c6704c43c9713'), u'updated_raw_doc': datetime.datetime(2015, 4, 11, 8, 33, 57, 334000)}\n",
        "{u'doc_type': u'text/html', u'id_raw_doc': u'', u'title': u'BAR\\xd3METRO NOVIEMBRE 2004', u'url': u'http://www.cis.es/cis/export/sites/default/-Archivos/Marginales/2580_2599/2581/e258100.html', u'barometro_dict': {}, u'number': u'2581', u'date': datetime.datetime(2004, 11, 19, 0, 0), u'_id': ObjectId('5528dd7c7c4c6704c43c9714'), u'updated_raw_doc': datetime.datetime(2015, 4, 11, 8, 33, 57, 366000)}\n",
        "{u'doc_type': u'text/html', u'id_raw_doc': u'', u'title': u'BAR\\xd3METRO DICIEMBRE 2004: EXPECTATIVAS 2005', u'url': u'http://www.cis.es/cis/export/sites/default/-Archivos/Marginales/2580_2599/2584/e258400.html', u'barometro_dict': {}, u'number': u'2584', u'date': datetime.datetime(2004, 12, 15, 0, 0), u'_id': ObjectId('5528dd7c7c4c6704c43c9715'), u'updated_raw_doc': datetime.datetime(2015, 4, 11, 8, 33, 57, 366000)}\n",
        "{u'doc_type': u'text/html', u'id_raw_doc': u'', u'title': u'BAR\\xd3METRO SEPTIEMBRE 2004', u'url': u'http://www.cis.es/cis/export/sites/default/-Archivos/Marginales/2560_2579/2573/e257300.html', u'barometro_dict': {}, u'number': u'2573', u'date': datetime.datetime(2004, 9, 24, 0, 0), u'_id': ObjectId('5528dd7c7c4c6704c43c9716'), u'updated_raw_doc': datetime.datetime(2015, 4, 11, 8, 33, 57, 366000)}\n",
        "{u'doc_type': u'text/html', u'id_raw_doc': u'', u'title': u'BAR\\xd3METRO OCTUBRE 2004', u'url': u'http://www.cis.es/cis/export/sites/default/-Archivos/Marginales/2560_2579/2577/e257700.html', u'barometro_dict': {}, u'number': u'2577', u'date': datetime.datetime(2004, 10, 21, 0, 0), u'_id': ObjectId('5528dd7c7c4c6704c43c9717'), u'updated_raw_doc': datetime.datetime(2015, 4, 11, 8, 33, 57, 366000)}\n",
        "{u'doc_type': u'text/html', u'id_raw_doc': u'', u'title': u'BAR\\xd3METRO JUNIO 2007', u'url': u'http://www.cis.es/cis/export/sites/default/-Archivos/Marginales/2720_2739/2724/e272400.html', u'barometro_dict': {}, u'number': u'2724', u'date': datetime.datetime(2007, 6, 22, 0, 0), u'_id': ObjectId('5528dd7c7c4c6704c43c9718'), u'updated_raw_doc': datetime.datetime(2015, 4, 11, 8, 33, 52, 595000)}\n",
        "{u'doc_type': u'text/html', u'id_raw_doc': u'', u'title': u'BAR\\xd3METRO MAYO 2007', u'url': u'http://www.cis.es/cis/export/sites/default/-Archivos/Marginales/2700_2719/2705/e270500.html', u'barometro_dict': {}, u'number': u'2705', u'date': datetime.datetime(2007, 5, 19, 0, 0), u'_id': ObjectId('5528dd7c7c4c6704c43c9719'), u'updated_raw_doc': datetime.datetime(2015, 4, 11, 8, 33, 52, 595000)}\n",
        "{u'doc_type': u'text/html', u'id_raw_doc': u'', u'title': u'BAR\\xd3METRO SEPTIEMBRE 2007', u'url': u'http://www.cis.es/cis/export/sites/default/-Archivos/Marginales/2720_2739/2732/e273200.html', u'barometro_dict': {}, u'number': u'2732', u'date': datetime.datetime(2007, 9, 24, 0, 0), u'_id': ObjectId('5528dd7c7c4c6704c43c971a'), u'updated_raw_doc': datetime.datetime(2015, 4, 11, 8, 33, 52, 595000)}\n",
        "{u'doc_type': u'text/html', u'id_raw_doc': u'', u'title': u'BAR\\xd3METRO JULIO 2007', u'url': u'http://www.cis.es/cis/export/sites/default/-Archivos/Marginales/2720_2739/2728/e272800.html', u'barometro_dict': {}, u'number': u'2728', u'date': datetime.datetime(2007, 7, 6, 0, 0), u'_id': ObjectId('5528dd7c7c4c6704c43c971b'), u'updated_raw_doc': datetime.datetime(2015, 4, 11, 8, 33, 52, 595000)}\n",
        "{u'doc_type': u'text/html', u'id_raw_doc': u'', u'title': u'BAR\\xd3METRO FEBRERO 2007', u'url': u'http://www.cis.es/cis/export/sites/default/-Archivos/Marginales/2660_2679/2677/e267700.html', u'barometro_dict': {}, u'number': u'2677', u'date': datetime.datetime(2007, 2, 22, 0, 0), u'_id': ObjectId('5528dd7c7c4c6704c43c971c'), u'updated_raw_doc': datetime.datetime(2015, 4, 11, 8, 33, 52, 595000)}\n",
        "{u'doc_type': u'text/html', u'id_raw_doc': u'', u'title': u'BAR\\xd3METRO ENERO 2007', u'url': u'http://www.cis.es/cis/export/sites/default/-Archivos/Marginales/2660_2679/2672/e267200.html', u'barometro_dict': {}, u'number': u'2672', u'date': datetime.datetime(2007, 1, 22, 0, 0), u'_id': ObjectId('5528dd7c7c4c6704c43c971d'), u'updated_raw_doc': datetime.datetime(2015, 4, 11, 8, 33, 52, 595000)}\n",
        "{u'doc_type': u'text/html', u'id_raw_doc': u'', u'title': u'BAR\\xd3METRO ABRIL 2007', u'url': u'http://www.cis.es/cis/export/sites/default/-Archivos/Marginales/2700_2719/2700/e270000.html', u'barometro_dict': {}, u'number': u'2700', u'date': datetime.datetime(2007, 4, 23, 0, 0), u'_id': ObjectId('5528dd7c7c4c6704c43c971e'), u'updated_raw_doc': datetime.datetime(2015, 4, 11, 8, 33, 52, 595000)}\n",
        "{u'doc_type': u'text/html', u'id_raw_doc': u'', u'title': u'BAR\\xd3METRO MARZO 2007', u'url': u'http://www.cis.es/cis/export/sites/default/-Archivos/Marginales/2680_2699/2681/e268100.html', u'barometro_dict': {}, u'number': u'2681', u'date': datetime.datetime(2007, 3, 17, 0, 0), u'_id': ObjectId('5528dd7c7c4c6704c43c971f'), u'updated_raw_doc': datetime.datetime(2015, 4, 11, 8, 33, 52, 595000)}\n",
        "{u'doc_type': u'text/html', u'id_raw_doc': u'', u'title': u'BAR\\xd3METRO DICIEMBRE 1996', u'url': u'http://www.cis.es/cis/export/sites/default/-Archivos/Marginales/2220_2239/2231/e223100.html', u'barometro_dict': {}, u'number': u'2231', u'date': datetime.datetime(1996, 12, 17, 0, 0), u'_id': ObjectId('5528dd7c7c4c6704c43c9720'), u'updated_raw_doc': datetime.datetime(2015, 4, 11, 8, 34, 17, 75000)}\n",
        "{u'doc_type': u'text/html', u'id_raw_doc': u'', u'title': u'BAR\\xd3METRO MARZO 1996', u'url': u'http://www.cis.es/cis/export/sites/default/-Archivos/Marginales/2200_2219/2211/e221100.html', u'barometro_dict': {}, u'number': u'2211', u'date': datetime.datetime(1996, 3, 27, 0, 0), u'_id': ObjectId('5528dd7c7c4c6704c43c9721'), u'updated_raw_doc': datetime.datetime(2015, 4, 11, 8, 34, 17, 75000)}\n",
        "{u'doc_type': u'text/html', u'id_raw_doc': u'', u'title': u'BAR\\xd3METRO MAYO 1994', u'url': u'http://www.cis.es/cis/export/sites/default/-Archivos/Marginales/2100_2119/2100/es2100mar.html', u'barometro_dict': {}, u'number': u'2100', u'date': datetime.datetime(1994, 5, 12, 0, 0), u'_id': ObjectId('5528dd7c7c4c6704c43c9722'), u'updated_raw_doc': datetime.datetime(2015, 4, 11, 8, 34, 22, 496000)}\n",
        "{u'doc_type': u'text/html', u'id_raw_doc': u'', u'title': u'BAR\\xd3METRO DE OCTUBRE 2014', u'url': u'http://www.cis.es/cis/export/sites/default/-Archivos/Marginales/3040_3059/3041/es3041mar.html', u'barometro_dict': {}, u'number': u'3041', u'date': datetime.datetime(2014, 10, 1, 0, 0), u'_id': ObjectId('5528dd7c7c4c6704c43c9723'), u'updated_raw_doc': datetime.datetime(2015, 4, 11, 8, 33, 41, 289000)}\n",
        "{u'doc_type': u'text/html', u'id_raw_doc': u'', u'title': u'BAR\\xd3METRO NOVIEMBRE 1998', u'url': u'http://www.cis.es/cis/export/sites/default/-Archivos/Marginales/2300_2319/2311/e231100.html', u'barometro_dict': {}, u'number': u'2311', u'date': datetime.datetime(1998, 11, 26, 0, 0), u'_id': ObjectId('5528dd7c7c4c6704c43c9724'), u'updated_raw_doc': datetime.datetime(2015, 4, 11, 8, 34, 8, 628000)}\n",
        "{u'doc_type': u'text/html', u'id_raw_doc': u'', u'title': u'BAR\\xd3METRO DE MAYO 2014', u'url': u'http://www.cis.es/cis/export/sites/default/-Archivos/Marginales/3020_3039/3024/es3024mar.html', u'barometro_dict': {}, u'number': u'3024', u'date': datetime.datetime(2014, 5, 1, 0, 0), u'_id': ObjectId('5528dd7c7c4c6704c43c9725'), u'updated_raw_doc': datetime.datetime(2015, 4, 11, 8, 33, 41, 289000)}\n",
        "{u'doc_type': u'text/html', u'id_raw_doc': u'', u'title': u'BAR\\xd3METRO JUNIO 1994: POSTELECTORAL PARLAMENTO EUROPEO', u'url': u'http://www.cis.es/cis/export/sites/default/-Archivos/Marginales/2100_2119/2108/e210800.html', u'barometro_dict': {}, u'number': u'2108', u'date': datetime.datetime(1994, 6, 16, 0, 0), u'_id': ObjectId('5528dd7c7c4c6704c43c9726'), u'updated_raw_doc': datetime.datetime(2015, 4, 11, 8, 34, 22, 496000)}\n",
        "{u'doc_type': u'text/html', u'id_raw_doc': u'', u'title': u'BAR\\xd3METRO FEBRERO 2005', u'url': u'http://www.cis.es/cis/export/sites/default/-Archivos/Marginales/2580_2599/2594/e259400.html', u'barometro_dict': {}, u'number': u'2594', u'date': datetime.datetime(2005, 2, 18, 0, 0), u'_id': ObjectId('5528dd7c7c4c6704c43c9727'), u'updated_raw_doc': datetime.datetime(2015, 4, 11, 8, 33, 57, 366000)}\n",
        "{u'doc_type': u'text/html', u'id_raw_doc': u'', u'title': u'BAR\\xd3METRO ENERO 2005', u'url': u'http://www.cis.es/cis/export/sites/default/-Archivos/Marginales/2580_2599/2589/e258900.html', u'barometro_dict': {}, u'number': u'2589', u'date': datetime.datetime(2005, 1, 19, 0, 0), u'_id': ObjectId('5528dd7c7c4c6704c43c9728'), u'updated_raw_doc': datetime.datetime(2015, 4, 11, 8, 33, 57, 366000)}\n",
        "{u'doc_type': u'text/html', u'id_raw_doc': u'', u'title': u'BAR\\xd3METRO SEPTIEMBRE 2005', u'url': u'http://www.cis.es/cis/export/sites/default/-Archivos/Marginales/2600_2619/2618/e261800.html', u'barometro_dict': {}, u'number': u'2618', u'date': datetime.datetime(2005, 9, 23, 0, 0), u'_id': ObjectId('5528dd7c7c4c6704c43c9729'), u'updated_raw_doc': datetime.datetime(2015, 4, 11, 8, 33, 57, 350000)}\n",
        "{u'doc_type': u'text/html', u'id_raw_doc': u'', u'title': u'BAR\\xd3METRO JULIO 2005', u'url': u'http://www.cis.es/cis/export/sites/default/-Archivos/Marginales/2600_2619/2616/e261600.html', u'barometro_dict': {}, u'number': u'2616', u'date': datetime.datetime(2005, 7, 13, 0, 0), u'_id': ObjectId('5528dd7c7c4c6704c43c972a'), u'updated_raw_doc': datetime.datetime(2015, 4, 11, 8, 33, 57, 350000)}\n",
        "{u'doc_type': u'text/html', u'id_raw_doc': u'', u'title': u'BAR\\xd3METRO NOVIEMBRE 2005', u'url': u'http://www.cis.es/cis/export/sites/default/-Archivos/Marginales/2620_2639/2625/e262500.html', u'barometro_dict': {}, u'number': u'2625', u'date': datetime.datetime(2005, 11, 15, 0, 0), u'_id': ObjectId('5528dd7c7c4c6704c43c972b'), u'updated_raw_doc': datetime.datetime(2015, 4, 11, 8, 33, 57, 350000)}\n",
        "{u'doc_type': u'text/html', u'id_raw_doc': u'', u'title': u'BAR\\xd3METRO OCTUBRE 2005', u'url': u'http://www.cis.es/cis/export/sites/default/-Archivos/Marginales/2620_2639/2622/e262200.html', u'barometro_dict': {}, u'number': u'2622', u'date': datetime.datetime(2005, 10, 21, 0, 0), u'_id': ObjectId('5528dd7c7c4c6704c43c972c'), u'updated_raw_doc': datetime.datetime(2015, 4, 11, 8, 33, 57, 350000)}\n",
        "{u'doc_type': u'text/html', u'id_raw_doc': u'', u'title': u'BAR\\xd3METRO ABRIL 2005', u'url': u'http://www.cis.es/cis/export/sites/default/-Archivos/Marginales/2600_2619/2602/e260200.html', u'barometro_dict': {}, u'number': u'2602', u'date': datetime.datetime(2005, 4, 27, 0, 0), u'_id': ObjectId('5528dd7c7c4c6704c43c972d'), u'updated_raw_doc': datetime.datetime(2015, 4, 11, 8, 33, 57, 350000)}\n",
        "{u'doc_type': u'text/html', u'id_raw_doc': u'', u'title': u'BAR\\xd3METRO MARZO 2005', u'url': u'http://www.cis.es/cis/export/sites/default/-Archivos/Marginales/2580_2599/2597/e259700.html', u'barometro_dict': {}, u'number': u'2597', u'date': datetime.datetime(2005, 3, 29, 0, 0), u'_id': ObjectId('5528dd7c7c4c6704c43c972e'), u'updated_raw_doc': datetime.datetime(2015, 4, 11, 8, 33, 57, 350000)}\n",
        "{u'doc_type': u'text/html', u'id_raw_doc': u'', u'title': u'BAR\\xd3METRO JUNIO 2005', u'url': u'http://www.cis.es/cis/export/sites/default/-Archivos/Marginales/2600_2619/2612/e261200.html', u'barometro_dict': {}, u'number': u'2612', u'date': datetime.datetime(2005, 6, 6, 0, 0), u'_id': ObjectId('5528dd7c7c4c6704c43c972f'), u'updated_raw_doc': datetime.datetime(2015, 4, 11, 8, 33, 57, 350000)}\n",
        "{u'doc_type': u'text/html', u'id_raw_doc': u'', u'title': u'BAR\\xd3METRO MAYO 2005', u'url': u'http://www.cis.es/cis/export/sites/default/-Archivos/Marginales/2600_2619/2607/e260700.html', u'barometro_dict': {}, u'number': u'2607', u'date': datetime.datetime(2005, 5, 13, 0, 0), u'_id': ObjectId('5528dd7c7c4c6704c43c9730'), u'updated_raw_doc': datetime.datetime(2015, 4, 11, 8, 33, 57, 350000)}\n",
        "{u'doc_type': u'text/html', u'id_raw_doc': u'', u'title': u'BAR\\xd3METRO MAYO 2011', u'url': u'http://www.cis.es/cis/export/sites/default/-Archivos/Marginales/2880_2899/2888/e288800.html', u'barometro_dict': {}, u'number': u'2888', u'date': datetime.datetime(2011, 5, 3, 0, 0), u'_id': ObjectId('5528dd7c7c4c6704c43c9731'), u'updated_raw_doc': datetime.datetime(2015, 4, 11, 8, 33, 46, 260000)}\n",
        "{u'doc_type': u'text/html', u'id_raw_doc': u'', u'title': u'BAR\\xd3METRO JUNIO 2011', u'url': u'http://www.cis.es/cis/export/sites/default/-Archivos/Marginales/2900_2919/2905/e290500.html', u'barometro_dict': {}, u'number': u'2905', u'date': datetime.datetime(2011, 6, 2, 0, 0), u'_id': ObjectId('5528dd7c7c4c6704c43c9732'), u'updated_raw_doc': datetime.datetime(2015, 4, 11, 8, 33, 46, 260000)}\n",
        "{u'doc_type': u'text/html', u'id_raw_doc': u'', u'title': u'BAR\\xd3METRO ENERO 2012', u'url': u'http://www.cis.es/cis/export/sites/default/-Archivos/Marginales/2920_2939/2927/e292700.html', u'barometro_dict': {}, u'number': u'2927', u'date': datetime.datetime(2012, 1, 4, 0, 0), u'_id': ObjectId('5528dd7c7c4c6704c43c9733'), u'updated_raw_doc': datetime.datetime(2015, 4, 11, 8, 33, 46, 256000)}\n",
        "{u'doc_type': u'text/html', u'id_raw_doc': u'', u'title': u'BAR\\xd3METRO FEBRERO 2012', u'url': u'http://www.cis.es/cis/export/sites/default/-Archivos/Marginales/2920_2939/2932/e293200.html', u'barometro_dict': {}, u'number': u'2932', u'date': datetime.datetime(2012, 2, 1, 0, 0), u'_id': ObjectId('5528dd7c7c4c6704c43c9734'), u'updated_raw_doc': datetime.datetime(2015, 4, 11, 8, 33, 46, 256000)}\n",
        "{u'doc_type': u'text/html', u'id_raw_doc': u'', u'title': u'BAR\\xd3METRO MARZO 2012', u'url': u'http://www.cis.es/cis/export/sites/default/-Archivos/Marginales/2920_2939/2935/e293500.html', u'barometro_dict': {}, u'number': u'2935', u'date': datetime.datetime(2012, 3, 2, 0, 0), u'_id': ObjectId('5528dd7c7c4c6704c43c9735'), u'updated_raw_doc': datetime.datetime(2015, 4, 11, 8, 33, 46, 256000)}\n",
        "{u'doc_type': u'text/html', u'id_raw_doc': u'', u'title': u'BAR\\xd3METRO ABRIL 2012', u'url': u'http://www.cis.es/cis/export/sites/default/-Archivos/Marginales/2940_2959/2941/e294100.html', u'barometro_dict': {}, u'number': u'2941', u'date': datetime.datetime(2012, 4, 9, 0, 0), u'_id': ObjectId('5528dd7c7c4c6704c43c9736'), u'updated_raw_doc': datetime.datetime(2015, 4, 11, 8, 33, 46, 256000)}\n",
        "{u'doc_type': u'text/html', u'id_raw_doc': u'', u'title': u'BAR\\xd3METRO JULIO 2011', u'url': u'http://www.cis.es/cis/export/sites/default/-Archivos/Marginales/2900_2919/2909/e290900.html', u'barometro_dict': {}, u'number': u'2909', u'date': datetime.datetime(2011, 7, 4, 0, 0), u'_id': ObjectId('5528dd7c7c4c6704c43c9737'), u'updated_raw_doc': datetime.datetime(2015, 4, 11, 8, 33, 46, 260000)}\n",
        "{u'doc_type': u'text/html', u'id_raw_doc': u'', u'title': u'BAR\\xd3METRO SEPTIEMBRE 2011', u'url': u'http://www.cis.es/cis/export/sites/default/-Archivos/Marginales/2900_2919/2911/e291100.html', u'barometro_dict': {}, u'number': u'2911', u'date': datetime.datetime(2011, 9, 5, 0, 0), u'_id': ObjectId('5528dd7c7c4c6704c43c9738'), u'updated_raw_doc': datetime.datetime(2015, 4, 11, 8, 33, 46, 260000)}\n",
        "{u'doc_type': u'text/html', u'id_raw_doc': u'', u'title': u'BAR\\xd3METRO OCTUBRE 2011', u'url': u'http://www.cis.es/cis/export/sites/default/-Archivos/Marginales/2900_2919/2914/e291400.html', u'barometro_dict': {}, u'number': u'2914', u'date': datetime.datetime(2011, 10, 1, 0, 0), u'_id': ObjectId('5528dd7c7c4c6704c43c9739'), u'updated_raw_doc': datetime.datetime(2015, 4, 11, 8, 33, 46, 260000)}\n",
        "{u'doc_type': u'text/html', u'id_raw_doc': u'', u'title': u'BAR\\xd3METRO DICIEMBRE 2011', u'url': u'http://www.cis.es/cis/export/sites/default/-Archivos/Marginales/2920_2939/2923/e292300.html', u'barometro_dict': {}, u'number': u'2923', u'date': datetime.datetime(2011, 12, 1, 0, 0), u'_id': ObjectId('5528dd7c7c4c6704c43c973a'), u'updated_raw_doc': datetime.datetime(2015, 4, 11, 8, 33, 46, 256000)}\n",
        "{u'doc_type': u'text/html', u'id_raw_doc': u'', u'title': u'BAR\\xd3METRO ABRIL 1996', u'url': u'http://www.cis.es/cis/export/sites/default/-Archivos/Marginales/2200_2219/2212/e221200.html', u'barometro_dict': {}, u'number': u'2212', u'date': datetime.datetime(1996, 4, 13, 0, 0), u'_id': ObjectId('5528dd7c7c4c6704c43c973b'), u'updated_raw_doc': datetime.datetime(2015, 4, 11, 8, 34, 17, 75000)}\n",
        "{u'doc_type': u'text/html', u'id_raw_doc': u'', u'title': u'BAR\\xd3METRO SEPTIEMBRE 1994', u'url': u'http://www.cis.es/cis/export/sites/default/-Archivos/Marginales/2100_2119/2115/e211500.html', u'barometro_dict': {}, u'number': u'2115', u'date': datetime.datetime(1994, 9, 20, 0, 0), u'_id': ObjectId('5528dd7c7c4c6704c43c973c'), u'updated_raw_doc': datetime.datetime(2015, 4, 11, 8, 34, 22, 496000)}\n",
        "{u'doc_type': u'text/html', u'id_raw_doc': u'', u'title': u'BAR\\xd3METRO DICIEMBRE 1998: EXPECTATIVAS 1999', u'url': u'http://www.cis.es/cis/export/sites/default/-Archivos/Marginales/2300_2319/2313/e231300.html', u'barometro_dict': {}, u'number': u'2313', u'date': datetime.datetime(1998, 12, 18, 0, 0), u'_id': ObjectId('5528dd7c7c4c6704c43c973d'), u'updated_raw_doc': datetime.datetime(2015, 4, 11, 8, 34, 8, 628000)}\n",
        "{u'doc_type': u'text/html', u'id_raw_doc': u'', u'title': u'BAR\\xd3METRO JUNIO 2009', u'url': u'http://www.cis.es/cis/export/sites/default/-Archivos/Marginales/2800_2819/2806/e280600.html', u'barometro_dict': {}, u'number': u'2806', u'date': datetime.datetime(2009, 6, 4, 0, 0), u'_id': ObjectId('5528dd7c7c4c6704c43c973e'), u'updated_raw_doc': datetime.datetime(2015, 4, 11, 8, 33, 52, 595000)}\n",
        "{u'doc_type': u'text/html', u'id_raw_doc': u'', u'title': u'BAR\\xd3METRO MAYO 2009', u'url': u'http://www.cis.es/cis/export/sites/default/-Archivos/Marginales/2800_2819/2801/e280100.html', u'barometro_dict': {}, u'number': u'2801', u'date': datetime.datetime(2009, 5, 13, 0, 0), u'_id': ObjectId('5528dd7c7c4c6704c43c973f'), u'updated_raw_doc': datetime.datetime(2015, 4, 11, 8, 33, 52, 595000)}\n",
        "{u'doc_type': u'text/html', u'id_raw_doc': u'', u'title': u'BAR\\xd3METRO ABRIL 2009', u'url': u'http://www.cis.es/cis/export/sites/default/-Archivos/Marginales/2780_2799/2798/e279800.html', u'barometro_dict': {}, u'number': u'2798', u'date': datetime.datetime(2009, 4, 14, 0, 0), u'_id': ObjectId('5528dd7c7c4c6704c43c9740'), u'updated_raw_doc': datetime.datetime(2015, 4, 11, 8, 33, 52, 595000)}\n",
        "{u'doc_type': u'text/html', u'id_raw_doc': u'', u'title': u'BAR\\xd3METRO MARZO 2009', u'url': u'http://www.cis.es/cis/export/sites/default/-Archivos/Marginales/2780_2799/2794/e279400.html', u'barometro_dict': {}, u'number': u'2794', u'date': datetime.datetime(2009, 3, 4, 0, 0), u'_id': ObjectId('5528dd7c7c4c6704c43c9741'), u'updated_raw_doc': datetime.datetime(2015, 4, 11, 8, 33, 52, 595000)}\n",
        "{u'doc_type': u'text/html', u'id_raw_doc': u'', u'title': u'BAR\\xd3METRO FEBRERO 2009', u'url': u'http://www.cis.es/cis/export/sites/default/-Archivos/Marginales/2780_2799/2788/e278800.html', u'barometro_dict': {}, u'number': u'2788', u'date': datetime.datetime(2009, 2, 4, 0, 0), u'_id': ObjectId('5528dd7c7c4c6704c43c9742'), u'updated_raw_doc': datetime.datetime(2015, 4, 11, 8, 33, 52, 595000)}\n",
        "{u'doc_type': u'text/html', u'id_raw_doc': u'', u'title': u'BAR\\xd3METRO ENERO 2009', u'url': u'http://www.cis.es/cis/export/sites/default/-Archivos/Marginales/2780_2799/2782/e278200.html', u'barometro_dict': {}, u'number': u'2782', u'date': datetime.datetime(2009, 1, 9, 0, 0), u'_id': ObjectId('5528dd7c7c4c6704c43c9743'), u'updated_raw_doc': datetime.datetime(2015, 4, 11, 8, 33, 52, 595000)}\n",
        "{u'doc_type': u'text/html', u'id_raw_doc': u'', u'title': u'BAR\\xd3METRO DICIEMBRE 2008', u'url': u'http://www.cis.es/cis/export/sites/default/-Archivos/Marginales/2780_2799/2781/e278100.html', u'barometro_dict': {}, u'number': u'2781', u'date': datetime.datetime(2008, 12, 3, 0, 0), u'_id': ObjectId('5528dd7c7c4c6704c43c9744'), u'updated_raw_doc': datetime.datetime(2015, 4, 11, 8, 33, 52, 595000)}\n",
        "{u'doc_type': u'text/html', u'id_raw_doc': u'', u'title': u'BAR\\xd3METRO NOVIEMBRE 2008', u'url': u'http://www.cis.es/cis/export/sites/default/-Archivos/Marginales/2760_2779/2778/e277800.html', u'barometro_dict': {}, u'number': u'2778', u'date': datetime.datetime(2008, 11, 3, 0, 0), u'_id': ObjectId('5528dd7c7c4c6704c43c9745'), u'updated_raw_doc': datetime.datetime(2015, 4, 11, 8, 33, 52, 595000)}\n",
        "{u'doc_type': u'text/html', u'id_raw_doc': u'', u'title': u'BAR\\xd3METRO OCTUBRE 2008', u'url': u'http://www.cis.es/cis/export/sites/default/-Archivos/Marginales/2760_2779/2775/e277500.html', u'barometro_dict': {}, u'number': u'2775', u'date': datetime.datetime(2008, 10, 1, 0, 0), u'_id': ObjectId('5528dd7c7c4c6704c43c9746'), u'updated_raw_doc': datetime.datetime(2015, 4, 11, 8, 33, 52, 595000)}\n",
        "{u'doc_type': u'text/html', u'id_raw_doc': u'', u'title': u'BAR\\xd3METRO SEPTIEMBRE 2008', u'url': u'http://www.cis.es/cis/export/sites/default/-Archivos/Marginales/2760_2779/2771/e277100.html', u'barometro_dict': {}, u'number': u'2771', u'date': datetime.datetime(2008, 9, 5, 0, 0), u'_id': ObjectId('5528dd7c7c4c6704c43c9747'), u'updated_raw_doc': datetime.datetime(2015, 4, 11, 8, 33, 52, 595000)}\n",
        "{u'doc_type': u'text/html', u'id_raw_doc': u'', u'title': u'BAR\\xd3METRO ENERO 1999', u'url': u'http://www.cis.es/cis/export/sites/default/-Archivos/Marginales/2300_2319/2316/e231600.html', u'barometro_dict': {}, u'number': u'2316', u'date': datetime.datetime(1999, 1, 27, 0, 0), u'_id': ObjectId('5528dd7c7c4c6704c43c9748'), u'updated_raw_doc': datetime.datetime(2015, 4, 11, 8, 34, 8, 628000)}\n",
        "{u'doc_type': u'application/pdf', u'id_raw_doc': u'', u'title': u'BAR\\xd3METRO FEBRERO 1999', u'url': u'http://www.cis.es/cis/export/sites/default/-Archivos/Marginales/2320_2339/2320/Es2320mar.pdf', u'barometro_dict': {}, u'number': u'2320', u'date': datetime.datetime(1999, 2, 24, 0, 0), u'_id': ObjectId('5528dd7c7c4c6704c43c9749'), u'updated_raw_doc': datetime.datetime(2015, 4, 11, 8, 34, 8, 628000)}\n",
        "{u'doc_type': u'application/pdf', u'id_raw_doc': u'', u'title': u'BAR\\xd3METRO MARZO 1999', u'url': u'http://www.cis.es/cis/export/sites/default/-Archivos/Marginales/2320_2339/2322/Es2322mar.pdf', u'barometro_dict': {}, u'number': u'2322', u'date': datetime.datetime(1999, 3, 24, 0, 0), u'_id': ObjectId('5528dd7c7c4c6704c43c974a'), u'updated_raw_doc': datetime.datetime(2015, 4, 11, 8, 34, 8, 628000)}\n",
        "{u'doc_type': u'text/html', u'id_raw_doc': u'', u'title': u'BAR\\xd3METRO ABRIL 1999', u'url': u'http://www.cis.es/cis/export/sites/default/-Archivos/Marginales/2320_2339/2324/e232400.html', u'barometro_dict': {}, u'number': u'2324', u'date': datetime.datetime(1999, 4, 24, 0, 0), u'_id': ObjectId('5528dd7c7c4c6704c43c974b'), u'updated_raw_doc': datetime.datetime(2015, 4, 11, 8, 34, 8, 628000)}\n",
        "{u'doc_type': u'application/pdf', u'id_raw_doc': u'', u'title': u'BAR\\xd3METRO MAYO 1999: UNI\\xd3N EUROPEA', u'url': u'http://www.cis.es/cis/export/sites/default/-Archivos/Marginales/2320_2339/2339/Es2339mar.pdf', u'barometro_dict': {}, u'number': u'2339', u'date': datetime.datetime(1999, 5, 27, 0, 0), u'_id': ObjectId('5528dd7c7c4c6704c43c974c'), u'updated_raw_doc': datetime.datetime(2015, 4, 11, 8, 34, 8, 628000)}\n",
        "{u'doc_type': u'application/pdf', u'id_raw_doc': u'', u'title': u'BAR\\xd3METRO JUNIO 1999', u'url': u'http://www.cis.es/cis/export/sites/default/-Archivos/Marginales/2360_2379/2364/Es2364mar.pdf', u'barometro_dict': {}, u'number': u'2364', u'date': datetime.datetime(1999, 6, 26, 0, 0), u'_id': ObjectId('5528dd7c7c4c6704c43c974d'), u'updated_raw_doc': datetime.datetime(2015, 4, 11, 8, 34, 8, 628000)}\n",
        "{u'doc_type': u'text/html', u'id_raw_doc': u'', u'title': u'BAR\\xd3METRO JUNIO 1996', u'url': u'http://www.cis.es/cis/export/sites/default/-Archivos/Marginales/2200_2219/2217/e221700.html', u'barometro_dict': {}, u'number': u'2217', u'date': datetime.datetime(1996, 6, 22, 0, 0), u'_id': ObjectId('5528dd7c7c4c6704c43c974e'), u'updated_raw_doc': datetime.datetime(2015, 4, 11, 8, 34, 17, 75000)}\n",
        "{u'doc_type': u'text/html', u'id_raw_doc': u'', u'title': u'BAR\\xd3METRO OCTUBRE 1994', u'url': u'http://www.cis.es/cis/export/sites/default/-Archivos/Marginales/2100_2119/2118/e211800.html', u'barometro_dict': {}, u'number': u'2118', u'date': datetime.datetime(1994, 10, 19, 0, 0), u'_id': ObjectId('5528dd7c7c4c6704c43c974f'), u'updated_raw_doc': datetime.datetime(2015, 4, 11, 8, 34, 22, 496000)}\n",
        "{u'doc_type': u'text/html', u'id_raw_doc': u'', u'title': u'BAR\\xd3METRO JUNIO 1998', u'url': u'http://www.cis.es/cis/export/sites/default/-Archivos/Marginales/2280_2299/2291/e229100.html', u'barometro_dict': {}, u'number': u'2291', u'date': datetime.datetime(1998, 6, 20, 0, 0), u'_id': ObjectId('5528dd7c7c4c6704c43c9750'), u'updated_raw_doc': datetime.datetime(2015, 4, 11, 8, 34, 17, 59000)}\n",
        "{u'doc_type': u'application/pdf', u'id_raw_doc': u'', u'title': u'BAR\\xd3METRO MAYO 1998: UNI\\xd3N EUROPEA', u'url': u'http://www.cis.es/cis/export/sites/default/-Archivos/Marginales/2280_2299/2288/Es2288mar_mod.pdf', u'barometro_dict': {}, u'number': u'2288', u'date': datetime.datetime(1998, 5, 22, 0, 0), u'_id': ObjectId('5528dd7c7c4c6704c43c9751'), u'updated_raw_doc': datetime.datetime(2015, 4, 11, 8, 34, 17, 59000)}\n",
        "{u'doc_type': u'application/pdf', u'id_raw_doc': u'', u'title': u'BAR\\xd3METRO ABRIL 1998', u'url': u'http://www.cis.es/cis/export/sites/default/-Archivos/Marginales/2280_2299/2285/Es2285mar_mod.pdf', u'barometro_dict': {}, u'number': u'2285', u'date': datetime.datetime(1998, 4, 25, 0, 0), u'_id': ObjectId('5528dd7c7c4c6704c43c9752'), u'updated_raw_doc': datetime.datetime(2015, 4, 11, 8, 34, 17, 59000)}\n",
        "{u'doc_type': u'text/html', u'id_raw_doc': u'', u'title': u'BAR\\xd3METRO JULIO 1998', u'url': u'http://www.cis.es/cis/export/sites/default/-Archivos/Marginales/2280_2299/2294/e229400.html', u'barometro_dict': {}, u'number': u'2294', u'date': datetime.datetime(1998, 7, 9, 0, 0), u'_id': ObjectId('5528dd7c7c4c6704c43c9753'), u'updated_raw_doc': datetime.datetime(2015, 4, 11, 8, 34, 17, 59000)}\n",
        "{u'doc_type': u'text/html', u'id_raw_doc': u'', u'title': u'BAR\\xd3METRO DE NOVIEMBRE 2014', u'url': u'http://www.cis.es/cis/export/sites/default/-Archivos/Marginales/3040_3059/3045/es3045mar.html', u'barometro_dict': {}, u'number': u'3045', u'date': datetime.datetime(2014, 11, 4, 0, 0), u'_id': ObjectId('5528dd7c7c4c6704c43c9754'), u'updated_raw_doc': datetime.datetime(2015, 4, 11, 8, 33, 41, 289000)}\n",
        "{u'doc_type': u'application/pdf', u'id_raw_doc': u'', u'title': u'BAR\\xd3METRO MARZO 2000: CULTURA POL\\xcdTICA', u'url': u'http://www.cis.es/cis/export/sites/default/-Archivos/Marginales/2380_2399/2387/Es2387mar.pdf', u'barometro_dict': {}, u'number': u'2387', u'date': datetime.datetime(2000, 3, 24, 0, 0), u'_id': ObjectId('5528dd7c7c4c6704c43c9755'), u'updated_raw_doc': datetime.datetime(2015, 4, 11, 8, 34, 8, 628000)}\n",
        "{u'doc_type': u'text/html', u'id_raw_doc': u'', u'title': u'BAR\\xd3METRO DICIEMBRE 1997: EXPECTATIVAS 1998', u'url': u'http://www.cis.es/cis/export/sites/default/-Archivos/Marginales/2260_2279/2271/e227100.html', u'barometro_dict': {}, u'number': u'2271', u'date': datetime.datetime(1997, 12, 17, 0, 0), u'_id': ObjectId('5528dd7c7c4c6704c43c9756'), u'updated_raw_doc': datetime.datetime(2015, 4, 11, 8, 34, 17, 75000)}\n",
        "{u'doc_type': u'text/html', u'id_raw_doc': u'', u'title': u'BAR\\xd3METRO MARZO 1998', u'url': u'http://www.cis.es/cis/export/sites/default/-Archivos/Marginales/2280_2299/2283/e228300.html', u'barometro_dict': {}, u'number': u'2283', u'date': datetime.datetime(1998, 3, 27, 0, 0), u'_id': ObjectId('5528dd7c7c4c6704c43c9757'), u'updated_raw_doc': datetime.datetime(2015, 4, 11, 8, 34, 17, 75000)}\n",
        "{u'doc_type': u'text/html', u'id_raw_doc': u'', u'title': u'BAR\\xd3METRO DE JUNIO 2014', u'url': u'http://www.cis.es/cis/export/sites/default/-Archivos/Marginales/3020_3039/3029/es3029mar.html', u'barometro_dict': {}, u'number': u'3029', u'date': datetime.datetime(2014, 6, 2, 0, 0), u'_id': ObjectId('5528dd7c7c4c6704c43c9758'), u'updated_raw_doc': datetime.datetime(2015, 4, 11, 8, 33, 41, 289000)}\n",
        "{u'doc_type': u'text/html', u'id_raw_doc': u'', u'title': u'BAR\\xd3METRO DICIEMBRE 1994', u'url': u'http://www.cis.es/cis/export/sites/default/-Archivos/Marginales/2120_2139/2127/e212700.html', u'barometro_dict': {}, u'number': u'2127', u'date': datetime.datetime(1994, 12, 1, 0, 0), u'_id': ObjectId('5528dd7c7c4c6704c43c9759'), u'updated_raw_doc': datetime.datetime(2015, 4, 11, 8, 34, 22, 496000)}\n",
        "{u'doc_type': u'text/html', u'id_raw_doc': u'', u'title': u'BAR\\xd3METRO ENERO 1998', u'url': u'http://www.cis.es/cis/export/sites/default/-Archivos/Marginales/2260_2279/2274/e227400.html', u'barometro_dict': {}, u'number': u'2274', u'date': datetime.datetime(1998, 1, 23, 0, 0), u'_id': ObjectId('5528dd7c7c4c6704c43c975a'), u'updated_raw_doc': datetime.datetime(2015, 4, 11, 8, 34, 17, 75000)}\n",
        "{u'doc_type': u'text/html', u'id_raw_doc': u'', u'title': u'BAR\\xd3METRO NOVIEMBRE 1997', u'url': u'http://www.cis.es/cis/export/sites/default/-Archivos/Marginales/2260_2279/2267/e226700.html', u'barometro_dict': {}, u'number': u'2267', u'date': datetime.datetime(1997, 11, 20, 0, 0), u'_id': ObjectId('5528dd7c7c4c6704c43c975b'), u'updated_raw_doc': datetime.datetime(2015, 4, 11, 8, 34, 17, 75000)}\n",
        "{u'doc_type': u'text/html', u'id_raw_doc': u'', u'title': u'BAR\\xd3METRO OCTUBRE 1997', u'url': u'http://www.cis.es/cis/export/sites/default/-Archivos/Marginales/2260_2279/2264/e226400.html', u'barometro_dict': {}, u'number': u'2264', u'date': datetime.datetime(1997, 10, 24, 0, 0), u'_id': ObjectId('5528dd7c7c4c6704c43c975c'), u'updated_raw_doc': datetime.datetime(2015, 4, 11, 8, 34, 17, 75000)}\n",
        "{u'doc_type': u'text/html', u'id_raw_doc': u'', u'title': u'BAR\\xd3METRO JULIO 1996', u'url': u'http://www.cis.es/cis/export/sites/default/-Archivos/Marginales/2220_2239/2220/e222000.html', u'barometro_dict': {}, u'number': u'2220', u'date': datetime.datetime(1996, 7, 17, 0, 0), u'_id': ObjectId('5528dd7c7c4c6704c43c975d'), u'updated_raw_doc': datetime.datetime(2015, 4, 11, 8, 34, 17, 75000)}\n",
        "{u'doc_type': u'text/html', u'id_raw_doc': u'', u'title': u'BAR\\xd3METRO FEBRERO 1997', u'url': u'http://www.cis.es/cis/export/sites/default/-Archivos/Marginales/2220_2239/2238/e223800.html', u'barometro_dict': {}, u'number': u'2238', u'date': datetime.datetime(1997, 2, 22, 0, 0), u'_id': ObjectId('5528dd7c7c4c6704c43c975e'), u'updated_raw_doc': datetime.datetime(2015, 4, 11, 8, 34, 17, 75000)}\n",
        "{u'doc_type': u'text/html', u'id_raw_doc': u'', u'title': u'BAR\\xd3METRO NOVIEMBRE 1994', u'url': u'http://www.cis.es/cis/export/sites/default/-Archivos/Marginales/2120_2139/2122/e212200.html', u'barometro_dict': {}, u'number': u'2122', u'date': datetime.datetime(1994, 11, 12, 0, 0), u'_id': ObjectId('5528dd7c7c4c6704c43c975f'), u'updated_raw_doc': datetime.datetime(2015, 4, 11, 8, 34, 22, 496000)}\n",
        "{u'doc_type': u'text/html', u'id_raw_doc': u'', u'title': u'BAR\\xd3METRO FEBRERO 1998', u'url': u'http://www.cis.es/cis/export/sites/default/-Archivos/Marginales/2260_2279/2278/e227800.html', u'barometro_dict': {}, u'number': u'2278', u'date': datetime.datetime(1998, 2, 20, 0, 0), u'_id': ObjectId('5528dd7c7c4c6704c43c9760'), u'updated_raw_doc': datetime.datetime(2015, 4, 11, 8, 34, 17, 75000)}\n",
        "{u'doc_type': u'text/html', u'id_raw_doc': u'', u'title': u'BAR\\xd3METRO DICIEMBRE 2005', u'url': u'http://www.cis.es/cis/export/sites/default/-Archivos/Marginales/2620_2639/2630/e263000.html', u'barometro_dict': {}, u'number': u'2630', u'date': datetime.datetime(2005, 12, 16, 0, 0), u'_id': ObjectId('5528dd7c7c4c6704c43c9761'), u'updated_raw_doc': datetime.datetime(2015, 4, 11, 8, 33, 57, 350000)}\n",
        "{u'doc_type': u'text/html', u'id_raw_doc': u'', u'title': u'BAR\\xd3METRO ENERO 2006', u'url': u'http://www.cis.es/cis/export/sites/default/-Archivos/Marginales/2620_2639/2633/e263300.html', u'barometro_dict': {}, u'number': u'2633', u'date': datetime.datetime(2006, 1, 23, 0, 0), u'_id': ObjectId('5528dd7c7c4c6704c43c9762'), u'updated_raw_doc': datetime.datetime(2015, 4, 11, 8, 33, 57, 350000)}\n",
        "{u'doc_type': u'application/pdf', u'id_raw_doc': u'', u'title': u'BAR\\xd3METRO SEPTIEMBRE 1999', u'url': u'http://www.cis.es/cis/export/sites/default/-Archivos/Marginales/2360_2379/2369/Es2369mar.pdf', u'barometro_dict': {}, u'number': u'2369', u'date': datetime.datetime(1999, 9, 24, 0, 0), u'_id': ObjectId('5528dd7c7c4c6704c43c9763'), u'updated_raw_doc': datetime.datetime(2015, 4, 11, 8, 34, 8, 628000)}\n",
        "{u'doc_type': u'application/pdf', u'id_raw_doc': u'', u'title': u'BAR\\xd3METRO JULIO 1999', u'url': u'http://www.cis.es/cis/export/sites/default/-Archivos/Marginales/2360_2379/2367/Es2367mar.pdf', u'barometro_dict': {}, u'number': u'2367', u'date': datetime.datetime(1999, 7, 9, 0, 0), u'_id': ObjectId('5528dd7c7c4c6704c43c9764'), u'updated_raw_doc': datetime.datetime(2015, 4, 11, 8, 34, 8, 628000)}\n",
        "{u'doc_type': u'text/html', u'id_raw_doc': u'', u'title': u'BAR\\xd3METRO NOVIEMBRE 2011', u'url': u'http://www.cis.es/cis/export/sites/default/-Archivos/Marginales/2900_2919/2917/e291700.html', u'barometro_dict': {}, u'number': u'2917', u'date': datetime.datetime(2011, 11, 2, 0, 0), u'_id': ObjectId('5528dd7c7c4c6704c43c9765'), u'updated_raw_doc': datetime.datetime(2015, 4, 11, 8, 34, 40, 268000)}\n",
        "{u'doc_type': u'text/html', u'id_raw_doc': u'', u'title': u'BAR\\xd3METRO SEPTIEMBRE 2006', u'url': u'http://www.cis.es/cis/export/sites/default/-Archivos/Marginales/2640_2659/2654/e265400.html', u'barometro_dict': {}, u'number': u'2654', u'date': datetime.datetime(2006, 9, 18, 0, 0), u'_id': ObjectId('5528dd7c7c4c6704c43c9766'), u'updated_raw_doc': datetime.datetime(2015, 4, 11, 8, 33, 57, 334000)}\n",
        "{u'doc_type': u'text/html', u'id_raw_doc': u'', u'title': u'BAR\\xd3METRO OCTUBRE 2006', u'url': u'http://www.cis.es/cis/export/sites/default/-Archivos/Marginales/2640_2659/2657/e265700.html', u'barometro_dict': {}, u'number': u'2657', u'date': datetime.datetime(2006, 10, 18, 0, 0), u'_id': ObjectId('5528dd7c7c4c6704c43c9767'), u'updated_raw_doc': datetime.datetime(2015, 4, 11, 8, 33, 57, 334000)}\n",
        "{u'doc_type': u'text/html', u'id_raw_doc': u'', u'title': u'BAR\\xd3METRO JUNIO 2006', u'url': u'http://www.cis.es/cis/export/sites/default/-Archivos/Marginales/2640_2659/2649/e264900.html', u'barometro_dict': {}, u'number': u'2649', u'date': datetime.datetime(2006, 6, 21, 0, 0), u'_id': ObjectId('5528dd7c7c4c6704c43c9768'), u'updated_raw_doc': datetime.datetime(2015, 4, 11, 8, 33, 57, 350000)}\n",
        "{u'doc_type': u'text/html', u'id_raw_doc': u'', u'title': u'BAR\\xd3METRO JULIO 2006', u'url': u'http://www.cis.es/cis/export/sites/default/-Archivos/Marginales/2640_2659/2651/e265100.html', u'barometro_dict': {}, u'number': u'2651', u'date': datetime.datetime(2006, 7, 10, 0, 0), u'_id': ObjectId('5528dd7c7c4c6704c43c9769'), u'updated_raw_doc': datetime.datetime(2015, 4, 11, 8, 33, 57, 334000)}\n",
        "{u'doc_type': u'text/html', u'id_raw_doc': u'', u'title': u'BAR\\xd3METRO ABRIL 2006', u'url': u'http://www.cis.es/cis/export/sites/default/-Archivos/Marginales/2640_2659/2640/e264000.html', u'barometro_dict': {}, u'number': u'2640', u'date': datetime.datetime(2006, 4, 24, 0, 0), u'_id': ObjectId('5528dd7c7c4c6704c43c976a'), u'updated_raw_doc': datetime.datetime(2015, 4, 11, 8, 33, 57, 350000)}\n",
        "{u'doc_type': u'text/html', u'id_raw_doc': u'', u'title': u'BAR\\xd3METRO MAYO 2006', u'url': u'http://www.cis.es/cis/export/sites/default/-Archivos/Marginales/2640_2659/2644/e264400.html', u'barometro_dict': {}, u'number': u'2644', u'date': datetime.datetime(2006, 5, 22, 0, 0), u'_id': ObjectId('5528dd7c7c4c6704c43c976b'), u'updated_raw_doc': datetime.datetime(2015, 4, 11, 8, 33, 57, 350000)}\n",
        "{u'doc_type': u'text/html', u'id_raw_doc': u'', u'title': u'BAR\\xd3METRO FEBRERO 2006', u'url': u'http://www.cis.es/cis/export/sites/default/-Archivos/Marginales/2620_2639/2635/e263500.html', u'barometro_dict': {}, u'number': u'2635', u'date': datetime.datetime(2006, 2, 20, 0, 0), u'_id': ObjectId('5528dd7c7c4c6704c43c976c'), u'updated_raw_doc': datetime.datetime(2015, 4, 11, 8, 33, 57, 350000)}\n",
        "{u'doc_type': u'text/html', u'id_raw_doc': u'', u'title': u'BAR\\xd3METRO MARZO 2006', u'url': u'http://www.cis.es/cis/export/sites/default/-Archivos/Marginales/2620_2639/2636/e263600.html', u'barometro_dict': {}, u'number': u'2636', u'date': datetime.datetime(2006, 3, 24, 0, 0), u'_id': ObjectId('5528dd7c7c4c6704c43c976d'), u'updated_raw_doc': datetime.datetime(2015, 4, 11, 8, 33, 57, 350000)}\n",
        "{u'doc_type': u'text/html', u'id_raw_doc': u'', u'title': u'BAR\\xd3METRO DE ENERO 2014', u'url': u'http://www.cis.es/cis/export/sites/default/-Archivos/Marginales/3000_3019/3011/es3011mar.html', u'barometro_dict': {}, u'number': u'3011', u'date': datetime.datetime(2014, 1, 3, 0, 0), u'_id': ObjectId('5528dd7c7c4c6704c43c976e'), u'updated_raw_doc': datetime.datetime(2015, 4, 11, 8, 33, 41, 289000)}\n",
        "{u'doc_type': u'text/html', u'id_raw_doc': u'', u'title': u'BAR\\xd3METRO DE FEBRERO 2014', u'url': u'http://www.cis.es/cis/export/sites/default/-Archivos/Marginales/3000_3019/3013/es3013mar.html', u'barometro_dict': {}, u'number': u'3013', u'date': datetime.datetime(2014, 2, 1, 0, 0), u'_id': ObjectId('5528dd7c7c4c6704c43c976f'), u'updated_raw_doc': datetime.datetime(2015, 4, 11, 8, 33, 41, 289000)}\n",
        "{u'doc_type': u'text/html', u'id_raw_doc': u'', u'title': u'BAR\\xd3METRO DE NOVIEMBRE 2013', u'url': u'http://www.cis.es/cis/export/sites/default/-Archivos/Marginales/3000_3019/3005/es3005mar.html', u'barometro_dict': {}, u'number': u'3005', u'date': datetime.datetime(2013, 11, 1, 0, 0), u'_id': ObjectId('5528dd7c7c4c6704c43c9770'), u'updated_raw_doc': datetime.datetime(2015, 4, 11, 8, 33, 41, 289000)}\n",
        "{u'doc_type': u'text/html', u'id_raw_doc': u'', u'title': u'BAR\\xd3METRO DE DICIEMBRE 2013', u'url': u'http://www.cis.es/cis/export/sites/default/-Archivos/Marginales/3000_3019/3008/es3008mar.html', u'barometro_dict': {}, u'number': u'3008', u'date': datetime.datetime(2013, 12, 1, 0, 0), u'_id': ObjectId('5528dd7c7c4c6704c43c9771'), u'updated_raw_doc': datetime.datetime(2015, 4, 11, 8, 33, 41, 289000)}\n",
        "{u'doc_type': u'text/html', u'id_raw_doc': u'', u'title': u'BAR\\xd3METRO SEPTIEMBRE 2013', u'url': u'http://www.cis.es/cis/export/sites/default/-Archivos/Marginales/2980_2999/2997/e299700.html', u'barometro_dict': {}, u'number': u'2997', u'date': datetime.datetime(2013, 9, 3, 0, 0), u'_id': ObjectId('5528dd7c7c4c6704c43c9772'), u'updated_raw_doc': datetime.datetime(2015, 4, 11, 8, 33, 41, 289000)}\n",
        "{u'doc_type': u'text/html', u'id_raw_doc': u'', u'title': u'BAR\\xd3METRO OCTUBRE 2013', u'url': u'http://www.cis.es/cis/export/sites/default/-Archivos/Marginales/3000_3019/3001/e300100.html', u'barometro_dict': {}, u'number': u'3001', u'date': datetime.datetime(2013, 10, 1, 0, 0), u'_id': ObjectId('5528dd7c7c4c6704c43c9773'), u'updated_raw_doc': datetime.datetime(2015, 4, 11, 8, 33, 41, 289000)}\n",
        "{u'doc_type': u'text/html', u'id_raw_doc': u'', u'title': u'BAR\\xd3METRO JUNIO 2013', u'url': u'http://www.cis.es/cis/export/sites/default/-Archivos/Marginales/2980_2999/2990/e299000.html', u'barometro_dict': {}, u'number': u'2990', u'date': datetime.datetime(2013, 6, 3, 0, 0), u'_id': ObjectId('5528dd7c7c4c6704c43c9774'), u'updated_raw_doc': datetime.datetime(2015, 4, 11, 8, 33, 41, 289000)}\n",
        "{u'doc_type': u'text/html', u'id_raw_doc': u'', u'title': u'BAR\\xd3METRO JULIO 2013', u'url': u'http://www.cis.es/cis/export/sites/default/-Archivos/Marginales/2980_2999/2993/e299300.html', u'barometro_dict': {}, u'number': u'2993', u'date': datetime.datetime(2013, 7, 1, 0, 0), u'_id': ObjectId('5528dd7c7c4c6704c43c9775'), u'updated_raw_doc': datetime.datetime(2015, 4, 11, 8, 33, 41, 289000)}\n",
        "{u'doc_type': u'text/html', u'id_raw_doc': u'', u'title': u'BAR\\xd3METRO ABRIL 2013', u'url': u'http://www.cis.es/cis/export/sites/default/-Archivos/Marginales/2980_2999/2984/e298400.html', u'barometro_dict': {}, u'number': u'2984', u'date': datetime.datetime(2013, 4, 1, 0, 0), u'_id': ObjectId('5528dd7c7c4c6704c43c9776'), u'updated_raw_doc': datetime.datetime(2015, 4, 11, 8, 33, 41, 289000)}\n",
        "{u'doc_type': u'text/html', u'id_raw_doc': u'', u'title': u'BAR\\xd3METRO MAYO 2013', u'url': u'http://www.cis.es/cis/export/sites/default/-Archivos/Marginales/2980_2999/2987/e298700.html', u'barometro_dict': {}, u'number': u'2987', u'date': datetime.datetime(2013, 5, 1, 0, 0), u'_id': ObjectId('5528dd7c7c4c6704c43c9777'), u'updated_raw_doc': datetime.datetime(2015, 4, 11, 8, 33, 41, 289000)}\n",
        "{u'doc_type': u'text/html', u'id_raw_doc': u'', u'title': u'BAR\\xd3METRO ABRIL 2004', u'url': u'http://www.cis.es/cis/export/sites/default/-Archivos/Marginales/2560_2579/2561/e256100.html', u'barometro_dict': {}, u'number': u'2561', u'date': datetime.datetime(2004, 4, 22, 0, 0), u'_id': ObjectId('5528dd7c7c4c6704c43c9778'), u'updated_raw_doc': datetime.datetime(2015, 4, 11, 8, 33, 57, 366000)}\n",
        "{u'doc_type': u'text/html', u'id_raw_doc': u'', u'title': u'BAR\\xd3METRO MAYO 2004', u'url': u'http://www.cis.es/cis/export/sites/default/-Archivos/Marginales/2560_2579/2565/e256500.html', u'barometro_dict': {}, u'number': u'2565', u'date': datetime.datetime(2004, 5, 27, 0, 0), u'_id': ObjectId('5528dd7c7c4c6704c43c9779'), u'updated_raw_doc': datetime.datetime(2015, 4, 11, 8, 33, 57, 366000)}\n",
        "{u'doc_type': u'text/html', u'id_raw_doc': u'', u'title': u'BAR\\xd3METRO MAYO 1996', u'url': u'http://www.cis.es/cis/export/sites/default/-Archivos/Marginales/2200_2219/2215/e221500.html', u'barometro_dict': {}, u'number': u'2215', u'date': datetime.datetime(1996, 5, 29, 0, 0), u'_id': ObjectId('5528dd7c7c4c6704c43c977a'), u'updated_raw_doc': datetime.datetime(2015, 4, 11, 8, 34, 17, 75000)}\n",
        "{u'doc_type': u'text/html', u'id_raw_doc': u'', u'title': u'BAR\\xd3METRO MARZO 2001', u'url': u'http://www.cis.es/cis/export/sites/default/-Archivos/Marginales/2400_2419/2411/e241100.html', u'barometro_dict': {}, u'number': u'2411', u'date': datetime.datetime(2001, 3, 19, 0, 0), u'_id': ObjectId('5528dd7c7c4c6704c43c977b'), u'updated_raw_doc': datetime.datetime(2015, 4, 11, 8, 34, 8, 612000)}\n",
        "{u'doc_type': u'text/html', u'id_raw_doc': u'', u'title': u'BAR\\xd3METRO ABRIL 2001', u'url': u'http://www.cis.es/cis/export/sites/default/-Archivos/Marginales/2400_2419/2415/e241500.html', u'barometro_dict': {}, u'number': u'2415', u'date': datetime.datetime(2001, 4, 20, 0, 0), u'_id': ObjectId('5528dd7c7c4c6704c43c977c'), u'updated_raw_doc': datetime.datetime(2015, 4, 11, 8, 34, 8, 612000)}\n",
        "{u'doc_type': u'text/html', u'id_raw_doc': u'', u'title': u'BAR\\xd3METRO ENERO 2001', u'url': u'http://www.cis.es/cis/export/sites/default/-Archivos/Marginales/2400_2419/2406/e240600.html', u'barometro_dict': {}, u'number': u'2406', u'date': datetime.datetime(2001, 1, 18, 0, 0), u'_id': ObjectId('5528dd7c7c4c6704c43c977d'), u'updated_raw_doc': datetime.datetime(2015, 4, 11, 8, 34, 8, 628000)}\n",
        "{u'doc_type': u'text/html', u'id_raw_doc': u'', u'title': u'BAR\\xd3METRO FEBRERO 2001', u'url': u'http://www.cis.es/cis/export/sites/default/-Archivos/Marginales/2400_2419/2409/e240900.html', u'barometro_dict': {}, u'number': u'2409', u'date': datetime.datetime(2001, 2, 17, 0, 0), u'_id': ObjectId('5528dd7c7c4c6704c43c977e'), u'updated_raw_doc': datetime.datetime(2015, 4, 11, 8, 34, 8, 628000)}\n",
        "{u'doc_type': u'text/html', u'id_raw_doc': u'', u'title': u'BAR\\xd3METRO NOVIEMBRE 2000', u'url': u'http://www.cis.es/cis/export/sites/default/-Archivos/Marginales/2400_2419/2402/e240200.html', u'barometro_dict': {}, u'number': u'2402', u'date': datetime.datetime(2000, 11, 23, 0, 0), u'_id': ObjectId('5528dd7c7c4c6704c43c977f'), u'updated_raw_doc': datetime.datetime(2015, 4, 11, 8, 34, 8, 628000)}\n",
        "{u'doc_type': u'text/html', u'id_raw_doc': u'', u'title': u'BAR\\xd3METRO DICIEMBRE 2000: EXPECTATIVAS 2001', u'url': u'http://www.cis.es/cis/export/sites/default/-Archivos/Marginales/2400_2419/2405/e240500.html', u'barometro_dict': {}, u'number': u'2405', u'date': datetime.datetime(2000, 12, 16, 0, 0), u'_id': ObjectId('5528dd7c7c4c6704c43c9780'), u'updated_raw_doc': datetime.datetime(2015, 4, 11, 8, 34, 8, 628000)}\n",
        "{u'doc_type': u'text/html', u'id_raw_doc': u'', u'title': u'BAR\\xd3METRO SEPTIEMBRE 2000', u'url': u'http://www.cis.es/cis/export/sites/default/-Archivos/Marginales/2380_2399/2398/e239800.html', u'barometro_dict': {}, u'number': u'2398', u'date': datetime.datetime(2000, 9, 23, 0, 0), u'_id': ObjectId('5528dd7c7c4c6704c43c9781'), u'updated_raw_doc': datetime.datetime(2015, 4, 11, 8, 34, 8, 628000)}\n",
        "{u'doc_type': u'application/pdf', u'id_raw_doc': u'', u'title': u'BAR\\xd3METRO OCTUBRE 2000', u'url': u'http://www.cis.es/cis/export/sites/default/-Archivos/Marginales/2400_2419/2400/Es2400mar.pdf', u'barometro_dict': {}, u'number': u'2400', u'date': datetime.datetime(2000, 10, 17, 0, 0), u'_id': ObjectId('5528dd7c7c4c6704c43c9782'), u'updated_raw_doc': datetime.datetime(2015, 4, 11, 8, 34, 8, 628000)}\n",
        "{u'doc_type': u'text/html', u'id_raw_doc': u'', u'title': u'BAR\\xd3METRO JUNIO 2000', u'url': u'http://www.cis.es/cis/export/sites/default/-Archivos/Marginales/2380_2399/2394/e239400.html', u'barometro_dict': {}, u'number': u'2394', u'date': datetime.datetime(2000, 6, 23, 0, 0), u'_id': ObjectId('5528dd7c7c4c6704c43c9783'), u'updated_raw_doc': datetime.datetime(2015, 4, 11, 8, 34, 8, 628000)}\n",
        "{u'doc_type': u'text/html', u'id_raw_doc': u'', u'title': u'BAR\\xd3METRO JULIO 2000', u'url': u'http://www.cis.es/cis/export/sites/default/-Archivos/Marginales/2380_2399/2396/e239600.html', u'barometro_dict': {}, u'number': u'2396', u'date': datetime.datetime(2000, 7, 13, 0, 0), u'_id': ObjectId('5528dd7c7c4c6704c43c9784'), u'updated_raw_doc': datetime.datetime(2015, 4, 11, 8, 34, 8, 628000)}\n",
        "{u'doc_type': u'text/html', u'id_raw_doc': u'', u'title': u'BAR\\xd3METRO FEBRERO 1996', u'url': u'http://www.cis.es/cis/export/sites/default/-Archivos/Marginales/2200_2219/2208/e220800.html', u'barometro_dict': {}, u'number': u'2208', u'date': datetime.datetime(1996, 2, 27, 0, 0), u'_id': ObjectId('5528dd7c7c4c6704c43c9785'), u'updated_raw_doc': datetime.datetime(2015, 4, 11, 8, 34, 17, 75000)}\n",
        "{u'doc_type': u'text/html', u'id_raw_doc': u'', u'title': u'BAR\\xd3METRO JULIO 1994', u'url': u'http://www.cis.es/cis/export/sites/default/-Archivos/Marginales/2100_2119/2110/e211000.html', u'barometro_dict': {}, u'number': u'2110', u'date': datetime.datetime(1994, 7, 1, 0, 0), u'_id': ObjectId('5528dd7c7c4c6704c43c9786'), u'updated_raw_doc': datetime.datetime(2015, 4, 11, 8, 34, 22, 496000)}\n",
        "{u'doc_type': u'text/html', u'id_raw_doc': u'', u'title': u'BAR\\xd3METRO JULIO 2010', u'url': u'http://www.cis.es/cis/export/sites/default/-Archivos/Marginales/2840_2859/2843/e284300.html', u'barometro_dict': {}, u'number': u'2843', u'date': datetime.datetime(2010, 7, 15, 0, 0), u'_id': ObjectId('5528dd7c7c4c6704c43c9787'), u'updated_raw_doc': datetime.datetime(2015, 4, 11, 8, 33, 46, 268000)}\n",
        "{u'doc_type': u'text/html', u'id_raw_doc': u'', u'title': u'BAR\\xd3METRO JUNIO 2010', u'url': u'http://www.cis.es/cis/export/sites/default/-Archivos/Marginales/2820_2839/2838/e283800.html', u'barometro_dict': {}, u'number': u'2838', u'date': datetime.datetime(2010, 6, 2, 0, 0), u'_id': ObjectId('5528dd7c7c4c6704c43c9788'), u'updated_raw_doc': datetime.datetime(2015, 4, 11, 8, 33, 46, 268000)}\n",
        "{u'doc_type': u'text/html', u'id_raw_doc': u'', u'title': u'BAR\\xd3METRO OCTUBRE 2010', u'url': u'http://www.cis.es/cis/export/sites/default/-Archivos/Marginales/2840_2859/2847/e284700.html', u'barometro_dict': {}, u'number': u'2847', u'date': datetime.datetime(2010, 10, 4, 0, 0), u'_id': ObjectId('5528dd7c7c4c6704c43c9789'), u'updated_raw_doc': datetime.datetime(2015, 4, 11, 8, 33, 46, 264000)}\n",
        "{u'doc_type': u'text/html', u'id_raw_doc': u'', u'title': u'BAR\\xd3METRO SEPTIEMBRE 2010', u'url': u'http://www.cis.es/cis/export/sites/default/-Archivos/Marginales/2840_2859/2844/e284400.html', u'barometro_dict': {}, u'number': u'2844', u'date': datetime.datetime(2010, 9, 3, 0, 0), u'_id': ObjectId('5528dd7c7c4c6704c43c978a'), u'updated_raw_doc': datetime.datetime(2015, 4, 11, 8, 33, 46, 268000)}\n",
        "{u'doc_type': u'text/html', u'id_raw_doc': u'', u'title': u'BAR\\xd3METRO DICIEMBRE 2010', u'url': u'http://www.cis.es/cis/export/sites/default/-Archivos/Marginales/2840_2859/2856/e285600.html', u'barometro_dict': {}, u'number': u'2856', u'date': datetime.datetime(2010, 12, 1, 0, 0), u'_id': ObjectId('5528dd7c7c4c6704c43c978b'), u'updated_raw_doc': datetime.datetime(2015, 4, 11, 8, 33, 46, 264000)}\n",
        "{u'doc_type': u'text/html', u'id_raw_doc': u'', u'title': u'BAR\\xd3METRO NOVIEMBRE 2010', u'url': u'http://www.cis.es/cis/export/sites/default/-Archivos/Marginales/2840_2859/2853/e285300.html', u'barometro_dict': {}, u'number': u'2853', u'date': datetime.datetime(2010, 11, 3, 0, 0), u'_id': ObjectId('5528dd7c7c4c6704c43c978c'), u'updated_raw_doc': datetime.datetime(2015, 4, 11, 8, 33, 46, 264000)}\n",
        "{u'doc_type': u'text/html', u'id_raw_doc': u'', u'title': u'BAR\\xd3METRO FEBRERO 2011', u'url': u'http://www.cis.es/cis/export/sites/default/-Archivos/Marginales/2860_2879/2861/e286100.html', u'barometro_dict': {}, u'number': u'2861', u'date': datetime.datetime(2011, 2, 1, 0, 0), u'_id': ObjectId('5528dd7c7c4c6704c43c978d'), u'updated_raw_doc': datetime.datetime(2015, 4, 11, 8, 33, 46, 264000)}\n",
        "{u'doc_type': u'text/html', u'id_raw_doc': u'', u'title': u'BAR\\xd3METRO ENERO 2011', u'url': u'http://www.cis.es/cis/export/sites/default/-Archivos/Marginales/2840_2859/2859/e285900.html', u'barometro_dict': {}, u'number': u'2859', u'date': datetime.datetime(2011, 1, 7, 0, 0), u'_id': ObjectId('5528dd7c7c4c6704c43c978e'), u'updated_raw_doc': datetime.datetime(2015, 4, 11, 8, 33, 46, 264000)}\n",
        "{u'doc_type': u'text/html', u'id_raw_doc': u'', u'title': u'BAR\\xd3METRO ABRIL 2011', u'url': u'http://www.cis.es/cis/export/sites/default/-Archivos/Marginales/2880_2899/2885/e288500.html', u'barometro_dict': {}, u'number': u'2885', u'date': datetime.datetime(2011, 4, 1, 0, 0), u'_id': ObjectId('5528dd7c7c4c6704c43c978f'), u'updated_raw_doc': datetime.datetime(2015, 4, 11, 8, 33, 46, 264000)}\n",
        "{u'doc_type': u'text/html', u'id_raw_doc': u'', u'title': u'BAR\\xd3METRO MARZO 2011', u'url': u'http://www.cis.es/cis/export/sites/default/-Archivos/Marginales/2860_2879/2864/e286400.html', u'barometro_dict': {}, u'number': u'2864', u'date': datetime.datetime(2011, 3, 1, 0, 0), u'_id': ObjectId('5528dd7c7c4c6704c43c9790'), u'updated_raw_doc': datetime.datetime(2015, 4, 11, 8, 33, 46, 264000)}\n",
        "{u'doc_type': u'text/html', u'id_raw_doc': u'', u'title': u'BAR\\xd3METRO DE DICIEMBRE 2014', u'url': u'http://www.cis.es/cis/export/sites/default/-Archivos/Marginales/3040_3059/3047/es3047mar.html', u'barometro_dict': {}, u'number': u'3047', u'date': datetime.datetime(2014, 12, 1, 0, 0), u'_id': ObjectId('5528dd7c7c4c6704c43c9791'), u'updated_raw_doc': datetime.datetime(2015, 4, 11, 8, 33, 41, 289000)}\n",
        "{u'doc_type': u'text/html', u'id_raw_doc': u'', u'title': u'BAR\\xd3METRO DE JULIO 2014', u'url': u'http://www.cis.es/cis/export/sites/default/-Archivos/Marginales/3020_3039/3033/es3033mar_HTML.html', u'barometro_dict': {}, u'number': u'3033', u'date': datetime.datetime(2014, 7, 1, 0, 0), u'_id': ObjectId('5528dd7c7c4c6704c43c9792'), u'updated_raw_doc': datetime.datetime(2015, 4, 11, 8, 33, 41, 289000)}\n",
        "{u'doc_type': u'text/html', u'id_raw_doc': u'', u'title': u'BAR\\xd3METRO DE MARZO 2014', u'url': u'http://www.cis.es/cis/export/sites/default/-Archivos/Marginales/3000_3019/3017/es3017mar.html', u'barometro_dict': {}, u'number': u'3017', u'date': datetime.datetime(2014, 3, 1, 0, 0), u'_id': ObjectId('5528dd7c7c4c6704c43c9793'), u'updated_raw_doc': datetime.datetime(2015, 4, 11, 8, 33, 41, 289000)}\n",
        "{u'doc_type': u'text/html', u'id_raw_doc': u'', u'title': u'BAR\\xd3METRO SEPTIEMBRE 2001', u'url': u'http://www.cis.es/cis/export/sites/default/-Archivos/Marginales/2420_2439/2429/e242900.html', u'barometro_dict': {}, u'number': u'2429', u'date': datetime.datetime(2001, 9, 13, 0, 0), u'_id': ObjectId('5528dd7c7c4c6704c43c9794'), u'updated_raw_doc': datetime.datetime(2015, 4, 11, 8, 34, 1, 413000)}\n",
        "{u'doc_type': u'text/html', u'id_raw_doc': u'', u'title': u'BAR\\xd3METRO JULIO 2001', u'url': u'http://www.cis.es/cis/export/sites/default/-Archivos/Marginales/2420_2439/2428/e242800.html', u'barometro_dict': {}, u'number': u'2428', u'date': datetime.datetime(2001, 7, 13, 0, 0), u'_id': ObjectId('5528dd7c7c4c6704c43c9795'), u'updated_raw_doc': datetime.datetime(2015, 4, 11, 8, 34, 1, 413000)}\n",
        "{u'doc_type': u'text/html', u'id_raw_doc': u'', u'title': u'BAR\\xd3METRO NOVIEMBRE 2001', u'url': u'http://www.cis.es/cis/export/sites/default/-Archivos/Marginales/2420_2439/2439/e243900.html', u'barometro_dict': {}, u'number': u'2439', u'date': datetime.datetime(2001, 11, 21, 0, 0), u'_id': ObjectId('5528dd7c7c4c6704c43c9796'), u'updated_raw_doc': datetime.datetime(2015, 4, 11, 8, 34, 1, 413000)}\n",
        "{u'doc_type': u'application/pdf', u'id_raw_doc': u'', u'title': u'BAR\\xd3METRO OCTUBRE 2001', u'url': u'http://www.cis.es/cis/export/sites/default/-Archivos/Marginales/2420_2439/2433/Es2433mar.pdf', u'barometro_dict': {}, u'number': u'2433', u'date': datetime.datetime(2001, 10, 24, 0, 0), u'_id': ObjectId('5528dd7c7c4c6704c43c9797'), u'updated_raw_doc': datetime.datetime(2015, 4, 11, 8, 34, 1, 413000)}\n",
        "{u'doc_type': u'text/html', u'id_raw_doc': u'', u'title': u'BAR\\xd3METRO ENERO 2002', u'url': u'http://www.cis.es/cis/export/sites/default/-Archivos/Marginales/2440_2459/2444/e244400.html', u'barometro_dict': {}, u'number': u'2444', u'date': datetime.datetime(2002, 1, 27, 0, 0), u'_id': ObjectId('5528dd7c7c4c6704c43c9798'), u'updated_raw_doc': datetime.datetime(2015, 4, 11, 8, 34, 1, 413000)}\n",
        "{u'doc_type': u'text/html', u'id_raw_doc': u'', u'title': u'BAR\\xd3METRO DICIEMBRE 2001: EXPECTATIVAS 2002', u'url': u'http://www.cis.es/cis/export/sites/default/-Archivos/Marginales/2440_2459/2441/e244100.html', u'barometro_dict': {}, u'number': u'2441', u'date': datetime.datetime(2001, 12, 11, 0, 0), u'_id': ObjectId('5528dd7c7c4c6704c43c9799'), u'updated_raw_doc': datetime.datetime(2015, 4, 11, 8, 34, 1, 413000)}\n",
        "{u'doc_type': u'text/html', u'id_raw_doc': u'', u'title': u'BAR\\xd3METRO MARZO 2002', u'url': u'http://www.cis.es/cis/export/sites/default/-Archivos/Marginales/2440_2459/2452/e245200.html', u'barometro_dict': {}, u'number': u'2452', u'date': datetime.datetime(2002, 3, 16, 0, 0), u'_id': ObjectId('5528dd7c7c4c6704c43c979a'), u'updated_raw_doc': datetime.datetime(2015, 4, 11, 8, 34, 1, 413000)}\n",
        "{u'doc_type': u'text/html', u'id_raw_doc': u'', u'title': u'BAR\\xd3METRO FEBRERO 2002', u'url': u'http://www.cis.es/cis/export/sites/default/-Archivos/Marginales/2440_2459/2448/e244800.html', u'barometro_dict': {}, u'number': u'2448', u'date': datetime.datetime(2002, 2, 23, 0, 0), u'_id': ObjectId('5528dd7c7c4c6704c43c979b'), u'updated_raw_doc': datetime.datetime(2015, 4, 11, 8, 34, 1, 413000)}\n",
        "{u'doc_type': u'text/html', u'id_raw_doc': u'', u'title': u'BAR\\xd3METRO DICIEMBRE 1995', u'url': u'http://www.cis.es/cis/export/sites/default/-Archivos/Marginales/2200_2219/2201/e220100.html', u'barometro_dict': {}, u'number': u'2201', u'date': datetime.datetime(1995, 12, 9, 0, 0), u'_id': ObjectId('5528dd7c7c4c6704c43c979c'), u'updated_raw_doc': datetime.datetime(2015, 4, 11, 8, 34, 22, 496000)}\n",
        "{u'doc_type': u'text/html', u'id_raw_doc': u'', u'title': u'BAR\\xd3METRO ENERO 1996: UNI\\xd3N EUROPEA', u'url': u'http://www.cis.es/cis/export/sites/default/-Archivos/Marginales/2200_2219/2204/e220400.html', u'barometro_dict': {}, u'number': u'2204', u'date': datetime.datetime(1996, 1, 10, 0, 0), u'_id': ObjectId('5528dd7c7c4c6704c43c979d'), u'updated_raw_doc': datetime.datetime(2015, 4, 11, 8, 34, 17, 75000)}\n",
        "{u'doc_type': u'text/html', u'id_raw_doc': u'', u'title': u'BAR\\xd3METRO JUNIO 2001', u'url': u'http://www.cis.es/cis/export/sites/default/-Archivos/Marginales/2420_2439/2423/e242300.html', u'barometro_dict': {}, u'number': u'2423', u'date': datetime.datetime(2001, 6, 19, 0, 0), u'_id': ObjectId('5528dd7c7c4c6704c43c979e'), u'updated_raw_doc': datetime.datetime(2015, 4, 11, 8, 34, 1, 413000)}\n",
        "{u'doc_type': u'text/html', u'id_raw_doc': u'', u'title': u'BAR\\xd3METRO MAYO 2001', u'url': u'http://www.cis.es/cis/export/sites/default/-Archivos/Marginales/2400_2419/2419/e241900.html', u'barometro_dict': {}, u'number': u'2419', u'date': datetime.datetime(2001, 5, 22, 0, 0), u'_id': ObjectId('5528dd7c7c4c6704c43c979f'), u'updated_raw_doc': datetime.datetime(2015, 4, 11, 8, 34, 8, 612000)}\n",
        "{u'doc_type': u'text/html', u'id_raw_doc': u'', u'title': u'BAR\\xd3METRO DICIEMBRE 2007', u'url': u'http://www.cis.es/cis/export/sites/default/-Archivos/Marginales/2740_2759/2746/e274600.html', u'barometro_dict': {}, u'number': u'2746', u'date': datetime.datetime(2007, 12, 18, 0, 0), u'_id': ObjectId('5528dd7c7c4c6704c43c97a0'), u'updated_raw_doc': datetime.datetime(2015, 4, 11, 8, 33, 52, 595000)}\n",
        "{u'doc_type': u'text/html', u'id_raw_doc': u'', u'title': u'BAR\\xd3METRO ENERO 2008', u'url': u'http://www.cis.es/cis/export/sites/default/-Archivos/Marginales/2740_2759/2749/e274900.html', u'barometro_dict': {}, u'number': u'2749', u'date': datetime.datetime(2008, 1, 14, 0, 0), u'_id': ObjectId('5528dd7c7c4c6704c43c97a1'), u'updated_raw_doc': datetime.datetime(2015, 4, 11, 8, 33, 52, 595000)}\n",
        "{u'doc_type': u'text/html', u'id_raw_doc': u'', u'title': u'BAR\\xd3METRO FEBRERO 2008', u'url': u'http://www.cis.es/cis/export/sites/default/-Archivos/Marginales/2740_2759/2754/e275400.html', u'barometro_dict': {}, u'number': u'2754', u'date': datetime.datetime(2008, 2, 22, 0, 0), u'_id': ObjectId('5528dd7c7c4c6704c43c97a2'), u'updated_raw_doc': datetime.datetime(2015, 4, 11, 8, 33, 52, 595000)}\n",
        "{u'doc_type': u'text/html', u'id_raw_doc': u'', u'title': u'BAR\\xd3METRO MARZO 2008', u'url': u'http://www.cis.es/cis/export/sites/default/-Archivos/Marginales/2740_2759/2758/e275800.html', u'barometro_dict': {}, u'number': u'2758', u'date': datetime.datetime(2008, 3, 24, 0, 0), u'_id': ObjectId('5528dd7c7c4c6704c43c97a3'), u'updated_raw_doc': datetime.datetime(2015, 4, 11, 8, 33, 52, 595000)}\n",
        "{u'doc_type': u'text/html', u'id_raw_doc': u'', u'title': u'BAR\\xd3METRO ABRIL 2008', u'url': u'http://www.cis.es/cis/export/sites/default/-Archivos/Marginales/2760_2779/2761/e276100.html', u'barometro_dict': {}, u'number': u'2761', u'date': datetime.datetime(2008, 4, 24, 0, 0), u'_id': ObjectId('5528dd7c7c4c6704c43c97a4'), u'updated_raw_doc': datetime.datetime(2015, 4, 11, 8, 33, 52, 595000)}\n",
        "{u'doc_type': u'text/html', u'id_raw_doc': u'', u'title': u'BAR\\xd3METRO MAYO 2008', u'url': u'http://www.cis.es/cis/export/sites/default/-Archivos/Marginales/2760_2779/2763/e276300.html', u'barometro_dict': {}, u'number': u'2763', u'date': datetime.datetime(2008, 5, 22, 0, 0), u'_id': ObjectId('5528dd7c7c4c6704c43c97a5'), u'updated_raw_doc': datetime.datetime(2015, 4, 11, 8, 33, 52, 595000)}\n",
        "{u'doc_type': u'text/html', u'id_raw_doc': u'', u'title': u'BAR\\xd3METRO JUNIO 2008', u'url': u'http://www.cis.es/cis/export/sites/default/-Archivos/Marginales/2760_2779/2766/e276600.html', u'barometro_dict': {}, u'number': u'2766', u'date': datetime.datetime(2008, 6, 18, 0, 0), u'_id': ObjectId('5528dd7c7c4c6704c43c97a6'), u'updated_raw_doc': datetime.datetime(2015, 4, 11, 8, 33, 52, 595000)}\n",
        "{u'doc_type': u'text/html', u'id_raw_doc': u'', u'title': u'BAR\\xd3METRO JULIO 2008', u'url': u'http://www.cis.es/cis/export/sites/default/-Archivos/Marginales/2760_2779/2769/e276900.html', u'barometro_dict': {}, u'number': u'2769', u'date': datetime.datetime(2008, 7, 7, 0, 0), u'_id': ObjectId('5528dd7c7c4c6704c43c97a7'), u'updated_raw_doc': datetime.datetime(2015, 4, 11, 8, 33, 52, 595000)}\n",
        "{u'doc_type': u'text/html', u'id_raw_doc': u'', u'title': u'BAR\\xd3METRO OCTUBRE 2007', u'url': u'http://www.cis.es/cis/export/sites/default/-Archivos/Marginales/2720_2739/2735/e273500.html', u'barometro_dict': {}, u'number': u'2735', u'date': datetime.datetime(2007, 10, 22, 0, 0), u'_id': ObjectId('5528dd7c7c4c6704c43c97a8'), u'updated_raw_doc': datetime.datetime(2015, 4, 11, 8, 33, 52, 595000)}\n",
        "{u'doc_type': u'text/html', u'id_raw_doc': u'', u'title': u'BAR\\xd3METRO NOVIEMBRE 2007', u'url': u'http://www.cis.es/cis/export/sites/default/-Archivos/Marginales/2740_2759/2742/e274200.html', u'barometro_dict': {}, u'number': u'2742', u'date': datetime.datetime(2007, 11, 23, 0, 0), u'_id': ObjectId('5528dd7c7c4c6704c43c97a9'), u'updated_raw_doc': datetime.datetime(2015, 4, 11, 8, 33, 52, 595000)}\n",
        "{u'doc_type': u'text/html', u'id_raw_doc': u'', u'title': u'BAR\\xd3METRO ABRIL 1994', u'url': u'http://www.cis.es/cis/export/sites/default/-Archivos/Marginales/2080_2099/2087/e208700.html', u'barometro_dict': {}, u'number': u'2087', u'date': datetime.datetime(1994, 4, 6, 0, 0), u'_id': ObjectId('5528dd7c7c4c6704c43c97aa'), u'updated_raw_doc': datetime.datetime(2015, 4, 11, 8, 34, 22, 496000)}\n"
       ]
      }
     ],
     "prompt_number": 47
    },
    {
     "cell_type": "code",
     "collapsed": false,
     "input": [
      "# Per previndre aquest l'error: Overflow sort stage buffered data usage exceeds internal limit\n",
      "# indexem el camp 'date' de la collection 'barometro_docs'\n",
      "# http://stackoverflow.com/questions/27023622/overflow-sort-stage-buffered-data-usage-exceeds-internal-limit\n",
      "#\n",
      "barometro_docs_collection = db['barometro_docs']\n",
      "\n",
      "from pymongo import ASCENDING, DESCENDING\n",
      "\n",
      "barometro_docs_collection.create_index([(\"date\", ASCENDING)])"
     ],
     "language": "python",
     "metadata": {},
     "outputs": [
      {
       "metadata": {},
       "output_type": "pyout",
       "prompt_number": 44,
       "text": [
        "u'date_1'"
       ]
      }
     ],
     "prompt_number": 44
    },
    {
     "cell_type": "heading",
     "level": 3,
     "metadata": {},
     "source": [
      "Scraping per descarregar les dades dels bar\u00f2metres del CIS"
     ]
    },
    {
     "cell_type": "code",
     "collapsed": false,
     "input": [
      "# M\u00e8tode per descarregar els documents del diccionari 'barometro_docs_dict'\n",
      "\n",
      "import urllib\n",
      "import os\n",
      "import datetime\n",
      "# http://api.mongodb.org/python/current/api/gridfs/index.html\n",
      "# http://api.mongodb.org/python/current/examples/gridfs.html\n",
      "# -->  http://dirolf.com/2010/03/29/new-gridfs-implementation-for-pymongo.html\n",
      "# http://blog.pythonisito.com/2012/05/gridfs-mongodb-filesystem.html\n",
      "import gridfs\n",
      "\n",
      "# https://docs.python.org/2/library/mimetypes.html\n",
      "def get_extension(doc_type):\n",
      "    if doc_type == 'text/html':\n",
      "        return 'html'\n",
      "    elif doc_type == 'application/pdf':\n",
      "        return 'pdf'\n",
      "    else:\n",
      "        return ''\n",
      "\n",
      "# http://stackoverflow.com/questions/20551602/saving-a-file-in-mongodbs-gridfs-with-pymongo-results-in-a-truncated-file-pyt\n",
      "def get_open_file_mode(doc_type):\n",
      "    if doc_type == 'text/html':\n",
      "        return 'r'\n",
      "    elif doc_type == 'application/pdf':\n",
      "        return 'rb'\n",
      "    else:\n",
      "        return ''\n",
      "        \n",
      "def save_from_url_doc(url_doc, doc_type, file_name, path):\n",
      "    if doc_type == 'text/html':\n",
      "        url_opener = urllib.URLopener()\n",
      "        url_opener.retrieve(url_doc, path + file_name)\n",
      "    elif doc_type == 'application/pdf':\n",
      "        download_file(url_doc, file_name, path = path)\n",
      "    else:\n",
      "        ''\n",
      "\n",
      "def download_docs_to_DB(barometro_docs, my_gridFS, overwrite = False):\n",
      "    \n",
      "    # for doc in barometro_docs.find({'doc_type': 'application/pdf'})[:1]:\n",
      "    for doc in barometro_docs.find():\n",
      "        print \"Doc:\", doc['title']\n",
      "        if doc['id_raw_doc']==\"\" or overwrite:\n",
      "            print \"Loading: ...\", doc['url']\n",
      "            \n",
      "            file_name = doc['date'].strftime(\"%Y%m%d\") + \"_doc.\" + get_extension(doc['doc_type'])\n",
      "            print \"Saving...\", file_name\n",
      "            save_from_url_doc(doc['url'], doc['doc_type'], file_name, \"CIS/docs/\")\n",
      "            \n",
      "            with open(\"CIS/docs/\"+file_name, get_open_file_mode(doc['doc_type'])) as my_doc:\n",
      "                id_raw_doc = my_gridFS.put(my_doc, content_type=doc['doc_type'], filename=file_name)\n",
      "            \n",
      "            # http://docs.mongodb.org/manual/tutorial/modify-documents/\n",
      "            barometro_docs.update({'_id':doc['_id']},{'$set':{'id_raw_doc':id_raw_doc, 'updated_raw_doc': datetime.datetime.utcnow()}}, \\\n",
      "                                  upsert=False, multi=False)\n",
      "\n",
      "#\n",
      "barometro_docs_collection = db['barometro_docs']\n",
      "\n",
      "fs = gridfs.GridFS(db, 'barometro_docs')\n",
      "\n",
      "download_docs_to_DB(barometro_docs_collection, fs, overwrite = True)\n"
     ],
     "language": "python",
     "metadata": {},
     "outputs": [
      {
       "output_type": "stream",
       "stream": "stdout",
       "text": [
        " Doc: BAR\u00d3METRO ABRIL 1995\n",
        "Loading: ... http://www.cis.es/cis/export/sites/default/-Archivos/Marginales/2140_2159/2156/e215600.html\n",
        "Saving... 19950419_doc.html\n",
        "Doc:"
       ]
      },
      {
       "output_type": "stream",
       "stream": "stdout",
       "text": [
        " BAR\u00d3METRO MARZO 1995\n",
        "Loading: ... http://www.cis.es/cis/export/sites/default/-Archivos/Marginales/2140_2159/2151/e215100.html\n",
        "Saving... 19950319_doc.html\n",
        "Doc:"
       ]
      },
      {
       "output_type": "stream",
       "stream": "stdout",
       "text": [
        " BAR\u00d3METRO JUNIO 1995\n",
        "Loading: ... http://www.cis.es/cis/export/sites/default/-Archivos/Marginales/2180_2199/2184/e218400.html\n",
        "Saving... 19950625_doc.html\n",
        "Doc:"
       ]
      },
      {
       "output_type": "stream",
       "stream": "stdout",
       "text": [
        " BAR\u00d3METRO MAYO 1995\n",
        "Loading: ... http://www.cis.es/cis/export/sites/default/-Archivos/Marginales/2180_2199/2181/e218100.html\n",
        "Saving... 19950525_doc.html\n",
        "Doc:"
       ]
      },
      {
       "output_type": "stream",
       "stream": "stdout",
       "text": [
        " BAR\u00d3METRO SEPTIEMBRE 1995\n",
        "Loading: ... http://www.cis.es/cis/export/sites/default/-Archivos/Marginales/2180_2199/2190/e219000.html\n",
        "Saving... 19950913_doc.html\n",
        "Doc:"
       ]
      },
      {
       "output_type": "stream",
       "stream": "stdout",
       "text": [
        " BAR\u00d3METRO JULIO 1995: UNI\u00d3N EUROPEA\n",
        "Loading: ... http://www.cis.es/cis/export/sites/default/-Archivos/Marginales/2180_2199/2188/e218800.html\n",
        "Saving... 19950712_doc.html\n",
        "Doc:"
       ]
      },
      {
       "output_type": "stream",
       "stream": "stdout",
       "text": [
        " BAR\u00d3METRO NOVIEMBRE 1995\n",
        "Loading: ... http://www.cis.es/cis/export/sites/default/-Archivos/Marginales/2180_2199/2197/e219700.html\n",
        "Saving... 19951108_doc.html\n",
        "Doc:"
       ]
      },
      {
       "output_type": "stream",
       "stream": "stdout",
       "text": [
        " BAR\u00d3METRO OCTUBRE 1995\n",
        "Loading: ... http://www.cis.es/cis/export/sites/default/-Archivos/Marginales/2180_2199/2194/e219400.html\n",
        "Saving... 19951017_doc.html\n",
        "Doc:"
       ]
      },
      {
       "output_type": "stream",
       "stream": "stdout",
       "text": [
        " BAR\u00d3METRO DICIEMBRE 1999: EXPECTATIVAS 2000\n",
        "Loading: ... http://www.cis.es/cis/export/sites/default/-Archivos/Marginales/2360_2379/2377/e237700.html\n",
        "Saving... 19991216_doc.html\n",
        "Doc:"
       ]
      },
      {
       "output_type": "stream",
       "stream": "stdout",
       "text": [
        " BAR\u00d3METRO FEBRERO 1995\n",
        "Loading: ... http://www.cis.es/cis/export/sites/default/-Archivos/Marginales/2120_2139/2132/e213200.html\n",
        "Saving... 19950202_doc.html\n",
        "Doc:"
       ]
      },
      {
       "output_type": "stream",
       "stream": "stdout",
       "text": [
        " BAR\u00d3METRO ENERO 1995\n",
        "Loading: ... http://www.cis.es/cis/export/sites/default/-Archivos/Marginales/2120_2139/2130/e213000.html\n",
        "Saving... 19950112_doc.html\n",
        "Doc:"
       ]
      },
      {
       "output_type": "stream",
       "stream": "stdout",
       "text": [
        " BAR\u00d3METRO NOVIEMBRE 2002\n",
        "Loading: ... http://www.cis.es/cis/export/sites/default/-Archivos/Marginales/2460_2479/2471/e247100.html\n",
        "Saving... 20021116_doc.html\n",
        "Doc:"
       ]
      },
      {
       "output_type": "stream",
       "stream": "stdout",
       "text": [
        " BAR\u00d3METRO DICIEMBRE 2002: EXPECTATIVAS 2003\n",
        "Loading: ... http://www.cis.es/cis/export/sites/default/-Archivos/Marginales/2460_2479/2474/e247400.html\n",
        "Saving... 20021210_doc.html\n",
        "Doc:"
       ]
      },
      {
       "output_type": "stream",
       "stream": "stdout",
       "text": [
        " BAR\u00d3METRO ENERO 2003\n",
        "Loading: ... http://www.cis.es/cis/export/sites/default/-Archivos/Marginales/2460_2479/2477/e247700.html\n",
        "Saving... 20030121_doc.html\n",
        "Doc:"
       ]
      },
      {
       "output_type": "stream",
       "stream": "stdout",
       "text": [
        " BAR\u00d3METRO FEBRERO 2003\n",
        "Loading: ... http://www.cis.es/cis/export/sites/default/-Archivos/Marginales/2480_2499/2481/e248100.html\n",
        "Saving... 20030222_doc.html\n",
        "Doc:"
       ]
      },
      {
       "output_type": "stream",
       "stream": "stdout",
       "text": [
        " BAR\u00d3METRO JUNIO 2002\n",
        "Loading: ... http://www.cis.es/cis/export/sites/default/-Archivos/Marginales/2440_2459/2459/e245900.html\n",
        "Saving... 20020626_doc.html\n",
        "Doc:"
       ]
      },
      {
       "output_type": "stream",
       "stream": "stdout",
       "text": [
        " BAR\u00d3METRO JULIO 2002\n",
        "Loading: ... http://www.cis.es/cis/export/sites/default/-Archivos/Marginales/2460_2479/2463/e246300.html\n",
        "Saving... 20020716_doc.html\n",
        "Doc:"
       ]
      },
      {
       "output_type": "stream",
       "stream": "stdout",
       "text": [
        " BAR\u00d3METRO SEPTIEMBRE 2002\n",
        "Loading: ... http://www.cis.es/cis/export/sites/default/-Archivos/Marginales/2460_2479/2466/e246600.html\n",
        "Saving... 20020924_doc.html\n",
        "Doc:"
       ]
      },
      {
       "output_type": "stream",
       "stream": "stdout",
       "text": [
        " BAR\u00d3METRO OCTUBRE 2002\n",
        "Loading: ... http://www.cis.es/cis/export/sites/default/-Archivos/Marginales/2460_2479/2468/e246800.html\n",
        "Saving... 20021016_doc.html\n",
        "Doc:"
       ]
      },
      {
       "output_type": "stream",
       "stream": "stdout",
       "text": [
        " BAR\u00d3METRO ABRIL 2002\n",
        "Loading: ... http://www.cis.es/cis/export/sites/default/-Archivos/Marginales/2440_2459/2454/e245400.html\n",
        "Saving... 20020416_doc.html\n",
        "Doc:"
       ]
      },
      {
       "output_type": "stream",
       "stream": "stdout",
       "text": [
        " BAR\u00d3METRO MAYO 2002\n",
        "Loading: ... http://www.cis.es/cis/export/sites/default/-Archivos/Marginales/2440_2459/2457/e245700.html\n",
        "Saving... 20020520_doc.html\n",
        "Doc:"
       ]
      },
      {
       "output_type": "stream",
       "stream": "stdout",
       "text": [
        " BAR\u00d3METRO NOVIEMBRE 1999\n",
        "Loading: ... http://www.cis.es/cis/export/sites/default/-Archivos/Marginales/2360_2379/2376/Es2376mar.pdf\n",
        "Saving... 19991126_doc.pdf\n",
        "\n"
       ]
      },
      {
       "output_type": "stream",
       "stream": "stdout",
       "text": [
        "\n",
        "Doc: BAR\u00d3METRO NOVIEMBRE 2012\n",
        "Loading: ... http://www.cis.es/cis/export/sites/default/-Archivos/Marginales/2960_2979/2966/e296600.html\n",
        "Saving... 20121105_doc.html\n",
        "Doc:"
       ]
      },
      {
       "output_type": "stream",
       "stream": "stdout",
       "text": [
        " BAR\u00d3METRO OCTUBRE 2012\n",
        "Loading: ... http://www.cis.es/cis/export/sites/default/-Archivos/Marginales/2960_2979/2960/e296000.html\n",
        "Saving... 20121002_doc.html\n",
        "Doc:"
       ]
      },
      {
       "output_type": "stream",
       "stream": "stdout",
       "text": [
        " BAR\u00d3METRO SEPTIEMBRE 2012\n",
        "Loading: ... http://www.cis.es/cis/export/sites/default/-Archivos/Marginales/2940_2959/2954/e295400.html\n",
        "Saving... 20120903_doc.html\n",
        "Doc:"
       ]
      },
      {
       "output_type": "stream",
       "stream": "stdout",
       "text": [
        " BAR\u00d3METRO JULIO 2012\n",
        "Loading: ... http://www.cis.es/cis/export/sites/default/-Archivos/Marginales/2940_2959/2951/e295100.html\n",
        "Saving... 20120702_doc.html\n",
        "Doc:"
       ]
      },
      {
       "output_type": "stream",
       "stream": "stdout",
       "text": [
        " BAR\u00d3METRO MARZO 2013\n",
        "Loading: ... http://www.cis.es/cis/export/sites/default/-Archivos/Marginales/2980_2999/2981/e298100.html\n",
        "Saving... 20130301_doc.html\n",
        "Doc:"
       ]
      },
      {
       "output_type": "stream",
       "stream": "stdout",
       "text": [
        " BAR\u00d3METRO FEBRERO 2013\n",
        "Loading: ... http://www.cis.es/cis/export/sites/default/-Archivos/Marginales/2960_2979/2978/e297800.html\n",
        "Saving... 20130204_doc.html\n",
        "Doc:"
       ]
      },
      {
       "output_type": "stream",
       "stream": "stdout",
       "text": [
        " BAR\u00d3METRO ENERO 2013\n",
        "Loading: ... http://www.cis.es/cis/export/sites/default/-Archivos/Marginales/2960_2979/2976/e297600.html\n",
        "Saving... 20130104_doc.html\n",
        "Doc:"
       ]
      },
      {
       "output_type": "stream",
       "stream": "stdout",
       "text": [
        " BAR\u00d3METRO DICIEMBRE 2012\n",
        "Loading: ... http://www.cis.es/cis/export/sites/default/-Archivos/Marginales/2960_2979/2972/e297200.html\n",
        "Saving... 20121201_doc.html\n",
        "Doc:"
       ]
      },
      {
       "output_type": "stream",
       "stream": "stdout",
       "text": [
        " BAR\u00d3METRO MAYO 2000: UNI\u00d3N EUROPEA\n",
        "Loading: ... http://www.cis.es/cis/export/sites/default/-Archivos/Marginales/2380_2399/2392/Es2392mar.pdf\n",
        "Saving... 20000526_doc.pdf\n",
        "\n"
       ]
      },
      {
       "output_type": "stream",
       "stream": "stdout",
       "text": [
        "\n",
        "Doc: BAR\u00d3METRO JUNIO 2012\n",
        "Loading: ... http://www.cis.es/cis/export/sites/default/-Archivos/Marginales/2940_2959/2948/e294800.html\n",
        "Saving... 20120602_doc.html\n",
        "Doc:"
       ]
      },
      {
       "output_type": "stream",
       "stream": "stdout",
       "text": [
        " BAR\u00d3METRO MAYO 2012\n",
        "Loading: ... http://www.cis.es/cis/export/sites/default/-Archivos/Marginales/2940_2959/2944/e294400.html\n",
        "Saving... 20120503_doc.html\n",
        "Doc:"
       ]
      },
      {
       "output_type": "stream",
       "stream": "stdout",
       "text": [
        " BAR\u00d3METRO ABRIL 2000\n",
        "Loading: ... http://www.cis.es/cis/export/sites/default/-Archivos/Marginales/2380_2399/2389/e238900.html\n",
        "Saving... 20000429_doc.html\n",
        "Doc:"
       ]
      },
      {
       "output_type": "stream",
       "stream": "stdout",
       "text": [
        " BAR\u00d3METRO DE ENERO 2015\n",
        "Loading: ... http://www.cis.es/cis/export/sites/default/-Archivos/Marginales/3040_3059/3050/es3050mar.html\n",
        "Saving... 20150102_doc.html\n",
        "Doc:"
       ]
      },
      {
       "output_type": "stream",
       "stream": "stdout",
       "text": [
        " BAR\u00d3METRO DE SEPTIEMBRE 2014\n",
        "Loading: ... http://www.cis.es/cis/export/sites/default/-Archivos/Marginales/3020_3039/3038/es3038mar.html\n",
        "Saving... 20140902_doc.html\n",
        "Doc:"
       ]
      },
      {
       "output_type": "stream",
       "stream": "stdout",
       "text": [
        " BAR\u00d3METRO DE ABRIL 2014\n",
        "Loading: ... http://www.cis.es/cis/export/sites/default/-Archivos/Marginales/3020_3039/3021/es3021mar.html\n",
        "Saving... 20140401_doc.html\n",
        "Doc:"
       ]
      },
      {
       "output_type": "stream",
       "stream": "stdout",
       "text": [
        " BAR\u00d3METRO FEBRERO 2000\n",
        "Loading: ... http://www.cis.es/cis/export/sites/default/-Archivos/Marginales/2380_2399/2383/e238300.html\n",
        "Saving... 20000225_doc.html\n",
        "Doc:"
       ]
      },
      {
       "output_type": "stream",
       "stream": "stdout",
       "text": [
        " BAR\u00d3METRO FEBRERO 2004\n",
        "Loading: ... http://www.cis.es/cis/export/sites/default/-Archivos/Marginales/2540_2559/2556/e255600.html\n",
        "Saving... 20040220_doc.html\n",
        "Doc:"
       ]
      },
      {
       "output_type": "stream",
       "stream": "stdout",
       "text": [
        " BAR\u00d3METRO ENERO 2004\n",
        "Loading: ... http://www.cis.es/cis/export/sites/default/-Archivos/Marginales/2540_2559/2554/e255400.html\n",
        "Saving... 20040110_doc.html\n",
        "Doc:"
       ]
      },
      {
       "output_type": "stream",
       "stream": "stdout",
       "text": [
        " BAR\u00d3METRO DICIEMBRE 2003: EXPECTATIVAS 2004\n",
        "Loading: ... http://www.cis.es/cis/export/sites/default/-Archivos/Marginales/2540_2559/2548/e254800.html\n",
        "Saving... 20031210_doc.html\n",
        "Doc:"
       ]
      },
      {
       "output_type": "stream",
       "stream": "stdout",
       "text": [
        " BAR\u00d3METRO NOVIEMBRE 2003\n",
        "Loading: ... http://www.cis.es/cis/export/sites/default/-Archivos/Marginales/2540_2559/2545/e254500.html\n",
        "Saving... 20031114_doc.html\n",
        "Doc:"
       ]
      },
      {
       "output_type": "stream",
       "stream": "stdout",
       "text": [
        " BAR\u00d3METRO OCTUBRE 2003\n",
        "Loading: ... http://www.cis.es/cis/export/sites/default/-Archivos/Marginales/2540_2559/2541/e254100.html\n",
        "Saving... 20031025_doc.html\n",
        "Doc:"
       ]
      },
      {
       "output_type": "stream",
       "stream": "stdout",
       "text": [
        " BAR\u00d3METRO SEPTIEMBRE 2003\n",
        "Loading: ... http://www.cis.es/cis/export/sites/default/-Archivos/Marginales/2520_2539/2535/e253500.html\n",
        "Saving... 20030908_doc.html\n",
        "Doc:"
       ]
      },
      {
       "output_type": "stream",
       "stream": "stdout",
       "text": [
        " BAR\u00d3METRO JULIO 2003\n",
        "Loading: ... http://www.cis.es/cis/export/sites/default/-Archivos/Marginales/2520_2539/2531/e253100.html\n",
        "Saving... 20030702_doc.html\n",
        "Doc:"
       ]
      },
      {
       "output_type": "stream",
       "stream": "stdout",
       "text": [
        " BAR\u00d3METRO JUNIO 2003\n",
        "Loading: ... http://www.cis.es/cis/export/sites/default/-Archivos/Marginales/2520_2539/2528/e252800.html\n",
        "Saving... 20030617_doc.html\n",
        "Doc:"
       ]
      },
      {
       "output_type": "stream",
       "stream": "stdout",
       "text": [
        " BAR\u00d3METRO MAYO 2003\n",
        "Loading: ... http://www.cis.es/cis/export/sites/default/-Archivos/Marginales/2500_2519/2511/e251100.html\n",
        "Saving... 20030516_doc.html\n",
        "Doc:"
       ]
      },
      {
       "output_type": "stream",
       "stream": "stdout",
       "text": [
        " BAR\u00d3METRO ABRIL 2003\n",
        "Loading: ... http://www.cis.es/cis/export/sites/default/-Archivos/Marginales/2500_2519/2508/e250800.html\n",
        "Saving... 20030424_doc.html\n",
        "Doc:"
       ]
      },
      {
       "output_type": "stream",
       "stream": "stdout",
       "text": [
        " BAR\u00d3METRO MARZO 2003\n",
        "Loading: ... http://www.cis.es/cis/export/sites/default/-Archivos/Marginales/2480_2499/2483/e248300.html\n",
        "Saving... 20030315_doc.html\n",
        "Doc:"
       ]
      },
      {
       "output_type": "stream",
       "stream": "stdout",
       "text": [
        " BAR\u00d3METRO OCTUBRE 1999\n",
        "Loading: ... http://www.cis.es/cis/export/sites/default/-Archivos/Marginales/2360_2379/2372/Es2372mar.pdf\n",
        "Saving... 19991022_doc.pdf\n",
        "\n"
       ]
      },
      {
       "output_type": "stream",
       "stream": "stdout",
       "text": [
        "\n",
        "Doc: BAR\u00d3METRO MARZO 2004\n",
        "Loading: ... http://www.cis.es/cis/export/sites/default/-Archivos/Marginales/2540_2559/2558/e255800.html\n",
        "Saving... 20040316_doc.html\n",
        "Doc:"
       ]
      },
      {
       "output_type": "stream",
       "stream": "stdout",
       "text": [
        " BAR\u00d3METRO JULIO 2009\n",
        "Loading: ... http://www.cis.es/cis/export/sites/default/-Archivos/Marginales/2800_2819/2811/e281100.html\n",
        "Saving... 20090707_doc.html\n",
        "Doc:"
       ]
      },
      {
       "output_type": "stream",
       "stream": "stdout",
       "text": [
        " BAR\u00d3METRO SEPTIEMBRE 2009\n",
        "Loading: ... http://www.cis.es/cis/export/sites/default/-Archivos/Marginales/2800_2819/2812/e281200.html\n",
        "Saving... 20090904_doc.html\n",
        "Doc:"
       ]
      },
      {
       "output_type": "stream",
       "stream": "stdout",
       "text": [
        " BAR\u00d3METRO DICIEMBRE 2009\n",
        "Loading: ... http://www.cis.es/cis/export/sites/default/-Archivos/Marginales/2820_2839/2824/e282400.html\n",
        "Saving... 20091201_doc.html\n",
        "Doc:"
       ]
      },
      {
       "output_type": "stream",
       "stream": "stdout",
       "text": [
        " BAR\u00d3METRO ENERO 2010\n",
        "Loading: ... http://www.cis.es/cis/export/sites/default/-Archivos/Marginales/2820_2839/2828/e282800.html\n",
        "Saving... 20100109_doc.html\n",
        "Doc:"
       ]
      },
      {
       "output_type": "stream",
       "stream": "stdout",
       "text": [
        " BAR\u00d3METRO OCTUBRE 2009\n",
        "Loading: ... http://www.cis.es/cis/export/sites/default/-Archivos/Marginales/2800_2819/2815/e281500.html\n",
        "Saving... 20091007_doc.html\n",
        "Doc:"
       ]
      },
      {
       "output_type": "stream",
       "stream": "stdout",
       "text": [
        " BAR\u00d3METRO NOVIEMBRE 2009\n",
        "Loading: ... http://www.cis.es/cis/export/sites/default/-Archivos/Marginales/2820_2839/2820/e282000.html\n",
        "Saving... 20091102_doc.html\n",
        "Doc:"
       ]
      },
      {
       "output_type": "stream",
       "stream": "stdout",
       "text": [
        " BAR\u00d3METRO ABRIL 2010\n",
        "Loading: ... http://www.cis.es/cis/export/sites/default/-Archivos/Marginales/2820_2839/2834/e283400.html\n",
        "Saving... 20100406_doc.html\n",
        "Doc:"
       ]
      },
      {
       "output_type": "stream",
       "stream": "stdout",
       "text": [
        " BAR\u00d3METRO MAYO 2010\n",
        "Loading: ... http://www.cis.es/cis/export/sites/default/-Archivos/Marginales/2820_2839/2836/e283600.html\n",
        "Saving... 20100504_doc.html\n",
        "Doc:"
       ]
      },
      {
       "output_type": "stream",
       "stream": "stdout",
       "text": [
        " BAR\u00d3METRO FEBRERO 2010\n",
        "Loading: ... http://www.cis.es/cis/export/sites/default/-Archivos/Marginales/2820_2839/2830/e283000.html\n",
        "Saving... 20100205_doc.html\n",
        "Doc:"
       ]
      },
      {
       "output_type": "stream",
       "stream": "stdout",
       "text": [
        " BAR\u00d3METRO MARZO 2010\n",
        "Loading: ... http://www.cis.es/cis/export/sites/default/-Archivos/Marginales/2820_2839/2831/e283100.html\n",
        "Saving... 20100302_doc.html\n",
        "Doc:"
       ]
      },
      {
       "output_type": "stream",
       "stream": "stdout",
       "text": [
        " BAR\u00d3METRO ENERO 2000\n",
        "Loading: ... http://www.cis.es/cis/export/sites/default/-Archivos/Marginales/2380_2399/2381/e238100.html\n",
        "Saving... 20000127_doc.html\n",
        "Doc:"
       ]
      },
      {
       "output_type": "stream",
       "stream": "stdout",
       "text": [
        " BAR\u00d3METRO SEPTIEMBRE 1996\n",
        "Loading: ... http://www.cis.es/cis/export/sites/default/-Archivos/Marginales/2220_2239/2222/e222200.html\n",
        "Saving... 19960927_doc.html\n",
        "Doc:"
       ]
      },
      {
       "output_type": "stream",
       "stream": "stdout",
       "text": [
        " BAR\u00d3METRO NOVIEMBRE 1996\n",
        "Loading: ... http://www.cis.es/cis/export/sites/default/-Archivos/Marginales/2220_2239/2229/e222900.html\n",
        "Saving... 19961123_doc.html\n",
        "Doc:"
       ]
      },
      {
       "output_type": "stream",
       "stream": "stdout",
       "text": [
        " BAR\u00d3METRO SEPTIEMBRE 1998\n",
        "Loading: ... http://www.cis.es/cis/export/sites/default/-Archivos/Marginales/2300_2319/2303/e230300.html\n",
        "Saving... 19980925_doc.html\n",
        "Doc:"
       ]
      },
      {
       "output_type": "stream",
       "stream": "stdout",
       "text": [
        " BAR\u00d3METRO OCTUBRE 1996\n",
        "Loading: ... http://www.cis.es/cis/export/sites/default/-Archivos/Marginales/2220_2239/2225/e222500.html\n",
        "Saving... 19961026_doc.html\n",
        "Doc:"
       ]
      },
      {
       "output_type": "stream",
       "stream": "stdout",
       "text": [
        " BAR\u00d3METRO MARZO 1997\n",
        "Loading: ... http://www.cis.es/cis/export/sites/default/-Archivos/Marginales/2240_2259/2242/e224200.html\n",
        "Saving... 19970319_doc.html\n",
        "Doc:"
       ]
      },
      {
       "output_type": "stream",
       "stream": "stdout",
       "text": [
        " BAR\u00d3METRO ABRIL 1997\n",
        "Loading: ... http://www.cis.es/cis/export/sites/default/-Archivos/Marginales/2240_2259/2244/e224400.html\n",
        "Saving... 19970423_doc.html\n",
        "Doc:"
       ]
      },
      {
       "output_type": "stream",
       "stream": "stdout",
       "text": [
        " BAR\u00d3METRO ENERO 1997\n",
        "Loading: ... http://www.cis.es/cis/export/sites/default/-Archivos/Marginales/2220_2239/2233/e223300.html\n",
        "Saving... 19970123_doc.html\n",
        "Doc:"
       ]
      },
      {
       "output_type": "stream",
       "stream": "stdout",
       "text": [
        " BAR\u00d3METRO OCTUBRE 1998\n",
        "Loading: ... http://www.cis.es/cis/export/sites/default/-Archivos/Marginales/2300_2319/2307/e230700.html\n",
        "Saving... 19981026_doc.html\n",
        "Doc:"
       ]
      },
      {
       "output_type": "stream",
       "stream": "stdout",
       "text": [
        " BAR\u00d3METRO JULIO 1997\n",
        "Loading: ... http://www.cis.es/cis/export/sites/default/-Archivos/Marginales/2240_2259/2254/e225400.html\n",
        "Saving... 19970711_doc.html\n",
        "Doc:"
       ]
      },
      {
       "output_type": "stream",
       "stream": "stdout",
       "text": [
        " BAR\u00d3METRO SEPTIEMBRE 1997\n",
        "Loading: ... http://www.cis.es/cis/export/sites/default/-Archivos/Marginales/2240_2259/2259/e225900.html\n",
        "Saving... 19970926_doc.html\n",
        "Doc:"
       ]
      },
      {
       "output_type": "stream",
       "stream": "stdout",
       "text": [
        " BAR\u00d3METRO MAYO 1997\n",
        "Loading: ... http://www.cis.es/cis/export/sites/default/-Archivos/Marginales/2240_2259/2248/e224800.html\n",
        "Saving... 19970523_doc.html\n",
        "Doc:"
       ]
      },
      {
       "output_type": "stream",
       "stream": "stdout",
       "text": [
        " BAR\u00d3METRO JUNIO 1997\n",
        "Loading: ... http://www.cis.es/cis/export/sites/default/-Archivos/Marginales/2240_2259/2252/e225200.html\n",
        "Saving... 19970620_doc.html\n",
        "Doc:"
       ]
      },
      {
       "output_type": "stream",
       "stream": "stdout",
       "text": [
        " BAR\u00d3METRO JUNIO 2004\n",
        "Loading: ... http://www.cis.es/cis/export/sites/default/-Archivos/Marginales/2560_2579/2568/e256800.html\n",
        "Saving... 20040625_doc.html\n",
        "Doc:"
       ]
      },
      {
       "output_type": "stream",
       "stream": "stdout",
       "text": [
        " BAR\u00d3METRO JULIO 2004\n",
        "Loading: ... http://www.cis.es/cis/export/sites/default/-Archivos/Marginales/2560_2579/2570/e257000.html\n",
        "Saving... 20040709_doc.html\n",
        "Doc:"
       ]
      },
      {
       "output_type": "stream",
       "stream": "stdout",
       "text": [
        " BAR\u00d3METRO DICIEMBRE 2006\n",
        "Loading: ... http://www.cis.es/cis/export/sites/default/-Archivos/Marginales/2660_2679/2666/e266600.html\n",
        "Saving... 20061213_doc.html\n",
        "Doc:"
       ]
      },
      {
       "output_type": "stream",
       "stream": "stdout",
       "text": [
        " BAR\u00d3METRO NOVIEMBRE 2006\n",
        "Loading: ... http://www.cis.es/cis/export/sites/default/-Archivos/Marginales/2660_2679/2662/e266200.html\n",
        "Saving... 20061118_doc.html\n",
        "Doc:"
       ]
      },
      {
       "output_type": "stream",
       "stream": "stdout",
       "text": [
        " BAR\u00d3METRO NOVIEMBRE 2004\n",
        "Loading: ... http://www.cis.es/cis/export/sites/default/-Archivos/Marginales/2580_2599/2581/e258100.html\n",
        "Saving... 20041119_doc.html\n",
        "Doc:"
       ]
      },
      {
       "output_type": "stream",
       "stream": "stdout",
       "text": [
        " BAR\u00d3METRO DICIEMBRE 2004: EXPECTATIVAS 2005\n",
        "Loading: ... http://www.cis.es/cis/export/sites/default/-Archivos/Marginales/2580_2599/2584/e258400.html\n",
        "Saving... 20041215_doc.html\n",
        "Doc:"
       ]
      },
      {
       "output_type": "stream",
       "stream": "stdout",
       "text": [
        " BAR\u00d3METRO SEPTIEMBRE 2004\n",
        "Loading: ... http://www.cis.es/cis/export/sites/default/-Archivos/Marginales/2560_2579/2573/e257300.html\n",
        "Saving... 20040924_doc.html\n",
        "Doc:"
       ]
      },
      {
       "output_type": "stream",
       "stream": "stdout",
       "text": [
        " BAR\u00d3METRO OCTUBRE 2004\n",
        "Loading: ... http://www.cis.es/cis/export/sites/default/-Archivos/Marginales/2560_2579/2577/e257700.html\n",
        "Saving... 20041021_doc.html\n",
        "Doc:"
       ]
      },
      {
       "output_type": "stream",
       "stream": "stdout",
       "text": [
        " BAR\u00d3METRO JUNIO 2007\n",
        "Loading: ... http://www.cis.es/cis/export/sites/default/-Archivos/Marginales/2720_2739/2724/e272400.html\n",
        "Saving... 20070622_doc.html\n",
        "Doc:"
       ]
      },
      {
       "output_type": "stream",
       "stream": "stdout",
       "text": [
        " BAR\u00d3METRO MAYO 2007\n",
        "Loading: ... http://www.cis.es/cis/export/sites/default/-Archivos/Marginales/2700_2719/2705/e270500.html\n",
        "Saving... 20070519_doc.html\n",
        "Doc:"
       ]
      },
      {
       "output_type": "stream",
       "stream": "stdout",
       "text": [
        " BAR\u00d3METRO SEPTIEMBRE 2007\n",
        "Loading: ... http://www.cis.es/cis/export/sites/default/-Archivos/Marginales/2720_2739/2732/e273200.html\n",
        "Saving... 20070924_doc.html\n",
        "Doc:"
       ]
      },
      {
       "output_type": "stream",
       "stream": "stdout",
       "text": [
        " BAR\u00d3METRO JULIO 2007\n",
        "Loading: ... http://www.cis.es/cis/export/sites/default/-Archivos/Marginales/2720_2739/2728/e272800.html\n",
        "Saving... 20070706_doc.html\n",
        "Doc:"
       ]
      },
      {
       "output_type": "stream",
       "stream": "stdout",
       "text": [
        " BAR\u00d3METRO FEBRERO 2007\n",
        "Loading: ... http://www.cis.es/cis/export/sites/default/-Archivos/Marginales/2660_2679/2677/e267700.html\n",
        "Saving... 20070222_doc.html\n",
        "Doc:"
       ]
      },
      {
       "output_type": "stream",
       "stream": "stdout",
       "text": [
        " BAR\u00d3METRO ENERO 2007\n",
        "Loading: ... http://www.cis.es/cis/export/sites/default/-Archivos/Marginales/2660_2679/2672/e267200.html\n",
        "Saving... 20070122_doc.html\n",
        "Doc:"
       ]
      },
      {
       "output_type": "stream",
       "stream": "stdout",
       "text": [
        " BAR\u00d3METRO ABRIL 2007\n",
        "Loading: ... http://www.cis.es/cis/export/sites/default/-Archivos/Marginales/2700_2719/2700/e270000.html\n",
        "Saving... 20070423_doc.html\n",
        "Doc:"
       ]
      },
      {
       "output_type": "stream",
       "stream": "stdout",
       "text": [
        " BAR\u00d3METRO MARZO 2007\n",
        "Loading: ... http://www.cis.es/cis/export/sites/default/-Archivos/Marginales/2680_2699/2681/e268100.html\n",
        "Saving... 20070317_doc.html\n",
        "Doc:"
       ]
      },
      {
       "output_type": "stream",
       "stream": "stdout",
       "text": [
        " BAR\u00d3METRO DICIEMBRE 1996\n",
        "Loading: ... http://www.cis.es/cis/export/sites/default/-Archivos/Marginales/2220_2239/2231/e223100.html\n",
        "Saving... 19961217_doc.html\n",
        "Doc:"
       ]
      },
      {
       "output_type": "stream",
       "stream": "stdout",
       "text": [
        " BAR\u00d3METRO MARZO 1996\n",
        "Loading: ... http://www.cis.es/cis/export/sites/default/-Archivos/Marginales/2200_2219/2211/e221100.html\n",
        "Saving... 19960327_doc.html\n",
        "Doc:"
       ]
      },
      {
       "output_type": "stream",
       "stream": "stdout",
       "text": [
        " BAR\u00d3METRO MAYO 1994\n",
        "Loading: ... http://www.cis.es/cis/export/sites/default/-Archivos/Marginales/2100_2119/2100/es2100mar.html\n",
        "Saving... 19940512_doc.html\n",
        "Doc:"
       ]
      },
      {
       "output_type": "stream",
       "stream": "stdout",
       "text": [
        " BAR\u00d3METRO DE OCTUBRE 2014\n",
        "Loading: ... http://www.cis.es/cis/export/sites/default/-Archivos/Marginales/3040_3059/3041/es3041mar.html\n",
        "Saving... 20141001_doc.html\n",
        "Doc:"
       ]
      },
      {
       "output_type": "stream",
       "stream": "stdout",
       "text": [
        " BAR\u00d3METRO NOVIEMBRE 1998\n",
        "Loading: ... http://www.cis.es/cis/export/sites/default/-Archivos/Marginales/2300_2319/2311/e231100.html\n",
        "Saving... 19981126_doc.html\n",
        "Doc:"
       ]
      },
      {
       "output_type": "stream",
       "stream": "stdout",
       "text": [
        " BAR\u00d3METRO DE MAYO 2014\n",
        "Loading: ... http://www.cis.es/cis/export/sites/default/-Archivos/Marginales/3020_3039/3024/es3024mar.html\n",
        "Saving... 20140501_doc.html\n",
        "Doc:"
       ]
      },
      {
       "output_type": "stream",
       "stream": "stdout",
       "text": [
        " BAR\u00d3METRO JUNIO 1994: POSTELECTORAL PARLAMENTO EUROPEO\n",
        "Loading: ... http://www.cis.es/cis/export/sites/default/-Archivos/Marginales/2100_2119/2108/e210800.html\n",
        "Saving... 19940616_doc.html\n",
        "Doc:"
       ]
      },
      {
       "output_type": "stream",
       "stream": "stdout",
       "text": [
        " BAR\u00d3METRO FEBRERO 2005\n",
        "Loading: ... http://www.cis.es/cis/export/sites/default/-Archivos/Marginales/2580_2599/2594/e259400.html\n",
        "Saving... 20050218_doc.html\n",
        "Doc:"
       ]
      },
      {
       "output_type": "stream",
       "stream": "stdout",
       "text": [
        " BAR\u00d3METRO ENERO 2005\n",
        "Loading: ... http://www.cis.es/cis/export/sites/default/-Archivos/Marginales/2580_2599/2589/e258900.html\n",
        "Saving... 20050119_doc.html\n",
        "Doc:"
       ]
      },
      {
       "output_type": "stream",
       "stream": "stdout",
       "text": [
        " BAR\u00d3METRO SEPTIEMBRE 2005\n",
        "Loading: ... http://www.cis.es/cis/export/sites/default/-Archivos/Marginales/2600_2619/2618/e261800.html\n",
        "Saving... 20050923_doc.html\n",
        "Doc:"
       ]
      },
      {
       "output_type": "stream",
       "stream": "stdout",
       "text": [
        " BAR\u00d3METRO JULIO 2005\n",
        "Loading: ... http://www.cis.es/cis/export/sites/default/-Archivos/Marginales/2600_2619/2616/e261600.html\n",
        "Saving... 20050713_doc.html\n",
        "Doc:"
       ]
      },
      {
       "output_type": "stream",
       "stream": "stdout",
       "text": [
        " BAR\u00d3METRO NOVIEMBRE 2005\n",
        "Loading: ... http://www.cis.es/cis/export/sites/default/-Archivos/Marginales/2620_2639/2625/e262500.html\n",
        "Saving... 20051115_doc.html\n",
        "Doc:"
       ]
      },
      {
       "output_type": "stream",
       "stream": "stdout",
       "text": [
        " BAR\u00d3METRO OCTUBRE 2005\n",
        "Loading: ... http://www.cis.es/cis/export/sites/default/-Archivos/Marginales/2620_2639/2622/e262200.html\n",
        "Saving... 20051021_doc.html\n",
        "Doc:"
       ]
      },
      {
       "output_type": "stream",
       "stream": "stdout",
       "text": [
        " BAR\u00d3METRO ABRIL 2005\n",
        "Loading: ... http://www.cis.es/cis/export/sites/default/-Archivos/Marginales/2600_2619/2602/e260200.html\n",
        "Saving... 20050427_doc.html\n",
        "Doc:"
       ]
      },
      {
       "output_type": "stream",
       "stream": "stdout",
       "text": [
        " BAR\u00d3METRO MARZO 2005\n",
        "Loading: ... http://www.cis.es/cis/export/sites/default/-Archivos/Marginales/2580_2599/2597/e259700.html\n",
        "Saving... 20050329_doc.html\n",
        "Doc:"
       ]
      },
      {
       "output_type": "stream",
       "stream": "stdout",
       "text": [
        " BAR\u00d3METRO JUNIO 2005\n",
        "Loading: ... http://www.cis.es/cis/export/sites/default/-Archivos/Marginales/2600_2619/2612/e261200.html\n",
        "Saving... 20050606_doc.html\n",
        "Doc:"
       ]
      },
      {
       "output_type": "stream",
       "stream": "stdout",
       "text": [
        " BAR\u00d3METRO MAYO 2005\n",
        "Loading: ... http://www.cis.es/cis/export/sites/default/-Archivos/Marginales/2600_2619/2607/e260700.html\n",
        "Saving... 20050513_doc.html\n",
        "Doc:"
       ]
      },
      {
       "output_type": "stream",
       "stream": "stdout",
       "text": [
        " BAR\u00d3METRO MAYO 2011\n",
        "Loading: ... http://www.cis.es/cis/export/sites/default/-Archivos/Marginales/2880_2899/2888/e288800.html\n",
        "Saving... 20110503_doc.html\n",
        "Doc:"
       ]
      },
      {
       "output_type": "stream",
       "stream": "stdout",
       "text": [
        " BAR\u00d3METRO JUNIO 2011\n",
        "Loading: ... http://www.cis.es/cis/export/sites/default/-Archivos/Marginales/2900_2919/2905/e290500.html\n",
        "Saving... 20110602_doc.html\n",
        "Doc:"
       ]
      },
      {
       "output_type": "stream",
       "stream": "stdout",
       "text": [
        " BAR\u00d3METRO ENERO 2012\n",
        "Loading: ... http://www.cis.es/cis/export/sites/default/-Archivos/Marginales/2920_2939/2927/e292700.html\n",
        "Saving... 20120104_doc.html\n",
        "Doc:"
       ]
      },
      {
       "output_type": "stream",
       "stream": "stdout",
       "text": [
        " BAR\u00d3METRO FEBRERO 2012\n",
        "Loading: ... http://www.cis.es/cis/export/sites/default/-Archivos/Marginales/2920_2939/2932/e293200.html\n",
        "Saving... 20120201_doc.html\n",
        "Doc:"
       ]
      },
      {
       "output_type": "stream",
       "stream": "stdout",
       "text": [
        " BAR\u00d3METRO MARZO 2012\n",
        "Loading: ... http://www.cis.es/cis/export/sites/default/-Archivos/Marginales/2920_2939/2935/e293500.html\n",
        "Saving... 20120302_doc.html\n",
        "Doc:"
       ]
      },
      {
       "output_type": "stream",
       "stream": "stdout",
       "text": [
        " BAR\u00d3METRO ABRIL 2012\n",
        "Loading: ... http://www.cis.es/cis/export/sites/default/-Archivos/Marginales/2940_2959/2941/e294100.html\n",
        "Saving... 20120409_doc.html\n",
        "Doc:"
       ]
      },
      {
       "output_type": "stream",
       "stream": "stdout",
       "text": [
        " BAR\u00d3METRO JULIO 2011\n",
        "Loading: ... http://www.cis.es/cis/export/sites/default/-Archivos/Marginales/2900_2919/2909/e290900.html\n",
        "Saving... 20110704_doc.html\n",
        "Doc:"
       ]
      },
      {
       "output_type": "stream",
       "stream": "stdout",
       "text": [
        " BAR\u00d3METRO SEPTIEMBRE 2011\n",
        "Loading: ... http://www.cis.es/cis/export/sites/default/-Archivos/Marginales/2900_2919/2911/e291100.html\n",
        "Saving... 20110905_doc.html\n",
        "Doc:"
       ]
      },
      {
       "output_type": "stream",
       "stream": "stdout",
       "text": [
        " BAR\u00d3METRO OCTUBRE 2011\n",
        "Loading: ... http://www.cis.es/cis/export/sites/default/-Archivos/Marginales/2900_2919/2914/e291400.html\n",
        "Saving... 20111001_doc.html\n",
        "Doc:"
       ]
      },
      {
       "output_type": "stream",
       "stream": "stdout",
       "text": [
        " BAR\u00d3METRO DICIEMBRE 2011\n",
        "Loading: ... http://www.cis.es/cis/export/sites/default/-Archivos/Marginales/2920_2939/2923/e292300.html\n",
        "Saving... 20111201_doc.html\n",
        "Doc:"
       ]
      },
      {
       "output_type": "stream",
       "stream": "stdout",
       "text": [
        " BAR\u00d3METRO ABRIL 1996\n",
        "Loading: ... http://www.cis.es/cis/export/sites/default/-Archivos/Marginales/2200_2219/2212/e221200.html\n",
        "Saving... 19960413_doc.html\n",
        "Doc:"
       ]
      },
      {
       "output_type": "stream",
       "stream": "stdout",
       "text": [
        " BAR\u00d3METRO SEPTIEMBRE 1994\n",
        "Loading: ... http://www.cis.es/cis/export/sites/default/-Archivos/Marginales/2100_2119/2115/e211500.html\n",
        "Saving... 19940920_doc.html\n",
        "Doc:"
       ]
      },
      {
       "output_type": "stream",
       "stream": "stdout",
       "text": [
        " BAR\u00d3METRO DICIEMBRE 1998: EXPECTATIVAS 1999\n",
        "Loading: ... http://www.cis.es/cis/export/sites/default/-Archivos/Marginales/2300_2319/2313/e231300.html\n",
        "Saving... 19981218_doc.html\n",
        "Doc:"
       ]
      },
      {
       "output_type": "stream",
       "stream": "stdout",
       "text": [
        " BAR\u00d3METRO JUNIO 2009\n",
        "Loading: ... http://www.cis.es/cis/export/sites/default/-Archivos/Marginales/2800_2819/2806/e280600.html\n",
        "Saving... 20090604_doc.html\n",
        "Doc:"
       ]
      },
      {
       "output_type": "stream",
       "stream": "stdout",
       "text": [
        " BAR\u00d3METRO MAYO 2009\n",
        "Loading: ... http://www.cis.es/cis/export/sites/default/-Archivos/Marginales/2800_2819/2801/e280100.html\n",
        "Saving... 20090513_doc.html\n",
        "Doc:"
       ]
      },
      {
       "output_type": "stream",
       "stream": "stdout",
       "text": [
        " BAR\u00d3METRO ABRIL 2009\n",
        "Loading: ... http://www.cis.es/cis/export/sites/default/-Archivos/Marginales/2780_2799/2798/e279800.html\n",
        "Saving... 20090414_doc.html\n",
        "Doc:"
       ]
      },
      {
       "output_type": "stream",
       "stream": "stdout",
       "text": [
        " BAR\u00d3METRO MARZO 2009\n",
        "Loading: ... http://www.cis.es/cis/export/sites/default/-Archivos/Marginales/2780_2799/2794/e279400.html\n",
        "Saving... 20090304_doc.html\n",
        "Doc:"
       ]
      },
      {
       "output_type": "stream",
       "stream": "stdout",
       "text": [
        " BAR\u00d3METRO FEBRERO 2009\n",
        "Loading: ... http://www.cis.es/cis/export/sites/default/-Archivos/Marginales/2780_2799/2788/e278800.html\n",
        "Saving... 20090204_doc.html\n",
        "Doc:"
       ]
      },
      {
       "output_type": "stream",
       "stream": "stdout",
       "text": [
        " BAR\u00d3METRO ENERO 2009\n",
        "Loading: ... http://www.cis.es/cis/export/sites/default/-Archivos/Marginales/2780_2799/2782/e278200.html\n",
        "Saving... 20090109_doc.html\n",
        "Doc:"
       ]
      },
      {
       "output_type": "stream",
       "stream": "stdout",
       "text": [
        " BAR\u00d3METRO DICIEMBRE 2008\n",
        "Loading: ... http://www.cis.es/cis/export/sites/default/-Archivos/Marginales/2780_2799/2781/e278100.html\n",
        "Saving... 20081203_doc.html\n",
        "Doc:"
       ]
      },
      {
       "output_type": "stream",
       "stream": "stdout",
       "text": [
        " BAR\u00d3METRO NOVIEMBRE 2008\n",
        "Loading: ... http://www.cis.es/cis/export/sites/default/-Archivos/Marginales/2760_2779/2778/e277800.html\n",
        "Saving... 20081103_doc.html\n",
        "Doc:"
       ]
      },
      {
       "output_type": "stream",
       "stream": "stdout",
       "text": [
        " BAR\u00d3METRO OCTUBRE 2008\n",
        "Loading: ... http://www.cis.es/cis/export/sites/default/-Archivos/Marginales/2760_2779/2775/e277500.html\n",
        "Saving... 20081001_doc.html\n",
        "Doc:"
       ]
      },
      {
       "output_type": "stream",
       "stream": "stdout",
       "text": [
        " BAR\u00d3METRO SEPTIEMBRE 2008\n",
        "Loading: ... http://www.cis.es/cis/export/sites/default/-Archivos/Marginales/2760_2779/2771/e277100.html\n",
        "Saving... 20080905_doc.html\n",
        "Doc:"
       ]
      },
      {
       "output_type": "stream",
       "stream": "stdout",
       "text": [
        " BAR\u00d3METRO ENERO 1999\n",
        "Loading: ... http://www.cis.es/cis/export/sites/default/-Archivos/Marginales/2300_2319/2316/e231600.html\n",
        "Saving... 19990127_doc.html\n",
        "Doc:"
       ]
      },
      {
       "output_type": "stream",
       "stream": "stdout",
       "text": [
        " BAR\u00d3METRO FEBRERO 1999\n",
        "Loading: ... http://www.cis.es/cis/export/sites/default/-Archivos/Marginales/2320_2339/2320/Es2320mar.pdf\n",
        "Saving... 19990224_doc.pdf\n",
        "\n"
       ]
      },
      {
       "output_type": "stream",
       "stream": "stdout",
       "text": [
        "\n",
        "Doc: BAR\u00d3METRO MARZO 1999\n",
        "Loading: ... http://www.cis.es/cis/export/sites/default/-Archivos/Marginales/2320_2339/2322/Es2322mar.pdf\n",
        "Saving... 19990324_doc.pdf\n",
        "\n"
       ]
      },
      {
       "output_type": "stream",
       "stream": "stdout",
       "text": [
        "\n",
        "Doc: BAR\u00d3METRO ABRIL 1999\n",
        "Loading: ... http://www.cis.es/cis/export/sites/default/-Archivos/Marginales/2320_2339/2324/e232400.html\n",
        "Saving... 19990424_doc.html\n",
        "Doc:"
       ]
      },
      {
       "output_type": "stream",
       "stream": "stdout",
       "text": [
        " BAR\u00d3METRO MAYO 1999: UNI\u00d3N EUROPEA\n",
        "Loading: ... http://www.cis.es/cis/export/sites/default/-Archivos/Marginales/2320_2339/2339/Es2339mar.pdf\n",
        "Saving... 19990527_doc.pdf\n",
        "\n"
       ]
      },
      {
       "output_type": "stream",
       "stream": "stdout",
       "text": [
        "\n",
        "Doc: BAR\u00d3METRO JUNIO 1999\n",
        "Loading: ... http://www.cis.es/cis/export/sites/default/-Archivos/Marginales/2360_2379/2364/Es2364mar.pdf\n",
        "Saving... 19990626_doc.pdf\n",
        "\n"
       ]
      },
      {
       "output_type": "stream",
       "stream": "stdout",
       "text": [
        "\n",
        "Doc: BAR\u00d3METRO JUNIO 1996\n",
        "Loading: ... http://www.cis.es/cis/export/sites/default/-Archivos/Marginales/2200_2219/2217/e221700.html\n",
        "Saving... 19960622_doc.html\n",
        "Doc:"
       ]
      },
      {
       "output_type": "stream",
       "stream": "stdout",
       "text": [
        " BAR\u00d3METRO OCTUBRE 1994\n",
        "Loading: ... http://www.cis.es/cis/export/sites/default/-Archivos/Marginales/2100_2119/2118/e211800.html\n",
        "Saving... 19941019_doc.html\n",
        "Doc:"
       ]
      },
      {
       "output_type": "stream",
       "stream": "stdout",
       "text": [
        " BAR\u00d3METRO JUNIO 1998\n",
        "Loading: ... http://www.cis.es/cis/export/sites/default/-Archivos/Marginales/2280_2299/2291/e229100.html\n",
        "Saving... 19980620_doc.html\n",
        "Doc:"
       ]
      },
      {
       "output_type": "stream",
       "stream": "stdout",
       "text": [
        " BAR\u00d3METRO MAYO 1998: UNI\u00d3N EUROPEA\n",
        "Loading: ... http://www.cis.es/cis/export/sites/default/-Archivos/Marginales/2280_2299/2288/Es2288mar_mod.pdf\n",
        "Saving... 19980522_doc.pdf\n",
        "\n"
       ]
      },
      {
       "output_type": "stream",
       "stream": "stdout",
       "text": [
        "\n",
        "Doc: BAR\u00d3METRO ABRIL 1998\n",
        "Loading: ... http://www.cis.es/cis/export/sites/default/-Archivos/Marginales/2280_2299/2285/Es2285mar_mod.pdf\n",
        "Saving... 19980425_doc.pdf\n",
        "\n"
       ]
      },
      {
       "output_type": "stream",
       "stream": "stdout",
       "text": [
        "\n",
        "Doc: BAR\u00d3METRO JULIO 1998\n",
        "Loading: ... http://www.cis.es/cis/export/sites/default/-Archivos/Marginales/2280_2299/2294/e229400.html\n",
        "Saving... 19980709_doc.html\n",
        "Doc:"
       ]
      },
      {
       "output_type": "stream",
       "stream": "stdout",
       "text": [
        " BAR\u00d3METRO DE NOVIEMBRE 2014\n",
        "Loading: ... http://www.cis.es/cis/export/sites/default/-Archivos/Marginales/3040_3059/3045/es3045mar.html\n",
        "Saving... 20141104_doc.html\n",
        "Doc:"
       ]
      },
      {
       "output_type": "stream",
       "stream": "stdout",
       "text": [
        " BAR\u00d3METRO MARZO 2000: CULTURA POL\u00cdTICA\n",
        "Loading: ... http://www.cis.es/cis/export/sites/default/-Archivos/Marginales/2380_2399/2387/Es2387mar.pdf\n",
        "Saving... 20000324_doc.pdf\n",
        "\n"
       ]
      },
      {
       "output_type": "stream",
       "stream": "stdout",
       "text": [
        "\n",
        "Doc: BAR\u00d3METRO DICIEMBRE 1997: EXPECTATIVAS 1998\n",
        "Loading: ... http://www.cis.es/cis/export/sites/default/-Archivos/Marginales/2260_2279/2271/e227100.html\n",
        "Saving... 19971217_doc.html\n",
        "Doc:"
       ]
      },
      {
       "output_type": "stream",
       "stream": "stdout",
       "text": [
        " BAR\u00d3METRO MARZO 1998\n",
        "Loading: ... http://www.cis.es/cis/export/sites/default/-Archivos/Marginales/2280_2299/2283/e228300.html\n",
        "Saving... 19980327_doc.html\n",
        "Doc:"
       ]
      },
      {
       "output_type": "stream",
       "stream": "stdout",
       "text": [
        " BAR\u00d3METRO DE JUNIO 2014\n",
        "Loading: ... http://www.cis.es/cis/export/sites/default/-Archivos/Marginales/3020_3039/3029/es3029mar.html\n",
        "Saving... 20140602_doc.html\n",
        "Doc:"
       ]
      },
      {
       "output_type": "stream",
       "stream": "stdout",
       "text": [
        " BAR\u00d3METRO DICIEMBRE 1994\n",
        "Loading: ... http://www.cis.es/cis/export/sites/default/-Archivos/Marginales/2120_2139/2127/e212700.html\n",
        "Saving... 19941201_doc.html\n",
        "Doc:"
       ]
      },
      {
       "output_type": "stream",
       "stream": "stdout",
       "text": [
        " BAR\u00d3METRO ENERO 1998\n",
        "Loading: ... http://www.cis.es/cis/export/sites/default/-Archivos/Marginales/2260_2279/2274/e227400.html\n",
        "Saving... 19980123_doc.html\n",
        "Doc:"
       ]
      },
      {
       "output_type": "stream",
       "stream": "stdout",
       "text": [
        " BAR\u00d3METRO NOVIEMBRE 1997\n",
        "Loading: ... http://www.cis.es/cis/export/sites/default/-Archivos/Marginales/2260_2279/2267/e226700.html\n",
        "Saving... 19971120_doc.html\n",
        "Doc:"
       ]
      },
      {
       "output_type": "stream",
       "stream": "stdout",
       "text": [
        " BAR\u00d3METRO OCTUBRE 1997\n",
        "Loading: ... http://www.cis.es/cis/export/sites/default/-Archivos/Marginales/2260_2279/2264/e226400.html\n",
        "Saving... 19971024_doc.html\n",
        "Doc:"
       ]
      },
      {
       "output_type": "stream",
       "stream": "stdout",
       "text": [
        " BAR\u00d3METRO JULIO 1996\n",
        "Loading: ... http://www.cis.es/cis/export/sites/default/-Archivos/Marginales/2220_2239/2220/e222000.html\n",
        "Saving... 19960717_doc.html\n",
        "Doc:"
       ]
      },
      {
       "output_type": "stream",
       "stream": "stdout",
       "text": [
        " BAR\u00d3METRO FEBRERO 1997\n",
        "Loading: ... http://www.cis.es/cis/export/sites/default/-Archivos/Marginales/2220_2239/2238/e223800.html\n",
        "Saving... 19970222_doc.html\n",
        "Doc:"
       ]
      },
      {
       "output_type": "stream",
       "stream": "stdout",
       "text": [
        " BAR\u00d3METRO NOVIEMBRE 1994\n",
        "Loading: ... http://www.cis.es/cis/export/sites/default/-Archivos/Marginales/2120_2139/2122/e212200.html\n",
        "Saving... 19941112_doc.html\n",
        "Doc:"
       ]
      },
      {
       "output_type": "stream",
       "stream": "stdout",
       "text": [
        " BAR\u00d3METRO FEBRERO 1998\n",
        "Loading: ... http://www.cis.es/cis/export/sites/default/-Archivos/Marginales/2260_2279/2278/e227800.html\n",
        "Saving... 19980220_doc.html\n",
        "Doc:"
       ]
      },
      {
       "output_type": "stream",
       "stream": "stdout",
       "text": [
        " BAR\u00d3METRO DICIEMBRE 2005\n",
        "Loading: ... http://www.cis.es/cis/export/sites/default/-Archivos/Marginales/2620_2639/2630/e263000.html\n",
        "Saving... 20051216_doc.html\n",
        "Doc:"
       ]
      },
      {
       "output_type": "stream",
       "stream": "stdout",
       "text": [
        " BAR\u00d3METRO ENERO 2006\n",
        "Loading: ... http://www.cis.es/cis/export/sites/default/-Archivos/Marginales/2620_2639/2633/e263300.html\n",
        "Saving... 20060123_doc.html\n",
        "Doc:"
       ]
      },
      {
       "output_type": "stream",
       "stream": "stdout",
       "text": [
        " BAR\u00d3METRO SEPTIEMBRE 1999\n",
        "Loading: ... http://www.cis.es/cis/export/sites/default/-Archivos/Marginales/2360_2379/2369/Es2369mar.pdf\n",
        "Saving... 19990924_doc.pdf\n",
        "\n"
       ]
      },
      {
       "output_type": "stream",
       "stream": "stdout",
       "text": [
        "\n",
        "Doc: BAR\u00d3METRO JULIO 1999\n",
        "Loading: ... http://www.cis.es/cis/export/sites/default/-Archivos/Marginales/2360_2379/2367/Es2367mar.pdf\n",
        "Saving... 19990709_doc.pdf\n",
        "\n"
       ]
      },
      {
       "output_type": "stream",
       "stream": "stdout",
       "text": [
        "\n",
        "Doc: BAR\u00d3METRO NOVIEMBRE 2011\n",
        "Loading: ... http://www.cis.es/cis/export/sites/default/-Archivos/Marginales/2900_2919/2917/e291700.html\n",
        "Saving... 20111102_doc.html\n",
        "Doc:"
       ]
      },
      {
       "output_type": "stream",
       "stream": "stdout",
       "text": [
        " BAR\u00d3METRO SEPTIEMBRE 2006\n",
        "Loading: ... http://www.cis.es/cis/export/sites/default/-Archivos/Marginales/2640_2659/2654/e265400.html\n",
        "Saving... 20060918_doc.html\n",
        "Doc:"
       ]
      },
      {
       "output_type": "stream",
       "stream": "stdout",
       "text": [
        " BAR\u00d3METRO OCTUBRE 2006\n",
        "Loading: ... http://www.cis.es/cis/export/sites/default/-Archivos/Marginales/2640_2659/2657/e265700.html\n",
        "Saving... 20061018_doc.html\n",
        "Doc:"
       ]
      },
      {
       "output_type": "stream",
       "stream": "stdout",
       "text": [
        " BAR\u00d3METRO JUNIO 2006\n",
        "Loading: ... http://www.cis.es/cis/export/sites/default/-Archivos/Marginales/2640_2659/2649/e264900.html\n",
        "Saving... 20060621_doc.html\n",
        "Doc:"
       ]
      },
      {
       "output_type": "stream",
       "stream": "stdout",
       "text": [
        " BAR\u00d3METRO JULIO 2006\n",
        "Loading: ... http://www.cis.es/cis/export/sites/default/-Archivos/Marginales/2640_2659/2651/e265100.html\n",
        "Saving... 20060710_doc.html\n",
        "Doc:"
       ]
      },
      {
       "output_type": "stream",
       "stream": "stdout",
       "text": [
        " BAR\u00d3METRO ABRIL 2006\n",
        "Loading: ... http://www.cis.es/cis/export/sites/default/-Archivos/Marginales/2640_2659/2640/e264000.html\n",
        "Saving... 20060424_doc.html\n",
        "Doc:"
       ]
      },
      {
       "output_type": "stream",
       "stream": "stdout",
       "text": [
        " BAR\u00d3METRO MAYO 2006\n",
        "Loading: ... http://www.cis.es/cis/export/sites/default/-Archivos/Marginales/2640_2659/2644/e264400.html\n",
        "Saving... 20060522_doc.html\n",
        "Doc:"
       ]
      },
      {
       "output_type": "stream",
       "stream": "stdout",
       "text": [
        " BAR\u00d3METRO FEBRERO 2006\n",
        "Loading: ... http://www.cis.es/cis/export/sites/default/-Archivos/Marginales/2620_2639/2635/e263500.html\n",
        "Saving... 20060220_doc.html\n",
        "Doc:"
       ]
      },
      {
       "output_type": "stream",
       "stream": "stdout",
       "text": [
        " BAR\u00d3METRO MARZO 2006\n",
        "Loading: ... http://www.cis.es/cis/export/sites/default/-Archivos/Marginales/2620_2639/2636/e263600.html\n",
        "Saving... 20060324_doc.html\n",
        "Doc:"
       ]
      },
      {
       "output_type": "stream",
       "stream": "stdout",
       "text": [
        " BAR\u00d3METRO DE ENERO 2014\n",
        "Loading: ... http://www.cis.es/cis/export/sites/default/-Archivos/Marginales/3000_3019/3011/es3011mar.html\n",
        "Saving... 20140103_doc.html\n",
        "Doc:"
       ]
      },
      {
       "output_type": "stream",
       "stream": "stdout",
       "text": [
        " BAR\u00d3METRO DE FEBRERO 2014\n",
        "Loading: ... http://www.cis.es/cis/export/sites/default/-Archivos/Marginales/3000_3019/3013/es3013mar.html\n",
        "Saving... 20140201_doc.html\n",
        "Doc:"
       ]
      },
      {
       "output_type": "stream",
       "stream": "stdout",
       "text": [
        " BAR\u00d3METRO DE NOVIEMBRE 2013\n",
        "Loading: ... http://www.cis.es/cis/export/sites/default/-Archivos/Marginales/3000_3019/3005/es3005mar.html\n",
        "Saving... 20131101_doc.html\n",
        "Doc:"
       ]
      },
      {
       "output_type": "stream",
       "stream": "stdout",
       "text": [
        " BAR\u00d3METRO DE DICIEMBRE 2013\n",
        "Loading: ... http://www.cis.es/cis/export/sites/default/-Archivos/Marginales/3000_3019/3008/es3008mar.html\n",
        "Saving... 20131201_doc.html\n",
        "Doc:"
       ]
      },
      {
       "output_type": "stream",
       "stream": "stdout",
       "text": [
        " BAR\u00d3METRO SEPTIEMBRE 2013\n",
        "Loading: ... http://www.cis.es/cis/export/sites/default/-Archivos/Marginales/2980_2999/2997/e299700.html\n",
        "Saving... 20130903_doc.html\n",
        "Doc:"
       ]
      },
      {
       "output_type": "stream",
       "stream": "stdout",
       "text": [
        " BAR\u00d3METRO OCTUBRE 2013\n",
        "Loading: ... http://www.cis.es/cis/export/sites/default/-Archivos/Marginales/3000_3019/3001/e300100.html\n",
        "Saving... 20131001_doc.html\n",
        "Doc:"
       ]
      },
      {
       "output_type": "stream",
       "stream": "stdout",
       "text": [
        " BAR\u00d3METRO JUNIO 2013\n",
        "Loading: ... http://www.cis.es/cis/export/sites/default/-Archivos/Marginales/2980_2999/2990/e299000.html\n",
        "Saving... 20130603_doc.html\n",
        "Doc:"
       ]
      },
      {
       "output_type": "stream",
       "stream": "stdout",
       "text": [
        " BAR\u00d3METRO JULIO 2013\n",
        "Loading: ... http://www.cis.es/cis/export/sites/default/-Archivos/Marginales/2980_2999/2993/e299300.html\n",
        "Saving... 20130701_doc.html\n",
        "Doc:"
       ]
      },
      {
       "output_type": "stream",
       "stream": "stdout",
       "text": [
        " BAR\u00d3METRO ABRIL 2013\n",
        "Loading: ... http://www.cis.es/cis/export/sites/default/-Archivos/Marginales/2980_2999/2984/e298400.html\n",
        "Saving... 20130401_doc.html\n",
        "Doc:"
       ]
      },
      {
       "output_type": "stream",
       "stream": "stdout",
       "text": [
        " BAR\u00d3METRO MAYO 2013\n",
        "Loading: ... http://www.cis.es/cis/export/sites/default/-Archivos/Marginales/2980_2999/2987/e298700.html\n",
        "Saving... 20130501_doc.html\n",
        "Doc:"
       ]
      },
      {
       "output_type": "stream",
       "stream": "stdout",
       "text": [
        " BAR\u00d3METRO ABRIL 2004\n",
        "Loading: ... http://www.cis.es/cis/export/sites/default/-Archivos/Marginales/2560_2579/2561/e256100.html\n",
        "Saving... 20040422_doc.html\n",
        "Doc:"
       ]
      },
      {
       "output_type": "stream",
       "stream": "stdout",
       "text": [
        " BAR\u00d3METRO MAYO 2004\n",
        "Loading: ... http://www.cis.es/cis/export/sites/default/-Archivos/Marginales/2560_2579/2565/e256500.html\n",
        "Saving... 20040527_doc.html\n",
        "Doc:"
       ]
      },
      {
       "output_type": "stream",
       "stream": "stdout",
       "text": [
        " BAR\u00d3METRO MAYO 1996\n",
        "Loading: ... http://www.cis.es/cis/export/sites/default/-Archivos/Marginales/2200_2219/2215/e221500.html\n",
        "Saving... 19960529_doc.html\n",
        "Doc:"
       ]
      },
      {
       "output_type": "stream",
       "stream": "stdout",
       "text": [
        " BAR\u00d3METRO MARZO 2001\n",
        "Loading: ... http://www.cis.es/cis/export/sites/default/-Archivos/Marginales/2400_2419/2411/e241100.html\n",
        "Saving... 20010319_doc.html\n",
        "Doc:"
       ]
      },
      {
       "output_type": "stream",
       "stream": "stdout",
       "text": [
        " BAR\u00d3METRO ABRIL 2001\n",
        "Loading: ... http://www.cis.es/cis/export/sites/default/-Archivos/Marginales/2400_2419/2415/e241500.html\n",
        "Saving... 20010420_doc.html\n",
        "Doc:"
       ]
      },
      {
       "output_type": "stream",
       "stream": "stdout",
       "text": [
        " BAR\u00d3METRO ENERO 2001\n",
        "Loading: ... http://www.cis.es/cis/export/sites/default/-Archivos/Marginales/2400_2419/2406/e240600.html\n",
        "Saving... 20010118_doc.html\n",
        "Doc:"
       ]
      },
      {
       "output_type": "stream",
       "stream": "stdout",
       "text": [
        " BAR\u00d3METRO FEBRERO 2001\n",
        "Loading: ... http://www.cis.es/cis/export/sites/default/-Archivos/Marginales/2400_2419/2409/e240900.html\n",
        "Saving... 20010217_doc.html\n",
        "Doc:"
       ]
      },
      {
       "output_type": "stream",
       "stream": "stdout",
       "text": [
        " BAR\u00d3METRO NOVIEMBRE 2000\n",
        "Loading: ... http://www.cis.es/cis/export/sites/default/-Archivos/Marginales/2400_2419/2402/e240200.html\n",
        "Saving... 20001123_doc.html\n",
        "Doc:"
       ]
      },
      {
       "output_type": "stream",
       "stream": "stdout",
       "text": [
        " BAR\u00d3METRO DICIEMBRE 2000: EXPECTATIVAS 2001\n",
        "Loading: ... http://www.cis.es/cis/export/sites/default/-Archivos/Marginales/2400_2419/2405/e240500.html\n",
        "Saving... 20001216_doc.html\n",
        "Doc:"
       ]
      },
      {
       "output_type": "stream",
       "stream": "stdout",
       "text": [
        " BAR\u00d3METRO SEPTIEMBRE 2000\n",
        "Loading: ... http://www.cis.es/cis/export/sites/default/-Archivos/Marginales/2380_2399/2398/e239800.html\n",
        "Saving... 20000923_doc.html\n",
        "Doc:"
       ]
      },
      {
       "output_type": "stream",
       "stream": "stdout",
       "text": [
        " BAR\u00d3METRO OCTUBRE 2000\n",
        "Loading: ... http://www.cis.es/cis/export/sites/default/-Archivos/Marginales/2400_2419/2400/Es2400mar.pdf\n",
        "Saving... 20001017_doc.pdf\n",
        "\n"
       ]
      },
      {
       "output_type": "stream",
       "stream": "stdout",
       "text": [
        "\n",
        "Doc: BAR\u00d3METRO JUNIO 2000\n",
        "Loading: ... http://www.cis.es/cis/export/sites/default/-Archivos/Marginales/2380_2399/2394/e239400.html\n",
        "Saving... 20000623_doc.html\n",
        "Doc:"
       ]
      },
      {
       "output_type": "stream",
       "stream": "stdout",
       "text": [
        " BAR\u00d3METRO JULIO 2000\n",
        "Loading: ... http://www.cis.es/cis/export/sites/default/-Archivos/Marginales/2380_2399/2396/e239600.html\n",
        "Saving... 20000713_doc.html\n",
        "Doc:"
       ]
      },
      {
       "output_type": "stream",
       "stream": "stdout",
       "text": [
        " BAR\u00d3METRO FEBRERO 1996\n",
        "Loading: ... http://www.cis.es/cis/export/sites/default/-Archivos/Marginales/2200_2219/2208/e220800.html\n",
        "Saving... 19960227_doc.html\n",
        "Doc:"
       ]
      },
      {
       "output_type": "stream",
       "stream": "stdout",
       "text": [
        " BAR\u00d3METRO JULIO 1994\n",
        "Loading: ... http://www.cis.es/cis/export/sites/default/-Archivos/Marginales/2100_2119/2110/e211000.html\n",
        "Saving... 19940701_doc.html\n",
        "Doc:"
       ]
      },
      {
       "output_type": "stream",
       "stream": "stdout",
       "text": [
        " BAR\u00d3METRO JULIO 2010\n",
        "Loading: ... http://www.cis.es/cis/export/sites/default/-Archivos/Marginales/2840_2859/2843/e284300.html\n",
        "Saving... 20100715_doc.html\n",
        "Doc:"
       ]
      },
      {
       "output_type": "stream",
       "stream": "stdout",
       "text": [
        " BAR\u00d3METRO JUNIO 2010\n",
        "Loading: ... http://www.cis.es/cis/export/sites/default/-Archivos/Marginales/2820_2839/2838/e283800.html\n",
        "Saving... 20100602_doc.html\n",
        "Doc:"
       ]
      },
      {
       "output_type": "stream",
       "stream": "stdout",
       "text": [
        " BAR\u00d3METRO OCTUBRE 2010\n",
        "Loading: ... http://www.cis.es/cis/export/sites/default/-Archivos/Marginales/2840_2859/2847/e284700.html\n",
        "Saving... 20101004_doc.html\n",
        "Doc:"
       ]
      },
      {
       "output_type": "stream",
       "stream": "stdout",
       "text": [
        " BAR\u00d3METRO SEPTIEMBRE 2010\n",
        "Loading: ... http://www.cis.es/cis/export/sites/default/-Archivos/Marginales/2840_2859/2844/e284400.html\n",
        "Saving... 20100903_doc.html\n",
        "Doc:"
       ]
      },
      {
       "output_type": "stream",
       "stream": "stdout",
       "text": [
        " BAR\u00d3METRO DICIEMBRE 2010\n",
        "Loading: ... http://www.cis.es/cis/export/sites/default/-Archivos/Marginales/2840_2859/2856/e285600.html\n",
        "Saving... 20101201_doc.html\n",
        "Doc:"
       ]
      },
      {
       "output_type": "stream",
       "stream": "stdout",
       "text": [
        " BAR\u00d3METRO NOVIEMBRE 2010\n",
        "Loading: ... http://www.cis.es/cis/export/sites/default/-Archivos/Marginales/2840_2859/2853/e285300.html\n",
        "Saving... 20101103_doc.html\n",
        "Doc:"
       ]
      },
      {
       "output_type": "stream",
       "stream": "stdout",
       "text": [
        " BAR\u00d3METRO FEBRERO 2011\n",
        "Loading: ... http://www.cis.es/cis/export/sites/default/-Archivos/Marginales/2860_2879/2861/e286100.html\n",
        "Saving... 20110201_doc.html\n",
        "Doc:"
       ]
      },
      {
       "output_type": "stream",
       "stream": "stdout",
       "text": [
        " BAR\u00d3METRO ENERO 2011\n",
        "Loading: ... http://www.cis.es/cis/export/sites/default/-Archivos/Marginales/2840_2859/2859/e285900.html\n",
        "Saving... 20110107_doc.html\n",
        "Doc:"
       ]
      },
      {
       "output_type": "stream",
       "stream": "stdout",
       "text": [
        " BAR\u00d3METRO ABRIL 2011\n",
        "Loading: ... http://www.cis.es/cis/export/sites/default/-Archivos/Marginales/2880_2899/2885/e288500.html\n",
        "Saving... 20110401_doc.html\n",
        "Doc:"
       ]
      },
      {
       "output_type": "stream",
       "stream": "stdout",
       "text": [
        " BAR\u00d3METRO MARZO 2011\n",
        "Loading: ... http://www.cis.es/cis/export/sites/default/-Archivos/Marginales/2860_2879/2864/e286400.html\n",
        "Saving... 20110301_doc.html\n",
        "Doc:"
       ]
      },
      {
       "output_type": "stream",
       "stream": "stdout",
       "text": [
        " BAR\u00d3METRO DE DICIEMBRE 2014\n",
        "Loading: ... http://www.cis.es/cis/export/sites/default/-Archivos/Marginales/3040_3059/3047/es3047mar.html\n",
        "Saving... 20141201_doc.html\n",
        "Doc:"
       ]
      },
      {
       "output_type": "stream",
       "stream": "stdout",
       "text": [
        " BAR\u00d3METRO DE JULIO 2014\n",
        "Loading: ... http://www.cis.es/cis/export/sites/default/-Archivos/Marginales/3020_3039/3033/es3033mar_HTML.html\n",
        "Saving... 20140701_doc.html\n",
        "Doc:"
       ]
      },
      {
       "output_type": "stream",
       "stream": "stdout",
       "text": [
        " BAR\u00d3METRO DE MARZO 2014\n",
        "Loading: ... http://www.cis.es/cis/export/sites/default/-Archivos/Marginales/3000_3019/3017/es3017mar.html\n",
        "Saving... 20140301_doc.html\n",
        "Doc:"
       ]
      },
      {
       "output_type": "stream",
       "stream": "stdout",
       "text": [
        " BAR\u00d3METRO SEPTIEMBRE 2001\n",
        "Loading: ... http://www.cis.es/cis/export/sites/default/-Archivos/Marginales/2420_2439/2429/e242900.html\n",
        "Saving... 20010913_doc.html\n",
        "Doc:"
       ]
      },
      {
       "output_type": "stream",
       "stream": "stdout",
       "text": [
        " BAR\u00d3METRO JULIO 2001\n",
        "Loading: ... http://www.cis.es/cis/export/sites/default/-Archivos/Marginales/2420_2439/2428/e242800.html\n",
        "Saving... 20010713_doc.html\n",
        "Doc:"
       ]
      },
      {
       "output_type": "stream",
       "stream": "stdout",
       "text": [
        " BAR\u00d3METRO NOVIEMBRE 2001\n",
        "Loading: ... http://www.cis.es/cis/export/sites/default/-Archivos/Marginales/2420_2439/2439/e243900.html\n",
        "Saving... 20011121_doc.html\n",
        "Doc:"
       ]
      },
      {
       "output_type": "stream",
       "stream": "stdout",
       "text": [
        " BAR\u00d3METRO OCTUBRE 2001\n",
        "Loading: ... http://www.cis.es/cis/export/sites/default/-Archivos/Marginales/2420_2439/2433/Es2433mar.pdf\n",
        "Saving... 20011024_doc.pdf\n",
        "\n"
       ]
      },
      {
       "output_type": "stream",
       "stream": "stdout",
       "text": [
        "\n",
        "Doc: BAR\u00d3METRO ENERO 2002\n",
        "Loading: ... http://www.cis.es/cis/export/sites/default/-Archivos/Marginales/2440_2459/2444/e244400.html\n",
        "Saving... 20020127_doc.html\n",
        "Doc:"
       ]
      },
      {
       "output_type": "stream",
       "stream": "stdout",
       "text": [
        " BAR\u00d3METRO DICIEMBRE 2001: EXPECTATIVAS 2002\n",
        "Loading: ... http://www.cis.es/cis/export/sites/default/-Archivos/Marginales/2440_2459/2441/e244100.html\n",
        "Saving... 20011211_doc.html\n",
        "Doc:"
       ]
      },
      {
       "output_type": "stream",
       "stream": "stdout",
       "text": [
        " BAR\u00d3METRO MARZO 2002\n",
        "Loading: ... http://www.cis.es/cis/export/sites/default/-Archivos/Marginales/2440_2459/2452/e245200.html\n",
        "Saving... 20020316_doc.html\n",
        "Doc:"
       ]
      },
      {
       "output_type": "stream",
       "stream": "stdout",
       "text": [
        " BAR\u00d3METRO FEBRERO 2002\n",
        "Loading: ... http://www.cis.es/cis/export/sites/default/-Archivos/Marginales/2440_2459/2448/e244800.html\n",
        "Saving... 20020223_doc.html\n",
        "Doc:"
       ]
      },
      {
       "output_type": "stream",
       "stream": "stdout",
       "text": [
        " BAR\u00d3METRO DICIEMBRE 1995\n",
        "Loading: ... http://www.cis.es/cis/export/sites/default/-Archivos/Marginales/2200_2219/2201/e220100.html\n",
        "Saving... 19951209_doc.html\n",
        "Doc:"
       ]
      },
      {
       "output_type": "stream",
       "stream": "stdout",
       "text": [
        " BAR\u00d3METRO ENERO 1996: UNI\u00d3N EUROPEA\n",
        "Loading: ... http://www.cis.es/cis/export/sites/default/-Archivos/Marginales/2200_2219/2204/e220400.html\n",
        "Saving... 19960110_doc.html\n",
        "Doc:"
       ]
      },
      {
       "output_type": "stream",
       "stream": "stdout",
       "text": [
        " BAR\u00d3METRO JUNIO 2001\n",
        "Loading: ... http://www.cis.es/cis/export/sites/default/-Archivos/Marginales/2420_2439/2423/e242300.html\n",
        "Saving... 20010619_doc.html\n",
        "Doc:"
       ]
      },
      {
       "output_type": "stream",
       "stream": "stdout",
       "text": [
        " BAR\u00d3METRO MAYO 2001\n",
        "Loading: ... http://www.cis.es/cis/export/sites/default/-Archivos/Marginales/2400_2419/2419/e241900.html\n",
        "Saving... 20010522_doc.html\n",
        "Doc:"
       ]
      },
      {
       "output_type": "stream",
       "stream": "stdout",
       "text": [
        " BAR\u00d3METRO DICIEMBRE 2007\n",
        "Loading: ... http://www.cis.es/cis/export/sites/default/-Archivos/Marginales/2740_2759/2746/e274600.html\n",
        "Saving... 20071218_doc.html\n",
        "Doc:"
       ]
      },
      {
       "output_type": "stream",
       "stream": "stdout",
       "text": [
        " BAR\u00d3METRO ENERO 2008\n",
        "Loading: ... http://www.cis.es/cis/export/sites/default/-Archivos/Marginales/2740_2759/2749/e274900.html\n",
        "Saving... 20080114_doc.html\n",
        "Doc:"
       ]
      },
      {
       "output_type": "stream",
       "stream": "stdout",
       "text": [
        " BAR\u00d3METRO FEBRERO 2008\n",
        "Loading: ... http://www.cis.es/cis/export/sites/default/-Archivos/Marginales/2740_2759/2754/e275400.html\n",
        "Saving... 20080222_doc.html\n",
        "Doc:"
       ]
      },
      {
       "output_type": "stream",
       "stream": "stdout",
       "text": [
        " BAR\u00d3METRO MARZO 2008\n",
        "Loading: ... http://www.cis.es/cis/export/sites/default/-Archivos/Marginales/2740_2759/2758/e275800.html\n",
        "Saving... 20080324_doc.html\n",
        "Doc:"
       ]
      },
      {
       "output_type": "stream",
       "stream": "stdout",
       "text": [
        " BAR\u00d3METRO ABRIL 2008\n",
        "Loading: ... http://www.cis.es/cis/export/sites/default/-Archivos/Marginales/2760_2779/2761/e276100.html\n",
        "Saving... 20080424_doc.html\n",
        "Doc:"
       ]
      },
      {
       "output_type": "stream",
       "stream": "stdout",
       "text": [
        " BAR\u00d3METRO MAYO 2008\n",
        "Loading: ... http://www.cis.es/cis/export/sites/default/-Archivos/Marginales/2760_2779/2763/e276300.html\n",
        "Saving... 20080522_doc.html\n",
        "Doc:"
       ]
      },
      {
       "output_type": "stream",
       "stream": "stdout",
       "text": [
        " BAR\u00d3METRO JUNIO 2008\n",
        "Loading: ... http://www.cis.es/cis/export/sites/default/-Archivos/Marginales/2760_2779/2766/e276600.html\n",
        "Saving... 20080618_doc.html\n",
        "Doc:"
       ]
      },
      {
       "output_type": "stream",
       "stream": "stdout",
       "text": [
        " BAR\u00d3METRO JULIO 2008\n",
        "Loading: ... http://www.cis.es/cis/export/sites/default/-Archivos/Marginales/2760_2779/2769/e276900.html\n",
        "Saving... 20080707_doc.html\n",
        "Doc:"
       ]
      },
      {
       "output_type": "stream",
       "stream": "stdout",
       "text": [
        " BAR\u00d3METRO OCTUBRE 2007\n",
        "Loading: ... http://www.cis.es/cis/export/sites/default/-Archivos/Marginales/2720_2739/2735/e273500.html\n",
        "Saving... 20071022_doc.html\n",
        "Doc:"
       ]
      },
      {
       "output_type": "stream",
       "stream": "stdout",
       "text": [
        " BAR\u00d3METRO NOVIEMBRE 2007\n",
        "Loading: ... http://www.cis.es/cis/export/sites/default/-Archivos/Marginales/2740_2759/2742/e274200.html\n",
        "Saving... 20071123_doc.html\n",
        "Doc:"
       ]
      },
      {
       "output_type": "stream",
       "stream": "stdout",
       "text": [
        " BAR\u00d3METRO ABRIL 1994\n",
        "Loading: ... http://www.cis.es/cis/export/sites/default/-Archivos/Marginales/2080_2099/2087/e208700.html\n",
        "Saving... 19940406_doc.html\n"
       ]
      }
     ],
     "prompt_number": 43
    },
    {
     "cell_type": "heading",
     "level": 4,
     "metadata": {},
     "source": [
      "Llistat de fitxers enmagatzemats a GridFS(db, 'barometro_docs') "
     ]
    },
    {
     "cell_type": "code",
     "collapsed": false,
     "input": [
      "from gridfs import GridFS\n",
      "\n",
      "#\n",
      "fs = GridFS(db, 'barometro_docs')\n",
      "\n",
      "print \"N\u00fam. docs:\", len(fs.list())\n",
      "print fs.list()"
     ],
     "language": "python",
     "metadata": {},
     "outputs": [
      {
       "output_type": "stream",
       "stream": "stdout",
       "text": [
        "N\u00fam. docs: 229\n",
        "[u'CIS/docs/19940406_doc.html', u'CIS/docs/19940512_doc.html', u'CIS/docs/19940616_doc.html', u'CIS/docs/19940701_doc.html', u'CIS/docs/19940920_doc.html', u'CIS/docs/19941019_doc.html', u'CIS/docs/19941112_doc.html', u'CIS/docs/19941201_doc.html', u'CIS/docs/19950112_doc.html', u'CIS/docs/19950202_doc.html', u'CIS/docs/19950319_doc.html', u'CIS/docs/19950419_doc.html', u'CIS/docs/19950525_doc.html', u'CIS/docs/19950625_doc.html', u'CIS/docs/19950712_doc.html', u'CIS/docs/19950913_doc.html', u'CIS/docs/19951017_doc.html', u'CIS/docs/19951108_doc.html', u'CIS/docs/19951209_doc.html', u'CIS/docs/19960110_doc.html', u'CIS/docs/19960227_doc.html', u'CIS/docs/19960327_doc.html', u'CIS/docs/19960413_doc.html', u'CIS/docs/19960529_doc.html', u'CIS/docs/19960622_doc.html', u'CIS/docs/19960717_doc.html', u'CIS/docs/19960927_doc.html', u'CIS/docs/19961026_doc.html', u'CIS/docs/19961123_doc.html', u'CIS/docs/19961217_doc.html', u'CIS/docs/19970123_doc.html', u'CIS/docs/19970222_doc.html', u'CIS/docs/19970319_doc.html', u'CIS/docs/19970423_doc.html', u'CIS/docs/19970523_doc.html', u'CIS/docs/19970620_doc.html', u'CIS/docs/19970711_doc.html', u'CIS/docs/19970926_doc.html', u'CIS/docs/19971024_doc.html', u'CIS/docs/19971120_doc.html', u'CIS/docs/19971217_doc.html', u'CIS/docs/19980123_doc.html', u'CIS/docs/19980220_doc.html', u'CIS/docs/19980327_doc.html', u'CIS/docs/19980425_doc.pdf', u'CIS/docs/19980522_doc.pdf', u'CIS/docs/19980620_doc.html', u'CIS/docs/19980709_doc.html', u'CIS/docs/19980925_doc.html', u'CIS/docs/19981026_doc.html', u'CIS/docs/19981126_doc.html', u'CIS/docs/19981218_doc.html', u'CIS/docs/19990127_doc.html', u'CIS/docs/19990224_doc.pdf', u'CIS/docs/19990324_doc.pdf', u'CIS/docs/19990424_doc.html', u'CIS/docs/19990527_doc.pdf', u'CIS/docs/19990626_doc.pdf', u'CIS/docs/19990709_doc.pdf', u'CIS/docs/19990924_doc.pdf', u'CIS/docs/19991022_doc.pdf', u'CIS/docs/19991126_doc.pdf', u'CIS/docs/19991216_doc.html', u'CIS/docs/20000127_doc.html', u'CIS/docs/20000225_doc.html', u'CIS/docs/20000324_doc.pdf', u'CIS/docs/20000429_doc.html', u'CIS/docs/20000526_doc.pdf', u'CIS/docs/20000623_doc.html', u'CIS/docs/20000713_doc.html', u'CIS/docs/20000923_doc.html', u'CIS/docs/20001017_doc.pdf', u'CIS/docs/20001123_doc.html', u'CIS/docs/20001216_doc.html', u'CIS/docs/20010118_doc.html', u'CIS/docs/20010217_doc.html', u'CIS/docs/20010319_doc.html', u'CIS/docs/20010420_doc.html', u'CIS/docs/20010522_doc.html', u'CIS/docs/20010619_doc.html', u'CIS/docs/20010713_doc.html', u'CIS/docs/20010913_doc.html', u'CIS/docs/20011024_doc.pdf', u'CIS/docs/20011121_doc.html', u'CIS/docs/20011211_doc.html', u'CIS/docs/20020127_doc.html', u'CIS/docs/20020223_doc.html', u'CIS/docs/20020316_doc.html', u'CIS/docs/20020416_doc.html', u'CIS/docs/20020520_doc.html', u'CIS/docs/20020626_doc.html', u'CIS/docs/20020716_doc.html', u'CIS/docs/20020924_doc.html', u'CIS/docs/20021016_doc.html', u'CIS/docs/20021116_doc.html', u'CIS/docs/20021210_doc.html', u'CIS/docs/20030121_doc.html', u'CIS/docs/20030222_doc.html', u'CIS/docs/20030315_doc.html', u'CIS/docs/20030424_doc.html', u'CIS/docs/20030516_doc.html', u'CIS/docs/20030617_doc.html', u'CIS/docs/20030702_doc.html', u'CIS/docs/20030908_doc.html', u'CIS/docs/20031025_doc.html', u'CIS/docs/20031114_doc.html', u'CIS/docs/20031210_doc.html', u'CIS/docs/20040110_doc.html', u'CIS/docs/20040220_doc.html', u'CIS/docs/20040316_doc.html', u'CIS/docs/20040422_doc.html', u'CIS/docs/20040527_doc.html', u'CIS/docs/20040625_doc.html', u'CIS/docs/20040709_doc.html', u'CIS/docs/20040924_doc.html', u'CIS/docs/20041021_doc.html', u'CIS/docs/20041119_doc.html', u'CIS/docs/20041215_doc.html', u'CIS/docs/20050119_doc.html', u'CIS/docs/20050218_doc.html', u'CIS/docs/20050329_doc.html', u'CIS/docs/20050427_doc.html', u'CIS/docs/20050513_doc.html', u'CIS/docs/20050606_doc.html', u'CIS/docs/20050713_doc.html', u'CIS/docs/20050923_doc.html', u'CIS/docs/20051021_doc.html', u'CIS/docs/20051115_doc.html', u'CIS/docs/20051216_doc.html', u'CIS/docs/20060123_doc.html', u'CIS/docs/20060220_doc.html', u'CIS/docs/20060324_doc.html', u'CIS/docs/20060424_doc.html', u'CIS/docs/20060522_doc.html', u'CIS/docs/20060621_doc.html', u'CIS/docs/20060710_doc.html', u'CIS/docs/20060918_doc.html', u'CIS/docs/20061018_doc.html', u'CIS/docs/20061118_doc.html', u'CIS/docs/20061213_doc.html', u'CIS/docs/20070122_doc.html', u'CIS/docs/20070222_doc.html', u'CIS/docs/20070317_doc.html', u'CIS/docs/20070423_doc.html', u'CIS/docs/20070519_doc.html', u'CIS/docs/20070622_doc.html', u'CIS/docs/20070706_doc.html', u'CIS/docs/20070924_doc.html', u'CIS/docs/20071022_doc.html', u'CIS/docs/20071123_doc.html', u'CIS/docs/20071218_doc.html', u'CIS/docs/20080114_doc.html', u'CIS/docs/20080222_doc.html', u'CIS/docs/20080324_doc.html', u'CIS/docs/20080424_doc.html', u'CIS/docs/20080522_doc.html', u'CIS/docs/20080618_doc.html', u'CIS/docs/20080707_doc.html', u'CIS/docs/20080905_doc.html', u'CIS/docs/20081001_doc.html', u'CIS/docs/20081103_doc.html', u'CIS/docs/20081203_doc.html', u'CIS/docs/20090109_doc.html', u'CIS/docs/20090204_doc.html', u'CIS/docs/20090304_doc.html', u'CIS/docs/20090414_doc.html', u'CIS/docs/20090513_doc.html', u'CIS/docs/20090604_doc.html', u'CIS/docs/20090707_doc.html', u'CIS/docs/20090904_doc.html', u'CIS/docs/20091007_doc.html', u'CIS/docs/20091102_doc.html', u'CIS/docs/20091201_doc.html', u'CIS/docs/20100109_doc.html', u'CIS/docs/20100205_doc.html', u'CIS/docs/20100302_doc.html', u'CIS/docs/20100406_doc.html', u'CIS/docs/20100504_doc.html', u'CIS/docs/20100602_doc.html', u'CIS/docs/20100715_doc.html', u'CIS/docs/20100903_doc.html', u'CIS/docs/20101004_doc.html', u'CIS/docs/20101103_doc.html', u'CIS/docs/20101201_doc.html', u'CIS/docs/20110107_doc.html', u'CIS/docs/20110201_doc.html', u'CIS/docs/20110301_doc.html', u'CIS/docs/20110401_doc.html', u'CIS/docs/20110503_doc.html', u'CIS/docs/20110602_doc.html', u'CIS/docs/20110704_doc.html', u'CIS/docs/20110905_doc.html', u'CIS/docs/20111001_doc.html', u'CIS/docs/20111102_doc.html', u'CIS/docs/20111201_doc.html', u'CIS/docs/20120104_doc.html', u'CIS/docs/20120201_doc.html', u'CIS/docs/20120302_doc.html', u'CIS/docs/20120409_doc.html', u'CIS/docs/20120503_doc.html', u'CIS/docs/20120602_doc.html', u'CIS/docs/20120702_doc.html', u'CIS/docs/20120903_doc.html', u'CIS/docs/20121002_doc.html', u'CIS/docs/20121105_doc.html', u'CIS/docs/20121201_doc.html', u'CIS/docs/20130104_doc.html', u'CIS/docs/20130204_doc.html', u'CIS/docs/20130301_doc.html', u'CIS/docs/20130401_doc.html', u'CIS/docs/20130501_doc.html', u'CIS/docs/20130603_doc.html', u'CIS/docs/20130701_doc.html', u'CIS/docs/20130903_doc.html', u'CIS/docs/20131001_doc.html', u'CIS/docs/20131101_doc.html', u'CIS/docs/20131201_doc.html', u'CIS/docs/20140103_doc.html', u'CIS/docs/20140201_doc.html', u'CIS/docs/20140301_doc.html', u'CIS/docs/20140401_doc.html', u'CIS/docs/20140501_doc.html', u'CIS/docs/20140602_doc.html', u'CIS/docs/20140701_doc.html', u'CIS/docs/20140902_doc.html', u'CIS/docs/20141001_doc.html', u'CIS/docs/20141104_doc.html', u'CIS/docs/20141201_doc.html', u'CIS/docs/20150102_doc.html']\n"
       ]
      }
     ],
     "prompt_number": 55
    },
    {
     "cell_type": "code",
     "collapsed": false,
     "input": [
      "# delete example\n",
      "filename = '19991126_doc.pdf'\n",
      "if fs.exists(filename = filename):\n",
      "    fp = fs.get_last_version(filename)\n",
      "    print fp.filename, \"id:\", fp._id, \"upload_date:\", fp.upload_date\n",
      "    print \"Deleting...\", filename\n",
      "    fs.delete(fp._id)\n",
      "else:\n",
      "    print filename, \"not exists\""
     ],
     "language": "python",
     "metadata": {},
     "outputs": [
      {
       "output_type": "stream",
       "stream": "stdout",
       "text": [
        "19991126_doc.pdf id: 552900127c4c6704c43c97ae upload_date: 2015-04-11 11:05:54.454000\n",
        "Deleting... 19991126_doc.pdf\n"
       ]
      }
     ],
     "prompt_number": 54
    },
    {
     "cell_type": "heading",
     "level": 3,
     "metadata": {},
     "source": [
      "Scraping i extracci\u00f3 de les dades dels documents"
     ]
    },
    {
     "cell_type": "code",
     "collapsed": false,
     "input": [
      "from gridfs import GridFS\n",
      "\n",
      "#\n",
      "barometro_docs_collection = db['barometro_docs']\n",
      "fs = GridFS(db, 'barometro_docs')\n",
      "\n",
      "doc_start_date = \"01/01/1993\"\n",
      "d_doc_start_date = datetime.datetime.strptime(doc_start_date, \"%d/%m/%Y\")\n",
      "d_doc_end_date = datetime.datetime.utcnow()\n",
      "result = barometro_docs_collection.find({'date': {'$gte': d_doc_start_date, '$lte': d_doc_end_date}}).sort('date',DESCENDING)\n",
      "\n",
      "if result.count() > 0 :\n",
      "    print \"Num. of docs:\", result.count()\n",
      "    for doc in result:\n",
      "        print \"Doc. id:\", doc['_id'], \", id_raw_doc:\", doc['id_raw_doc'], \", date:\", doc['date']\n",
      "        '''\n",
      "        # Getting file contents\n",
      "        if doc['doc_type'] == 'text/html':\n",
      "            print fs.get(doc['id_raw_doc']).read()\n",
      "        elif 'application/pdf':\n",
      "            print \">\" + convert_pdf_from_stream_to_txt(fs.get(doc['id_raw_doc'])) + \"<\"\n",
      "        '''"
     ],
     "language": "python",
     "metadata": {},
     "outputs": [
      {
       "output_type": "stream",
       "stream": "stdout",
       "text": [
        "Num. of docs: 229\n",
        "Doc. id: 5528dd7c7c4c6704c43c96e8 , id_raw_doc: 552977cf7c4c671ab08e5dca , date: 2015-01-02 00:00:00\n",
        "Doc. id: 5528dd7c7c4c6704c43c9791 , id_raw_doc: 552978907c4c671ab08e5f9b , date: 2014-12-01 00:00:00\n",
        "Doc. id: 5528dd7c7c4c6704c43c9754 , id_raw_doc: 5529784d7c4c671ab08e5ef1 , date: 2014-11-04 00:00:00\n",
        "Doc. id: 5528dd7c7c4c6704c43c9723 , id_raw_doc: 552978167c4c671ab08e5e72 , date: 2014-10-01 00:00:00\n",
        "Doc. id: 5528dd7c7c4c6704c43c96e9 , id_raw_doc: 552977d07c4c671ab08e5dcd , date: 2014-09-02 00:00:00\n",
        "Doc. id: 5528dd7c7c4c6704c43c9792 , id_raw_doc: 552978917c4c671ab08e5f9e , date: 2014-07-01 00:00:00\n",
        "Doc. id: 5528dd7c7c4c6704c43c9758 , id_raw_doc: 552978517c4c671ab08e5efb , date: 2014-06-02 00:00:00\n",
        "Doc. id: 5528dd7c7c4c6704c43c9725 , id_raw_doc: 552978187c4c671ab08e5e78 , date: 2014-05-01 00:00:00\n",
        "Doc. id: 5528dd7c7c4c6704c43c96ea , id_raw_doc: 552977d17c4c671ab08e5dd0 , date: 2014-04-01 00:00:00\n",
        "Doc. id: 5528dd7c7c4c6704c43c9793 , id_raw_doc: 552978927c4c671ab08e5fa1 , date: 2014-03-01 00:00:00\n",
        "Doc. id: 5528dd7c7c4c6704c43c976f , id_raw_doc: 5529786a7c4c671ab08e5f39 , date: 2014-02-01 00:00:00\n",
        "Doc. id: 5528dd7c7c4c6704c43c976e , id_raw_doc: 552978697c4c671ab08e5f36 , date: 2014-01-03 00:00:00\n",
        "Doc. id: 5528dd7c7c4c6704c43c9771 , id_raw_doc: 5529786c7c4c671ab08e5f3f , date: 2013-12-01 00:00:00\n",
        "Doc. id: 5528dd7c7c4c6704c43c9770 , id_raw_doc: 5529786b7c4c671ab08e5f3c , date: 2013-11-01 00:00:00\n",
        "Doc. id: 5528dd7c7c4c6704c43c9773 , id_raw_doc: 5529786e7c4c671ab08e5f44 , date: 2013-10-01 00:00:00\n",
        "Doc. id: 5528dd7c7c4c6704c43c9772 , id_raw_doc: 5529786d7c4c671ab08e5f41 , date: 2013-09-03 00:00:00\n",
        "Doc. id: 5528dd7c7c4c6704c43c9775 , id_raw_doc: 552978707c4c671ab08e5f4a , date: 2013-07-01 00:00:00\n",
        "Doc. id: 5528dd7c7c4c6704c43c9774 , id_raw_doc: 5529786f7c4c671ab08e5f47 , date: 2013-06-03 00:00:00\n",
        "Doc. id: 5528dd7c7c4c6704c43c9777 , id_raw_doc: 552978727c4c671ab08e5f50 , date: 2013-05-01 00:00:00\n",
        "Doc. id: 5528dd7c7c4c6704c43c9776 , id_raw_doc: 552978717c4c671ab08e5f4d , date: 2013-04-01 00:00:00\n",
        "Doc. id: 5528dd7c7c4c6704c43c96e0 , id_raw_doc: 552977c67c4c671ab08e5db5 , date: 2013-03-01 00:00:00\n",
        "Doc. id: 5528dd7c7c4c6704c43c96e1 , id_raw_doc: 552977c77c4c671ab08e5db8 , date: 2013-02-04 00:00:00\n",
        "Doc. id: 5528dd7c7c4c6704c43c96e2 , id_raw_doc: 552977c87c4c671ab08e5dbb , date: 2013-01-04 00:00:00\n",
        "Doc. id: 5528dd7c7c4c6704c43c96e3 , id_raw_doc: 552977ca7c4c671ab08e5dbd , date: 2012-12-01 00:00:00\n",
        "Doc. id: 5528dd7c7c4c6704c43c96dc , id_raw_doc: 552977c27c4c671ab08e5dac , date: 2012-11-05 00:00:00\n",
        "Doc. id: 5528dd7c7c4c6704c43c96dd , id_raw_doc: 552977c37c4c671ab08e5daf , date: 2012-10-02 00:00:00\n",
        "Doc. id: 5528dd7c7c4c6704c43c96de , id_raw_doc: 552977c37c4c671ab08e5db1 , date: 2012-09-03 00:00:00\n",
        "Doc. id: 5528dd7c7c4c6704c43c96df , id_raw_doc: 552977c47c4c671ab08e5db3 , date: 2012-07-02 00:00:00\n",
        "Doc. id: 5528dd7c7c4c6704c43c96e5 , id_raw_doc: 552977cb7c4c671ab08e5dc2 , date: 2012-06-02 00:00:00\n",
        "Doc. id: 5528dd7c7c4c6704c43c96e6 , id_raw_doc: 552977cc7c4c671ab08e5dc4 , date: 2012-05-03 00:00:00\n",
        "Doc. id: 5528dd7c7c4c6704c43c9736 , id_raw_doc: 5529782e7c4c671ab08e5ea8 , date: 2012-04-09 00:00:00\n",
        "Doc. id: 5528dd7c7c4c6704c43c9735 , id_raw_doc: 5529782d7c4c671ab08e5ea5 , date: 2012-03-02 00:00:00\n",
        "Doc. id: 5528dd7c7c4c6704c43c9734 , id_raw_doc: 5529782c7c4c671ab08e5ea2 , date: 2012-02-01 00:00:00\n",
        "Doc. id: 5528dd7c7c4c6704c43c9733 , id_raw_doc: 5529782b7c4c671ab08e5ea0 , date: 2012-01-04 00:00:00\n",
        "Doc. id: 5528dd7c7c4c6704c43c973a , id_raw_doc: 552978337c4c671ab08e5eb4 , date: 2011-12-01 00:00:00\n",
        "Doc. id: 5528dd7c7c4c6704c43c9765 , id_raw_doc: 5529785d7c4c671ab08e5f1e , date: 2011-11-02 00:00:00\n",
        "Doc. id: 5528dd7c7c4c6704c43c9739 , id_raw_doc: 552978327c4c671ab08e5eb1 , date: 2011-10-01 00:00:00\n",
        "Doc. id: 5528dd7c7c4c6704c43c9738 , id_raw_doc: 552978317c4c671ab08e5eae , date: 2011-09-05 00:00:00\n",
        "Doc. id: 5528dd7c7c4c6704c43c9737 , id_raw_doc: 552978307c4c671ab08e5eab , date: 2011-07-04 00:00:00\n",
        "Doc. id: 5528dd7c7c4c6704c43c9732 , id_raw_doc: 5529782a7c4c671ab08e5e9e , date: 2011-06-02 00:00:00\n",
        "Doc. id: 5528dd7c7c4c6704c43c9731 , id_raw_doc: 552978297c4c671ab08e5e9b , date: 2011-05-03 00:00:00\n",
        "Doc. id: 5528dd7c7c4c6704c43c978f , id_raw_doc: 5529788e7c4c671ab08e5f96 , date: 2011-04-01 00:00:00\n",
        "Doc. id: 5528dd7c7c4c6704c43c9790 , id_raw_doc: 5529788f7c4c671ab08e5f99 , date: 2011-03-01 00:00:00\n",
        "Doc. id: 5528dd7c7c4c6704c43c978d , id_raw_doc: 5529788b7c4c671ab08e5f91 , date: 2011-02-01 00:00:00\n",
        "Doc. id: 5528dd7c7c4c6704c43c978e , id_raw_doc: 5529788d7c4c671ab08e5f93 , date: 2011-01-07 00:00:00\n",
        "Doc. id: 5528dd7c7c4c6704c43c978b , id_raw_doc: 5529788a7c4c671ab08e5f8c , date: 2010-12-01 00:00:00\n",
        "Doc. id: 5528dd7c7c4c6704c43c978c , id_raw_doc: 5529788b7c4c671ab08e5f8f , date: 2010-11-03 00:00:00\n",
        "Doc. id: 5528dd7c7c4c6704c43c9789 , id_raw_doc: 552978887c4c671ab08e5f86 , date: 2010-10-04 00:00:00\n",
        "Doc. id: 5528dd7c7c4c6704c43c978a , id_raw_doc: 552978897c4c671ab08e5f89 , date: 2010-09-03 00:00:00\n",
        "Doc. id: 5528dd7c7c4c6704c43c9787 , id_raw_doc: 552978867c4c671ab08e5f81 , date: 2010-07-15 00:00:00\n",
        "Doc. id: 5528dd7c7c4c6704c43c9788 , id_raw_doc: 552978877c4c671ab08e5f84 , date: 2010-06-02 00:00:00\n",
        "Doc. id: 5528dd7c7c4c6704c43c9700 , id_raw_doc: 552977eb7c4c671ab08e5e0e , date: 2010-05-04 00:00:00\n",
        "Doc. id: 5528dd7c7c4c6704c43c96ff , id_raw_doc: 552977ea7c4c671ab08e5e0b , date: 2010-04-06 00:00:00\n",
        "Doc. id: 5528dd7c7c4c6704c43c9702 , id_raw_doc: 552977ed7c4c671ab08e5e14 , date: 2010-03-02 00:00:00\n",
        "Doc. id: 5528dd7c7c4c6704c43c9701 , id_raw_doc: 552977ec7c4c671ab08e5e11 , date: 2010-02-05 00:00:00\n",
        "Doc. id: 5528dd7c7c4c6704c43c96fc , id_raw_doc: 552977e77c4c671ab08e5e04 , date: 2010-01-09 00:00:00\n",
        "Doc. id: 5528dd7c7c4c6704c43c96fb , id_raw_doc: 552977e67c4c671ab08e5e02 , date: 2009-12-01 00:00:00\n",
        "Doc. id: 5528dd7c7c4c6704c43c96fe , id_raw_doc: 552977e97c4c671ab08e5e09 , date: 2009-11-02 00:00:00\n",
        "Doc. id: 5528dd7c7c4c6704c43c96fd , id_raw_doc: 552977e87c4c671ab08e5e06 , date: 2009-10-07 00:00:00\n",
        "Doc. id: 5528dd7c7c4c6704c43c96fa , id_raw_doc: 552977e57c4c671ab08e5e00 , date: 2009-09-04 00:00:00\n",
        "Doc. id: 5528dd7c7c4c6704c43c96f9 , id_raw_doc: 552977e47c4c671ab08e5dfe , date: 2009-07-07 00:00:00\n",
        "Doc. id: 5528dd7c7c4c6704c43c973e , id_raw_doc: 552978377c4c671ab08e5ebf , date: 2009-06-04 00:00:00\n",
        "Doc. id: 5528dd7c7c4c6704c43c973f , id_raw_doc: 552978387c4c671ab08e5ec1 , date: 2009-05-13 00:00:00\n",
        "Doc. id: 5528dd7c7c4c6704c43c9740 , id_raw_doc: 5529783a7c4c671ab08e5ec3 , date: 2009-04-14 00:00:00\n",
        "Doc. id: 5528dd7c7c4c6704c43c9741 , id_raw_doc: 5529783b7c4c671ab08e5ec6 , date: 2009-03-04 00:00:00\n",
        "Doc. id: 5528dd7c7c4c6704c43c9742 , id_raw_doc: 5529783c7c4c671ab08e5ec8 , date: 2009-02-04 00:00:00\n",
        "Doc. id: 5528dd7c7c4c6704c43c9743 , id_raw_doc: 5529783c7c4c671ab08e5eca , date: 2009-01-09 00:00:00\n",
        "Doc. id: 5528dd7c7c4c6704c43c9744 , id_raw_doc: 5529783d7c4c671ab08e5ecc , date: 2008-12-03 00:00:00\n",
        "Doc. id: 5528dd7c7c4c6704c43c9745 , id_raw_doc: 5529783e7c4c671ab08e5ece , date: 2008-11-03 00:00:00\n",
        "Doc. id: 5528dd7c7c4c6704c43c9746 , id_raw_doc: 552978407c4c671ab08e5ed0 , date: 2008-10-01 00:00:00\n",
        "Doc. id: 5528dd7c7c4c6704c43c9747 , id_raw_doc: 552978417c4c671ab08e5ed2 , date: 2008-09-05 00:00:00\n",
        "Doc. id: 5528dd7c7c4c6704c43c97a7 , id_raw_doc: 552978aa7c4c671ab08e5fd7 , date: 2008-07-07 00:00:00\n",
        "Doc. id: 5528dd7c7c4c6704c43c97a6 , id_raw_doc: 552978a97c4c671ab08e5fd5 , date: 2008-06-18 00:00:00\n",
        "Doc. id: 5528dd7c7c4c6704c43c97a5 , id_raw_doc: 552978a87c4c671ab08e5fd3 , date: 2008-05-22 00:00:00\n",
        "Doc. id: 5528dd7c7c4c6704c43c97a4 , id_raw_doc: 552978a77c4c671ab08e5fd1 , date: 2008-04-24 00:00:00\n",
        "Doc. id: 5528dd7c7c4c6704c43c97a3 , id_raw_doc: 552978a67c4c671ab08e5fcf , date: 2008-03-24 00:00:00\n",
        "Doc. id: 5528dd7c7c4c6704c43c97a2 , id_raw_doc: 552978a67c4c671ab08e5fcd , date: 2008-02-22 00:00:00\n",
        "Doc. id: 5528dd7c7c4c6704c43c97a1 , id_raw_doc: 552978a57c4c671ab08e5fcb , date: 2008-01-14 00:00:00\n",
        "Doc. id: 5528dd7c7c4c6704c43c97a0 , id_raw_doc: 552978a47c4c671ab08e5fc9 , date: 2007-12-18 00:00:00\n",
        "Doc. id: 5528dd7c7c4c6704c43c97a9 , id_raw_doc: 552978ac7c4c671ab08e5fdb , date: 2007-11-23 00:00:00\n",
        "Doc. id: 5528dd7c7c4c6704c43c97a8 , id_raw_doc: 552978ab7c4c671ab08e5fd9 , date: 2007-10-22 00:00:00\n",
        "Doc. id: 5528dd7c7c4c6704c43c971a , id_raw_doc: 5529780a7c4c671ab08e5e59 , date: 2007-09-24 00:00:00\n",
        "Doc. id: 5528dd7c7c4c6704c43c971b , id_raw_doc: 5529780b7c4c671ab08e5e5b , date: 2007-07-06 00:00:00\n",
        "Doc. id: 5528dd7c7c4c6704c43c9718 , id_raw_doc: 552978077c4c671ab08e5e53 , date: 2007-06-22 00:00:00\n",
        "Doc. id: 5528dd7c7c4c6704c43c9719 , id_raw_doc: 552978087c4c671ab08e5e56 , date: 2007-05-19 00:00:00\n",
        "Doc. id: 5528dd7c7c4c6704c43c971e , id_raw_doc: 552978107c4c671ab08e5e64 , date: 2007-04-23 00:00:00\n",
        "Doc. id: 5528dd7c7c4c6704c43c971f , id_raw_doc: 552978117c4c671ab08e5e67 , date: 2007-03-17 00:00:00\n",
        "Doc. id: 5528dd7c7c4c6704c43c971c , id_raw_doc: 5529780d7c4c671ab08e5e5e , date: 2007-02-22 00:00:00\n",
        "Doc. id: 5528dd7c7c4c6704c43c971d , id_raw_doc: 5529780f7c4c671ab08e5e61 , date: 2007-01-22 00:00:00\n",
        "Doc. id: 5528dd7c7c4c6704c43c9712 , id_raw_doc: 552978007c4c671ab08e5e41 , date: 2006-12-13 00:00:00\n",
        "Doc. id: 5528dd7c7c4c6704c43c9713 , id_raw_doc: 552978017c4c671ab08e5e44 , date: 2006-11-18 00:00:00\n",
        "Doc. id: 5528dd7c7c4c6704c43c9767 , id_raw_doc: 552978607c4c671ab08e5f23 , date: 2006-10-18 00:00:00\n",
        "Doc. id: 5528dd7c7c4c6704c43c9766 , id_raw_doc: 5529785f7c4c671ab08e5f20 , date: 2006-09-18 00:00:00\n",
        "Doc. id: 5528dd7c7c4c6704c43c9769 , id_raw_doc: 552978637c4c671ab08e5f29 , date: 2006-07-10 00:00:00\n",
        "Doc. id: 5528dd7c7c4c6704c43c9768 , id_raw_doc: 552978627c4c671ab08e5f26 , date: 2006-06-21 00:00:00\n",
        "Doc. id: 5528dd7c7c4c6704c43c976b , id_raw_doc: 552978667c4c671ab08e5f2f , date: 2006-05-22 00:00:00\n",
        "Doc. id: 5528dd7c7c4c6704c43c976a , id_raw_doc: 552978657c4c671ab08e5f2c , date: 2006-04-24 00:00:00\n",
        "Doc. id: 5528dd7c7c4c6704c43c976d , id_raw_doc: 552978687c4c671ab08e5f34 , date: 2006-03-24 00:00:00\n",
        "Doc. id: 5528dd7c7c4c6704c43c976c , id_raw_doc: 552978677c4c671ab08e5f32 , date: 2006-02-20 00:00:00\n",
        "Doc. id: 5528dd7c7c4c6704c43c9762 , id_raw_doc: 5529785b7c4c671ab08e5f17 , date: 2006-01-23 00:00:00\n",
        "Doc. id: 5528dd7c7c4c6704c43c9761 , id_raw_doc: 5529785a7c4c671ab08e5f14 , date: 2005-12-16 00:00:00\n",
        "Doc. id: 5528dd7c7c4c6704c43c972b , id_raw_doc: 552978207c4c671ab08e5e8a , date: 2005-11-15 00:00:00\n",
        "Doc. id: 5528dd7c7c4c6704c43c972c , id_raw_doc: 552978227c4c671ab08e5e8c , date: 2005-10-21 00:00:00\n",
        "Doc. id: 5528dd7c7c4c6704c43c9729 , id_raw_doc: 5529781d7c4c671ab08e5e83 , date: 2005-09-23 00:00:00\n",
        "Doc. id: 5528dd7c7c4c6704c43c972a , id_raw_doc: 5529781f7c4c671ab08e5e86 , date: 2005-07-13 00:00:00\n",
        "Doc. id: 5528dd7c7c4c6704c43c972f , id_raw_doc: 552978277c4c671ab08e5e96 , date: 2005-06-06 00:00:00\n",
        "Doc. id: 5528dd7c7c4c6704c43c9730 , id_raw_doc: 552978287c4c671ab08e5e99 , date: 2005-05-13 00:00:00\n",
        "Doc. id: 5528dd7c7c4c6704c43c972d , id_raw_doc: 552978247c4c671ab08e5e8f , date: 2005-04-27 00:00:00\n",
        "Doc. id: 5528dd7c7c4c6704c43c972e , id_raw_doc: 552978257c4c671ab08e5e93 , date: 2005-03-29 00:00:00\n",
        "Doc. id: 5528dd7c7c4c6704c43c9727 , id_raw_doc: 5529781a7c4c671ab08e5e7d , date: 2005-02-18 00:00:00\n",
        "Doc. id: 5528dd7c7c4c6704c43c9728 , id_raw_doc: 5529781c7c4c671ab08e5e80 , date: 2005-01-19 00:00:00\n",
        "Doc. id: 5528dd7c7c4c6704c43c9715 , id_raw_doc: 552978037c4c671ab08e5e4a , date: 2004-12-15 00:00:00\n",
        "Doc. id: 5528dd7c7c4c6704c43c9714 , id_raw_doc: 552978027c4c671ab08e5e47 , date: 2004-11-19 00:00:00\n",
        "Doc. id: 5528dd7c7c4c6704c43c9717 , id_raw_doc: 552978067c4c671ab08e5e50 , date: 2004-10-21 00:00:00\n",
        "Doc. id: 5528dd7c7c4c6704c43c9716 , id_raw_doc: 552978047c4c671ab08e5e4d , date: 2004-09-24 00:00:00\n",
        "Doc. id: 5528dd7c7c4c6704c43c9711 , id_raw_doc: 552977fe7c4c671ab08e5e3d , date: 2004-07-09 00:00:00\n",
        "Doc. id: 5528dd7c7c4c6704c43c9710 , id_raw_doc: 552977fc7c4c671ab08e5e3a , date: 2004-06-25 00:00:00\n",
        "Doc. id: 5528dd7c7c4c6704c43c9779 , id_raw_doc: 552978757c4c671ab08e5f57 , date: 2004-05-27 00:00:00\n",
        "Doc. id: 5528dd7c7c4c6704c43c9778 , id_raw_doc: 552978737c4c671ab08e5f53 , date: 2004-04-22 00:00:00\n",
        "Doc. id: 5528dd7c7c4c6704c43c96f8 , id_raw_doc: 552977e37c4c671ab08e5dfb , date: 2004-03-16 00:00:00\n",
        "Doc. id: 5528dd7c7c4c6704c43c96ec , id_raw_doc: 552977d37c4c671ab08e5dd6 , date: 2004-02-20 00:00:00\n",
        "Doc. id: 5528dd7c7c4c6704c43c96ed , id_raw_doc: 552977d47c4c671ab08e5dd9 , date: 2004-01-10 00:00:00\n",
        "Doc. id: 5528dd7c7c4c6704c43c96ee , id_raw_doc: 552977d67c4c671ab08e5ddd , date: 2003-12-10 00:00:00\n",
        "Doc. id: 5528dd7c7c4c6704c43c96ef , id_raw_doc: 552977d77c4c671ab08e5de0 , date: 2003-11-14 00:00:00\n",
        "Doc. id: 5528dd7c7c4c6704c43c96f0 , id_raw_doc: 552977d97c4c671ab08e5de3 , date: 2003-10-25 00:00:00\n",
        "Doc. id: 5528dd7c7c4c6704c43c96f1 , id_raw_doc: 552977db7c4c671ab08e5de7 , date: 2003-09-08 00:00:00\n",
        "Doc. id: 5528dd7c7c4c6704c43c96f2 , id_raw_doc: 552977dc7c4c671ab08e5dea , date: 2003-07-02 00:00:00\n",
        "Doc. id: 5528dd7c7c4c6704c43c96f3 , id_raw_doc: 552977de7c4c671ab08e5ded , date: 2003-06-17 00:00:00\n",
        "Doc. id: 5528dd7c7c4c6704c43c96f4 , id_raw_doc: 552977df7c4c671ab08e5df0 , date: 2003-05-16 00:00:00\n",
        "Doc. id: 5528dd7c7c4c6704c43c96f5 , id_raw_doc: 552977e07c4c671ab08e5df3 , date: 2003-04-24 00:00:00\n",
        "Doc. id: 5528dd7c7c4c6704c43c96f6 , id_raw_doc: 552977e17c4c671ab08e5df6 , date: 2003-03-15 00:00:00\n",
        "Doc. id: 5528dd7c7c4c6704c43c96d4 , id_raw_doc: 552977b87c4c671ab08e5d95 , date: 2003-02-22 00:00:00\n",
        "Doc. id: 5528dd7c7c4c6704c43c96d3 , id_raw_doc: 552977b87c4c671ab08e5d91 , date: 2003-01-21 00:00:00\n",
        "Doc. id: 5528dd7c7c4c6704c43c96d2 , id_raw_doc: 552977b67c4c671ab08e5d8e , date: 2002-12-10 00:00:00\n",
        "Doc. id: 5528dd7c7c4c6704c43c96d1 , id_raw_doc: 552977b57c4c671ab08e5d8b , date: 2002-11-16 00:00:00\n",
        "Doc. id: 5528dd7c7c4c6704c43c96d8 , id_raw_doc: 552977be7c4c671ab08e5da1 , date: 2002-10-16 00:00:00\n",
        "Doc. id: 5528dd7c7c4c6704c43c96d7 , id_raw_doc: 552977bc7c4c671ab08e5d9e , date: 2002-09-24 00:00:00\n",
        "Doc. id: 5528dd7c7c4c6704c43c96d6 , id_raw_doc: 552977bb7c4c671ab08e5d9b , date: 2002-07-16 00:00:00\n",
        "Doc. id: 5528dd7c7c4c6704c43c96d5 , id_raw_doc: 552977ba7c4c671ab08e5d98 , date: 2002-06-26 00:00:00\n",
        "Doc. id: 5528dd7c7c4c6704c43c96da , id_raw_doc: 552977c07c4c671ab08e5da7 , date: 2002-05-20 00:00:00\n",
        "Doc. id: 5528dd7c7c4c6704c43c96d9 , id_raw_doc: 552977bf7c4c671ab08e5da4 , date: 2002-04-16 00:00:00\n",
        "Doc. id: 5528dd7c7c4c6704c43c979a , id_raw_doc: 5529789c7c4c671ab08e5fb7 , date: 2002-03-16 00:00:00\n",
        "Doc. id: 5528dd7c7c4c6704c43c979b , id_raw_doc: 5529789d7c4c671ab08e5fba , date: 2002-02-23 00:00:00\n",
        "Doc. id: 5528dd7c7c4c6704c43c9798 , id_raw_doc: 552978987c4c671ab08e5fb0 , date: 2002-01-27 00:00:00\n",
        "Doc. id: 5528dd7c7c4c6704c43c9799 , id_raw_doc: 5529789b7c4c671ab08e5fb4 , date: 2001-12-11 00:00:00\n",
        "Doc. id: 5528dd7c7c4c6704c43c9796 , id_raw_doc: 552978967c4c671ab08e5fab , date: 2001-11-21 00:00:00\n",
        "Doc. id: 5528dd7c7c4c6704c43c9797 , id_raw_doc: 552978977c4c671ab08e5fae , date: 2001-10-24 00:00:00\n",
        "Doc. id: 5528dd7c7c4c6704c43c9794 , id_raw_doc: 552978937c4c671ab08e5fa4 , date: 2001-09-13 00:00:00\n",
        "Doc. id: 5528dd7c7c4c6704c43c9795 , id_raw_doc: 552978957c4c671ab08e5fa7 , date: 2001-07-13 00:00:00\n",
        "Doc. id: 5528dd7c7c4c6704c43c979e , id_raw_doc: 552978a27c4c671ab08e5fc3 , date: 2001-06-19 00:00:00\n",
        "Doc. id: 5528dd7c7c4c6704c43c979f , id_raw_doc: 552978a37c4c671ab08e5fc6 , date: 2001-05-22 00:00:00\n",
        "Doc. id: 5528dd7c7c4c6704c43c977c , id_raw_doc: 552978797c4c671ab08e5f60 , date: 2001-04-20 00:00:00\n",
        "Doc. id: 5528dd7c7c4c6704c43c977b , id_raw_doc: 552978777c4c671ab08e5f5d , date: 2001-03-19 00:00:00\n",
        "Doc. id: 5528dd7c7c4c6704c43c977e , id_raw_doc: 5529787b7c4c671ab08e5f67 , date: 2001-02-17 00:00:00\n",
        "Doc. id: 5528dd7c7c4c6704c43c977d , id_raw_doc: 5529787a7c4c671ab08e5f63 , date: 2001-01-18 00:00:00\n",
        "Doc. id: 5528dd7c7c4c6704c43c9780 , id_raw_doc: 5529787f7c4c671ab08e5f6d , date: 2000-12-16 00:00:00\n",
        "Doc. id: 5528dd7c7c4c6704c43c977f , id_raw_doc: 5529787d7c4c671ab08e5f6a , date: 2000-11-23 00:00:00\n",
        "Doc. id: 5528dd7c7c4c6704c43c9782 , id_raw_doc: 552978817c4c671ab08e5f73 , date: 2000-10-17 00:00:00\n",
        "Doc. id: 5528dd7c7c4c6704c43c9781 , id_raw_doc: 552978807c4c671ab08e5f70 , date: 2000-09-23 00:00:00\n",
        "Doc. id: 5528dd7c7c4c6704c43c9784 , id_raw_doc: 552978837c4c671ab08e5f78 , date: 2000-07-13 00:00:00\n",
        "Doc. id: 5528dd7c7c4c6704c43c9783 , id_raw_doc: 552978827c4c671ab08e5f75 , date: 2000-06-23 00:00:00\n",
        "Doc. id: 5528dd7c7c4c6704c43c96e4 , id_raw_doc: 552977ca7c4c671ab08e5dc0 , date: 2000-05-26 00:00:00\n",
        "Doc. id: 5528dd7c7c4c6704c43c96e7 , id_raw_doc: 552977cd7c4c671ab08e5dc7 , date: 2000-04-29 00:00:00\n",
        "Doc. id: 5528dd7c7c4c6704c43c9755 , id_raw_doc: 5529784d7c4c671ab08e5ef3 , date: 2000-03-24 00:00:00\n",
        "Doc. id: 5528dd7c7c4c6704c43c96eb , id_raw_doc: 552977d27c4c671ab08e5dd3 , date: 2000-02-25 00:00:00\n",
        "Doc. id: 5528dd7c7c4c6704c43c9703 , id_raw_doc: 552977ee7c4c671ab08e5e16 , date: 2000-01-27 00:00:00\n",
        "Doc. id: 5528dd7c7c4c6704c43c96ce , id_raw_doc: 552977b17c4c671ab08e5d82 , date: 1999-12-16 00:00:00\n",
        "Doc. id: 5528dd7c7c4c6704c43c96db , id_raw_doc: 552977c17c4c671ab08e5daa , date: 1999-11-26 00:00:00\n",
        "Doc. id: 5528dd7c7c4c6704c43c96f7 , id_raw_doc: 552977e27c4c671ab08e5df9 , date: 1999-10-22 00:00:00\n",
        "Doc. id: 5528dd7c7c4c6704c43c9763 , id_raw_doc: 5529785c7c4c671ab08e5f1a , date: 1999-09-24 00:00:00\n",
        "Doc. id: 5528dd7c7c4c6704c43c9764 , id_raw_doc: 5529785c7c4c671ab08e5f1c , date: 1999-07-09 00:00:00\n",
        "Doc. id: 5528dd7c7c4c6704c43c974d , id_raw_doc: 552978477c4c671ab08e5ee0 , date: 1999-06-26 00:00:00\n",
        "Doc. id: 5528dd7c7c4c6704c43c974c , id_raw_doc: 552978467c4c671ab08e5ede , date: 1999-05-27 00:00:00\n",
        "Doc. id: 5528dd7c7c4c6704c43c974b , id_raw_doc: 552978457c4c671ab08e5edb , date: 1999-04-24 00:00:00\n",
        "Doc. id: 5528dd7c7c4c6704c43c974a , id_raw_doc: 552978447c4c671ab08e5ed9 , date: 1999-03-24 00:00:00\n",
        "Doc. id: 5528dd7c7c4c6704c43c9749 , id_raw_doc: 552978437c4c671ab08e5ed7 , date: 1999-02-24 00:00:00\n",
        "Doc. id: 5528dd7c7c4c6704c43c9748 , id_raw_doc: 552978427c4c671ab08e5ed4 , date: 1999-01-27 00:00:00\n",
        "Doc. id: 5528dd7c7c4c6704c43c973d , id_raw_doc: 552978367c4c671ab08e5ebd , date: 1998-12-18 00:00:00\n",
        "Doc. id: 5528dd7c7c4c6704c43c9724 , id_raw_doc: 552978177c4c671ab08e5e75 , date: 1998-11-26 00:00:00\n",
        "Doc. id: 5528dd7c7c4c6704c43c970b , id_raw_doc: 552977f77c4c671ab08e5e2c , date: 1998-10-26 00:00:00\n",
        "Doc. id: 5528dd7c7c4c6704c43c9706 , id_raw_doc: 552977f27c4c671ab08e5e1e , date: 1998-09-25 00:00:00\n",
        "Doc. id: 5528dd7c7c4c6704c43c9753 , id_raw_doc: 5529784c7c4c671ab08e5eee , date: 1998-07-09 00:00:00\n",
        "Doc. id: 5528dd7c7c4c6704c43c9750 , id_raw_doc: 5529784a7c4c671ab08e5ee7 , date: 1998-06-20 00:00:00\n",
        "Doc. id: 5528dd7c7c4c6704c43c9751 , id_raw_doc: 5529784a7c4c671ab08e5eea , date: 1998-05-22 00:00:00\n",
        "Doc. id: 5528dd7c7c4c6704c43c9752 , id_raw_doc: 5529784b7c4c671ab08e5eec , date: 1998-04-25 00:00:00\n",
        "Doc. id: 5528dd7c7c4c6704c43c9757 , id_raw_doc: 5529784f7c4c671ab08e5ef8 , date: 1998-03-27 00:00:00\n",
        "Doc. id: 5528dd7c7c4c6704c43c9760 , id_raw_doc: 552978597c4c671ab08e5f11 , date: 1998-02-20 00:00:00\n",
        "Doc. id: 5528dd7c7c4c6704c43c975a , id_raw_doc: 552978537c4c671ab08e5f01 , date: 1998-01-23 00:00:00\n",
        "Doc. id: 5528dd7c7c4c6704c43c9756 , id_raw_doc: 5529784e7c4c671ab08e5ef5 , date: 1997-12-17 00:00:00\n",
        "Doc. id: 5528dd7c7c4c6704c43c975b , id_raw_doc: 552978547c4c671ab08e5f04 , date: 1997-11-20 00:00:00\n",
        "Doc. id: 5528dd7c7c4c6704c43c975c , id_raw_doc: 552978557c4c671ab08e5f06 , date: 1997-10-24 00:00:00\n",
        "Doc. id: 5528dd7c7c4c6704c43c970d , id_raw_doc: 552977fa7c4c671ab08e5e32 , date: 1997-09-26 00:00:00\n",
        "Doc. id: 5528dd7c7c4c6704c43c970c , id_raw_doc: 552977f87c4c671ab08e5e2f , date: 1997-07-11 00:00:00\n",
        "Doc. id: 5528dd7c7c4c6704c43c970f , id_raw_doc: 552977fb7c4c671ab08e5e37 , date: 1997-06-20 00:00:00\n",
        "Doc. id: 5528dd7c7c4c6704c43c970e , id_raw_doc: 552977fa7c4c671ab08e5e35 , date: 1997-05-23 00:00:00\n",
        "Doc. id: 5528dd7c7c4c6704c43c9709 , id_raw_doc: 552977f57c4c671ab08e5e26 , date: 1997-04-23 00:00:00\n",
        "Doc. id: 5528dd7c7c4c6704c43c9708 , id_raw_doc: 552977f47c4c671ab08e5e24 , date: 1997-03-19 00:00:00\n",
        "Doc. id: 5528dd7c7c4c6704c43c975e , id_raw_doc: 552978577c4c671ab08e5f0c , date: 1997-02-22 00:00:00\n",
        "Doc. id: 5528dd7c7c4c6704c43c970a , id_raw_doc: 552977f67c4c671ab08e5e29 , date: 1997-01-23 00:00:00\n",
        "Doc. id: 5528dd7c7c4c6704c43c9720 , id_raw_doc: 552978137c4c671ab08e5e6a , date: 1996-12-17 00:00:00\n",
        "Doc. id: 5528dd7c7c4c6704c43c9705 , id_raw_doc: 552977f17c4c671ab08e5e1c , date: 1996-11-23 00:00:00\n",
        "Doc. id: 5528dd7c7c4c6704c43c9707 , id_raw_doc: 552977f37c4c671ab08e5e21 , date: 1996-10-26 00:00:00\n",
        "Doc. id: 5528dd7c7c4c6704c43c9704 , id_raw_doc: 552977f07c4c671ab08e5e19 , date: 1996-09-27 00:00:00\n",
        "Doc. id: 5528dd7c7c4c6704c43c975d , id_raw_doc: 552978567c4c671ab08e5f09 , date: 1996-07-17 00:00:00\n",
        "Doc. id: 5528dd7c7c4c6704c43c974e , id_raw_doc: 552978477c4c671ab08e5ee2 , date: 1996-06-22 00:00:00\n",
        "Doc. id: 5528dd7c7c4c6704c43c977a , id_raw_doc: 552978767c4c671ab08e5f5a , date: 1996-05-29 00:00:00\n",
        "Doc. id: 5528dd7c7c4c6704c43c973b , id_raw_doc: 552978347c4c671ab08e5eb7 , date: 1996-04-13 00:00:00\n",
        "Doc. id: 5528dd7c7c4c6704c43c9721 , id_raw_doc: 552978147c4c671ab08e5e6d , date: 1996-03-27 00:00:00\n",
        "Doc. id: 5528dd7c7c4c6704c43c9785 , id_raw_doc: 552978847c4c671ab08e5f7b , date: 1996-02-27 00:00:00\n",
        "Doc. id: 5528dd7c7c4c6704c43c979d , id_raw_doc: 552978a07c4c671ab08e5fc0 , date: 1996-01-10 00:00:00\n",
        "Doc. id: 5528dd7c7c4c6704c43c979c , id_raw_doc: 5529789e7c4c671ab08e5fbd , date: 1995-12-09 00:00:00\n",
        "Doc. id: 5528dd7c7c4c6704c43c96cc , id_raw_doc: 552977af7c4c671ab08e5d7c , date: 1995-11-08 00:00:00\n",
        "Doc. id: 5528dd7c7c4c6704c43c96cd , id_raw_doc: 552977b07c4c671ab08e5d7f , date: 1995-10-17 00:00:00\n",
        "Doc. id: 5528dd7c7c4c6704c43c96ca , id_raw_doc: 552977ae7c4c671ab08e5d76 , date: 1995-09-13 00:00:00\n",
        "Doc. id: 5528dd7c7c4c6704c43c96cb , id_raw_doc: 552977af7c4c671ab08e5d79 , date: 1995-07-12 00:00:00\n",
        "Doc. id: 5528dd7c7c4c6704c43c96c8 , id_raw_doc: 552977ab7c4c671ab08e5d70 , date: 1995-06-25 00:00:00\n",
        "Doc. id: 5528dd7c7c4c6704c43c96c9 , id_raw_doc: 552977ac7c4c671ab08e5d73 , date: 1995-05-25 00:00:00\n",
        "Doc. id: 5528dd7c7c4c6704c43c96c6 , id_raw_doc: 552977a97c4c671ab08e5d6a , date: 1995-04-19 00:00:00\n",
        "Doc. id: 5528dd7c7c4c6704c43c96c7 , id_raw_doc: 552977aa7c4c671ab08e5d6d , date: 1995-03-19 00:00:00\n",
        "Doc. id: 5528dd7c7c4c6704c43c96cf , id_raw_doc: 552977b27c4c671ab08e5d85 , date: 1995-02-02 00:00:00\n",
        "Doc. id: 5528dd7c7c4c6704c43c96d0 , id_raw_doc: 552977b47c4c671ab08e5d88 , date: 1995-01-12 00:00:00\n",
        "Doc. id: 5528dd7c7c4c6704c43c9759 , id_raw_doc: 552978527c4c671ab08e5efe , date: 1994-12-01 00:00:00\n",
        "Doc. id: 5528dd7c7c4c6704c43c975f , id_raw_doc: 552978587c4c671ab08e5f0e , date: 1994-11-12 00:00:00\n",
        "Doc. id: 5528dd7c7c4c6704c43c974f , id_raw_doc: 552978497c4c671ab08e5ee4 , date: 1994-10-19 00:00:00\n",
        "Doc. id: 5528dd7c7c4c6704c43c973c , id_raw_doc: 552978357c4c671ab08e5eba , date: 1994-09-20 00:00:00\n",
        "Doc. id: 5528dd7c7c4c6704c43c9786 , id_raw_doc: 552978857c4c671ab08e5f7e , date: 1994-07-01 00:00:00\n",
        "Doc. id: 5528dd7c7c4c6704c43c9726 , id_raw_doc: 552978197c4c671ab08e5e7b , date: 1994-06-16 00:00:00\n",
        "Doc. id: 5528dd7c7c4c6704c43c9722 , id_raw_doc: 552978147c4c671ab08e5e70 , date: 1994-05-12 00:00:00\n",
        "Doc. id: 5528dd7c7c4c6704c43c97aa , id_raw_doc: 552978ad7c4c671ab08e5fde , date: 1994-04-06 00:00:00\n"
       ]
      }
     ],
     "prompt_number": 60
    },
    {
     "cell_type": "heading",
     "level": 3,
     "metadata": {},
     "source": [
      "Scraping per extreure la informaci\u00f3 dels documents del bar\u00f2metre"
     ]
    },
    {
     "cell_type": "code",
     "collapsed": false,
     "input": [
      "# M\u00e8tode que elimina els caracters no alfanum\u00e8rics d'un text\n",
      "def remove_non_alphanumeric_chars(text):\n",
      "    return re.compile('\\s+').sub(' ', text).strip()"
     ],
     "language": "python",
     "metadata": {},
     "outputs": [],
     "prompt_number": 116
    },
    {
     "cell_type": "heading",
     "level": 4,
     "metadata": {},
     "source": [
      "parse_barometer_CIS_doc: M\u00e8tode per extreure la informaci\u00f3 dels documents desde l'actualitat fins setembre de 2013"
     ]
    },
    {
     "cell_type": "code",
     "collapsed": false,
     "input": [
      "from bs4 import BeautifulSoup\n",
      "import re\n",
      "\n",
      "\n",
      "def parse_barometer_CIS_doc(html_doc, verbose = False):\n",
      "    # html_doc = get_html_page(url_doc)\n",
      "\n",
      "    soup = BeautifulSoup(html_doc)\n",
      "\n",
      "    # <p style=\"font-family: Arial Narrow; font-size: 12pt;\"><b>Pregunta 7 </b><br>\n",
      "    # \u00bfCu\u00e1l es, a su juicio, el principal problema que existe actualmente en Espa\u00f1a? \u00bfY el segundo? \u00bfY el tercero? (MULTIRRESPUESTA).</p>\n",
      "\n",
      "    # \n",
      "    question_to_search = u\"principal problema que existe actualmente\"\n",
      "    question_type_to_search = u\"MULTIRRESPUESTA\"\n",
      "\n",
      "    question_topics_values = []\n",
      "    i = 0\n",
      "    for found in soup.body.findAll(text=re.compile('^Pregunta\\s*\\d+')):\n",
      "        question = remove_non_alphanumeric_chars(found.parent.parent.contents[2])\n",
      "        if (question_to_search in question and question_type_to_search in question):\n",
      "            if verbose:\n",
      "                print \"-------------------------------------------------\"\n",
      "                print i, \":\", remove_non_alphanumeric_chars(found), \"-->\", question\n",
      "                print \"-------------------------------------------------\"\n",
      "\n",
      "            table_p = found.find_next('table')\n",
      "            table_p_body = table_p.find('tbody')\n",
      "            if table_p_body:\n",
      "                table_p_rows = table_p_body.findAll('tr')\n",
      "            else:\n",
      "                table_p_rows = table_p.findAll('tr')\n",
      "\n",
      "            for row in table_p_rows:\n",
      "                f_td = row.find_next('td')\n",
      "                topic = remove_non_alphanumeric_chars(f_td.getText())\n",
      "                if \"(N)\" not in topic:\n",
      "                    f_td = f_td.find_next('td')\n",
      "                    value = float(f_td.getText().replace(',','.'))\n",
      "                    question_topics_values.append((topic,value))\n",
      "                    # print topic, \"-->\", value\n",
      "        i += 1\n",
      "\n",
      "    # Obtenim una llista de tuples, cada tupla t\u00e9 dos valors: 'el problema' i el percentatge \n",
      "    # Ordenem la llista 'question_topics_value' per percentatge\n",
      "    question_topics_values.sort(key=lambda tup: tup[1], reverse=True)\n",
      "    \n",
      "    return question_topics_values\n"
     ],
     "language": "python",
     "metadata": {},
     "outputs": [],
     "prompt_number": 118
    },
    {
     "cell_type": "heading",
     "level": 4,
     "metadata": {},
     "source": [
      "parse_barometer_CIS_doc_v2: M\u00e8tode per extreure la informaci\u00f3 dels documents desde setembre de 2013"
     ]
    },
    {
     "cell_type": "code",
     "collapsed": false,
     "input": [
      "def parse_barometer_CIS_doc_v2(html_doc, verbose = False):\n",
      "    # html_doc = get_html_page(url_doc)\n",
      "\n",
      "    soup = BeautifulSoup(html_doc)\n",
      "\n",
      "    # <p style=\"font-family: Arial Narrow; font-size: 12pt;\"><b>Pregunta 7 </b><br>\n",
      "    # \u00bfCu\u00e1l es, a su juicio, el principal problema que existe actualmente en Espa\u00f1a? \u00bfY el segundo? \u00bfY el tercero? (MULTIRRESPUESTA).</p>\n",
      "\n",
      "    # \n",
      "    question_to_search = u\"principal problema que existe actualmente\"\n",
      "    question_type_to_search = u\"MULTIRRESPUESTA\"\n",
      "    # Es podrien incloure altres literals: \"Otras respuestas\", \"N.S.\", \"N.C.\", ...\n",
      "    stopwords = [\"TOTAL\", \"(N)\"]\n",
      "\n",
      "    question_topics_values = []\n",
      "    \n",
      "    found_question = False\n",
      "    found_question_type = False\n",
      "    \n",
      "    # Cerquem la taula que conte la pregunta que cont\u00e9: \"principal problema que existe actualmente\" y \"MULTIRRESPUESTA\"\n",
      "    table_questions = soup.findAll('table', {'class' : 'SysTitleAndFooterContainer'})\n",
      "    \n",
      "    found_element = None\n",
      "    for table_q in table_questions:\n",
      "        table_q_body = table_q.find('tbody')\n",
      "        if table_q_body:\n",
      "            table_q_rows = table_q_body.findAll('tr')\n",
      "        else:\n",
      "            table_q_rows = table_q.findAll('tr')\n",
      "\n",
      "        for row in table_q_rows:\n",
      "            f_td = row.find_next('td')\n",
      "            if question_to_search in remove_non_alphanumeric_chars(f_td.getText()):\n",
      "                question_found_text = remove_non_alphanumeric_chars(f_td.getText())\n",
      "                found_question = True\n",
      "            if question_type_to_search in remove_non_alphanumeric_chars(f_td.getText()):\n",
      "                question_type_found_text = remove_non_alphanumeric_chars(f_td.getText())\n",
      "                found_question_type = True\n",
      "        if found_question and found_question_type:\n",
      "            found_element = table_q\n",
      "            if verbose:\n",
      "                print \"-------------------------------------------------\"\n",
      "                print \"Question:\", question_found_text, question_type_found_text\n",
      "                print \"-------------------------------------------------\"            \n",
      "            break\n",
      "    \n",
      "    # Si hem trobat la taula que conte la pregunta desitjada, obtenim els valors de la taula seg\u00fcent\n",
      "    if found_element:\n",
      "        table_p = found_element.find_next('table')\n",
      "        table_p_body = table_p.find('tbody')\n",
      "        if table_p_body:\n",
      "            table_p_rows = table_p_body.findAll('tr')\n",
      "        else:\n",
      "            table_p_rows = table_p.findAll('tr')        \n",
      "        \n",
      "        for row in table_p_rows:\n",
      "            f_th = row.find_next('th')\n",
      "            topic = remove_non_alphanumeric_chars(f_th.getText())\n",
      "            if all(stopword not in topic for stopword in stopwords):\n",
      "                row_tds = row.findAll('td')\n",
      "                if len(row_tds) > 2:\n",
      "                    # taula del tipus: Primer problema | Segundo problema | Tercer problema | Total\n",
      "                    f_td = row_tds[3]\n",
      "                else:\n",
      "                    # taula del tipus: . % | . (N)\n",
      "                    f_td = row_tds[0]\n",
      "                value = float(f_td.getText().replace(',','.'))\n",
      "                question_topics_values.append((topic,value))\n",
      "        \n",
      "    # Obtenim una llista de tuples, cada tupla t\u00e9 dos valors: 'el problema' i el percentatge \n",
      "    # Ordenem la llista 'question_topics_value' per percentatge\n",
      "    question_topics_values.sort(key=lambda tup: tup[1], reverse=True)\n",
      "    \n",
      "    return question_topics_values\n"
     ],
     "language": "python",
     "metadata": {},
     "outputs": [],
     "prompt_number": 91
    },
    {
     "cell_type": "heading",
     "level": 4,
     "metadata": {},
     "source": [
      "parse_barometer_CIS_doc_v3: M\u00e8tode per extreure la informaci\u00f3 dels documents desde setembre de 2013 (que no han donat resultats amb parse_barometer_CIS_doc_v2)"
     ]
    },
    {
     "cell_type": "code",
     "collapsed": false,
     "input": [
      "def all_question_words_found(words_list):\n",
      "    for word in words_list:\n",
      "        if not word[1]:\n",
      "            return False\n",
      "    return True\n",
      "\n",
      "def reset_question_words_list(words_list):\n",
      "    for word in words_list:\n",
      "        word[1] = False\n",
      "\n",
      "def parse_barometer_CIS_doc_v3(html_doc, verbose = False):\n",
      "    # html_doc = get_html_page(url_doc)\n",
      "\n",
      "    soup = BeautifulSoup(html_doc)\n",
      "\n",
      "    # <p style=\"font-family: Arial Narrow; font-size: 12pt;\"><b>Pregunta 7 </b><br>\n",
      "    # \u00bfCu\u00e1l es, a su juicio, el principal problema que existe actualmente en Espa\u00f1a? \u00bfY el segundo? \u00bfY el tercero? (MULTIRRESPUESTA).</p>\n",
      "\n",
      "    # \n",
      "    question_words_to_search = [[u\"principal\",False],[u\"problema\",False],[u\"existe\",False],[u\"actualmente\",False]]\n",
      "    question_words_text_found = \"\"\n",
      "    # Hi ha un problema al comparar amb paraules amb espais, p.e. \"M\u00c1XIMO TRES RESPUESTAS\"...  perque el document est\u00e0 codificat:\n",
      "    # <b>\u00bfCu\u00e1les&nbsp;son,&nbsp;a&nbsp;su&nbsp;juicio,&nbsp;los&nbsp;tres&nbsp;problemas&nbsp;principales&nbsp;que&nbsp;existen&nbsp;actualmente&nbsp;en&nbsp;Espa\u00f1a?&nbsp;</b>\n",
      "    # [...]\n",
      "    # <font  face=\"Arial, Helvetica, Helv\" size=\"3\" color=\"#002288\"><b>(M\u00c1XIMO&nbsp;TRES&nbsp;RESPUESTAS).</b></font>\n",
      "    # Potser es pot fer servir: http://www.crummy.com/software/BeautifulSoup/bs4/doc/#output-formatters\n",
      "    # question_types_to_search = [u\"MULTIRRESPUESTA\",u\"M\u00c1XIMO TRES RESPUESTAS\"]\n",
      "    question_types_to_search = [u\"MULTIRRESPUESTA\",u\"M\u00c1XIMO\"]\n",
      "        \n",
      "    found_question_type = False\n",
      "    \n",
      "    # Es podrien incloure altres literals: \"Otras respuestas\", \"N.S.\", \"N.C.\", ...\n",
      "    stopwords = [\"TOTAL\", \"(N)\"]\n",
      "\n",
      "    question_topics_values = []\n",
      "\n",
      "    \n",
      "    # Cerquem la taula que conte la pregunta que cont\u00e9: \"principal problema que existe actualmente\" y \"MULTIRRESPUESTA\"\n",
      "    table_questions = soup.findAll('table')\n",
      "    \n",
      "    if len(table_questions) > 0:\n",
      "        found_element = None\n",
      "        for table_q in table_questions:\n",
      "            table_q_body = table_q.find('tbody')\n",
      "            if table_q_body:\n",
      "                table_q_rows = table_q_body.findAll('tr')\n",
      "            else:\n",
      "                table_q_rows = table_q.findAll('tr')\n",
      "\n",
      "            for row in table_q_rows:\n",
      "                f_td = row.find_next('td')\n",
      "                cleaned_td_text = remove_non_alphanumeric_chars(f_td.getText())\n",
      "                #\n",
      "                any_question_word_found = False\n",
      "                for question_word in question_words_to_search:\n",
      "                    if question_word[0] in cleaned_td_text:\n",
      "                        question_word[1] = True\n",
      "                        any_question_word_found = True\n",
      "                if any_question_word_found:\n",
      "                    question_words_text_found += \"\\n\" + cleaned_td_text\n",
      "                #\n",
      "                if any(question_type in cleaned_td_text for question_type in question_types_to_search):\n",
      "                    question_type_found_text = cleaned_td_text\n",
      "                    print cleaned_td_text\n",
      "                    found_question_type = True\n",
      "            if all_question_words_found(question_words_to_search) and found_question_type:\n",
      "                found_element = table_q\n",
      "                if verbose:\n",
      "                    print \"-------------------------------------------------\"\n",
      "                    print \"Question:\", question_words_text_found, question_type_found_text\n",
      "                    print \"-------------------------------------------------\"            \n",
      "                break\n",
      "            elif all_question_words_found(question_words_to_search):\n",
      "                found_element = table_q\n",
      "                reset_question_words_list(question_words_to_search)\n",
      "            else:\n",
      "                reset_question_words_list(question_words_to_search)\n",
      "                found_question_type = False\n",
      "\n",
      "        # Si hem trobat la taula que conte la pregunta desitjada, obtenim els valors de la taula seg\u00fcent amb {'rules':'groups'}\n",
      "        if found_element:\n",
      "            table_p = found_element.find_next('table', attrs={'rules':re.compile(\"^groups$\", re.I)})\n",
      "            if table_p:\n",
      "                table_p_body = table_p.find('tbody')\n",
      "                if table_p_body:\n",
      "                    table_p_rows = table_p_body.findAll('tr')\n",
      "                else:\n",
      "                    table_p_rows = table_p.findAll('tr')        \n",
      "\n",
      "                for row in table_p_rows:\n",
      "                    f_th = row.find_next('th')\n",
      "                    value_index = 0\n",
      "                    if not f_th:\n",
      "                        f_th = row.find_next('td')\n",
      "                        value_index = 1\n",
      "                    topic = remove_non_alphanumeric_chars(f_th.getText())\n",
      "                    # print \">\" + topic + \"<\"\n",
      "                    if topic!=\"\" and all(stopword not in topic for stopword in stopwords):\n",
      "                        row_tds = row.findAll('td')\n",
      "                        if len(row_tds) > 3:\n",
      "                            # taula del tipus: Primer problema | Segundo problema | Tercer problema | Total\n",
      "                            f_td = row_tds[3]\n",
      "                        else:\n",
      "                            # taula del tipus: <topics> | . % | . (N)\n",
      "                            f_td = row_tds[value_index]\n",
      "                        value = float(f_td.getText().replace(',','.'))\n",
      "                        question_topics_values.append((topic,value))\n",
      "            else:\n",
      "                if verbose:\n",
      "                    print \"'table', attrs={'rules':re.compile('^groups$', re.I)}:\", \"not found\"                \n",
      "        else:\n",
      "            if verbose:\n",
      "                print \"Question words:\", question_words_to_search, \"not found\"\n",
      "\n",
      "        # Obtenim una llista de tuples, cada tupla t\u00e9 dos valors: 'el problema' i el percentatge \n",
      "        # Ordenem la llista 'question_topics_value' per percentatge\n",
      "        question_topics_values.sort(key=lambda tup: tup[1], reverse=True)\n",
      "    else:\n",
      "        if verbose:\n",
      "            print \"Element not found: 'table', {'class' : 'SysTitleAndFooterContainer'}\"\n",
      "    \n",
      "    return question_topics_values"
     ],
     "language": "python",
     "metadata": {},
     "outputs": [],
     "prompt_number": 114
    },
    {
     "cell_type": "heading",
     "level": 4,
     "metadata": {},
     "source": [
      "Proc\u00e9s per a la extracci\u00f3 de la informaci\u00f3 dels documents del bar\u00f2metre (actualitza la BBDD)"
     ]
    },
    {
     "cell_type": "code",
     "collapsed": false,
     "input": [
      "from gridfs import GridFS\n",
      "\n",
      "#\n",
      "barometro_docs_collection = db['barometro_docs']\n",
      "fs = GridFS(db, 'barometro_docs')\n",
      "\n",
      "doc_format_change = \"01/10/2013\"\n",
      "d_doc_format_change = datetime.datetime.strptime(doc_format_change, \"%d/%m/%Y\")\n",
      "\n",
      "doc_start_date = \"01/01/1993\"\n",
      "d_doc_start_date = datetime.datetime.strptime(doc_start_date, \"%d/%m/%Y\")\n",
      "d_doc_end_date = datetime.datetime.utcnow()\n",
      "result = barometro_docs_collection.find({'date': {'$gte': d_doc_start_date, '$lte': d_doc_end_date}}).sort('date',DESCENDING)\n",
      "\n",
      "if result.count() > 0 :\n",
      "    print \"Num. of docs:\", result.count()\n",
      "    \n",
      "    for doc in result:\n",
      "        if doc['doc_type'] == 'text/html':\n",
      "            print \"\\n\", doc['title'], \", date:\", doc['date'], \", doc_type:\", doc['doc_type']\n",
      "            print \"URL:\", doc['url']\n",
      "\n",
      "            parse_results = []\n",
      "            if doc['date'] > d_doc_format_change:\n",
      "                parse_results =  parse_barometer_CIS_doc(fs.get(doc['id_raw_doc']).read(), True)\n",
      "                if len(parse_results) > 0:\n",
      "                    print parse_results\n",
      "                else:\n",
      "                    print \"No results.\"\n",
      "            else:\n",
      "                parse_results =  parse_barometer_CIS_doc_v2(fs.get(doc['id_raw_doc']).read(), True)\n",
      "                if len(parse_results) > 0:\n",
      "                    print parse_results\n",
      "                else:\n",
      "                    parse_results =  parse_barometer_CIS_doc_v3(fs.get(doc['id_raw_doc']).read(), True)\n",
      "                    if len(parse_results) > 0:\n",
      "                        print parse_results\n",
      "                    else:\n",
      "                        print \"No results.\"\n",
      "                        \n",
      "            # http://docs.mongodb.org/manual/tutorial/modify-documents/\n",
      "            barometro_docs_collection.update({'_id':doc['_id']}, \\\n",
      "                       {'$set':{'barometro_dict':parse_results, 'updated_barometro_dict':datetime.datetime.utcnow()}}, \\\n",
      "                       upsert=False, multi=False)\n",
      "\n",
      "        elif doc['doc_type'] == 'application/pdf':\n",
      "            print doc['title'], \", date:\", doc['date'], \", doc_type:\", doc['doc_type']\n",
      "            print \"Under construction.\"\n",
      "            # print \">\" + convert_pdf_from_stream_to_txt(fs.get(doc['id_raw_doc'])) + \"<\"\n",
      "\n",
      "        else:\n",
      "            print \"Unknown doc_type:\", doc['doc_type']\n"
     ],
     "language": "python",
     "metadata": {},
     "outputs": [
      {
       "output_type": "stream",
       "stream": "stdout",
       "text": [
        "Num. of docs: 229\n",
        "\n",
        "BAR\u00d3METRO DE ENERO 2015 , date: 2015-01-02 00:00:00 , doc_type: text/html\n",
        "URL: http://www.cis.es/cis/export/sites/default/-Archivos/Marginales/3040_3059/3050/es3050mar.html\n",
        "-------------------------------------------------"
       ]
      },
      {
       "output_type": "stream",
       "stream": "stdout",
       "text": [
        "\n",
        "9 : Pregunta 7A --> \u00bfCu\u00e1l es, a su juicio, el principal problema que existe actualmente en Espa\u00f1a? \u00bfY el segundo? \u00bfY el tercero?\u00a0(MULTIRRESPUESTA).\n",
        "-------------------------------------------------\n",
        "[(u'El paro', 79.4), (u'La corrupci\\xf3n y el fraude', 55.5), (u'Los problemas de \\xedndole econ\\xf3mica', 24.5), (u'Los/as pol\\xedticos/as en general, los partidos y la pol\\xedtica', 21.8), (u'La sanidad', 10.2), (u'Los problemas de \\xedndole social', 9.8), (u'La educaci\\xf3n', 7.1), (u'Otras respuestas', 4.6), (u'Los problemas relacionados con la calidad del empleo', 3.7), (u'\"Los recortes\"', 3.4), (u'El Gobierno y partidos o pol\\xedticos/as concretos', 2.8), (u'La inseguridad ciudadana', 2.6), (u'La inmigraci\\xf3n', 2.3), (u'La Administraci\\xf3n de Justicia', 2.2), (u'Las pensiones', 2.0), (u'Los problemas relacionados con la juventud', 1.8), (u'Los desahucios', 1.8), (u'La crisis de valores', 1.7), (u'La vivienda', 1.5), (u'Los bancos', 1.5), (u'El terrorismo, ETA', 1.1), (u'Los nacionalismos', 1.1), (u'La subida del IVA', 0.8), (u'N.S.', 0.8), (u'La violencia contra la mujer', 0.4), (u'El terrorismo internacional', 0.4), (u'El fraude fiscal', 0.4), (u'El funcionamiento de los servicios p\\xfablicos', 0.3), (u'La Monarqu\\xeda', 0.3), (u'Las infraestructuras', 0.2), (u'El racismo', 0.2), (u'N.C.', 0.2), (u'Las drogas', 0.1), (u'Los problemas de la agricultura, ganader\\xeda y pesca', 0.1), (u'Los problemas medioambientales', 0.1), (u'Las preocupaciones y situaciones personales', 0.1), (u'Estatutos de autonom\\xeda', 0.1), (u'Las hipotecas', 0.1), (u'Subida de tarifas energ\\xe9ticas', 0.1), (u'Ninguno', 0.1), (u'Reforma Laboral', 0.0), (u'La Ley del aborto', 0.0)]\n",
        "\n",
        "BAR\u00d3METRO DE DICIEMBRE 2014 , date: 2014-12-01 00:00:00 , doc_type: text/html\n",
        "URL: http://www.cis.es/cis/export/sites/default/-Archivos/Marginales/3040_3059/3047/es3047mar.html\n",
        "-------------------------------------------------"
       ]
      },
      {
       "output_type": "stream",
       "stream": "stdout",
       "text": [
        "\n",
        "9 : Pregunta 7A --> \u00bfCu\u00e1l es, a su juicio, el principal problema que existe actualmente en Espa\u00f1a? \u00bfY el segundo? \u00bfY el tercero?\u00a0(MULTIRRESPUESTA).\n",
        "-------------------------------------------------\n",
        "[(u'El paro', 75.5), (u'La corrupci\\xf3n y el fraude', 60.0), (u'Los problemas de \\xedndole econ\\xf3mica', 24.9), (u'Los/as pol\\xedticos/as en general, los partidos y la pol\\xedtica', 21.8), (u'Los problemas de \\xedndole social', 10.8), (u'La sanidad', 10.6), (u'La educaci\\xf3n', 7.5), (u'Los problemas relacionados con la calidad del empleo', 4.9), (u'La inseguridad ciudadana', 3.4), (u'Otras respuestas', 3.4), (u'\"Los recortes\"', 2.8), (u'El Gobierno y partidos o pol\\xedticos/as concretos', 2.6), (u'La Administraci\\xf3n de Justicia', 2.5), (u'La crisis de valores', 2.4), (u'Las pensiones', 2.1), (u'Los problemas relacionados con la juventud', 2.0), (u'La inmigraci\\xf3n', 1.9), (u'Los desahucios', 1.8), (u'Los nacionalismos', 1.7), (u'Los bancos', 1.1), (u'La vivienda', 1.0), (u'La violencia contra la mujer', 1.0), (u'La subida del IVA', 0.8), (u'El terrorismo, ETA', 0.5), (u'N.S.', 0.4), (u'Los problemas de la agricultura, ganader\\xeda y pesca', 0.3), (u'El funcionamiento de los servicios p\\xfablicos', 0.3), (u'Las drogas', 0.2), (u'Los problemas medioambientales', 0.2), (u'Estatutos de autonom\\xeda', 0.2), (u'El fraude fiscal', 0.2), (u'Las infraestructuras', 0.1), (u'El terrorismo internacional', 0.1), (u'Las hipotecas', 0.1), (u'Ninguno', 0.1), (u'N.C.', 0.1), (u'Las guerras en general', 0.0), (u'El racismo', 0.0), (u'Los problemas relacionados con la mujer', 0.0), (u'La Monarqu\\xeda', 0.0), (u'La Ley del aborto', 0.0), (u'Subida de tarifas energ\\xe9ticas', 0.0)]\n",
        "\n",
        "BAR\u00d3METRO DE NOVIEMBRE 2014 , date: 2014-11-04 00:00:00 , doc_type: text/html\n",
        "URL: http://www.cis.es/cis/export/sites/default/-Archivos/Marginales/3040_3059/3045/es3045mar.html\n",
        "-------------------------------------------------"
       ]
      },
      {
       "output_type": "stream",
       "stream": "stdout",
       "text": [
        "\n",
        "9 : Pregunta 7A --> \u00bfCu\u00e1l es, a su juicio, el principal problema que existe actualmente en Espa\u00f1a? \u00bfY el segundo? \u00bfY el tercero?\u00a0(MULTIRRESPUESTA).\n",
        "-------------------------------------------------\n",
        "[(u'El paro', 77.0), (u'La corrupci\\xf3n y el fraude', 63.8), (u'Los problemas de \\xedndole econ\\xf3mica', 25.5), (u'Los/as pol\\xedticos/as en general, los partidos y la pol\\xedtica', 23.3), (u'Los problemas de \\xedndole social', 8.9), (u'La sanidad', 8.6), (u'La educaci\\xf3n', 7.7), (u'Otras respuestas', 5.9), (u'\"Los recortes\"', 4.1), (u'La Administraci\\xf3n de Justicia', 3.6), (u'El Gobierno y partidos o pol\\xedticos/as concretos', 2.8), (u'La inmigraci\\xf3n', 2.5), (u'Los problemas relacionados con la calidad del empleo', 2.4), (u'La crisis de valores', 2.2), (u'La inseguridad ciudadana', 1.7), (u'Las pensiones', 1.7), (u'Los nacionalismos', 1.4), (u'Los problemas relacionados con la juventud', 1.3), (u'La subida del IVA', 1.2), (u'Los bancos', 1.1), (u'La vivienda', 0.9), (u'Los desahucios', 0.8), (u'N.S.', 0.5), (u'La violencia contra la mujer', 0.4), (u'El funcionamiento de los servicios p\\xfablicos', 0.4), (u'Estatutos de autonom\\xeda', 0.4), (u'El fraude fiscal', 0.4), (u'Las drogas', 0.3), (u'La Monarqu\\xeda', 0.3), (u'Reforma Laboral', 0.2), (u'Subida de tarifas energ\\xe9ticas', 0.2), (u'N.C.', 0.2), (u'El terrorismo, ETA', 0.1), (u'Las infraestructuras', 0.1), (u'Los problemas de la agricultura, ganader\\xeda y pesca', 0.1), (u'Los problemas medioambientales', 0.1), (u'Las preocupaciones y situaciones personales', 0.1), (u'Las hipotecas', 0.1), (u'Ninguno', 0.1), (u'Las excarcelaciones', 0.0), (u'\\xc9bola', 0.0)]\n",
        "\n",
        "BAR\u00d3METRO DE OCTUBRE 2014 , date: 2014-10-01 00:00:00 , doc_type: text/html\n",
        "URL: http://www.cis.es/cis/export/sites/default/-Archivos/Marginales/3040_3059/3041/es3041mar.html\n",
        "-------------------------------------------------"
       ]
      },
      {
       "output_type": "stream",
       "stream": "stdout",
       "text": [
        "\n",
        "9 : Pregunta 7A --> \u00bfCu\u00e1l es, a su juicio, el principal problema que existe actualmente en Espa\u00f1a? \u00bfY el segundo? \u00bfY el tercero?\u00a0(MULTIRRESPUESTA).\n",
        "-------------------------------------------------\n",
        "[(u'El paro', 76.0), (u'La corrupci\\xf3n y el fraude', 42.3), (u'Los problemas de \\xedndole econ\\xf3mica', 27.0), (u'Los/as pol\\xedticos/as en general, los partidos y la pol\\xedtica', 23.2), (u'La sanidad', 11.8), (u'La educaci\\xf3n', 9.1), (u'Los problemas de \\xedndole social', 7.8), (u'Los problemas relacionados con la calidad del empleo', 4.8), (u'\"Los recortes\"', 4.8), (u'Los nacionalismos', 3.4), (u'Otras respuestas', 3.4), (u'La inmigraci\\xf3n', 3.0), (u'La inseguridad ciudadana', 2.9), (u'El Gobierno y partidos o pol\\xedticos/as concretos', 2.9), (u'La crisis de valores', 2.5), (u'La Administraci\\xf3n de Justicia', 2.3), (u'Las pensiones', 2.2), (u'Los problemas relacionados con la juventud', 2.1), (u'Los bancos', 1.6), (u'Los desahucios', 1.4), (u'La vivienda', 1.3), (u'La subida del IVA', 1.1), (u'\\xc9bola', 1.1), (u'La violencia contra la mujer', 0.5), (u'El funcionamiento de los servicios p\\xfablicos', 0.5), (u'El fraude fiscal', 0.5), (u'N.S.', 0.5), (u'El terrorismo, ETA', 0.4), (u'Estatutos de autonom\\xeda', 0.4), (u'Las drogas', 0.3), (u'Los problemas medioambientales', 0.2), (u'Las hipotecas', 0.2), (u'La Monarqu\\xeda', 0.2), (u'Los problemas de la agricultura, ganader\\xeda y pesca', 0.1), (u'Los problemas relacionados con la mujer', 0.1), (u'El terrorismo internacional', 0.1), (u'La Ley del aborto', 0.1), (u'Subida de tarifas energ\\xe9ticas', 0.1), (u'Ninguno', 0.1), (u'N.C.', 0.1), (u'Las infraestructuras', 0.0), (u'Las guerras en general', 0.0), (u'El racismo', 0.0), (u'Reforma Laboral', 0.0)]\n",
        "\n",
        "BAR\u00d3METRO DE SEPTIEMBRE 2014 , date: 2014-09-02 00:00:00 , doc_type: text/html\n",
        "URL: http://www.cis.es/cis/export/sites/default/-Archivos/Marginales/3020_3039/3038/es3038mar.html\n",
        "-------------------------------------------------"
       ]
      },
      {
       "output_type": "stream",
       "stream": "stdout",
       "text": [
        "\n",
        "7 : Pregunta 7A --> \u00bfCu\u00e1l es, a su juicio, el principal problema que existe actualmente en Espa\u00f1a? \u00bfY el segundo? \u00bfY el tercero?\u00a0(MULTIRRESPUESTA).\n",
        "-------------------------------------------------\n",
        "[(u'El paro', 75.3), (u'La corrupci\\xf3n y el fraude', 42.7), (u'Los problemas de \\xedndole econ\\xf3mica', 28.8), (u'Los/as pol\\xedticos/as en general, los partidos y la pol\\xedtica', 25.8), (u'La sanidad', 11.5), (u'La educaci\\xf3n', 9.6), (u'Los problemas de \\xedndole social', 7.7), (u'Los problemas relacionados con la calidad del empleo', 5.0), (u'Otras respuestas', 4.9), (u'La inmigraci\\xf3n', 3.6), (u'\"Los recortes\"', 3.6), (u'La inseguridad ciudadana', 3.2), (u'El Gobierno y partidos o pol\\xedticos/as concretos', 3.1), (u'Los problemas relacionados con la juventud', 2.7), (u'La crisis de valores', 2.2), (u'Los nacionalismos', 2.2), (u'Los bancos', 2.2), (u'La Administraci\\xf3n de Justicia', 1.8), (u'Las pensiones', 1.7), (u'La vivienda', 1.6), (u'La violencia contra la mujer', 1.2), (u'La subida del IVA', 0.9), (u'Los desahucios', 0.9), (u'N.S.', 0.7), (u'El terrorismo, ETA', 0.6), (u'El funcionamiento de los servicios p\\xfablicos', 0.5), (u'El fraude fiscal', 0.5), (u'N.C.', 0.5), (u'Las drogas', 0.3), (u'Los problemas de la agricultura, ganader\\xeda y pesca', 0.2), (u'Estatutos de autonom\\xeda', 0.2), (u'La Monarqu\\xeda', 0.2), (u'Los problemas medioambientales', 0.1), (u'Los problemas relacionados con la mujer', 0.1), (u'Las preocupaciones y situaciones personales', 0.1), (u'Las hipotecas', 0.1), (u'La Ley del aborto', 0.1), (u'Subida de tarifas energ\\xe9ticas', 0.1), (u'Ninguno', 0.1), (u'Las infraestructuras', 0.0), (u'Las guerras en general', 0.0), (u'El racismo', 0.0), (u'Reforma Laboral', 0.0)]\n",
        "\n",
        "BAR\u00d3METRO DE JULIO 2014 , date: 2014-07-01 00:00:00 , doc_type: text/html\n",
        "URL: http://www.cis.es/cis/export/sites/default/-Archivos/Marginales/3020_3039/3033/es3033mar_HTML.html\n",
        "-------------------------------------------------"
       ]
      },
      {
       "output_type": "stream",
       "stream": "stdout",
       "text": [
        "\n",
        "9 : Pregunta 7A --> \u00bfCu\u00e1l es, a su juicio, el principal problema que existe actualmente en Espa\u00f1a? \u00bfY el segundo? \u00bfY el tercero?\u00a0(MULTIRRESPUESTA).\n",
        "-------------------------------------------------\n",
        "[(u'El paro', 77.0), (u'La corrupci\\xf3n y el fraude', 41.5), (u'Los problemas de \\xedndole econ\\xf3mica', 28.0), (u'Los/as pol\\xedticos/as en general, los partidos y la pol\\xedtica', 26.4), (u'La sanidad', 11.3), (u'Los problemas de \\xedndole social', 10.1), (u'La educaci\\xf3n', 8.6), (u'Otras respuestas', 5.3), (u'\"Los recortes\"', 3.7), (u'El Gobierno y partidos o pol\\xedticos/as concretos', 3.1), (u'La inmigraci\\xf3n', 2.8), (u'La inseguridad ciudadana', 2.5), (u'Los problemas relacionados con la calidad del empleo', 2.5), (u'La Administraci\\xf3n de Justicia', 2.5), (u'Los problemas relacionados con la juventud', 2.5), (u'Los nacionalismos', 2.2), (u'La crisis de valores', 1.8), (u'La vivienda', 1.6), (u'Los bancos', 1.6), (u'Las pensiones', 1.5), (u'Los desahucios', 1.4), (u'La subida del IVA', 1.3), (u'El fraude fiscal', 0.8), (u'N.S.', 0.8), (u'El terrorismo, ETA', 0.5), (u'Los problemas de la agricultura, ganader\\xeda y pesca', 0.4), (u'La violencia contra la mujer', 0.4), (u'El funcionamiento de los servicios p\\xfablicos', 0.4), (u'La Monarqu\\xeda', 0.4), (u'Las preocupaciones y situaciones personales', 0.3), (u'Las drogas', 0.2), (u'Los problemas medioambientales', 0.2), (u'N.C.', 0.2), (u'Las infraestructuras', 0.1), (u'Estatutos de autonom\\xeda', 0.1), (u'Las hipotecas', 0.1), (u'La Ley del aborto', 0.1), (u'Las guerras en general', 0.0), (u'Reforma Laboral', 0.0), (u'Subida de tarifas energ\\xe9ticas', 0.0), (u'Ninguno', 0.0)]\n",
        "\n",
        "BAR\u00d3METRO DE JUNIO 2014 , date: 2014-06-02 00:00:00 , doc_type: text/html\n",
        "URL: http://www.cis.es/cis/export/sites/default/-Archivos/Marginales/3020_3039/3029/es3029mar.html\n",
        "-------------------------------------------------"
       ]
      },
      {
       "output_type": "stream",
       "stream": "stdout",
       "text": [
        "\n",
        "9 : Pregunta 7A --> \u00bfCu\u00e1l es, a su juicio, el principal problema que existe actualmente en Espa\u00f1a? \u00bfY el segundo? \u00bfY el tercero? (MULTIRRESPUESTA).\n",
        "-------------------------------------------------\n",
        "[(u'El paro', 76.8), (u'La corrupci\\xf3n y el fraude', 38.8), (u'Los problemas de \\xedndole econ\\xf3mica', 28.4), (u'Los/as pol\\xedticos/as en general, los partidos y la pol\\xedtica', 28.0), (u'La sanidad', 11.5), (u'Los problemas de \\xedndole social', 9.0), (u'La educaci\\xf3n', 7.3), (u'Los problemas relacionados con la calidad del empleo', 4.7), (u'Otras respuestas', 3.9), (u'\"Los recortes\"', 3.4), (u'La inmigraci\\xf3n', 3.1), (u'El Gobierno y partidos o pol\\xedticos/as concretos', 2.9), (u'La Administraci\\xf3n de Justicia', 2.3), (u'La crisis de valores', 2.3), (u'Los problemas relacionados con la juventud', 2.2), (u'Los bancos', 2.2), (u'Las pensiones', 2.1), (u'Los desahucios', 1.9), (u'La inseguridad ciudadana', 1.6), (u'La vivienda', 1.6), (u'La subida del IVA', 1.6), (u'Los nacionalismos', 1.3), (u'La Monarqu\\xeda', 1.1), (u'N.S.', 1.0), (u'El funcionamiento de los servicios p\\xfablicos', 0.7), (u'El terrorismo, ETA', 0.5), (u'La violencia contra la mujer', 0.5), (u'El fraude fiscal', 0.4), (u'Las hipotecas', 0.4), (u'Ninguno', 0.4), (u'Estatutos de autonom\\xeda', 0.3), (u'Las drogas', 0.2), (u'Las infraestructuras', 0.2), (u'Los problemas medioambientales', 0.2), (u'Los problemas de la agricultura, ganader\\xeda y pesca', 0.1), (u'El racismo', 0.1), (u'Las preocupaciones y situaciones personales', 0.1), (u'Reforma Laboral', 0.1), (u'Las excarcelaciones', 0.1), (u'Los problemas relacionados con la mujer', 0.0), (u'El terrorismo internacional', 0.0), (u'La Ley del aborto', 0.0), (u'N.C.', 0.0)]\n",
        "\n",
        "BAR\u00d3METRO DE MAYO 2014 , date: 2014-05-01 00:00:00 , doc_type: text/html\n",
        "URL: http://www.cis.es/cis/export/sites/default/-Archivos/Marginales/3020_3039/3024/es3024mar.html\n",
        "-------------------------------------------------"
       ]
      },
      {
       "output_type": "stream",
       "stream": "stdout",
       "text": [
        "\n",
        "9 : Pregunta 7A --> \u00bfCu\u00e1l es, a su juicio, el principal problema que existe actualmente en Espa\u00f1a? \u00bfY el segundo? \u00bfY el tercero?\u00a0(MULTIRRESPUESTA).\n",
        "-------------------------------------------------\n",
        "[(u'El paro', 80.8), (u'La corrupci\\xf3n y el fraude', 35.7), (u'Los problemas de \\xedndole econ\\xf3mica', 28.6), (u'Los/as pol\\xedticos/as en general, los partidos y la pol\\xedtica', 25.6), (u'La sanidad', 10.4), (u'La educaci\\xf3n', 8.7), (u'Los problemas de \\xedndole social', 7.9), (u'Otras respuestas', 5.3), (u'\"Los recortes\"', 4.8), (u'La inmigraci\\xf3n', 4.3), (u'El Gobierno y partidos o pol\\xedticos/as concretos', 3.2), (u'Los problemas relacionados con la calidad del empleo', 3.0), (u'La inseguridad ciudadana', 2.8), (u'Los problemas relacionados con la juventud', 2.4), (u'La crisis de valores', 2.3), (u'Las pensiones', 2.1), (u'La Administraci\\xf3n de Justicia', 2.0), (u'Los bancos', 2.0), (u'La subida del IVA', 1.5), (u'Los nacionalismos', 1.4), (u'La vivienda', 1.3), (u'Los desahucios', 1.1), (u'La violencia contra la mujer', 0.9), (u'N.S.', 0.8), (u'El fraude fiscal', 0.7), (u'El terrorismo, ETA', 0.4), (u'El funcionamiento de los servicios p\\xfablicos', 0.4), (u'Las hipotecas', 0.2), (u'La Monarqu\\xeda', 0.2), (u'Subida de tarifas energ\\xe9ticas', 0.2), (u'Ninguno', 0.2), (u'Las drogas', 0.1), (u'Los problemas medioambientales', 0.1), (u'Las preocupaciones y situaciones personales', 0.1), (u'Estatutos de autonom\\xeda', 0.1), (u'N.C.', 0.1), (u'Las infraestructuras', 0.0), (u'Los problemas de la agricultura, ganader\\xeda y pesca', 0.0), (u'Las guerras en general', 0.0), (u'El racismo', 0.0), (u'Las negociaciones con ETA', 0.0), (u'Reforma Laboral', 0.0)]\n",
        "\n",
        "BAR\u00d3METRO DE ABRIL 2014 , date: 2014-04-01 00:00:00 , doc_type: text/html\n",
        "URL: http://www.cis.es/cis/export/sites/default/-Archivos/Marginales/3020_3039/3021/es3021mar.html\n",
        "-------------------------------------------------"
       ]
      },
      {
       "output_type": "stream",
       "stream": "stdout",
       "text": [
        "\n",
        "9 : Pregunta 7A --> \u00bfCu\u00e1l es, a su juicio, el principal problema que existe actualmente en Espa\u00f1a? \u00bfY el segundo? \u00bfY el tercero?\u00a0(MULTIRRESPUESTA).\n",
        "-------------------------------------------------\n",
        "[(u'El paro', 80.3), (u'La corrupci\\xf3n y el fraude', 36.3), (u'Los problemas de \\xedndole econ\\xf3mica', 28.0), (u'Los/as pol\\xedticos/as en general, los partidos y la pol\\xedtica', 26.0), (u'La sanidad', 10.4), (u'Los problemas de \\xedndole social', 9.4), (u'La educaci\\xf3n', 9.0), (u'La inmigraci\\xf3n', 5.9), (u'Otras respuestas', 5.2), (u'\"Los recortes\"', 3.8), (u'El Gobierno y partidos o pol\\xedticos/as concretos', 3.7), (u'La inseguridad ciudadana', 3.1), (u'La Administraci\\xf3n de Justicia', 2.8), (u'Los bancos', 2.5), (u'Los problemas relacionados con la calidad del empleo', 2.2), (u'La crisis de valores', 1.9), (u'Las pensiones', 1.8), (u'Los problemas relacionados con la juventud', 1.8), (u'La subida del IVA', 1.8), (u'La vivienda', 1.7), (u'Los nacionalismos', 1.3), (u'Los desahucios', 1.1), (u'El terrorismo, ETA', 0.7), (u'El funcionamiento de los servicios p\\xfablicos', 0.6), (u'El fraude fiscal', 0.6), (u'N.S.', 0.6), (u'La violencia contra la mujer', 0.4), (u'La Monarqu\\xeda', 0.4), (u'Las drogas', 0.3), (u'Subida de tarifas energ\\xe9ticas', 0.3), (u'Los problemas medioambientales', 0.2), (u'Las preocupaciones y situaciones personales', 0.2), (u'Estatutos de autonom\\xeda', 0.2), (u'Las hipotecas', 0.2), (u'N.C.', 0.2), (u'Los problemas de la agricultura, ganader\\xeda y pesca', 0.1), (u'Los problemas relacionados con la mujer', 0.1), (u'Reforma Laboral', 0.1), (u'Las infraestructuras', 0.0), (u'Las guerras en general', 0.0), (u'El racismo', 0.0), (u'Las excarcelaciones', 0.0)]\n",
        "\n",
        "BAR\u00d3METRO DE MARZO 2014 , date: 2014-03-01 00:00:00 , doc_type: text/html\n",
        "URL: http://www.cis.es/cis/export/sites/default/-Archivos/Marginales/3000_3019/3017/es3017mar.html\n",
        "-------------------------------------------------"
       ]
      },
      {
       "output_type": "stream",
       "stream": "stdout",
       "text": [
        "\n",
        "9 : Pregunta 7A --> \u00bfCu\u00e1l es, a su juicio, el principal problema que existe actualmente en Espa\u00f1a? \u00bfY el segundo? \u00bfY el tercero?\u00a0(MULTIRRESPUESTA).\n",
        "-------------------------------------------------\n",
        "[(u'El paro', 82.3), (u'La corrupci\\xf3n y el fraude', 41.0), (u'Los problemas de \\xedndole econ\\xf3mica', 28.2), (u'Los/as pol\\xedticos/as en general, los partidos y la pol\\xedtica', 26.0), (u'La sanidad', 10.2), (u'La educaci\\xf3n', 8.7), (u'Los problemas de \\xedndole social', 7.4), (u'La inmigraci\\xf3n', 5.1), (u'Otras respuestas', 4.6), (u'\"Los recortes\"', 3.5), (u'El Gobierno y partidos o pol\\xedticos/as concretos', 3.0), (u'La crisis de valores', 2.6), (u'Los problemas relacionados con la calidad del empleo', 2.3), (u'La Administraci\\xf3n de Justicia', 2.3), (u'Los problemas relacionados con la juventud', 2.3), (u'Los bancos', 2.2), (u'La inseguridad ciudadana', 2.0), (u'Las pensiones', 1.9), (u'La vivienda', 1.6), (u'La subida del IVA', 1.5), (u'Los desahucios', 1.4), (u'El terrorismo, ETA', 0.9), (u'La violencia contra la mujer', 0.7), (u'Los nacionalismos', 0.6), (u'El fraude fiscal', 0.6), (u'N.S.', 0.5), (u'La Monarqu\\xeda', 0.4), (u'Las hipotecas', 0.3), (u'Las infraestructuras', 0.2), (u'El funcionamiento de los servicios p\\xfablicos', 0.2), (u'La Ley del aborto', 0.2), (u'Subida de tarifas energ\\xe9ticas', 0.2), (u'N.C.', 0.2), (u'Las drogas', 0.1), (u'Los problemas de la agricultura, ganader\\xeda y pesca', 0.1), (u'Las guerras en general', 0.1), (u'Los problemas relacionados con la mujer', 0.1), (u'Las preocupaciones y situaciones personales', 0.1), (u'Estatutos de autonom\\xeda', 0.1), (u'Reforma Laboral', 0.1), (u'Las excarcelaciones', 0.1), (u'El racismo', 0.0), (u'Los problemas medioambientales', 0.0), (u'Las negociaciones con ETA', 0.0)]\n",
        "\n",
        "BAR\u00d3METRO DE FEBRERO 2014 , date: 2014-02-01 00:00:00 , doc_type: text/html\n",
        "URL: http://www.cis.es/cis/export/sites/default/-Archivos/Marginales/3000_3019/3013/es3013mar.html\n",
        "-------------------------------------------------"
       ]
      },
      {
       "output_type": "stream",
       "stream": "stdout",
       "text": [
        "\n",
        "7 : Pregunta 7A --> \u00bfCu\u00e1l es, a su juicio, el principal problema que existe actualmente en Espa\u00f1a? \u00bfY el segundo? \u00bfY el tercero?\u00a0(MULTIRRESPUESTA).\n",
        "-------------------------------------------------\n",
        "[(u'El paro', 81.1), (u'La corrupci\\xf3n y el fraude', 44.2), (u'Los problemas de \\xedndole econ\\xf3mica', 28.3), (u'Los/as pol\\xedticos/as en general, los partidos y la pol\\xedtica', 24.2), (u'La sanidad', 10.8), (u'La educaci\\xf3n', 8.6), (u'Los problemas de \\xedndole social', 8.4), (u'Otras respuestas', 4.8), (u'\"Los recortes\"', 4.1), (u'El Gobierno y partidos o pol\\xedticos/as concretos', 3.2), (u'La Administraci\\xf3n de Justicia', 3.0), (u'La crisis de valores', 2.8), (u'Los bancos', 2.4), (u'La inseguridad ciudadana', 2.3), (u'Los problemas relacionados con la calidad del empleo', 2.3), (u'Las pensiones', 2.2), (u'La inmigraci\\xf3n', 2.1), (u'Los problemas relacionados con la juventud', 2.1), (u'La subida del IVA', 2.1), (u'La vivienda', 1.6), (u'Los desahucios', 1.4), (u'El terrorismo, ETA', 1.2), (u'Los nacionalismos', 1.2), (u'El fraude fiscal', 0.8), (u'El funcionamiento de los servicios p\\xfablicos', 0.6), (u'N.S.', 0.6), (u'La Monarqu\\xeda', 0.5), (u'Subida de tarifas energ\\xe9ticas', 0.5), (u'La violencia contra la mujer', 0.4), (u'La Ley del aborto', 0.3), (u'Las drogas', 0.2), (u'Reforma Laboral', 0.2), (u'Las hipotecas', 0.2), (u'N.C.', 0.2), (u'Los problemas de la agricultura, ganader\\xeda y pesca', 0.1), (u'Los problemas medioambientales', 0.1), (u'Las preocupaciones y situaciones personales', 0.1), (u'Las excarcelaciones', 0.1), (u'Ninguno', 0.1), (u'Las guerras en general', 0.0), (u'Los problemas relacionados con la mujer', 0.0), (u'Estatutos de autonom\\xeda', 0.0)]\n",
        "\n",
        "BAR\u00d3METRO DE ENERO 2014 , date: 2014-01-03 00:00:00 , doc_type: text/html\n",
        "URL: http://www.cis.es/cis/export/sites/default/-Archivos/Marginales/3000_3019/3011/es3011mar.html\n",
        "-------------------------------------------------"
       ]
      },
      {
       "output_type": "stream",
       "stream": "stdout",
       "text": [
        "\n",
        "7 : Pregunta 7A --> \u00bfCu\u00e1l es, a su juicio, el principal problema que existe actualmente en Espa\u00f1a? \u00bfY el segundo? \u00bfY el tercero?\u00a0(MULTIRRESPUESTA).\n",
        "-------------------------------------------------\n",
        "[(u'El paro', 78.5), (u'La corrupci\\xf3n y el fraude', 39.5), (u'Los problemas de \\xedndole econ\\xf3mica', 30.5), (u'Los/as pol\\xedticos/as en general, los partidos y la pol\\xedtica', 26.9), (u'La sanidad', 11.6), (u'Los problemas de \\xedndole social', 7.5), (u'La educaci\\xf3n', 7.4), (u'Otras respuestas', 5.0), (u'\"Los recortes\"', 4.0), (u'El Gobierno y partidos o pol\\xedticos/as concretos', 3.7), (u'La Administraci\\xf3n de Justicia', 3.2), (u'La crisis de valores', 2.5), (u'Los bancos', 2.5), (u'Las pensiones', 2.4), (u'La inseguridad ciudadana', 2.3), (u'Los problemas relacionados con la calidad del empleo', 2.3), (u'La inmigraci\\xf3n', 2.2), (u'Los problemas relacionados con la juventud', 1.9), (u'Los nacionalismos', 1.6), (u'El terrorismo, ETA', 1.5), (u'La vivienda', 1.5), (u'La subida del IVA', 1.2), (u'Los desahucios', 1.2), (u'El funcionamiento de los servicios p\\xfablicos', 0.9), (u'La Monarqu\\xeda', 0.6), (u'Las excarcelaciones', 0.5), (u'N.S.', 0.4), (u'La violencia contra la mujer', 0.3), (u'Las drogas', 0.2), (u'Los problemas de la agricultura, ganader\\xeda y pesca', 0.2), (u'Reforma Laboral', 0.2), (u'Las hipotecas', 0.2), (u'La Ley del aborto', 0.2), (u'Las infraestructuras', 0.1), (u'Los problemas medioambientales', 0.1), (u'Los problemas relacionados con la mujer', 0.1), (u'Estatutos de autonom\\xeda', 0.1), (u'El fraude fiscal', 0.1), (u'Ninguno', 0.1), (u'N.C.', 0.1)]\n",
        "\n",
        "BAR\u00d3METRO DE DICIEMBRE 2013 , date: 2013-12-01 00:00:00 , doc_type: text/html\n",
        "URL: http://www.cis.es/cis/export/sites/default/-Archivos/Marginales/3000_3019/3008/es3008mar.html\n",
        "-------------------------------------------------"
       ]
      },
      {
       "output_type": "stream",
       "stream": "stdout",
       "text": [
        "\n",
        "7 : Pregunta 7A --> \u00bfCu\u00e1l es, a su juicio, el principal problema que existe actualmente en Espa\u00f1a? \u00bfY el segundo? \u00bfY el tercero?\u00a0(MULTIRRESPUESTA).\n",
        "-------------------------------------------------\n",
        "[(u'El paro', 77.0), (u'La corrupci\\xf3n y el fraude', 37.6), (u'Los problemas de \\xedndole econ\\xf3mica', 29.7), (u'Los/as pol\\xedticos/as en general, los partidos y la pol\\xedtica', 26.2), (u'La sanidad', 10.9), (u'La educaci\\xf3n', 8.4), (u'Los problemas de \\xedndole social', 8.0), (u'\"Los recortes\"', 4.8), (u'Otras respuestas', 4.7), (u'El Gobierno y partidos o pol\\xedticos/as concretos', 4.1), (u'La inseguridad ciudadana', 3.4), (u'La Administraci\\xf3n de Justicia', 3.4), (u'La crisis de valores', 3.2), (u'La inmigraci\\xf3n', 2.9), (u'Los bancos', 2.4), (u'Las pensiones', 1.9), (u'Los problemas relacionados con la calidad del empleo', 1.8), (u'Los problemas relacionados con la juventud', 1.7), (u'Las excarcelaciones', 1.6), (u'La subida del IVA', 1.4), (u'Los nacionalismos', 1.3), (u'Los desahucios', 1.2), (u'La vivienda', 0.9), (u'La violencia contra la mujer', 0.6), (u'Las drogas', 0.5), (u'El funcionamiento de los servicios p\\xfablicos', 0.5), (u'El terrorismo, ETA', 0.4), (u'El fraude fiscal', 0.4), (u'Las hipotecas', 0.4), (u'La Monarqu\\xeda', 0.4), (u'N.S.', 0.4), (u'Los problemas medioambientales', 0.2), (u'N.C.', 0.2), (u'Las infraestructuras', 0.1), (u'Los problemas de la agricultura, ganader\\xeda y pesca', 0.1), (u'El racismo', 0.1), (u'Estatutos de autonom\\xeda', 0.1), (u'Las negociaciones con ETA', 0.1), (u'Reforma Laboral', 0.1), (u'Las guerras en general', 0.0), (u'Las preocupaciones y situaciones personales', 0.0)]\n",
        "\n",
        "BAR\u00d3METRO DE NOVIEMBRE 2013 , date: 2013-11-01 00:00:00 , doc_type: text/html\n",
        "URL: http://www.cis.es/cis/export/sites/default/-Archivos/Marginales/3000_3019/3005/es3005mar.html\n",
        "-------------------------------------------------"
       ]
      },
      {
       "output_type": "stream",
       "stream": "stdout",
       "text": [
        "\n",
        "7 : Pregunta 7A --> \u00bfCu\u00e1l es, a su juicio, el principal problema que existe actualmente en Espa\u00f1a? \u00bfY el segundo? \u00bfY el tercero?\u00a0(MULTIRRESPUESTA).\n",
        "-------------------------------------------------\n",
        "[(u'El paro', 77.7), (u'La corrupci\\xf3n y el fraude', 31.8), (u'Los problemas de \\xedndole econ\\xf3mica', 31.1), (u'Los pol\\xedticos en general, los partidos y la pol\\xedtica', 29.7), (u'La sanidad', 13.0), (u'La educaci\\xf3n', 11.8), (u'Los problemas de \\xedndole social', 5.9), (u'\"Los recortes\"', 5.7), (u'Otras respuestas', 5.2), (u'El Gobierno y partidos o pol\\xedticos concretos', 4.0), (u'Las pensiones', 3.0), (u'La inmigraci\\xf3n', 3.0), (u'La crisis de valores', 3.0), (u'La Administraci\\xf3n de Justicia', 2.6), (u'Los bancos', 2.3), (u'La vivienda', 2.0), (u'La subida del IVA', 1.9), (u'La inseguridad ciudadana', 1.7), (u'Los problemas relacionados con la juventud', 1.7), (u'Los problemas relacionados con la calidad del empleo', 1.3), (u'Los desahucios', 1.3), (u'Los nacionalismos', 1.2), (u'El terrorismo, ETA', 0.9), (u'El fraude fiscal', 0.6), (u'El funcionamiento de los servicios p\\xfablicos', 0.5), (u'El Estatuto de Catalu\\xf1a', 0.5), (u'N.S.', 0.5), (u'La violencia contra la mujer', 0.3), (u'Los problemas medioambientales', 0.3), (u'La Monarqu\\xeda', 0.3), (u'Los problemas de la agricultura, ganader\\xeda y pesca', 0.2), (u'Las hipotecas', 0.2), (u'N.C.', 0.2), (u'Las drogas', 0.1), (u'El racismo', 0.1), (u'Las preocupaciones y situaciones personales', 0.1), (u'Las infraestructuras', 0.0), (u'Reforma Laboral', 0.0), (u'Ninguno', 0.0)]\n",
        "\n",
        "BAR\u00d3METRO OCTUBRE 2013 , date: 2013-10-01 00:00:00 , doc_type: text/html\n",
        "URL: http://www.cis.es/cis/export/sites/default/-Archivos/Marginales/3000_3019/3001/e300100.html\n",
        "-------------------------------------------------"
       ]
      },
      {
       "output_type": "stream",
       "stream": "stdout",
       "text": [
        "\n",
        "Question: \u00bfCu\u00e1l es, a su juicio, el principal problema que existe actualmente en Espa\u00f1a? \u00bfY el segundo? \u00bfY el tercero? (MULTIRRESPUESTA).\n",
        "-------------------------------------------------\n",
        "[(u'El paro', 77.3), (u'Los problemas de \\xedndole econ\\xf3mica', 32.7), (u'La corrupci\\xf3n y el fraude', 31.2), (u'Los pol\\xedticos en general, los partidos pol\\xedticos y la pol\\xedtica', 28.6), (u'La sanidad', 13.4), (u'La educaci\\xf3n', 9.1), (u'Los problemas de \\xedndole social', 7.4), (u'Otras respuestas', 5.8), (u'Los recortes', 5.1), (u'Las pensiones', 3.4), (u'La inmigraci\\xf3n', 3.2), (u'El Gobierno, los pol\\xedticos y los partidos concretos', 3.2), (u'La inseguridad ciudadana', 2.6), (u'Bancos', 2.4), (u'La Administraci\\xf3n de Justicia', 2.2), (u'Los problemas relacionados con la calidad del empleo', 2.0), (u'La crisis de valores', 1.9), (u'Subida del IVA', 1.7), (u'Los problemas relacionados con la juventud', 1.5), (u'La vivienda', 1.4), (u'Los nacionalismos', 1.4), (u'Desahucios', 1.1), (u'El funcionamiento de los servicios p\\xfablicos', 0.6), (u'N.S.', 0.6), (u'Hipotecas', 0.4), (u'Monarqu\\xeda', 0.4), (u'El terrorismo, ETA', 0.3), (u'Estatutos de autonom\\xeda', 0.3), (u'La reforma laboral', 0.3), (u'Fraude fiscal', 0.3), (u'Las drogas', 0.2), (u'Los problemas de la agricultura, ganader\\xeda y pesca', 0.2), (u'La violencia contra la mujer', 0.2), (u'N.C.', 0.2), (u'El racismo', 0.1), (u'Las preocupaciones y situaciones personales', 0.1), (u'Las infraestructuras', 0.0), (u'Las guerras en general', 0.0), (u'Los problemas medioambientales', 0.0), (u'Los problemas relacionados con la mujer', 0.0), (u'El terrorismo internacional', 0.0), (u'Las negociaciones con ETA', 0.0), (u'Ninguno', 0.0)]\n",
        "\n",
        "BAR\u00d3METRO SEPTIEMBRE 2013 , date: 2013-09-03 00:00:00 , doc_type: text/html\n",
        "URL: http://www.cis.es/cis/export/sites/default/-Archivos/Marginales/2980_2999/2997/e299700.html\n",
        "-------------------------------------------------"
       ]
      },
      {
       "output_type": "stream",
       "stream": "stdout",
       "text": [
        "\n",
        "Question: \u00bfCu\u00e1l es, a su juicio, el principal problema que existe actualmente en Espa\u00f1a? \u00bfY el segundo? \u00bfY el tercero? (MULTIRRESPUESTA).\n",
        "-------------------------------------------------\n",
        "[(u'El paro', 77.2), (u'La corrupci\\xf3n y el fraude', 37.0), (u'Los problemas de \\xedndole econ\\xf3mica', 32.5), (u'Los pol\\xedticos en general, los partidos pol\\xedticos y la pol\\xedtica', 28.2), (u'La sanidad', 10.6), (u'La educaci\\xf3n', 9.6), (u'Otras respuestas', 5.9), (u'Los problemas de \\xedndole social', 5.3), (u'Los recortes', 4.6), (u'El Gobierno, los pol\\xedticos y los partidos concretos', 3.3), (u'La inmigraci\\xf3n', 2.9), (u'Bancos', 2.9), (u'La inseguridad ciudadana', 2.8), (u'La Administraci\\xf3n de Justicia', 2.6), (u'La vivienda', 2.3), (u'Las pensiones', 2.2), (u'Los problemas relacionados con la calidad del empleo', 2.0), (u'La crisis de valores', 2.0), (u'Los problemas relacionados con la juventud', 1.7), (u'Subida del IVA', 1.6), (u'Desahucios', 1.3), (u'Los nacionalismos', 1.0), (u'El funcionamiento de los servicios p\\xfablicos', 0.8), (u'El terrorismo, ETA', 0.6), (u'N.S.', 0.6), (u'Las drogas', 0.4), (u'La violencia contra la mujer', 0.4), (u'Estatutos de autonom\\xeda', 0.4), (u'Hipotecas', 0.4), (u'Fraude fiscal', 0.3), (u'N.C.', 0.3), (u'Las guerras en general', 0.2), (u'Los problemas medioambientales', 0.2), (u'Las preocupaciones y situaciones personales', 0.2), (u'La reforma laboral', 0.2), (u'Monarqu\\xeda', 0.2), (u'Los problemas de la agricultura, ganader\\xeda y pesca', 0.1), (u'Las infraestructuras', 0.0), (u'El racismo', 0.0), (u'Los problemas relacionados con la mujer', 0.0), (u'El terrorismo internacional', 0.0), (u'Las negociaciones con ETA', 0.0), (u'Ninguno', 0.0)]\n",
        "\n",
        "BAR\u00d3METRO JULIO 2013 , date: 2013-07-01 00:00:00 , doc_type: text/html\n",
        "URL: http://www.cis.es/cis/export/sites/default/-Archivos/Marginales/2980_2999/2993/e299300.html\n",
        "-------------------------------------------------"
       ]
      },
      {
       "output_type": "stream",
       "stream": "stdout",
       "text": [
        "\n",
        "Question: \u00bfCu\u00e1l es, a su juicio, el principal problema que existe actualmente en Espa\u00f1a? \u00bfY el segundo? \u00bfY el tercero? (MULTIRRESPUESTA).\n",
        "-------------------------------------------------\n",
        "[(u'El paro', 80.9), (u'La corrupci\\xf3n y el fraude', 37.4), (u'Los problemas de \\xedndole econ\\xf3mica', 32.0), (u'Los pol\\xedticos en general, los partidos pol\\xedticos y la pol\\xedtica', 27.6), (u'La sanidad', 10.3), (u'La educaci\\xf3n', 8.8), (u'Otras respuestas', 5.6), (u'Los problemas de \\xedndole social', 5.3), (u'Bancos', 4.0), (u'Los recortes', 3.8), (u'El Gobierno, los pol\\xedticos y los partidos concretos', 3.5), (u'La inseguridad ciudadana', 2.8), (u'La inmigraci\\xf3n', 2.6), (u'La crisis de valores', 2.3), (u'Las pensiones', 2.1), (u'La Administraci\\xf3n de Justicia', 2.1), (u'Los problemas relacionados con la juventud', 2.1), (u'Desahucios', 1.9), (u'Subida del IVA', 1.8), (u'La vivienda', 1.7), (u'Los problemas relacionados con la calidad del empleo', 1.5), (u'La violencia contra la mujer', 0.7), (u'El terrorismo, ETA', 0.6), (u'El funcionamiento de los servicios p\\xfablicos', 0.6), (u'Los nacionalismos', 0.6), (u'Fraude fiscal', 0.6), (u'Los problemas de la agricultura, ganader\\xeda y pesca', 0.4), (u'Estatutos de autonom\\xeda', 0.4), (u'La reforma laboral', 0.4), (u'Monarqu\\xeda', 0.4), (u'N.S.', 0.4), (u'Las drogas', 0.3), (u'Hipotecas', 0.3), (u'Los problemas medioambientales', 0.2), (u'N.C.', 0.2), (u'Los problemas relacionados con la mujer', 0.1), (u'El terrorismo internacional', 0.1), (u'Las preocupaciones y situaciones personales', 0.1), (u'Las infraestructuras', 0.0), (u'Las guerras en general', 0.0), (u'El racismo', 0.0), (u'Las negociaciones con ETA', 0.0), (u'Ninguno', 0.0)]\n",
        "\n",
        "BAR\u00d3METRO JUNIO 2013 , date: 2013-06-03 00:00:00 , doc_type: text/html\n",
        "URL: http://www.cis.es/cis/export/sites/default/-Archivos/Marginales/2980_2999/2990/e299000.html\n",
        "-------------------------------------------------"
       ]
      },
      {
       "output_type": "stream",
       "stream": "stdout",
       "text": [
        "\n",
        "Question: \u00bfCu\u00e1l es, a su juicio, el principal problema que existe actualmente en Espa\u00f1a? \u00bfY el segundo? \u00bfY el tercero? (MULTIRRESPUESTA).\n",
        "-------------------------------------------------\n",
        "[(u'El paro', 80.3), (u'La corrupci\\xf3n y el fraude', 32.5), (u'Los problemas de \\xedndole econ\\xf3mica', 32.1), (u'Los pol\\xedticos en general, los partidos pol\\xedticos y la pol\\xedtica', 30.6), (u'La sanidad', 9.3), (u'La educaci\\xf3n', 6.6), (u'Los recortes', 6.2), (u'Otras respuestas', 5.8), (u'Los problemas de \\xedndole social', 4.8), (u'Bancos', 4.3), (u'La inseguridad ciudadana', 3.0), (u'Las pensiones', 3.0), (u'El Gobierno, los pol\\xedticos y los partidos concretos', 2.9), (u'La inmigraci\\xf3n', 2.8), (u'Desahucios', 2.7), (u'La Administraci\\xf3n de Justicia', 2.5), (u'La crisis de valores', 2.1), (u'Los problemas relacionados con la juventud', 2.0), (u'La vivienda', 1.9), (u'Subida del IVA', 1.9), (u'Los problemas relacionados con la calidad del empleo', 1.8), (u'La violencia contra la mujer', 1.2), (u'Fraude fiscal', 0.8), (u'Monarqu\\xeda', 0.7), (u'El funcionamiento de los servicios p\\xfablicos', 0.6), (u'Los nacionalismos', 0.6), (u'Estatutos de autonom\\xeda', 0.6), (u'Hipotecas', 0.6), (u'N.S.', 0.6), (u'El terrorismo, ETA', 0.4), (u'N.C.', 0.4), (u'Las drogas', 0.3), (u'La reforma laboral', 0.3), (u'Los problemas de la agricultura, ganader\\xeda y pesca', 0.2), (u'Las preocupaciones y situaciones personales', 0.2), (u'Las infraestructuras', 0.1), (u'El racismo', 0.1), (u'Los problemas medioambientales', 0.1), (u'Los problemas relacionados con la mujer', 0.1), (u'Las guerras en general', 0.0), (u'El terrorismo internacional', 0.0), (u'Las negociaciones con ETA', 0.0), (u'Ninguno', 0.0)]\n",
        "\n",
        "BAR\u00d3METRO MAYO 2013 , date: 2013-05-01 00:00:00 , doc_type: text/html\n",
        "URL: http://www.cis.es/cis/export/sites/default/-Archivos/Marginales/2980_2999/2987/e298700.html\n",
        "-------------------------------------------------"
       ]
      },
      {
       "output_type": "stream",
       "stream": "stdout",
       "text": [
        "\n",
        "Question: \u00bfCu\u00e1l es, a su juicio, el principal problema que existe actualmente en Espa\u00f1a? \u00bfY el segundo? \u00bfY el tercero? (MULTIRRESPUESTA).\n",
        "-------------------------------------------------\n",
        "[(u'El paro', 82.4), (u'Los problemas de \\xedndole econ\\xf3mica', 34.8), (u'La corrupci\\xf3n y el fraude', 30.6), (u'Los pol\\xedticos en general, los partidos pol\\xedticos y la pol\\xedtica', 29.6), (u'La sanidad', 10.0), (u'Otras respuestas', 6.4), (u'La educaci\\xf3n', 6.3), (u'Los recortes', 4.8), (u'Bancos', 4.5), (u'Los problemas de \\xedndole social', 4.4), (u'Desahucios', 4.1), (u'El Gobierno, los pol\\xedticos y los partidos concretos', 3.4), (u'La vivienda', 2.8), (u'La inseguridad ciudadana', 2.6), (u'La Administraci\\xf3n de Justicia', 2.6), (u'Las pensiones', 2.4), (u'La crisis de valores', 1.8), (u'La inmigraci\\xf3n', 1.5), (u'Los problemas relacionados con la juventud', 1.5), (u'Subida del IVA', 1.4), (u'Los problemas relacionados con la calidad del empleo', 1.3), (u'El funcionamiento de los servicios p\\xfablicos', 0.9), (u'Monarqu\\xeda', 0.9), (u'Fraude fiscal', 0.6), (u'Los nacionalismos', 0.5), (u'El terrorismo, ETA', 0.4), (u'La violencia contra la mujer', 0.4), (u'Hipotecas', 0.4), (u'Las drogas', 0.2), (u'Los problemas de la agricultura, ganader\\xeda y pesca', 0.2), (u'Las preocupaciones y situaciones personales', 0.2), (u'Estatutos de autonom\\xeda', 0.2), (u'Los problemas medioambientales', 0.1), (u'Los problemas relacionados con la mujer', 0.1), (u'Las negociaciones con ETA', 0.1), (u'Las infraestructuras', 0.0), (u'Las guerras en general', 0.0), (u'El racismo', 0.0), (u'El terrorismo internacional', 0.0), (u'La reforma laboral', 0.0), (u'Ninguno', 0.0)]\n",
        "\n",
        "BAR\u00d3METRO ABRIL 2013 , date: 2013-04-01 00:00:00 , doc_type: text/html\n",
        "URL: http://www.cis.es/cis/export/sites/default/-Archivos/Marginales/2980_2999/2984/e298400.html\n",
        "-------------------------------------------------"
       ]
      },
      {
       "output_type": "stream",
       "stream": "stdout",
       "text": [
        "\n",
        "Question: \u00bfCu\u00e1l es, a su juicio, el principal problema que existe actualmente en Espa\u00f1a? \u00bfY el segundo? \u00bfY el tercero? (MULTIRRESPUESTA).\n",
        "-------------------------------------------------\n",
        "[(u'El paro', 80.7), (u'La corrupci\\xf3n y el fraude', 39.3), (u'Los problemas de \\xedndole econ\\xf3mica', 35.5), (u'Los pol\\xedticos en general, los partidos pol\\xedticos y la pol\\xedtica', 29.3), (u'La sanidad', 7.9), (u'Desahucios', 5.7), (u'Bancos', 5.4), (u'La educaci\\xf3n', 4.8), (u'Los problemas de \\xedndole social', 4.7), (u'Los recortes', 3.9), (u'Otras respuestas', 3.5), (u'La inseguridad ciudadana', 2.5), (u'La vivienda', 2.5), (u'La Administraci\\xf3n de Justicia', 2.5), (u'La inmigraci\\xf3n', 2.5), (u'El Gobierno, los pol\\xedticos y los partidos concretos', 2.5), (u'La crisis de valores', 1.9), (u'Las pensiones', 1.5), (u'Los problemas relacionados con la calidad del empleo', 1.4), (u'Los problemas relacionados con la juventud', 1.4), (u'Subida del IVA', 1.1), (u'Fraude fiscal', 1.0), (u'Monarqu\\xeda', 0.9), (u'El terrorismo, ETA', 0.6), (u'El funcionamiento de los servicios p\\xfablicos', 0.5), (u'Los problemas de la agricultura, ganader\\xeda y pesca', 0.4), (u'La violencia contra la mujer', 0.4), (u'Los nacionalismos', 0.4), (u'Hipotecas', 0.4), (u'N.S.', 0.4), (u'Estatutos de autonom\\xeda', 0.3), (u'N.C.', 0.3), (u'La reforma laboral', 0.2), (u'Los problemas medioambientales', 0.1), (u'Los problemas relacionados con la mujer', 0.1), (u'Las infraestructuras', 0.0), (u'Las guerras en general', 0.0), (u'El racismo', 0.0), (u'Las preocupaciones y situaciones personales', 0.0)]\n",
        "\n",
        "BAR\u00d3METRO MARZO 2013 , date: 2013-03-01 00:00:00 , doc_type: text/html\n",
        "URL: http://www.cis.es/cis/export/sites/default/-Archivos/Marginales/2980_2999/2981/e298100.html\n",
        "-------------------------------------------------"
       ]
      },
      {
       "output_type": "stream",
       "stream": "stdout",
       "text": [
        "\n",
        "Question: \u00bfCu\u00e1l es, a su juicio, el principal problema que existe actualmente en Espa\u00f1a? \u00bfY el segundo? \u00bfY el tercero? (MULTIRRESPUESTA).\n",
        "-------------------------------------------------\n",
        "[(u'El paro', 81.5), (u'La corrupci\\xf3n y el fraude', 44.4), (u'Los problemas de \\xedndole econ\\xf3mica', 34.4), (u'Los pol\\xedticos en general, los partidos pol\\xedticos y la pol\\xedtica', 31.4), (u'La sanidad', 10.1), (u'La educaci\\xf3n', 6.1), (u'Desahucios', 5.5), (u'Otras respuestas', 5.2), (u'Los recortes', 4.8), (u'Bancos', 4.6), (u'Los problemas de \\xedndole social', 3.8), (u'El Gobierno, los pol\\xedticos y los partidos concretos', 3.1), (u'La inseguridad ciudadana', 2.8), (u'La crisis de valores', 2.3), (u'La inmigraci\\xf3n', 2.2), (u'La vivienda', 2.0), (u'La Administraci\\xf3n de Justicia', 2.0), (u'Las pensiones', 1.8), (u'Los problemas relacionados con la juventud', 1.7), (u'Los problemas relacionados con la calidad del empleo', 1.1), (u'Los nacionalismos', 1.0), (u'Subida del IVA', 0.9), (u'El funcionamiento de los servicios p\\xfablicos', 0.8), (u'Hipotecas', 0.5), (u'El terrorismo, ETA', 0.4), (u'Fraude fiscal', 0.4), (u'La violencia contra la mujer', 0.3), (u'La reforma laboral', 0.3), (u'Las infraestructuras', 0.2), (u'Las preocupaciones y situaciones personales', 0.2), (u'Estatutos de autonom\\xeda', 0.2), (u'N.S.', 0.2), (u'Las drogas', 0.1), (u'Los problemas de la agricultura, ganader\\xeda y pesca', 0.1), (u'Los problemas medioambientales', 0.1), (u'N.C.', 0.1), (u'Las guerras en general', 0.0), (u'El racismo', 0.0), (u'Los problemas relacionados con la mujer', 0.0), (u'El terrorismo internacional', 0.0), (u'Las negociaciones con ETA', 0.0), (u'Ninguno', 0.0)]\n",
        "\n",
        "BAR\u00d3METRO FEBRERO 2013 , date: 2013-02-04 00:00:00 , doc_type: text/html\n",
        "URL: http://www.cis.es/cis/export/sites/default/-Archivos/Marginales/2960_2979/2978/e297800.html\n",
        "-------------------------------------------------"
       ]
      },
      {
       "output_type": "stream",
       "stream": "stdout",
       "text": [
        "\n",
        "Question: \u00bfCu\u00e1l es, a su juicio, el principal problema que existe actualmente en Espa\u00f1a? \u00bfY el segundo? \u00bfY el tercero? (MULTIRRESPUESTA).\n",
        "-------------------------------------------------\n",
        "[(u'El paro', 79.8), (u'La corrupci\\xf3n y el fraude', 40.0), (u'Los problemas de \\xedndole econ\\xf3mica', 35.3), (u'Los pol\\xedticos en general, los partidos pol\\xedticos y la pol\\xedtica', 29.6), (u'La sanidad', 10.5), (u'La educaci\\xf3n', 7.8), (u'Bancos', 5.0), (u'Otras respuestas', 5.0), (u'Los recortes', 4.2), (u'Desahucios', 3.9), (u'Los problemas de \\xedndole social', 3.6), (u'El Gobierno, los pol\\xedticos y los partidos concretos', 3.2), (u'La Administraci\\xf3n de Justicia', 2.5), (u'La crisis de valores', 2.5), (u'La inseguridad ciudadana', 2.3), (u'La inmigraci\\xf3n', 1.9), (u'La vivienda', 1.7), (u'Los problemas relacionados con la juventud', 1.7), (u'Las pensiones', 1.4), (u'Los problemas relacionados con la calidad del empleo', 1.1), (u'Subida del IVA', 1.0), (u'El terrorismo, ETA', 0.4), (u'Fraude fiscal', 0.4), (u'Hipotecas', 0.4), (u'N.S.', 0.4), (u'N.C.', 0.4), (u'Las drogas', 0.3), (u'La violencia contra la mujer', 0.3), (u'El funcionamiento de los servicios p\\xfablicos', 0.3), (u'Las infraestructuras', 0.2), (u'Los problemas de la agricultura, ganader\\xeda y pesca', 0.2), (u'Los nacionalismos', 0.2), (u'Las preocupaciones y situaciones personales', 0.2), (u'La reforma laboral', 0.2), (u'Los problemas medioambientales', 0.1), (u'Las guerras en general', 0.0), (u'El racismo', 0.0), (u'Los problemas relacionados con la mujer', 0.0), (u'El terrorismo internacional', 0.0), (u'Estatutos de autonom\\xeda', 0.0), (u'Las negociaciones con ETA', 0.0), (u'Ninguno', 0.0)]\n",
        "\n",
        "BAR\u00d3METRO ENERO 2013 , date: 2013-01-04 00:00:00 , doc_type: text/html\n",
        "URL: http://www.cis.es/cis/export/sites/default/-Archivos/Marginales/2960_2979/2976/e297600.html\n",
        "-------------------------------------------------"
       ]
      },
      {
       "output_type": "stream",
       "stream": "stdout",
       "text": [
        "\n",
        "Question: \u00bfCu\u00e1l es, a su juicio, el principal problema que existe actualmente en Espa\u00f1a? \u00bfY el segundo? \u00bfY el tercero? (MULTIRRESPUESTA).\n",
        "-------------------------------------------------\n",
        "[(u'El paro', 80.9), (u'Los problemas de \\xedndole econ\\xf3mica', 38.9), (u'Los pol\\xedticos en general, los partidos pol\\xedticos y la pol\\xedtica', 30.2), (u'La corrupci\\xf3n y el fraude', 17.7), (u'La sanidad', 12.1), (u'Otras respuestas', 6.4), (u'La educaci\\xf3n', 5.8), (u'Bancos', 5.8), (u'Los recortes', 5.4), (u'Los problemas de \\xedndole social', 5.2), (u'Desahucios', 3.5), (u'La vivienda', 3.1), (u'El Gobierno, los pol\\xedticos y los partidos concretos', 3.1), (u'La inseguridad ciudadana', 2.9), (u'La inmigraci\\xf3n', 2.5), (u'La Administraci\\xf3n de Justicia', 2.2), (u'Las pensiones', 2.1), (u'Subida del IVA', 2.1), (u'La crisis de valores', 1.9), (u'Los problemas relacionados con la calidad del empleo', 1.6), (u'Los problemas relacionados con la juventud', 1.6), (u'Los nacionalismos', 1.2), (u'El funcionamiento de los servicios p\\xfablicos', 0.7), (u'Estatutos de autonom\\xeda', 0.6), (u'Las infraestructuras', 0.4), (u'Los problemas de la agricultura, ganader\\xeda y pesca', 0.4), (u'La violencia contra la mujer', 0.4), (u'La reforma laboral', 0.4), (u'Fraude fiscal', 0.4), (u'El terrorismo, ETA', 0.3), (u'Las preocupaciones y situaciones personales', 0.3), (u'N.S.', 0.3), (u'Las drogas', 0.2), (u'Los problemas medioambientales', 0.2), (u'N.C.', 0.2), (u'Las guerras en general', 0.0), (u'El racismo', 0.0), (u'Los problemas relacionados con la mujer', 0.0), (u'El terrorismo internacional', 0.0), (u'Las negociaciones con ETA', 0.0), (u'Ninguno', 0.0)]\n",
        "\n",
        "BAR\u00d3METRO DICIEMBRE 2012 , date: 2012-12-01 00:00:00 , doc_type: text/html\n",
        "URL: http://www.cis.es/cis/export/sites/default/-Archivos/Marginales/2960_2979/2972/e297200.html\n",
        "-------------------------------------------------"
       ]
      },
      {
       "output_type": "stream",
       "stream": "stdout",
       "text": [
        "\n",
        "Question: \u00bfCu\u00e1l es, a su juicio, el principal problema que existe actualmente en Espa\u00f1a? \u00bfY el segundo? \u00bfY el tercero? (MULTIRRESPUESTA).\n",
        "-------------------------------------------------\n",
        "[(u'El paro', 77.0), (u'Los problemas de \\xedndole econ\\xf3mica', 39.5), (u'La clase pol\\xedtica, los partidos pol\\xedticos', 29.8), (u'La corrupci\\xf3n y el fraude', 17.1), (u'La sanidad', 12.9), (u'La educaci\\xf3n', 7.6), (u'Los Bancos', 7.0), (u'Los recortes', 6.6), (u'Otras respuestas', 6.1), (u'Los desahucios', 5.7), (u'Los problemas de \\xedndole social', 5.0), (u'La vivienda', 3.9), (u'El Gobierno, los pol\\xedticos y los partidos', 3.3), (u'La inseguridad ciudadana', 2.8), (u'Las pensiones', 2.8), (u'La inmigraci\\xf3n', 2.6), (u'La subida del IVA', 2.1), (u'Los problemas relacionados con la calidad del empleo', 1.8), (u'La Administraci\\xf3n de Justicia', 1.7), (u'La crisis de valores', 1.7), (u'Los problemas relacionados con la juventud', 1.1), (u'El fraude fiscal', 1.0), (u'Los nacionalismos', 0.8), (u'Estatutos de autonom\\xeda', 0.8), (u'N.S.', 0.6), (u'Las drogas', 0.5), (u'Los problemas de la agricultura, ganader\\xeda y pesca', 0.4), (u'La violencia contra la mujer', 0.4), (u'El funcionamiento de los servicios p\\xfablicos', 0.4), (u'El terrorismo, ETA', 0.2), (u'Las infraestructuras', 0.2), (u'Los problemas medioambientales', 0.2), (u'Las preocupaciones y situaciones personales', 0.2), (u'La reforma laboral', 0.2), (u'N.C.', 0.2), (u'Las guerras en general', 0.0), (u'El racismo', 0.0), (u'Los problemas relacionados con la mujer', 0.0), (u'El terrorismo internacional', 0.0), (u'Las negociaciones con ETA', 0.0), (u'Ninguno', 0.0)]\n",
        "\n",
        "BAR\u00d3METRO NOVIEMBRE 2012 , date: 2012-11-05 00:00:00 , doc_type: text/html\n",
        "URL: http://www.cis.es/cis/export/sites/default/-Archivos/Marginales/2960_2979/2966/e296600.html\n",
        "-------------------------------------------------"
       ]
      },
      {
       "output_type": "stream",
       "stream": "stdout",
       "text": [
        "\n",
        "Question: \u00bfCu\u00e1l es, a su juicio, el principal problema que existe actualmente en Espa\u00f1a? \u00bfY el segundo? \u00bfY el tercero? (MULTIRRESPUESTA).\n",
        "-------------------------------------------------\n",
        "[(u'El paro', 80.6), (u'Los problemas de \\xedndole econ\\xf3mica', 42.7), (u'Los pol\\xedticos en general, los partidos pol\\xedticos y la pol\\xedtica', 30.2), (u'La sanidad', 11.4), (u'La corrupci\\xf3n y el fraude', 9.5), (u'Bancos', 8.4), (u'La educaci\\xf3n', 6.7), (u'Desahucios', 6.3), (u'Los recortes', 5.5), (u'Otras respuestas', 5.0), (u'La inmigraci\\xf3n', 4.1), (u'Los problemas de \\xedndole social', 4.0), (u'La vivienda', 3.9), (u'El Gobierno, los pol\\xedticos y los partidos concretos', 2.7), (u'La inseguridad ciudadana', 2.5), (u'La crisis de valores', 2.1), (u'Las pensiones', 2.0), (u'Los problemas relacionados con la juventud', 1.7), (u'Subida del IVA', 1.7), (u'La Administraci\\xf3n de Justicia', 1.6), (u'Los problemas relacionados con la calidad del empleo', 1.4), (u'Los nacionalismos', 1.4), (u'Estatutos de autonom\\xeda', 0.8), (u'El terrorismo, ETA', 0.5), (u'N.S.', 0.5), (u'La violencia contra la mujer', 0.4), (u'El funcionamiento de los servicios p\\xfablicos', 0.4), (u'Las drogas', 0.3), (u'Las preocupaciones y situaciones personales', 0.3), (u'Los problemas de la agricultura, ganader\\xeda y pesca', 0.2), (u'Los problemas medioambientales', 0.2), (u'La reforma laboral', 0.2), (u'N.C.', 0.2), (u'Las infraestructuras', 0.1), (u'Las negociaciones con ETA', 0.1), (u'Las guerras en general', 0.0), (u'El racismo', 0.0), (u'Los problemas relacionados con la mujer', 0.0), (u'El terrorismo internacional', 0.0), (u'Ninguno', 0.0)]\n",
        "\n",
        "BAR\u00d3METRO OCTUBRE 2012 , date: 2012-10-02 00:00:00 , doc_type: text/html\n",
        "URL: http://www.cis.es/cis/export/sites/default/-Archivos/Marginales/2960_2979/2960/e296000.html\n",
        "-------------------------------------------------"
       ]
      },
      {
       "output_type": "stream",
       "stream": "stdout",
       "text": [
        "\n",
        "Question: \u00bfCu\u00e1l es, a su juicio, el principal problema que existe actualmente en Espa\u00f1a? \u00bfY el segundo? \u00bfY el tercero? (MULTIRRESPUESTA).\n",
        "-------------------------------------------------\n",
        "[(u'El paro', 77.8), (u'Los problemas de \\xedndole econ\\xf3mica', 43.4), (u'Los pol\\xedticos en general, los partidos pol\\xedticos y la pol\\xedtica', 30.5), (u'La sanidad', 10.1), (u'La corrupci\\xf3n y el fraude', 9.2), (u'La educaci\\xf3n', 8.3), (u'Los recortes', 6.7), (u'Otras respuestas', 5.6), (u'Bancos', 5.4), (u'Los problemas de \\xedndole social', 4.6), (u'La inmigraci\\xf3n', 4.4), (u'El Gobierno, los pol\\xedticos y los partidos concretos', 3.3), (u'La inseguridad ciudadana', 3.1), (u'Subida del IVA', 2.9), (u'La vivienda', 2.7), (u'Los problemas relacionados con la calidad del empleo', 2.6), (u'Las pensiones', 2.6), (u'La crisis de valores', 2.1), (u'Los problemas relacionados con la juventud', 1.6), (u'Los nacionalismos', 1.6), (u'La Administraci\\xf3n de Justicia', 1.4), (u'Estatutos de autonom\\xeda', 1.2), (u'El terrorismo, ETA', 0.5), (u'Las infraestructuras', 0.5), (u'Las drogas', 0.4), (u'El funcionamiento de los servicios p\\xfablicos', 0.4), (u'La reforma laboral', 0.4), (u'N.S.', 0.4), (u'Los problemas medioambientales', 0.3), (u'N.C.', 0.3), (u'Las preocupaciones y situaciones personales', 0.2), (u'El racismo', 0.1), (u'La violencia contra la mujer', 0.1), (u'Los problemas de la agricultura, ganader\\xeda y pesca', 0.0), (u'Las guerras en general', 0.0), (u'Los problemas relacionados con la mujer', 0.0), (u'El terrorismo internacional', 0.0), (u'Las negociaciones con ETA', 0.0), (u'Ninguno', 0.0)]\n",
        "\n",
        "BAR\u00d3METRO SEPTIEMBRE 2012 , date: 2012-09-03 00:00:00 , doc_type: text/html\n",
        "URL: http://www.cis.es/cis/export/sites/default/-Archivos/Marginales/2940_2959/2954/e295400.html\n",
        "-------------------------------------------------"
       ]
      },
      {
       "output_type": "stream",
       "stream": "stdout",
       "text": [
        "\n",
        "Question: \u00bfCu\u00e1l es, a su juicio, el principal problema que existe actualmente en Espa\u00f1a? \u00bfY el segundo? \u00bfY el tercero? (MULTIRRESPUESTA).\n",
        "-------------------------------------------------\n",
        "[(u'El paro', 79.1), (u'Los problemas de \\xedndole econ\\xf3mica', 49.4), (u'La clase pol\\xedtica, los partidos pol\\xedticos', 26.8), (u'La sanidad', 9.1), (u'La corrupci\\xf3n y el fraude', 8.5), (u'La educaci\\xf3n', 6.6), (u'Otras respuestas', 6.2), (u'La inmigraci\\xf3n', 5.9), (u'Los Bancos', 5.4), (u'Los recortes', 4.8), (u'Los problemas de \\xedndole social', 3.7), (u'Subida del IVA', 3.6), (u'El Gobierno, los pol\\xedticos y los partidos', 3.2), (u'La inseguridad ciudadana', 3.1), (u'Los problemas relacionados con la calidad del empleo', 2.3), (u'La Administraci\\xf3n de Justicia', 2.2), (u'Las pensiones', 1.9), (u'La vivienda', 1.8), (u'La crisis de valores', 1.4), (u'Los problemas relacionados con la juventud', 1.3), (u'El terrorismo, ETA', 1.1), (u'N.S.', 1.1), (u'Estatutos de autonom\\xeda', 0.9), (u'Los problemas medioambientales', 0.6), (u'La violencia contra la mujer', 0.5), (u'Los nacionalismos', 0.5), (u'La reforma laboral', 0.5), (u'Las drogas', 0.4), (u'El funcionamiento de los servicios p\\xfablicos', 0.4), (u'Las preocupaciones y situaciones personales', 0.3), (u'Las infraestructuras', 0.1), (u'Los problemas de la agricultura, ganader\\xeda y pesca', 0.1), (u'N.C.', 0.1), (u'Las guerras en general', 0.0), (u'El racismo', 0.0), (u'Los problemas relacionados con la mujer', 0.0), (u'El terrorismo internacional', 0.0), (u'Las negociaciones con ETA', 0.0), (u'Ninguno', 0.0)]\n",
        "\n",
        "BAR\u00d3METRO JULIO 2012 , date: 2012-07-02 00:00:00 , doc_type: text/html\n",
        "URL: http://www.cis.es/cis/export/sites/default/-Archivos/Marginales/2940_2959/2951/e295100.html\n",
        "-------------------------------------------------"
       ]
      },
      {
       "output_type": "stream",
       "stream": "stdout",
       "text": [
        "\n",
        "Question: \u00bfCu\u00e1l es, a su juicio, el principal problema que existe actualmente en Espa\u00f1a? \u00bfY el segundo? \u00bfY el tercero? (MULTIRRESPUESTA).\n",
        "-------------------------------------------------\n",
        "[(u'El paro', 78.3), (u'Los problemas de \\xedndole econ\\xf3mica', 46.5), (u'La clase pol\\xedtica, los partidos pol\\xedticos', 25.4), (u'La corrupci\\xf3n y el fraude', 12.2), (u'La sanidad', 10.4), (u'Bancos', 8.6), (u'La educaci\\xf3n', 7.1), (u'Otras respuestas', 5.3), (u'Los recortes', 4.9), (u'La inmigraci\\xf3n', 4.5), (u'La inseguridad ciudadana', 4.0), (u'Los problemas de \\xedndole social', 3.7), (u'La vivienda', 3.4), (u'El Gobierno, los pol\\xedticos y los partidos', 3.0), (u'Los problemas relacionados con la calidad del empleo', 2.3), (u'Las pensiones', 2.3), (u'La crisis de valores', 2.1), (u'La Administraci\\xf3n de Justicia', 1.6), (u'Los problemas relacionados con la juventud', 1.6), (u'El terrorismo, ETA', 1.0), (u'N.S.', 0.8), (u'La violencia contra la mujer', 0.6), (u'Estatutos de autonom\\xeda', 0.6), (u'N.C.', 0.5), (u'El funcionamiento de los servicios p\\xfablicos', 0.4), (u'Las drogas', 0.2), (u'Las infraestructuras', 0.2), (u'El racismo', 0.2), (u'Los problemas medioambientales', 0.2), (u'Los nacionalismos', 0.2), (u'Las preocupaciones y situaciones personales', 0.2), (u'La reforma laboral', 0.2), (u'Los problemas de la agricultura, ganader\\xeda y pesca', 0.1), (u'Las guerras en general', 0.0), (u'Los problemas relacionados con la mujer', 0.0), (u'El terrorismo internacional', 0.0), (u'Las negociaciones con ETA', 0.0), (u'Ninguno', 0.0)]\n",
        "\n",
        "BAR\u00d3METRO JUNIO 2012 , date: 2012-06-02 00:00:00 , doc_type: text/html\n",
        "URL: http://www.cis.es/cis/export/sites/default/-Archivos/Marginales/2940_2959/2948/e294800.html\n",
        "-------------------------------------------------"
       ]
      },
      {
       "output_type": "stream",
       "stream": "stdout",
       "text": [
        "\n",
        "Question: \u00bfCu\u00e1l es, a su juicio, el principal problema que existe actualmente en Espa\u00f1a? \u00bfY el segundo? \u00bfY el tercero? (MULTIRRESPUESTA).\n",
        "-------------------------------------------------\n",
        "[(u'El paro', 77.8), (u'Los problemas de \\xedndole econ\\xf3mica', 46.3), (u'La clase pol\\xedtica, los partidos pol\\xedticos', 24.3), (u'La corrupci\\xf3n y el fraude', 12.4), (u'La sanidad', 8.6), (u'Bancos', 8.2), (u'La educaci\\xf3n', 7.7), (u'Otras respuestas', 5.5), (u'La inmigraci\\xf3n', 5.0), (u'Los problemas de \\xedndole social', 4.9), (u'Los recortes', 4.4), (u'La inseguridad ciudadana', 3.9), (u'La vivienda', 3.6), (u'El Gobierno, los pol\\xedticos y los partidos', 2.9), (u'Los problemas relacionados con la calidad del empleo', 2.7), (u'La crisis de valores', 2.4), (u'Las pensiones', 1.9), (u'Los problemas relacionados con la juventud', 1.9), (u'La Administraci\\xf3n de Justicia', 1.4), (u'El terrorismo, ETA', 0.9), (u'N.S.', 0.9), (u'La reforma laboral', 0.6), (u'El funcionamiento de los servicios p\\xfablicos', 0.5), (u'Las drogas', 0.4), (u'Las infraestructuras', 0.4), (u'La violencia contra la mujer', 0.4), (u'Los problemas de la agricultura, ganader\\xeda y pesca', 0.3), (u'Los problemas medioambientales', 0.3), (u'Estatutos de autonom\\xeda', 0.3), (u'N.C.', 0.3), (u'Los nacionalismos', 0.2), (u'Las preocupaciones y situaciones personales', 0.2), (u'Los problemas relacionados con la mujer', 0.1), (u'Las guerras en general', 0.0), (u'El racismo', 0.0), (u'El terrorismo internacional', 0.0), (u'Las negociaciones con ETA', 0.0), (u'Ninguno', 0.0)]\n",
        "\n",
        "BAR\u00d3METRO MAYO 2012 , date: 2012-05-03 00:00:00 , doc_type: text/html\n",
        "URL: http://www.cis.es/cis/export/sites/default/-Archivos/Marginales/2940_2959/2944/e294400.html\n",
        "-------------------------------------------------"
       ]
      },
      {
       "output_type": "stream",
       "stream": "stdout",
       "text": [
        "\n",
        "Question: \u00bfCu\u00e1l es, a su juicio, el principal problema que existe actualmente en Espa\u00f1a? \u00bfY el segundo? \u00bfY el tercero? (MULTIRRESPUESTA).\n",
        "-------------------------------------------------\n",
        "[(u'El paro', 81.6), (u'Los problemas de \\xedndole econ\\xf3mica', 50.9), (u'La clase pol\\xedtica, los partidos pol\\xedticos', 22.5), (u'La sanidad', 10.6), (u'La corrupci\\xf3n y el fraude', 9.3), (u'La educaci\\xf3n', 7.3), (u'La inmigraci\\xf3n', 6.2), (u'Los recortes', 5.1), (u'La inseguridad ciudadana', 4.5), (u'Otras respuestas', 4.1), (u'El Gobierno, los pol\\xedticos y los partidos', 3.6), (u'La vivienda', 3.5), (u'Los problemas de \\xedndole social', 3.2), (u'La crisis de valores', 2.3), (u'Las pensiones', 2.2), (u'Los problemas relacionados con la calidad del empleo', 2.1), (u'Los problemas relacionados con la juventud', 1.5), (u'La Administraci\\xf3n de Justicia', 1.4), (u'El terrorismo, ETA', 1.2), (u'Reforma laboral', 0.9), (u'El funcionamiento de los servicios p\\xfablicos', 0.8), (u'La violencia contra la mujer', 0.6), (u'No_sabe', 0.6), (u'Las drogas', 0.5), (u'Estatutos de autonom\\xeda', 0.4), (u'Las infraestructuras', 0.2), (u'Los problemas de la agricultura, ganader\\xeda y pesca', 0.2), (u'Los problemas medioambientales', 0.2), (u'Los nacionalismos', 0.2), (u'No_contesta', 0.2), (u'Las preocupaciones y situaciones personales', 0.1), (u'Las guerras en general', 0.0), (u'El racismo', 0.0), (u'Los problemas relacionados con la mujer', 0.0), (u'El terrorismo internacional', 0.0), (u'Las negociaciones con ETA', 0.0), (u'Ninguno', 0.0)]\n",
        "\n",
        "BAR\u00d3METRO ABRIL 2012 , date: 2012-04-09 00:00:00 , doc_type: text/html\n",
        "URL: http://www.cis.es/cis/export/sites/default/-Archivos/Marginales/2940_2959/2941/e294100.html\n",
        "-------------------------------------------------"
       ]
      },
      {
       "output_type": "stream",
       "stream": "stdout",
       "text": [
        "\n",
        "Question: \u00bfCu\u00e1l es, a su juicio, el principal problema que existe actualmente en Espa\u00f1a? \u00bfY el segundo? \u00bfY el tercero? (MULTIRRESPUESTA).\n",
        "-------------------------------------------------\n",
        "[(u'El paro', 81.7), (u'Los problemas de \\xedndole econ\\xf3mica', 52.7), (u'La clase pol\\xedtica, los partidos pol\\xedticos', 18.1), (u'La corrupci\\xf3n y el fraude', 8.7), (u'La sanidad', 8.6), (u'La educaci\\xf3n', 7.6), (u'La inmigraci\\xf3n', 6.9), (u'Otras respuestas', 5.5), (u'La inseguridad ciudadana', 5.4), (u'La vivienda', 5.2), (u'Los problemas de \\xedndole social', 3.6), (u'El Gobierno, los pol\\xedticos y los partidos', 3.4), (u'Los recortes', 3.2), (u'La Administraci\\xf3n de Justicia', 2.3), (u'Los problemas relacionados con la calidad del empleo', 2.2), (u'Las pensiones', 2.2), (u'La crisis de valores', 1.8), (u'Los problemas relacionados con la juventud', 1.6), (u'El terrorismo, ETA', 1.0), (u'No_sabe', 0.9), (u'Estatutos de autonom\\xeda', 0.7), (u'La violencia contra la mujer', 0.5), (u'El funcionamiento de los servicios p\\xfablicos', 0.5), (u'Las drogas', 0.4), (u'Los problemas de la agricultura, ganader\\xeda y pesca', 0.4), (u'Los problemas medioambientales', 0.4), (u'La reforma laboral', 0.4), (u'No_contesta', 0.4), (u'Las infraestructuras', 0.3), (u'Los nacionalismos', 0.3), (u'Las preocupaciones y situaciones personales', 0.2), (u'Las guerras en general', 0.0), (u'El racismo', 0.0), (u'Los problemas relacionados con la mujer', 0.0), (u'El terrorismo internacional', 0.0), (u'Las negociaciones con ETA', 0.0), (u'Ninguno', 0.0)]\n",
        "\n",
        "BAR\u00d3METRO MARZO 2012 , date: 2012-03-02 00:00:00 , doc_type: text/html\n",
        "URL: http://www.cis.es/cis/export/sites/default/-Archivos/Marginales/2920_2939/2935/e293500.html\n",
        "-------------------------------------------------"
       ]
      },
      {
       "output_type": "stream",
       "stream": "stdout",
       "text": [
        "\n",
        "Question: \u00bfCu\u00e1l es, a su juicio, el principal problema que existe actualmente en Espa\u00f1a? \u00bfY el segundo? \u00bfY el tercero? (MULTIRRESPUESTA).\n",
        "-------------------------------------------------\n",
        "[(u'El paro', 83.9), (u'Los problemas de \\xedndole econ\\xf3mica', 49.2), (u'La clase pol\\xedtica, los partidos pol\\xedticos', 18.1), (u'La corrupci\\xf3n y el fraude', 12.2), (u'La educaci\\xf3n', 9.9), (u'La sanidad', 9.3), (u'La inmigraci\\xf3n', 7.5), (u'La inseguridad ciudadana', 6.3), (u'Otras respuestas', 4.6), (u'Los problemas de \\xedndole social', 4.5), (u'La vivienda', 4.3), (u'Los problemas relacionados con la calidad del empleo', 3.6), (u'Las pensiones', 2.5), (u'La crisis de valores', 2.3), (u'La Administraci\\xf3n de Justicia', 2.2), (u'Los problemas relacionados con la juventud', 2.1), (u'El Gobierno, los pol\\xedticos y los partidos', 2.1), (u'Los recortes', 1.7), (u'El terrorismo, ETA', 1.3), (u'La reforma laboral', 1.2), (u'La violencia contra la mujer', 0.8), (u'El funcionamiento de los servicios p\\xfablicos', 0.7), (u'Las drogas', 0.5), (u'Los problemas de la agricultura, ganader\\xeda y pesca', 0.5), (u'Estatutos de autonom\\xeda', 0.5), (u'N.S.', 0.5), (u'Las infraestructuras', 0.3), (u'Los problemas medioambientales', 0.3), (u'Los nacionalismos', 0.2), (u'N.C.', 0.2), (u'El racismo', 0.1), (u'Las preocupaciones y situaciones personales', 0.1), (u'Las guerras en general', 0.0), (u'Los problemas relacionados con la mujer', 0.0), (u'El terrorismo internacional', 0.0), (u'Las negociaciones con ETA', 0.0), (u'Bancos', 0.0), (u'Ninguno', 0.0)]\n",
        "\n",
        "BAR\u00d3METRO FEBRERO 2012 , date: 2012-02-01 00:00:00 , doc_type: text/html\n",
        "URL: http://www.cis.es/cis/export/sites/default/-Archivos/Marginales/2920_2939/2932/e293200.html\n",
        "-------------------------------------------------"
       ]
      },
      {
       "output_type": "stream",
       "stream": "stdout",
       "text": [
        "\n",
        "Question: \u00bfCu\u00e1l es, a su juicio, el principal problema que existe actualmente en Espa\u00f1a? \u00bfY el segundo? \u00bfY el tercero? (MULTIRRESPUESTA).\n",
        "-------------------------------------------------\n",
        "[(u'El paro', 83.8), (u'Los problemas de \\xedndole econ\\xf3mica', 52.2), (u'La clase pol\\xedtica, los partidos pol\\xedticos', 19.4), (u'La corrupci\\xf3n y el fraude', 8.6), (u'La sanidad', 7.1), (u'La inseguridad ciudadana', 6.6), (u'La educaci\\xf3n', 6.3), (u'La inmigraci\\xf3n', 6.2), (u'La vivienda', 5.7), (u'Los problemas de \\xedndole social', 4.8), (u'Otras respuestas', 3.7), (u'Los problemas relacionados con la calidad del empleo', 3.3), (u'La Administraci\\xf3n de Justicia', 3.2), (u'La crisis de valores', 2.4), (u'Las pensiones', 2.2), (u'Los problemas relacionados con la juventud', 1.8), (u'El terrorismo, ETA', 1.7), (u'El Gobierno, los pol\\xedticos y los partidos', 1.6), (u'La violencia contra la mujer', 1.2), (u'N.S.', 1.1), (u'Las drogas', 0.6), (u'El funcionamiento de los servicios p\\xfablicos', 0.4), (u'Los problemas de la agricultura, ganader\\xeda y pesca', 0.3), (u'Las infraestructuras', 0.2), (u'Los problemas medioambientales', 0.2), (u'Los problemas relacionados con la mujer', 0.2), (u'N.C.', 0.2), (u'Los nacionalismos', 0.1), (u'Las preocupaciones y situaciones personales', 0.1), (u'Estatutos de autonom\\xeda', 0.1), (u'Las guerras en general', 0.0), (u'El racismo', 0.0), (u'El terrorismo internacional', 0.0), (u'Las negociaciones con ETA', 0.0), (u'Bancos', 0.0), (u'Ninguno', 0.0)]\n",
        "\n",
        "BAR\u00d3METRO ENERO 2012 , date: 2012-01-04 00:00:00 , doc_type: text/html\n",
        "URL: http://www.cis.es/cis/export/sites/default/-Archivos/Marginales/2920_2939/2927/e292700.html\n",
        "-------------------------------------------------"
       ]
      },
      {
       "output_type": "stream",
       "stream": "stdout",
       "text": [
        "\n",
        "Question: \u00bfCu\u00e1l es, a su juicio, el principal problema que existe actualmente en Espa\u00f1a? \u00bfY el segundo? \u00bfY el tercero? (MULTIRRESPUESTA).\n",
        "-------------------------------------------------\n",
        "[(u'El paro', 83.2), (u'Los problemas de \\xedndole econ\\xf3mica', 53.6), (u'La clase pol\\xedtica, los partidos pol\\xedticos', 17.8), (u'La corrupci\\xf3n y el fraude', 12.3), (u'La sanidad', 8.1), (u'La inmigraci\\xf3n', 7.5), (u'La inseguridad ciudadana', 5.7), (u'La vivienda', 5.6), (u'La educaci\\xf3n', 5.6), (u'Los problemas de \\xedndole social', 4.7), (u'Otras respuestas', 3.9), (u'Las pensiones', 2.9), (u'Los problemas relacionados con la calidad del empleo', 2.2), (u'Los problemas relacionados con la juventud', 2.2), (u'La Administraci\\xf3n de Justicia', 1.7), (u'El Gobierno, los pol\\xedticos y los partidos', 1.7), (u'La crisis de valores', 1.5), (u'La violencia contra la mujer', 1.3), (u'El terrorismo, ETA', 1.2), (u'N.S.', 0.9), (u'Las drogas', 0.6), (u'El Estatuto de autonom\\xeda', 0.6), (u'Los problemas medioambientales', 0.5), (u'Las infraestructuras', 0.4), (u'N.C.', 0.3), (u'Los problemas de la agricultura, ganader\\xeda y pesca', 0.2), (u'El funcionamiento de los servicios p\\xfablicos', 0.2), (u'Los nacionalismos', 0.2), (u'Las preocupaciones y situaciones personales', 0.2), (u'El racismo', 0.1), (u'Las guerras en general', 0.0), (u'Los problemas relacionados con la mujer', 0.0), (u'El terrorismo internacional', 0.0), (u'Las negociaciones con ETA', 0.0), (u'Bancos', 0.0), (u'Ninguno', 0.0)]\n",
        "\n",
        "BAR\u00d3METRO DICIEMBRE 2011 , date: 2011-12-01 00:00:00 , doc_type: text/html\n",
        "URL: http://www.cis.es/cis/export/sites/default/-Archivos/Marginales/2920_2939/2923/e292300.html\n",
        "-------------------------------------------------"
       ]
      },
      {
       "output_type": "stream",
       "stream": "stdout",
       "text": [
        "\n",
        "Question: \u00bfCu\u00e1l es, a su juicio, el principal problema que existe actualmente en Espa\u00f1a? \u00bfY el segundo? \u00bfY el tercero? (MULTIRRESPUESTA).\n",
        "-------------------------------------------------\n",
        "[(u'El paro', 82.0), (u'Los problemas de \\xedndole econ\\xf3mica', 50.4), (u'La clase pol\\xedtica, los partidos pol\\xedticos', 19.7), (u'La sanidad', 9.3), (u'La inmigraci\\xf3n', 7.5), (u'La educaci\\xf3n', 7.2), (u'La corrupci\\xf3n y el fraude', 6.0), (u'La vivienda', 5.9), (u'La inseguridad ciudadana', 5.6), (u'Los problemas de \\xedndole social', 5.2), (u'Otras respuestas', 3.3), (u'Las pensiones', 2.8), (u'El terrorismo, ETA', 2.5), (u'Los problemas relacionados con la calidad del empleo', 2.5), (u'El Gobierno, los pol\\xedticos y los partidos', 2.3), (u'La crisis de valores', 2.0), (u'Los problemas relacionados con la juventud', 1.7), (u'La Administraci\\xf3n de Justicia', 1.5), (u'N.S.', 1.2), (u'La violencia contra la mujer', 1.1), (u'Las drogas', 0.6), (u'Los problemas de la agricultura, ganader\\xeda y pesca', 0.4), (u'El funcionamiento de los servicios p\\xfablicos', 0.4), (u'Las preocupaciones y situaciones personales', 0.4), (u'El Estatuto de autonom\\xeda', 0.3), (u'Las infraestructuras', 0.2), (u'Los problemas medioambientales', 0.2), (u'Los nacionalismos', 0.2), (u'N.C.', 0.2), (u'Las guerras en general', 0.1), (u'El racismo', 0.1), (u'Los problemas relacionados con la mujer', 0.0), (u'El terrorismo internacional', 0.0), (u'Las negociaciones con ETA', 0.0), (u'Ninguno', 0.0)]\n",
        "\n",
        "BAR\u00d3METRO NOVIEMBRE 2011 , date: 2011-11-02 00:00:00 , doc_type: text/html\n",
        "URL: http://www.cis.es/cis/export/sites/default/-Archivos/Marginales/2900_2919/2917/e291700.html\n",
        "-------------------------------------------------"
       ]
      },
      {
       "output_type": "stream",
       "stream": "stdout",
       "text": [
        "\n",
        "Question: \u00bfCu\u00e1l es, a su juicio, el principal problema que existe actualmente en Espa\u00f1a? \u00bfY el segundo? \u00bfY el tercero? (MULTIRRESPUESTA).\n",
        "-------------------------------------------------\n",
        "[(u'El paro', 83.0), (u'Los problemas de \\xedndole econ\\xf3mica', 48.2), (u'La clase pol\\xedtica, los partidos pol\\xedticos', 22.6), (u'La sanidad', 7.7), (u'La inmigraci\\xf3n', 7.6), (u'La vivienda', 6.0), (u'La inseguridad ciudadana', 5.8), (u'La educaci\\xf3n', 5.7), (u'La corrupci\\xf3n y el fraude', 5.4), (u'Otras respuestas', 4.2), (u'El terrorismo, ETA', 3.7), (u'El Gobierno, los pol\\xedticos y los partidos', 3.4), (u'Los problemas de \\xedndole social', 3.2), (u'Las pensiones', 2.4), (u'Los problemas relacionados con la calidad del empleo', 2.3), (u'La crisis de valores', 2.3), (u'Los problemas relacionados con la juventud', 1.8), (u'La Administraci\\xf3n de Justicia', 1.4), (u'N.S.', 1.1), (u'La violencia contra la mujer', 0.8), (u'N.C.', 0.8), (u'El funcionamiento de los servicios p\\xfablicos', 0.7), (u'Las drogas', 0.4), (u'Los problemas de la agricultura, ganader\\xeda y pesca', 0.3), (u'Las infraestructuras', 0.2), (u'Los nacionalismos', 0.2), (u'El Estatuto de autonom\\xeda', 0.2), (u'Las guerras en general', 0.1), (u'El racismo', 0.1), (u'Los problemas medioambientales', 0.1), (u'Las preocupaciones y situaciones personales', 0.1), (u'Los problemas relacionados con la mujer', 0.0), (u'El terrorismo internacional', 0.0), (u'Las negociaciones con ETA', 0.0), (u'La Ley antitabaco', 0.0), (u'Ninguno', 0.0)]\n",
        "\n",
        "BAR\u00d3METRO OCTUBRE 2011 , date: 2011-10-01 00:00:00 , doc_type: text/html\n",
        "URL: http://www.cis.es/cis/export/sites/default/-Archivos/Marginales/2900_2919/2914/e291400.html\n",
        "-------------------------------------------------"
       ]
      },
      {
       "output_type": "stream",
       "stream": "stdout",
       "text": [
        "\n",
        "Question: \u00bfCu\u00e1l es, a su juicio, el principal problema que existe actualmente en Espa\u00f1a? \u00bfY el segundo? \u00bfY el tercero? (MULTIRRESPUESTA).\n",
        "-------------------------------------------------\n",
        "[(u'El paro', 80.9), (u'Los problemas de \\xedndole econ\\xf3mica', 51.3), (u'La clase pol\\xedtica, los partidos pol\\xedticos', 23.6), (u'La inmigraci\\xf3n', 8.3), (u'La sanidad', 7.8), (u'La inseguridad ciudadana', 6.4), (u'La educaci\\xf3n', 6.2), (u'La corrupci\\xf3n y el fraude', 5.5), (u'La vivienda', 5.1), (u'El Gobierno, los pol\\xedticos y los partidos', 4.2), (u'Los problemas de \\xedndole social', 3.8), (u'El terrorismo, ETA', 3.3), (u'Otras respuestas', 3.1), (u'Las pensiones', 3.0), (u'Los problemas relacionados con la calidad del empleo', 2.3), (u'La crisis de valores', 2.1), (u'Los problemas relacionados con la juventud', 1.5), (u'La Administraci\\xf3n de Justicia', 1.2), (u'La violencia contra la mujer', 1.0), (u'N.S.', 0.7), (u'Las drogas', 0.6), (u'El funcionamiento de los servicios p\\xfablicos', 0.6), (u'El Estatuto de autonom\\xeda', 0.6), (u'Los problemas de la agricultura, ganader\\xeda y pesca', 0.4), (u'Los problemas medioambientales', 0.3), (u'N.C.', 0.3), (u'Las infraestructuras', 0.1), (u'El racismo', 0.1), (u'Los nacionalismos', 0.1), (u'Las preocupaciones y situaciones personales', 0.1), (u'Las guerras en general', 0.0), (u'Los problemas relacionados con la mujer', 0.0), (u'El terrorismo internacional', 0.0), (u'Las negociaciones con ETA', 0.0), (u'Ninguno', 0.0)]\n",
        "\n",
        "BAR\u00d3METRO SEPTIEMBRE 2011 , date: 2011-09-05 00:00:00 , doc_type: text/html\n",
        "URL: http://www.cis.es/cis/export/sites/default/-Archivos/Marginales/2900_2919/2911/e291100.html\n",
        "-------------------------------------------------"
       ]
      },
      {
       "output_type": "stream",
       "stream": "stdout",
       "text": [
        "\n",
        "Question: \u00bfCu\u00e1l es, a su juicio, el principal problema que existe actualmente en Espa\u00f1a? \u00bfY el segundo? \u00bfY el tercero? (MULTIRRESPUESTA).\n",
        "-------------------------------------------------\n",
        "[(u'El paro', 80.3), (u'Los problemas de \\xedndole econ\\xf3mica', 49.6), (u'La clase pol\\xedtica, los partidos pol\\xedticos', 23.3), (u'La inmigraci\\xf3n', 11.3), (u'La inseguridad ciudadana', 7.4), (u'La educaci\\xf3n', 7.1), (u'La sanidad', 6.1), (u'La vivienda', 4.9), (u'Otras respuestas', 4.9), (u'La corrupci\\xf3n y el fraude', 4.4), (u'El terrorismo, ETA', 3.7), (u'Los problemas de \\xedndole social', 3.6), (u'El Gobierno, los pol\\xedticos y los partidos', 3.2), (u'Los problemas relacionados con la calidad del empleo', 2.7), (u'Las pensiones', 2.4), (u'La crisis de valores', 2.3), (u'Los problemas relacionados con la juventud', 2.2), (u'No_Sabe', 1.3), (u'La Administraci\\xf3n de Justicia', 1.2), (u'La violencia contra la mujer', 1.0), (u'Las drogas', 0.8), (u'El funcionamiento de los servicios p\\xfablicos', 0.6), (u'Las infraestructuras', 0.4), (u'Los nacionalismos', 0.4), (u'El Estatuto de autonom\\xeda', 0.4), (u'No_Contesta', 0.4), (u'Los problemas de la agricultura, ganader\\xeda y pesca', 0.2), (u'Los problemas medioambientales', 0.2), (u'El racismo', 0.1), (u'Las guerras en general', 0.0), (u'Los problemas relacionados con la mujer', 0.0), (u'El terrorismo internacional', 0.0), (u'Las preocupaciones y situaciones personales', 0.0), (u'Las negociaciones con ETA', 0.0), (u'Ninguno', 0.0)]\n",
        "\n",
        "BAR\u00d3METRO JULIO 2011 , date: 2011-07-04 00:00:00 , doc_type: text/html\n",
        "URL: http://www.cis.es/cis/export/sites/default/-Archivos/Marginales/2900_2919/2909/e290900.html\n",
        "-------------------------------------------------"
       ]
      },
      {
       "output_type": "stream",
       "stream": "stdout",
       "text": [
        "\n",
        "Question: \u00bfCu\u00e1l es, a su juicio, el principal problema que existe actualmente en Espa\u00f1a? \u00bfY el segundo? \u00bfY el tercero? (MULTIRRESPUESTA).\n",
        "-------------------------------------------------\n",
        "[(u'El paro', 81.1), (u'Los problemas de \\xedndole econ\\xf3mica', 49.5), (u'La clase pol\\xedtica, los partidos pol\\xedticos', 23.9), (u'La inmigraci\\xf3n', 10.0), (u'La corrupci\\xf3n y el fraude', 7.4), (u'La inseguridad ciudadana', 6.7), (u'La vivienda', 6.7), (u'El Gobierno, los pol\\xedticos y los partidos', 5.3), (u'El terrorismo, ETA', 4.8), (u'La educaci\\xf3n', 4.4), (u'La sanidad', 4.3), (u'Los problemas de \\xedndole social', 3.8), (u'Otras respuestas', 3.4), (u'La crisis de valores', 2.5), (u'Las pensiones', 2.4), (u'Los problemas relacionados con la calidad del empleo', 2.0), (u'Los problemas relacionados con la juventud', 1.8), (u'La Administraci\\xf3n de Justicia', 1.4), (u'La violencia contra la mujer', 1.4), (u'N.S.', 1.0), (u'Las infraestructuras', 0.6), (u'Los problemas medioambientales', 0.6), (u'Las drogas', 0.5), (u'El Estatuto de autonom\\xeda', 0.4), (u'Los problemas de la agricultura, ganader\\xeda y pesca', 0.3), (u'El racismo', 0.3), (u'El funcionamiento de los servicios p\\xfablicos', 0.2), (u'Los nacionalismos', 0.2), (u'N.C.', 0.2), (u'Los problemas relacionados con la mujer', 0.1), (u'Las guerras en general', 0.0), (u'El terrorismo internacional', 0.0), (u'Las preocupaciones y situaciones personales', 0.0), (u'Las negociaciones con ETA', 0.0), (u'Ninguno', 0.0)]\n",
        "\n",
        "BAR\u00d3METRO JUNIO 2011 , date: 2011-06-02 00:00:00 , doc_type: text/html\n",
        "URL: http://www.cis.es/cis/export/sites/default/-Archivos/Marginales/2900_2919/2905/e290500.html\n",
        "-------------------------------------------------"
       ]
      },
      {
       "output_type": "stream",
       "stream": "stdout",
       "text": [
        "\n",
        "Question: \u00bfCu\u00e1l es, a su juicio, el principal problema que existe actualmente en Espa\u00f1a? \u00bfY el segundo? \u00bfY el tercero? (MULTIRRESPUESTA).\n",
        "-------------------------------------------------\n",
        "[(u'El paro', 82.5), (u'Los problemas de \\xedndole econ\\xf3mica', 46.9), (u'La clase pol\\xedtica, los partidos pol\\xedticos', 24.7), (u'La inmigraci\\xf3n', 11.8), (u'La inseguridad ciudadana', 7.7), (u'La vivienda', 7.2), (u'La corrupci\\xf3n y el fraude', 6.9), (u'El terrorismo, ETA', 5.3), (u'El Gobierno, los pol\\xedticos y los partidos', 4.6), (u'La sanidad', 4.4), (u'La educaci\\xf3n', 3.9), (u'Los problemas de \\xedndole social', 3.7), (u'Otras respuestas', 3.6), (u'Los problemas relacionados con la calidad del empleo', 3.0), (u'Las pensiones', 2.6), (u'Los problemas relacionados con la juventud', 2.3), (u'La crisis de valores', 2.2), (u'La violencia contra la mujer', 1.6), (u'La Administraci\\xf3n de Justicia', 1.2), (u'N.S.', 1.1), (u'Los problemas de la agricultura, ganader\\xeda y pesca', 0.8), (u'Las drogas', 0.7), (u'Las infraestructuras', 0.5), (u'Los problemas medioambientales', 0.4), (u'El funcionamiento de los servicios p\\xfablicos', 0.3), (u'El Estatuto de Catalu\\xf1a', 0.3), (u'N.C.', 0.3), (u'El racismo', 0.1), (u'Los problemas relacionados con la mujer', 0.1), (u'El terrorismo internacional', 0.1), (u'Las guerras en general', 0.0), (u'Los nacionalismos', 0.0), (u'Las preocupaciones y situaciones personales', 0.0), (u'Las negociaciones con ETA', 0.0), (u'Ninguno', 0.0)]\n",
        "\n",
        "BAR\u00d3METRO MAYO 2011 , date: 2011-05-03 00:00:00 , doc_type: text/html\n",
        "URL: http://www.cis.es/cis/export/sites/default/-Archivos/Marginales/2880_2899/2888/e288800.html\n",
        "-------------------------------------------------"
       ]
      },
      {
       "output_type": "stream",
       "stream": "stdout",
       "text": [
        "\n",
        "Question: \u00bfCu\u00e1l es, a su juicio, el principal problema que existe actualmente en Espa\u00f1a? \u00bfY el segundo? \u00bfY el tercero? (MULTIRRESPUESTA).\n",
        "-------------------------------------------------\n",
        "[(u'El paro', 84.1), (u'Los problemas de \\xedndole econ\\xf3mica', 46.5), (u'La clase pol\\xedtica, los partidos pol\\xedticos', 22.1), (u'La inmigraci\\xf3n', 11.1), (u'El terrorismo, ETA', 9.1), (u'La inseguridad ciudadana', 7.9), (u'La educaci\\xf3n', 5.6), (u'El Gobierno, los pol\\xedticos y los partidos', 5.4), (u'La corrupci\\xf3n y el fraude', 5.0), (u'La sanidad', 4.1), (u'La vivienda', 4.0), (u'Los problemas de \\xedndole social', 3.7), (u'Otras respuestas', 3.3), (u'Las pensiones', 2.7), (u'Los problemas relacionados con la calidad del empleo', 2.3), (u'Los problemas relacionados con la juventud', 2.0), (u'La Administraci\\xf3n de Justicia', 1.7), (u'La crisis de valores', 1.7), (u'La violencia contra la mujer', 1.3), (u'N.S.', 1.3), (u'Las drogas', 0.9), (u'Las infraestructuras', 0.4), (u'Los problemas de la agricultura, ganader\\xeda y pesca', 0.4), (u'Los problemas medioambientales', 0.4), (u'El funcionamiento de los servicios p\\xfablicos', 0.4), (u'Los nacionalismos', 0.3), (u'N.C.', 0.3), (u'Las guerras en general', 0.1), (u'El racismo', 0.1), (u'Los problemas relacionados con la mujer', 0.1), (u'Las preocupaciones y situaciones personales', 0.1), (u'El Estatuto de Catalu\\xf1a', 0.1), (u'El terrorismo internacional', 0.0), (u'Las negociaciones con ETA', 0.0), (u'Ninguno', 0.0)]\n",
        "\n",
        "BAR\u00d3METRO ABRIL 2011 , date: 2011-04-01 00:00:00 , doc_type: text/html\n",
        "URL: http://www.cis.es/cis/export/sites/default/-Archivos/Marginales/2880_2899/2885/e288500.html\n",
        "-------------------------------------------------"
       ]
      },
      {
       "output_type": "stream",
       "stream": "stdout",
       "text": [
        "\n",
        "Question: \u00bfCu\u00e1l es, a su juicio, el principal problema que existe actualmente en Espa\u00f1a? \u00bfY el segundo? \u00bfY el tercero? (MULTIRRESPUESTA).\n",
        "-------------------------------------------------\n",
        "[(u'El paro', 82.5), (u'Los problemas de \\xedndole econ\\xf3mica', 47.2), (u'La clase pol\\xedtica, los partidos pol\\xedticos', 21.5), (u'La inmigraci\\xf3n', 12.0), (u'La inseguridad ciudadana', 8.0), (u'El terrorismo, ETA', 5.7), (u'El Gobierno, los pol\\xedticos y los partidos', 5.6), (u'La vivienda', 5.5), (u'La educaci\\xf3n', 5.2), (u'La corrupci\\xf3n y el fraude', 5.1), (u'La sanidad', 3.7), (u'Las pensiones', 3.6), (u'Los problemas de \\xedndole social', 3.5), (u'Otras respuestas', 3.4), (u'Los problemas relacionados con la calidad del empleo', 3.3), (u'La crisis de valores', 2.2), (u'Los problemas relacionados con la juventud', 2.0), (u'La Administraci\\xf3n de Justicia', 1.7), (u'N.S.', 1.3), (u'La violencia contra la mujer', 1.2), (u'Las drogas', 0.9), (u'Los problemas medioambientales', 0.5), (u'Las infraestructuras', 0.4), (u'Los problemas de la agricultura, ganader\\xeda y pesca', 0.4), (u'N.C.', 0.4), (u'El funcionamiento de los servicios p\\xfablicos', 0.3), (u'Las guerras en general', 0.2), (u'El racismo', 0.2), (u'Los nacionalismos', 0.2), (u'Los problemas relacionados con la mujer', 0.1), (u'El Estatuto de autonom\\xeda', 0.1), (u'El terrorismo internacional', 0.0), (u'Las preocupaciones y situaciones personales', 0.0), (u'Las negociaciones con ETA', 0.0), (u'Ninguno', 0.0)]\n",
        "\n",
        "BAR\u00d3METRO MARZO 2011 , date: 2011-03-01 00:00:00 , doc_type: text/html\n",
        "URL: http://www.cis.es/cis/export/sites/default/-Archivos/Marginales/2860_2879/2864/e286400.html\n",
        "-------------------------------------------------"
       ]
      },
      {
       "output_type": "stream",
       "stream": "stdout",
       "text": [
        "\n",
        "Question: \u00bfCu\u00e1l es, a su juicio, el principal problema que existe actualmente en Espa\u00f1a? \u00bfY el segundo? \u00bfY el tercero? (MULTIRRESPUESTA).\n",
        "-------------------------------------------------\n",
        "[(u'El paro', 81.8), (u'Los problemas de \\xedndole econ\\xf3mica', 51.2), (u'La clase pol\\xedtica, los partidos pol\\xedticos', 20.1), (u'La inmigraci\\xf3n', 10.4), (u'El Gobierno, los pol\\xedticos y los partidos', 7.1), (u'La inseguridad ciudadana', 6.7), (u'El terrorismo, ETA', 5.7), (u'La vivienda', 5.1), (u'La corrupci\\xf3n y el fraude', 4.6), (u'La educaci\\xf3n', 4.2), (u'Las pensiones', 4.1), (u'Otras respuestas', 3.7), (u'La sanidad', 3.4), (u'Los problemas relacionados con la calidad del empleo', 2.8), (u'Los problemas de \\xedndole social', 2.8), (u'La crisis de valores', 2.4), (u'La Administraci\\xf3n de Justicia', 1.7), (u'La violencia contra la mujer', 1.2), (u'Los problemas relacionados con la juventud', 1.0), (u'N.S.', 0.9), (u'Los problemas medioambientales', 0.8), (u'Las drogas', 0.6), (u'Las infraestructuras', 0.5), (u'Los problemas de la agricultura, ganader\\xeda y pesca', 0.4), (u'El Estatuto de Catalu\\xf1a', 0.4), (u'Las guerras en general', 0.2), (u'El racismo', 0.2), (u'El funcionamiento de los servicios p\\xfablicos', 0.2), (u'Los nacionalismos', 0.2), (u'Las preocupaciones y situaciones personales', 0.2), (u'Ley antitabaco', 0.2), (u'La limitaci\\xf3n de la velocidad en autopistas y autov\\xedas', 0.2), (u'N.C.', 0.1), (u'Los problemas relacionados con la mujer', 0.0), (u'El terrorismo internacional', 0.0), (u'Las negociaciones con ETA', 0.0), (u'Ninguno', 0.0)]\n",
        "\n",
        "BAR\u00d3METRO FEBRERO 2011 , date: 2011-02-01 00:00:00 , doc_type: text/html\n",
        "URL: http://www.cis.es/cis/export/sites/default/-Archivos/Marginales/2860_2879/2861/e286100.html\n",
        "-------------------------------------------------"
       ]
      },
      {
       "output_type": "stream",
       "stream": "stdout",
       "text": [
        "\n",
        "Question: \u00bfCu\u00e1l es, a su juicio, el principal problema que existe actualmente en Espa\u00f1a? \u00bfY el segundo? \u00bfY el tercero? (MULTIRRESPUESTA).\n",
        "-------------------------------------------------\n",
        "[(u'El paro', 83.7), (u'Los problemas de \\xedndole econ\\xf3mica', 51.6), (u'La clase pol\\xedtica, los partidos pol\\xedticos', 17.7), (u'La inmigraci\\xf3n', 12.6), (u'La inseguridad ciudadana', 9.4), (u'El terrorismo, ETA', 5.6), (u'El Gobierno, los pol\\xedticos y los partidos', 5.3), (u'La educaci\\xf3n', 4.9), (u'La vivienda', 4.0), (u'Las pensiones', 3.6), (u'Los problemas relacionados con la calidad del empleo', 3.1), (u'Los problemas de \\xedndole social', 3.0), (u'Otras respuestas', 3.0), (u'La sanidad', 2.9), (u'La corrupci\\xf3n y el fraude', 2.9), (u'La Administraci\\xf3n de Justicia', 2.5), (u'La crisis de valores', 2.5), (u'La violencia contra la mujer', 1.8), (u'Los problemas relacionados con la juventud', 1.7), (u'N.S.', 1.1), (u'Las drogas', 0.8), (u'Los nacionalismos', 0.5), (u'Las infraestructuras', 0.4), (u'Los problemas de la agricultura, ganader\\xeda y pesca', 0.4), (u'El funcionamiento de los servicios p\\xfablicos', 0.4), (u'N.C.', 0.4), (u'Los problemas medioambientales', 0.3), (u'El Estatuto de Catalu\\xf1a', 0.2), (u'Ley antitabaco', 0.2), (u'El racismo', 0.1), (u'Los problemas relacionados con la mujer', 0.1), (u'Las guerras en general', 0.0), (u'El terrorismo internacional', 0.0), (u'Las preocupaciones y situaciones personales', 0.0), (u'Las negociaciones con ETA', 0.0), (u'Ninguno', 0.0)]\n",
        "\n",
        "BAR\u00d3METRO ENERO 2011 , date: 2011-01-07 00:00:00 , doc_type: text/html\n",
        "URL: http://www.cis.es/cis/export/sites/default/-Archivos/Marginales/2840_2859/2859/e285900.html\n",
        "-------------------------------------------------"
       ]
      },
      {
       "output_type": "stream",
       "stream": "stdout",
       "text": [
        "\n",
        "Question: \u00bfCu\u00e1l es, a su juicio, el principal problema que existe actualmente en Espa\u00f1a? \u00bfY el segundo? \u00bfY el tercero? (MULTIRRESPUESTA).\n",
        "-------------------------------------------------\n",
        "[(u'El paro', 82.4), (u'Los problemas de \\xedndole econ\\xf3mica', 52.9), (u'La clase pol\\xedtica, los partidos pol\\xedticos', 20.6), (u'La inmigraci\\xf3n', 12.8), (u'El terrorismo, ETA', 7.4), (u'La inseguridad ciudadana', 7.3), (u'El Gobierno, los pol\\xedticos y los partidos', 6.7), (u'La vivienda', 4.4), (u'Las pensiones', 4.2), (u'La educaci\\xf3n', 4.0), (u'Los problemas de \\xedndole social', 3.9), (u'La sanidad', 3.6), (u'Otras respuestas', 3.1), (u'La crisis de valores', 3.0), (u'Los problemas relacionados con la calidad del empleo', 2.7), (u'La corrupci\\xf3n y el fraude', 2.4), (u'La violencia contra la mujer', 1.4), (u'Los problemas relacionados con la juventud', 1.4), (u'N.S.', 1.2), (u'La Administraci\\xf3n de Justicia', 1.0), (u'Las drogas', 0.6), (u'Las infraestructuras', 0.6), (u'El funcionamiento de los servicios p\\xfablicos', 0.6), (u'Ley antitabaco', 0.6), (u'Los problemas medioambientales', 0.4), (u'Los nacionalismos', 0.4), (u'El Estatuto de Catalu\\xf1a', 0.3), (u'N.C.', 0.3), (u'Los problemas de la agricultura, ganader\\xeda y pesca', 0.2), (u'El racismo', 0.2), (u'Las guerras en general', 0.0), (u'Los problemas relacionados con la mujer', 0.0), (u'El terrorismo internacional', 0.0), (u'Las preocupaciones y situaciones personales', 0.0), (u'Las negociaciones con ETA', 0.0), (u'Ninguno', 0.0)]\n",
        "\n",
        "BAR\u00d3METRO DICIEMBRE 2010 , date: 2010-12-01 00:00:00 , doc_type: text/html\n",
        "URL: http://www.cis.es/cis/export/sites/default/-Archivos/Marginales/2840_2859/2856/e285600.html\n",
        "-------------------------------------------------"
       ]
      },
      {
       "output_type": "stream",
       "stream": "stdout",
       "text": [
        "\n",
        "Question: \u00bfCu\u00e1l es, a su juicio, el principal problema que existe actualmente en Espa\u00f1a? \u00bfY el segundo? \u00bfY el tercero? (MULTIRRESPUESTA).\n",
        "-------------------------------------------------\n",
        "[(u'El paro', 78.5), (u'Los problemas de \\xedndole econ\\xf3mica', 51.9), (u'La clase pol\\xedtica, los partidos pol\\xedticos', 19.3), (u'La inmigraci\\xf3n', 13.8), (u'La inseguridad ciudadana', 8.1), (u'El Gobierno, los pol\\xedticos y los partidos', 6.6), (u'El terrorismo, ETA', 6.0), (u'La vivienda', 5.2), (u'Los problemas de \\xedndole social', 4.9), (u'La educaci\\xf3n', 4.9), (u'Las pensiones', 3.6), (u'La sanidad', 3.0), (u'Otras respuestas', 2.8), (u'La corrupci\\xf3n y el fraude', 2.7), (u'La crisis de valores', 2.5), (u'Los problemas relacionados con la calidad del empleo', 1.9), (u'La Administraci\\xf3n de Justicia', 1.5), (u'Los problemas relacionados con la juventud', 1.5), (u'Las drogas', 1.4), (u'La violencia contra la mujer', 1.4), (u'N.S.', 0.9), (u'Las infraestructuras', 0.6), (u'Los problemas medioambientales', 0.6), (u'El Estatuto de Catalu\\xf1a', 0.6), (u'Los problemas de la agricultura, ganader\\xeda y pesca', 0.5), (u'Los nacionalismos', 0.4), (u'Las preocupaciones y situaciones personales', 0.4), (u'N.C.', 0.4), (u'El funcionamiento de los servicios p\\xfablicos', 0.2), (u'El racismo', 0.1), (u'Las guerras en general', 0.0), (u'Los problemas relacionados con la mujer', 0.0), (u'El terrorismo internacional', 0.0), (u'Las negociaciones con ETA', 0.0), (u'Ninguno', 0.0)]\n",
        "\n",
        "BAR\u00d3METRO NOVIEMBRE 2010 , date: 2010-11-03 00:00:00 , doc_type: text/html\n",
        "URL: http://www.cis.es/cis/export/sites/default/-Archivos/Marginales/2840_2859/2853/e285300.html\n",
        "-------------------------------------------------"
       ]
      },
      {
       "output_type": "stream",
       "stream": "stdout",
       "text": [
        "\n",
        "Question: \u00bfCu\u00e1l es, a su juicio, el principal problema que existe actualmente en Espa\u00f1a? \u00bfY el segundo? \u00bfY el tercero? (MULTIRRESPUESTA).\n",
        "-------------------------------------------------\n",
        "[(u'El paro', 79.4), (u'Los problemas de \\xedndole econ\\xf3mica', 47.8), (u'La clase pol\\xedtica, los partidos pol\\xedticos', 18.1), (u'La inmigraci\\xf3n', 14.7), (u'El terrorismo, ETA', 9.9), (u'La inseguridad ciudadana', 8.3), (u'El Gobierno, los pol\\xedticos y los partidos', 6.4), (u'La vivienda', 6.0), (u'La educaci\\xf3n', 5.2), (u'Las pensiones', 4.1), (u'Los problemas de \\xedndole social', 3.9), (u'La corrupci\\xf3n y el fraude', 3.3), (u'La sanidad', 3.0), (u'Otras respuestas', 2.7), (u'Los problemas relacionados con la calidad del empleo', 2.3), (u'La crisis de valores', 2.1), (u'La violencia contra la mujer', 1.7), (u'La Administraci\\xf3n de Justicia', 1.6), (u'Los problemas relacionados con la juventud', 1.4), (u'N.S.', 1.3), (u'Las drogas', 1.1), (u'Los problemas medioambientales', 0.4), (u'Los nacionalismos', 0.4), (u'El funcionamiento de los servicios p\\xfablicos', 0.3), (u'Las infraestructuras', 0.2), (u'Los problemas de la agricultura, ganader\\xeda y pesca', 0.2), (u'El racismo', 0.2), (u'El Estatuto de Catalu\\xf1a', 0.2), (u'N.C.', 0.2), (u'Las guerras en general', 0.1), (u'Los problemas relacionados con la mujer', 0.1), (u'Las preocupaciones y situaciones personales', 0.1), (u'El terrorismo internacional', 0.0), (u'Las negociaciones con ETA', 0.0), (u'Ninguno', 0.0)]\n",
        "\n",
        "BAR\u00d3METRO OCTUBRE 2010 , date: 2010-10-04 00:00:00 , doc_type: text/html\n",
        "URL: http://www.cis.es/cis/export/sites/default/-Archivos/Marginales/2840_2859/2847/e284700.html\n",
        "-------------------------------------------------"
       ]
      },
      {
       "output_type": "stream",
       "stream": "stdout",
       "text": [
        "\n",
        "Question: \u00bfCu\u00e1l es, a su juicio, el principal problema que existe actualmente en Espa\u00f1a? \u00bfY el segundo? \u00bfY el tercero? (MULTIRRESPUESTA).\n",
        "-------------------------------------------------\n",
        "[(u'El paro', 81.0), (u'Los problemas de \\xedndole econ\\xf3mica', 47.7), (u'La clase pol\\xedtica, los partidos pol\\xedticos', 18.1), (u'La inmigraci\\xf3n', 14.0), (u'La inseguridad ciudadana', 7.3), (u'El terrorismo, ETA', 6.9), (u'El Gobierno, los pol\\xedticos y los partidos', 6.1), (u'La vivienda', 5.3), (u'La educaci\\xf3n', 5.1), (u'La corrupci\\xf3n y el fraude', 4.4), (u'Las pensiones', 4.2), (u'La sanidad', 3.9), (u'Los problemas relacionados con la calidad del empleo', 3.4), (u'Los problemas de \\xedndole social', 3.2), (u'Otras respuestas', 3.2), (u'La crisis de valores', 1.6), (u'La Administraci\\xf3n de Justicia', 1.5), (u'Los problemas relacionados con la juventud', 1.5), (u'Las drogas', 1.3), (u'N.S.', 1.1), (u'La violencia contra la mujer', 0.9), (u'El funcionamiento de los servicios p\\xfablicos', 0.7), (u'Las infraestructuras', 0.6), (u'Las preocupaciones y situaciones personales', 0.4), (u'El Estatuto de Catalu\\xf1a', 0.4), (u'N.C.', 0.4), (u'Los problemas de la agricultura, ganader\\xeda y pesca', 0.2), (u'Los problemas medioambientales', 0.2), (u'Los nacionalismos', 0.2), (u'Las guerras en general', 0.0), (u'El racismo', 0.0), (u'Los problemas relacionados con la mujer', 0.0), (u'El terrorismo internacional', 0.0), (u'Las negociaciones con ETA', 0.0), (u'Ninguno', 0.0)]\n",
        "\n",
        "BAR\u00d3METRO SEPTIEMBRE 2010 , date: 2010-09-03 00:00:00 , doc_type: text/html\n",
        "URL: http://www.cis.es/cis/export/sites/default/-Archivos/Marginales/2840_2859/2844/e284400.html\n",
        "-------------------------------------------------"
       ]
      },
      {
       "output_type": "stream",
       "stream": "stdout",
       "text": [
        "\n",
        "Question: \u00bfCu\u00e1l es, a su juicio, el principal problema que existe actualmente en Espa\u00f1a? \u00bfY el segundo? \u00bfY el tercero? (MULTIRRESPUESTA).\n",
        "-------------------------------------------------\n",
        "[(u'El paro', 78.3), (u'Los problemas de \\xedndole econ\\xf3mica', 48.2), (u'La clase pol\\xedtica, los partidos pol\\xedticos', 19.8), (u'La inmigraci\\xf3n', 15.4), (u'El terrorismo, ETA', 9.0), (u'La inseguridad ciudadana', 7.5), (u'La vivienda', 6.0), (u'La educaci\\xf3n', 5.4), (u'El Gobierno, los pol\\xedticos y los partidos', 5.3), (u'Los problemas relacionados con la calidad del empleo', 4.0), (u'La sanidad', 3.4), (u'La corrupci\\xf3n y el fraude', 3.1), (u'Las pensiones', 3.1), (u'Los problemas de \\xedndole social', 3.0), (u'Otras respuestas', 3.0), (u'La crisis de valores', 2.4), (u'N.S.', 1.9), (u'La Administraci\\xf3n de Justicia', 1.4), (u'Los problemas relacionados con la juventud', 1.3), (u'Las drogas', 1.0), (u'La violencia contra la mujer', 0.8), (u'Los problemas de la agricultura, ganader\\xeda y pesca', 0.6), (u'Los problemas medioambientales', 0.6), (u'Los nacionalismos', 0.6), (u'El funcionamiento de los servicios p\\xfablicos', 0.5), (u'N.C.', 0.4), (u'Las infraestructuras', 0.3), (u'El Estatuto de Catalu\\xf1a', 0.2), (u'Las guerras en general', 0.1), (u'El racismo', 0.1), (u'Los problemas relacionados con la mujer', 0.1), (u'Las preocupaciones y situaciones personales', 0.1), (u'El terrorismo internacional', 0.0), (u'Las negociaciones con ETA', 0.0), (u'Ninguno', 0.0)]\n",
        "\n",
        "BAR\u00d3METRO JULIO 2010 , date: 2010-07-15 00:00:00 , doc_type: text/html\n",
        "URL: http://www.cis.es/cis/export/sites/default/-Archivos/Marginales/2840_2859/2843/e284300.html\n",
        "-------------------------------------------------"
       ]
      },
      {
       "output_type": "stream",
       "stream": "stdout",
       "text": [
        "\n",
        "Question: \u00bfCu\u00e1l es, a su juicio, el principal problema que existe actualmente en Espa\u00f1a? \u00bfY el segundo? \u00bfY el tercero? (MULTIRRESPUESTA).\n",
        "-------------------------------------------------\n",
        "[(u'El paro', 77.8), (u'Los problemas de \\xedndole econ\\xf3mica', 51.3), (u'La clase pol\\xedtica, los partidos pol\\xedticos', 21.6), (u'La inmigraci\\xf3n', 12.4), (u'La inseguridad ciudadana', 8.1), (u'La vivienda', 6.7), (u'El Gobierno, los pol\\xedticos y los partidos', 6.4), (u'El terrorismo, ETA', 5.5), (u'La sanidad', 4.0), (u'La educaci\\xf3n', 3.8), (u'Los problemas relacionados con la calidad del empleo', 3.2), (u'Las pensiones', 3.0), (u'Otras respuestas', 2.9), (u'La corrupci\\xf3n y el fraude', 2.7), (u'La crisis de valores', 2.6), (u'Los problemas de \\xedndole social', 2.5), (u'La violencia contra la mujer', 1.4), (u'N.S.', 1.4), (u'Los problemas relacionados con la juventud', 1.3), (u'Los nacionalismos', 1.3), (u'La Administraci\\xf3n de Justicia', 1.2), (u'Las drogas', 0.7), (u'Las infraestructuras', 0.6), (u'Los problemas medioambientales', 0.6), (u'El Estatuto de Catalu\\xf1a', 0.6), (u'Los problemas de la agricultura, ganader\\xeda y pesca', 0.3), (u'El funcionamiento de los servicios p\\xfablicos', 0.3), (u'N.C.', 0.3), (u'El racismo', 0.1), (u'Las guerras en general', 0.0), (u'Los problemas relacionados con la mujer', 0.0), (u'El terrorismo internacional', 0.0), (u'Las preocupaciones y situaciones personales', 0.0), (u'Las negociaciones con ETA', 0.0), (u'Ninguno', 0.0)]\n",
        "\n",
        "BAR\u00d3METRO JUNIO 2010 , date: 2010-06-02 00:00:00 , doc_type: text/html\n",
        "URL: http://www.cis.es/cis/export/sites/default/-Archivos/Marginales/2820_2839/2838/e283800.html\n",
        "-------------------------------------------------"
       ]
      },
      {
       "output_type": "stream",
       "stream": "stdout",
       "text": [
        "\n",
        "Question: \u00bfCu\u00e1l es, a su juicio, el principal problema que existe actualmente en Espa\u00f1a? \u00bfY el segundo? \u00bfY el tercero? (MULTIRRESPUESTA).\n",
        "-------------------------------------------------\n",
        "[(u'El paro', 75.8), (u'Los problemas de \\xedndole econ\\xf3mica', 52.9), (u'La clase pol\\xedtica, los partidos pol\\xedticos', 20.6), (u'La inmigraci\\xf3n', 12.5), (u'La inseguridad ciudadana', 7.3), (u'El Gobierno, los pol\\xedticos y los partidos', 7.1), (u'El terrorismo, ETA', 7.0), (u'La vivienda', 5.3), (u'Otras respuestas', 5.0), (u'La corrupci\\xf3n y el fraude', 4.5), (u'Los problemas relacionados con la calidad del empleo', 3.4), (u'La educaci\\xf3n', 3.3), (u'La sanidad', 3.2), (u'Las pensiones', 2.9), (u'Los problemas de \\xedndole social', 2.5), (u'La crisis de valores', 2.4), (u'La Administraci\\xf3n de Justicia', 1.7), (u'La violencia contra la mujer', 1.2), (u'N.S.', 1.2), (u'Los problemas relacionados con la juventud', 0.9), (u'Las drogas', 0.6), (u'N.C.', 0.6), (u'El funcionamiento de los servicios p\\xfablicos', 0.5), (u'Los problemas medioambientales', 0.4), (u'Las infraestructuras', 0.3), (u'Los nacionalismos', 0.3), (u'Los problemas de la agricultura, ganader\\xeda y pesca', 0.2), (u'El racismo', 0.2), (u'El Estatuto de Catalu\\xf1a', 0.2), (u'Las preocupaciones y situaciones personales', 0.1), (u'Las guerras en general', 0.0), (u'Los problemas relacionados con la mujer', 0.0), (u'El terrorismo internacional', 0.0), (u'Las negociaciones con ETA', 0.0), (u'Ninguno', 0.0)]\n",
        "\n",
        "BAR\u00d3METRO MAYO 2010 , date: 2010-05-04 00:00:00 , doc_type: text/html\n",
        "URL: http://www.cis.es/cis/export/sites/default/-Archivos/Marginales/2820_2839/2836/e283600.html\n",
        "-------------------------------------------------"
       ]
      },
      {
       "output_type": "stream",
       "stream": "stdout",
       "text": [
        "\n",
        "Question: \u00bfCu\u00e1l es, a su juicio, el principal problema que existe actualmente en Espa\u00f1a? \u00bfY el segundo? \u00bfY el tercero? (MULTIRRESPUESTA).\n",
        "-------------------------------------------------\n",
        "[(u'El paro', 79.8), (u'Los problemas de \\xedndole econ\\xf3mica', 50.8), (u'La clase pol\\xedtica, los partidos pol\\xedticos', 18.7), (u'La inmigraci\\xf3n', 14.1), (u'La inseguridad ciudadana', 9.7), (u'El terrorismo, ETA', 9.2), (u'La vivienda', 7.0), (u'El Gobierno, los pol\\xedticos y los partidos', 5.6), (u'La educaci\\xf3n', 4.9), (u'La corrupci\\xf3n y el fraude', 4.4), (u'Otras respuestas', 3.5), (u'La sanidad', 3.3), (u'Los problemas relacionados con la calidad del empleo', 2.9), (u'Los problemas de \\xedndole social', 2.7), (u'La Administraci\\xf3n de Justicia', 1.9), (u'N.S.', 1.9), (u'La crisis de valores', 1.8), (u'Las pensiones', 1.7), (u'La violencia contra la mujer', 1.7), (u'Las drogas', 1.4), (u'Los problemas relacionados con la juventud', 1.4), (u'Los problemas de la agricultura, ganader\\xeda y pesca', 0.7), (u'N.C.', 0.6), (u'Las infraestructuras', 0.5), (u'Los problemas medioambientales', 0.4), (u'Los nacionalismos', 0.4), (u'El Estatuto de Catalu\\xf1a', 0.4), (u'El funcionamiento de los servicios p\\xfablicos', 0.3), (u'El racismo', 0.2), (u'Los problemas relacionados con la mujer', 0.1), (u'Las preocupaciones y situaciones personales', 0.1), (u'Las guerras en general', 0.0), (u'El terrorismo internacional', 0.0), (u'Las negociaciones con ETA', 0.0), (u'Ninguno', 0.0)]\n",
        "\n",
        "BAR\u00d3METRO ABRIL 2010 , date: 2010-04-06 00:00:00 , doc_type: text/html\n",
        "URL: http://www.cis.es/cis/export/sites/default/-Archivos/Marginales/2820_2839/2834/e283400.html\n",
        "-------------------------------------------------"
       ]
      },
      {
       "output_type": "stream",
       "stream": "stdout",
       "text": [
        "\n",
        "Question: \u00bfCu\u00e1l es, a su juicio, el principal problema que existe actualmente en Espa\u00f1a? \u00bfY el segundo? \u00bfY el tercero? (MULTIRRESPUESTA).\n",
        "-------------------------------------------------\n",
        "[(u'El paro', 79.6), (u'Los problemas de \\xedndole econ\\xf3mica', 46.8), (u'La clase pol\\xedtica, los partidos pol\\xedticos', 19.4), (u'La inmigraci\\xf3n', 13.3), (u'El terrorismo, ETA', 12.3), (u'La corrupci\\xf3n y el fraude', 9.4), (u'La inseguridad ciudadana', 9.3), (u'La vivienda', 6.5), (u'La educaci\\xf3n', 4.9), (u'El Gobierno, los pol\\xedticos y los partidos', 4.6), (u'Otras respuestas', 4.0), (u'La Administraci\\xf3n de Justicia', 3.9), (u'La sanidad', 3.2), (u'Los problemas de \\xedndole social', 2.9), (u'La violencia contra la mujer', 2.6), (u'Las pensiones', 2.5), (u'La crisis de valores', 2.5), (u'Los problemas relacionados con la calidad del empleo', 2.4), (u'Los problemas relacionados con la juventud', 1.9), (u'Las drogas', 1.1), (u'N.S.', 1.1), (u'Las infraestructuras', 0.5), (u'Los problemas medioambientales', 0.5), (u'El funcionamiento de los servicios p\\xfablicos', 0.4), (u'Los nacionalismos', 0.3), (u'Las preocupaciones y situaciones personales', 0.3), (u'N.C.', 0.3), (u'Los problemas de la agricultura, ganader\\xeda y pesca', 0.2), (u'El racismo', 0.2), (u'El Estatuto de Catalu\\xf1a', 0.2), (u'Las guerras en general', 0.0), (u'Los problemas relacionados con la mujer', 0.0), (u'El terrorismo internacional', 0.0), (u'Las negociaciones con ETA', 0.0), (u'Ninguno', 0.0)]\n",
        "\n",
        "BAR\u00d3METRO MARZO 2010 , date: 2010-03-02 00:00:00 , doc_type: text/html\n",
        "URL: http://www.cis.es/cis/export/sites/default/-Archivos/Marginales/2820_2839/2831/e283100.html\n",
        "-------------------------------------------------"
       ]
      },
      {
       "output_type": "stream",
       "stream": "stdout",
       "text": [
        "\n",
        "Question: \u00bfCu\u00e1l es, a su juicio, el principal problema que existe actualmente en Espa\u00f1a? \u00bfY el segundo? \u00bfY (MULTIRRESPUESTA).\n",
        "-------------------------------------------------\n",
        "[(u'El paro', 42.2), (u'Los problemas de \\xedndole econ\\xf3mica', 38.6), (u'N.C.', 9.9), (u'N.S.', 8.8), (u'La vivienda', 7.6), (u'Las pensiones', 7.6), (u'La clase pol\\xedtica, los partidos pol\\xedticos', 5.5), (u'La educaci\\xf3n', 5.5), (u'La inseguridad ciudadana', 5.3), (u'La sanidad', 5.3), (u'Los problemas relacionados con la calidad del empleo', 4.8), (u'La inmigraci\\xf3n', 4.6), (u'Los problemas de \\xedndole social', 2.9), (u'Las preocupaciones y situaciones personales', 2.7), (u'Otras respuestas', 2.5), (u'La crisis de valores', 1.6), (u'El terrorismo, ETA', 1.5), (u'El Gobierno, los pol\\xedticos y los partidos', 1.4), (u'Los problemas relacionados con la juventud', 1.3), (u'Las infraestructuras', 1.2), (u'La corrupci\\xf3n y el fraude', 1.2), (u'La Administraci\\xf3n de Justicia', 0.9), (u'Los problemas de la agricultura, ganader\\xeda y pesca', 0.6), (u'Los problemas medioambientales', 0.6), (u'El funcionamiento de los servicios p\\xfablicos', 0.6), (u'Los problemas relacionados con la mujer', 0.5), (u'La violencia contra la mujer', 0.4), (u'Las drogas', 0.3), (u'El racismo', 0.2), (u'Los nacionalismos', 0.1), (u'El Estatuto de Catalu\\xf1a', 0.1), (u'Las guerras en general', 0.0), (u'El terrorismo internacional', 0.0), (u'Las negociaciones con ETA', 0.0), (u'Ninguno', 0.0)]\n",
        "\n",
        "BAR\u00d3METRO FEBRERO 2010 , date: 2010-02-05 00:00:00 , doc_type: text/html\n",
        "URL: http://www.cis.es/cis/export/sites/default/-Archivos/Marginales/2820_2839/2830/e283000.html\n",
        "-------------------------------------------------"
       ]
      },
      {
       "output_type": "stream",
       "stream": "stdout",
       "text": [
        "\n",
        "Question: \u00bfCu\u00e1l es, a su juicio, el principal problema que existe actualmente en Espa\u00f1a? \u00bfY el segundo? \u00bfY el tercero? (MULTIRRESPUESTA).\n",
        "-------------------------------------------------\n",
        "[(u'El paro', 81.7), (u'Los problemas de \\xedndole econ\\xf3mica', 47.7), (u'La clase pol\\xedtica, los partidos pol\\xedticos', 16.8), (u'La inmigraci\\xf3n', 16.5), (u'El terrorismo, ETA', 12.5), (u'La inseguridad ciudadana', 8.3), (u'La vivienda', 7.1), (u'El Gobierno, los pol\\xedticos y los partidos', 5.9), (u'La sanidad', 4.3), (u'La educaci\\xf3n', 4.0), (u'Las pensiones', 3.6), (u'Los problemas de \\xedndole social', 3.3), (u'Otras respuestas', 3.3), (u'Los problemas relacionados con la calidad del empleo', 3.0), (u'La corrupci\\xf3n y el fraude', 2.8), (u'La crisis de valores', 1.6), (u'La Administraci\\xf3n de Justicia', 1.5), (u'La violencia contra la mujer', 1.2), (u'Los problemas relacionados con la juventud', 1.2), (u'Las drogas', 1.0), (u'N.S.', 1.0), (u'Las infraestructuras', 0.6), (u'N.C.', 0.5), (u'Los problemas de la agricultura, ganader\\xeda y pesca', 0.4), (u'Los problemas medioambientales', 0.4), (u'El funcionamiento de los servicios p\\xfablicos', 0.4), (u'Los nacionalismos', 0.4), (u'El Estatuto de Catalu\\xf1a', 0.4), (u'El racismo', 0.3), (u'Los problemas relacionados con la mujer', 0.1), (u'Las preocupaciones y situaciones personales', 0.1), (u'Las guerras en general', 0.0), (u'El terrorismo internacional', 0.0), (u'Las negociaciones con ETA', 0.0), (u'Ninguno', 0.0)]\n",
        "\n",
        "BAR\u00d3METRO ENERO 2010 , date: 2010-01-09 00:00:00 , doc_type: text/html\n",
        "URL: http://www.cis.es/cis/export/sites/default/-Archivos/Marginales/2820_2839/2828/e282800.html\n",
        "-------------------------------------------------"
       ]
      },
      {
       "output_type": "stream",
       "stream": "stdout",
       "text": [
        "\n",
        "Question: \u00bfCu\u00e1l es, a su juicio, el principal problema que existe actualmente en Espa\u00f1a? \u00bfY el segundo? \u00bfY el tercero? (MULTIRRESPUESTA).\n",
        "-------------------------------------------------\n",
        "[(u'El paro', 82.6), (u'Los problemas de \\xedndole econ\\xf3mica', 47.0), (u'El terrorismo, ETA', 17.6), (u'La inmigraci\\xf3n', 16.6), (u'La clase pol\\xedtica, los partidos pol\\xedticos', 14.9), (u'La vivienda', 9.4), (u'La inseguridad ciudadana', 8.1), (u'La educaci\\xf3n', 4.4), (u'El Gobierno, los pol\\xedticos y los partidos', 4.4), (u'Otras respuestas', 3.9), (u'La sanidad', 3.7), (u'Los problemas de \\xedndole social', 3.3), (u'Los problemas relacionados con la calidad del empleo', 3.2), (u'La corrupci\\xf3n y el fraude', 2.9), (u'La crisis de valores', 2.3), (u'Las pensiones', 2.1), (u'La Administraci\\xf3n de Justicia', 2.1), (u'La violencia contra la mujer', 1.9), (u'Los problemas relacionados con la juventud', 1.3), (u'Las drogas', 1.1), (u'N.S.', 1.0), (u'Los problemas de la agricultura, ganader\\xeda y pesca', 0.8), (u'Las infraestructuras', 0.6), (u'Los problemas medioambientales', 0.6), (u'Los nacionalismos', 0.4), (u'El Estatuto de Catalu\\xf1a', 0.4), (u'El funcionamiento de los servicios p\\xfablicos', 0.3), (u'El racismo', 0.2), (u'N.C.', 0.2), (u'Las guerras en general', 0.1), (u'Las preocupaciones y situaciones personales', 0.1), (u'Los problemas relacionados con la mujer', 0.0), (u'El terrorismo internacional', 0.0), (u'Las negociaciones con ETA', 0.0), (u'Ninguno', 0.0)]\n",
        "\n",
        "BAR\u00d3METRO DICIEMBRE 2009 , date: 2009-12-01 00:00:00 , doc_type: text/html\n",
        "URL: http://www.cis.es/cis/export/sites/default/-Archivos/Marginales/2820_2839/2824/e282400.html\n",
        "-------------------------------------------------"
       ]
      },
      {
       "output_type": "stream",
       "stream": "stdout",
       "text": [
        "\n",
        "Question: \u00bfCu\u00e1l es, a su juicio, el principal problema que existe actualmente en Espa\u00f1a? \u00bfY el segundo? \u00bfY el tercero? (MULTIRRESPUESTA).\n",
        "-------------------------------------------------\n",
        "[(u'El paro', 78.9), (u'Los problemas de \\xedndole econ\\xf3mica', 47.0), (u'La clase pol\\xedtica, los partidos pol\\xedticos', 13.6), (u'El terrorismo, ETA', 12.9), (u'La inmigraci\\xf3n', 12.4), (u'La inseguridad ciudadana', 11.8), (u'La vivienda', 8.5), (u'La educaci\\xf3n', 6.2), (u'La sanidad', 4.8), (u'El Gobierno, los pol\\xedticos y los partidos', 4.7), (u'La corrupci\\xf3n y el fraude', 3.9), (u'Los problemas de \\xedndole social', 3.3), (u'Otras respuestas', 3.3), (u'La violencia contra la mujer', 2.7), (u'Los problemas relacionados con la calidad del empleo', 2.6), (u'La Administraci\\xf3n de Justicia', 2.6), (u'La crisis de valores', 2.1), (u'Las drogas', 1.9), (u'Las pensiones', 1.9), (u'N.S.', 1.6), (u'Los problemas medioambientales', 1.1), (u'Los problemas de la agricultura, ganader\\xeda y pesca', 0.8), (u'Los problemas relacionados con la juventud', 0.7), (u'Las infraestructuras', 0.6), (u'Los nacionalismos', 0.5), (u'El Estatuto de Catalu\\xf1a', 0.5), (u'N.C.', 0.4), (u'El funcionamiento de los servicios p\\xfablicos', 0.3), (u'El racismo', 0.2), (u'Las preocupaciones y situaciones personales', 0.2), (u'Las guerras en general', 0.0), (u'Los problemas relacionados con la mujer', 0.0), (u'El terrorismo internacional', 0.0), (u'Las negociaciones con ETA', 0.0), (u'Ninguno', 0.0)]\n",
        "\n",
        "BAR\u00d3METRO NOVIEMBRE 2009 , date: 2009-11-02 00:00:00 , doc_type: text/html\n",
        "URL: http://www.cis.es/cis/export/sites/default/-Archivos/Marginales/2820_2839/2820/e282000.html\n",
        "-------------------------------------------------"
       ]
      },
      {
       "output_type": "stream",
       "stream": "stdout",
       "text": [
        "\n",
        "Question: \u00bfCu\u00e1l es, a su juicio, el principal problema que existe actualmente en Espa\u00f1a? \u00bfY el segundo? \u00bfY el tercero? (MULTIRRESPUESTA).\n",
        "-------------------------------------------------\n",
        "[(u'El paro', 78.3), (u'Los problemas de \\xedndole econ\\xf3mica', 45.9), (u'La clase pol\\xedtica, los partidos pol\\xedticos', 16.6), (u'La inmigraci\\xf3n', 13.7), (u'El terrorismo, ETA', 13.1), (u'La inseguridad ciudadana', 11.4), (u'La corrupci\\xf3n y el fraude', 10.4), (u'La vivienda', 10.3), (u'La educaci\\xf3n', 5.9), (u'La sanidad', 5.6), (u'Los problemas de \\xedndole social', 3.6), (u'El Gobierno, los pol\\xedticos y los partidos', 3.6), (u'Los problemas relacionados con la calidad del empleo', 2.8), (u'Otras respuestas', 2.7), (u'La Administraci\\xf3n de Justicia', 2.3), (u'La crisis de valores', 2.2), (u'Las pensiones', 2.0), (u'La violencia contra la mujer', 1.5), (u'Los problemas relacionados con la juventud', 1.5), (u'Las drogas', 1.2), (u'No_sabe', 1.1), (u'Los problemas medioambientales', 0.9), (u'Los problemas de la agricultura, ganader\\xeda y pesca', 0.7), (u'El funcionamiento de los servicios p\\xfablicos', 0.7), (u'No_contesta', 0.7), (u'Las infraestructuras', 0.4), (u'Las guerras en general', 0.2), (u'Las preocupaciones y situaciones personales', 0.2), (u'El Estatuto de Catalu\\xf1a', 0.2), (u'El racismo', 0.1), (u'Los problemas relacionados con la mujer', 0.1), (u'El terrorismo internacional', 0.1), (u'Los nacionalismos', 0.0), (u'Las negociaciones con ETA', 0.0), (u'Ninguno', 0.0)]\n",
        "\n",
        "BAR\u00d3METRO OCTUBRE 2009 , date: 2009-10-07 00:00:00 , doc_type: text/html\n",
        "URL: http://www.cis.es/cis/export/sites/default/-Archivos/Marginales/2800_2819/2815/e281500.html\n",
        "-------------------------------------------------"
       ]
      },
      {
       "output_type": "stream",
       "stream": "stdout",
       "text": [
        "\n",
        "Question: \u00bfCu\u00e1l es, a su juicio, el principal problema que existe actualmente en Espa\u00f1a? \u00bfY el segundo? \u00bfY el tercero? (MULTIRRESPUESTA).\n",
        "-------------------------------------------------\n",
        "[(u'El paro', 72.9), (u'Los problemas de \\xedndole econ\\xf3mica', 46.8), (u'La inmigraci\\xf3n', 15.1), (u'La clase pol\\xedtica, los partidos pol\\xedticos', 13.3), (u'El terrorismo, ETA', 12.6), (u'La inseguridad ciudadana', 9.9), (u'La vivienda', 7.6), (u'La educaci\\xf3n', 6.0), (u'La corrupci\\xf3n y el fraude', 5.2), (u'El Gobierno, los pol\\xedticos y los partidos', 5.0), (u'La sanidad', 4.8), (u'Los problemas de \\xedndole social', 3.2), (u'No_contesta', 3.2), (u'La crisis de valores', 3.1), (u'Otras respuestas', 2.7), (u'Los problemas relacionados con la calidad del empleo', 2.6), (u'La Administraci\\xf3n de Justicia', 2.1), (u'Las pensiones', 1.9), (u'No_sabe', 1.7), (u'Los problemas relacionados con la juventud', 1.6), (u'Las drogas', 1.5), (u'La violencia contra la mujer', 1.3), (u'Los problemas medioambientales', 0.8), (u'Los problemas de la agricultura, ganader\\xeda y pesca', 0.6), (u'Las infraestructuras', 0.5), (u'El funcionamiento de los servicios p\\xfablicos', 0.4), (u'Las guerras en general', 0.2), (u'El racismo', 0.2), (u'Los nacionalismos', 0.2), (u'Los problemas relacionados con la mujer', 0.2), (u'Las preocupaciones y situaciones personales', 0.1), (u'El Estatuto de Catalu\\xf1a', 0.1), (u'El terrorismo internacional', 0.0), (u'Las negociaciones con ETA', 0.0), (u'Ninguno', 0.0)]\n",
        "\n",
        "BAR\u00d3METRO SEPTIEMBRE 2009 , date: 2009-09-04 00:00:00 , doc_type: text/html\n",
        "URL: http://www.cis.es/cis/export/sites/default/-Archivos/Marginales/2800_2819/2812/e281200.html\n",
        "-------------------------------------------------"
       ]
      },
      {
       "output_type": "stream",
       "stream": "stdout",
       "text": [
        "\n",
        "Question: \u00bfCu\u00e1l es, a su juicio, el principal problema que existe actualmente en Espa\u00f1a? \u00bfY el segundo? \u00bfY el tercero? (MULTIRRESPUESTA).\n",
        "-------------------------------------------------\n",
        "[(u'El paro', 76.3), (u'Los problemas de \\xedndole econ\\xf3mica', 48.3), (u'El terrorismo, ETA', 18.3), (u'La inmigraci\\xf3n', 14.3), (u'La inseguridad ciudadana', 12.8), (u'La clase pol\\xedtica, los partidos pol\\xedticos', 12.0), (u'La vivienda', 10.1), (u'La educaci\\xf3n', 7.8), (u'La sanidad', 4.9), (u'El Gobierno, los pol\\xedticos y los partidos', 4.5), (u'Otras respuestas', 4.1), (u'Los problemas de \\xedndole social', 3.6), (u'Los problemas relacionados con la calidad del empleo', 2.9), (u'La crisis de valores', 2.6), (u'La Administraci\\xf3n de Justicia', 2.5), (u'Las pensiones', 2.4), (u'La violencia contra la mujer', 1.7), (u'Los problemas relacionados con la juventud', 1.7), (u'Las drogas', 1.5), (u'La corrupci\\xf3n y el fraude', 1.4), (u'N.S.', 1.4), (u'Los problemas medioambientales', 0.9), (u'Las infraestructuras', 0.7), (u'Los problemas de la agricultura, ganader\\xeda y pesca', 0.6), (u'El funcionamiento de los servicios p\\xfablicos', 0.4), (u'Los nacionalismos', 0.4), (u'N.C.', 0.3), (u'El racismo', 0.2), (u'Las preocupaciones y situaciones personales', 0.2), (u'Las guerras en general', 0.1), (u'El Estatuto de Catalu\\xf1a', 0.1), (u'Los problemas relacionados con la mujer', 0.0), (u'El terrorismo internacional', 0.0), (u'Las negociaciones con ETA', 0.0), (u'Ninguno', 0.0)]\n",
        "\n",
        "BAR\u00d3METRO JULIO 2009 , date: 2009-07-07 00:00:00 , doc_type: text/html\n",
        "URL: http://www.cis.es/cis/export/sites/default/-Archivos/Marginales/2800_2819/2811/e281100.html\n",
        "-------------------------------------------------"
       ]
      },
      {
       "output_type": "stream",
       "stream": "stdout",
       "text": [
        "\n",
        "Question: \u00bfCu\u00e1l es, a su juicio, el principal problema que existe actualmente en Espa\u00f1a? \u00bfY el segundo? \u00bfY el tercero? (MULTIRRESPUESTA).\n",
        "-------------------------------------------------\n",
        "[(u'El paro', 74.3), (u'Los problemas de \\xedndole econ\\xf3mica', 48.5), (u'El terrorismo, ETA', 19.1), (u'La inmigraci\\xf3n', 18.3), (u'La clase pol\\xedtica, los partidos pol\\xedticos', 10.8), (u'La vivienda', 10.5), (u'La inseguridad ciudadana', 10.3), (u'La educaci\\xf3n', 4.7), (u'La sanidad', 4.1), (u'El Gobierno, los pol\\xedticos y los partidos', 4.1), (u'Los problemas de \\xedndole social', 3.8), (u'Los problemas relacionados con la calidad del empleo', 2.9), (u'Otras respuestas', 2.6), (u'Las pensiones', 2.4), (u'La crisis de valores', 2.4), (u'La Administraci\\xf3n de Justicia', 2.3), (u'Las drogas', 1.7), (u'La violencia contra la mujer', 1.7), (u'Los problemas relacionados con la juventud', 1.7), (u'N.S.', 1.7), (u'La corrupci\\xf3n y el fraude', 1.6), (u'Los problemas medioambientales', 0.8), (u'Las infraestructuras', 0.7), (u'El Estatuto de Catalu\\xf1a', 0.6), (u'El funcionamiento de los servicios p\\xfablicos', 0.4), (u'Las preocupaciones y situaciones personales', 0.4), (u'N.C.', 0.4), (u'Los problemas de la agricultura, ganader\\xeda y pesca', 0.3), (u'Los nacionalismos', 0.3), (u'Las guerras en general', 0.2), (u'El racismo', 0.2), (u'Los problemas relacionados con la mujer', 0.2), (u'El terrorismo internacional', 0.0), (u'Las negociaciones con ETA', 0.0), (u'Ninguno', 0.0)]\n",
        "\n",
        "BAR\u00d3METRO JUNIO 2009 , date: 2009-06-04 00:00:00 , doc_type: text/html\n",
        "URL: http://www.cis.es/cis/export/sites/default/-Archivos/Marginales/2800_2819/2806/e280600.html\n",
        "-------------------------------------------------"
       ]
      },
      {
       "output_type": "stream",
       "stream": "stdout",
       "text": [
        "\n",
        "Question: \u00bfCu\u00e1l es, a su juicio, el principal problema que existe actualmente en Espa\u00f1a? \u00bfY el segundo? \u00bfY el tercero? (MULTIRRESPUESTA).\n",
        "-------------------------------------------------\n",
        "[(u'El paro', 73.7), (u'Los problemas de \\xedndole econ\\xf3mica', 48.3), (u'La inmigraci\\xf3n', 16.6), (u'El terrorismo, ETA', 13.6), (u'La clase pol\\xedtica, los partidos pol\\xedticos', 12.9), (u'La inseguridad ciudadana', 12.6), (u'La vivienda', 11.6), (u'La educaci\\xf3n', 6.2), (u'Los problemas relacionados con la calidad del empleo', 5.0), (u'La sanidad', 3.8), (u'Otras respuestas', 3.7), (u'Los problemas de \\xedndole social', 3.4), (u'El Gobierno, los pol\\xedticos y los partidos', 3.0), (u'Las pensiones', 2.6), (u'La Administraci\\xf3n de Justicia', 2.5), (u'N.S.', 2.5), (u'La crisis de valores', 2.3), (u'Las drogas', 2.1), (u'La corrupci\\xf3n y el fraude', 1.9), (u'Los problemas relacionados con la juventud', 1.7), (u'La violencia contra la mujer', 1.4), (u'Los problemas medioambientales', 0.8), (u'Los problemas de la agricultura, ganader\\xeda y pesca', 0.7), (u'N.C.', 0.7), (u'Las infraestructuras', 0.4), (u'Los nacionalismos', 0.4), (u'El Estatuto de Catalu\\xf1a', 0.4), (u'El racismo', 0.2), (u'El funcionamiento de los servicios p\\xfablicos', 0.2), (u'Las guerras en general', 0.1), (u'Las preocupaciones y situaciones personales', 0.1), (u'Los problemas relacionados con la mujer', 0.0), (u'El terrorismo internacional', 0.0), (u'Las negociaciones con ETA', 0.0), (u'Ninguno', 0.0)]\n",
        "\n",
        "BAR\u00d3METRO MAYO 2009 , date: 2009-05-13 00:00:00 , doc_type: text/html\n",
        "URL: http://www.cis.es/cis/export/sites/default/-Archivos/Marginales/2800_2819/2801/e280100.html\n",
        "-------------------------------------------------"
       ]
      },
      {
       "output_type": "stream",
       "stream": "stdout",
       "text": [
        "\n",
        "Question: \u00bfCu\u00e1l es, a su juicio, el principal problema que existe actualmente en Espa\u00f1a? \u00bfY el segundo? \u00bfY el tercero? (MULTIRRESPUESTA).\n",
        "-------------------------------------------------\n",
        "[(u'El paro', 77.3), (u'Los problemas de \\xedndole econ\\xf3mica', 48.7), (u'La inmigraci\\xf3n', 16.3), (u'El terrorismo, ETA', 15.5), (u'La vivienda', 13.0), (u'La inseguridad ciudadana', 11.4), (u'La clase pol\\xedtica, los partidos pol\\xedticos', 10.1), (u'La educaci\\xf3n', 5.0), (u'Otras respuestas', 4.2), (u'La sanidad', 4.1), (u'Los problemas de \\xedndole social', 3.9), (u'El Gobierno, los pol\\xedticos y los partidos', 3.8), (u'Los problemas relacionados con la calidad del empleo', 3.0), (u'Las pensiones', 3.0), (u'La Administraci\\xf3n de Justicia', 2.5), (u'N.S.', 2.3), (u'La crisis de valores', 2.2), (u'La corrupci\\xf3n y el fraude', 1.9), (u'La violencia contra la mujer', 1.8), (u'Los problemas relacionados con la juventud', 1.8), (u'Las drogas', 1.6), (u'Los nacionalismos', 0.8), (u'N.C.', 0.7), (u'Los problemas de la agricultura, ganader\\xeda y pesca', 0.6), (u'Los problemas medioambientales', 0.6), (u'Las infraestructuras', 0.5), (u'El racismo', 0.3), (u'El funcionamiento de los servicios p\\xfablicos', 0.1), (u'Las preocupaciones y situaciones personales', 0.1), (u'El Estatuto de Catalu\\xf1a', 0.1), (u'Las guerras en general', 0.0), (u'Los problemas relacionados con la mujer', 0.0), (u'El terrorismo internacional', 0.0), (u'Las negociaciones con ETA', 0.0), (u'Ninguno', 0.0)]\n",
        "\n",
        "BAR\u00d3METRO ABRIL 2009 , date: 2009-04-14 00:00:00 , doc_type: text/html\n",
        "URL: http://www.cis.es/cis/export/sites/default/-Archivos/Marginales/2780_2799/2798/e279800.html\n",
        "-------------------------------------------------"
       ]
      },
      {
       "output_type": "stream",
       "stream": "stdout",
       "text": [
        "\n",
        "Question: \u00bfCu\u00e1l es, a su juicio, el principal problema que existe actualmente en Espa\u00f1a? \u00bfY el segundo? \u00bfY el tercero? (MULTIRRESPUESTA).\n",
        "-------------------------------------------------\n",
        "[(u'El paro', 75.7), (u'Los problemas de \\xedndole econ\\xf3mica', 54.1), (u'La inmigraci\\xf3n', 16.1), (u'El terrorismo, ETA', 16.0), (u'La vivienda', 13.1), (u'La inseguridad ciudadana', 11.1), (u'La clase pol\\xedtica, los partidos pol\\xedticos', 8.8), (u'El Gobierno, los pol\\xedticos y los partidos', 4.9), (u'La sanidad', 4.8), (u'La educaci\\xf3n', 4.8), (u'Otras respuestas', 3.5), (u'Los problemas de \\xedndole social', 3.3), (u'Los problemas relacionados con la calidad del empleo', 2.9), (u'La Administraci\\xf3n de Justicia', 2.3), (u'La violencia contra la mujer', 2.0), (u'Las pensiones', 1.9), (u'La crisis de valores', 1.9), (u'No_sabe', 1.9), (u'Las drogas', 1.7), (u'La corrupci\\xf3n y el fraude', 1.3), (u'Los problemas relacionados con la juventud', 1.0), (u'El Estatuto de Catalu\\xf1a', 0.7), (u'Los problemas de la agricultura, ganader\\xeda y pesca', 0.5), (u'Las infraestructuras', 0.4), (u'Los problemas medioambientales', 0.4), (u'No_contesta', 0.4), (u'Los nacionalismos', 0.2), (u'El racismo', 0.1), (u'El funcionamiento de los servicios p\\xfablicos', 0.1), (u'Los problemas relacionados con la mujer', 0.1), (u'Las preocupaciones y situaciones personales', 0.1), (u'Las guerras en general', 0.0), (u'El terrorismo internacional', 0.0), (u'Las negociaciones con ETA', 0.0), (u'Ninguno', 0.0)]\n",
        "\n",
        "BAR\u00d3METRO MARZO 2009 , date: 2009-03-04 00:00:00 , doc_type: text/html\n",
        "URL: http://www.cis.es/cis/export/sites/default/-Archivos/Marginales/2780_2799/2794/e279400.html\n",
        "-------------------------------------------------"
       ]
      },
      {
       "output_type": "stream",
       "stream": "stdout",
       "text": [
        "\n",
        "Question: \u00bfCu\u00e1l es, a su juicio, el principal problema que existe actualmente en Espa\u00f1a? \u00bfY el segundo? \u00bfY el tercero? (MULTIRRESPUESTA).\n",
        "-------------------------------------------------\n",
        "[(u'El paro', 76.1), (u'Los problemas de \\xedndole econ\\xf3mica', 52.0), (u'El terrorismo, ETA', 19.4), (u'La inmigraci\\xf3n', 14.4), (u'La inseguridad ciudadana', 13.1), (u'La vivienda', 11.3), (u'La clase pol\\xedtica, los partidos pol\\xedticos', 10.0), (u'La sanidad', 5.3), (u'La educaci\\xf3n', 4.2), (u'El Gobierno, los pol\\xedticos y los partidos', 3.5), (u'Los problemas de \\xedndole social', 3.2), (u'Los problemas relacionados con la calidad del empleo', 3.1), (u'Otras respuestas', 2.8), (u'La Administraci\\xf3n de Justicia', 2.6), (u'La violencia contra la mujer', 2.4), (u'La corrupci\\xf3n y el fraude', 2.2), (u'La crisis de valores', 2.1), (u'No_sabe', 2.1), (u'Las pensiones', 1.6), (u'Las drogas', 1.5), (u'Los problemas relacionados con la juventud', 1.2), (u'Las infraestructuras', 0.6), (u'Los problemas medioambientales', 0.6), (u'El racismo', 0.5), (u'Los nacionalismos', 0.4), (u'Los problemas de la agricultura, ganader\\xeda y pesca', 0.2), (u'El funcionamiento de los servicios p\\xfablicos', 0.2), (u'Las preocupaciones y situaciones personales', 0.2), (u'El Estatuto de Catalu\\xf1a', 0.2), (u'No_contesta', 0.2), (u'Los problemas relacionados con la mujer', 0.1), (u'Las guerras en general', 0.0), (u'El terrorismo internacional', 0.0), (u'Las negociaciones con ETA', 0.0), (u'Ninguno', 0.0)]\n",
        "\n",
        "BAR\u00d3METRO FEBRERO 2009 , date: 2009-02-04 00:00:00 , doc_type: text/html\n",
        "URL: http://www.cis.es/cis/export/sites/default/-Archivos/Marginales/2780_2799/2788/e278800.html\n",
        "-------------------------------------------------"
       ]
      },
      {
       "output_type": "stream",
       "stream": "stdout",
       "text": [
        "\n",
        "Question: \u00bfCu\u00e1l es, a su juicio, el principal problema que existe actualmente en Espa\u00f1a? \u00bfY el segundo? \u00bfY el tercero? (MULTIRRESPUESTA).\n",
        "-------------------------------------------------\n",
        "[(u'El paro', 75.2), (u'Los problemas de \\xedndole econ\\xf3mica', 54.4), (u'El terrorismo, ETA', 20.6), (u'La inmigraci\\xf3n', 16.6), (u'La vivienda', 11.6), (u'La inseguridad ciudadana', 11.0), (u'La clase pol\\xedtica, los partidos pol\\xedticos', 9.3), (u'La educaci\\xf3n', 5.9), (u'La sanidad', 4.7), (u'El Gobierno, los pol\\xedticos y los partidos', 3.9), (u'Los problemas relacionados con la calidad del empleo', 3.3), (u'Otras respuestas', 3.1), (u'Los problemas de \\xedndole social', 2.8), (u'Las pensiones', 2.4), (u'La violencia contra la mujer', 2.3), (u'La crisis de valores', 2.0), (u'La Administraci\\xf3n de Justicia', 1.9), (u'N.S.', 1.4), (u'Las drogas', 1.3), (u'Los problemas relacionados con la juventud', 1.3), (u'La corrupci\\xf3n y el fraude', 1.2), (u'Los problemas medioambientales', 0.8), (u'Las infraestructuras', 0.7), (u'N.C.', 0.6), (u'El racismo', 0.4), (u'Los nacionalismos', 0.4), (u'Las preocupaciones y situaciones personales', 0.4), (u'Los problemas de la agricultura, ganader\\xeda y pesca', 0.3), (u'El funcionamiento de los servicios p\\xfablicos', 0.3), (u'Las guerras en general', 0.1), (u'Los problemas relacionados con la mujer', 0.0), (u'El terrorismo internacional', 0.0), (u'El Estatuto de Catalu\\xf1a', 0.0), (u'Las negociaciones con ETA', 0.0), (u'Ninguno', 0.0)]\n",
        "\n",
        "BAR\u00d3METRO ENERO 2009 , date: 2009-01-09 00:00:00 , doc_type: text/html\n",
        "URL: http://www.cis.es/cis/export/sites/default/-Archivos/Marginales/2780_2799/2782/e278200.html\n",
        "-------------------------------------------------"
       ]
      },
      {
       "output_type": "stream",
       "stream": "stdout",
       "text": [
        "\n",
        "Question: \u00bfCu\u00e1l es, a su juicio, el principal problema que existe actualmente en Espa\u00f1a? \u00bfY el segundo? \u00bfY el tercero? (MULTIRRESPUESTA).\n",
        "-------------------------------------------------\n",
        "[(u'El paro', 75.3), (u'Los problemas de \\xedndole econ\\xf3mica', 51.9), (u'El terrorismo, ETA', 22.2), (u'La inmigraci\\xf3n', 19.3), (u'La vivienda', 13.5), (u'La inseguridad ciudadana', 11.7), (u'La clase pol\\xedtica, los partidos pol\\xedticos', 8.9), (u'La sanidad', 4.5), (u'Los problemas relacionados con la calidad del empleo', 3.9), (u'Los problemas de \\xedndole social', 3.5), (u'El Gobierno, los pol\\xedticos y los partidos', 3.3), (u'La educaci\\xf3n', 3.2), (u'Otras respuestas', 2.8), (u'La Administraci\\xf3n de Justicia', 2.5), (u'Las pensiones', 2.1), (u'La violencia contra la mujer', 1.8), (u'N.S.', 1.6), (u'Las drogas', 1.5), (u'La crisis de valores', 1.5), (u'Las infraestructuras', 0.8), (u'Los problemas relacionados con la juventud', 0.8), (u'Los problemas medioambientales', 0.6), (u'La corrupci\\xf3n y el fraude', 0.4), (u'Los nacionalismos', 0.4), (u'Los problemas de la agricultura, ganader\\xeda y pesca', 0.3), (u'Las guerras en general', 0.3), (u'El racismo', 0.3), (u'N.C.', 0.3), (u'Las preocupaciones y situaciones personales', 0.2), (u'El Estatuto de Catalu\\xf1a', 0.2), (u'Ninguno', 0.2), (u'El funcionamiento de los servicios p\\xfablicos', 0.1), (u'Los problemas relacionados con la mujer', 0.0), (u'El terrorismo internacional', 0.0), (u'Las negociaciones con ETA', 0.0)]\n",
        "\n",
        "BAR\u00d3METRO DICIEMBRE 2008 , date: 2008-12-03 00:00:00 , doc_type: text/html\n",
        "URL: http://www.cis.es/cis/export/sites/default/-Archivos/Marginales/2780_2799/2781/e278100.html\n",
        "-------------------------------------------------"
       ]
      },
      {
       "output_type": "stream",
       "stream": "stdout",
       "text": [
        "\n",
        "Question: \u00bfCu\u00e1l es, a su juicio, el principal problema que existe actualmente en Espa\u00f1a? \u00bfY el segundo? \u00bfY el tercero? (MULTIRRESPUESTA).\n",
        "-------------------------------------------------\n",
        "[(u'El paro', 72.5), (u'Los problemas de \\xedndole econ\\xf3mica', 54.5), (u'El terrorismo, ETA', 28.9), (u'La inmigraci\\xf3n', 19.5), (u'La vivienda', 15.5), (u'La inseguridad ciudadana', 11.1), (u'La clase pol\\xedtica, los partidos pol\\xedticos', 8.0), (u'Otras respuestas', 4.2), (u'La educaci\\xf3n', 3.9), (u'Los problemas de \\xedndole social', 3.5), (u'La sanidad', 2.9), (u'El Gobierno, los pol\\xedticos y los partidos', 2.8), (u'Los problemas relacionados con la calidad del empleo', 2.7), (u'La violencia contra la mujer', 2.5), (u'N.S.', 2.3), (u'La crisis de valores', 1.9), (u'La Administraci\\xf3n de Justicia', 1.8), (u'Las drogas', 1.6), (u'Las pensiones', 1.3), (u'Los problemas relacionados con la juventud', 1.1), (u'Las infraestructuras', 0.8), (u'La corrupci\\xf3n y el fraude', 0.7), (u'Las preocupaciones y situaciones personales', 0.7), (u'Los problemas medioambientales', 0.5), (u'Los nacionalismos', 0.4), (u'Los problemas de la agricultura, ganader\\xeda y pesca', 0.3), (u'El racismo', 0.3), (u'El funcionamiento de los servicios p\\xfablicos', 0.3), (u'Las guerras en general', 0.1), (u'Los problemas relacionados con la mujer', 0.1), (u'El Estatuto de Catalu\\xf1a', 0.1), (u'N.C.', 0.1), (u'El terrorismo internacional', 0.0), (u'Las negociaciones con ETA', 0.0), (u'Ninguno', 0.0)]\n",
        "\n",
        "BAR\u00d3METRO NOVIEMBRE 2008 , date: 2008-11-03 00:00:00 , doc_type: text/html\n",
        "URL: http://www.cis.es/cis/export/sites/default/-Archivos/Marginales/2760_2779/2778/e277800.html\n",
        "-------------------------------------------------"
       ]
      },
      {
       "output_type": "stream",
       "stream": "stdout",
       "text": [
        "\n",
        "Question: \u00bfCu\u00e1l es, a su juicio, el principal problema que existe actualmente en Espa\u00f1a? \u00bfY el segundo? \u00bfY el tercero? (MULTIRRESPUESTA).\n",
        "-------------------------------------------------\n",
        "[(u'El paro', 71.4), (u'Los problemas de \\xedndole econ\\xf3mica', 57.9), (u'El terrorismo, ETA', 21.7), (u'La inmigraci\\xf3n', 20.3), (u'La vivienda', 16.6), (u'La inseguridad ciudadana', 11.4), (u'La clase pol\\xedtica, los partidos pol\\xedticos', 6.8), (u'La educaci\\xf3n', 4.5), (u'Los problemas relacionados con la calidad del empleo', 4.0), (u'Otras respuestas', 3.5), (u'La sanidad', 3.4), (u'Los problemas de \\xedndole social', 3.1), (u'Las pensiones', 2.5), (u'El Gobierno, los pol\\xedticos y los partidos', 2.5), (u'Las drogas', 2.3), (u'La violencia contra la mujer', 2.0), (u'N.S.', 1.9), (u'La Administraci\\xf3n de Justicia', 1.7), (u'La crisis de valores', 1.7), (u'Los problemas relacionados con la juventud', 1.0), (u'Los problemas medioambientales', 0.9), (u'La corrupci\\xf3n y el fraude', 0.8), (u'El funcionamiento de los servicios p\\xfablicos', 0.5), (u'Los nacionalismos', 0.5), (u'El racismo', 0.4), (u'Las infraestructuras', 0.3), (u'Los problemas de la agricultura, ganader\\xeda y pesca', 0.3), (u'Las preocupaciones y situaciones personales', 0.3), (u'Las guerras en general', 0.2), (u'Los problemas relacionados con la mujer', 0.2), (u'El Estatuto de Catalu\\xf1a', 0.2), (u'N.C.', 0.2), (u'Las negociaciones con ETA', 0.1), (u'El terrorismo internacional', 0.0), (u'Ninguno', 0.0)]\n",
        "\n",
        "BAR\u00d3METRO OCTUBRE 2008 , date: 2008-10-01 00:00:00 , doc_type: text/html\n",
        "URL: http://www.cis.es/cis/export/sites/default/-Archivos/Marginales/2760_2779/2775/e277500.html\n",
        "-------------------------------------------------"
       ]
      },
      {
       "output_type": "stream",
       "stream": "stdout",
       "text": [
        "\n",
        "Question: \u00bfCu\u00e1l es, a su juicio, el principal problema que existe actualmente en Espa\u00f1a? \u00bfY el segundo? \u00bfY el tercero? (MULTIRRESPUESTA).\n",
        "-------------------------------------------------\n",
        "[(u'El paro', 64.7), (u'Los problemas de \\xedndole econ\\xf3mica', 54.7), (u'La inmigraci\\xf3n', 24.5), (u'El terrorismo, ETA', 22.5), (u'La vivienda', 18.3), (u'La inseguridad ciudadana', 10.2), (u'La clase pol\\xedtica, los partidos pol\\xedticos', 7.1), (u'Los problemas relacionados con la calidad del empleo', 5.4), (u'La educaci\\xf3n', 4.6), (u'La sanidad', 4.4), (u'Otras respuestas', 3.6), (u'El Gobierno, los pol\\xedticos y los partidos', 3.3), (u'Los problemas de \\xedndole social', 3.2), (u'La violencia contra la mujer', 2.5), (u'Las drogas', 2.4), (u'N.S.', 2.4), (u'Las pensiones', 2.3), (u'La Administraci\\xf3n de Justicia', 1.9), (u'Los problemas relacionados con la juventud', 1.9), (u'La crisis de valores', 1.9), (u'Los problemas medioambientales', 1.2), (u'La corrupci\\xf3n y el fraude', 1.0), (u'Las infraestructuras', 0.7), (u'El Estatuto de Catalu\\xf1a', 0.6), (u'El funcionamiento de los servicios p\\xfablicos', 0.5), (u'Los nacionalismos', 0.4), (u'Los problemas relacionados con la mujer', 0.4), (u'Las preocupaciones y situaciones personales', 0.3), (u'N.C.', 0.3), (u'Los problemas de la agricultura, ganader\\xeda y pesca', 0.2), (u'Las guerras en general', 0.2), (u'El racismo', 0.2), (u'Ninguno', 0.1), (u'El terrorismo internacional', 0.0), (u'Las negociaciones con ETA', 0.0)]\n",
        "\n",
        "BAR\u00d3METRO SEPTIEMBRE 2008 , date: 2008-09-05 00:00:00 , doc_type: text/html\n",
        "URL: http://www.cis.es/cis/export/sites/default/-Archivos/Marginales/2760_2779/2771/e277100.html\n",
        "-------------------------------------------------"
       ]
      },
      {
       "output_type": "stream",
       "stream": "stdout",
       "text": [
        "\n",
        "Question: \u00bfCu\u00e1l es, a su juicio, el principal problema que existe actualmente en Espa\u00f1a? \u00bfY el segundo? \u00bfY el tercero? (MULTIRRESPUESTA).\n",
        "-------------------------------------------------\n",
        "[(u'El paro', 62.2), (u'Los problemas de \\xedndole econ\\xf3mica', 54.1), (u'La inmigraci\\xf3n', 28.4), (u'El terrorismo, ETA', 18.6), (u'La vivienda', 18.4), (u'La inseguridad ciudadana', 11.5), (u'La clase pol\\xedtica, los partidos pol\\xedticos', 7.6), (u'Los problemas relacionados con la calidad del empleo', 6.4), (u'La educaci\\xf3n', 5.3), (u'La sanidad', 3.6), (u'No_sabe', 3.2), (u'Los problemas de \\xedndole social', 3.0), (u'El Gobierno, los pol\\xedticos y los partidos', 2.9), (u'Las pensiones', 2.8), (u'La Administraci\\xf3n de Justicia', 2.8), (u'Otras respuestas', 2.3), (u'La violencia contra la mujer', 2.0), (u'Las drogas', 1.9), (u'La crisis de valores', 1.9), (u'Los problemas relacionados con la juventud', 1.6), (u'Los problemas medioambientales', 1.0), (u'Las infraestructuras', 0.8), (u'Los nacionalismos', 0.6), (u'La corrupci\\xf3n y el fraude', 0.4), (u'El racismo', 0.4), (u'El funcionamiento de los servicios p\\xfablicos', 0.2), (u'Los problemas relacionados con la mujer', 0.2), (u'Las preocupaciones y situaciones personales', 0.2), (u'El Estatuto de Catalu\\xf1a', 0.2), (u'Ninguno', 0.2), (u'No_contesta', 0.2), (u'Los problemas de la agricultura, ganader\\xeda y pesca', 0.1), (u'Las guerras en general', 0.1), (u'El terrorismo internacional', 0.0), (u'Las negociaciones con ETA', 0.0)]\n",
        "\n",
        "BAR\u00d3METRO JULIO 2008 , date: 2008-07-07 00:00:00 , doc_type: text/html\n",
        "URL: http://www.cis.es/cis/export/sites/default/-Archivos/Marginales/2760_2779/2769/e276900.html\n",
        "-------------------------------------------------"
       ]
      },
      {
       "output_type": "stream",
       "stream": "stdout",
       "text": [
        "\n",
        "Question: \u00bfCu\u00e1l es, a su juicio, el principal problema que existe actualmente en Espa\u00f1a? \u00bfY el segundo? \u00bfY el tercero? (MULTIRRESPUESTA).\n",
        "-------------------------------------------------\n",
        "[(u'Los problemas de \\xedndole econ\\xf3mica', 59.8), (u'El paro', 56.1), (u'La inmigraci\\xf3n', 27.9), (u'La vivienda', 21.4), (u'El terrorismo, ETA', 20.3), (u'La inseguridad ciudadana', 10.0), (u'Los problemas relacionados con la calidad del empleo', 8.3), (u'La clase pol\\xedtica, los partidos pol\\xedticos', 6.0), (u'La educaci\\xf3n', 4.1), (u'La sanidad', 3.8), (u'Las pensiones', 3.7), (u'Los problemas de \\xedndole social', 2.6), (u'Otras respuestas', 2.6), (u'El Gobierno, los pol\\xedticos y los partidos', 2.4), (u'N.S.', 2.4), (u'Las drogas', 2.3), (u'La violencia contra la mujer', 2.1), (u'Los problemas relacionados con la juventud', 1.9), (u'La crisis de valores', 1.5), (u'La Administraci\\xf3n de Justicia', 1.4), (u'Los problemas medioambientales', 1.2), (u'La corrupci\\xf3n y el fraude', 0.8), (u'Las infraestructuras', 0.7), (u'El Estatuto de Catalu\\xf1a', 0.6), (u'El racismo', 0.4), (u'Los nacionalismos', 0.4), (u'N.C.', 0.4), (u'Los problemas de la agricultura, ganader\\xeda y pesca', 0.3), (u'El funcionamiento de los servicios p\\xfablicos', 0.3), (u'Las preocupaciones y situaciones personales', 0.3), (u'Los problemas relacionados con la mujer', 0.2), (u'Las guerras en general', 0.0), (u'El terrorismo internacional', 0.0), (u'Las negociaciones con ETA', 0.0), (u'Ninguno', 0.0)]\n",
        "\n",
        "BAR\u00d3METRO JUNIO 2008 , date: 2008-06-18 00:00:00 , doc_type: text/html\n",
        "URL: http://www.cis.es/cis/export/sites/default/-Archivos/Marginales/2760_2779/2766/e276600.html\n",
        "-------------------------------------------------"
       ]
      },
      {
       "output_type": "stream",
       "stream": "stdout",
       "text": [
        "\n",
        "Question: \u00bfCu\u00e1l es, a su juicio, el principal problema que existe actualmente en Espa\u00f1a? \u00bfY el segundo? \u00bfY el tercero? (MULTIRRESPUESTA).\n",
        "-------------------------------------------------\n",
        "[(u'Los problemas de \\xedndole econ\\xf3mica', 58.1), (u'El paro', 53.7), (u'La inmigraci\\xf3n', 26.9), (u'El terrorismo, ETA', 22.8), (u'La vivienda', 21.4), (u'La inseguridad ciudadana', 10.7), (u'Los problemas relacionados con la calidad del empleo', 8.6), (u'La clase pol\\xedtica, los partidos pol\\xedticos', 6.9), (u'La sanidad', 4.1), (u'La educaci\\xf3n', 3.9), (u'Otras respuestas', 3.9), (u'Las pensiones', 3.7), (u'N.S.', 3.2), (u'Los problemas de \\xedndole social', 2.3), (u'La Administraci\\xf3n de Justicia', 2.2), (u'Las drogas', 2.0), (u'Los problemas medioambientales', 1.8), (u'El Gobierno, los pol\\xedticos y los partidos', 1.7), (u'La violencia contra la mujer', 1.6), (u'La corrupci\\xf3n y el fraude', 1.3), (u'La crisis de valores', 1.3), (u'Los problemas relacionados con la juventud', 1.2), (u'Las infraestructuras', 1.1), (u'Los problemas de la agricultura, ganader\\xeda y pesca', 0.9), (u'Los nacionalismos', 0.7), (u'El Estatuto de Catalu\\xf1a', 0.3), (u'El racismo', 0.2), (u'El funcionamiento de los servicios p\\xfablicos', 0.2), (u'Los problemas relacionados con la mujer', 0.2), (u'N.C.', 0.2), (u'Las guerras en general', 0.1), (u'Las preocupaciones y situaciones personales', 0.1), (u'Ninguno', 0.1), (u'El terrorismo internacional', 0.0), (u'Las negociaciones con ETA', 0.0)]\n",
        "\n",
        "BAR\u00d3METRO MAYO 2008 , date: 2008-05-22 00:00:00 , doc_type: text/html\n",
        "URL: http://www.cis.es/cis/export/sites/default/-Archivos/Marginales/2760_2779/2763/e276300.html\n",
        "-------------------------------------------------"
       ]
      },
      {
       "output_type": "stream",
       "stream": "stdout",
       "text": [
        "\n",
        "Question: \u00bfCu\u00e1l es, a su juicio, el principal problema que existe actualmente en Espa\u00f1a? \u00bfY el segundo? \u00bfY el tercero? (MULTIRRESPUESTA).\n",
        "-------------------------------------------------\n",
        "[(u'El paro', 52.4), (u'Los problemas de \\xedndole econ\\xf3mica', 51.8), (u'El terrorismo, ETA', 31.4), (u'La inmigraci\\xf3n', 28.5), (u'La vivienda', 24.5), (u'La inseguridad ciudadana', 12.3), (u'Los problemas relacionados con la calidad del empleo', 8.7), (u'La clase pol\\xedtica, los partidos pol\\xedticos', 7.1), (u'La sanidad', 3.6), (u'Otras respuestas', 3.4), (u'Los problemas de \\xedndole social', 3.3), (u'La educaci\\xf3n', 3.3), (u'Las pensiones', 2.8), (u'La Administraci\\xf3n de Justicia', 2.7), (u'El Gobierno, los pol\\xedticos y los partidos', 2.7), (u'No_sabe', 2.7), (u'La violencia contra la mujer', 2.3), (u'Las drogas', 1.8), (u'Los problemas medioambientales', 1.6), (u'La crisis de valores', 1.2), (u'Los problemas relacionados con la juventud', 1.1), (u'Los problemas de la agricultura, ganader\\xeda y pesca', 1.0), (u'Las infraestructuras', 0.7), (u'La reforma de los Estatutos de Autonom\\xeda', 0.6), (u'La corrupci\\xf3n y el fraude', 0.5), (u'El racismo', 0.5), (u'Los nacionalismos', 0.4), (u'El funcionamiento de los servicios p\\xfablicos', 0.2), (u'Los problemas relacionados con la mujer', 0.2), (u'No_contesta', 0.2), (u'Las guerras en general', 0.1), (u'Ninguno', 0.1), (u'El terrorismo internacional', 0.0), (u'Las preocupaciones y situaciones personales', 0.0), (u'Las negociaciones con ETA', 0.0)]\n",
        "\n",
        "BAR\u00d3METRO ABRIL 2008 , date: 2008-04-24 00:00:00 , doc_type: text/html\n",
        "URL: http://www.cis.es/cis/export/sites/default/-Archivos/Marginales/2760_2779/2761/e276100.html\n",
        "-------------------------------------------------"
       ]
      },
      {
       "output_type": "stream",
       "stream": "stdout",
       "text": [
        "\n",
        "Question: \u00bfCu\u00e1l es, a su juicio, el principal problema que existe actualmente en Espa\u00f1a? \u00bfY el segundo? \u00bfY el tercero? (MULTIRRESPUESTA).\n",
        "-------------------------------------------------\n",
        "[(u'El paro', 52.0), (u'Los problemas de \\xedndole econ\\xf3mica', 48.2), (u'El terrorismo, ETA', 31.4), (u'La inmigraci\\xf3n', 26.1), (u'La vivienda', 25.6), (u'La inseguridad ciudadana', 12.1), (u'Los problemas relacionados con la calidad del empleo', 8.2), (u'La clase pol\\xedtica, los partidos pol\\xedticos', 7.2), (u'La sanidad', 4.8), (u'La educaci\\xf3n', 4.1), (u'Los problemas de \\xedndole social', 3.6), (u'Otras respuestas', 3.4), (u'Las pensiones', 3.3), (u'La violencia contra la mujer', 3.3), (u'No_sabe', 3.2), (u'La Administraci\\xf3n de Justicia', 2.8), (u'Los problemas medioambientales', 2.8), (u'El Gobierno, los pol\\xedticos y los partidos', 1.7), (u'Las drogas', 1.6), (u'La crisis de valores', 1.5), (u'Los problemas relacionados con la juventud', 1.3), (u'Las infraestructuras', 0.7), (u'Los problemas de la agricultura, ganader\\xeda y pesca', 0.7), (u'Los nacionalismos', 0.6), (u'El funcionamiento de los servicios p\\xfablicos', 0.5), (u'La corrupci\\xf3n y el fraude', 0.4), (u'Las preocupaciones y situaciones personales', 0.3), (u'Las guerras en general', 0.2), (u'El racismo', 0.2), (u'La reforma de los Estatutos de Autonom\\xeda', 0.2), (u'No_contesta', 0.2), (u'Los problemas relacionados con la mujer', 0.1), (u'Ninguno', 0.1), (u'El terrorismo internacional', 0.0), (u'Las negociaciones con ETA', 0.0)]\n",
        "\n",
        "BAR\u00d3METRO MARZO 2008 , date: 2008-03-24 00:00:00 , doc_type: text/html\n",
        "URL: http://www.cis.es/cis/export/sites/default/-Archivos/Marginales/2740_2759/2758/e275800.html\n",
        "-------------------------------------------------"
       ]
      },
      {
       "output_type": "stream",
       "stream": "stdout",
       "text": [
        "\n",
        "Question: \u00bfCu\u00e1l es, a su juicio, el principal problema que existe actualmente en Espa\u00f1a? \u00bfY el segundo? \u00bfY el tercero? (MULTIRRESPUESTA).\n",
        "-------------------------------------------------\n",
        "[(u'El paro', 45.8), (u'Los problemas de \\xedndole econ\\xf3mica', 39.3), (u'El terrorismo, ETA', 36.9), (u'La vivienda', 28.8), (u'La inmigraci\\xf3n', 26.0), (u'La inseguridad ciudadana', 14.9), (u'Los problemas relacionados con la calidad del empleo', 9.4), (u'La clase pol\\xedtica, los partidos pol\\xedticos', 6.2), (u'La educaci\\xf3n', 5.3), (u'La sanidad', 4.6), (u'Otras respuestas', 4.1), (u'Los problemas de \\xedndole social', 4.0), (u'La violencia contra la mujer', 3.8), (u'N.S.', 3.4), (u'Las pensiones', 3.1), (u'Las drogas', 2.9), (u'La Administraci\\xf3n de Justicia', 2.7), (u'Los problemas medioambientales', 2.1), (u'Los problemas relacionados con la juventud', 1.9), (u'La crisis de valores', 1.7), (u'El Gobierno, los pol\\xedticos y los partidos', 1.0), (u'Las infraestructuras', 0.7), (u'Los nacionalismos', 0.7), (u'Los problemas de la agricultura, ganader\\xeda y pesca', 0.6), (u'El Estatuto de Catalu\\xf1a', 0.5), (u'N.C.', 0.5), (u'El racismo', 0.4), (u'El funcionamiento de los servicios p\\xfablicos', 0.4), (u'Los problemas relacionados con la mujer', 0.4), (u'La corrupci\\xf3n y el fraude', 0.2), (u'Ninguno', 0.2), (u'Las preocupaciones y situaciones personales', 0.1), (u'Las guerras en general', 0.0), (u'El terrorismo internacional', 0.0), (u'Las negociaciones con ETA', 0.0)]\n",
        "\n",
        "BAR\u00d3METRO FEBRERO 2008 , date: 2008-02-22 00:00:00 , doc_type: text/html\n",
        "URL: http://www.cis.es/cis/export/sites/default/-Archivos/Marginales/2740_2759/2754/e275400.html\n",
        "-------------------------------------------------"
       ]
      },
      {
       "output_type": "stream",
       "stream": "stdout",
       "text": [
        "\n",
        "Question: \u00bfCu\u00e1l es, a su juicio, el principal problema que existe actualmente en Espa\u00f1a? \u00bfY el segundo? \u00bfY el tercero? (MULTIRRESPUESTA).\n",
        "-------------------------------------------------\n",
        "[(u'El paro', 44.6), (u'Los problemas de \\xedndole econ\\xf3mica', 36.2), (u'El terrorismo, ETA', 31.4), (u'La vivienda', 28.9), (u'La inmigraci\\xf3n', 27.3), (u'La inseguridad ciudadana', 18.5), (u'Los problemas relacionados con la calidad del empleo', 11.0), (u'La clase pol\\xedtica, los partidos pol\\xedticos', 7.2), (u'La educaci\\xf3n', 5.6), (u'La violencia contra la mujer', 4.8), (u'La sanidad', 4.4), (u'Las pensiones', 3.6), (u'Otras respuestas', 3.5), (u'Las drogas', 3.0), (u'N.S.', 3.0), (u'Los problemas de \\xedndole social', 2.8), (u'Los problemas medioambientales', 2.2), (u'La crisis de valores', 2.0), (u'Los problemas relacionados con la juventud', 1.8), (u'El Gobierno, los pol\\xedticos y los partidos', 1.7), (u'La Administraci\\xf3n de Justicia', 1.1), (u'Las infraestructuras', 0.7), (u'La corrupci\\xf3n y el fraude', 0.7), (u'Los nacionalismos', 0.6), (u'N.C.', 0.5), (u'Los problemas relacionados con la mujer', 0.4), (u'El Estatuto de Catalu\\xf1a', 0.4), (u'El funcionamiento de los servicios p\\xfablicos', 0.3), (u'Ninguno', 0.3), (u'Los problemas de la agricultura, ganader\\xeda y pesca', 0.2), (u'Las guerras en general', 0.2), (u'El racismo', 0.2), (u'Las preocupaciones y situaciones personales', 0.2), (u'El terrorismo internacional', 0.0), (u'Las negociaciones con ETA', 0.0)]\n",
        "\n",
        "BAR\u00d3METRO ENERO 2008 , date: 2008-01-14 00:00:00 , doc_type: text/html\n",
        "URL: http://www.cis.es/cis/export/sites/default/-Archivos/Marginales/2740_2759/2749/e274900.html\n",
        "-------------------------------------------------"
       ]
      },
      {
       "output_type": "stream",
       "stream": "stdout",
       "text": [
        "\n",
        "Question: \u00bfCu\u00e1l es, a su juicio, el principal problema que existe actualmente en Espa\u00f1a? \u00bfY el segundo? \u00bfY el tercero? (MULTIRRESPUESTA).\n",
        "-------------------------------------------------\n",
        "[(u'El paro', 43.8), (u'Los problemas de \\xedndole econ\\xf3mica', 39.2), (u'El terrorismo, ETA', 35.1), (u'La vivienda', 29.1), (u'La inmigraci\\xf3n', 23.7), (u'La inseguridad ciudadana', 16.4), (u'Los problemas relacionados con la calidad del empleo', 12.3), (u'La clase pol\\xedtica, los partidos pol\\xedticos', 8.9), (u'La sanidad', 5.5), (u'Los problemas de \\xedndole social', 4.4), (u'La educaci\\xf3n', 4.4), (u'Las pensiones', 3.5), (u'Otras respuestas', 3.5), (u'N.S.', 3.2), (u'Las drogas', 2.5), (u'La violencia contra la mujer', 2.2), (u'Los problemas relacionados con la juventud', 2.2), (u'El Gobierno, los pol\\xedticos y los partidos', 2.1), (u'La crisis de valores', 1.9), (u'La Administraci\\xf3n de Justicia', 1.6), (u'Las infraestructuras', 1.3), (u'Los problemas medioambientales', 1.3), (u'Los nacionalismos', 0.8), (u'La corrupci\\xf3n y el fraude', 0.7), (u'El funcionamiento de los servicios p\\xfablicos', 0.4), (u'Los problemas de la agricultura, ganader\\xeda y pesca', 0.3), (u'El racismo', 0.3), (u'Los problemas relacionados con la mujer', 0.3), (u'El Estatuto de Catalu\\xf1a', 0.3), (u'Las guerras en general', 0.2), (u'El terrorismo internacional', 0.2), (u'Las preocupaciones y situaciones personales', 0.2), (u'N.C.', 0.2), (u'Ninguno', 0.1), (u'Las negociaciones con ETA', 0.0)]\n",
        "\n",
        "BAR\u00d3METRO DICIEMBRE 2007 , date: 2007-12-18 00:00:00 , doc_type: text/html\n",
        "URL: http://www.cis.es/cis/export/sites/default/-Archivos/Marginales/2740_2759/2746/e274600.html\n",
        "-------------------------------------------------"
       ]
      },
      {
       "output_type": "stream",
       "stream": "stdout",
       "text": [
        "\n",
        "Question: \u00bfCu\u00e1l es, a su juicio, el principal problema que existe actualmente en Espa\u00f1a? \u00bfY el segundo? \u00bfY el tercero? (MULTIRRESPUESTA).\n",
        "-------------------------------------------------\n",
        "[(u'El terrorismo, ETA', 39.6), (u'El paro', 38.6), (u'Los problemas de \\xedndole econ\\xf3mica', 32.9), (u'La vivienda', 28.8), (u'La inmigraci\\xf3n', 26.9), (u'La inseguridad ciudadana', 14.4), (u'Los problemas relacionados con la calidad del empleo', 12.3), (u'La clase pol\\xedtica, los partidos pol\\xedticos', 10.0), (u'La educaci\\xf3n', 5.6), (u'Los problemas de \\xedndole social', 5.2), (u'La sanidad', 4.2), (u'Las pensiones', 4.0), (u'Otras respuestas', 3.9), (u'Las drogas', 3.5), (u'N.S.', 3.1), (u'La violencia contra la mujer', 3.0), (u'El Gobierno, los pol\\xedticos y los partidos', 2.2), (u'Los problemas relacionados con la juventud', 2.1), (u'La crisis de valores', 1.6), (u'Los problemas medioambientales', 1.6), (u'La Administraci\\xf3n de Justicia', 1.5), (u'Las infraestructuras', 1.1), (u'La corrupci\\xf3n y el fraude', 0.8), (u'Los nacionalismos', 0.6), (u'El racismo', 0.4), (u'El funcionamiento de los servicios p\\xfablicos', 0.4), (u'Los problemas de la agricultura, ganader\\xeda y pesca', 0.3), (u'N.C.', 0.3), (u'El Estatuto de Catalu\\xf1a', 0.2), (u'Ninguno', 0.2), (u'Los problemas relacionados con la mujer', 0.1), (u'El terrorismo internacional', 0.1), (u'Las preocupaciones y situaciones personales', 0.1), (u'Las guerras en general', 0.0), (u'Las negociaciones con ETA', 0.0)]\n",
        "\n",
        "BAR\u00d3METRO NOVIEMBRE 2007 , date: 2007-11-23 00:00:00 , doc_type: text/html\n",
        "URL: http://www.cis.es/cis/export/sites/default/-Archivos/Marginales/2740_2759/2742/e274200.html\n",
        "-------------------------------------------------"
       ]
      },
      {
       "output_type": "stream",
       "stream": "stdout",
       "text": [
        "\n",
        "Question: \u00bfCu\u00e1l es, a su juicio, el principal problema que existe actualmente en Espa\u00f1a? \u00bfY el segundo? \u00bfY el tercero? (MULTIRRESPUESTA).\n",
        "-------------------------------------------------\n",
        "[(u'El paro', 40.0), (u'La vivienda', 32.8), (u'Los problemas de \\xedndole econ\\xf3mica', 29.4), (u'El terrorismo, ETA', 29.1), (u'La inmigraci\\xf3n', 28.6), (u'La inseguridad ciudadana', 14.5), (u'Los problemas relacionados con la calidad del empleo', 12.2), (u'La clase pol\\xedtica, los partidos pol\\xedticos', 10.3), (u'La violencia contra la mujer', 5.4), (u'La educaci\\xf3n', 5.0), (u'Las drogas', 4.1), (u'N.S.', 4.0), (u'Los problemas de \\xedndole social', 3.8), (u'La sanidad', 3.7), (u'Los problemas medioambientales', 3.7), (u'Las pensiones', 3.5), (u'Otras respuestas', 3.1), (u'Los problemas relacionados con la juventud', 2.3), (u'Las infraestructuras', 2.0), (u'La crisis de valores', 2.0), (u'El Gobierno, los pol\\xedticos y los partidos', 1.6), (u'La Administraci\\xf3n de Justicia', 1.5), (u'Los nacionalismos', 1.0), (u'El racismo', 0.7), (u'La corrupci\\xf3n y el fraude', 0.5), (u'Los problemas relacionados con la mujer', 0.5), (u'El Estatuto de Catalu\\xf1a', 0.4), (u'Los problemas de la agricultura, ganader\\xeda y pesca', 0.3), (u'El funcionamiento de los servicios p\\xfablicos', 0.3), (u'N.C.', 0.3), (u'Las preocupaciones y situaciones personales', 0.2), (u'Las guerras en general', 0.1), (u'El terrorismo internacional', 0.1), (u'Ninguno', 0.1), (u'Las negociaciones con ETA', 0.0)]\n",
        "\n",
        "BAR\u00d3METRO OCTUBRE 2007 , date: 2007-10-22 00:00:00 , doc_type: text/html\n",
        "URL: http://www.cis.es/cis/export/sites/default/-Archivos/Marginales/2720_2739/2735/e273500.html\n",
        "-------------------------------------------------"
       ]
      },
      {
       "output_type": "stream",
       "stream": "stdout",
       "text": [
        "\n",
        "Question: \u00bfCu\u00e1l es, a su juicio, el principal problema que existe actualmente en Espa\u00f1a? \u00bfY el segundo? \u00bfY el tercero? (MULTIRRESPUESTA).\n",
        "-------------------------------------------------\n",
        "[(u'El paro', 37.4), (u'La vivienda', 34.8), (u'La inmigraci\\xf3n', 32.5), (u'El terrorismo, ETA', 31.6), (u'Los problemas de \\xedndole econ\\xf3mica', 24.5), (u'La inseguridad ciudadana', 15.7), (u'Los problemas relacionados con la calidad del empleo', 13.7), (u'La clase pol\\xedtica, los partidos pol\\xedticos', 10.2), (u'Los problemas de \\xedndole social', 4.9), (u'Las pensiones', 4.5), (u'Otras respuestas', 4.5), (u'La educaci\\xf3n', 4.2), (u'Las drogas', 4.1), (u'La sanidad', 4.0), (u'N.S.', 3.1), (u'Los problemas relacionados con la juventud', 2.9), (u'Las infraestructuras', 2.3), (u'La Administraci\\xf3n de Justicia', 2.3), (u'El Gobierno, los pol\\xedticos y los partidos', 2.2), (u'La crisis de valores', 2.0), (u'La violencia contra la mujer', 1.9), (u'Los problemas medioambientales', 1.7), (u'Los nacionalismos', 1.7), (u'El racismo', 1.2), (u'La corrupci\\xf3n y el fraude', 0.6), (u'Los problemas de la agricultura, ganader\\xeda y pesca', 0.4), (u'El Estatuto de Catalu\\xf1a', 0.4), (u'N.C.', 0.4), (u'Las guerras en general', 0.3), (u'Las preocupaciones y situaciones personales', 0.3), (u'El funcionamiento de los servicios p\\xfablicos', 0.2), (u'Ninguno', 0.2), (u'Los problemas relacionados con la mujer', 0.1), (u'Las negociaciones con ETA', 0.1), (u'El terrorismo internacional', 0.0)]\n",
        "\n",
        "BAR\u00d3METRO SEPTIEMBRE 2007 , date: 2007-09-24 00:00:00 , doc_type: text/html\n",
        "URL: http://www.cis.es/cis/export/sites/default/-Archivos/Marginales/2720_2739/2732/e273200.html\n",
        "-------------------------------------------------"
       ]
      },
      {
       "output_type": "stream",
       "stream": "stdout",
       "text": [
        "\n",
        "Question: \u00bfCu\u00e1l es, a su juicio, el principal problema que existe actualmente en Espa\u00f1a? \u00bfY el segundo? \u00bfY el tercero? (MULTIRRESPUESTA).\n",
        "-------------------------------------------------\n",
        "[(u'La vivienda', 37.3), (u'El terrorismo, ETA', 35.4), (u'El paro', 35.0), (u'La inmigraci\\xf3n', 29.2), (u'Los problemas de \\xedndole econ\\xf3mica', 21.8), (u'Los problemas relacionados con la calidad del empleo', 13.5), (u'La inseguridad ciudadana', 12.9), (u'La clase pol\\xedtica, los partidos pol\\xedticos', 9.2), (u'Los problemas de \\xedndole social', 4.8), (u'La educaci\\xf3n', 4.5), (u'Las pensiones', 4.2), (u'Las drogas', 4.1), (u'Otras respuestas', 4.1), (u'La sanidad', 3.9), (u'N.S.', 3.6), (u'Los problemas relacionados con la juventud', 3.3), (u'La violencia contra la mujer', 2.9), (u'Los nacionalismos', 2.6), (u'El Gobierno, los pol\\xedticos y los partidos', 2.5), (u'La crisis de valores', 1.7), (u'La Administraci\\xf3n de Justicia', 1.6), (u'Los problemas medioambientales', 1.4), (u'Las infraestructuras', 1.0), (u'La corrupci\\xf3n y el fraude', 0.7), (u'Las guerras en general', 0.6), (u'Las preocupaciones y situaciones personales', 0.6), (u'N.C.', 0.6), (u'El racismo', 0.5), (u'Los problemas de la agricultura, ganader\\xeda y pesca', 0.4), (u'El funcionamiento de los servicios p\\xfablicos', 0.4), (u'El Estatuto de Catalu\\xf1a', 0.4), (u'Ninguno', 0.3), (u'Los problemas relacionados con la mujer', 0.2), (u'El terrorismo internacional', 0.1), (u'Las negociaciones con ETA', 0.0)]\n",
        "\n",
        "BAR\u00d3METRO JULIO 2007 , date: 2007-07-06 00:00:00 , doc_type: text/html\n",
        "URL: http://www.cis.es/cis/export/sites/default/-Archivos/Marginales/2720_2739/2728/e272800.html\n",
        "el\u00a0tercero? (MULTIRRESPUESTA)."
       ]
      },
      {
       "output_type": "stream",
       "stream": "stdout",
       "text": [
        "\n",
        "-------------------------------------------------\n",
        "Question: \u00bfCu\u00e1l\u00a0es,\u00a0a\u00a0su\u00a0juicio,\u00a0el\u00a0principal\u00a0problema\u00a0que\u00a0existe\u00a0actualmente\u00a0en\u00a0Espa\u00f1a?\u00a0\u00bfY\u00a0el\u00a0segundo?\u00a0\u00bfY el\u00a0tercero? (MULTIRRESPUESTA).\n",
        "-------------------------------------------------\n",
        "[(u'El terrorismo, ETA', 44.1), (u'La vivienda', 36.7), (u'El paro', 36.5), (u'La inmigraci\\xf3n', 31.5), (u'Los problemas de \\xedndole econ\\xf3mica', 16.5), (u'La inseguridad ciudadana', 13.5), (u'Los problemas relacionados con la calidad del empleo', 12.7), (u'La clase pol\\xedtica, los partidos pol\\xedticos', 8.9), (u'Las drogas', 4.8), (u'La sanidad', 4.6), (u'La educaci\\xf3n', 3.9), (u'Las pensiones', 3.7), (u'Los problemas de \\xedndole social', 3.6), (u'N.S.', 3.6), (u'Otras respuestas', 3.3), (u'Los problemas relacionados con la juventud', 2.7), (u'Los problemas medioambientales', 2.7), (u'El Gobierno, los pol\\xedticos y los partidos', 2.7), (u'La violencia contra la mujer', 2.4), (u'La corrupci\\xf3n y el fraude', 2.3), (u'La crisis de valores', 1.9), (u'Las infraestructuras', 1.1), (u'La Administraci\\xf3n de Justicia', 1.1), (u'Los nacionalismos', 0.7), (u'Los problemas de la agricultura, ganader\\xeda y pesca', 0.6), (u'El funcionamiento de los servicios p\\xfablicos', 0.4), (u'Las preocupaciones y situaciones personales', 0.4), (u'Las guerras en general', 0.3), (u'N.C.', 0.3), (u'El racismo', 0.2), (u'Los problemas relacionados con la mujer', 0.1), (u'El terrorismo internacional', 0.1), (u'El Estatuto de Catalu\\xf1a', 0.1), (u'Ninguno', 0.1), (u'Las negociaciones con ETA', 0.0)]"
       ]
      },
      {
       "output_type": "stream",
       "stream": "stdout",
       "text": [
        "\n",
        "\n",
        "BAR\u00d3METRO JUNIO 2007 , date: 2007-06-22 00:00:00 , doc_type: text/html\n",
        "URL: http://www.cis.es/cis/export/sites/default/-Archivos/Marginales/2720_2739/2724/e272400.html\n",
        "el\u00a0tercero? (MULTIRRESPUESTA)."
       ]
      },
      {
       "output_type": "stream",
       "stream": "stdout",
       "text": [
        "\n",
        "-------------------------------------------------\n",
        "Question: \u00bfCu\u00e1l\u00a0es,\u00a0a\u00a0su\u00a0juicio,\u00a0el\u00a0principal\u00a0problema\u00a0que\u00a0existe\u00a0actualmente\u00a0en\u00a0Espa\u00f1a?\u00a0\u00bfY\u00a0el\u00a0segundo?\u00a0\u00bfY el\u00a0tercero? (MULTIRRESPUESTA).\n",
        "-------------------------------------------------\n",
        "[(u'El terrorismo, ETA', 41.7), (u'El paro', 38.5), (u'La vivienda', 30.8), (u'La inmigraci\\xf3n', 29.5), (u'Los problemas de \\xedndole econ\\xf3mica', 15.4), (u'La inseguridad ciudadana', 13.6), (u'Los problemas relacionados con la calidad del empleo', 12.4), (u'La clase pol\\xedtica, los partidos pol\\xedticos', 9.5), (u'N.S.', 5.7), (u'Las drogas', 5.3), (u'La sanidad', 4.1), (u'Otras respuestas', 4.0), (u'La educaci\\xf3n', 3.7), (u'Las pensiones', 3.3), (u'Los problemas de \\xedndole social', 2.9), (u'Los problemas relacionados con la juventud', 2.9), (u'La violencia contra la mujer', 2.6), (u'La crisis de valores', 2.3), (u'El Gobierno, los pol\\xedticos y los partidos', 2.0), (u'Los problemas medioambientales', 1.7), (u'Las infraestructuras', 1.6), (u'La corrupci\\xf3n y el fraude', 1.6), (u'La Administraci\\xf3n de Justicia', 1.0), (u'Los nacionalismos', 0.8), (u'Los problemas de la agricultura, ganader\\xeda y pesca', 0.4), (u'El racismo', 0.4), (u'N.C.', 0.4), (u'Las guerras en general', 0.2), (u'El funcionamiento de los servicios p\\xfablicos', 0.2), (u'Los problemas relacionados con la mujer', 0.2), (u'El terrorismo internacional', 0.2), (u'Las preocupaciones y situaciones personales', 0.2), (u'Ninguno', 0.1), (u'El Estatuto de Catalu\\xf1a', 0.0), (u'Las negociaciones con ETA', 0.0)]"
       ]
      },
      {
       "output_type": "stream",
       "stream": "stdout",
       "text": [
        "\n",
        "\n",
        "BAR\u00d3METRO MAYO 2007 , date: 2007-05-19 00:00:00 , doc_type: text/html\n",
        "URL: http://www.cis.es/cis/export/sites/default/-Archivos/Marginales/2700_2719/2705/e270500.html\n",
        "el\u00a0tercero? (MULTIRRESPUESTA)."
       ]
      },
      {
       "output_type": "stream",
       "stream": "stdout",
       "text": [
        "\n",
        "-------------------------------------------------\n",
        "Question: \u00bfCu\u00e1l\u00a0es,\u00a0a\u00a0su\u00a0juicio,\u00a0el\u00a0principal\u00a0problema\u00a0que\u00a0existe\u00a0actualmente\u00a0en\u00a0Espa\u00f1a?\u00a0\u00bfY\u00a0el\u00a0segundo?\u00a0\u00bfY el\u00a0tercero? (MULTIRRESPUESTA).\n",
        "-------------------------------------------------\n",
        "[(u'El paro', 42.1), (u'La vivienda', 34.8), (u'La inmigraci\\xf3n', 34.4), (u'El terrorismo, ETA', 31.8), (u'Los problemas de \\xedndole econ\\xf3mica', 15.4), (u'La inseguridad ciudadana', 14.6), (u'La clase pol\\xedtica, los partidos pol\\xedticos', 11.1), (u'Los problemas relacionados con la calidad del empleo', 9.5), (u'La sanidad', 5.6), (u'N.S.', 5.5), (u'Las drogas', 4.7), (u'Los problemas de \\xedndole social', 4.4), (u'La educaci\\xf3n', 3.6), (u'Las pensiones', 3.4), (u'La corrupci\\xf3n y el fraude', 2.8), (u'Los problemas relacionados con la juventud', 2.6), (u'Otras respuestas', 2.3), (u'La violencia contra la mujer', 2.1), (u'La crisis de valores', 1.9), (u'El Gobierno, los pol\\xedticos y los partidos', 1.8), (u'Los problemas medioambientales', 1.6), (u'La Administraci\\xf3n de Justicia', 1.4), (u'Las infraestructuras', 1.1), (u'Los problemas de la agricultura, ganader\\xeda y pesca', 0.6), (u'Los nacionalismos', 0.6), (u'El Estatuto de Catalu\\xf1a', 0.5), (u'N.C.', 0.5), (u'El funcionamiento de los servicios p\\xfablicos', 0.4), (u'Las negociaciones con ETA', 0.4), (u'Ninguno', 0.4), (u'Las guerras en general', 0.2), (u'El racismo', 0.2), (u'Los problemas relacionados con la mujer', 0.2), (u'Las preocupaciones y situaciones personales', 0.2), (u'El terrorismo internacional', 0.0)]"
       ]
      },
      {
       "output_type": "stream",
       "stream": "stdout",
       "text": [
        "\n",
        "\n",
        "BAR\u00d3METRO ABRIL 2007 , date: 2007-04-23 00:00:00 , doc_type: text/html\n",
        "URL: http://www.cis.es/cis/export/sites/default/-Archivos/Marginales/2700_2719/2700/e270000.html\n",
        "el\u00a0tercero? (MULTIRRESPUESTA)."
       ]
      },
      {
       "output_type": "stream",
       "stream": "stdout",
       "text": [
        "\n",
        "-------------------------------------------------\n",
        "Question: \u00bfCu\u00e1l\u00a0es,\u00a0a\u00a0su\u00a0juicio,\u00a0el\u00a0principal\u00a0problema\u00a0que\u00a0existe\u00a0actualmente\u00a0en\u00a0Espa\u00f1a?\u00a0\u00bfY\u00a0el\u00a0segundo?\u00a0\u00bfY el\u00a0tercero? (MULTIRRESPUESTA).\n",
        "-------------------------------------------------\n",
        "[(u'El paro', 37.4), (u'El terrorismo, ETA', 36.5), (u'La vivienda', 32.5), (u'La inmigraci\\xf3n', 31.9), (u'Los problemas de \\xedndole econ\\xf3mica', 18.0), (u'La inseguridad ciudadana', 16.7), (u'Los problemas relacionados con la calidad del empleo', 14.4), (u'La clase pol\\xedtica, los partidos pol\\xedticos', 11.9), (u'La sanidad', 5.0), (u'Las drogas', 4.7), (u'Los problemas de \\xedndole social', 4.4), (u'La educaci\\xf3n', 4.2), (u'Las pensiones', 3.9), (u'N.S.', 3.8), (u'Otras respuestas', 3.4), (u'Los problemas relacionados con la juventud', 2.8), (u'La violencia contra la mujer', 2.7), (u'La crisis de valores', 2.6), (u'Los problemas medioambientales', 2.4), (u'La corrupci\\xf3n y el fraude', 1.7), (u'Las infraestructuras', 1.5), (u'La Administraci\\xf3n de Justicia', 1.3), (u'El Gobierno, los pol\\xedticos y los partidos', 1.3), (u'El funcionamiento de los servicios p\\xfablicos', 0.7), (u'Los nacionalismos', 0.7), (u'N.C.', 0.6), (u'Los problemas de la agricultura, ganader\\xeda y pesca', 0.4), (u'El Estatuto de Catalu\\xf1a', 0.4), (u'El racismo', 0.2), (u'El terrorismo internacional', 0.2), (u'Las preocupaciones y situaciones personales', 0.2), (u'Las guerras en general', 0.1), (u'Los problemas relacionados con la mujer', 0.1), (u'Las negociaciones con ETA', 0.0), (u'Ninguno', 0.0)]"
       ]
      },
      {
       "output_type": "stream",
       "stream": "stdout",
       "text": [
        "\n",
        "\n",
        "BAR\u00d3METRO MARZO 2007 , date: 2007-03-17 00:00:00 , doc_type: text/html\n",
        "URL: http://www.cis.es/cis/export/sites/default/-Archivos/Marginales/2680_2699/2681/e268100.html\n",
        "el\u00a0tercero? (MULTIRRESPUESTA)."
       ]
      },
      {
       "output_type": "stream",
       "stream": "stdout",
       "text": [
        "\n",
        "-------------------------------------------------\n",
        "Question: \u00bfCu\u00e1l\u00a0es,\u00a0a\u00a0su\u00a0juicio,\u00a0el\u00a0principal\u00a0problema\u00a0que\u00a0existe\u00a0actualmente\u00a0en\u00a0Espa\u00f1a?\u00a0\u00bfY\u00a0el\u00a0segundo?\u00a0\u00bfY el\u00a0tercero? (MULTIRRESPUESTA).\n",
        "-------------------------------------------------\n",
        "[(u'El terrorismo, ETA', 38.2), (u'El paro', 38.1), (u'La inmigraci\\xf3n', 30.3), (u'La vivienda', 27.5), (u'La clase pol\\xedtica, los partidos pol\\xedticos', 16.0), (u'Los problemas de \\xedndole econ\\xf3mica', 15.7), (u'La inseguridad ciudadana', 14.9), (u'Los problemas relacionados con la calidad del empleo', 9.0), (u'N.S.', 4.7), (u'Otras respuestas', 4.4), (u'La sanidad', 4.0), (u'Las drogas', 3.9), (u'Los problemas de \\xedndole social', 3.7), (u'La educaci\\xf3n', 3.7), (u'El Gobierno, los pol\\xedticos y los partidos', 3.5), (u'Las pensiones', 3.0), (u'La crisis de valores', 2.5), (u'Los problemas medioambientales', 2.1), (u'La violencia contra la mujer', 1.9), (u'La Administraci\\xf3n de Justicia', 1.6), (u'Los problemas relacionados con la juventud', 1.6), (u'La corrupci\\xf3n y el fraude', 1.2), (u'Las guerras en general', 0.9), (u'Las infraestructuras', 0.8), (u'Los nacionalismos', 0.8), (u'El racismo', 0.6), (u'Los problemas relacionados con la mujer', 0.6), (u'Los problemas de la agricultura, ganader\\xeda y pesca', 0.5), (u'El Estatuto de Catalu\\xf1a', 0.5), (u'N.C.', 0.5), (u'Las negociaciones con ETA', 0.4), (u'El funcionamiento de los servicios p\\xfablicos', 0.2), (u'El terrorismo internacional', 0.2), (u'Las preocupaciones y situaciones personales', 0.2), (u'Ninguno', 0.2)]"
       ]
      },
      {
       "output_type": "stream",
       "stream": "stdout",
       "text": [
        "\n",
        "\n",
        "BAR\u00d3METRO FEBRERO 2007 , date: 2007-02-22 00:00:00 , doc_type: text/html\n",
        "URL: http://www.cis.es/cis/export/sites/default/-Archivos/Marginales/2660_2679/2677/e267700.html\n",
        "el\u00a0tercero? (MULTIRRESPUESTA)."
       ]
      },
      {
       "output_type": "stream",
       "stream": "stdout",
       "text": [
        "\n",
        "-------------------------------------------------\n",
        "Question: \u00bfCu\u00e1l\u00a0es,\u00a0a\u00a0su\u00a0juicio,\u00a0el\u00a0principal\u00a0problema\u00a0que\u00a0existe\u00a0actualmente\u00a0en\u00a0Espa\u00f1a?\u00a0\u00bfY\u00a0el\u00a0segundo?\u00a0\u00bfY el\u00a0tercero? (MULTIRRESPUESTA).\n",
        "-------------------------------------------------\n",
        "[(u'El terrorismo, ETA', 42.4), (u'El paro', 40.4), (u'La inmigraci\\xf3n', 32.9), (u'La vivienda', 27.0), (u'La inseguridad ciudadana', 15.8), (u'Los problemas de \\xedndole econ\\xf3mica', 15.6), (u'La clase pol\\xedtica, los partidos pol\\xedticos', 11.3), (u'Los problemas relacionados con la calidad del empleo', 9.8), (u'Las drogas', 5.5), (u'Otras respuestas', 4.3), (u'La sanidad', 4.1), (u'N.S.', 4.0), (u'La violencia contra la mujer', 3.9), (u'Las pensiones', 3.7), (u'Los problemas de \\xedndole social', 3.7), (u'La educaci\\xf3n', 3.3), (u'Los problemas medioambientales', 2.4), (u'La crisis de valores', 2.0), (u'La Administraci\\xf3n de Justicia', 1.8), (u'Los problemas relacionados con la juventud', 1.8), (u'El Gobierno, los pol\\xedticos y los partidos', 1.8), (u'La corrupci\\xf3n y el fraude', 1.5), (u'Las guerras en general', 0.6), (u'Los nacionalismos', 0.6), (u'Las preocupaciones y situaciones personales', 0.6), (u'Las infraestructuras', 0.5), (u'Los problemas de la agricultura, ganader\\xeda y pesca', 0.5), (u'El racismo', 0.4), (u'El funcionamiento de los servicios p\\xfablicos', 0.4), (u'Ninguno', 0.4), (u'El Estatuto de Catalu\\xf1a', 0.3), (u'El terrorismo internacional', 0.2), (u'Las negociaciones con ETA', 0.2), (u'N.C.', 0.2), (u'Los problemas relacionados con la mujer', 0.0)]"
       ]
      },
      {
       "output_type": "stream",
       "stream": "stdout",
       "text": [
        "\n",
        "\n",
        "BAR\u00d3METRO ENERO 2007 , date: 2007-01-22 00:00:00 , doc_type: text/html\n",
        "URL: http://www.cis.es/cis/export/sites/default/-Archivos/Marginales/2660_2679/2672/e267200.html\n",
        "el\u00a0tercero? (MULTIRRESPUESTA)."
       ]
      },
      {
       "output_type": "stream",
       "stream": "stdout",
       "text": [
        "\n",
        "-------------------------------------------------\n",
        "Question: \u00bfCu\u00e1l\u00a0es,\u00a0a\u00a0su\u00a0juicio,\u00a0el\u00a0principal\u00a0problema\u00a0que\u00a0existe\u00a0actualmente\u00a0en\u00a0Espa\u00f1a?\u00a0\u00bfY\u00a0el\u00a0segundo?\u00a0\u00bfY el\u00a0tercero? (MULTIRRESPUESTA).\n",
        "-------------------------------------------------\n",
        "[(u'El terrorismo, ETA', 44.9), (u'El paro', 37.5), (u'La inmigraci\\xf3n', 34.5), (u'La vivienda', 29.7), (u'La inseguridad ciudadana', 18.9), (u'Los problemas de \\xedndole econ\\xf3mica', 18.3), (u'La clase pol\\xedtica, los partidos pol\\xedticos', 12.4), (u'Los problemas relacionados con la calidad del empleo', 9.7), (u'La sanidad', 4.2), (u'Las drogas', 3.7), (u'N.S.', 3.5), (u'Los problemas de \\xedndole social', 3.3), (u'Otras respuestas', 3.1), (u'La educaci\\xf3n', 3.0), (u'La crisis de valores', 2.6), (u'Las pensiones', 2.3), (u'La violencia contra la mujer', 2.3), (u'El Gobierno, los pol\\xedticos y los partidos', 2.3), (u'La corrupci\\xf3n y el fraude', 1.9), (u'La Administraci\\xf3n de Justicia', 1.6), (u'Los problemas relacionados con la juventud', 1.6), (u'Los problemas medioambientales', 1.5), (u'Los nacionalismos', 0.8), (u'El racismo', 0.7), (u'Las infraestructuras', 0.6), (u'N.C.', 0.6), (u'Los problemas de la agricultura, ganader\\xeda y pesca', 0.4), (u'Las negociaciones con ETA', 0.4), (u'Las preocupaciones y situaciones personales', 0.3), (u'El Estatuto de Catalu\\xf1a', 0.3), (u'Las guerras en general', 0.2), (u'El funcionamiento de los servicios p\\xfablicos', 0.2), (u'Los problemas relacionados con la mujer', 0.2), (u'Ninguno', 0.2), (u'El terrorismo internacional', 0.0)]"
       ]
      },
      {
       "output_type": "stream",
       "stream": "stdout",
       "text": [
        "\n",
        "\n",
        "BAR\u00d3METRO DICIEMBRE 2006 , date: 2006-12-13 00:00:00 , doc_type: text/html\n",
        "URL: http://www.cis.es/cis/export/sites/default/-Archivos/Marginales/2660_2679/2666/e266600.html\n",
        "el\u00a0tercero? (MULTIRRESPUESTA)."
       ]
      },
      {
       "output_type": "stream",
       "stream": "stdout",
       "text": [
        "\n",
        "-------------------------------------------------\n",
        "Question: Cu\u00e1l\u00a0es,\u00a0a\u00a0su\u00a0juicio,\u00a0el\u00a0principal\u00a0problema\u00a0que\u00a0existen\u00a0actualmente\u00a0en\u00a0Espa\u00f1a?\u00a0\u00bfY\u00a0el\u00a0segundo?\u00a0\u00bfY el\u00a0tercero? (MULTIRRESPUESTA).\n",
        "-------------------------------------------------\n",
        "[(u'El paro', 42.1), (u'La inmigraci\\xf3n', 38.3), (u'La vivienda', 29.7), (u'El terrorismo, ETA', 27.1), (u'La inseguridad ciudadana', 21.1), (u'Los problemas de \\xedndole econ\\xf3mica', 15.5), (u'Los problemas relacionados con la calidad del empleo', 9.7), (u'La clase pol\\xedtica, los partidos pol\\xedticos', 8.7), (u'Las drogas', 6.3), (u'Los problemas de \\xedndole social', 5.0), (u'N.S.', 5.0), (u'La sanidad', 4.5), (u'La educaci\\xf3n', 3.3), (u'Otras respuestas', 3.1), (u'La corrupci\\xf3n y el fraude', 2.9), (u'Las pensiones', 2.9), (u'La violencia contra la mujer', 2.8), (u'El Gobierno, los pol\\xedticos y los partidos', 2.3), (u'Los problemas medioambientales', 2.1), (u'La Administraci\\xf3n de Justicia', 2.0), (u'La crisis de valores', 1.7), (u'Los problemas relacionados con la juventud', 1.1), (u'Los nacionalismos', 1.1), (u'Las infraestructuras', 0.8), (u'Negociaciones con ETA', 0.7), (u'Los problemas de la agricultura, ganader\\xeda y pesca', 0.3), (u'El estatuto de Catalu\\xf1a', 0.3), (u'Las guerras en general', 0.2), (u'El racismo', 0.2), (u'El funcionamiento de los servicios p\\xfablicos', 0.2), (u'Los problemas relacionados con la mujer', 0.2), (u'El terrorismo internacional', 0.2), (u'N.C.', 0.2), (u'Las preocupaciones y situaciones personales', 0.1), (u'Ninguno', 0.1)]"
       ]
      },
      {
       "output_type": "stream",
       "stream": "stdout",
       "text": [
        "\n",
        "\n",
        "BAR\u00d3METRO NOVIEMBRE 2006 , date: 2006-11-18 00:00:00 , doc_type: text/html\n",
        "URL: http://www.cis.es/cis/export/sites/default/-Archivos/Marginales/2660_2679/2662/e266200.html\n",
        "el\u00a0tercero?\u00a0(MULTIRRESPUESTA)."
       ]
      },
      {
       "output_type": "stream",
       "stream": "stdout",
       "text": [
        "\n",
        "-------------------------------------------------\n",
        "Question: \u00bfCu\u00e1l\u00a0es,\u00a0a\u00a0su\u00a0juicio,\u00a0el\u00a0principal\u00a0problema\u00a0que\u00a0existe\u00a0actualmente\u00a0en\u00a0Espa\u00f1a?\u00a0\u00bfY\u00a0el\u00a0segundo?\u00a0\u00bfY el\u00a0tercero?\u00a0(MULTIRRESPUESTA).\n",
        "-------------------------------------------------\n",
        "[(u'El paro', 40.0), (u'La inmigraci\\xf3n', 40.0), (u'El terrorismo, ETA', 25.4), (u'La vivienda', 24.9), (u'La inseguridad ciudadana', 20.5), (u'Los problemas de \\xedndole econ\\xf3mica', 15.5), (u'La clase pol\\xedtica, los partidos pol\\xedticos', 10.1), (u'Los problemas relacionados con la calidad del empleo', 9.8), (u'La educaci\\xf3n', 7.1), (u'La sanidad', 5.4), (u'Las drogas', 5.2), (u'N.S.', 4.4), (u'La violencia contra la mujer', 4.1), (u'Los problemas de \\xedndole social', 4.0), (u'Otras respuestas', 3.7), (u'Las pensiones', 3.6), (u'La corrupci\\xf3n y el fraude', 3.1), (u'El Gobierno, los pol\\xedticos y los partidos', 2.1), (u'La crisis de valores', 2.0), (u'Los problemas relacionados con la juventud', 1.8), (u'Los problemas medioambientales', 1.6), (u'Los nacionalismos', 1.4), (u'La Administraci\\xf3n de Justicia', 1.3), (u'N.C.', 1.1), (u'Las infraestructuras', 0.9), (u'El funcionamiento de los servicios p\\xfablicos', 0.6), (u'Los problemas de la agricultura, ganader\\xeda y pesca', 0.5), (u'El racismo', 0.5), (u'Las preocupaciones y situaciones personales', 0.4), (u'El estatuto de Catalu\\xf1a', 0.3), (u'Las guerras en general', 0.2), (u'Ninguno', 0.2), (u'Los problemas relacionados con la mujer', 0.1), (u'El terrorismo internacional', 0.1)]"
       ]
      },
      {
       "output_type": "stream",
       "stream": "stdout",
       "text": [
        "\n",
        "\n",
        "BAR\u00d3METRO OCTUBRE 2006 , date: 2006-10-18 00:00:00 , doc_type: text/html\n",
        "URL: http://www.cis.es/cis/export/sites/default/-Archivos/Marginales/2640_2659/2657/e265700.html\n",
        "el\u00a0tercero?\u00a0(MULTIRRESPUESTA)."
       ]
      },
      {
       "output_type": "stream",
       "stream": "stdout",
       "text": [
        "\n",
        "-------------------------------------------------\n",
        "Question: \u00bfCu\u00e1l\u00a0es,\u00a0a\u00a0su\u00a0juicio,\u00a0el\u00a0principal\u00a0problema\u00a0que\u00a0existe\u00a0actualmente\u00a0en\u00a0Espa\u00f1a?\u00a0\u00bfY\u00a0el\u00a0segundo?\u00a0\u00bfY el\u00a0tercero?\u00a0(MULTIRRESPUESTA).\n",
        "-------------------------------------------------\n",
        "[(u'La inmigraci\\xf3n', 49.0), (u'El paro', 40.6), (u'La vivienda', 30.2), (u'El terrorismo, ETA', 18.9), (u'Los problemas de \\xedndole econ\\xf3mica', 17.0), (u'La inseguridad ciudadana', 16.0), (u'Los problemas relacionados con la calidad del empleo', 10.6), (u'La clase pol\\xedtica, los partidos pol\\xedticos', 10.0), (u'Las drogas', 6.0), (u'Otras respuestas', 4.3), (u'Los problemas de \\xedndole social', 4.2), (u'N.S.', 4.2), (u'La sanidad', 3.9), (u'La educaci\\xf3n', 3.7), (u'El Gobierno, los pol\\xedticos y los partidos', 3.4), (u'Las pensiones', 3.1), (u'La violencia contra la mujer', 2.5), (u'Los problemas relacionados con la juventud', 2.5), (u'La corrupci\\xf3n y el fraude', 2.0), (u'Los nacionalismos', 1.8), (u'Los problemas medioambientales', 1.7), (u'Las infraestructuras', 1.6), (u'La Administraci\\xf3n de Justicia', 1.6), (u'La crisis de valores', 1.5), (u'Los problemas de la agricultura, ganader\\xeda y pesca', 0.9), (u'El Estatuto de Catalu\\xf1a', 0.6), (u'N.C.', 0.5), (u'Las guerras en general', 0.4), (u'El racismo', 0.4), (u'Las preocupaciones y situaciones personales', 0.4), (u'Los problemas relacionados con la mujer', 0.3), (u'El funcionamiento de los servicios p\\xfablicos', 0.2), (u'Ninguno', 0.2), (u'El terrorismo internacional', 0.1)]"
       ]
      },
      {
       "output_type": "stream",
       "stream": "stdout",
       "text": [
        "\n",
        "\n",
        "BAR\u00d3METRO SEPTIEMBRE 2006 , date: 2006-09-18 00:00:00 , doc_type: text/html\n",
        "URL: http://www.cis.es/cis/export/sites/default/-Archivos/Marginales/2640_2659/2654/e265400.html\n",
        "el\u00a0tercero?\u00a0(MULTIRRESPUESTA)."
       ]
      },
      {
       "output_type": "stream",
       "stream": "stdout",
       "text": [
        "\n",
        "-------------------------------------------------\n",
        "Question: \u00bfCu\u00e1l\u00a0es,\u00a0a\u00a0su\u00a0juicio,\u00a0el\u00a0principal\u00a0problema\u00a0que\u00a0existe\u00a0actualmente\u00a0en\u00a0Espa\u00f1a?\u00a0\u00bfY\u00a0el\u00a0segundo?\u00a0\u00bfY el\u00a0tercero?\u00a0(MULTIRRESPUESTA).\n",
        "-------------------------------------------------\n",
        "[(u'La inmigraci\\xf3n', 59.2), (u'El paro', 42.0), (u'La vivienda', 20.9), (u'El terrorismo, ETA', 18.0), (u'La inseguridad ciudadana', 16.0), (u'Los problemas de \\xedndole econ\\xf3mica', 15.6), (u'La clase pol\\xedtica, los partidos pol\\xedticos', 8.9), (u'Los problemas relacionados con la calidad del empleo', 7.8), (u'N.S.', 5.2), (u'Otras respuestas', 4.9), (u'Las drogas', 4.8), (u'La educaci\\xf3n', 4.2), (u'La sanidad', 3.7), (u'Los problemas de \\xedndole social', 3.7), (u'Las pensiones', 2.9), (u'La violencia contra la mujer', 2.5), (u'Los problemas medioambientales', 2.4), (u'La crisis de valores', 2.0), (u'El Gobierno, los pol\\xedticos y los partidos', 1.9), (u'Los problemas relacionados con la juventud', 1.7), (u'La Administraci\\xf3n de Justicia', 1.3), (u'Los nacionalismos', 1.3), (u'La corrupci\\xf3n y el fraude', 1.0), (u'Las infraestructuras', 0.9), (u'Las guerras en general', 0.4), (u'Los problemas relacionados con la mujer', 0.4), (u'El terrorismo internacional', 0.4), (u'N.C.', 0.4), (u'Los problemas de la agricultura, ganader\\xeda y pesca', 0.3), (u'El funcionamiento de los servicios p\\xfablicos', 0.3), (u'El estatuto de Catalu\\xf1a', 0.3), (u'El racismo', 0.2), (u'Las preocupaciones y situaciones personales', 0.2), (u'Ninguno', 0.2), (u'Negociaciones con ETA', 0.0)]"
       ]
      },
      {
       "output_type": "stream",
       "stream": "stdout",
       "text": [
        "\n",
        "\n",
        "BAR\u00d3METRO JULIO 2006 , date: 2006-07-10 00:00:00 , doc_type: text/html\n",
        "URL: http://www.cis.es/cis/export/sites/default/-Archivos/Marginales/2640_2659/2651/e265100.html\n",
        "el\u00a0tercero?\u00a0(MULTIRRESPUESTA)."
       ]
      },
      {
       "output_type": "stream",
       "stream": "stdout",
       "text": [
        "\n",
        "-------------------------------------------------\n",
        "Question: \u00bfCu\u00e1l\u00a0es,\u00a0a\u00a0su\u00a0juicio,\u00a0el\u00a0principal\u00a0problema\u00a0que\u00a0existe\u00a0actualmente\u00a0en\u00a0Espa\u00f1a?\u00a0\u00bfY\u00a0el\u00a0segundo?\u00a0\u00bfY el\u00a0tercero?\u00a0(MULTIRRESPUESTA).\n",
        "-------------------------------------------------\n",
        "[(u'El paro', 46.8), (u'La inmigraci\\xf3n', 35.9), (u'El terrorismo, ETA', 26.9), (u'La vivienda', 26.5), (u'La inseguridad ciudadana', 20.9), (u'Los problemas de \\xedndole econ\\xf3mica', 19.0), (u'La clase pol\\xedtica, los partidos pol\\xedticos', 10.0), (u'Los problemas relacionados con la calidad del empleo', 8.8), (u'Las drogas', 5.8), (u'La sanidad', 4.1), (u'Los problemas de \\xedndole social', 3.9), (u'Otras respuestas', 3.9), (u'N.S.', 3.7), (u'La educaci\\xf3n', 3.3), (u'Las pensiones', 3.0), (u'El Gobierno, los pol\\xedticos y los partidos', 2.6), (u'Los problemas relacionados con la juventud', 2.5), (u'Las infraestructuras', 1.7), (u'Los problemas medioambientales', 1.7), (u'La violencia contra la mujer', 1.6), (u'La crisis de valores', 1.6), (u'La Administraci\\xf3n de Justicia', 1.4), (u'La corrupci\\xf3n y el fraude', 1.0), (u'Los nacionalismos', 1.0), (u'El estatuto de Catalu\\xf1a', 0.8), (u'N.C.', 0.6), (u'El funcionamiento de los servicios p\\xfablicos', 0.5), (u'Las guerras en general', 0.4), (u'Las preocupaciones y situaciones personales', 0.4), (u'Los problemas de la agricultura, ganader\\xeda y pesca', 0.3), (u'Ninguno', 0.3), (u'Los problemas relacionados con la mujer', 0.2), (u'El racismo', 0.1), (u'El terrorismo internacional', 0.1)]"
       ]
      },
      {
       "output_type": "stream",
       "stream": "stdout",
       "text": [
        "\n",
        "\n",
        "BAR\u00d3METRO JUNIO 2006 , date: 2006-06-21 00:00:00 , doc_type: text/html\n",
        "URL: http://www.cis.es/cis/export/sites/default/-Archivos/Marginales/2640_2659/2649/e264900.html\n",
        "el\u00a0tercero?\u00a0(MULTIRRESPUESTA)."
       ]
      },
      {
       "output_type": "stream",
       "stream": "stdout",
       "text": [
        "\n",
        "-------------------------------------------------\n",
        "Question: \u00bfCu\u00e1l\u00a0es,\u00a0a\u00a0su\u00a0juicio,\u00a0el\u00a0principal\u00a0problema\u00a0que\u00a0existe\u00a0actualmente\u00a0en\u00a0Espa\u00f1a?\u00a0\u00bfY\u00a0el\u00a0segundo?\u00a0\u00bfY el\u00a0tercero?\u00a0(MULTIRRESPUESTA).\n",
        "-------------------------------------------------\n",
        "[(u'El paro', 43.1), (u'La inmigraci\\xf3n', 38.0), (u'La vivienda', 24.5), (u'La inseguridad ciudadana', 24.2), (u'El terrorismo, ETA', 22.8), (u'Los problemas de \\xedndole econ\\xf3mica', 19.3), (u'Los problemas relacionados con la calidad del empleo', 9.3), (u'La clase pol\\xedtica, los partidos pol\\xedticos', 9.3), (u'Las drogas', 6.1), (u'La sanidad', 5.0), (u'N.S.', 4.8), (u'Otras respuestas', 4.2), (u'Los problemas de \\xedndole social', 3.4), (u'La educaci\\xf3n', 3.1), (u'Las pensiones', 3.0), (u'El Gobierno, los pol\\xedticos y los partidos', 2.3), (u'Los problemas medioambientales', 2.1), (u'La violencia contra la mujer', 2.0), (u'La crisis de valores', 2.0), (u'La Administraci\\xf3n de Justicia', 1.9), (u'Los problemas relacionados con la juventud', 1.6), (u'El estatuto de Catalu\\xf1a', 1.6), (u'La corrupci\\xf3n y el fraude', 1.4), (u'Los nacionalismos', 1.3), (u'Las infraestructuras', 1.0), (u'Las preocupaciones y situaciones personales', 0.6), (u'El funcionamiento de los servicios p\\xfablicos', 0.4), (u'Los problemas de la agricultura, ganader\\xeda y pesca', 0.3), (u'Las guerras en general', 0.3), (u'El racismo', 0.2), (u'Los problemas relacionados con la mujer', 0.2), (u'Ninguno', 0.2), (u'N.C.', 0.2), (u'El terrorismo internacional', 0.0), (u'Negociaciones con ETA', 0.0)]"
       ]
      },
      {
       "output_type": "stream",
       "stream": "stdout",
       "text": [
        "\n",
        "\n",
        "BAR\u00d3METRO MAYO 2006 , date: 2006-05-22 00:00:00 , doc_type: text/html\n",
        "URL: http://www.cis.es/cis/export/sites/default/-Archivos/Marginales/2640_2659/2644/e264400.html\n",
        "[(u'El paro', 46.1), (u'La inmigraci\\xf3n', 43.6), (u'La inseguridad ciudadana', 26.3), (u'La vivienda', 25.9), (u'El terrorismo, ETA', 18.5), (u'Los problemas de \\xedndole econ\\xf3mica', 17.2), (u'La clase pol\\xedtica, los partidos pol\\xedticos', 8.2), (u'Los problemas relacionados con la calidad del empleo', 7.2), (u'Las drogas', 5.4), (u'N.S.', 4.9), (u'Otras respuestas', 4.3), (u'La sanidad', 4.1), (u'Los problemas de \\xedndole social', 3.7), (u'Las pensiones', 3.5), (u'La educaci\\xf3n', 3.2), (u'Los problemas relacionados con la juventud', 2.1), (u'El Gobierno, los pol\\xedticos y los partidos', 2.1), (u'La violencia contra la mujer', 1.8), (u'La corrupci\\xf3n y el fraude', 1.6), (u'La crisis de valores', 1.6), (u'Los nacionalismos', 1.4), (u'La Reforma de los Estatutos de autonom\\xeda', 1.4), (u'Los problemas medioambientales', 1.3), (u'Las infraestructuras', 1.0), (u'La Administraci\\xf3n de Justicia', 1.0), (u'N.C.', 0.8), (u'Los problemas de la agricultura, ganader\\xeda y pesca', 0.4), (u'Las guerras en general', 0.4), (u'El funcionamiento de los servicios p\\xfablicos', 0.4), (u'Los problemas relacionados con la mujer', 0.4), (u'El racismo', 0.3), (u'Las preocupaciones y situaciones personales', 0.2), (u'Ninguno', 0.2), (u'El terrorismo internacional', 0.0)]"
       ]
      },
      {
       "output_type": "stream",
       "stream": "stdout",
       "text": [
        "\n",
        "\n",
        "BAR\u00d3METRO ABRIL 2006 , date: 2006-04-24 00:00:00 , doc_type: text/html\n",
        "URL: http://www.cis.es/cis/export/sites/default/-Archivos/Marginales/2640_2659/2640/e264000.html\n",
        "-------------------------------------------------"
       ]
      },
      {
       "output_type": "stream",
       "stream": "stdout",
       "text": [
        "\n",
        "Question: \u00bfCu\u00e1l es, a su juicio, el principal problema que existe actualmente en Espa\u00f1a? \u00bfY el segundo? \u00bfY el tercero? (MULTIRRESPUESTA).\n",
        "-------------------------------------------------\n",
        "[(u'El paro', 49.7), (u'La inmigraci\\xf3n', 29.8), (u'El terrorismo, ETA', 24.9), (u'La vivienda', 24.6), (u'Los problemas de \\xedndole econ\\xf3mica', 19.5), (u'La inseguridad ciudadana', 17.6), (u'Los problemas relacionados con la calidad del empleo', 10.0), (u'La clase pol\\xedtica, los partidos pol\\xedticos', 9.9), (u'Las drogas', 4.8), (u'La sanidad', 4.8), (u'N.S.', 4.4), (u'La educaci\\xf3n', 4.1), (u'Otras respuestas', 3.7), (u'Los problemas de \\xedndole social', 3.2), (u'Los problemas relacionados con la juventud', 3.1), (u'La violencia contra la mujer', 2.8), (u'Las pensiones', 2.7), (u'Los nacionalismos', 2.6), (u'La corrupci\\xf3n y el fraude', 2.3), (u'La reforma de los Estatutos de Autonom\\xeda', 2.0), (u'La crisis de valores', 1.9), (u'El Gobierno, los pol\\xedticos y los partidos', 1.9), (u'Las infraestructuras', 1.2), (u'La Administraci\\xf3n de Justicia', 1.1), (u'Los problemas medioambientales', 1.1), (u'Los problemas de la agricultura, ganader\\xeda y pesca', 0.6), (u'El racismo', 0.6), (u'Las guerras en general', 0.5), (u'Los problemas relacionados con la mujer', 0.4), (u'N.C.', 0.4), (u'El funcionamiento de los servicios p\\xfablicos', 0.3), (u'Las preocupaciones y situaciones personales', 0.3), (u'Ninguno', 0.2), (u'El terrorismo internacional', 0.1)]\n",
        "\n",
        "BAR\u00d3METRO MARZO 2006 , date: 2006-03-24 00:00:00 , doc_type: text/html\n",
        "URL: http://www.cis.es/cis/export/sites/default/-Archivos/Marginales/2620_2639/2636/e263600.html\n",
        "-------------------------------------------------"
       ]
      },
      {
       "output_type": "stream",
       "stream": "stdout",
       "text": [
        "\n",
        "Question: \u00bfCu\u00e1l es, a su juicio, el principal problema que existe actualmente en Espa\u00f1a? \u00bfY el segundo? \u00bfY el tercero? (MULTIRRESPUESTA).\n",
        "-------------------------------------------------\n",
        "[(u'El paro', 52.2), (u'La inmigraci\\xf3n', 32.6), (u'El terrorismo, ETA', 28.0), (u'La vivienda', 18.8), (u'La inseguridad ciudadana', 16.5), (u'Los problemas de \\xedndole econ\\xf3mica', 16.0), (u'Los problemas relacionados con la calidad del empleo', 9.3), (u'La clase pol\\xedtica, los partidos pol\\xedticos', 9.1), (u'Las drogas', 6.0), (u'La sanidad', 4.8), (u'N.S.', 4.7), (u'Otras respuestas', 4.5), (u'La violencia contra la mujer', 4.3), (u'La educaci\\xf3n', 4.0), (u'Los problemas relacionados con la juventud', 3.5), (u'Los problemas de \\xedndole social', 3.1), (u'La crisis de valores', 2.4), (u'Los problemas medioambientales', 2.0), (u'El Gobierno, los pol\\xedticos y los partidos', 2.0), (u'Las pensiones', 1.8), (u'Los nacionalismos', 1.7), (u'El Estatuto de Catalu\\xf1a', 1.7), (u'La Administraci\\xf3n de Justicia', 1.2), (u'Los problemas de la agricultura, ganader\\xeda y pesca', 1.0), (u'La corrupci\\xf3n y el fraude', 0.9), (u'Los problemas relacionados con la mujer', 0.7), (u'Las infraestructuras', 0.6), (u'El racismo', 0.5), (u'N.C.', 0.5), (u'El funcionamiento de los servicios p\\xfablicos', 0.4), (u'Las preocupaciones y situaciones personales', 0.3), (u'Ninguno', 0.3), (u'Las guerras en general', 0.2), (u'El terrorismo internacional', 0.2)]\n",
        "\n",
        "BAR\u00d3METRO FEBRERO 2006 , date: 2006-02-20 00:00:00 , doc_type: text/html\n",
        "URL: http://www.cis.es/cis/export/sites/default/-Archivos/Marginales/2620_2639/2635/e263500.html\n",
        "(M\u00c1XIMO TRES RESPUESTAS)."
       ]
      },
      {
       "output_type": "stream",
       "stream": "stdout",
       "text": [
        "\n",
        "-------------------------------------------------\n",
        "Question: \u00bfCu\u00e1les son, a su juicio, los tres problemas principales que existen actualmente en Espa\u00f1a? (M\u00c1XIMO TRES RESPUESTAS).\n",
        "-------------------------------------------------\n",
        "[(u'El paro', 49.0), (u'El terrorismo, ETA', 35.0), (u'La inmigraci\\xf3n', 26.7), (u'La inseguridad ciudadana', 19.1), (u'La vivienda', 17.7), (u'Los problemas de \\xedndole econ\\xf3mica', 15.0), (u'La clase pol\\xedtica, los partidos pol\\xedticos', 10.2), (u'Los problemas relacionados con la calidad del empleo', 7.3), (u'Las drogas', 6.6), (u'N.S.', 5.3), (u'Otras respuestas', 4.8), (u'La educaci\\xf3n', 4.1), (u'La sanidad', 4.0), (u'El Gobierno, los pol\\xedticos y los partidos', 3.8), (u'Los problemas de \\xedndole social', 3.7), (u'La violencia contra la mujer', 3.7), (u'Los problemas medioambientales', 3.0), (u'Las pensiones', 2.6), (u'Los nacionalismos', 2.3), (u'El Estatuto de Catalu\\xf1a', 2.2), (u'La Administraci\\xf3n de Justicia', 1.9), (u'La crisis de valores', 1.9), (u'Los problemas relacionados con la juventud', 1.7), (u'El racismo', 0.9), (u'Las infraestructuras', 0.8), (u'Los problemas de la agricultura, ganader\\xeda y pesca', 0.5), (u'N.C.', 0.5), (u'La corrupci\\xf3n y el fraude', 0.4), (u'El funcionamiento de los servicios p\\xfablicos', 0.4), (u'Las guerras en general', 0.3), (u'Las preocupaciones y situaciones personales', 0.3), (u'Los problemas relacionados con la mujer', 0.2), (u'Ninguno', 0.1), (u'El terrorismo internacional', 0.0)]\n",
        "\n",
        "BAR\u00d3METRO ENERO 2006 , date: 2006-01-23 00:00:00 , doc_type: text/html\n",
        "URL: http://www.cis.es/cis/export/sites/default/-Archivos/Marginales/2620_2639/2633/e263300.html\n",
        "(M\u00c1XIMO TRES RESPUESTAS)."
       ]
      },
      {
       "output_type": "stream",
       "stream": "stdout",
       "text": [
        "\n",
        "-------------------------------------------------\n",
        "Question: \u00bfCu\u00e1les son, a su juicio, los tres problemas principales que existen actualmente en Espa\u00f1a? (M\u00c1XIMO TRES RESPUESTAS).\n",
        "-------------------------------------------------\n",
        "[(u'El paro', 49.8), (u'La inmigraci\\xf3n', 32.4), (u'El terrorismo, ETA', 24.8), (u'La inseguridad ciudadana', 23.2), (u'La vivienda', 18.1), (u'Los problemas de \\xedndole econ\\xf3mica', 17.2), (u'La clase pol\\xedtica, los partidos pol\\xedticos', 10.1), (u'Los problemas relacionados con la calidad del empleo', 8.4), (u'Las drogas', 5.4), (u'La sanidad', 5.2), (u'N.S.', 4.5), (u'Otras respuestas', 4.2), (u'La educaci\\xf3n', 4.1), (u'La reforma de los Estatutos de Autonom\\xeda', 4.1), (u'La violencia contra la mujer', 3.5), (u'Los problemas de \\xedndole social', 3.2), (u'Las pensiones', 3.1), (u'Los nacionalismos', 2.5), (u'El Gobierno, los pol\\xedticos y los partidos', 2.4), (u'La crisis de valores', 2.2), (u'Los problemas relacionados con la juventud', 2.0), (u'N.C.', 1.9), (u'La Administraci\\xf3n de Justicia', 1.5), (u'Los problemas medioambientales', 1.0), (u'Las infraestructuras', 0.7), (u'La corrupci\\xf3n y el fraude', 0.6), (u'Los problemas de la agricultura, ganader\\xeda y pesca', 0.4), (u'Ninguno', 0.4), (u'Las guerras en general', 0.3), (u'El racismo', 0.3), (u'El funcionamiento de los servicios p\\xfablicos', 0.2), (u'Los problemas relacionados con la mujer', 0.2), (u'Las preocupaciones y situaciones personales', 0.2), (u'El terrorismo internacional', 0.1)]\n",
        "\n",
        "BAR\u00d3METRO DICIEMBRE 2005 , date: 2005-12-16 00:00:00 , doc_type: text/html\n",
        "URL: http://www.cis.es/cis/export/sites/default/-Archivos/Marginales/2620_2639/2630/e263000.html\n",
        "(M\u00c1XIMO\u00a0TRES\u00a0RESPUESTAS)."
       ]
      },
      {
       "output_type": "stream",
       "stream": "stdout",
       "text": [
        "\n",
        "-------------------------------------------------\n",
        "Question: \u00bfCu\u00e1les\u00a0son,\u00a0a\u00a0su\u00a0juicio,\u00a0los\u00a0tres\u00a0problemas\u00a0principales\u00a0que\u00a0existen\u00a0actualmente\u00a0en\u00a0Espa\u00f1a? (M\u00c1XIMO\u00a0TRES\u00a0RESPUESTAS).\n",
        "-------------------------------------------------\n",
        "[(u'El paro', 46.6), (u'La inmigraci\\xf3n', 28.0), (u'El terrorismo, ETA', 26.6), (u'La inseguridad ciudadana', 21.5), (u'La vivienda', 16.8), (u'Los problemas de \\xedndole econ\\xf3mica', 16.7), (u'La clase pol\\xedtica, los partidos pol\\xedticos', 9.5), (u'Los problemas relacionados con la calidad del empleo', 7.9), (u'Las drogas', 6.5), (u'Los problemas de \\xedndole social', 6.4), (u'La educaci\\xf3n', 6.0), (u'La sanidad', 5.8), (u'N.S.', 4.5), (u'Otras respuestas', 4.0), (u'Las pensiones', 3.3), (u'La violencia contra la mujer', 3.0), (u'Los nacionalismos', 2.6), (u'La reforma de los Estatutos de autonom\\xeda', 2.3), (u'La Administraci\\xf3n de Justicia', 2.2), (u'Los problemas medioambientales', 1.9), (u'Los problemas relacionados con la juventud', 1.8), (u'La crisis de valores', 1.8), (u'El Gobierno, los pol\\xedticos y los partidos', 1.6), (u'Las infraestructuras', 1.2), (u'El racismo', 0.7), (u'Los problemas de la agricultura, ganader\\xeda y pesca', 0.6), (u'La corrupci\\xf3n y el fraude', 0.6), (u'Las preocupaciones y situaciones personales', 0.6), (u'El funcionamiento de los servicios p\\xfablicos', 0.4), (u'Las guerras en general', 0.3), (u'Los problemas relacionados con la mujer', 0.3), (u'N.C.', 0.3), (u'Ninguno', 0.2), (u'El terrorismo internacional', 0.1)]"
       ]
      },
      {
       "output_type": "stream",
       "stream": "stdout",
       "text": [
        "\n",
        "\n",
        "BAR\u00d3METRO NOVIEMBRE 2005 , date: 2005-11-15 00:00:00 , doc_type: text/html\n",
        "URL: http://www.cis.es/cis/export/sites/default/-Archivos/Marginales/2620_2639/2625/e262500.html\n",
        "(M\u00c1XIMO TRES RESPUESTAS)."
       ]
      },
      {
       "output_type": "stream",
       "stream": "stdout",
       "text": [
        "\n",
        "-------------------------------------------------\n",
        "Question: \u00bfCu\u00e1les son, a su juicio, los tres problemas principales que existen actualmente en Espa\u00f1a? (M\u00c1XIMO TRES RESPUESTAS).\n",
        "-------------------------------------------------\n",
        "[(u'El paro', 51.5), (u'La inmigraci\\xf3n', 38.1), (u'El terrorismo, ETA', 24.1), (u'La vivienda', 20.5), (u'Los problemas de \\xedndole econ\\xf3mica', 17.1), (u'La inseguridad ciudadana', 14.4), (u'La educaci\\xf3n', 10.9), (u'La clase pol\\xedtica, los partidos pol\\xedticos', 9.3), (u'Los problemas relacionados con la calidad del empleo', 7.9), (u'Las drogas', 5.6), (u'La sanidad', 5.5), (u'Los problemas de \\xedndole social', 4.7), (u'N.S.', 4.4), (u'Los nacionalismos', 4.1), (u'Otras respuestas', 3.7), (u'Las pensiones', 3.0), (u'El Gobierno, los pol\\xedticos y los partidos', 2.6), (u'La violencia contra la mujer', 2.5), (u'La crisis de valores', 2.1), (u'Los problemas relacionados con la juventud', 1.4), (u'La Administraci\\xf3n de Justicia', 1.3), (u'Los problemas medioambientales', 1.0), (u'Los problemas de la agricultura, ganader\\xeda y pesca', 0.7), (u'Las infraestructuras', 0.5), (u'El racismo', 0.5), (u'La corrupci\\xf3n y el fraude', 0.4), (u'N.C.', 0.4), (u'Las guerras en general', 0.3), (u'El funcionamiento de los servicios p\\xfablicos', 0.2), (u'Los problemas relacionados con la mujer', 0.2), (u'Las preocupaciones y situaciones personales', 0.2), (u'Ninguno', 0.2), (u'El terrorismo internacional', 0.1)]\n",
        "\n",
        "BAR\u00d3METRO OCTUBRE 2005 , date: 2005-10-21 00:00:00 , doc_type: text/html\n",
        "URL: http://www.cis.es/cis/export/sites/default/-Archivos/Marginales/2620_2639/2622/e262200.html\n",
        "(M\u00c1XIMO\u00a0TRES\u00a0RESPUESTAS)."
       ]
      },
      {
       "output_type": "stream",
       "stream": "stdout",
       "text": [
        "\n",
        "-------------------------------------------------\n",
        "Question: \u00bfCu\u00e1les\u00a0son,\u00a0a\u00a0su\u00a0juicio,\u00a0los\u00a0tres\u00a0problemas\u00a0principales\u00a0que\u00a0existen\u00a0actualmente\u00a0en\u00a0Espa\u00f1a? (M\u00c1XIMO\u00a0TRES\u00a0RESPUESTAS).\n",
        "-------------------------------------------------\n",
        "[(u'El paro', 49.0), (u'La inmigraci\\xf3n', 35.8), (u'El terrorismo, ETA', 23.9), (u'Los problemas de \\xedndole econ\\xf3mica', 21.5), (u'La vivienda', 19.4), (u'La inseguridad ciudadana', 13.4), (u'La clase pol\\xedtica, los partidos pol\\xedticos', 9.8), (u'Los problemas relacionados con la calidad del empleo', 8.0), (u'Las drogas', 7.5), (u'La sanidad', 6.8), (u'Otras respuestas', 6.6), (u'La educaci\\xf3n', 5.2), (u'Los problemas de \\xedndole social', 4.9), (u'Los nacionalismos', 4.1), (u'N.S.', 3.9), (u'Las pensiones', 3.5), (u'Los problemas medioambientales', 2.9), (u'El Gobierno, los pol\\xedticos y los partidos', 1.8), (u'La violencia contra la mujer', 1.7), (u'Los problemas relacionados con la juventud', 1.6), (u'La crisis de valores', 1.6), (u'La Administraci\\xf3n de Justicia', 0.9), (u'Los problemas de la agricultura, ganader\\xeda y pesca', 0.8), (u'Las infraestructuras', 0.7), (u'La corrupci\\xf3n y el fraude', 0.4), (u'Las guerras en general', 0.4), (u'Las preocupaciones y situaciones personales', 0.4), (u'N.C.', 0.4), (u'El funcionamiento de los servicios p\\xfablicos', 0.3), (u'El racismo', 0.2), (u'Los problemas relacionados con la mujer', 0.1), (u'El terrorismo internacional', 0.1), (u'Ninguno', 0.1)]"
       ]
      },
      {
       "output_type": "stream",
       "stream": "stdout",
       "text": [
        "\n",
        "\n",
        "BAR\u00d3METRO SEPTIEMBRE 2005 , date: 2005-09-23 00:00:00 , doc_type: text/html\n",
        "URL: http://www.cis.es/cis/export/sites/default/-Archivos/Marginales/2600_2619/2618/e261800.html\n",
        "(M\u00c1XIMO\u00a0TRES\u00a0RESPUESTAS)."
       ]
      },
      {
       "output_type": "stream",
       "stream": "stdout",
       "text": [
        "\n",
        "-------------------------------------------------\n",
        "Question: \u00bfCu\u00e1les\u00a0son,\u00a0a\u00a0su\u00a0juicio,\u00a0los\u00a0tres\u00a0problemas\u00a0principales\u00a0que\u00a0existen\u00a0actualmente\u00a0en\u00a0Espa\u00f1a? (M\u00c1XIMO\u00a0TRES\u00a0RESPUESTAS).\n",
        "-------------------------------------------------\n",
        "[(u'El paro', 53.0), (u'El terrorismo, ETA', 34.2), (u'La inmigraci\\xf3n', 31.2), (u'La vivienda', 23.3), (u'Los problemas de \\xedndole econ\\xf3mica', 16.4), (u'La inseguridad ciudadana', 12.1), (u'Los problemas relacionados con la calidad del empleo', 8.1), (u'Las drogas', 6.4), (u'La sanidad', 6.4), (u'La clase pol\\xedtica, los partidos pol\\xedticos', 6.0), (u'La educaci\\xf3n', 5.5), (u'Los problemas medioambientales', 5.4), (u'Los problemas de \\xedndole social', 4.8), (u'Otras respuestas', 4.8), (u'N.S.', 4.2), (u'Las pensiones', 3.1), (u'Los nacionalismos', 3.1), (u'La violencia contra la mujer', 3.0), (u'La crisis de valores', 2.6), (u'Los problemas relacionados con la juventud', 2.3), (u'La Administraci\\xf3n de Justicia', 1.4), (u'El Gobierno, los pol\\xedticos y los partidos', 1.3), (u'Las infraestructuras', 0.8), (u'Los problemas de la agricultura, ganader\\xeda y pesca', 0.6), (u'Las guerras en general', 0.6), (u'N.C.', 0.6), (u'El funcionamiento de los servicios p\\xfablicos', 0.5), (u'La corrupci\\xf3n y el fraude', 0.4), (u'El racismo', 0.4), (u'Las preocupaciones y situaciones personales', 0.4), (u'Ninguno', 0.4), (u'Los problemas relacionados con la mujer', 0.3), (u'El terrorismo internacional', 0.0)]"
       ]
      },
      {
       "output_type": "stream",
       "stream": "stdout",
       "text": [
        "\n",
        "\n",
        "BAR\u00d3METRO JULIO 2005 , date: 2005-07-13 00:00:00 , doc_type: text/html\n",
        "URL: http://www.cis.es/cis/export/sites/default/-Archivos/Marginales/2600_2619/2616/e261600.html\n",
        "(M\u00c1XIMO\u00a0TRES\u00a0RESPUESTAS)."
       ]
      },
      {
       "output_type": "stream",
       "stream": "stdout",
       "text": [
        "\n",
        "-------------------------------------------------\n",
        "Question: \u00bfCu\u00e1les\u00a0son,\u00a0a\u00a0su\u00a0juicio,\u00a0los\u00a0tres\u00a0problemas\u00a0principales\u00a0que\u00a0existen\u00a0actualmente\u00a0en\u00a0Espa\u00f1a? (M\u00c1XIMO\u00a0TRES\u00a0RESPUESTAS).\n",
        "-------------------------------------------------\n",
        "[(u'El paro', 52.0), (u'El terrorismo, ETA', 50.4), (u'La inmigraci\\xf3n', 21.7), (u'La vivienda', 21.2), (u'Los problemas de \\xedndole econ\\xf3mica', 17.6), (u'La inseguridad ciudadana', 14.6), (u'Las drogas', 6.7), (u'La clase pol\\xedtica, los partidos pol\\xedticos', 6.4), (u'Los problemas relacionados con la calidad del empleo', 6.0), (u'Los problemas medioambientales', 5.1), (u'La sanidad', 4.2), (u'La educaci\\xf3n', 4.2), (u'N.S.', 3.9), (u'Los problemas de \\xedndole social', 3.7), (u'Otras respuestas', 3.3), (u'Las pensiones', 3.1), (u'La violencia contra la mujer', 2.5), (u'Los problemas relacionados con la juventud', 2.5), (u'Los nacionalismos', 2.3), (u'Las infraestructuras', 1.5), (u'La crisis de valores', 1.4), (u'La Administraci\\xf3n de Justicia', 1.3), (u'El Gobierno, los pol\\xedticos y los partidos', 1.3), (u'Los problemas de la agricultura, ganader\\xeda y pesca', 0.8), (u'Las preocupaciones y situaciones personales', 0.6), (u'N.C.', 0.5), (u'La corrupci\\xf3n y el fraude', 0.4), (u'El racismo', 0.4), (u'Las guerras en general', 0.2), (u'Los problemas relacionados con la mujer', 0.2), (u'Ninguno', 0.2), (u'El funcionamiento de los servicios p\\xfablicos', 0.1), (u'El terrorismo internacional', 0.1)]"
       ]
      },
      {
       "output_type": "stream",
       "stream": "stdout",
       "text": [
        "\n",
        "\n",
        "BAR\u00d3METRO JUNIO 2005 , date: 2005-06-06 00:00:00 , doc_type: text/html\n",
        "URL: http://www.cis.es/cis/export/sites/default/-Archivos/Marginales/2600_2619/2612/e261200.html\n",
        "(M\u00c1XIMO\u00a0TRES\u00a0RESPUESTAS)."
       ]
      },
      {
       "output_type": "stream",
       "stream": "stdout",
       "text": [
        "\n",
        "-------------------------------------------------\n",
        "Question: \u00bfCu\u00e1les\u00a0son,\u00a0a\u00a0su\u00a0juicio,\u00a0los\u00a0tres\u00a0problemas\u00a0principales\u00a0que\u00a0existen\u00a0actualmente\u00a0en\u00a0Espa\u00f1a? (M\u00c1XIMO\u00a0TRES\u00a0RESPUESTAS).\n",
        "-------------------------------------------------\n",
        "[(u'El paro', 54.9), (u'El terrorismo, ETA', 41.7), (u'La inmigraci\\xf3n', 21.8), (u'La vivienda', 21.4), (u'Los problemas de \\xedndole econ\\xf3mica', 17.4), (u'La inseguridad ciudadana', 15.1), (u'Los problemas relacionados con la calidad del empleo', 7.5), (u'La clase pol\\xedtica, los partidos pol\\xedticos', 7.3), (u'Las drogas', 6.5), (u'N.S.', 5.2), (u'La educaci\\xf3n', 4.8), (u'La sanidad', 4.5), (u'Otras respuestas', 4.5), (u'La violencia contra la mujer', 3.8), (u'Los problemas de \\xedndole social', 3.3), (u'Las pensiones', 2.8), (u'Los problemas medioambientales', 2.7), (u'Los problemas relacionados con la juventud', 2.0), (u'La crisis de valores', 2.0), (u'Los nacionalismos', 1.5), (u'El Gobierno, los pol\\xedticos y los partidos', 1.3), (u'La Administraci\\xf3n de Justicia', 1.2), (u'Las infraestructuras', 0.8), (u'Los problemas de la agricultura, ganader\\xeda y pesca', 0.8), (u'N.C.', 0.7), (u'El racismo', 0.5), (u'Los problemas relacionados con la mujer', 0.4), (u'Ninguno', 0.4), (u'La corrupci\\xf3n y el fraude', 0.3), (u'Las guerras en general', 0.3), (u'Las preocupaciones y situaciones personales', 0.3), (u'El funcionamiento de los servicios p\\xfablicos', 0.1)]"
       ]
      },
      {
       "output_type": "stream",
       "stream": "stdout",
       "text": [
        "\n",
        "\n",
        "BAR\u00d3METRO MAYO 2005 , date: 2005-05-13 00:00:00 , doc_type: text/html\n",
        "URL: http://www.cis.es/cis/export/sites/default/-Archivos/Marginales/2600_2619/2607/e260700.html\n",
        "(M\u00c1XIMO TRES RESPUESTAS)."
       ]
      },
      {
       "output_type": "stream",
       "stream": "stdout",
       "text": [
        "\n",
        "-------------------------------------------------\n",
        "Question: \u00bfCu\u00e1les son, a su juicio, los tres problemas principales que existen actualmente en Espa\u00f1a? (M\u00c1XIMO TRES RESPUESTAS).\n",
        "-------------------------------------------------\n",
        "[(u'El paro', 53.1), (u'El terrorismo, ETA', 39.5), (u'La inmigraci\\xf3n', 26.2), (u'La vivienda', 22.0), (u'Los problemas de \\xedndole econ\\xf3mica', 17.3), (u'La inseguridad ciudadana', 11.3), (u'La clase pol\\xedtica, los partidos pol\\xedticos', 7.8), (u'Los problemas relacionados con la calidad del empleo', 7.1), (u'Las drogas', 6.5), (u'La sanidad', 6.0), (u'N.S.', 5.1), (u'La educaci\\xf3n', 4.3), (u'Otras respuestas', 4.1), (u'Los problemas de \\xedndole social', 3.8), (u'La violencia contra la mujer', 3.7), (u'Las pensiones', 3.3), (u'Los nacionalismos', 2.6), (u'Los problemas relacionados con la juventud', 2.0), (u'La crisis de valores', 1.9), (u'Los problemas medioambientales', 1.8), (u'El Gobierno, los pol\\xedticos y los partidos', 1.5), (u'Las infraestructuras', 1.1), (u'Los problemas de la agricultura, ganader\\xeda y pesca', 1.0), (u'La Administraci\\xf3n de Justicia', 1.0), (u'El racismo', 0.6), (u'El funcionamiento de los servicios p\\xfablicos', 0.5), (u'Los problemas relacionados con la mujer', 0.5), (u'N.C.', 0.5), (u'La corrupci\\xf3n y el fraude', 0.4), (u'Las preocupaciones y situaciones personales', 0.4), (u'Las guerras en general', 0.3), (u'El terrorismo internacional', 0.2), (u'Ninguno', 0.2)]\n",
        "\n",
        "BAR\u00d3METRO ABRIL 2005 , date: 2005-04-27 00:00:00 , doc_type: text/html\n",
        "URL: http://www.cis.es/cis/export/sites/default/-Archivos/Marginales/2600_2619/2602/e260200.html\n",
        "(M\u00c1XIMO\u00a0TRES\u00a0RESPUESTAS)."
       ]
      },
      {
       "output_type": "stream",
       "stream": "stdout",
       "text": [
        "\n",
        "-------------------------------------------------\n",
        "Question: \u00bfCu\u00e1les\u00a0son,\u00a0a\u00a0su\u00a0juicio,\u00a0los\u00a0tres\u00a0problemas\u00a0principales\u00a0que\u00a0existen\u00a0actualmente\u00a0en\u00a0Espa\u00f1a? (M\u00c1XIMO\u00a0TRES\u00a0RESPUESTAS).\n",
        "-------------------------------------------------\n",
        "[(u'El paro', 57.9), (u'El terrorismo, ETA', 36.1), (u'La inmigraci\\xf3n', 29.5), (u'La vivienda', 27.0), (u'Los problemas de \\xedndole econ\\xf3mica', 16.4), (u'La inseguridad ciudadana', 15.1), (u'Los problemas relacionados con la calidad del empleo', 7.5), (u'Las drogas', 7.2), (u'La clase pol\\xedtica, los partidos pol\\xedticos', 7.2), (u'La sanidad', 5.9), (u'Los nacionalismos', 4.5), (u'Los problemas de \\xedndole social', 4.2), (u'La educaci\\xf3n', 4.2), (u'Otras respuestas', 3.9), (u'Las pensiones', 3.3), (u'La violencia contra la mujer', 2.7), (u'Los problemas relacionados con la juventud', 2.1), (u'La crisis de valores', 1.8), (u'Los problemas medioambientales', 1.5), (u'El Gobierno, los pol\\xedticos y los partidos', 1.5), (u'La Administraci\\xf3n de Justicia', 1.4), (u'Las infraestructuras', 1.2), (u'El racismo', 1.2), (u'Los problemas de la agricultura, ganader\\xeda y pesca', 0.9), (u'La corrupci\\xf3n y el fraude', 0.8), (u'Los problemas relacionados con la mujer', 0.6), (u'Ninguno', 0.6), (u'Las guerras en general', 0.3), (u'Las preocupaciones y situaciones personales', 0.3), (u'El funcionamiento de los servicios p\\xfablicos', 0.2), (u'El terrorismo internacional', 0.0)]"
       ]
      },
      {
       "output_type": "stream",
       "stream": "stdout",
       "text": [
        "\n",
        "\n",
        "BAR\u00d3METRO MARZO 2005 , date: 2005-03-29 00:00:00 , doc_type: text/html\n",
        "URL: http://www.cis.es/cis/export/sites/default/-Archivos/Marginales/2580_2599/2597/e259700.html\n",
        "Espa\u00f1a?\u00a0(M\u00c1XIMO\u00a0TRES\u00a0RESPUESTAS)."
       ]
      },
      {
       "output_type": "stream",
       "stream": "stdout",
       "text": [
        "\n",
        "-------------------------------------------------\n",
        "Question: Para\u00a0empezar,\u00a0\u00bfcu\u00e1les\u00a0son,\u00a0a\u00a0su\u00a0juicio,\u00a0los\u00a0tres\u00a0problemas\u00a0principales\u00a0que\u00a0existen\u00a0actualmente\u00a0en Espa\u00f1a?\u00a0(M\u00c1XIMO\u00a0TRES\u00a0RESPUESTAS).\n",
        "-------------------------------------------------\n",
        "[(u'Paro', 57.7), (u'Terrorismo, ETA', 40.7), (u'Vivienda', 19.1), (u'Inmigraci\\xf3n', 17.2), (u'Inseguridad ciudadana', 16.0), (u'Problemas econ\\xf3micos', 11.7), (u'Drogas', 8.0), (u'Problemas pol\\xedticos', 7.4), (u'N.S.', 7.2), (u'Violencia contra la mujer', 6.3), (u'Sanidad', 5.7), (u'Educaci\\xf3n', 5.5), (u'Problemas sociales', 5.2), (u'Otras respuestas', 4.3), (u'Problemas relacionados con el empleo', 3.6), (u'Las pensiones', 2.9), (u'Crisis de valores', 2.7), (u'Problemas de la juventud', 1.8), (u'Justicia', 1.2), (u'Medio ambiente', 1.2), (u'Problemas de la agricultura, ganader\\xeda y pesca', 1.0), (u'Racismo', 1.0), (u'Problemas relacionados con la mujer', 1.0), (u'Infraestructuras', 0.9), (u'Los nacionalismos', 0.9), (u'Subida de precios a causa del euro', 0.9), (u'N.C.', 0.9), (u'La guerra de Irak. Las guerras en general', 0.8), (u'Corrupci\\xf3n y fraude', 0.6), (u'Problemas relacionados con el ocio de los j\\xf3venes', 0.6), (u'La salud', 0.3), (u'Ninguno', 0.3), (u'Funcionamiento y cobertura de los servicios p\\xfablicos', 0.2), (u'Reforma del Seguro de Desempleo', 0.0), (u'La situaci\\xf3n del Pa\\xeds Vasco', 0.0), (u'El accidente del petrolero Prestige', 0.0), (u'El atentado del 11-M. Terrorismo islamista', 0.0)]"
       ]
      },
      {
       "output_type": "stream",
       "stream": "stdout",
       "text": [
        "\n",
        "\n",
        "BAR\u00d3METRO FEBRERO 2005 , date: 2005-02-18 00:00:00 , doc_type: text/html\n",
        "URL: http://www.cis.es/cis/export/sites/default/-Archivos/Marginales/2580_2599/2594/e259400.html\n",
        "Espa\u00f1a?\u00a0(M\u00c1XIMO\u00a0TRES\u00a0RESPUESTAS)."
       ]
      },
      {
       "output_type": "stream",
       "stream": "stdout",
       "text": [
        "\n",
        "-------------------------------------------------\n",
        "Question: Para\u00a0empezar,\u00a0\u00bfcu\u00e1les\u00a0son,\u00a0a\u00a0su\u00a0juicio,\u00a0los\u00a0tres\u00a0problemas\u00a0principales\u00a0que\u00a0existen\u00a0actualmente\u00a0en Espa\u00f1a?\u00a0(M\u00c1XIMO\u00a0TRES\u00a0RESPUESTAS).\n",
        "-------------------------------------------------\n",
        "[(u'Paro', 56.8), (u'Terrorismo, ETA', 46.1), (u'Inmigraci\\xf3n', 21.8), (u'Vivienda', 20.0), (u'Inseguridad ciudadana', 16.3), (u'Problemas econ\\xf3micos', 9.9), (u'Problemas pol\\xedticos', 7.6), (u'N.S.', 6.7), (u'Drogas', 6.5), (u'Sanidad', 6.5), (u'Educaci\\xf3n', 4.4), (u'Las pensiones', 4.3), (u'Problemas sociales', 3.5), (u'Problemas relacionados con el empleo', 3.4), (u'Otras respuestas', 3.4), (u'Violencia contra la mujer', 3.3), (u'Infraestructuras', 2.2), (u'Justicia', 1.6), (u'Medio ambiente', 1.6), (u'Problemas de la agricultura, ganader\\xeda y pesca', 1.4), (u'Problemas de la juventud', 1.4), (u'Crisis de valores', 1.3), (u'La guerra de Irak', 1.1), (u'Racismo', 1.0), (u'Los nacionalismos', 1.0), (u'El euro', 0.8), (u'Problemas relacionados con la mujer', 0.7), (u'Funcionamiento y cobertura de los servicios p\\xfablicos', 0.6), (u'N.C.', 0.6), (u'Corrupci\\xf3n y fraude', 0.5), (u'La salud', 0.4), (u'Ninguno', 0.4), (u'Problemas relacionados con el ocio de los j\\xf3venes', 0.3), (u'Reforma del Seguro de Desempleo', 0.0), (u'La situaci\\xf3n del Pa\\xeds Vasco', 0.0), (u'El desastre del Prestige', 0.0), (u'El atentado del 11-M', 0.0)]"
       ]
      },
      {
       "output_type": "stream",
       "stream": "stdout",
       "text": [
        "\n",
        "\n",
        "BAR\u00d3METRO ENERO 2005 , date: 2005-01-19 00:00:00 , doc_type: text/html\n",
        "URL: http://www.cis.es/cis/export/sites/default/-Archivos/Marginales/2580_2599/2589/e258900.html\n",
        "Espa\u00f1a?\u00a0(M\u00c1XIMO\u00a0TRES\u00a0RESPUESTAS)."
       ]
      },
      {
       "output_type": "stream",
       "stream": "stdout",
       "text": [
        "\n",
        "-------------------------------------------------\n",
        "Question: Para\u00a0empezar,\u00a0\u00bfcu\u00e1les\u00a0son,\u00a0a\u00a0su\u00a0juicio,\u00a0los\u00a0tres\u00a0problemas\u00a0principales\u00a0que\u00a0existen\u00a0actualmente\u00a0en Espa\u00f1a?\u00a0(M\u00c1XIMO\u00a0TRES\u00a0RESPUESTAS).\n",
        "-------------------------------------------------\n",
        "[(u'Paro', 58.2), (u'Terrorismo, ETA', 53.3), (u'Inmigraci\\xf3n', 20.2), (u'Vivienda', 19.6), (u'Inseguridad ciudadana', 16.7), (u'Problemas econ\\xf3micos', 11.3), (u'Drogas', 8.5), (u'Problemas pol\\xedticos', 8.3), (u'Sanidad', 6.5), (u'Problemas relacionados con el empleo', 4.9), (u'Violencia contra la mujer', 4.8), (u'N.S.', 4.7), (u'Educaci\\xf3n', 4.3), (u'Otras respuestas', 4.0), (u'Problemas sociales', 3.7), (u'Las pensiones', 3.5), (u'La guerra de Irak', 1.7), (u'Justicia', 1.7), (u'Crisis de valores', 1.7), (u'La situaci\\xf3n del Pa\\xeds Vasco', 1.4), (u'Problemas de la juventud', 1.3), (u'Infraestructuras', 1.2), (u'Problemas de la agricultura, ganader\\xeda y pesca', 0.8), (u'Subida de precios a causa del euro', 0.8), (u'Medio ambiente', 0.6), (u'N.C.', 0.6), (u'Racismo', 0.5), (u'Funcionamiento y cobertura de los servicios p\\xfablicos', 0.4), (u'Problemas relacionados con la mujer', 0.4), (u'Corrupci\\xf3n y fraude', 0.3), (u'Ninguno', 0.3), (u'Problemas relacionados con el ocio de los j\\xf3venes', 0.2), (u'El atentado del 11-M', 0.2), (u'La salud', 0.1), (u'Alimentaci\\xf3n', 0.0), (u'Reforma del Seguro de Desempleo', 0.0), (u'El accidente del petrolero Prestige', 0.0)]"
       ]
      },
      {
       "output_type": "stream",
       "stream": "stdout",
       "text": [
        "\n",
        "\n",
        "BAR\u00d3METRO DICIEMBRE 2004: EXPECTATIVAS 2005 , date: 2004-12-15 00:00:00 , doc_type: text/html\n",
        "URL: http://www.cis.es/cis/export/sites/default/-Archivos/Marginales/2580_2599/2584/e258400.html\n",
        "Espa\u00f1a?\u00a0(M\u00c1XIMO\u00a0TRES\u00a0RESPUESTAS)."
       ]
      },
      {
       "output_type": "stream",
       "stream": "stdout",
       "text": [
        "\n",
        "-------------------------------------------------\n",
        "Question: Para\u00a0empezar,\u00a0\u00bfcu\u00e1les\u00a0son,\u00a0a\u00a0su\u00a0juicio,\u00a0los\u00a0tres\u00a0problemas\u00a0principales\u00a0que\u00a0existen\u00a0actualmente\u00a0en Espa\u00f1a?\u00a0(M\u00c1XIMO\u00a0TRES\u00a0RESPUESTAS).\n",
        "-------------------------------------------------\n",
        "[(u'Terrorismo, ETA', 55.1), (u'Paro', 53.8), (u'Inmigraci\\xf3n', 17.8), (u'Inseguridad ciudadana', 17.7), (u'Vivienda', 15.6), (u'Problemas econ\\xf3micos', 11.1), (u'Problemas pol\\xedticos', 10.5), (u'Drogas', 10.0), (u'Sanidad', 6.2), (u'N.S.', 5.0), (u'Problemas sociales', 4.7), (u'Violencia contra la mujer', 4.4), (u'Otras respuestas', 3.9), (u'Las pensiones', 3.8), (u'Educaci\\xf3n', 3.6), (u'Problemas relacionados con el empleo', 3.2), (u'Crisis de valores', 2.4), (u'Problemas de la juventud', 1.6), (u'Justicia', 1.5), (u'Infraestructuras', 1.1), (u'La guerra. Las guerras en general', 1.1), (u'Racismo', 1.1), (u'Problemas de la agricultura, ganader\\xeda y pesca', 1.0), (u'Subida de precios a causa del euro', 0.9), (u'Corrupci\\xf3n y fraude', 0.7), (u'Funcionamiento y cobertura de los servicios p\\xfablicos', 0.6), (u'Medio ambiente', 0.5), (u'La salud', 0.4), (u'N.C.', 0.4), (u'Problemas relacionados con la mujer', 0.3), (u'Problemas relacionados con el ocio de los j\\xf3venes', 0.3), (u'Ninguno', 0.2), (u'El atentado del 11-M', 0.1), (u'Alimentaci\\xf3n', 0.0), (u'Reforma del Seguro de Desempleo', 0.0), (u'La situaci\\xf3n del Pa\\xeds Vasco', 0.0), (u'El desastre del Prestige', 0.0)]"
       ]
      },
      {
       "output_type": "stream",
       "stream": "stdout",
       "text": [
        "\n",
        "\n",
        "BAR\u00d3METRO NOVIEMBRE 2004 , date: 2004-11-19 00:00:00 , doc_type: text/html\n",
        "URL: http://www.cis.es/cis/export/sites/default/-Archivos/Marginales/2580_2599/2581/e258100.html\n",
        "Espa\u00f1a?\u00a0(M\u00c1XIMO\u00a0TRES\u00a0RESPUESTAS)."
       ]
      },
      {
       "output_type": "stream",
       "stream": "stdout",
       "text": [
        "\n",
        "-------------------------------------------------\n",
        "Question: Para\u00a0empezar,\u00a0\u00bfcu\u00e1les\u00a0son,\u00a0a\u00a0su\u00a0juicio,\u00a0los\u00a0tres\u00a0problemas\u00a0principales\u00a0que\u00a0existen\u00a0actualmente\u00a0en Espa\u00f1a?\u00a0(M\u00c1XIMO\u00a0TRES\u00a0RESPUESTAS).\n",
        "-------------------------------------------------\n",
        "[(u'Paro', 57.3), (u'Terrorismo, ETA', 42.1), (u'Vivienda', 20.5), (u'Inmigraci\\xf3n', 19.3), (u'Inseguridad ciudadana', 17.9), (u'Problemas econ\\xf3micos', 12.0), (u'Drogas', 10.6), (u'Problemas pol\\xedticos', 8.4), (u'Sanidad', 5.8), (u'N.S.', 5.6), (u'Las pensiones', 5.5), (u'Problemas sociales', 5.5), (u'Violencia contra la mujer', 5.4), (u'Problemas relacionados con el empleo', 3.7), (u'Educaci\\xf3n', 3.7), (u'Otras respuestas', 3.6), (u'Crisis de valores', 2.1), (u'La guerra de Irak', 2.0), (u'Problemas de la juventud', 1.4), (u'Justicia', 1.1), (u'Racismo', 1.1), (u'Infraestructuras', 0.9), (u'Problemas de la agricultura, ganader\\xeda y pesca', 0.8), (u'Euro', 0.8), (u'Medio ambiente', 0.7), (u'Problemas relacionados con el ocio de los j\\xf3venes', 0.7), (u'Problemas relacionados con la mujer', 0.5), (u'Corrupci\\xf3n y fraude', 0.4), (u'La salud', 0.4), (u'Funcionamiento y cobertura de los servicios p\\xfablicos', 0.4), (u'N.C.', 0.4), (u'Ninguno', 0.3), (u'El atentado del 11-M', 0.1), (u'Alimentaci\\xf3n', 0.0), (u'Reforma del Seguro de Desempleo', 0.0), (u'La situaci\\xf3n del Pa\\xeds Vasco', 0.0), (u'El desastre del Prestige', 0.0)]"
       ]
      },
      {
       "output_type": "stream",
       "stream": "stdout",
       "text": [
        "\n",
        "\n",
        "BAR\u00d3METRO OCTUBRE 2004 , date: 2004-10-21 00:00:00 , doc_type: text/html\n",
        "URL: http://www.cis.es/cis/export/sites/default/-Archivos/Marginales/2560_2579/2577/e257700.html\n",
        "Espa\u00f1a?\u00a0(M\u00c1XIMO\u00a0TRES\u00a0RESPUESTAS)."
       ]
      },
      {
       "output_type": "stream",
       "stream": "stdout",
       "text": [
        "\n",
        "-------------------------------------------------\n",
        "Question: Para\u00a0empezar,\u00a0\u00bfcu\u00e1les\u00a0son,\u00a0a\u00a0su\u00a0juicio,\u00a0los\u00a0tres\u00a0problemas\u00a0principales\u00a0que\u00a0existen\u00a0actualmente\u00a0en Espa\u00f1a?\u00a0(M\u00c1XIMO\u00a0TRES\u00a0RESPUESTAS).\n",
        "-------------------------------------------------\n",
        "[(u'Paro', 57.0), (u'Terrorismo, ETA', 46.5), (u'Vivienda', 21.8), (u'Inmigraci\\xf3n', 19.2), (u'Inseguridad ciudadana', 16.6), (u'Problemas econ\\xf3micos', 14.3), (u'Drogas', 9.0), (u'Problemas pol\\xedticos', 6.5), (u'Violencia contra la mujer', 5.1), (u'Sanidad', 5.0), (u'N.S.', 4.8), (u'Otras respuestas', 4.3), (u'Educaci\\xf3n', 4.2), (u'Las pensiones', 4.0), (u'Problemas relacionados con el empleo', 3.6), (u'Problemas sociales', 3.4), (u'Crisis de valores', 2.4), (u'La guerra de Irak', 2.0), (u'Infraestructuras', 1.8), (u'Justicia', 1.4), (u'Problemas de la juventud', 1.3), (u'Medio ambiente', 1.2), (u'Problemas de la agricultura, ganader\\xeda y pesca', 1.0), (u'Racismo', 0.8), (u'Euro', 0.8), (u'Corrupci\\xf3n y fraude', 0.6), (u'Funcionamiento y cobertura de los servicios p\\xfablicos', 0.4), (u'N.C.', 0.4), (u'La salud', 0.3), (u'El atentado del 11-M', 0.3), (u'Ninguno', 0.3), (u'Problemas relacionados con la mujer', 0.2), (u'Problemas relacionados con el ocio de los j\\xf3venes', 0.2), (u'La situaci\\xf3n del Pa\\xeds Vasco', 0.1), (u'Alimentaci\\xf3n', 0.0), (u'La reforma del desempleo', 0.0), (u'El desastre del Prestige', 0.0)]"
       ]
      },
      {
       "output_type": "stream",
       "stream": "stdout",
       "text": [
        "\n",
        "\n",
        "BAR\u00d3METRO SEPTIEMBRE 2004 , date: 2004-09-24 00:00:00 , doc_type: text/html\n",
        "URL: http://www.cis.es/cis/export/sites/default/-Archivos/Marginales/2560_2579/2573/e257300.html\n",
        "Espa\u00f1a?\u00a0(M\u00c1XIMO\u00a0TRES\u00a0RESPUESTAS)."
       ]
      },
      {
       "output_type": "stream",
       "stream": "stdout",
       "text": [
        "\n",
        "-------------------------------------------------\n",
        "Question: Para\u00a0empezar,\u00a0\u00bfcu\u00e1les\u00a0son,\u00a0a\u00a0su\u00a0juicio,\u00a0los\u00a0tres\u00a0problemas\u00a0principales\u00a0que\u00a0existen\u00a0actualmente\u00a0en Espa\u00f1a?\u00a0(M\u00c1XIMO\u00a0TRES\u00a0RESPUESTAS).\n",
        "-------------------------------------------------\n",
        "[(u'Paro', 58.3), (u'Terrorismo, ETA', 41.3), (u'Inmigraci\\xf3n', 20.4), (u'Vivienda', 18.0), (u'Inseguridad ciudadana', 16.4), (u'Problemas econ\\xf3micos', 11.5), (u'Drogas', 9.5), (u'Problemas pol\\xedticos', 6.9), (u'N.S.', 6.2), (u'Sanidad', 4.6), (u'Educaci\\xf3n', 4.5), (u'Problemas sociales', 4.1), (u'Violencia contra la mujer', 3.7), (u'Otras respuestas', 3.7), (u'Las pensiones', 3.5), (u'Problemas relacionados con el empleo', 2.7), (u'La guerra de Irak', 2.3), (u'Crisis de valores', 2.0), (u'Infraestructuras', 1.3), (u'Problemas de la juventud', 1.0), (u'Euro', 1.0), (u'Justicia', 0.8), (u'N.C.', 0.7), (u'Problemas de la agricultura, ganader\\xeda y pesca', 0.6), (u'Racismo', 0.6), (u'Medio ambiente', 0.6), (u'Funcionamiento y cobertura de los servicios p\\xfablicos', 0.5), (u'El atentado del 11-M', 0.5), (u'Corrupci\\xf3n y fraude', 0.4), (u'Problemas relacionados con el ocio de los j\\xf3venes', 0.4), (u'La salud', 0.3), (u'Problemas relacionados con la mujer', 0.3), (u'Ninguno', 0.3), (u'Alimentaci\\xf3n', 0.0), (u'Reforma del Seguro de Desempleo', 0.0), (u'La situaci\\xf3n del Pa\\xeds Vasco', 0.0), (u'El desastre del Prestige', 0.0)]"
       ]
      },
      {
       "output_type": "stream",
       "stream": "stdout",
       "text": [
        "\n",
        "\n",
        "BAR\u00d3METRO JULIO 2004 , date: 2004-07-09 00:00:00 , doc_type: text/html\n",
        "URL: http://www.cis.es/cis/export/sites/default/-Archivos/Marginales/2560_2579/2570/e257000.html\n",
        "Espa\u00f1a?\u00a0(M\u00c1XIMO\u00a0TRES\u00a0RESPUESTAS)."
       ]
      },
      {
       "output_type": "stream",
       "stream": "stdout",
       "text": [
        "\n",
        "-------------------------------------------------\n",
        "Question: Para\u00a0empezar,\u00a0\u00bfcu\u00e1les\u00a0son,\u00a0a\u00a0su\u00a0juicio,\u00a0los\u00a0tres\u00a0problemas\u00a0principales\u00a0que\u00a0existen\u00a0actualmente\u00a0en Espa\u00f1a?\u00a0(M\u00c1XIMO\u00a0TRES\u00a0RESPUESTAS).\n",
        "-------------------------------------------------\n",
        "[(u'Paro', 56.9), (u'Terrorismo, ETA', 44.1), (u'Inseguridad ciudadana', 18.7), (u'Vivienda', 18.3), (u'Inmigraci\\xf3n', 15.8), (u'Problemas econ\\xf3micos', 12.1), (u'Drogas', 9.2), (u'Violencia contra la mujer', 8.0), (u'Problemas pol\\xedticos', 6.5), (u'N.S.', 6.2), (u'Sanidad', 6.1), (u'Problemas relacionados con el empleo', 4.6), (u'Las pensiones', 3.9), (u'Otras respuestas', 3.9), (u'Educaci\\xf3n', 3.7), (u'La guerra de Irak', 3.1), (u'Problemas sociales', 2.5), (u'Infraestructuras', 2.4), (u'Crisis de valores', 2.1), (u'Problemas de la juventud', 1.9), (u'Justicia', 1.6), (u'Medio ambiente', 1.5), (u'Problemas de la agricultura, ganader\\xeda y pesca', 0.9), (u'N.C.', 0.8), (u'Corrupci\\xf3n y fraude', 0.7), (u'Racismo', 0.7), (u'Euro', 0.6), (u'Problemas relacionados con la mujer', 0.5), (u'Funcionamiento y cobertura de los servicios p\\xfablicos', 0.4), (u'El atentado del 11-M', 0.4), (u'La salud', 0.2), (u'Ninguno', 0.2), (u'Problemas relacionados con el ocio de los j\\xf3venes', 0.1), (u'Alimentaci\\xf3n', 0.0), (u'Reforma del Seguro de Desempleo', 0.0), (u'La situaci\\xf3n del Pa\\xeds Vasco', 0.0), (u'El desastre del Prestige', 0.0)]"
       ]
      },
      {
       "output_type": "stream",
       "stream": "stdout",
       "text": [
        "\n",
        "\n",
        "BAR\u00d3METRO JUNIO 2004 , date: 2004-06-25 00:00:00 , doc_type: text/html\n",
        "URL: http://www.cis.es/cis/export/sites/default/-Archivos/Marginales/2560_2579/2568/e256800.html\n",
        "Espa\u00f1a?\u00a0(M\u00c1XIMO\u00a0TRES\u00a0RESPUESTAS)."
       ]
      },
      {
       "output_type": "stream",
       "stream": "stdout",
       "text": [
        "\n",
        "-------------------------------------------------\n",
        "Question: Para\u00a0empezar,\u00a0\u00bfcu\u00e1les\u00a0son,\u00a0a\u00a0su\u00a0juicio,\u00a0los\u00a0tres\u00a0problemas\u00a0principales\u00a0que\u00a0existen\u00a0actualmente\u00a0en Espa\u00f1a?\u00a0(M\u00c1XIMO\u00a0TRES\u00a0RESPUESTAS).\n",
        "-------------------------------------------------\n",
        "[(u'Paro', 59.3), (u'Terrorismo, ETA', 45.3), (u'Vivienda', 20.0), (u'Inseguridad ciudadana', 18.0), (u'Inmigraci\\xf3n', 17.1), (u'Problemas econ\\xf3micos', 11.1), (u'Drogas', 9.1), (u'Violencia contra la mujer', 8.0), (u'Problemas pol\\xedticos', 6.3), (u'N.S.', 5.5), (u'Sanidad', 5.0), (u'Las pensiones', 4.6), (u'Problemas relacionados con el empleo', 4.4), (u'Educaci\\xf3n', 3.8), (u'Problemas sociales', 3.4), (u'Otras respuestas', 3.4), (u'Crisis de valores', 3.2), (u'La guerra de Irak', 2.9), (u'Subida del precio a causa del euro', 1.1), (u'Infraestructuras', 0.8), (u'Problemas de la agricultura, ganader\\xeda y pesca', 0.8), (u'Corrupci\\xf3n y fraude', 0.8), (u'Justicia', 0.8), (u'Problemas de la juventud', 0.8), (u'Medio ambiente', 0.8), (u'Racismo', 0.6), (u'N.C.', 0.5), (u'Problemas relacionados con la mujer', 0.4), (u'Problemas relacionados con el ocio de los j\\xf3venes', 0.4), (u'Ninguno', 0.4), (u'Funcionamiento y cobertura de los servicios p\\xfablicos', 0.3), (u'El atentado del 11-M', 0.2), (u'La salud', 0.0), (u'Alimentaci\\xf3n', 0.0), (u'Reforma del Seguro de Desempleo', 0.0), (u'La situaci\\xf3n del Pa\\xeds Vasco', 0.0), (u'El desastre del Prestige', 0.0)]"
       ]
      },
      {
       "output_type": "stream",
       "stream": "stdout",
       "text": [
        "\n",
        "\n",
        "BAR\u00d3METRO MAYO 2004 , date: 2004-05-27 00:00:00 , doc_type: text/html\n",
        "URL: http://www.cis.es/cis/export/sites/default/-Archivos/Marginales/2560_2579/2565/e256500.html\n",
        "Espa\u00f1a?\u00a0(M\u00c1XIMO\u00a0TRES\u00a0RESPUESTAS)."
       ]
      },
      {
       "output_type": "stream",
       "stream": "stdout",
       "text": [
        "\n",
        "-------------------------------------------------\n",
        "Question: Para\u00a0empezar,\u00a0\u00bfcu\u00e1les\u00a0son,\u00a0a\u00a0su\u00a0juicio,\u00a0los\u00a0tres\u00a0problemas\u00a0principales\u00a0que\u00a0existen\u00a0actualmente\u00a0en Espa\u00f1a?\u00a0(M\u00c1XIMO\u00a0TRES\u00a0RESPUESTAS).\n",
        "-------------------------------------------------\n",
        "[(u'Paro', 59.0), (u'Terrorismo, ETA', 48.1), (u'Vivienda', 22.0), (u'Inseguridad ciudadana', 17.3), (u'Inmigraci\\xf3n', 14.9), (u'Problemas econ\\xf3micos', 11.9), (u'Drogas', 7.2), (u'Violencia contra la mujer', 6.6), (u'N.S.', 6.3), (u'Problemas pol\\xedticos', 4.8), (u'Sanidad', 4.7), (u'Educaci\\xf3n', 3.9), (u'Problemas relacionados con el empleo', 3.8), (u'Problemas sociales', 3.7), (u'Otras respuestas', 3.4), (u'La guerra de Irak', 3.2), (u'Las pensiones', 2.6), (u'Crisis de valores', 1.9), (u'El euro', 1.3), (u'Justicia', 1.1), (u'Problemas de la juventud', 1.1), (u'N.C.', 1.0), (u'Infraestructuras', 0.8), (u'Racismo', 0.8), (u'Problemas de la agricultura, ganader\\xeda y pesca', 0.7), (u'Corrupci\\xf3n y fraude', 0.7), (u'Medio ambiente', 0.6), (u'Problemas relacionados con la mujer', 0.6), (u'Ninguno', 0.6), (u'Funcionamiento y cobertura de los servicios p\\xfablicos', 0.4), (u'La salud', 0.2), (u'Problemas relacionados con el ocio de los j\\xf3venes', 0.2), (u'El atentado del 11-M', 0.2), (u'Alimentaci\\xf3n', 0.0), (u'Reforma del Seguro de Desempleo', 0.0), (u'La situaci\\xf3n del Pa\\xeds Vasco', 0.0), (u'El desastre del Prestige', 0.0)]"
       ]
      },
      {
       "output_type": "stream",
       "stream": "stdout",
       "text": [
        "\n",
        "\n",
        "BAR\u00d3METRO ABRIL 2004 , date: 2004-04-22 00:00:00 , doc_type: text/html\n",
        "URL: http://www.cis.es/cis/export/sites/default/-Archivos/Marginales/2560_2579/2561/e256100.html\n",
        "Espa\u00f1a?\u00a0(M\u00c1XIMO\u00a0TRES\u00a0RESPUESTAS)."
       ]
      },
      {
       "output_type": "stream",
       "stream": "stdout",
       "text": [
        "\n",
        "-------------------------------------------------\n",
        "Question: Para\u00a0empezar,\u00a0\u00bfcu\u00e1les\u00a0son,\u00a0a\u00a0su\u00a0juicio,\u00a0los\u00a0tres\u00a0problemas\u00a0principales\u00a0que\u00a0existen\u00a0actualmente\u00a0en Espa\u00f1a?\u00a0(M\u00c1XIMO\u00a0TRES\u00a0RESPUESTAS).\n",
        "-------------------------------------------------\n",
        "[(u'Terrorismo, ETA', 62.9), (u'Paro', 56.8), (u'Vivienda', 22.0), (u'Inseguridad ciudadana', 15.6), (u'Inmigraci\\xf3n', 11.8), (u'Problemas econ\\xf3micos', 9.9), (u'Violencia contra la mujer', 6.1), (u'Drogas', 5.9), (u'La guerra de Irak', 5.4), (u'Sanidad', 5.3), (u'Problemas pol\\xedticos', 5.3), (u'Problemas relacionados con el empleo', 5.0), (u'Las pensiones', 4.4), (u'Otras respuestas', 4.3), (u'N.S.', 4.3), (u'Educaci\\xf3n', 4.0), (u'Problemas sociales', 3.1), (u'Crisis de valores', 1.9), (u'Justicia', 1.5), (u'El atentado del 11-M', 1.4), (u'Infraestructuras', 1.0), (u'Problemas de la juventud', 1.0), (u'Medio ambiente', 0.8), (u'El euro', 0.8), (u'N.C.', 0.8), (u'Problemas de la agricultura, ganader\\xeda y pesca', 0.5), (u'Racismo', 0.5), (u'Corrupci\\xf3n y fraude', 0.4), (u'Funcionamiento y cobertura de los servicios p\\xfablicos', 0.4), (u'Problemas relacionados con la mujer', 0.4), (u'Problemas relacionados con el ocio de los j\\xf3venes', 0.2), (u'La salud', 0.1), (u'La situaci\\xf3n del Pa\\xeds Vasco', 0.1), (u'Ninguno', 0.1), (u'Alimentaci\\xf3n', 0.0), (u'Reforma del Seguro de Desempleo', 0.0), (u'El accidente del petrolero Prestige', 0.0)]"
       ]
      },
      {
       "output_type": "stream",
       "stream": "stdout",
       "text": [
        "\n",
        "\n",
        "BAR\u00d3METRO MARZO 2004 , date: 2004-03-16 00:00:00 , doc_type: text/html\n",
        "URL: http://www.cis.es/cis/export/sites/default/-Archivos/Marginales/2540_2559/2558/e255800.html\n",
        "actualmente\u00a0en\u00a0Espa\u00f1a?\u00a0(M\u00c1XIMO\u00a0TRES\u00a0RESPUESTAS)."
       ]
      },
      {
       "output_type": "stream",
       "stream": "stdout",
       "text": [
        "\n",
        "-------------------------------------------------\n",
        "Question: Para\u00a0empezar,\u00a0\u00bfcu\u00e1les\u00a0son,\u00a0a\u00a0su\u00a0juicio,\u00a0los\u00a0tres\u00a0problemas\u00a0principales\u00a0que\u00a0existenactualmente\u00a0en\u00a0Espa\u00f1a?\u00a0(M\u00c1XIMO\u00a0TRES\u00a0RESPUESTAS). actualmente\u00a0en\u00a0Espa\u00f1a?\u00a0(M\u00c1XIMO\u00a0TRES\u00a0RESPUESTAS).\n",
        "-------------------------------------------------\n",
        "[(u'Terrorismo, ETA', 73.4), (u'Paro', 51.7), (u'Vivienda', 19.4), (u'Inseguridad ciudadana', 15.7), (u'Violencia contra la mujer', 11.7), (u'Inmigraci\\xf3n', 9.2), (u'Problemas econ\\xf3micos', 7.9), (u'Problemas pol\\xedticos', 6.4), (u'Drogas', 5.7), (u'N.S.', 4.2), (u'El atentado del 11-M', 4.1), (u'La guerra de Irak', 3.9), (u'Problemas relacionados con el empleo', 3.8), (u'Otras respuestas', 3.8), (u'Educaci\\xf3n', 3.1), (u'Sanidad', 3.0), (u'Las pensiones', 3.0), (u'Problemas sociales', 2.8), (u'Crisis de valores', 2.2), (u'El euro', 1.2), (u'Infraestructuras', 0.8), (u'Justicia', 0.8), (u'Problemas relacionados con la mujer', 0.6), (u'Racismo', 0.5), (u'Problemas de la juventud', 0.5), (u'Corrupci\\xf3n y fraude', 0.4), (u'Funcionamiento y cobertura de los servicios p\\xfablicos', 0.4), (u'N.C.', 0.4), (u'Problemas de la agricultura, ganader\\xeda y pesca', 0.3), (u'Medio ambiente', 0.2), (u'La salud', 0.2), (u'Problemas relacionados con el ocio de los j\\xf3venes', 0.2), (u'Ninguno', 0.2), (u'Alimentaci\\xf3n', 0.0), (u'Reforma del Seguro de Desempleo', 0.0), (u'La situaci\\xf3n del Pa\\xeds Vasco', 0.0), (u'El desastre del Prestige', 0.0)]"
       ]
      },
      {
       "output_type": "stream",
       "stream": "stdout",
       "text": [
        "\n",
        "\n",
        "BAR\u00d3METRO FEBRERO 2004 , date: 2004-02-20 00:00:00 , doc_type: text/html\n",
        "URL: http://www.cis.es/cis/export/sites/default/-Archivos/Marginales/2540_2559/2556/e255600.html\n",
        "Espa\u00f1a?\u00a0(M\u00c1XIMO\u00a0TRES\u00a0RESPUESTAS)."
       ]
      },
      {
       "output_type": "stream",
       "stream": "stdout",
       "text": [
        "\n",
        "-------------------------------------------------\n",
        "Question: Para\u00a0empezar,\u00a0\u00bfcu\u00e1les\u00a0son,\u00a0a\u00a0su\u00a0juicio,\u00a0los\u00a0tres\u00a0problemas\u00a0principales\u00a0que\u00a0existen\u00a0actualmente\u00a0en Espa\u00f1a?\u00a0(M\u00c1XIMO\u00a0TRES\u00a0RESPUESTAS).\n",
        "-------------------------------------------------\n",
        "[(u'Paro', 60.9), (u'Terrorismo, ETA', 40.1), (u'Inseguridad ciudadana', 21.2), (u'Vivienda', 20.3), (u'Inmigraci\\xf3n', 12.9), (u'Problemas econ\\xf3micos', 10.6), (u'Problemas pol\\xedticos', 9.4), (u'Drogas', 8.9), (u'Violencia contra la mujer', 6.7), (u'N.S.', 6.5), (u'Sanidad', 6.3), (u'Las pensiones', 4.7), (u'Problemas relacionados con el empleo', 4.6), (u'Educaci\\xf3n', 4.0), (u'Problemas sociales', 3.8), (u'Otras respuestas', 3.1), (u'La guerra de Irak', 2.2), (u'Crisis de valores', 2.1), (u'Justicia', 1.6), (u'Problemas de la juventud', 1.4), (u'Corrupci\\xf3n y fraude', 1.2), (u'Infraestructuras', 1.0), (u'El euro', 1.0), (u'Problemas relacionados con la mujer', 0.9), (u'Racismo', 0.7), (u'Medio ambiente', 0.7), (u'Funcionamiento y cobertura de los servicios p\\xfablicos', 0.5), (u'Los nacionalismos en Espa\\xf1a', 0.5), (u'N.C.', 0.5), (u'Ninguno', 0.4), (u'La salud', 0.3), (u'Problemas de la agricultura, ganader\\xeda y pesca', 0.2), (u'Problemas relacionados con el ocio de los j\\xf3venes', 0.2), (u'Alimentaci\\xf3n', 0.0), (u'La reforma del desempleo', 0.0), (u'La situaci\\xf3n pol\\xedtica del Pa\\xeds Vasco', 0.0), (u'El desastre del Prestige', 0.0)]"
       ]
      },
      {
       "output_type": "stream",
       "stream": "stdout",
       "text": [
        "\n",
        "\n",
        "BAR\u00d3METRO ENERO 2004 , date: 2004-01-10 00:00:00 , doc_type: text/html\n",
        "URL: http://www.cis.es/cis/export/sites/default/-Archivos/Marginales/2540_2559/2554/e255400.html\n",
        "Espa\u00f1a?\u00a0(M\u00c1XIMO\u00a0TRES\u00a0RESPUESTAS)."
       ]
      },
      {
       "output_type": "stream",
       "stream": "stdout",
       "text": [
        "\n",
        "-------------------------------------------------\n",
        "Question: Para\u00a0empezar,\u00a0\u00bfcu\u00e1les\u00a0son,\u00a0a\u00a0su\u00a0juicio,\u00a0los\u00a0tres\u00a0problemas\u00a0principales\u00a0que\u00a0existen\u00a0actualmente\u00a0en Espa\u00f1a?\u00a0(M\u00c1XIMO\u00a0TRES\u00a0RESPUESTAS).\n",
        "-------------------------------------------------\n",
        "[(u'Paro', 60.4), (u'Terrorismo, ETA', 34.7), (u'Inseguridad ciudadana', 23.6), (u'Vivienda', 18.3), (u'Inmigraci\\xf3n', 14.8), (u'Problemas econ\\xf3micos', 12.4), (u'Drogas', 10.0), (u'Problemas pol\\xedticos', 8.4), (u'N.S.', 6.4), (u'Sanidad', 5.6), (u'Problemas sociales', 4.6), (u'Las pensiones', 4.4), (u'Otras respuestas', 4.3), (u'Educaci\\xf3n', 4.1), (u'Problemas relacionados con el empleo', 4.0), (u'Violencia contra la mujer', 3.3), (u'Infraestructuras', 2.4), (u'Las guerras', 2.4), (u'Crisis de valores', 1.9), (u'Justicia', 1.6), (u'El euro', 1.4), (u'N.C.', 0.9), (u'Problemas de la juventud', 0.8), (u'Medio ambiente', 0.8), (u'Funcionamiento y cobertura de los servicios p\\xfablicos', 0.8), (u'Corrupci\\xf3n y fraude', 0.6), (u'Ninguno', 0.5), (u'Problemas de la agricultura, ganader\\xeda y pesca', 0.4), (u'Racismo', 0.4), (u'Problemas relacionados con la mujer', 0.4), (u'Problemas relacionados con el comportamiento de los j\\xf3venes', 0.3), (u'La salud', 0.2), (u'La situaci\\xf3n pol\\xedtica del Pa\\xeds Vasco', 0.2), (u'El accidente del Prestige', 0.2), (u'Alimentaci\\xf3n', 0.0), (u'La reforma del desempleo', 0.0)]"
       ]
      },
      {
       "output_type": "stream",
       "stream": "stdout",
       "text": [
        "\n",
        "\n",
        "BAR\u00d3METRO DICIEMBRE 2003: EXPECTATIVAS 2004 , date: 2003-12-10 00:00:00 , doc_type: text/html\n",
        "URL: http://www.cis.es/cis/export/sites/default/-Archivos/Marginales/2540_2559/2548/e254800.html\n",
        "Espa\u00f1a?\u00a0(M\u00c1XIMO\u00a0TRES\u00a0RESPUESTAS)."
       ]
      },
      {
       "output_type": "stream",
       "stream": "stdout",
       "text": [
        "\n",
        "-------------------------------------------------\n",
        "Question: Para\u00a0empezar,\u00a0\u00bfcu\u00e1les\u00a0son,\u00a0a\u00a0su\u00a0juicio,\u00a0los\u00a0tres\u00a0problemas\u00a0principales\u00a0que\u00a0existen\u00a0actualmente\u00a0en Espa\u00f1a?\u00a0(M\u00c1XIMO\u00a0TRES\u00a0RESPUESTAS).\n",
        "-------------------------------------------------\n",
        "[(u'Paro', 57.9), (u'Terrorismo, ETA', 39.7), (u'Inseguridad ciudadana', 21.4), (u'Vivienda', 17.3), (u'Inmigraci\\xf3n', 13.9), (u'Problemas econ\\xf3micos', 11.7), (u'Drogas', 10.9), (u'Problemas pol\\xedticos', 9.0), (u'N.S.', 7.5), (u'Otras respuestas', 5.2), (u'Sanidad', 5.0), (u'Problemas sociales', 4.8), (u'Las pensiones', 4.3), (u'Problemas relacionados con el empleo', 3.5), (u'Las guerras', 3.4), (u'Educaci\\xf3n', 3.2), (u'Violencia contra la mujer', 3.0), (u'El euro', 2.3), (u'Crisis de valores', 2.0), (u'Infraestructuras', 1.7), (u'Justicia', 1.4), (u'Problemas de la juventud', 1.2), (u'Medio ambiente', 0.9), (u'N.C.', 0.8), (u'Corrupci\\xf3n y fraude', 0.6), (u'Racismo', 0.6), (u'Problemas relacionados con la mujer', 0.6), (u'Problemas de la agricultura, ganader\\xeda y pesca', 0.5), (u'Funcionamiento y cobertura de los servicios p\\xfablicos', 0.4), (u'La situaci\\xf3n pol\\xedtica del Pa\\xeds Vasco', 0.4), (u'Ninguno', 0.3), (u'La salud', 0.2), (u'Problemas relacionados con el ocio de los j\\xf3venes', 0.2), (u'El desastre del Prestige', 0.1), (u'Alimentaci\\xf3n', 0.0), (u'La ley sobre la reforma del desempleo', 0.0)]"
       ]
      },
      {
       "output_type": "stream",
       "stream": "stdout",
       "text": [
        "\n",
        "\n",
        "BAR\u00d3METRO NOVIEMBRE 2003 , date: 2003-11-14 00:00:00 , doc_type: text/html\n",
        "URL: http://www.cis.es/cis/export/sites/default/-Archivos/Marginales/2540_2559/2545/e254500.html\n",
        "Espa\u00f1a?\u00a0(M\u00c1XIMO\u00a0TRES\u00a0RESPUESTAS)."
       ]
      },
      {
       "output_type": "stream",
       "stream": "stdout",
       "text": [
        "\n",
        "-------------------------------------------------\n",
        "Question: Para\u00a0empezar,\u00a0\u00bfcu\u00e1les\u00a0son,\u00a0a\u00a0su\u00a0juicio,\u00a0los\u00a0tres\u00a0problemas\u00a0principales\u00a0que\u00a0existen\u00a0actualmente\u00a0en Espa\u00f1a?\u00a0(M\u00c1XIMO\u00a0TRES\u00a0RESPUESTAS).\n",
        "-------------------------------------------------\n",
        "[(u'Paro', 60.2), (u'Terrorismo, ETA', 38.4), (u'Inseguridad ciudadana', 23.0), (u'Vivienda', 17.1), (u'Inmigraci\\xf3n', 14.5), (u'Problemas econ\\xf3micos', 13.1), (u'Drogas', 12.0), (u'Problemas pol\\xedticos', 8.6), (u'Sanidad', 6.0), (u'N.S.', 5.0), (u'Las pensiones', 4.5), (u'Otras respuestas', 4.1), (u'Problemas sociales', 3.8), (u'Problemas relacionados con el empleo', 3.7), (u'Educaci\\xf3n', 3.7), (u'Violencia contra la mujer', 3.3), (u'La guerra de Irak', 2.4), (u'Justicia', 1.8), (u'Crisis de valores', 1.7), (u'El euro', 1.7), (u'Infraestructuras', 1.5), (u'Problemas de la juventud', 1.3), (u'Racismo', 0.9), (u'Medio ambiente', 0.8), (u'Corrupci\\xf3n y fraude', 0.7), (u'Funcionamiento y cobertura de los servicios p\\xfablicos', 0.7), (u'La situaci\\xf3n pol\\xedtica del Pa\\xeds Vasco', 0.7), (u'Problemas de la agricultura, ganader\\xeda y pesca', 0.6), (u'N.C.', 0.6), (u'Problemas relacionados con la mujer', 0.4), (u'El desastre del Prestige', 0.4), (u'Ninguno', 0.4), (u'Problemas relacionados con el ocio de los j\\xf3venes', 0.3), (u'La salud', 0.1), (u'Alimentaci\\xf3n', 0.0), (u'La ley sobre la reforma del desempleo', 0.0)]"
       ]
      },
      {
       "output_type": "stream",
       "stream": "stdout",
       "text": [
        "\n",
        "\n",
        "BAR\u00d3METRO OCTUBRE 2003 , date: 2003-10-25 00:00:00 , doc_type: text/html\n",
        "URL: http://www.cis.es/cis/export/sites/default/-Archivos/Marginales/2540_2559/2541/e254100.html\n",
        "Espa\u00f1a?\u00a0(M\u00c1XIMO\u00a0TRES\u00a0RESPUESTAS)."
       ]
      },
      {
       "output_type": "stream",
       "stream": "stdout",
       "text": [
        "\n",
        "-------------------------------------------------\n",
        "Question: Para\u00a0empezar,\u00a0\u00bfcu\u00e1les\u00a0son,\u00a0a\u00a0su\u00a0juicio,\u00a0los\u00a0tres\u00a0problemas\u00a0principales\u00a0que\u00a0existen\u00a0actualmente\u00a0en Espa\u00f1a?\u00a0(M\u00c1XIMO\u00a0TRES\u00a0RESPUESTAS).\n",
        "-------------------------------------------------\n",
        "[(u'Paro', 57.8), (u'Terrorismo, ETA', 38.7), (u'Inseguridad ciudadana', 27.5), (u'Vivienda', 16.9), (u'Inmigraci\\xf3n', 15.2), (u'Problemas econ\\xf3micos', 12.7), (u'Drogas', 9.9), (u'Problemas pol\\xedticos', 8.0), (u'N.S.', 6.8), (u'Sanidad', 4.7), (u'Problemas sociales', 4.5), (u'Las pensiones', 3.7), (u'Educaci\\xf3n', 3.7), (u'Problemas relacionados con el empleo', 3.4), (u'Otras respuestas', 2.9), (u'Violencia contra la mujer', 2.7), (u'Justicia', 2.5), (u'Las guerras', 2.2), (u'El euro', 1.7), (u'Infraestructuras', 1.4), (u'Crisis de valores', 1.4), (u'Problemas de la juventud', 1.2), (u'Corrupci\\xf3n y fraude', 0.9), (u'Racismo', 0.9), (u'Medio ambiente', 0.9), (u'N.C.', 0.8), (u'La situaci\\xf3n pol\\xedtica del Pa\\xeds Vasco', 0.7), (u'Ninguno', 0.7), (u'Funcionamiento y cobertura de los servicios p\\xfablicos', 0.6), (u'Problemas relacionados con la mujer', 0.5), (u'Problemas relacionados con el ocio de los j\\xf3venes', 0.5), (u'Problemas de la agricultura, ganader\\xeda y pesca', 0.4), (u'La salud', 0.2), (u'El desastre del Prestige', 0.1), (u'Alimentaci\\xf3n', 0.0), (u'La ley sobre la reforma del desempleo', 0.0)]"
       ]
      },
      {
       "output_type": "stream",
       "stream": "stdout",
       "text": [
        "\n",
        "\n",
        "BAR\u00d3METRO SEPTIEMBRE 2003 , date: 2003-09-08 00:00:00 , doc_type: text/html\n",
        "URL: http://www.cis.es/cis/export/sites/default/-Archivos/Marginales/2520_2539/2535/e253500.html\n",
        "Espa\u00f1a?\u00a0(M\u00c1XIMO\u00a0TRES\u00a0RESPUESTAS)."
       ]
      },
      {
       "output_type": "stream",
       "stream": "stdout",
       "text": [
        "\n",
        "-------------------------------------------------\n",
        "Question: Para\u00a0empezar,\u00a0\u00bfcu\u00e1les\u00a0son,\u00a0a\u00a0su\u00a0juicio,\u00a0los\u00a0tres\u00a0problemas\u00a0principales\u00a0que\u00a0existen\u00a0actualmente\u00a0en Espa\u00f1a?\u00a0(M\u00c1XIMO\u00a0TRES\u00a0RESPUESTAS).\n",
        "-------------------------------------------------\n",
        "[(u'Paro', 58.4), (u'Terrorismo, ETA', 42.9), (u'Inseguridad ciudadana', 25.4), (u'Inmigraci\\xf3n', 16.2), (u'Drogas', 12.0), (u'Vivienda', 10.9), (u'Problemas econ\\xf3micos', 10.7), (u'Problemas pol\\xedticos', 10.6), (u'N.S.', 6.2), (u'Problemas sociales', 4.8), (u'Sanidad', 4.3), (u'Educaci\\xf3n', 3.6), (u'Las pensiones', 3.4), (u'Otras respuestas', 3.3), (u'Las guerras', 3.0), (u'Problemas relacionados con el empleo', 2.5), (u'Crisis de valores', 2.0), (u'Violencia contra la mujer', 1.7), (u'Justicia', 1.6), (u'El euro', 1.5), (u'Infraestructuras', 1.3), (u'Corrupci\\xf3n y fraude', 1.3), (u'Medio ambiente', 1.1), (u'Racismo', 0.8), (u'Problemas de la juventud', 0.8), (u'N.C.', 0.8), (u'Problemas de la agricultura, ganader\\xeda y pesca', 0.7), (u'Ninguno', 0.7), (u'Problemas relacionados con el ocio de los j\\xf3venes', 0.6), (u'Funcionamiento y cobertura de los servicios p\\xfablicos', 0.4), (u'El desastre del Prestige', 0.4), (u'Problemas relacionados con la mujer', 0.2), (u'La situaci\\xf3n pol\\xedtica del Pa\\xeds Vasco', 0.2), (u'La salud', 0.1), (u'Alimentaci\\xf3n', 0.0), (u'La ley sobre la reforma del desempleo', 0.0)]"
       ]
      },
      {
       "output_type": "stream",
       "stream": "stdout",
       "text": [
        "\n",
        "\n",
        "BAR\u00d3METRO JULIO 2003 , date: 2003-07-02 00:00:00 , doc_type: text/html\n",
        "URL: http://www.cis.es/cis/export/sites/default/-Archivos/Marginales/2520_2539/2531/e253100.html\n",
        "Espa\u00f1a?\u00a0(M\u00c1XIMO\u00a0TRES\u00a0RESPUESTAS)."
       ]
      },
      {
       "output_type": "stream",
       "stream": "stdout",
       "text": [
        "\n",
        "-------------------------------------------------\n",
        "Question: Para\u00a0empezar,\u00a0\u00bfcu\u00e1les\u00a0son,\u00a0a\u00a0su\u00a0juicio,\u00a0los\u00a0tres\u00a0problemas\u00a0principales\u00a0que\u00a0existen\u00a0actualmente\u00a0en Espa\u00f1a?\u00a0(M\u00c1XIMO\u00a0TRES\u00a0RESPUESTAS).\n",
        "-------------------------------------------------\n",
        "[(u'Paro', 61.1), (u'Terrorismo, ETA', 39.5), (u'Inseguridad ciudadana', 23.4), (u'Inmigraci\\xf3n', 14.8), (u'Vivienda', 13.9), (u'Drogas', 13.0), (u'Problemas pol\\xedticos', 11.5), (u'Problemas econ\\xf3micos', 10.5), (u'N.S.', 6.5), (u'Problemas relacionados con el empleo', 3.6), (u'Las pensiones', 3.6), (u'Sanidad', 3.5), (u'Educaci\\xf3n', 3.4), (u'Problemas sociales', 3.3), (u'Otras respuestas', 3.1), (u'Violencia contra la mujer', 2.4), (u'Corrupci\\xf3n y fraude', 2.3), (u'Las guerras', 2.0), (u'Justicia', 1.9), (u'Crisis de valores', 1.7), (u'Infraestructuras', 1.5), (u'Problemas de la juventud', 1.1), (u'Ninguno', 1.0), (u'El euro', 0.9), (u'N.C.', 0.9), (u'Problemas de la agricultura, ganader\\xeda y pesca', 0.8), (u'Medio ambiente', 0.8), (u'Problemas relacionados con el ocio de los j\\xf3venes', 0.7), (u'Racismo', 0.6), (u'El desastre del Prestige', 0.5), (u'Problemas relacionados con la mujer', 0.4), (u'La salud', 0.2), (u'Funcionamiento y cobertura de los servicios p\\xfablicos', 0.2), (u'Alimentaci\\xf3n', 0.0), (u'La ley sobre la reforma del desempleo', 0.0), (u'La situaci\\xf3n pol\\xedtica del Pa\\xeds Vasco', 0.0)]"
       ]
      },
      {
       "output_type": "stream",
       "stream": "stdout",
       "text": [
        "\n",
        "\n",
        "BAR\u00d3METRO JUNIO 2003 , date: 2003-06-17 00:00:00 , doc_type: text/html\n",
        "URL: http://www.cis.es/cis/export/sites/default/-Archivos/Marginales/2520_2539/2528/e252800.html\n",
        "Espa\u00f1a?\u00a0(M\u00c1XIMO\u00a0TRES\u00a0RESPUESTAS)."
       ]
      },
      {
       "output_type": "stream",
       "stream": "stdout",
       "text": [
        "\n",
        "-------------------------------------------------\n",
        "Question: Para\u00a0empezar,\u00a0\u00bfcu\u00e1les\u00a0son,\u00a0a\u00a0su\u00a0juicio,\u00a0los\u00a0tres\u00a0problemas\u00a0principales\u00a0que\u00a0existen\u00a0actualmente\u00a0en Espa\u00f1a?\u00a0(M\u00c1XIMO\u00a0TRES\u00a0RESPUESTAS).\n",
        "-------------------------------------------------\n",
        "[(u'Paro', 56.4), (u'Terrorismo, ETA', 43.3), (u'Inseguridad ciudadana', 29.0), (u'Inmigraci\\xf3n', 14.4), (u'Drogas', 14.3), (u'Vivienda', 12.2), (u'Problemas pol\\xedticos', 10.7), (u'Problemas econ\\xf3micos', 9.9), (u'N.S.', 6.2), (u'Sanidad', 3.6), (u'Otras respuestas', 3.4), (u'Educaci\\xf3n', 3.3), (u'Violencia contra la mujer', 3.2), (u'Problemas sociales', 3.1), (u'Corrupci\\xf3n y fraude', 2.7), (u'Problemas relacionados con el empleo', 2.6), (u'Las pensiones', 2.6), (u'Justicia', 2.0), (u'Infraestructuras', 1.9), (u'Crisis de valores', 1.7), (u'La guerra de Irak', 1.6), (u'Medio ambiente', 1.3), (u'Problemas de la juventud', 1.0), (u'El desastre del Prestige', 0.7), (u'N.C.', 0.7), (u'Problemas de la agricultura, ganader\\xeda y pesca', 0.6), (u'El euro', 0.6), (u'Ninguno', 0.6), (u'Racismo', 0.5), (u'La salud', 0.3), (u'Problemas relacionados con la mujer', 0.3), (u'Problemas relacionados con el ocio de los j\\xf3venes', 0.3), (u'Funcionamiento y cobertura de los servicios p\\xfablicos', 0.1), (u'Alimentaci\\xf3n', 0.0), (u'La ley sobre la reforma del desempleo', 0.0), (u'La situaci\\xf3n pol\\xedtica del Pa\\xeds Vasco', 0.0)]"
       ]
      },
      {
       "output_type": "stream",
       "stream": "stdout",
       "text": [
        "\n",
        "\n",
        "BAR\u00d3METRO MAYO 2003 , date: 2003-05-16 00:00:00 , doc_type: text/html\n",
        "URL: http://www.cis.es/cis/export/sites/default/-Archivos/Marginales/2500_2519/2511/e251100.html\n",
        "Espa\u00f1a?\u00a0(M\u00c1XIMO\u00a0TRES\u00a0RESPUESTAS)."
       ]
      },
      {
       "output_type": "stream",
       "stream": "stdout",
       "text": [
        "\n",
        "-------------------------------------------------\n",
        "Question: Para\u00a0empezar,\u00a0\u00bfcu\u00e1les\u00a0son,\u00a0a\u00a0su\u00a0juicio,\u00a0los\u00a0tres\u00a0problemas\u00a0principales\u00a0que\u00a0existen\u00a0actualmente\u00a0en Espa\u00f1a?\u00a0(M\u00c1XIMO\u00a0TRES\u00a0RESPUESTAS).\n",
        "-------------------------------------------------\n",
        "[(u'Paro', 63.6), (u'Terrorismo, ETA', 44.4), (u'Inseguridad ciudadana', 26.1), (u'Vivienda', 15.3), (u'Inmigraci\\xf3n', 13.8), (u'Drogas', 9.2), (u'Problemas econ\\xf3micos', 8.4), (u'Problemas pol\\xedticos', 8.1), (u'Sanidad', 5.4), (u'N.S.', 5.3), (u'Las guerras', 4.3), (u'Educaci\\xf3n', 3.8), (u'Las pensiones', 3.7), (u'Problemas sociales', 3.4), (u'Problemas relacionados con el empleo', 3.0), (u'Otras respuestas', 2.8), (u'Crisis de valores', 2.2), (u'Violencia contra la mujer', 2.0), (u'Infraestructuras', 1.6), (u'Justicia', 1.2), (u'Problemas de la juventud', 1.0), (u'Medio ambiente', 0.9), (u'El desastre del Prestige', 0.8), (u'N.C.', 0.8), (u'Funcionamiento y cobertura de los servicios p\\xfablicos', 0.7), (u'Racismo', 0.6), (u'El euro', 0.6), (u'Problemas relacionados con la mujer', 0.5), (u'Problemas de la agricultura, ganader\\xeda y pesca', 0.4), (u'La salud', 0.4), (u'Problemas relacionados con el ocio de los j\\xf3venes', 0.4), (u'La situaci\\xf3n pol\\xedtica del Pa\\xeds Vasco', 0.4), (u'Ninguno', 0.4), (u'Corrupci\\xf3n y fraude', 0.1), (u'Alimentaci\\xf3n', 0.0), (u'La ley sobre la reforma del desempleo', 0.0)]"
       ]
      },
      {
       "output_type": "stream",
       "stream": "stdout",
       "text": [
        "\n",
        "\n",
        "BAR\u00d3METRO ABRIL 2003 , date: 2003-04-24 00:00:00 , doc_type: text/html\n",
        "URL: http://www.cis.es/cis/export/sites/default/-Archivos/Marginales/2500_2519/2508/e250800.html\n",
        "Espa\u00f1a?\u00a0(M\u00c1XIMO\u00a0TRES\u00a0RESPUESTAS)."
       ]
      },
      {
       "output_type": "stream",
       "stream": "stdout",
       "text": [
        "\n",
        "-------------------------------------------------\n",
        "Question: Para\u00a0empezar,\u00a0\u00bfcu\u00e1les\u00a0son,\u00a0a\u00a0su\u00a0juicio,\u00a0los\u00a0tres\u00a0problemas\u00a0principales\u00a0que\u00a0existen\u00a0actualmente\u00a0en Espa\u00f1a?\u00a0(M\u00c1XIMO\u00a0TRES\u00a0RESPUESTAS).\n",
        "-------------------------------------------------\n",
        "[(u'Paro', 63.4), (u'Terrorismo, ETA', 41.5), (u'Inseguridad ciudadana', 23.2), (u'Las guerras', 13.9), (u'Vivienda', 12.8), (u'Problemas pol\\xedticos', 11.3), (u'Problemas econ\\xf3micos', 11.1), (u'Drogas', 9.1), (u'Inmigraci\\xf3n', 8.7), (u'N.S.', 5.9), (u'Sanidad', 5.8), (u'Educaci\\xf3n', 3.9), (u'Las pensiones', 3.7), (u'Problemas sociales', 3.7), (u'Otras respuestas', 3.4), (u'Problemas relacionados con el empleo', 2.6), (u'Justicia', 1.6), (u'El desastre del Prestige', 1.5), (u'Problemas de la juventud', 1.4), (u'Crisis de valores', 1.1), (u'Infraestructuras', 1.0), (u'Violencia contra la mujer', 1.0), (u'Inflaci\\xf3n por el euro', 0.9), (u'Medio ambiente', 0.8), (u'Funcionamiento y cobertura de los servicios p\\xfablicos', 0.8), (u'Problemas de la agricultura, ganader\\xeda y pesca', 0.6), (u'Ninguno', 0.6), (u'N.C.', 0.6), (u'Racismo', 0.5), (u'Problemas relacionados con la mujer', 0.5), (u'Corrupci\\xf3n y fraude', 0.3), (u'Problemas relacionados con el comportamiento social de los j\\xf3venes', 0.3), (u'La situaci\\xf3n pol\\xedtica del Pa\\xeds Vasco', 0.3), (u'La salud', 0.1), (u'Alimentaci\\xf3n', 0.0), (u'La ley sobre la reforma del desempleo', 0.0)]"
       ]
      },
      {
       "output_type": "stream",
       "stream": "stdout",
       "text": [
        "\n",
        "\n",
        "BAR\u00d3METRO MARZO 2003 , date: 2003-03-15 00:00:00 , doc_type: text/html\n",
        "URL: http://www.cis.es/cis/export/sites/default/-Archivos/Marginales/2480_2499/2483/e248300.html\n",
        "Espa\u00f1a?\u00a0(M\u00c1XIMO\u00a0TRES\u00a0RESPUESTAS)."
       ]
      },
      {
       "output_type": "stream",
       "stream": "stdout",
       "text": [
        "\n",
        "-------------------------------------------------\n",
        "Question: Para\u00a0empezar,\u00a0\u00bfcu\u00e1les\u00a0son,\u00a0a\u00a0su\u00a0juicio,\u00a0los\u00a0tres\u00a0problemas\u00a0principales\u00a0que\u00a0existen\u00a0actualmente\u00a0en Espa\u00f1a?\u00a0(M\u00c1XIMO\u00a0TRES\u00a0RESPUESTAS).\n",
        "-------------------------------------------------\n",
        "[(u'Paro', 56.8), (u'Las guerras', 37.3), (u'Terrorismo, ETA', 37.0), (u'Inseguridad ciudadana', 18.5), (u'Problemas pol\\xedticos', 9.9), (u'Problemas econ\\xf3micos', 9.7), (u'Inmigraci\\xf3n', 8.5), (u'Drogas', 7.2), (u'Vivienda', 7.2), (u'N.S.', 6.5), (u'Sanidad', 3.9), (u'Problemas sociales', 3.9), (u'Las pensiones', 3.7), (u'Problemas relacionados con el empleo', 2.8), (u'Educaci\\xf3n', 2.7), (u'El desastre del Prestige', 2.6), (u'Otras respuestas', 2.4), (u'Violencia contra la mujer', 1.4), (u'Crisis de valores', 1.4), (u'Justicia', 1.3), (u'Medio ambiente', 1.1), (u'El euro', 1.1), (u'Problemas de la juventud', 0.9), (u'Infraestructuras', 0.8), (u'Racismo', 0.8), (u'N.C.', 0.7), (u'Problemas de la agricultura, ganader\\xeda y pesca', 0.6), (u'Corrupci\\xf3n y fraude', 0.3), (u'La salud', 0.3), (u'Problemas relacionados con la mujer', 0.3), (u'Problemas relacionados con el ocio de los j\\xf3venes', 0.3), (u'Funcionamiento y cobertura de los servicios p\\xfablicos', 0.2), (u'La situaci\\xf3n pol\\xedtica del Pa\\xeds Vasco', 0.2), (u'Ninguno', 0.2), (u'Alimentaci\\xf3n', 0.0), (u'La ley sobre la reforma del desempleo', 0.0), (u'La guerra de Irak', 0.0)]"
       ]
      },
      {
       "output_type": "stream",
       "stream": "stdout",
       "text": [
        "\n",
        "\n",
        "BAR\u00d3METRO FEBRERO 2003 , date: 2003-02-22 00:00:00 , doc_type: text/html\n",
        "URL: http://www.cis.es/cis/export/sites/default/-Archivos/Marginales/2480_2499/2481/e248100.html\n",
        "Espa\u00f1a?\u00a0(M\u00c1XIMO\u00a0TRES\u00a0RESPUESTAS)."
       ]
      },
      {
       "output_type": "stream",
       "stream": "stdout",
       "text": [
        "\n",
        "-------------------------------------------------\n",
        "Question: Para\u00a0empezar,\u00a0\u00bfcu\u00e1les\u00a0son,\u00a0a\u00a0su\u00a0juicio,\u00a0los\u00a0tres\u00a0problemas\u00a0principales\u00a0que\u00a0existen\u00a0actualmente\u00a0en Espa\u00f1a?\u00a0(M\u00c1XIMO\u00a0TRES\u00a0RESPUESTAS).\n",
        "-------------------------------------------------\n",
        "[(u'Paro', 59.8), (u'Terrorismo, ETA', 45.0), (u'La guerra de Irak', 25.8), (u'Inseguridad ciudadana', 18.5), (u'Problemas pol\\xedticos', 10.9), (u'Inmigraci\\xf3n', 9.8), (u'Problemas econ\\xf3micos', 9.2), (u'Drogas', 9.1), (u'Vivienda', 7.3), (u'El desastre del Prestige', 7.2), (u'N.S.', 5.4), (u'Problemas sociales', 4.0), (u'Las pensiones', 3.5), (u'Sanidad', 3.0), (u'Otras respuestas', 2.7), (u'Educaci\\xf3n', 2.6), (u'Violencia contra la mujer', 2.2), (u'Problemas relacionados con el empleo', 1.6), (u'Problemas de la juventud', 1.2), (u'Crisis de valores', 1.2), (u'Medio ambiente', 1.2), (u'Justicia', 1.1), (u'Infraestructuras', 1.0), (u'N.C.', 0.9), (u'Problemas de la agricultura, ganader\\xeda y pesca', 0.7), (u'Racismo', 0.6), (u'El euro', 0.5), (u'Problemas relacionados con la mujer', 0.4), (u'Corrupci\\xf3n y fraude', 0.3), (u'La salud', 0.3), (u'Funcionamiento y cobertura de los servicios p\\xfablicos', 0.3), (u'Problemas relacionados con el ocio de los j\\xf3venes', 0.3), (u'Las guerras', 0.1), (u'La situaci\\xf3n pol\\xedtica del Pa\\xeds Vasco', 0.1), (u'Ninguno', 0.1), (u'Alimentaci\\xf3n', 0.0), (u'La ley sobre la reforma del desempleo', 0.0)]"
       ]
      },
      {
       "output_type": "stream",
       "stream": "stdout",
       "text": [
        "\n",
        "\n",
        "BAR\u00d3METRO ENERO 2003 , date: 2003-01-21 00:00:00 , doc_type: text/html\n",
        "URL: http://www.cis.es/cis/export/sites/default/-Archivos/Marginales/2460_2479/2477/e247700.html\n",
        "Espa\u00f1a?\u00a0(M\u00c1XIMO\u00a0TRES\u00a0RESPUESTAS)."
       ]
      },
      {
       "output_type": "stream",
       "stream": "stdout",
       "text": [
        "\n",
        "-------------------------------------------------\n",
        "Question: Para\u00a0empezar,\u00a0\u00bfcu\u00e1les\u00a0son,\u00a0a\u00a0su\u00a0juicio,\u00a0los\u00a0tres\u00a0problemas\u00a0principales\u00a0que\u00a0existen\u00a0actualmente\u00a0en Espa\u00f1a?\u00a0(M\u00c1XIMO\u00a0TRES\u00a0RESPUESTAS).\n",
        "-------------------------------------------------\n",
        "[(u'Paro', 58.7), (u'Terrorismo, ETA', 48.6), (u'Inseguridad ciudadana', 25.4), (u'Inmigraci\\xf3n', 13.4), (u'El desastre del Prestige', 13.2), (u'Problemas econ\\xf3micos', 11.0), (u'Drogas', 9.8), (u'Vivienda', 8.9), (u'Problemas pol\\xedticos', 8.2), (u'N.S.', 5.3), (u'Las pensiones', 3.8), (u'Sanidad', 3.5), (u'Otras respuestas', 3.1), (u'Medio ambiente', 3.0), (u'Problemas sociales', 2.6), (u'Educaci\\xf3n', 2.6), (u'Problemas relacionados con el empleo', 2.5), (u'Violencia contra la mujer', 2.5), (u'Justicia', 1.8), (u'Crisis de valores', 1.3), (u'Problemas de la agricultura, ganader\\xeda y pesca', 1.1), (u'Infraestructuras', 1.0), (u'Las guerras', 1.0), (u'Problemas de la juventud', 1.0), (u'El euro', 0.9), (u'Corrupci\\xf3n y fraude', 0.6), (u'Problemas relacionados con la mujer', 0.5), (u'Racismo', 0.4), (u'N.C.', 0.4), (u'La ley sobre la reforma del desempleo', 0.2), (u'La situaci\\xf3n pol\\xedtica del Pa\\xeds Vasco', 0.2), (u'Ninguno', 0.2), (u'La salud', 0.1), (u'Funcionamiento y cobertura de los servicios p\\xfablicos', 0.1), (u'Problemas relacionados con el ocio de los j\\xf3venes', 0.1), (u'Alimentaci\\xf3n', 0.0)]"
       ]
      },
      {
       "output_type": "stream",
       "stream": "stdout",
       "text": [
        "\n",
        "\n",
        "BAR\u00d3METRO DICIEMBRE 2002: EXPECTATIVAS 2003 , date: 2002-12-10 00:00:00 , doc_type: text/html\n",
        "URL: http://www.cis.es/cis/export/sites/default/-Archivos/Marginales/2460_2479/2474/e247400.html\n",
        "Espa\u00f1a?\u00a0(M\u00c1XIMO\u00a0TRES\u00a0RESPUESTAS)."
       ]
      },
      {
       "output_type": "stream",
       "stream": "stdout",
       "text": [
        "\n",
        "-------------------------------------------------\n",
        "Question: Para\u00a0empezar,\u00a0\u00bfcu\u00e1les\u00a0son,\u00a0a\u00a0su\u00a0juicio,\u00a0los\u00a0tres\u00a0problemas\u00a0principales\u00a0que\u00a0existen\u00a0actualmente\u00a0en Espa\u00f1a?\u00a0(M\u00c1XIMO\u00a0TRES\u00a0RESPUESTAS).\n",
        "-------------------------------------------------\n",
        "[(u'Paro', 61.0), (u'Terrorismo, ETA', 43.8), (u'El desastre del Prestige', 26.4), (u'Inseguridad ciudadana', 17.5), (u'Inmigraci\\xf3n', 12.0), (u'Problemas econ\\xf3micos', 10.9), (u'Drogas', 9.4), (u'Problemas pol\\xedticos', 9.0), (u'Vivienda', 7.3), (u'N.S.', 5.1), (u'Problemas sociales', 4.2), (u'Medio ambiente', 3.8), (u'Las pensiones', 3.1), (u'Sanidad', 2.9), (u'Educaci\\xf3n', 2.7), (u'Otras respuestas', 2.2), (u'Problemas relacionados con el empleo', 2.1), (u'Justicia', 1.9), (u'Violencia contra la mujer', 1.9), (u'Problemas de la juventud', 1.5), (u'Crisis de valores', 1.4), (u'El euro', 1.1), (u'Infraestructuras', 0.8), (u'Corrupci\\xf3n y fraude', 0.8), (u'N.C.', 0.8), (u'Problemas de la agricultura, ganader\\xeda y pesca', 0.6), (u'Problemas relacionados con la mujer', 0.4), (u'Racismo', 0.3), (u'Problemas relacionados con el ocio de los j\\xf3venes', 0.3), (u'Ninguno', 0.3), (u'Las guerras', 0.2), (u'La salud', 0.2), (u'Funcionamiento y cobertura de los servicios p\\xfablicos', 0.2), (u'La situaci\\xf3n pol\\xedtica del Pa\\xeds Vasco', 0.2), (u'Alimentaci\\xf3n', 0.0), (u'La ley sobre la reforma del desempleo', 0.0)]"
       ]
      },
      {
       "output_type": "stream",
       "stream": "stdout",
       "text": [
        "\n",
        "\n",
        "BAR\u00d3METRO NOVIEMBRE 2002 , date: 2002-11-16 00:00:00 , doc_type: text/html\n",
        "URL: http://www.cis.es/cis/export/sites/default/-Archivos/Marginales/2460_2479/2471/e247100.html\n",
        "Espa\u00f1a?\u00a0(M\u00c1XIMO\u00a0TRES\u00a0RESPUESTAS)."
       ]
      },
      {
       "output_type": "stream",
       "stream": "stdout",
       "text": [
        "\n",
        "-------------------------------------------------\n",
        "Question: Para\u00a0empezar,\u00a0\u00bfcu\u00e1les\u00a0son,\u00a0a\u00a0su\u00a0juicio,\u00a0los\u00a0tres\u00a0problemas\u00a0principales\u00a0que\u00a0existen\u00a0actualmente\u00a0en Espa\u00f1a?\u00a0(M\u00c1XIMO\u00a0TRES\u00a0RESPUESTAS).\n",
        "-------------------------------------------------\n",
        "[(u'Paro', 64.3), (u'Terrorismo, ETA', 53.3), (u'Inseguridad ciudadana', 22.0), (u'Inmigraci\\xf3n', 14.4), (u'Problemas econ\\xf3micos', 12.8), (u'Drogas', 9.9), (u'Vivienda', 9.6), (u'Problemas pol\\xedticos', 6.5), (u'N.S.', 5.0), (u'Problemas sociales', 4.3), (u'Educaci\\xf3n', 4.2), (u'Sanidad', 3.8), (u'Las pensiones', 3.7), (u'Medio ambiente', 3.3), (u'Problemas relacionados con el empleo', 2.7), (u'Otras respuestas', 2.5), (u'Justicia', 1.9), (u'Violencia contra la mujer', 1.9), (u'Problemas de la juventud', 1.4), (u'El euro', 1.4), (u'Infraestructuras', 1.2), (u'Crisis de valores', 1.2), (u'Problemas relacionados con el ocio de los j\\xf3venes', 0.8), (u'Corrupci\\xf3n y fraude', 0.6), (u'Racismo', 0.6), (u'Problemas relacionados con la mujer', 0.5), (u'N.C.', 0.5), (u'Problemas de la agricultura, ganader\\xeda y pesca', 0.4), (u'Las guerras en general', 0.3), (u'Funcionamiento y cobertura de los servicios p\\xfablicos', 0.3), (u'La salud', 0.2), (u'Ninguno', 0.2), (u'La ley sobre la reforma del desempleo', 0.1), (u'Problemas pol\\xedticos en el P. Vasco', 0.1), (u'Alimentaci\\xf3n', 0.0)]"
       ]
      },
      {
       "output_type": "stream",
       "stream": "stdout",
       "text": [
        "\n",
        "\n",
        "BAR\u00d3METRO OCTUBRE 2002 , date: 2002-10-16 00:00:00 , doc_type: text/html\n",
        "URL: http://www.cis.es/cis/export/sites/default/-Archivos/Marginales/2460_2479/2468/e246800.html\n",
        "Espa\u00f1a?\u00a0(M\u00c1XIMO\u00a0TRES\u00a0RESPUESTAS)."
       ]
      },
      {
       "output_type": "stream",
       "stream": "stdout",
       "text": [
        "\n",
        "-------------------------------------------------\n",
        "Question: Para\u00a0empezar,\u00a0\u00bfcu\u00e1les\u00a0son,\u00a0a\u00a0su\u00a0juicio,\u00a0los\u00a0tres\u00a0problemas\u00a0principales\u00a0que\u00a0existen\u00a0actualmente\u00a0en Espa\u00f1a?\u00a0(M\u00c1XIMO\u00a0TRES\u00a0RESPUESTAS).\n",
        "-------------------------------------------------\n",
        "[(u'Paro', 58.5), (u'Terrorismo, ETA', 53.5), (u'Inseguridad ciudadana', 24.7), (u'Inmigraci\\xf3n', 15.8), (u'Drogas', 11.8), (u'Problemas econ\\xf3micos', 10.4), (u'Vivienda', 10.2), (u'N.S.', 6.2), (u'Problemas pol\\xedticos', 5.7), (u'Violencia contra la mujer', 4.2), (u'Problemas sociales', 3.9), (u'Educaci\\xf3n', 3.5), (u'Otras respuestas', 3.4), (u'Las pensiones', 3.2), (u'Sanidad', 3.1), (u'Problemas relacionados con el empleo', 2.7), (u'Crisis de valores', 1.8), (u'Problemas de la juventud', 1.6), (u'Justicia', 1.5), (u'El euro', 1.3), (u'Infraestructuras', 1.0), (u'Problemas relacionados con el ocio de los j\\xf3venes', 1.0), (u'La situaci\\xf3n pol\\xedtica del Pa\\xeds Vasco', 0.9), (u'Corrupci\\xf3n y fraude', 0.8), (u'Medio ambiente', 0.6), (u'Problemas de la agricultura, ganader\\xeda y pesca', 0.5), (u'Racismo', 0.5), (u'N.C.', 0.5), (u'Problemas relacionados con la mujer', 0.4), (u'Funcionamiento y cobertura de los servicios p\\xfablicos', 0.3), (u'La guerra en Afganist\\xe1n', 0.2), (u'La salud', 0.2), (u'La Ley sobre la reforma del desempleo', 0.2), (u'Ninguno', 0.2), (u'Alimentaci\\xf3n', 0.0)]"
       ]
      },
      {
       "output_type": "stream",
       "stream": "stdout",
       "text": [
        "\n",
        "\n",
        "BAR\u00d3METRO SEPTIEMBRE 2002 , date: 2002-09-24 00:00:00 , doc_type: text/html\n",
        "URL: http://www.cis.es/cis/export/sites/default/-Archivos/Marginales/2460_2479/2466/e246600.html\n",
        "Espa\u00f1a?\u00a0(M\u00c1XIMO\u00a0TRES\u00a0RESPUESTAS)."
       ]
      },
      {
       "output_type": "stream",
       "stream": "stdout",
       "text": [
        "\n",
        "-------------------------------------------------\n",
        "Question: Para\u00a0empezar,\u00a0\u00bfcu\u00e1les\u00a0son,\u00a0a\u00a0su\u00a0juicio,\u00a0los\u00a0tres\u00a0problemas\u00a0principales\u00a0que\u00a0existen\u00a0actualmente\u00a0en Espa\u00f1a?\u00a0(M\u00c1XIMO\u00a0TRES\u00a0RESPUESTAS).\n",
        "-------------------------------------------------\n",
        "[(u'Terrorismo, ETA', 63.9), (u'Paro', 59.9), (u'Inseguridad ciudadana', 21.9), (u'Inmigraci\\xf3n', 20.3), (u'Drogas', 11.3), (u'Problemas econ\\xf3micos', 9.4), (u'Problemas pol\\xedticos', 6.5), (u'N.S.', 5.7), (u'Vivienda', 3.6), (u'Problemas sociales', 3.5), (u'Violencia contra la mujer', 3.4), (u'Educaci\\xf3n', 3.1), (u'Sanidad', 2.7), (u'Las pensiones', 2.7), (u'Problemas relacionados con el empleo', 2.5), (u'Otras respuestas', 2.3), (u'Crisis de valores', 1.6), (u'El euro', 1.5), (u'Justicia', 1.4), (u'Medio ambiente', 1.2), (u'Problemas de la juventud', 1.1), (u'Infraestructuras', 0.8), (u'Racismo', 0.8), (u'N.C.', 0.8), (u'Problemas pol\\xedticos en el Pa\\xeds Vasco', 0.7), (u'Problemas de la agricultura, ganader\\xeda y pesca', 0.6), (u'Problemas relacionados con el ocio de los j\\xf3venes', 0.6), (u'Las guerras', 0.5), (u'Corrupci\\xf3n y fraude', 0.4), (u'Funcionamiento y cobertura de los servicios p\\xfablicos', 0.4), (u'La ley sobre la reforma del desempleo', 0.3), (u'Problemas relacionados con la mujer', 0.2), (u'La salud', 0.1), (u'Ninguno', 0.1), (u'Alimentaci\\xf3n', 0.0)]"
       ]
      },
      {
       "output_type": "stream",
       "stream": "stdout",
       "text": [
        "\n",
        "\n",
        "BAR\u00d3METRO JULIO 2002 , date: 2002-07-16 00:00:00 , doc_type: text/html\n",
        "URL: http://www.cis.es/cis/export/sites/default/-Archivos/Marginales/2460_2479/2463/e246300.html\n",
        "Espa\u00f1a?\u00a0(M\u00c1XIMO\u00a0TRES\u00a0RESPUESTAS)."
       ]
      },
      {
       "output_type": "stream",
       "stream": "stdout",
       "text": [
        "\n",
        "-------------------------------------------------\n",
        "Question: Para\u00a0empezar,\u00a0\u00bfcu\u00e1les\u00a0son,\u00a0a\u00a0su\u00a0juicio,\u00a0los\u00a0tres\u00a0problemas\u00a0principales\u00a0que\u00a0existen\u00a0actualmente\u00a0en Espa\u00f1a?\u00a0(M\u00c1XIMO\u00a0TRES\u00a0RESPUESTAS).\n",
        "-------------------------------------------------\n",
        "[(u'Paro', 62.1), (u'Terrorismo, ETA', 50.1), (u'Inmigraci\\xf3n', 24.1), (u'Inseguridad ciudadana', 19.1), (u'Drogas', 13.1), (u'Problemas econ\\xf3micos', 8.8), (u'N.S.', 6.5), (u'Vivienda', 5.2), (u'Problemas pol\\xedticos', 5.1), (u'Sanidad', 3.9), (u'Problemas sociales', 3.4), (u'Problemas relacionados con el empleo', 3.1), (u'Las pensiones', 3.1), (u'Educaci\\xf3n', 3.0), (u'El conflicto del islote de Perejil', 3.0), (u'Otras respuestas', 1.9), (u'El euro', 1.7), (u'Infraestructuras', 1.5), (u'Problemas de la juventud', 1.5), (u'Crisis de valores', 1.1), (u'Problemas de la agricultura, ganader\\xeda y pesca', 1.0), (u'Racismo', 1.0), (u'Violencia contra la mujer', 0.9), (u'Corrupci\\xf3n y fraude', 0.8), (u'Justicia', 0.8), (u'La ley sobre la reforma del desempleo', 0.8), (u'Ninguno', 0.8), (u'N.C.', 0.7), (u'Medio ambiente', 0.6), (u'Problemas relacionados con la mujer', 0.6), (u'Problemas relacionados con el ocio de los j\\xf3venes', 0.6), (u'La guerra de Afganist\\xe1n', 0.3), (u'Funcionamiento y cobertura de los servicios p\\xfablicos', 0.3), (u'La salud', 0.2), (u'Alimentaci\\xf3n', 0.0)]"
       ]
      },
      {
       "output_type": "stream",
       "stream": "stdout",
       "text": [
        "\n",
        "\n",
        "BAR\u00d3METRO JUNIO 2002 , date: 2002-06-26 00:00:00 , doc_type: text/html\n",
        "URL: http://www.cis.es/cis/export/sites/default/-Archivos/Marginales/2440_2459/2459/e245900.html\n",
        "Espa\u00f1a?\u00a0(M\u00c1XIMO\u00a0TRES\u00a0RESPUESTAS)."
       ]
      },
      {
       "output_type": "stream",
       "stream": "stdout",
       "text": [
        "\n",
        "-------------------------------------------------\n",
        "Question: Para\u00a0empezar,\u00a0\u00bfcu\u00e1les\u00a0son,\u00a0a\u00a0su\u00a0juicio,\u00a0los\u00a0tres\u00a0problemas\u00a0principales\u00a0que\u00a0existen\u00a0actualmente\u00a0en Espa\u00f1a?\u00a0(M\u00c1XIMO\u00a0TRES\u00a0RESPUESTAS).\n",
        "-------------------------------------------------\n",
        "[(u'Paro', 63.0), (u'Terrorismo, ETA', 49.0), (u'Inmigraci\\xf3n', 26.3), (u'Inseguridad ciudadana', 16.8), (u'Drogas', 11.3), (u'Problemas econ\\xf3micos', 9.1), (u'Problemas pol\\xedticos', 7.1), (u'N.S.', 7.1), (u'Educaci\\xf3n', 4.0), (u'Problemas relacionados con el empleo', 3.9), (u'Vivienda', 3.4), (u'Problemas sociales', 3.4), (u'Sanidad', 3.3), (u'Las pensiones', 3.0), (u'Otras respuestas', 2.9), (u'Justicia', 1.5), (u'Violencia contra la mujer', 1.4), (u'Problemas de la juventud', 1.4), (u'Crisis de valores', 1.4), (u'El euro', 1.2), (u'Corrupci\\xf3n y fraude', 1.0), (u'Problemas relacionados con el ocio de los j\\xf3venes', 0.9), (u'Infraestructuras', 0.7), (u'Problemas de la agricultura, ganader\\xeda y pesca', 0.6), (u'Racismo', 0.6), (u'Medio ambiente', 0.6), (u'Ninguno', 0.6), (u'Funcionamiento y cobertura de los servicios p\\xfablicos', 0.5), (u'N.C.', 0.4), (u'Problemas relacionados con la mujer', 0.2), (u'La guerra en Afganist\\xe1n', 0.1), (u'La salud', 0.0), (u'Alimentaci\\xf3n', 0.0)]"
       ]
      },
      {
       "output_type": "stream",
       "stream": "stdout",
       "text": [
        "\n",
        "\n",
        "BAR\u00d3METRO MAYO 2002 , date: 2002-05-20 00:00:00 , doc_type: text/html\n",
        "URL: http://www.cis.es/cis/export/sites/default/-Archivos/Marginales/2440_2459/2457/e245700.html\n",
        "Espa\u00f1a?\u00a0(M\u00c1XIMO\u00a0TRES\u00a0RESPUESTAS)."
       ]
      },
      {
       "output_type": "stream",
       "stream": "stdout",
       "text": [
        "\n",
        "-------------------------------------------------\n",
        "Question: Para\u00a0empezar,\u00a0\u00bfcu\u00e1les\u00a0son,\u00a0a\u00a0su\u00a0juicio,\u00a0los\u00a0tres\u00a0problemas\u00a0principales\u00a0que\u00a0existen\u00a0actualmente\u00a0en Espa\u00f1a?\u00a0(M\u00c1XIMO\u00a0TRES\u00a0RESPUESTAS).\n",
        "-------------------------------------------------\n",
        "[(u'Paro', 65.3), (u'Terrorismo, ETA', 51.0), (u'Inseguridad ciudadana', 22.3), (u'Inmigraci\\xf3n', 22.0), (u'Drogas', 15.8), (u'Problemas econ\\xf3micos', 8.5), (u'Problemas pol\\xedticos', 7.0), (u'N.S.', 5.8), (u'Educaci\\xf3n', 4.3), (u'Problemas sociales', 3.6), (u'Sanidad', 3.4), (u'Vivienda', 3.1), (u'Las pensiones', 3.1), (u'Otras respuestas', 3.1), (u'Precariedad en el empleo', 2.8), (u'Violencia contra la mujer', 2.1), (u'Justicia', 1.8), (u'Problemas relacionados con el ocio de los j\\xf3venes', 1.8), (u'Crisis de valores', 1.5), (u'Racismo', 1.0), (u'El euro', 1.0), (u'Infraestructuras', 0.9), (u'Problemas de la juventud', 0.9), (u'Medio ambiente', 0.9), (u'Corrupci\\xf3n y fraude', 0.7), (u'N.C.', 0.4), (u'Problemas de la agricultura, ganader\\xeda y pesca', 0.3), (u'La guerra de Afganist\\xe1n', 0.3), (u'Problemas relacionados con la mujer', 0.3), (u'La salud', 0.1), (u'Funcionamiento y cobertura de los servicios p\\xfablicos', 0.1), (u'Ninguno', 0.1)]"
       ]
      },
      {
       "output_type": "stream",
       "stream": "stdout",
       "text": [
        "\n",
        "\n",
        "BAR\u00d3METRO ABRIL 2002 , date: 2002-04-16 00:00:00 , doc_type: text/html\n",
        "URL: http://www.cis.es/cis/export/sites/default/-Archivos/Marginales/2440_2459/2454/e245400.html\n",
        "Espa\u00f1a?\u00a0(M\u00c1XIMO\u00a0TRES\u00a0RESPUESTAS)."
       ]
      },
      {
       "output_type": "stream",
       "stream": "stdout",
       "text": [
        "\n",
        "-------------------------------------------------\n",
        "Question: Para\u00a0empezar,\u00a0\u00bfcu\u00e1les\u00a0son,\u00a0a\u00a0su\u00a0juicio,\u00a0los\u00a0tres\u00a0problemas\u00a0principales\u00a0que\u00a0existen\u00a0actualmente\u00a0en Espa\u00f1a?\u00a0(M\u00c1XIMO\u00a0TRES\u00a0RESPUESTAS).\n",
        "-------------------------------------------------\n",
        "[(u'Paro', 65.7), (u'Terrorismo, ETA', 54.2), (u'Inseguridad ciudadana', 17.6), (u'Drogas', 17.4), (u'Inmigraci\\xf3n', 13.3), (u'Problemas econ\\xf3micos', 8.6), (u'N.S.', 6.3), (u'Problemas pol\\xedticos', 5.4), (u'Educaci\\xf3n', 5.2), (u'Vivienda', 4.9), (u'Sanidad', 4.2), (u'Problemas sociales', 3.7), (u'Las pensiones', 3.5), (u'Otras respuestas', 3.1), (u'Problemas relacionados con el empleo', 2.6), (u'Violencia contra la mujer', 2.6), (u'Corrupci\\xf3n y fraude', 2.4), (u'Crisis de valores', 2.1), (u'Problemas de la juventud', 1.8), (u'Justicia', 1.6), (u'Medio ambiente', 1.6), (u'Racismo', 1.1), (u'Infraestructuras', 1.0), (u'Problemas relacionados con el ocio de los j\\xf3venes', 1.0), (u'La guerra de Afganist\\xe1n', 0.8), (u'Funcionamiento y cobertura de los servicios p\\xfablicos', 0.6), (u'El euro', 0.6), (u'Problemas relacionados con la mujer', 0.5), (u'Problemas de la agricultura, ganader\\xeda y pesca', 0.4), (u'N.C.', 0.4), (u'La salud', 0.1), (u'Alimentaci\\xf3n', 0.1), (u'Ninguno', 0.1)]"
       ]
      },
      {
       "output_type": "stream",
       "stream": "stdout",
       "text": [
        "\n",
        "\n",
        "BAR\u00d3METRO MARZO 2002 , date: 2002-03-16 00:00:00 , doc_type: text/html\n",
        "URL: http://www.cis.es/cis/export/sites/default/-Archivos/Marginales/2440_2459/2452/e245200.html\n",
        "Espa\u00f1a?\u00a0(M\u00c1XIMO\u00a0TRES\u00a0RESPUESTAS)."
       ]
      },
      {
       "output_type": "stream",
       "stream": "stdout",
       "text": [
        "\n",
        "-------------------------------------------------\n",
        "Question: Para\u00a0empezar,\u00a0\u00bfcu\u00e1les\u00a0son,\u00a0a\u00a0su\u00a0juicio,\u00a0los\u00a0tres\u00a0problemas\u00a0principales\u00a0que\u00a0existen\u00a0actualmente\u00a0en Espa\u00f1a?\u00a0(M\u00c1XIMO\u00a0TRES\u00a0RESPUESTAS).\n",
        "-------------------------------------------------\n",
        "[(u'Paro', 60.5), (u'Terrorismo, ETA', 54.0), (u'Drogas', 23.2), (u'Inseguridad ciudadana', 19.0), (u'Inmigraci\\xf3n', 14.9), (u'Problemas econ\\xf3micos', 7.6), (u'N.S.', 5.9), (u'Educaci\\xf3n', 5.5), (u'Problemas pol\\xedticos', 4.6), (u'Otras respuestas', 3.6), (u'Vivienda', 3.5), (u'Sanidad', 3.4), (u'Problemas sociales', 3.3), (u'Problemas de la juventud', 3.1), (u'Las pensiones', 2.8), (u'Crisis de valores', 2.1), (u'Justicia', 2.0), (u'Violencia contra la mujer', 1.9), (u'Problemas relacionados con el empleo', 1.8), (u'Problemas relacionados con el ocio de los j\\xf3venes', 1.7), (u'Corrupci\\xf3n y fraude', 1.4), (u'Racismo', 1.4), (u'Infraestructuras', 1.2), (u'Medio ambiente', 0.8), (u'La guerra de Afganist\\xe1n', 0.7), (u'Ninguno', 0.7), (u'El euro', 0.6), (u'Problemas de la agricultura, ganader\\xeda y pesca', 0.5), (u'N.C.', 0.5), (u'Problemas relacionados con la mujer', 0.4), (u'La salud', 0.2), (u'Funcionamiento y cobertura de los servicios p\\xfablicos', 0.0), (u'Alimentaci\\xf3n', 0.0)]"
       ]
      },
      {
       "output_type": "stream",
       "stream": "stdout",
       "text": [
        "\n",
        "\n",
        "BAR\u00d3METRO FEBRERO 2002 , date: 2002-02-23 00:00:00 , doc_type: text/html\n",
        "URL: http://www.cis.es/cis/export/sites/default/-Archivos/Marginales/2440_2459/2448/e244800.html\n",
        "Espa\u00f1a?\u00a0(M\u00c1XIMO\u00a0TRES\u00a0RESPUESTAS)."
       ]
      },
      {
       "output_type": "stream",
       "stream": "stdout",
       "text": [
        "\n",
        "-------------------------------------------------\n",
        "Question: Para\u00a0empezar,\u00a0\u00bfcu\u00e1les\u00a0son,\u00a0a\u00a0su\u00a0juicio,\u00a0los\u00a0tres\u00a0problemas\u00a0principales\u00a0que\u00a0existen\u00a0actualmente\u00a0en Espa\u00f1a?\u00a0(M\u00c1XIMO\u00a0TRES\u00a0RESPUESTAS).\n",
        "-------------------------------------------------\n",
        "[(u'Paro', 58.7), (u'Terrorismo, ETA', 55.9), (u'Inseguridad ciudadana', 21.7), (u'Inmigraci\\xf3n', 16.8), (u'Drogas', 15.6), (u'Problemas econ\\xf3micos', 8.5), (u'N.S.', 7.4), (u'Educaci\\xf3n', 5.1), (u'Problemas pol\\xedticos', 5.0), (u'Sanidad', 3.6), (u'Otras respuestas', 3.6), (u'Problemas sociales', 3.3), (u'Vivienda', 2.7), (u'Las pensiones', 2.5), (u'Problemas de la juventud', 2.4), (u'Violencia contra la mujer', 2.2), (u'Problemas relacionados con el empleo', 2.0), (u'Problemas relacionados con el ocio de los j\\xf3venes', 1.9), (u'Crisis de valores', 1.8), (u'Justicia', 1.7), (u'Racismo', 1.3), (u'Medio ambiente', 1.0), (u'El euro', 1.0), (u'Corrupci\\xf3n y fraude', 0.9), (u'Infraestructuras', 0.8), (u'Problemas de la agricultura, ganader\\xeda y pesca', 0.5), (u'Ninguno', 0.5), (u'N.C.', 0.5), (u'La guerra de Afganist\\xe1n', 0.4), (u'Problemas relacionados con la mujer', 0.4), (u'La salud', 0.3), (u'Funcionamiento y cobertura de los servicios p\\xfablicos', 0.2), (u'Alimentaci\\xf3n', 0.0)]"
       ]
      },
      {
       "output_type": "stream",
       "stream": "stdout",
       "text": [
        "\n",
        "\n",
        "BAR\u00d3METRO ENERO 2002 , date: 2002-01-27 00:00:00 , doc_type: text/html\n",
        "URL: http://www.cis.es/cis/export/sites/default/-Archivos/Marginales/2440_2459/2444/e244400.html\n",
        "Espa\u00f1a?\u00a0(M\u00c1XIMO\u00a0TRES\u00a0RESPUESTAS)."
       ]
      },
      {
       "output_type": "stream",
       "stream": "stdout",
       "text": [
        "\n",
        "-------------------------------------------------\n",
        "Question: Para\u00a0empezar,\u00a0\u00bfcu\u00e1les\u00a0son,\u00a0a\u00a0su\u00a0juicio,\u00a0los\u00a0tres\u00a0problemas\u00a0principales\u00a0que\u00a0existen\u00a0actualmente\u00a0en Espa\u00f1a?\u00a0(M\u00c1XIMO\u00a0TRES\u00a0RESPUESTAS).\n",
        "-------------------------------------------------\n",
        "[(u'Paro', 61.9), (u'Terrorismo, ETA', 59.4), (u'Inseguridad ciudadana', 18.1), (u'Drogas', 14.5), (u'Inmigraci\\xf3n', 14.0), (u'Problemas econ\\xf3micos', 10.0), (u'N.S.', 6.2), (u'Problemas pol\\xedticos', 4.8), (u'Las pensiones', 4.4), (u'Sanidad', 4.0), (u'Vivienda', 3.8), (u'Problemas sociales', 3.7), (u'Educaci\\xf3n', 3.6), (u'Otras respuestas', 3.1), (u'Justicia', 2.2), (u'Violencia contra la mujer', 2.1), (u'Corrupci\\xf3n y fraude', 2.0), (u'Crisis de valores', 2.0), (u'El euro', 1.9), (u'Precariedad en el empleo', 1.6), (u'Problemas de la juventud', 1.6), (u'Medio ambiente', 1.2), (u'Infraestructuras', 1.0), (u'Racismo', 0.8), (u'La guerra de Afganist\\xe1n', 0.6), (u'Problemas de la agricultura, ganader\\xeda y pesca', 0.5), (u'Ninguno', 0.5), (u'N.C.', 0.5), (u'Problemas relacionados con la mujer', 0.3), (u'La salud', 0.2), (u'Funcionamiento y cobertura de los servicios p\\xfablicos', 0.2), (u'Alimentaci\\xf3n', 0.0)]"
       ]
      },
      {
       "output_type": "stream",
       "stream": "stdout",
       "text": [
        "\n",
        "\n",
        "BAR\u00d3METRO DICIEMBRE 2001: EXPECTATIVAS 2002 , date: 2001-12-11 00:00:00 , doc_type: text/html\n",
        "URL: http://www.cis.es/cis/export/sites/default/-Archivos/Marginales/2440_2459/2441/e244100.html\n",
        "Espa\u00f1a?\u00a0(M\u00c1XIMO\u00a0TRES\u00a0RESPUESTAS)."
       ]
      },
      {
       "output_type": "stream",
       "stream": "stdout",
       "text": [
        "\n",
        "-------------------------------------------------\n",
        "Question: Para\u00a0empezar,\u00a0\u00bfcu\u00e1les\u00a0son,\u00a0a\u00a0su\u00a0juicio,\u00a0los\u00a0tres\u00a0problemas\u00a0principales\u00a0que\u00a0existen\u00a0actualmente\u00a0en Espa\u00f1a?\u00a0(M\u00c1XIMO\u00a0TRES\u00a0RESPUESTAS).\n",
        "-------------------------------------------------\n",
        "[(u'Paro', 62.9), (u'Terrorismo, ETA', 62.3), (u'Drogas', 15.4), (u'Inseguridad ciudadana', 14.2), (u'Problemas econ\\xf3micos', 10.5), (u'Inmigraci\\xf3n', 9.3), (u'Problemas pol\\xedticos', 7.0), (u'Problemas sociales', 6.4), (u'Educaci\\xf3n', 5.5), (u'N.S.', 5.4), (u'Sanidad', 4.4), (u'Las pensiones', 4.0), (u'Vivienda', 3.7), (u'Violencia contra la mujer', 3.3), (u'Otras respuestas', 2.3), (u'Crisis de valores', 2.2), (u'El euro', 2.0), (u'Justicia', 1.9), (u'La guerra de Afganist\\xe1n', 1.7), (u'Problemas de la juventud', 1.7), (u'Corrupci\\xf3n y fraude', 1.3), (u'Medio ambiente', 1.3), (u'Precariedad en el empleo', 1.1), (u'Infraestructuras', 0.8), (u'Racismo', 0.7), (u'N.C.', 0.5), (u'La salud', 0.4), (u'Problemas de la agricultura, ganader\\xeda y pesca', 0.3), (u'Ninguno', 0.3), (u'Problemas relacionados con la mujer', 0.2), (u'Funcionamiento y cobertura de los servicios p\\xfablicos', 0.0), (u'Alimentaci\\xf3n', 0.0)]"
       ]
      },
      {
       "output_type": "stream",
       "stream": "stdout",
       "text": [
        "\n",
        "\n",
        "BAR\u00d3METRO NOVIEMBRE 2001 , date: 2001-11-21 00:00:00 , doc_type: text/html\n",
        "URL: http://www.cis.es/cis/export/sites/default/-Archivos/Marginales/2420_2439/2439/e243900.html\n",
        "Espa\u00f1a?\u00a0(M\u00c1XIMO\u00a0TRES\u00a0RESPUESTAS)."
       ]
      },
      {
       "output_type": "stream",
       "stream": "stdout",
       "text": [
        "\n",
        "-------------------------------------------------\n",
        "Question: Para\u00a0empezar,\u00a0\u00bfcu\u00e1les\u00a0son,\u00a0a\u00a0su\u00a0juicio,\u00a0los\u00a0tres\u00a0problemas\u00a0principales\u00a0que\u00a0existen\u00a0actualmente\u00a0en Espa\u00f1a?\u00a0(M\u00c1XIMO\u00a0TRES\u00a0RESPUESTAS).\n",
        "-------------------------------------------------\n",
        "[(u'Terrorismo, ETA', 65.7), (u'Paro', 57.6), (u'Inseguridad ciudadana', 14.9), (u'Drogas', 14.8), (u'Problemas econ\\xf3micos', 11.8), (u'Inmigraci\\xf3n', 9.3), (u'N.S.', 6.5), (u'Sanidad', 6.2), (u'Problemas pol\\xedticos', 6.2), (u'Problemas sociales', 5.9), (u'Educaci\\xf3n', 4.6), (u'Violencia contra la mujer', 4.5), (u'Vivienda', 3.8), (u'Otras respuestas', 3.3), (u'Las pensiones', 3.2), (u'Corrupci\\xf3n y fraude', 2.8), (u'Crisis de valores', 2.7), (u'La guerra de Afganist\\xe1n', 2.6), (u'Justicia', 1.7), (u'Problemas de la juventud', 1.7), (u'Precariedad en el empleo', 1.4), (u'Racismo', 1.1), (u'Infraestructuras', 1.0), (u'Medio ambiente', 1.0), (u'N.C.', 0.5), (u'Problemas de la agricultura, ganader\\xeda y pesca', 0.4), (u'Funcionamiento y cobertura de los servicios p\\xfablicos', 0.4), (u'Ninguno', 0.2), (u'Alimentaci\\xf3n', 0.0), (u'Problemas relacionados con la mujer', 0.0)]"
       ]
      },
      {
       "output_type": "stream",
       "stream": "stdout",
       "text": [
        "\n",
        "BAR\u00d3METRO OCTUBRE 2001 , date: 2001-10-24 00:00:00 , doc_type: application/pdf\n",
        "Under construction.\n",
        "\n",
        "BAR\u00d3METRO SEPTIEMBRE 2001 , date: 2001-09-13 00:00:00 , doc_type: text/html\n",
        "URL: http://www.cis.es/cis/export/sites/default/-Archivos/Marginales/2420_2439/2429/e242900.html\n",
        "en\u00a0Espa\u00f1a?\u00a0(M\u00c1XIMO\u00a0TRES\u00a0RESPUESTAS)."
       ]
      },
      {
       "output_type": "stream",
       "stream": "stdout",
       "text": [
        "\n",
        "-------------------------------------------------\n",
        "Question: P1\u00a0Para\u00a0empezar,\u00a0\u00bfcu\u00e1les\u00a0son,\u00a0a\u00a0su\u00a0juicio,\u00a0los\u00a0tres\u00a0problemas\u00a0principales\u00a0que\u00a0existen\u00a0actualmente en\u00a0Espa\u00f1a?\u00a0(M\u00c1XIMO\u00a0TRES\u00a0RESPUESTAS).\n",
        "-------------------------------------------------\n",
        "[(u'Terrorismo, ETA', 70.6), (u'Paro', 61.0), (u'Droga, alcoholismo', 14.3), (u'Inmigraci\\xf3n', 12.9), (u'Situaci\\xf3n econ\\xf3mica', 10.3), (u'Delincuencia, inseguridad ciudadana', 8.3), (u'N.S.', 6.0), (u'Problemas pol\\xedticos', 5.4), (u'Sanidad', 3.9), (u'Problemas sociales', 3.8), (u'Sistema educativo', 3.7), (u'Otras respuestas', 3.0), (u'Atentado New York y sus consecuencias', 2.6), (u'Crisis de valores sociales', 2.5), (u'Vivienda', 2.3), (u'Precariedad en el empleo', 2.1), (u'Corrupci\\xf3n pol\\xedtica', 2.0), (u'Problemas de la juventud', 2.0), (u'Las pensiones', 1.9), (u'Problemas ecol\\xf3gicos y del medio ambiente', 1.6), (u'La actuaci\\xf3n judicial', 1.3), (u'Racismo', 1.3), (u'Escasez y/o mal funcionamiento de los servicios p\\xfablicos', 1.1), (u'Problemas de la agricultura, ganader\\xeda y pesca', 0.6), (u'Violencia contra la mujer', 0.6), (u'La salud', 0.6), (u'N.C.', 0.6), (u'Ninguno', 0.2)]"
       ]
      },
      {
       "output_type": "stream",
       "stream": "stdout",
       "text": [
        "\n",
        "\n",
        "BAR\u00d3METRO JULIO 2001 , date: 2001-07-13 00:00:00 , doc_type: text/html\n",
        "URL: http://www.cis.es/cis/export/sites/default/-Archivos/Marginales/2420_2439/2428/e242800.html\n",
        "Espa\u00f1a?\u00a0(M\u00c1XIMO\u00a0TRES\u00a0RESPUESTAS)"
       ]
      },
      {
       "output_type": "stream",
       "stream": "stdout",
       "text": [
        "\n",
        "-------------------------------------------------\n",
        "Question: Para\u00a0empezar,\u00a0\u00bfcu\u00e1les\u00a0son,\u00a0a\u00a0su\u00a0juicio,\u00a0los\u00a0tres\u00a0problemas\u00a0principales\u00a0que\u00a0existen\u00a0actualmente\u00a0en Espa\u00f1a?\u00a0(M\u00c1XIMO\u00a0TRES\u00a0RESPUESTAS)\n",
        "-------------------------------------------------\n",
        "[(u'Terrorismo, ETA', 73.5), (u'Paro', 59.4), (u'Droga, alcoholismo', 16.1), (u'Inmigraci\\xf3n', 14.4), (u'Problemas econ\\xf3micos', 9.5), (u'Delincuencia, inseguridad ciudadana', 9.4), (u'Problemas pol\\xedticos', 5.2), (u'N.S.', 4.7), (u'Sanidad', 3.9), (u'Vivienda', 3.5), (u'Otras respuestas', 3.5), (u'Problemas sociales', 3.1), (u'Las pensiones', 2.9), (u'Sistema educativo', 2.6), (u'D\\xe9ficit de valores sociales', 2.0), (u'Los problemas de la ganader\\xeda y la alimentaci\\xf3n', 1.9), (u'Precariedad en el empleo', 1.8), (u'Escasez y/o mal funcionamiento de los servicios p\\xfablicos', 1.7), (u'La actuaci\\xf3n judicial', 1.7), (u'Contaminaci\\xf3n, medio ambiente', 1.7), (u'Problemas de la juventud', 1.4), (u'Racismo', 1.0), (u'Problemas de la agricultura', 0.8), (u'Violencia contra la mujer', 0.8), (u'Problemas derivados de las autonom\\xedas', 0.7), (u'N.C.', 0.6), (u'La salud', 0.5), (u'Problemas laborales y familiares de la mujer', 0.2), (u'Ninguno', 0.2), (u'El futuro de los hijos', 0.1)]"
       ]
      },
      {
       "output_type": "stream",
       "stream": "stdout",
       "text": [
        "\n",
        "\n",
        "BAR\u00d3METRO JUNIO 2001 , date: 2001-06-19 00:00:00 , doc_type: text/html\n",
        "URL: http://www.cis.es/cis/export/sites/default/-Archivos/Marginales/2420_2439/2423/e242300.html\n",
        "Espa\u00f1a?\u00a0(M\u00c1XIMO\u00a0TRES\u00a0RESPUESTAS)"
       ]
      },
      {
       "output_type": "stream",
       "stream": "stdout",
       "text": [
        "\n",
        "-------------------------------------------------\n",
        "Question: Para\u00a0empezar,\u00a0\u00bfcu\u00e1les\u00a0son,\u00a0a\u00a0su\u00a0juicio,\u00a0los\u00a0tres\u00a0problemas\u00a0principales\u00a0que\u00a0existen\u00a0actualmente\u00a0en Espa\u00f1a?\u00a0(M\u00c1XIMO\u00a0TRES\u00a0RESPUESTAS)\n",
        "-------------------------------------------------\n",
        "[(u'Paro', 59.6), (u'Terrorismo, ETA', 56.7), (u'Droga, alcoholismo', 19.4), (u'Inmigraci\\xf3n', 14.7), (u'Delincuencia, inseguridad ciudadana', 13.7), (u'Problemas econ\\xf3micos', 9.0), (u'N.S.', 7.5), (u'Problemas pol\\xedticos', 5.7), (u'Vivienda', 4.4), (u'Las pensiones', 4.0), (u'Sanidad', 3.9), (u'Otras respuestas', 3.9), (u'Problemas sociales', 3.7), (u'Sistema educativo', 3.1), (u'Precariedad en el empleo', 2.7), (u'La actuaci\\xf3n judicial', 2.6), (u'Contaminaci\\xf3n, medio ambiente', 2.0), (u'Violencia contra la mujer', 1.9), (u'Problemas de la juventud', 1.6), (u'D\\xe9ficit de valores sociales', 1.3), (u'Racismo', 1.2), (u'Escasez y/o mal funcionamiento de los servicios p\\xfablicos', 1.1), (u'Los problemas de la ganader\\xeda y la alimentaci\\xf3n', 1.0), (u'Problemas de la agricultura', 0.4), (u'Problemas laborales y familiares de la mujer', 0.4), (u'Ninguno', 0.4), (u'N.C.', 0.4), (u'Problemas derivados de las autonom\\xedas', 0.3), (u'La salud', 0.3), (u'El futuro de los hijos', 0.1)]"
       ]
      },
      {
       "output_type": "stream",
       "stream": "stdout",
       "text": [
        "\n",
        "\n",
        "BAR\u00d3METRO MAYO 2001 , date: 2001-05-22 00:00:00 , doc_type: text/html\n",
        "URL: http://www.cis.es/cis/export/sites/default/-Archivos/Marginales/2400_2419/2419/e241900.html\n",
        "Espa\u00f1a?\u00a0(M\u00c1XIMO\u00a0TRES\u00a0RESPUESTAS)."
       ]
      },
      {
       "output_type": "stream",
       "stream": "stdout",
       "text": [
        "\n",
        "-------------------------------------------------\n",
        "Question: Para\u00a0empezar,\u00a0\u00bfcu\u00e1les\u00a0son,\u00a0a\u00a0su\u00a0juicio,\u00a0los\u00a0tres\u00a0problemas\u00a0principales\u00a0que\u00a0existen\u00a0actualmente\u00a0en Espa\u00f1a?\u00a0(M\u00c1XIMO\u00a0TRES\u00a0RESPUESTAS).\n",
        "-------------------------------------------------\n",
        "[(u'Terrorismo, ETA', 70.9), (u'Paro', 59.5), (u'Droga, alcoholismo', 18.0), (u'Inmigraci\\xf3n', 13.1), (u'Delincuencia, inseguridad ciudadana', 8.9), (u'Problemas econ\\xf3micos', 7.6), (u'N.S.', 5.3), (u'Problemas pol\\xedticos', 5.1), (u'Problemas sociales', 4.7), (u'Sanidad', 3.8), (u'Violencia contra la mujer', 3.5), (u'Sistema educativo', 3.4), (u'Las pensiones', 3.2), (u'Otras respuestas', 3.0), (u'Vivienda', 2.7), (u'La actuaci\\xf3n judicial', 2.2), (u'D\\xe9ficit de valores sociales', 2.2), (u'Problemas de la juventud', 2.0), (u'Precariedad en el empleo', 1.8), (u'Contaminaci\\xf3n, medio ambiente', 1.6), (u'Racismo', 1.5), (u'Los problemas de la ganader\\xeda y la alimentaci\\xf3n', 1.0), (u'Escasez y/o mal funcionamiento de los servicios p\\xfablicos', 0.8), (u'N.C.', 0.6), (u'Problemas de la agricultura', 0.4), (u'Subida de los carburantes', 0.4), (u'Problemas derivados de las autonom\\xedas', 0.4), (u'Ninguno', 0.4), (u'Problemas laborales y familiares de la mujer', 0.3), (u'La salud', 0.2), (u'El futuro de los hijos', 0.2), (u'Acuerdos pesqueros', 0.2)]"
       ]
      },
      {
       "output_type": "stream",
       "stream": "stdout",
       "text": [
        "\n",
        "\n",
        "BAR\u00d3METRO ABRIL 2001 , date: 2001-04-20 00:00:00 , doc_type: text/html\n",
        "URL: http://www.cis.es/cis/export/sites/default/-Archivos/Marginales/2400_2419/2415/e241500.html\n",
        "en\u00a0Espa\u00f1a?\u00a0(M\u00c1XIMO\u00a0TRES\u00a0RESPUESTAS)."
       ]
      },
      {
       "output_type": "stream",
       "stream": "stdout",
       "text": [
        "\n",
        "-------------------------------------------------\n",
        "Question: P1\u00a0\u00a0Para\u00a0empezar,\u00a0\u00bfcu\u00e1les\u00a0son,\u00a0a\u00a0su\u00a0juicio,\u00a0los\u00a0tres\u00a0problemas\u00a0principales\u00a0que\u00a0existen\u00a0actualmente en\u00a0Espa\u00f1a?\u00a0(M\u00c1XIMO\u00a0TRES\u00a0RESPUESTAS).\n",
        "-------------------------------------------------\n",
        "[(u'Paro', 63.2), (u'Terrorismo, ETA', 63.0), (u'Droga, alcoholismo', 17.5), (u'Inmigraci\\xf3n', 15.9), (u'Delincuencia, inseguridad ciudadana', 9.4), (u'Problemas econ\\xf3micos', 9.2), (u'Problemas pol\\xedticos', 5.8), (u'N.S.', 5.2), (u'Sistema educativo', 4.5), (u'Las pensiones', 4.3), (u'Otras respuestas', 4.3), (u'Problemas sociales', 4.0), (u'Sanidad', 3.9), (u'Los problemas de la ganader\\xeda y la alimentaci\\xf3n', 3.4), (u'Vivienda', 2.9), (u'D\\xe9ficit de valores sociales', 2.8), (u'Precariedad en el empleo', 2.5), (u'Contaminaci\\xf3n, medio ambiente', 2.3), (u'Violencia contra la mujer', 2.1), (u'Escasez y/o mal funcionamiento de los servicios p\\xfablicos', 1.9), (u'Problemas de la juventud', 1.8), (u'La actuaci\\xf3n judicial', 1.6), (u'Racismo', 1.3), (u'Problemas derivados de las autonom\\xedas', 0.8), (u'Acuerdos pesqueros', 0.8), (u'Problemas laborales y familiares de la mujer', 0.8), (u'Problemas de la agricultura', 0.6), (u'La salud', 0.5), (u'N.C.', 0.5), (u'El futuro de los hijos', 0.3), (u'Subida de los carburantes', 0.2), (u'Ninguno', 0.2)]"
       ]
      },
      {
       "output_type": "stream",
       "stream": "stdout",
       "text": [
        "\n",
        "\n",
        "BAR\u00d3METRO MARZO 2001 , date: 2001-03-19 00:00:00 , doc_type: text/html\n",
        "URL: http://www.cis.es/cis/export/sites/default/-Archivos/Marginales/2400_2419/2411/e241100.html\n",
        "en\u00a0Espa\u00f1a?\u00a0(M\u00c1XIMO\u00a0TRES\u00a0RESPUESTAS)."
       ]
      },
      {
       "output_type": "stream",
       "stream": "stdout",
       "text": [
        "\n",
        "-------------------------------------------------\n",
        "Question: P1\u00a0\u00a0Para\u00a0empezar,\u00a0\u00bfcu\u00e1les\u00a0son,\u00a0a\u00a0su\u00a0juicio,\u00a0los\u00a0tres\u00a0problemas\u00a0principales\u00a0que\u00a0existen\u00a0actualmente en\u00a0Espa\u00f1a?\u00a0(M\u00c1XIMO\u00a0TRES\u00a0RESPUESTAS).\n",
        "-------------------------------------------------\n",
        "[(u'Terrorismo, ETA', 70.2), (u'Paro', 57.0), (u'Inmigraci\\xf3n', 15.9), (u'Los problemas de la ganader\\xeda y la alimentaci\\xf3n', 15.5), (u'Droga, alcoholismo', 13.3), (u'Delincuencia, inseguridad ciudadana', 9.3), (u'Problemas econ\\xf3micos', 5.5), (u'N.S.', 5.5), (u'Problemas pol\\xedticos', 5.4), (u'Violencia contra la mujer', 4.4), (u'Sanidad', 3.2), (u'Problemas sociales', 3.0), (u'Sistema educativo', 3.0), (u'Otras respuestas', 2.8), (u'Contaminaci\\xf3n, medio ambiente', 2.6), (u'Las pensiones', 2.3), (u'Vivienda', 2.0), (u'D\\xe9ficit de valores sociales', 2.0), (u'Precariedad en el empleo', 1.9), (u'La actuaci\\xf3n judicial', 1.6), (u'Problemas de la juventud', 1.5), (u'Racismo', 1.1), (u'La salud', 0.8), (u'Escasez y/o mal funcionamiento de los servicios p\\xfablicos', 0.6), (u'Los problemas laborales y familiares de las mujeres', 0.6), (u'Problemas derivados de las autonom\\xedas', 0.5), (u'Subida de los carburantes', 0.4), (u'N.C.', 0.4), (u'Problemas de la agricultura', 0.2), (u'Ninguno', 0.2), (u'El futuro de los hijos', 0.1), (u'Los acuerdos pesqueros', 0.1)]"
       ]
      },
      {
       "output_type": "stream",
       "stream": "stdout",
       "text": [
        "\n",
        "\n",
        "BAR\u00d3METRO FEBRERO 2001 , date: 2001-02-17 00:00:00 , doc_type: text/html\n",
        "URL: http://www.cis.es/cis/export/sites/default/-Archivos/Marginales/2400_2419/2409/e240900.html\n",
        "en\u00a0Espa\u00f1a?\u00a0(M\u00c1XIMO\u00a0TRES\u00a0RESPUESTAS)."
       ]
      },
      {
       "output_type": "stream",
       "stream": "stdout",
       "text": [
        "\n",
        "-------------------------------------------------\n",
        "Question: P1\u00a0\u00a0Para\u00a0empezar,\u00a0\u00bfcu\u00e1les\u00a0son,\u00a0a\u00a0su\u00a0juicio,\u00a0los\u00a0tres\u00a0problemas\u00a0principales\u00a0que\u00a0existen\u00a0actualmente en\u00a0Espa\u00f1a?\u00a0(M\u00c1XIMO\u00a0TRES\u00a0RESPUESTAS).\n",
        "-------------------------------------------------\n",
        "[(u'Paro', 63.3), (u'Terrorismo, ETA', 61.8), (u'Inmigraci\\xf3n', 29.4), (u'Droga, alcoholismo', 14.8), (u'El problema de las vacas locas', 8.6), (u'Delincuencia, inseguridad ciudadana', 8.0), (u'Problemas econ\\xf3micos', 6.4), (u'Problemas pol\\xedticos', 5.3), (u'N.S.', 5.0), (u'Problemas sociales', 4.7), (u'Sanidad', 3.1), (u'Sistema educativo', 2.4), (u'Vivienda', 2.2), (u'La actuaci\\xf3n judicial', 2.1), (u'Contaminaci\\xf3n, medio ambiente', 2.1), (u'Violencia contra la mujer', 2.0), (u'Las pensiones', 1.9), (u'D\\xe9ficit de valores sociales', 1.9), (u'Precariedad en el empleo', 1.8), (u'Otras respuestas', 1.6), (u'Racismo', 1.4), (u'Problemas de la juventud', 0.7), (u'La salud', 0.7), (u'Escasez y/o mal funcionamiento de los servicios p\\xfablicos', 0.6), (u'Problemas derivados de las autonom\\xedas', 0.6), (u'Ninguno', 0.5), (u'Subida de los carburantes', 0.3), (u'El futuro de los hijos', 0.3), (u'Problemas de la agricultura', 0.2), (u'N.C.', 0.2), (u'Acuerdos pesqueros', 0.0)]"
       ]
      },
      {
       "output_type": "stream",
       "stream": "stdout",
       "text": [
        "\n",
        "\n",
        "BAR\u00d3METRO ENERO 2001 , date: 2001-01-18 00:00:00 , doc_type: text/html\n",
        "URL: http://www.cis.es/cis/export/sites/default/-Archivos/Marginales/2400_2419/2406/e240600.html\n",
        "Espa\u00f1a?\u00a0(M\u00c1XIMO\u00a0TRES\u00a0RESPUESTAS)."
       ]
      },
      {
       "output_type": "stream",
       "stream": "stdout",
       "text": [
        "\n",
        "-------------------------------------------------\n",
        "Question: Para\u00a0empezar,\u00a0\u00bfcu\u00e1les\u00a0son,\u00a0a\u00a0su\u00a0juicio,\u00a0los\u00a0tres\u00a0problemas\u00a0principales\u00a0que\u00a0existen\u00a0actualmente\u00a0en Espa\u00f1a?\u00a0(M\u00c1XIMO\u00a0TRES\u00a0RESPUESTAS).\n",
        "-------------------------------------------------\n",
        "[(u'Terrorismo, ETA', 65.9), (u'Paro', 56.0), (u\"'Vacas locas'\", 20.2), (u'Inmigraci\\xf3n', 16.5), (u'Droga, alcoholismo', 12.3), (u'Delincuencia, inseguridad ciudadana', 8.4), (u'Problemas econ\\xf3micos', 8.2), (u'N.S.', 5.6), (u'Problemas pol\\xedticos', 4.8), (u'Otras respuestas', 4.5), (u'Sanidad', 4.3), (u'Problemas sociales', 3.8), (u'Precariedad en el empleo', 2.9), (u'Vivienda', 2.8), (u'Las pensiones', 2.7), (u'La actuaci\\xf3n judicial', 2.5), (u'Sistema educativo', 2.4), (u'Violencia contra la mujer', 2.3), (u'D\\xe9ficit de valores sociales', 2.1), (u'Contaminaci\\xf3n, medio ambiente', 1.6), (u'Problemas de la juventud', 1.3), (u'Racismo', 0.9), (u'La salud', 0.9), (u'Subida de los carburantes', 0.8), (u'Problemas derivados de las autonom\\xedas', 0.8), (u'Problemas de la agricultura', 0.7), (u'N.C.', 0.6), (u'Escasez y/o mal funcionamiento de los servicios p\\xfablicos', 0.5), (u'Ninguno', 0.3), (u'El futuro de los hijos', 0.2)]"
       ]
      },
      {
       "output_type": "stream",
       "stream": "stdout",
       "text": [
        "\n",
        "\n",
        "BAR\u00d3METRO DICIEMBRE 2000: EXPECTATIVAS 2001 , date: 2000-12-16 00:00:00 , doc_type: text/html\n",
        "URL: http://www.cis.es/cis/export/sites/default/-Archivos/Marginales/2400_2419/2405/e240500.html\n",
        "en\u00a0Espa\u00f1a?\u00a0(M\u00c1XIMO\u00a0TRES\u00a0RESPUESTAS)."
       ]
      },
      {
       "output_type": "stream",
       "stream": "stdout",
       "text": [
        "\n",
        "-------------------------------------------------\n",
        "Question: P1\u00a0\u00a0Para\u00a0empezar,\u00a0\u00bfcu\u00e1les\u00a0son,\u00a0a\u00a0su\u00a0juicio,\u00a0los\u00a0tres\u00a0problemas\u00a0principales\u00a0que\u00a0existen\u00a0actualmente en\u00a0Espa\u00f1a?\u00a0(M\u00c1XIMO\u00a0TRES\u00a0RESPUESTAS).\n",
        "-------------------------------------------------\n",
        "[(u'Terrorismo, ETA', 77.0), (u'Paro', 59.9), (u'Droga, alcoholismo', 15.2), (u'Problemas econ\\xf3micos', 11.7), (u'Inmigraci\\xf3n', 9.9), (u'Delincuencia, inseguridad ciudadana', 9.4), (u'Problemas sociales', 5.8), (u'Otras respuestas', 4.9), (u'Problemas pol\\xedticos', 4.8), (u'N.S.', 4.4), (u'Sistema educativo', 3.3), (u'Sanidad', 3.2), (u'Vivienda', 2.9), (u'Las pensiones', 2.9), (u'D\\xe9ficit de valores sociales', 2.7), (u'Precariedad en el empleo', 2.3), (u'Violencia contra la mujer', 2.3), (u'Contaminaci\\xf3n, medio ambiente', 2.0), (u'Problemas de la juventud', 1.5), (u\"'Vacas locas\", 1.4), (u'Escasez y/o mal funcionamiento de los servicios p\\xfablicos', 1.2), (u'Subida de los carburantes', 1.1), (u'Racismo', 1.1), (u'La actuaci\\xf3n judicial', 0.9), (u'Problemas de la agricultura', 0.7), (u'Problemas derivados de las autonom\\xedas', 0.7), (u'La salud', 0.6), (u'N.C.', 0.4), (u'El futuro de los hijos', 0.2), (u'Ninguno', 0.1)]"
       ]
      },
      {
       "output_type": "stream",
       "stream": "stdout",
       "text": [
        "\n",
        "\n",
        "BAR\u00d3METRO NOVIEMBRE 2000 , date: 2000-11-23 00:00:00 , doc_type: text/html\n",
        "URL: http://www.cis.es/cis/export/sites/default/-Archivos/Marginales/2400_2419/2402/e240200.html\n",
        "en\u00a0Espa\u00f1a?\u00a0(M\u00c1XIMO\u00a0TRES\u00a0RESPUESTAS)."
       ]
      },
      {
       "output_type": "stream",
       "stream": "stdout",
       "text": [
        "\n",
        "-------------------------------------------------\n",
        "Question: P1\u00a0\u00a0Para\u00a0empezar,\u00a0\u00bfcu\u00e1les\u00a0son,\u00a0a\u00a0su\u00a0juicio,\u00a0los\u00a0tres\u00a0problemas\u00a0principales\u00a0que\u00a0existen\u00a0actualmente en\u00a0Espa\u00f1a?\u00a0(M\u00c1XIMO\u00a0TRES\u00a0RESPUESTAS).\n",
        "-------------------------------------------------\n",
        "[(u'Terrorismo, ETA', 80.1), (u'Paro', 63.1), (u'Droga, alcoholismo', 14.9), (u'Problemas econ\\xf3micos', 12.9), (u'Delincuencia, inseguridad ciudadana', 9.2), (u'Problemas pol\\xedticos', 5.9), (u'Subida de los carburantes', 5.5), (u'Inmigraci\\xf3n', 5.4), (u'Problemas sociales', 5.1), (u'Sanidad', 4.7), (u'Sistema educativo', 3.7), (u'Violencia contra la mujer', 3.5), (u'Las pensiones', 3.2), (u'Vivienda', 2.5), (u'Otras respuestas', 2.4), (u'D\\xe9ficit de valores sociales', 2.3), (u'Contaminaci\\xf3n, medio ambiente', 1.9), (u'Precariedad en el empleo', 1.4), (u'Problemas de la juventud', 1.4), (u'N.S.', 1.3), (u'La actuaci\\xf3n judicial', 1.2), (u'Problemas derivados de las autonom\\xedas', 1.0), (u'Racismo', 1.0), (u\"'Vacas locas\", 1.0), (u'Escasez y/o mal funcionamiento de los servicios p\\xfablicos', 0.9), (u'Problemas de la agricultura', 0.7), (u'La salud', 0.6), (u'Ninguno', 0.5), (u'N.C.', 0.5), (u'El futuro de los hijos', 0.3)]"
       ]
      },
      {
       "output_type": "stream",
       "stream": "stdout",
       "text": [
        "\n",
        "BAR\u00d3METRO OCTUBRE 2000 , date: 2000-10-17 00:00:00 , doc_type: application/pdf\n",
        "Under construction.\n",
        "\n",
        "BAR\u00d3METRO SEPTIEMBRE 2000 , date: 2000-09-23 00:00:00 , doc_type: text/html\n",
        "URL: http://www.cis.es/cis/export/sites/default/-Archivos/Marginales/2380_2399/2398/e239800.html\n",
        "existen\u00a0actualmente\u00a0en\u00a0Espa\u00f1a?\u00a0(M\u00c1XIMO\u00a0TRES\u00a0RESPUESTAS)"
       ]
      },
      {
       "output_type": "stream",
       "stream": "stdout",
       "text": [
        "\n",
        "-------------------------------------------------\n",
        "Question: Para\u00a0empezar,\u00a0me\u00a0gustar\u00eda\u00a0saber\u00a0\u00bfcu\u00e1les\u00a0son,\u00a0a\u00a0su\u00a0juicio,\u00a0los\u00a0tres\u00a0problemas\u00a0principales\u00a0queexisten\u00a0actualmente\u00a0en\u00a0Espa\u00f1a?\u00a0(M\u00c1XIMO\u00a0TRES\u00a0RESPUESTAS) existen\u00a0actualmente\u00a0en\u00a0Espa\u00f1a?\u00a0(M\u00c1XIMO\u00a0TRES\u00a0RESPUESTAS)\n",
        "-------------------------------------------------\n",
        "[(u'Terrorismo, ETA', 65.5), (u'Paro', 59.8), (u'Droga, alcoholismo', 14.7), (u'Problemas econ\\xf3micos', 14.2), (u'Subida de los carburantes', 13.2), (u'Delincuencia, inseguridad ciudadana', 10.4), (u'Inmigraci\\xf3n', 6.3), (u'N.S.', 5.6), (u'Problemas pol\\xedticos', 5.4), (u'Problemas sociales', 4.1), (u'Sanidad', 3.9), (u'Sistema educativo', 3.9), (u'Contaminaci\\xf3n, medio ambiente', 3.1), (u'Vivienda', 2.8), (u'Las pensiones', 2.6), (u'D\\xe9ficit de valores sociales', 2.2), (u'Racismo', 1.8), (u'Problemas de la agricultura', 1.6), (u'Precariedad en el empleo', 1.4), (u'Violencia contra la mujer', 1.3), (u'Problemas de la juventud', 1.3), (u'Escasez y/o mal funcionamiento de los servicios p\\xfablicos', 1.2), (u'Problemas derivados de las autonom\\xedas', 1.2), (u'La actuaci\\xf3n judicial', 1.2), (u'Otras respuestas', 0.6), (u'N.C.', 0.4), (u'La salud', 0.3), (u'El futuro de los hijos', 0.2), (u'Ninguno', 0.0)]"
       ]
      },
      {
       "output_type": "stream",
       "stream": "stdout",
       "text": [
        "\n",
        "\n",
        "BAR\u00d3METRO JULIO 2000 , date: 2000-07-13 00:00:00 , doc_type: text/html\n",
        "URL: http://www.cis.es/cis/export/sites/default/-Archivos/Marginales/2380_2399/2396/e239600.html\n",
        "programas\u00a0cu\u00e1les\u00a0son\u00a0los\u00a0que\u00a0m\u00e1s\u00a0le\u00a0suelen\u00a0gustar?\u00a0(M\u00c1XIMO\u00a0DOS\u00a0RESPUESTA)."
       ]
      },
      {
       "output_type": "stream",
       "stream": "stdout",
       "text": [
        "\n",
        "de\u00a0programas\u00a0cu\u00e1les\u00a0son\u00a0los\u00a0que\u00a0m\u00e1s\u00a0le\u00a0suelen\u00a0gustar?\u00a0(M\u00c1XIMO\u00a0DOS\u00a0RESPUESTAS).\n",
        "Question words:"
       ]
      },
      {
       "output_type": "stream",
       "stream": "stdout",
       "text": [
        " [[u'principal', False], [u'problema', False], [u'existe', False], [u'actualmente', False]] not found\n",
        "No results.\n",
        "\n",
        "BAR\u00d3METRO JUNIO 2000 , date: 2000-06-23 00:00:00 , doc_type: text/html\n",
        "URL: http://www.cis.es/cis/export/sites/default/-Archivos/Marginales/2380_2399/2394/e239400.html\n",
        "Question words:"
       ]
      },
      {
       "output_type": "stream",
       "stream": "stdout",
       "text": [
        " [[u'principal', False], [u'problema', False], [u'existe', False], [u'actualmente', False]] not found\n",
        "No results.\n",
        "BAR\u00d3METRO MAYO 2000: UNI\u00d3N EUROPEA , date: 2000-05-26 00:00:00 , doc_type: application/pdf\n",
        "Under construction.\n",
        "\n",
        "BAR\u00d3METRO ABRIL 2000 , date: 2000-04-29 00:00:00 , doc_type: text/html\n",
        "URL: http://www.cis.es/cis/export/sites/default/-Archivos/Marginales/2380_2399/2389/e238900.html\n",
        "Question words:"
       ]
      },
      {
       "output_type": "stream",
       "stream": "stdout",
       "text": [
        " [[u'principal', False], [u'problema', False], [u'existe', False], [u'actualmente', False]] not found\n",
        "No results.\n",
        "BAR\u00d3METRO MARZO 2000: CULTURA POL\u00cdTICA , date: 2000-03-24 00:00:00 , doc_type: application/pdf\n",
        "Under construction.\n",
        "\n",
        "BAR\u00d3METRO FEBRERO 2000 , date: 2000-02-25 00:00:00 , doc_type: text/html\n",
        "URL: http://www.cis.es/cis/export/sites/default/-Archivos/Marginales/2380_2399/2383/e238300.html\n",
        "manera\u00a0inmediata?\u00a0(M\u00c1XIMO\u00a0TRES\u00a0RESPUESTAS)."
       ]
      },
      {
       "output_type": "stream",
       "stream": "stdout",
       "text": [
        "\n",
        "Question words:"
       ]
      },
      {
       "output_type": "stream",
       "stream": "stdout",
       "text": [
        " [[u'principal', False], [u'problema', False], [u'existe', False], [u'actualmente', False]] not found\n",
        "No results.\n",
        "\n",
        "BAR\u00d3METRO ENERO 2000 , date: 2000-01-27 00:00:00 , doc_type: text/html\n",
        "URL: http://www.cis.es/cis/export/sites/default/-Archivos/Marginales/2380_2399/2381/e238100.html\n",
        "razones\u00a0m\u00e1s\u00a0importantes\u00a0para\u00a0admitir\u00a0a\u00a0Polonia\u00a0en\u00a0la\u00a0Uni\u00f3n\u00a0Europea?\u00a0(M\u00c1XIMO\u00a0DOS\u00a0RESPUESTAS)."
       ]
      },
      {
       "output_type": "stream",
       "stream": "stdout",
       "text": [
        "\n",
        "razones\u00a0m\u00e1s\u00a0importantes\u00a0para\u00a0rechazar\u00a0la\u00a0incorporaci\u00f3n\u00a0de\u00a0Polonia\u00a0a\u00a0la\u00a0Uni\u00f3n\u00a0Europea?\u00a0(M\u00c1XIMO\u00a0DOS\n",
        "Question words:"
       ]
      },
      {
       "output_type": "stream",
       "stream": "stdout",
       "text": [
        " [[u'principal', False], [u'problema', False], [u'existe', False], [u'actualmente', False]] not found\n",
        "No results.\n",
        "\n",
        "BAR\u00d3METRO DICIEMBRE 1999: EXPECTATIVAS 2000 , date: 1999-12-16 00:00:00 , doc_type: text/html\n",
        "URL: http://www.cis.es/cis/export/sites/default/-Archivos/Marginales/2360_2379/2377/e237700.html\n",
        "siguientes\u00a0le\u00a0producen\u00a0a\u00a0Ud.\u00a0mayor\u00a0satisfacci\u00f3n\u00a0en\u00a0estos\u00a0momentos?\u00a0(SE\u00d1ALAR\u00a0M\u00c1XIMO\u00a0DOS)."
       ]
      },
      {
       "output_type": "stream",
       "stream": "stdout",
       "text": [
        "\n",
        "pr\u00f3ximos\u00a0a\u00f1os?\u00a0(M\u00c1XIMOS\u00a0DOS\u00a0RESPUESTAS)."
       ]
      },
      {
       "output_type": "stream",
       "stream": "stdout",
       "text": [
        "\n",
        "tecnol\u00f3gicos\u00a0en\u00a0los\u00a0pr\u00f3ximos\u00a0a\u00f1os?\u00a0(M\u00c1XIMO\u00a0TRES\u00a0RESPUESTAS).\n",
        "desarrollo\u00a0cient\u00edfico\u00a0y\u00a0tecnol\u00f3gico\u00a0en\u00a0los\u00a0pr\u00f3ximos\u00a0a\u00f1os?\u00a0(M\u00c1XIMO\u00a0TRES\u00a0RESPUESTAS)."
       ]
      },
      {
       "output_type": "stream",
       "stream": "stdout",
       "text": [
        "\n",
        "Question words:"
       ]
      },
      {
       "output_type": "stream",
       "stream": "stdout",
       "text": [
        " [[u'principal', False], [u'problema', False], [u'existe', False], [u'actualmente', False]] not found\n",
        "No results.\n",
        "BAR\u00d3METRO NOVIEMBRE 1999 , date: 1999-11-26 00:00:00 , doc_type: application/pdf\n",
        "Under construction.\n",
        "BAR\u00d3METRO OCTUBRE 1999 , date: 1999-10-22 00:00:00 , doc_type: application/pdf\n",
        "Under construction.\n",
        "BAR\u00d3METRO SEPTIEMBRE 1999 , date: 1999-09-24 00:00:00 , doc_type: application/pdf\n",
        "Under construction.\n",
        "BAR\u00d3METRO JULIO 1999 , date: 1999-07-09 00:00:00 , doc_type: application/pdf\n",
        "Under construction.\n",
        "BAR\u00d3METRO JUNIO 1999 , date: 1999-06-26 00:00:00 , doc_type: application/pdf\n",
        "Under construction.\n",
        "BAR\u00d3METRO MAYO 1999: UNI\u00d3N EUROPEA , date: 1999-05-27 00:00:00 , doc_type: application/pdf\n",
        "Under construction.\n",
        "\n",
        "BAR\u00d3METRO ABRIL 1999 , date: 1999-04-24 00:00:00 , doc_type: text/html\n",
        "URL: http://www.cis.es/cis/export/sites/default/-Archivos/Marginales/2320_2339/2324/e232400.html\n",
        "P13\u00a0\u00a0Y,\u00a0de\u00a0manera\u00a0habitual,\u00a0\u00bfqu\u00e9\u00a0tipo\u00a0de\u00a0revistas\u00a0suele\u00a0leer\u00a0Ud.?\u00a0(M\u00c1XIMO\u00a0DOS\u00a0RESPUESTAS)"
       ]
      },
      {
       "output_type": "stream",
       "stream": "stdout",
       "text": [
        "\n",
        "exceptuando\u00a0los\u00a0que\u00a0requiera\u00a0para\u00a0su\u00a0trabajo?\u00a0\u00a0(M\u00c1XIMO\u00a0DOS\u00a0RESPUESTAS)\n",
        "P16\u00a0\u00a0\u00bfQu\u00e9\u00a0tipo\u00a0de\u00a0m\u00fasica\u00a0suele\u00a0Ud.\u00a0escuchar\u00a0con\u00a0m\u00e1s\u00a0frecuencia?\u00a0(M\u00c1XIMO\u00a0DOS\u00a0RESPUESTAS)\n",
        "P19\u00a0\u00a0\u00bfQu\u00e9\u00a0dos\u00a0tipos\u00a0de\u00a0pel\u00edculas\u00a0le\u00a0gustan\u00a0m\u00e1s?\u00a0(M\u00c1XIMO\u00a0DOS\u00a0RESPUESTAS).\n",
        "P21\u00a0\u00a0\u00bfPractica\u00a0Ud.\u00a0alguna\u00a0afici\u00f3n\u00a0art\u00edstica\u00a0de\u00a0las\u00a0que\u00a0aparecen\u00a0en\u00a0esta\u00a0tarjeta?\u00a0(M\u00c1XIMO\u00a0DOS\n",
        "centro?\u00a0(M\u00c1XIMO\u00a0DOS\u00a0RESPUESTAS)"
       ]
      },
      {
       "output_type": "stream",
       "stream": "stdout",
       "text": [
        "\n",
        "Question words:"
       ]
      },
      {
       "output_type": "stream",
       "stream": "stdout",
       "text": [
        " [[u'principal', False], [u'problema', False], [u'existe', False], [u'actualmente', False]] not found\n",
        "No results.\n",
        "BAR\u00d3METRO MARZO 1999 , date: 1999-03-24 00:00:00 , doc_type: application/pdf\n",
        "Under construction.\n",
        "BAR\u00d3METRO FEBRERO 1999 , date: 1999-02-24 00:00:00 , doc_type: application/pdf\n",
        "Under construction.\n",
        "\n",
        "BAR\u00d3METRO ENERO 1999 , date: 1999-01-27 00:00:00 , doc_type: text/html\n",
        "URL: http://www.cis.es/cis/export/sites/default/-Archivos/Marginales/2300_2319/2316/e231600.html\n",
        "Question words:"
       ]
      },
      {
       "output_type": "stream",
       "stream": "stdout",
       "text": [
        " [[u'principal', False], [u'problema', False], [u'existe', False], [u'actualmente', False]] not found\n",
        "No results.\n",
        "\n",
        "BAR\u00d3METRO DICIEMBRE 1998: EXPECTATIVAS 1999 , date: 1998-12-18 00:00:00 , doc_type: text/html\n",
        "URL: http://www.cis.es/cis/export/sites/default/-Archivos/Marginales/2300_2319/2313/e231300.html\n",
        "le producen a Ud. una mayor satisfacci\u00f3n en estos momentos. (SE\u00d1ALAR M\u00c1XIMO DOS)."
       ]
      },
      {
       "output_type": "stream",
       "stream": "stdout",
       "text": [
        "\n",
        "PEOR (3 en P19). \u00bfY en qu\u00e9 aspectos cree Ud. que empeorar\u00e1? (M\u00c1XIMO DOS RESPUESTAS).\n",
        "MEJOR (1 en P19). \u00bfY en qu\u00e9 aspectos cree Ud. que mejorar\u00e1? (M\u00c1XIMO DOS RESPUESTAS).\n",
        "objetivos de la sociedad espa\u00f1ola en los pr\u00f3ximos a\u00f1os? (M\u00c1XIMO DOS RESPUESTAS).\n",
        "Question words:"
       ]
      },
      {
       "output_type": "stream",
       "stream": "stdout",
       "text": [
        " [[u'principal', False], [u'problema', False], [u'existe', False], [u'actualmente', False]] not found\n",
        "No results.\n",
        "\n",
        "BAR\u00d3METRO NOVIEMBRE 1998 , date: 1998-11-26 00:00:00 , doc_type: text/html\n",
        "URL: http://www.cis.es/cis/export/sites/default/-Archivos/Marginales/2300_2319/2311/e231100.html\n",
        "Question words:"
       ]
      },
      {
       "output_type": "stream",
       "stream": "stdout",
       "text": [
        " [[u'principal', False], [u'problema', False], [u'existe', False], [u'actualmente', False]] not found\n",
        "No results.\n",
        "\n",
        "BAR\u00d3METRO OCTUBRE 1998 , date: 1998-10-26 00:00:00 , doc_type: text/html\n",
        "URL: http://www.cis.es/cis/export/sites/default/-Archivos/Marginales/2300_2319/2307/e230700.html\n",
        "Question words:"
       ]
      },
      {
       "output_type": "stream",
       "stream": "stdout",
       "text": [
        " [[u'principal', False], [u'problema', False], [u'existe', False], [u'actualmente', False]] not found\n",
        "No results.\n",
        "\n",
        "BAR\u00d3METRO SEPTIEMBRE 1998 , date: 1998-09-25 00:00:00 , doc_type: text/html\n",
        "URL: http://www.cis.es/cis/export/sites/default/-Archivos/Marginales/2300_2319/2303/e230300.html\n",
        "por las que le gustar\u00eda cambiar de empresa y/o puesto de trabajo? (M\u00c1XIMO DOS RESPUESTAS)."
       ]
      },
      {
       "output_type": "stream",
       "stream": "stdout",
       "text": [
        "\n",
        "Question words: [[u'principal', False], [u'problema', False], [u'existe', False], [u'actualmente', False]] not found\n",
        "No results.\n",
        "\n",
        "BAR\u00d3METRO JULIO 1998 , date: 1998-07-09 00:00:00 , doc_type: text/html\n",
        "URL: http://www.cis.es/cis/export/sites/default/-Archivos/Marginales/2280_2299/2294/e229400.html\n",
        "existen actualmente en Espa\u00f1a? (M\u00c1XIMO TRES RESPUESTAS)."
       ]
      },
      {
       "output_type": "stream",
       "stream": "stdout",
       "text": [
        "\n",
        "-------------------------------------------------\n",
        "Question: Para comenzar, me gustar\u00eda saber \u00bfcu\u00e1les son, a su juicio, los tres problemas principales queexisten actualmente en Espa\u00f1a? (M\u00c1XIMO TRES RESPUESTAS). existen actualmente en Espa\u00f1a? (M\u00c1XIMO TRES RESPUESTAS).\n",
        "-------------------------------------------------\n",
        "[(u'Paro', 81.0), (u'Terrorismo, ETA', 49.7), (u'Drogas. Alcoholismo.', 27.5), (u'Delincuencia, inseguridad ciudadana. Violencia', 13.0), (u'Problemas econ\\xf3micos', 9.6), (u'Servicios p\\xfablicos: escasez, mal funcionamiento (sanidad, vivienda, carreteras, tr\\xe1fico, etc.)', 9.1), (u'Problemas pol\\xedticos', 7.3), (u'N.S.', 5.2), (u'Problemas sociales', 5.1), (u'D\\xe9ficit de valores sociales', 5.0), (u'El sistema educativo', 3.1), (u'Otros', 3.1), (u'Las pensiones', 3.0), (u'Corrupci\\xf3n, fraude', 2.1), (u'Medio ambiente, contaminaci\\xf3n', 2.1), (u'La actuaci\\xf3n judicial', 1.7), (u'Problemas derivados de las autonom\\xedas', 1.3), (u'Problemas de la juventud', 1.0), (u'Problemas relacionados con la UE y la entrada en el Euro', 0.6), (u'La salud', 0.6), (u'N.C.', 0.4), (u'Ninguno', 0.2), (u'La familia', 0.1)]\n",
        "\n",
        "BAR\u00d3METRO JUNIO 1998 , date: 1998-06-20 00:00:00 , doc_type: text/html\n",
        "URL: http://www.cis.es/cis/export/sites/default/-Archivos/Marginales/2280_2299/2291/e229100.html\n",
        "espa\u00f1ola\u00a0que\u00a0m\u00e1s\u00a0le\u00a0han\u00a0llamado\u00a0la\u00a0atenci\u00f3n\u00a0durante\u00a0el\u00a0\u00faltimo\u00a0mes?\u00a0(M\u00c1XIMO\u00a0TRES\u00a0RESPUESTAS)."
       ]
      },
      {
       "output_type": "stream",
       "stream": "stdout",
       "text": [
        "\n",
        "Question words:"
       ]
      },
      {
       "output_type": "stream",
       "stream": "stdout",
       "text": [
        " [[u'principal', False], [u'problema', False], [u'existe', False], [u'actualmente', False]] not found\n",
        "No results.\n",
        "BAR\u00d3METRO MAYO 1998: UNI\u00d3N EUROPEA , date: 1998-05-22 00:00:00 , doc_type: application/pdf\n",
        "Under construction.\n",
        "BAR\u00d3METRO ABRIL 1998 , date: 1998-04-25 00:00:00 , doc_type: application/pdf\n",
        "Under construction.\n",
        "\n",
        "BAR\u00d3METRO MARZO 1998 , date: 1998-03-27 00:00:00 , doc_type: text/html\n",
        "URL: http://www.cis.es/cis/export/sites/default/-Archivos/Marginales/2280_2299/2283/e228300.html\n",
        "existen en Espa\u00f1a actualmente? (M\u00c1XIMO DOS RESPUESTAS)."
       ]
      },
      {
       "output_type": "stream",
       "stream": "stdout",
       "text": [
        "\n",
        "\u00bfY cu\u00e1les son los dos problemas que a Ud., personalmente, le afectan m\u00e1s? (M\u00c1XIMO DOS\n",
        "m\u00e1s le han llamado la atenci\u00f3n? (M\u00c1XIMO DOS RESPUESTAS).\n",
        "hijos o tienen menos hijos de los que en realidad desear\u00edan? (M\u00c1XIMO DOS RESPUESTAS).\n",
        "Question words:"
       ]
      },
      {
       "output_type": "stream",
       "stream": "stdout",
       "text": [
        " [[u'principal', False], [u'problema', False], [u'existe', False], [u'actualmente', False]] not found\n",
        "No results.\n",
        "\n",
        "BAR\u00d3METRO FEBRERO 1998 , date: 1998-02-20 00:00:00 , doc_type: text/html\n",
        "URL: http://www.cis.es/cis/export/sites/default/-Archivos/Marginales/2260_2279/2278/e227800.html\n",
        "motivo/s principal/es por el/los que viaja habitualmente al extranjero? (M\u00c1XIMO DOS RESPUESTAS)."
       ]
      },
      {
       "output_type": "stream",
       "stream": "stdout",
       "text": [
        "\n",
        "Question words:"
       ]
      },
      {
       "output_type": "stream",
       "stream": "stdout",
       "text": [
        " [[u'principal', False], [u'problema', False], [u'existe', False], [u'actualmente', False]] not found\n",
        "No results.\n",
        "\n",
        "BAR\u00d3METRO ENERO 1998 , date: 1998-01-23 00:00:00 , doc_type: text/html\n",
        "URL: http://www.cis.es/cis/export/sites/default/-Archivos/Marginales/2260_2279/2274/e227400.html\n",
        "Question words:"
       ]
      },
      {
       "output_type": "stream",
       "stream": "stdout",
       "text": [
        " [[u'principal', False], [u'problema', False], [u'existe', False], [u'actualmente', False]] not found\n",
        "No results.\n",
        "\n",
        "BAR\u00d3METRO DICIEMBRE 1997: EXPECTATIVAS 1998 , date: 1997-12-17 00:00:00 , doc_type: text/html\n",
        "URL: http://www.cis.es/cis/export/sites/default/-Archivos/Marginales/2260_2279/2271/e227100.html\n",
        "le producen a Ud. una mayor satisfacci\u00f3n en estos momentos. (SE\u00d1ALAR M\u00c1XIMO DOS)."
       ]
      },
      {
       "output_type": "stream",
       "stream": "stdout",
       "text": [
        "\n",
        "\u00bfY en qu\u00e9 aspectos cree Ud. que empeorar\u00e1? (M\u00c1XIMO DOS RESPUESTAS).\n",
        "objetivos de la sociedad espa\u00f1ola en los pr\u00f3ximos a\u00f1os? (M\u00c1XIMO DOS RESPUESTAS).\n",
        "Question words:"
       ]
      },
      {
       "output_type": "stream",
       "stream": "stdout",
       "text": [
        " [[u'principal', False], [u'problema', False], [u'existe', False], [u'actualmente', False]] not found\n",
        "No results.\n",
        "\n",
        "BAR\u00d3METRO NOVIEMBRE 1997 , date: 1997-11-20 00:00:00 , doc_type: text/html\n",
        "URL: http://www.cis.es/cis/export/sites/default/-Archivos/Marginales/2260_2279/2267/e226700.html\n",
        "Principalmente, \u00bfa trav\u00e9s de qu\u00e9 medios ha adquirido este conocimiento? (M\u00c1XIMO DOS RESPUESTAS)."
       ]
      },
      {
       "output_type": "stream",
       "stream": "stdout",
       "text": [
        "\n",
        "situaciones de emergencia? (M\u00c1XIMO DOS RESPUESTAS).\n",
        "\u00bfA trav\u00e9s de qu\u00e9 medios le lleg\u00f3 esa informaci\u00f3n? (M\u00c1XIMO DOS RESPUESTAS).\n",
        "Question words:"
       ]
      },
      {
       "output_type": "stream",
       "stream": "stdout",
       "text": [
        " [[u'principal', False], [u'problema', False], [u'existe', False], [u'actualmente', False]] not found\n",
        "No results.\n",
        "\n",
        "BAR\u00d3METRO OCTUBRE 1997 , date: 1997-10-24 00:00:00 , doc_type: text/html\n",
        "URL: http://www.cis.es/cis/export/sites/default/-Archivos/Marginales/2260_2279/2264/e226400.html\n",
        "A su juicio, \u00bfcu\u00e1les son los tres problemas principales que existen actualmente en Espa\u00f1a? (M\u00c1XIMO"
       ]
      },
      {
       "output_type": "stream",
       "stream": "stdout",
       "text": [
        "\n",
        "-------------------------------------------------\n",
        "Question: A su juicio, \u00bfcu\u00e1les son los tres problemas principales que existen actualmente en Espa\u00f1a? (M\u00c1XIMO A su juicio, \u00bfcu\u00e1les son los tres problemas principales que existen actualmente en Espa\u00f1a? (M\u00c1XIMO\n",
        "-------------------------------------------------\n",
        "[(u'El paro', 85.3), (u'El terrorismo', 33.4), (u'La droga', 29.2), (u'La delincuencia e inseguridad ciudadana', 14.6), (u'La situaci\\xf3n econ\\xf3mica (carest\\xeda, sueldos, impuestos)', 12.8), (u'La escasez y mal funcionamiento de los servicios p\\xfablicos', 12.6), (u'Los problemas sociales (falta de servicios y ayudas)', 9.6), (u'Los problemas pol\\xedticos', 8.5), (u'La crisis de valores (racismo, incomunicaci\\xf3n)', 6.0), (u'Otros problemas', 5.3), (u'N.S.', 4.5), (u'El sistema educativo', 4.2), (u'La corrupci\\xf3n y el fraude', 3.0), (u'Las actuaciones judiciales', 2.2), (u'N.C.', 0.7), (u'Ninguno', 0.0)]\n",
        "\n",
        "BAR\u00d3METRO SEPTIEMBRE 1997 , date: 1997-09-26 00:00:00 , doc_type: text/html\n",
        "URL: http://www.cis.es/cis/export/sites/default/-Archivos/Marginales/2240_2259/2259/e225900.html\n",
        "a elegir esta zona para sus vacaciones? (M\u00c1XIMO TRES RESPUESTAS)."
       ]
      },
      {
       "output_type": "stream",
       "stream": "stdout",
       "text": [
        "\n",
        "trasladarse al lugar donde ha pasado (pasar\u00e1) sus vacaciones principales? (M\u00c1XIMO DOS RESPUESTAS).\n",
        "Question words:"
       ]
      },
      {
       "output_type": "stream",
       "stream": "stdout",
       "text": [
        " [[u'principal', False], [u'problema', False], [u'existe', False], [u'actualmente', False]] not found\n",
        "No results.\n",
        "\n",
        "BAR\u00d3METRO JULIO 1997 , date: 1997-07-11 00:00:00 , doc_type: text/html\n",
        "URL: http://www.cis.es/cis/export/sites/default/-Archivos/Marginales/2240_2259/2254/e225400.html\n",
        "Question words:"
       ]
      },
      {
       "output_type": "stream",
       "stream": "stdout",
       "text": [
        " [[u'principal', False], [u'problema', False], [u'existe', False], [u'actualmente', False]] not found\n",
        "No results.\n",
        "\n",
        "BAR\u00d3METRO JUNIO 1997 , date: 1997-06-20 00:00:00 , doc_type: text/html\n",
        "URL: http://www.cis.es/cis/export/sites/default/-Archivos/Marginales/2240_2259/2252/e225200.html\n",
        "principales que le han llevado a elegir esta zona para sus vacaciones? (M\u00c1XIMO TRES RESPUESTAS)."
       ]
      },
      {
       "output_type": "stream",
       "stream": "stdout",
       "text": [
        "\n",
        "Question words:"
       ]
      },
      {
       "output_type": "stream",
       "stream": "stdout",
       "text": [
        " [[u'principal', False], [u'problema', False], [u'existe', False], [u'actualmente', False]] not found\n",
        "No results.\n",
        "\n",
        "BAR\u00d3METRO MAYO 1997 , date: 1997-05-23 00:00:00 , doc_type: text/html\n",
        "URL: http://www.cis.es/cis/export/sites/default/-Archivos/Marginales/2240_2259/2248/e224800.html\n",
        "Question words:"
       ]
      },
      {
       "output_type": "stream",
       "stream": "stdout",
       "text": [
        " [[u'principal', False], [u'problema', False], [u'existe', False], [u'actualmente', False]] not found\n",
        "No results.\n",
        "\n",
        "BAR\u00d3METRO ABRIL 1997 , date: 1997-04-23 00:00:00 , doc_type: text/html\n",
        "URL: http://www.cis.es/cis/export/sites/default/-Archivos/Marginales/2240_2259/2244/e224400.html\n",
        "preocupan a las personas mayores? (M\u00c1XIMO TRES RESPUESTAS)."
       ]
      },
      {
       "output_type": "stream",
       "stream": "stdout",
       "text": [
        "\n",
        "Question words:"
       ]
      },
      {
       "output_type": "stream",
       "stream": "stdout",
       "text": [
        " [[u'principal', False], [u'problema', False], [u'existe', False], [u'actualmente', False]] not found\n",
        "No results.\n",
        "\n",
        "BAR\u00d3METRO MARZO 1997 , date: 1997-03-19 00:00:00 , doc_type: text/html\n",
        "URL: http://www.cis.es/cis/export/sites/default/-Archivos/Marginales/2240_2259/2242/e224200.html\n",
        "[(u'Paro', 81.3), (u'Terrorismo, etc.', 32.6), (u'Droga', 23.5), (u'Problemas pol\\xedticos (el Gobierno, la pol\\xedtica)', 14.4), (u'Problemas sociales (falta de servicios y ayudas sociales)', 13.5), (u'Servicios p\\xfablicos (escasez, mal funcionamiento)', 12.4), (u'Delincuencia e inseguridad ciudadana', 11.8), (u'La situaci\\xf3n econ\\xf3mica (carest\\xeda, precios, sueldos, etc.)', 11.1), (u'Problemas del medio ambiente (contaminaci\\xf3n, desertizaci\\xf3n, incendios, etc.)', 5.7), (u'N.S.', 3.5), (u'Otros', 3.4), (u'La actuaci\\xf3n judicial (lentitud, errores, etc.)', 2.8), (u'N.C.', 1.0)]"
       ]
      },
      {
       "output_type": "stream",
       "stream": "stdout",
       "text": [
        "\n",
        "\n",
        "BAR\u00d3METRO FEBRERO 1997 , date: 1997-02-22 00:00:00 , doc_type: text/html\n",
        "URL: http://www.cis.es/cis/export/sites/default/-Archivos/Marginales/2220_2239/2238/e223800.html\n",
        "programas cu\u00e1les son los que m\u00e1s le suelen gustar? (M\u00c1XIMO DOS RESPUESTAS)."
       ]
      },
      {
       "output_type": "stream",
       "stream": "stdout",
       "text": [
        "\n",
        "programas cu\u00e1les son los que m\u00e1s le suelen gustar? (M\u00c1XIMO DOS RESPUESTAS).\n",
        "sido los acontecimientos de la vida p\u00fablica espa\u00f1ola que m\u00e1s le han llamado la atenci\u00f3n? (M\u00c1XIMO\n",
        "seguridad social, etc.). (M\u00c1XIMO TRES RESPUESTAS).\n",
        "Question words:"
       ]
      },
      {
       "output_type": "stream",
       "stream": "stdout",
       "text": [
        " [[u'principal', False], [u'problema', False], [u'existe', False], [u'actualmente', False]] not found\n",
        "No results.\n",
        "\n",
        "BAR\u00d3METRO ENERO 1997 , date: 1997-01-23 00:00:00 , doc_type: text/html\n",
        "URL: http://www.cis.es/cis/export/sites/default/-Archivos/Marginales/2220_2239/2233/e223300.html\n",
        "Question words:"
       ]
      },
      {
       "output_type": "stream",
       "stream": "stdout",
       "text": [
        " [[u'principal', False], [u'problema', False], [u'existe', False], [u'actualmente', False]] not found\n",
        "No results.\n",
        "\n",
        "BAR\u00d3METRO DICIEMBRE 1996 , date: 1996-12-17 00:00:00 , doc_type: text/html\n",
        "URL: http://www.cis.es/cis/export/sites/default/-Archivos/Marginales/2220_2239/2231/e223100.html\n",
        "actualmente, la agricultura en Espa\u00f1a? (M\u00c1XIMO DOS RESPUESTAS)."
       ]
      },
      {
       "output_type": "stream",
       "stream": "stdout",
       "text": [
        "\n",
        "Question words:"
       ]
      },
      {
       "output_type": "stream",
       "stream": "stdout",
       "text": [
        " [[u'principal', False], [u'problema', False], [u'existe', False], [u'actualmente', False]] not found\n",
        "No results.\n",
        "\n",
        "BAR\u00d3METRO NOVIEMBRE 1996 , date: 1996-11-23 00:00:00 , doc_type: text/html\n",
        "URL: http://www.cis.es/cis/export/sites/default/-Archivos/Marginales/2220_2239/2229/e222900.html\n",
        "[(u'Paro', 83.1), (u'Droga', 26.5), (u'Terrorismo', 20.6), (u'Funcionamiento y cobertura de los servicios p\\xfablicos', 19.6), (u'Delincuencia. Inseguridad ciudadana', 15.4), (u'Problemas econ\\xf3micos (Poca inversi\\xf3n, d\\xe9ficit p\\xfablico, salarios bajos)', 13.1), (u'Problemas sociales (racismo, pobreza, etc.)', 13.0), (u'Otros problemas', 11.5), (u'Problemas pol\\xedticos (desconfianza, mala gesti\\xf3n)', 8.2), (u'Corrupci\\xf3n y fraude', 7.2), (u'N.S.', 4.7), (u'N.C.', 1.1), (u'Ninguno', 0.1)]"
       ]
      },
      {
       "output_type": "stream",
       "stream": "stdout",
       "text": [
        "\n",
        "\n",
        "BAR\u00d3METRO OCTUBRE 1996 , date: 1996-10-26 00:00:00 , doc_type: text/html\n",
        "URL: http://www.cis.es/cis/export/sites/default/-Archivos/Marginales/2220_2239/2225/e222500.html\n",
        "Question words:"
       ]
      },
      {
       "output_type": "stream",
       "stream": "stdout",
       "text": [
        " [[u'principal', False], [u'problema', False], [u'existe', False], [u'actualmente', False]] not found\n",
        "No results.\n",
        "\n",
        "BAR\u00d3METRO SEPTIEMBRE 1996 , date: 1996-09-27 00:00:00 , doc_type: text/html\n",
        "URL: http://www.cis.es/cis/export/sites/default/-Archivos/Marginales/2220_2239/2222/e222200.html\n",
        "citar a continuaci\u00f3n, le produce a Vd., principalmente, la pol\u00edtica? (M\u00c1XIMO DOS RESPUESTAS)."
       ]
      },
      {
       "output_type": "stream",
       "stream": "stdout",
       "text": [
        "\n",
        "Question words:"
       ]
      },
      {
       "output_type": "stream",
       "stream": "stdout",
       "text": [
        " [[u'principal', False], [u'problema', False], [u'existe', False], [u'actualmente', False]] not found\n",
        "No results.\n",
        "\n",
        "BAR\u00d3METRO JULIO 1996 , date: 1996-07-17 00:00:00 , doc_type: text/html\n",
        "URL: http://www.cis.es/cis/export/sites/default/-Archivos/Marginales/2220_2239/2220/e222000.html\n",
        "principales que le han llevado a elegir esta zona para sus vacaciones? (M\u00c1XIMO TRES RESPUESTAS)."
       ]
      },
      {
       "output_type": "stream",
       "stream": "stdout",
       "text": [
        "\n",
        "Question words:"
       ]
      },
      {
       "output_type": "stream",
       "stream": "stdout",
       "text": [
        " [[u'principal', False], [u'problema', False], [u'existe', False], [u'actualmente', False]] not found\n",
        "No results.\n",
        "\n",
        "BAR\u00d3METRO JUNIO 1996 , date: 1996-06-22 00:00:00 , doc_type: text/html\n",
        "URL: http://www.cis.es/cis/export/sites/default/-Archivos/Marginales/2200_2219/2217/e221700.html\n",
        "p\u00fablica espa\u00f1ola que m\u00e1s le han llamado la atenci\u00f3n? (M\u00c1XIMO TRES RESPUESTAS)."
       ]
      },
      {
       "output_type": "stream",
       "stream": "stdout",
       "text": [
        "\n",
        "Question words:"
       ]
      },
      {
       "output_type": "stream",
       "stream": "stdout",
       "text": [
        " [[u'principal', False], [u'problema', False], [u'existe', False], [u'actualmente', False]] not found\n",
        "No results.\n",
        "\n",
        "BAR\u00d3METRO MAYO 1996 , date: 1996-05-29 00:00:00 , doc_type: text/html\n",
        "URL: http://www.cis.es/cis/export/sites/default/-Archivos/Marginales/2200_2219/2215/e221500.html\n",
        "que, desde su punto de vista, el Gobierno deber\u00eda prestar mayor atenci\u00f3n. (M\u00c1XIMO TRES"
       ]
      },
      {
       "output_type": "stream",
       "stream": "stdout",
       "text": [
        "\n",
        "A su juicio, \u00bfcu\u00e1les deber\u00edan ser las tres principales prioridades del nuevo Gobierno? (M\u00c1XIMO\n",
        "Question words:"
       ]
      },
      {
       "output_type": "stream",
       "stream": "stdout",
       "text": [
        " [[u'principal', False], [u'problema', False], [u'existe', False], [u'actualmente', False]] not found\n",
        "No results.\n",
        "\n",
        "BAR\u00d3METRO ABRIL 1996 , date: 1996-04-13 00:00:00 , doc_type: text/html\n",
        "URL: http://www.cis.es/cis/export/sites/default/-Archivos/Marginales/2200_2219/2212/e221200.html\n",
        "asuntos de los que se va a ocupar la Conferencia intergubernamental? (M\u00c1XIMO TRES RESPUESTAS)."
       ]
      },
      {
       "output_type": "stream",
       "stream": "stdout",
       "text": [
        "\n",
        "m\u00e1s le han llamado la atenci\u00f3n? (M\u00c1XIMO TRES RESPUESTAS).\n",
        "Question words:"
       ]
      },
      {
       "output_type": "stream",
       "stream": "stdout",
       "text": [
        " [[u'principal', False], [u'problema', False], [u'existe', False], [u'actualmente', False]] not found\n",
        "No results.\n",
        "\n",
        "BAR\u00d3METRO MARZO 1996 , date: 1996-03-27 00:00:00 , doc_type: text/html\n",
        "URL: http://www.cis.es/cis/export/sites/default/-Archivos/Marginales/2200_2219/2211/e221100.html\n",
        "espa\u00f1ola que m\u00e1s le han llamado la atenci\u00f3n? (M\u00c1XIMO TRES RESPUESTAS)."
       ]
      },
      {
       "output_type": "stream",
       "stream": "stdout",
       "text": [
        "\n",
        "problemas m\u00e1s importantes que tenemos en Espa\u00f1a en estos momentos? (M\u00c1XIMO TRES RESPUESTAS).\n",
        "\u00bfY cu\u00e1les son los que a Vd., personalmente, le afectan m\u00e1s? (M\u00c1XIMO DOS RESPUESTAS).\n",
        "central? (M\u00c1XIMO TRES RESPUESTAS).\n",
        "Question words:"
       ]
      },
      {
       "output_type": "stream",
       "stream": "stdout",
       "text": [
        " [[u'principal', False], [u'problema', False], [u'existe', False], [u'actualmente', False]] not found\n",
        "No results.\n",
        "\n",
        "BAR\u00d3METRO FEBRERO 1996 , date: 1996-02-27 00:00:00 , doc_type: text/html\n",
        "URL: http://www.cis.es/cis/export/sites/default/-Archivos/Marginales/2200_2219/2208/e220800.html\n",
        "principalmente, la pol\u00edtica? (M\u00c1XIMO DOS RESPUESTAS)."
       ]
      },
      {
       "output_type": "stream",
       "stream": "stdout",
       "text": [
        "\n",
        "problemas m\u00e1s importantes que tenemos en Espa\u00f1a en estos momentos? (M\u00c1XIMO TRES RESPUESTAS).\n",
        "p\u00fablica que m\u00e1s le han llamado la atenci\u00f3n? (M\u00c1XIMO TRES RESPUESTAS).\n",
        "Question words:"
       ]
      },
      {
       "output_type": "stream",
       "stream": "stdout",
       "text": [
        " [[u'principal', False], [u'problema', False], [u'existe', False], [u'actualmente', False]] not found\n",
        "No results.\n",
        "\n",
        "BAR\u00d3METRO ENERO 1996: UNI\u00d3N EUROPEA , date: 1996-01-10 00:00:00 , doc_type: text/html\n",
        "URL: http://www.cis.es/cis/export/sites/default/-Archivos/Marginales/2200_2219/2204/e220400.html\n",
        "atenci\u00f3n? (M\u00c1XIMO TRES RESPUESTAS)."
       ]
      },
      {
       "output_type": "stream",
       "stream": "stdout",
       "text": [
        "\n",
        "moneda \u00fanica cuando \u00e9sta empiece a funcionar? (M\u00c1XIMO DOS RESPUESTAS).\n",
        "Question words:"
       ]
      },
      {
       "output_type": "stream",
       "stream": "stdout",
       "text": [
        " [[u'principal', False], [u'problema', False], [u'existe', False], [u'actualmente', False]] not found\n",
        "No results.\n",
        "\n",
        "BAR\u00d3METRO DICIEMBRE 1995 , date: 1995-12-09 00:00:00 , doc_type: text/html\n",
        "URL: http://www.cis.es/cis/export/sites/default/-Archivos/Marginales/2200_2219/2201/e220100.html\n",
        "aspectos de la Constituci\u00f3n piensa Vd. que deber\u00edan reformarse? (M\u00c1XIMO DOS RESPUESTAS)."
       ]
      },
      {
       "output_type": "stream",
       "stream": "stdout",
       "text": [
        "\n",
        "(M\u00c1XIMO TRES RESPUESTAS).\n",
        "volver a votar al PSOE en las pr\u00f3ximas elecciones generales? (M\u00c1XIMO DOS RESPUESTAS).\n",
        "Question words:"
       ]
      },
      {
       "output_type": "stream",
       "stream": "stdout",
       "text": [
        " [[u'principal', False], [u'problema', False], [u'existe', False], [u'actualmente', False]] not found\n",
        "No results.\n",
        "\n",
        "BAR\u00d3METRO NOVIEMBRE 1995 , date: 1995-11-08 00:00:00 , doc_type: text/html\n",
        "URL: http://www.cis.es/cis/export/sites/default/-Archivos/Marginales/2180_2199/2197/e219700.html\n",
        "actualmente para la seguridad y la paz internacionales? (M\u00c1XIMO DOS RESPUESTAS)."
       ]
      },
      {
       "output_type": "stream",
       "stream": "stdout",
       "text": [
        "\n",
        "que son los que suponen una mayor amenaza para la paz mundial? (M\u00c1XIMO DOS RESPUESTAS).\n",
        "\u00bfY cu\u00e1l o cu\u00e1les podr\u00edan afectar m\u00e1s a la seguridad de Espa\u00f1a? (M\u00c1XIMO DOS RESPUESTAS).\n",
        "los acontecimientos o noticias de la vida p\u00fablica que m\u00e1s le han llamado la atenci\u00f3n? (M\u00c1XIMO TRES\n",
        "momentos? (M\u00c1XIMO TRES RESPUESTAS).\n",
        "\u00bfY de ellos, cu\u00e1les son los que a Vd. personalmente, le afectan m\u00e1s? (M\u00c1XIMO TRES RESPUESTAS).\n",
        "Question words:"
       ]
      },
      {
       "output_type": "stream",
       "stream": "stdout",
       "text": [
        " [[u'principal', False], [u'problema', False], [u'existe', False], [u'actualmente', False]] not found\n",
        "No results.\n",
        "\n",
        "BAR\u00d3METRO OCTUBRE 1995 , date: 1995-10-17 00:00:00 , doc_type: text/html\n",
        "URL: http://www.cis.es/cis/export/sites/default/-Archivos/Marginales/2180_2199/2194/e219400.html\n",
        "principales temas que se han tratado en la Conferencia de Pek\u00edn? (M\u00c1XIMO TRES RESPUESTAS)."
       ]
      },
      {
       "output_type": "stream",
       "stream": "stdout",
       "text": [
        "\n",
        "(M\u00c1XIMO TRES RESPUESTAS).\n",
        "Question words:"
       ]
      },
      {
       "output_type": "stream",
       "stream": "stdout",
       "text": [
        " [[u'principal', False], [u'problema', False], [u'existe', False], [u'actualmente', False]] not found\n",
        "No results.\n",
        "\n",
        "BAR\u00d3METRO SEPTIEMBRE 1995 , date: 1995-09-13 00:00:00 , doc_type: text/html\n",
        "URL: http://www.cis.es/cis/export/sites/default/-Archivos/Marginales/2180_2199/2190/e219000.html\n",
        "d\u00eda de la semana realiza Vd. este tipo de compra? (M\u00c1XIMO DOS RESPUESTAS)."
       ]
      },
      {
       "output_type": "stream",
       "stream": "stdout",
       "text": [
        "\n",
        "(M\u00c1XIMO TRES RESPUESTAS).\n",
        "momentos? (M\u00c1XIMO TRES RESPUESTAS).\n",
        "\u00bfY de ellos, cu\u00e1les son los que a Vd. personalmente, le afectan m\u00e1s? (M\u00c1XIMO TRES RESPUESTAS).\n",
        "Question words:"
       ]
      },
      {
       "output_type": "stream",
       "stream": "stdout",
       "text": [
        " [[u'principal', False], [u'problema', False], [u'existe', False], [u'actualmente', False]] not found\n",
        "No results.\n",
        "\n",
        "BAR\u00d3METRO JULIO 1995: UNI\u00d3N EUROPEA , date: 1995-07-12 00:00:00 , doc_type: text/html\n",
        "URL: http://www.cis.es/cis/export/sites/default/-Archivos/Marginales/2180_2199/2188/e218800.html\n",
        "Question words:"
       ]
      },
      {
       "output_type": "stream",
       "stream": "stdout",
       "text": [
        " [[u'principal', False], [u'problema', False], [u'existe', False], [u'actualmente', False]] not found\n",
        "No results.\n",
        "\n",
        "BAR\u00d3METRO JUNIO 1995 , date: 1995-06-25 00:00:00 , doc_type: text/html\n",
        "URL: http://www.cis.es/cis/export/sites/default/-Archivos/Marginales/2180_2199/2184/e218400.html\n",
        "o noticias de la vida p\u00fablica espa\u00f1ola que m\u00e1s le han llamado la atenci\u00f3n? (M\u00c1XIMO TRES"
       ]
      },
      {
       "output_type": "stream",
       "stream": "stdout",
       "text": [
        "\n",
        "principales motivaciones de esta huelga? (M\u00c1XIMO DOS RESPUESTAS).\n",
        "importante en el futuro del PSOE? (M\u00c1XIMO CUATRO RESPUESTAS)."
       ]
      },
      {
       "output_type": "stream",
       "stream": "stdout",
       "text": [
        "\n",
        "Question words: [[u'principal', False], [u'problema', False], [u'existe', False], [u'actualmente', False]] not found\n",
        "No results.\n",
        "\n",
        "BAR\u00d3METRO MAYO 1995 , date: 1995-05-25 00:00:00 , doc_type: text/html\n",
        "URL: http://www.cis.es/cis/export/sites/default/-Archivos/Marginales/2180_2199/2181/e218100.html\n",
        "(M\u00c1XIMO TRES RESPUESTAS)."
       ]
      },
      {
       "output_type": "stream",
       "stream": "stdout",
       "text": [
        "\n",
        "Question words:"
       ]
      },
      {
       "output_type": "stream",
       "stream": "stdout",
       "text": [
        " [[u'principal', False], [u'problema', False], [u'existe', False], [u'actualmente', False]] not found\n",
        "No results.\n",
        "\n",
        "BAR\u00d3METRO ABRIL 1995 , date: 1995-04-19 00:00:00 , doc_type: text/html\n",
        "URL: http://www.cis.es/cis/export/sites/default/-Archivos/Marginales/2140_2159/2156/e215600.html\n",
        "espa\u00f1ola que m\u00e1s le han llamado la atenci\u00f3n? (M\u00c1XIMO TRES RESPUESTAS)."
       ]
      },
      {
       "output_type": "stream",
       "stream": "stdout",
       "text": [
        "\n",
        "problemas m\u00e1s importantes que tenemos en Espa\u00f1a en estos momentos? (M\u00c1XIMO TRES RESPUESTAS).\n",
        "\u00bfY de ellos, cu\u00e1les son los que a Vd., personalmente, le afectan m\u00e1s? (M\u00c1XIMO TRES RESPUESTAS).\n",
        "Question words:"
       ]
      },
      {
       "output_type": "stream",
       "stream": "stdout",
       "text": [
        " [[u'principal', False], [u'problema', False], [u'existe', False], [u'actualmente', False]] not found\n",
        "No results.\n",
        "\n",
        "BAR\u00d3METRO MARZO 1995 , date: 1995-03-19 00:00:00 , doc_type: text/html\n",
        "URL: http://www.cis.es/cis/export/sites/default/-Archivos/Marginales/2140_2159/2151/e215100.html\n",
        "Question words:"
       ]
      },
      {
       "output_type": "stream",
       "stream": "stdout",
       "text": [
        " [[u'principal', False], [u'problema', False], [u'existe', False], [u'actualmente', False]] not found\n",
        "No results.\n",
        "\n",
        "BAR\u00d3METRO FEBRERO 1995 , date: 1995-02-02 00:00:00 , doc_type: text/html\n",
        "URL: http://www.cis.es/cis/export/sites/default/-Archivos/Marginales/2120_2139/2132/e213200.html\n",
        "su decisi\u00f3n y volver a votar al PSOE en las pr\u00f3ximas elecciones generales? (M\u00c1XIMO DOS"
       ]
      },
      {
       "output_type": "stream",
       "stream": "stdout",
       "text": [
        "\n",
        "Question words: [[u'principal', False], [u'problema', False], [u'existe', False], [u'actualmente', False]] not found\n",
        "No results.\n",
        "\n",
        "BAR\u00d3METRO ENERO 1995 , date: 1995-01-12 00:00:00 , doc_type: text/html\n",
        "URL: http://www.cis.es/cis/export/sites/default/-Archivos/Marginales/2120_2139/2130/e213000.html\n",
        "Europa? (M\u00c1XIMO TRES RESPUESTAS)."
       ]
      },
      {
       "output_type": "stream",
       "stream": "stdout",
       "text": [
        "\n",
        "p\u00fablica espa\u00f1ola que m\u00e1s le han llamado la atenci\u00f3n? (M\u00c1XIMO TRES RESPUESTAS).\n",
        "Question words:"
       ]
      },
      {
       "output_type": "stream",
       "stream": "stdout",
       "text": [
        " [[u'principal', False], [u'problema', False], [u'existe', False], [u'actualmente', False]] not found\n",
        "No results.\n",
        "\n",
        "BAR\u00d3METRO DICIEMBRE 1994 , date: 1994-12-01 00:00:00 , doc_type: text/html\n",
        "URL: http://www.cis.es/cis/export/sites/default/-Archivos/Marginales/2120_2139/2127/e212700.html\n",
        "p\u00fablica espa\u00f1ola que m\u00e1s le han interesado o m\u00e1s le han llamado la atenci\u00f3n? (M\u00c1XIMO TRES"
       ]
      },
      {
       "output_type": "stream",
       "stream": "stdout",
       "text": [
        "\n",
        "cambiar su decisi\u00f3n actual y volver a votar al PSOE en las pr\u00f3ximas elecciones generales? (M\u00c1XIMO"
       ]
      },
      {
       "output_type": "stream",
       "stream": "stdout",
       "text": [
        "\n",
        "Question words: [[u'principal', False], [u'problema', False], [u'existe', False], [u'actualmente', False]] not found\n",
        "No results.\n",
        "\n",
        "BAR\u00d3METRO NOVIEMBRE 1994 , date: 1994-11-12 00:00:00 , doc_type: text/html\n",
        "URL: http://www.cis.es/cis/export/sites/default/-Archivos/Marginales/2120_2139/2122/e212200.html\n",
        "mayor simpat\u00eda? (M\u00c1XIMO TRES RESPUESTAS)."
       ]
      },
      {
       "output_type": "stream",
       "stream": "stdout",
       "text": [
        "\n",
        "cree que podr\u00edan afectar m\u00e1s a la seguridad de Espa\u00f1a? (M\u00c1XIMO DOS RESPUESTAS).\n",
        "menos desarrollados se debe principalmente a ...? (M\u00c1XIMO DOS RESPUESTAS).\n",
        "Question words:"
       ]
      },
      {
       "output_type": "stream",
       "stream": "stdout",
       "text": [
        " [[u'principal', False], [u'problema', False], [u'existe', False], [u'actualmente', False]] not found\n",
        "No results.\n",
        "\n",
        "BAR\u00d3METRO OCTUBRE 1994 , date: 1994-10-19 00:00:00 , doc_type: text/html\n",
        "URL: http://www.cis.es/cis/export/sites/default/-Archivos/Marginales/2100_2119/2118/e211800.html\n",
        "Question words:"
       ]
      },
      {
       "output_type": "stream",
       "stream": "stdout",
       "text": [
        " [[u'principal', False], [u'problema', False], [u'existe', False], [u'actualmente', False]] not found\n",
        "No results.\n",
        "\n",
        "BAR\u00d3METRO SEPTIEMBRE 1994 , date: 1994-09-20 00:00:00 , doc_type: text/html\n",
        "URL: http://www.cis.es/cis/export/sites/default/-Archivos/Marginales/2100_2119/2115/e211500.html\n",
        "han llamado la atenci\u00f3n? (M\u00c1XIMO TRES RESPUESTAS)."
       ]
      },
      {
       "output_type": "stream",
       "stream": "stdout",
       "text": [
        "\n",
        "Question words:"
       ]
      },
      {
       "output_type": "stream",
       "stream": "stdout",
       "text": [
        " [[u'principal', False], [u'problema', False], [u'existe', False], [u'actualmente', False]] not found\n",
        "No results.\n",
        "\n",
        "BAR\u00d3METRO JULIO 1994 , date: 1994-07-01 00:00:00 , doc_type: text/html\n",
        "URL: http://www.cis.es/cis/export/sites/default/-Archivos/Marginales/2100_2119/2110/e211000.html\n",
        "(M\u00c1XIMO TRES RESPUESTAS)."
       ]
      },
      {
       "output_type": "stream",
       "stream": "stdout",
       "text": [
        "\n",
        "razones le har\u00edan a Vd. volver a votar al PSOE en las pr\u00f3ximas elecciones generales? (M\u00c1XIMO TRES\n",
        "a votar al PP en las pr\u00f3ximas elecciones generales? (M\u00c1XIMO TRES RESPUESTAS).\n",
        "Question words:"
       ]
      },
      {
       "output_type": "stream",
       "stream": "stdout",
       "text": [
        " [[u'principal', False], [u'problema', False], [u'existe', False], [u'actualmente', False]] not found\n",
        "No results.\n",
        "\n",
        "BAR\u00d3METRO JUNIO 1994: POSTELECTORAL PARLAMENTO EUROPEO , date: 1994-06-16 00:00:00 , doc_type: text/html\n",
        "URL: http://www.cis.es/cis/export/sites/default/-Archivos/Marginales/2100_2119/2108/e210800.html\n",
        "elecciones europeas del 12 de junio? (M\u00c1XIMO DOS RESPUESTAS)."
       ]
      },
      {
       "output_type": "stream",
       "stream": "stdout",
       "text": [
        "\n",
        "votado Vd. al PSOE en estas elecciones europeas? (M\u00c1XIMO DOS RESPUESTAS)."
       ]
      },
      {
       "output_type": "stream",
       "stream": "stdout",
       "text": [
        "\n",
        "Question words: [[u'principal', False], [u'problema', False], [u'existe', False], [u'actualmente', False]] not found\n",
        "No results.\n",
        "\n",
        "BAR\u00d3METRO MAYO 1994 , date: 1994-05-12 00:00:00 , doc_type: text/html\n",
        "URL: http://www.cis.es/cis/export/sites/default/-Archivos/Marginales/2100_2119/2100/es2100mar.html\n",
        "Question words:"
       ]
      },
      {
       "output_type": "stream",
       "stream": "stdout",
       "text": [
        " [[u'principal', False], [u'problema', False], [u'existe', False], [u'actualmente', False]] not found\n",
        "No results.\n",
        "\n",
        "BAR\u00d3METRO ABRIL 1994 , date: 1994-04-06 00:00:00 , doc_type: text/html\n",
        "URL: http://www.cis.es/cis/export/sites/default/-Archivos/Marginales/2080_2099/2087/e208700.html\n",
        "Question words:"
       ]
      },
      {
       "output_type": "stream",
       "stream": "stdout",
       "text": [
        " [[u'principal', False], [u'problema', False], [u'existe', False], [u'actualmente', False]] not found\n",
        "No results.\n"
       ]
      }
     ],
     "prompt_number": 120
    },
    {
     "cell_type": "heading",
     "level": 4,
     "metadata": {},
     "source": [
      "Estad\u00edstica dels resultats obtinguts"
     ]
    },
    {
     "cell_type": "code",
     "collapsed": false,
     "input": [
      "from gridfs import GridFS\n",
      "\n",
      "#\n",
      "barometro_docs_collection = db['barometro_docs']\n",
      "fs = GridFS(db, 'barometro_docs')\n",
      "\n",
      "result = barometro_docs_collection.find().sort('date',DESCENDING)\n",
      "\n",
      "if result.count() > 0 :\n",
      "    num_docs = result.count()\n",
      "    num_docs_without_results = 0\n",
      "    print \"Num. of docs:\", num_docs\n",
      "    \n",
      "    for doc in result:\n",
      "        print \"\\n\", doc['title'], \", date:\", doc['date'], \", doc_type:\", doc['doc_type']\n",
      "        print \"URL:\", doc['url']\n",
      "        if len(doc['barometro_dict']) > 0:\n",
      "            print \"len(doc['barometro_dict']) =\", len(doc['barometro_dict'])\n",
      "        else:\n",
      "            print \"No results.\"\n",
      "            num_docs_without_results += 1\n",
      "    print \"\\n-------------------------------------------\"\n",
      "    print \"Num. of docs without results:\", num_docs_without_results, \",\", float(100*num_docs_without_results/num_docs), \"%\"\n",
      "    print \"-------------------------------------------\\n\""
     ],
     "language": "python",
     "metadata": {},
     "outputs": [
      {
       "output_type": "stream",
       "stream": "stdout",
       "text": [
        "Num. of docs: 229\n",
        "\n",
        "BAR\u00d3METRO DE ENERO 2015 , date: 2015-01-02 00:00:00 , doc_type: text/html\n",
        "URL: http://www.cis.es/cis/export/sites/default/-Archivos/Marginales/3040_3059/3050/es3050mar.html\n",
        "len(doc['barometro_dict']) = 42\n",
        "\n",
        "BAR\u00d3METRO DE DICIEMBRE 2014 , date: 2014-12-01 00:00:00 , doc_type: text/html\n",
        "URL: http://www.cis.es/cis/export/sites/default/-Archivos/Marginales/3040_3059/3047/es3047mar.html\n",
        "len(doc['barometro_dict']) = 42\n",
        "\n",
        "BAR\u00d3METRO DE NOVIEMBRE 2014 , date: 2014-11-04 00:00:00 , doc_type: text/html\n",
        "URL: http://www.cis.es/cis/export/sites/default/-Archivos/Marginales/3040_3059/3045/es3045mar.html\n",
        "len(doc['barometro_dict']) = 41\n",
        "\n",
        "BAR\u00d3METRO DE OCTUBRE 2014 , date: 2014-10-01 00:00:00 , doc_type: text/html\n",
        "URL: http://www.cis.es/cis/export/sites/default/-Archivos/Marginales/3040_3059/3041/es3041mar.html\n",
        "len(doc['barometro_dict']) = 44\n",
        "\n",
        "BAR\u00d3METRO DE SEPTIEMBRE 2014 , date: 2014-09-02 00:00:00 , doc_type: text/html\n",
        "URL: http://www.cis.es/cis/export/sites/default/-Archivos/Marginales/3020_3039/3038/es3038mar.html\n",
        "len(doc['barometro_dict']) = 43\n",
        "\n",
        "BAR\u00d3METRO DE JULIO 2014 , date: 2014-07-01 00:00:00 , doc_type: text/html\n",
        "URL: http://www.cis.es/cis/export/sites/default/-Archivos/Marginales/3020_3039/3033/es3033mar_HTML.html\n",
        "len(doc['barometro_dict']) = 41\n",
        "\n",
        "BAR\u00d3METRO DE JUNIO 2014 , date: 2014-06-02 00:00:00 , doc_type: text/html\n",
        "URL: http://www.cis.es/cis/export/sites/default/-Archivos/Marginales/3020_3039/3029/es3029mar.html\n",
        "len(doc['barometro_dict']) = 43\n",
        "\n",
        "BAR\u00d3METRO DE MAYO 2014 , date: 2014-05-01 00:00:00 , doc_type: text/html\n",
        "URL: http://www.cis.es/cis/export/sites/default/-Archivos/Marginales/3020_3039/3024/es3024mar.html\n",
        "len(doc['barometro_dict']) = 42\n",
        "\n",
        "BAR\u00d3METRO DE ABRIL 2014 , date: 2014-04-01 00:00:00 , doc_type: text/html\n",
        "URL: http://www.cis.es/cis/export/sites/default/-Archivos/Marginales/3020_3039/3021/es3021mar.html\n",
        "len(doc['barometro_dict']) = 42\n",
        "\n",
        "BAR\u00d3METRO DE MARZO 2014 , date: 2014-03-01 00:00:00 , doc_type: text/html\n",
        "URL: http://www.cis.es/cis/export/sites/default/-Archivos/Marginales/3000_3019/3017/es3017mar.html\n",
        "len(doc['barometro_dict']) = 44\n",
        "\n",
        "BAR\u00d3METRO DE FEBRERO 2014 , date: 2014-02-01 00:00:00 , doc_type: text/html\n",
        "URL: http://www.cis.es/cis/export/sites/default/-Archivos/Marginales/3000_3019/3013/es3013mar.html\n",
        "len(doc['barometro_dict']) = 42\n",
        "\n",
        "BAR\u00d3METRO DE ENERO 2014 , date: 2014-01-03 00:00:00 , doc_type: text/html\n",
        "URL: http://www.cis.es/cis/export/sites/default/-Archivos/Marginales/3000_3019/3011/es3011mar.html\n",
        "len(doc['barometro_dict']) = 40\n",
        "\n",
        "BAR\u00d3METRO DE DICIEMBRE 2013 , date: 2013-12-01 00:00:00 , doc_type: text/html\n",
        "URL: http://www.cis.es/cis/export/sites/default/-Archivos/Marginales/3000_3019/3008/es3008mar.html\n",
        "len(doc['barometro_dict']) = 41\n",
        "\n",
        "BAR\u00d3METRO DE NOVIEMBRE 2013 , date: 2013-11-01 00:00:00 , doc_type: text/html\n",
        "URL: http://www.cis.es/cis/export/sites/default/-Archivos/Marginales/3000_3019/3005/es3005mar.html\n",
        "len(doc['barometro_dict']) = 39\n",
        "\n",
        "BAR\u00d3METRO OCTUBRE 2013 , date: 2013-10-01 00:00:00 , doc_type: text/html\n",
        "URL: http://www.cis.es/cis/export/sites/default/-Archivos/Marginales/3000_3019/3001/e300100.html\n",
        "len(doc['barometro_dict']) = 43\n",
        "\n",
        "BAR\u00d3METRO SEPTIEMBRE 2013 , date: 2013-09-03 00:00:00 , doc_type: text/html\n",
        "URL: http://www.cis.es/cis/export/sites/default/-Archivos/Marginales/2980_2999/2997/e299700.html\n",
        "len(doc['barometro_dict']) = 43\n",
        "\n",
        "BAR\u00d3METRO JULIO 2013 , date: 2013-07-01 00:00:00 , doc_type: text/html\n",
        "URL: http://www.cis.es/cis/export/sites/default/-Archivos/Marginales/2980_2999/2993/e299300.html\n",
        "len(doc['barometro_dict']) = 43\n",
        "\n",
        "BAR\u00d3METRO JUNIO 2013 , date: 2013-06-03 00:00:00 , doc_type: text/html\n",
        "URL: http://www.cis.es/cis/export/sites/default/-Archivos/Marginales/2980_2999/2990/e299000.html\n",
        "len(doc['barometro_dict']) = 43\n",
        "\n",
        "BAR\u00d3METRO MAYO 2013 , date: 2013-05-01 00:00:00 , doc_type: text/html\n",
        "URL: http://www.cis.es/cis/export/sites/default/-Archivos/Marginales/2980_2999/2987/e298700.html\n",
        "len(doc['barometro_dict']) = 41\n",
        "\n",
        "BAR\u00d3METRO ABRIL 2013 , date: 2013-04-01 00:00:00 , doc_type: text/html\n",
        "URL: http://www.cis.es/cis/export/sites/default/-Archivos/Marginales/2980_2999/2984/e298400.html\n",
        "len(doc['barometro_dict']) = 39\n",
        "\n",
        "BAR\u00d3METRO MARZO 2013 , date: 2013-03-01 00:00:00 , doc_type: text/html\n",
        "URL: http://www.cis.es/cis/export/sites/default/-Archivos/Marginales/2980_2999/2981/e298100.html\n",
        "len(doc['barometro_dict']) = 42\n",
        "\n",
        "BAR\u00d3METRO FEBRERO 2013 , date: 2013-02-04 00:00:00 , doc_type: text/html\n",
        "URL: http://www.cis.es/cis/export/sites/default/-Archivos/Marginales/2960_2979/2978/e297800.html\n",
        "len(doc['barometro_dict']) = 42\n",
        "\n",
        "BAR\u00d3METRO ENERO 2013 , date: 2013-01-04 00:00:00 , doc_type: text/html\n",
        "URL: http://www.cis.es/cis/export/sites/default/-Archivos/Marginales/2960_2979/2976/e297600.html\n",
        "len(doc['barometro_dict']) = 41\n",
        "\n",
        "BAR\u00d3METRO DICIEMBRE 2012 , date: 2012-12-01 00:00:00 , doc_type: text/html\n",
        "URL: http://www.cis.es/cis/export/sites/default/-Archivos/Marginales/2960_2979/2972/e297200.html\n",
        "len(doc['barometro_dict']) = 41\n",
        "\n",
        "BAR\u00d3METRO NOVIEMBRE 2012 , date: 2012-11-05 00:00:00 , doc_type: text/html\n",
        "URL: http://www.cis.es/cis/export/sites/default/-Archivos/Marginales/2960_2979/2966/e296600.html\n",
        "len(doc['barometro_dict']) = 40\n",
        "\n",
        "BAR\u00d3METRO OCTUBRE 2012 , date: 2012-10-02 00:00:00 , doc_type: text/html\n",
        "URL: http://www.cis.es/cis/export/sites/default/-Archivos/Marginales/2960_2979/2960/e296000.html\n",
        "len(doc['barometro_dict']) = 39\n",
        "\n",
        "BAR\u00d3METRO SEPTIEMBRE 2012 , date: 2012-09-03 00:00:00 , doc_type: text/html\n",
        "URL: http://www.cis.es/cis/export/sites/default/-Archivos/Marginales/2940_2959/2954/e295400.html\n",
        "len(doc['barometro_dict']) = 39\n",
        "\n",
        "BAR\u00d3METRO JULIO 2012 , date: 2012-07-02 00:00:00 , doc_type: text/html\n",
        "URL: http://www.cis.es/cis/export/sites/default/-Archivos/Marginales/2940_2959/2951/e295100.html\n",
        "len(doc['barometro_dict']) = 38\n",
        "\n",
        "BAR\u00d3METRO JUNIO 2012 , date: 2012-06-02 00:00:00 , doc_type: text/html\n",
        "URL: http://www.cis.es/cis/export/sites/default/-Archivos/Marginales/2940_2959/2948/e294800.html\n",
        "len(doc['barometro_dict']) = 38\n",
        "\n",
        "BAR\u00d3METRO MAYO 2012 , date: 2012-05-03 00:00:00 , doc_type: text/html\n",
        "URL: http://www.cis.es/cis/export/sites/default/-Archivos/Marginales/2940_2959/2944/e294400.html\n",
        "len(doc['barometro_dict']) = 37\n",
        "\n",
        "BAR\u00d3METRO ABRIL 2012 , date: 2012-04-09 00:00:00 , doc_type: text/html\n",
        "URL: http://www.cis.es/cis/export/sites/default/-Archivos/Marginales/2940_2959/2941/e294100.html\n",
        "len(doc['barometro_dict']) = 37\n",
        "\n",
        "BAR\u00d3METRO MARZO 2012 , date: 2012-03-02 00:00:00 , doc_type: text/html\n",
        "URL: http://www.cis.es/cis/export/sites/default/-Archivos/Marginales/2920_2939/2935/e293500.html\n",
        "len(doc['barometro_dict']) = 38\n",
        "\n",
        "BAR\u00d3METRO FEBRERO 2012 , date: 2012-02-01 00:00:00 , doc_type: text/html\n",
        "URL: http://www.cis.es/cis/export/sites/default/-Archivos/Marginales/2920_2939/2932/e293200.html\n",
        "len(doc['barometro_dict']) = 36\n",
        "\n",
        "BAR\u00d3METRO ENERO 2012 , date: 2012-01-04 00:00:00 , doc_type: text/html\n",
        "URL: http://www.cis.es/cis/export/sites/default/-Archivos/Marginales/2920_2939/2927/e292700.html\n",
        "len(doc['barometro_dict']) = 36\n",
        "\n",
        "BAR\u00d3METRO DICIEMBRE 2011 , date: 2011-12-01 00:00:00 , doc_type: text/html\n",
        "URL: http://www.cis.es/cis/export/sites/default/-Archivos/Marginales/2920_2939/2923/e292300.html\n",
        "len(doc['barometro_dict']) = 35\n",
        "\n",
        "BAR\u00d3METRO NOVIEMBRE 2011 , date: 2011-11-02 00:00:00 , doc_type: text/html\n",
        "URL: http://www.cis.es/cis/export/sites/default/-Archivos/Marginales/2900_2919/2917/e291700.html\n",
        "len(doc['barometro_dict']) = 36\n",
        "\n",
        "BAR\u00d3METRO OCTUBRE 2011 , date: 2011-10-01 00:00:00 , doc_type: text/html\n",
        "URL: http://www.cis.es/cis/export/sites/default/-Archivos/Marginales/2900_2919/2914/e291400.html\n",
        "len(doc['barometro_dict']) = 35\n",
        "\n",
        "BAR\u00d3METRO SEPTIEMBRE 2011 , date: 2011-09-05 00:00:00 , doc_type: text/html\n",
        "URL: http://www.cis.es/cis/export/sites/default/-Archivos/Marginales/2900_2919/2911/e291100.html\n",
        "len(doc['barometro_dict']) = 35\n",
        "\n",
        "BAR\u00d3METRO JULIO 2011 , date: 2011-07-04 00:00:00 , doc_type: text/html\n",
        "URL: http://www.cis.es/cis/export/sites/default/-Archivos/Marginales/2900_2919/2909/e290900.html\n",
        "len(doc['barometro_dict']) = 35\n",
        "\n",
        "BAR\u00d3METRO JUNIO 2011 , date: 2011-06-02 00:00:00 , doc_type: text/html\n",
        "URL: http://www.cis.es/cis/export/sites/default/-Archivos/Marginales/2900_2919/2905/e290500.html\n",
        "len(doc['barometro_dict']) = 35\n",
        "\n",
        "BAR\u00d3METRO MAYO 2011 , date: 2011-05-03 00:00:00 , doc_type: text/html\n",
        "URL: http://www.cis.es/cis/export/sites/default/-Archivos/Marginales/2880_2899/2888/e288800.html\n",
        "len(doc['barometro_dict']) = 35\n",
        "\n",
        "BAR\u00d3METRO ABRIL 2011 , date: 2011-04-01 00:00:00 , doc_type: text/html\n",
        "URL: http://www.cis.es/cis/export/sites/default/-Archivos/Marginales/2880_2899/2885/e288500.html\n",
        "len(doc['barometro_dict']) = 35\n",
        "\n",
        "BAR\u00d3METRO MARZO 2011 , date: 2011-03-01 00:00:00 , doc_type: text/html\n",
        "URL: http://www.cis.es/cis/export/sites/default/-Archivos/Marginales/2860_2879/2864/e286400.html\n",
        "len(doc['barometro_dict']) = 37\n",
        "\n",
        "BAR\u00d3METRO FEBRERO 2011 , date: 2011-02-01 00:00:00 , doc_type: text/html\n",
        "URL: http://www.cis.es/cis/export/sites/default/-Archivos/Marginales/2860_2879/2861/e286100.html\n",
        "len(doc['barometro_dict']) = 36\n",
        "\n",
        "BAR\u00d3METRO ENERO 2011 , date: 2011-01-07 00:00:00 , doc_type: text/html\n",
        "URL: http://www.cis.es/cis/export/sites/default/-Archivos/Marginales/2840_2859/2859/e285900.html\n",
        "len(doc['barometro_dict']) = 36\n",
        "\n",
        "BAR\u00d3METRO DICIEMBRE 2010 , date: 2010-12-01 00:00:00 , doc_type: text/html\n",
        "URL: http://www.cis.es/cis/export/sites/default/-Archivos/Marginales/2840_2859/2856/e285600.html\n",
        "len(doc['barometro_dict']) = 35\n",
        "\n",
        "BAR\u00d3METRO NOVIEMBRE 2010 , date: 2010-11-03 00:00:00 , doc_type: text/html\n",
        "URL: http://www.cis.es/cis/export/sites/default/-Archivos/Marginales/2840_2859/2853/e285300.html\n",
        "len(doc['barometro_dict']) = 35\n",
        "\n",
        "BAR\u00d3METRO OCTUBRE 2010 , date: 2010-10-04 00:00:00 , doc_type: text/html\n",
        "URL: http://www.cis.es/cis/export/sites/default/-Archivos/Marginales/2840_2859/2847/e284700.html\n",
        "len(doc['barometro_dict']) = 35\n",
        "\n",
        "BAR\u00d3METRO SEPTIEMBRE 2010 , date: 2010-09-03 00:00:00 , doc_type: text/html\n",
        "URL: http://www.cis.es/cis/export/sites/default/-Archivos/Marginales/2840_2859/2844/e284400.html\n",
        "len(doc['barometro_dict']) = 35\n",
        "\n",
        "BAR\u00d3METRO JULIO 2010 , date: 2010-07-15 00:00:00 , doc_type: text/html\n",
        "URL: http://www.cis.es/cis/export/sites/default/-Archivos/Marginales/2840_2859/2843/e284300.html\n",
        "len(doc['barometro_dict']) = 35\n",
        "\n",
        "BAR\u00d3METRO JUNIO 2010 , date: 2010-06-02 00:00:00 , doc_type: text/html\n",
        "URL: http://www.cis.es/cis/export/sites/default/-Archivos/Marginales/2820_2839/2838/e283800.html\n",
        "len(doc['barometro_dict']) = 35\n",
        "\n",
        "BAR\u00d3METRO MAYO 2010 , date: 2010-05-04 00:00:00 , doc_type: text/html\n",
        "URL: http://www.cis.es/cis/export/sites/default/-Archivos/Marginales/2820_2839/2836/e283600.html\n",
        "len(doc['barometro_dict']) = 35\n",
        "\n",
        "BAR\u00d3METRO ABRIL 2010 , date: 2010-04-06 00:00:00 , doc_type: text/html\n",
        "URL: http://www.cis.es/cis/export/sites/default/-Archivos/Marginales/2820_2839/2834/e283400.html\n",
        "len(doc['barometro_dict']) = 35\n",
        "\n",
        "BAR\u00d3METRO MARZO 2010 , date: 2010-03-02 00:00:00 , doc_type: text/html\n",
        "URL: http://www.cis.es/cis/export/sites/default/-Archivos/Marginales/2820_2839/2831/e283100.html\n",
        "len(doc['barometro_dict']) = 35\n",
        "\n",
        "BAR\u00d3METRO FEBRERO 2010 , date: 2010-02-05 00:00:00 , doc_type: text/html\n",
        "URL: http://www.cis.es/cis/export/sites/default/-Archivos/Marginales/2820_2839/2830/e283000.html\n",
        "len(doc['barometro_dict']) = 35\n",
        "\n",
        "BAR\u00d3METRO ENERO 2010 , date: 2010-01-09 00:00:00 , doc_type: text/html\n",
        "URL: http://www.cis.es/cis/export/sites/default/-Archivos/Marginales/2820_2839/2828/e282800.html\n",
        "len(doc['barometro_dict']) = 35\n",
        "\n",
        "BAR\u00d3METRO DICIEMBRE 2009 , date: 2009-12-01 00:00:00 , doc_type: text/html\n",
        "URL: http://www.cis.es/cis/export/sites/default/-Archivos/Marginales/2820_2839/2824/e282400.html\n",
        "len(doc['barometro_dict']) = 35\n",
        "\n",
        "BAR\u00d3METRO NOVIEMBRE 2009 , date: 2009-11-02 00:00:00 , doc_type: text/html\n",
        "URL: http://www.cis.es/cis/export/sites/default/-Archivos/Marginales/2820_2839/2820/e282000.html\n",
        "len(doc['barometro_dict']) = 35\n",
        "\n",
        "BAR\u00d3METRO OCTUBRE 2009 , date: 2009-10-07 00:00:00 , doc_type: text/html\n",
        "URL: http://www.cis.es/cis/export/sites/default/-Archivos/Marginales/2800_2819/2815/e281500.html\n",
        "len(doc['barometro_dict']) = 35\n",
        "\n",
        "BAR\u00d3METRO SEPTIEMBRE 2009 , date: 2009-09-04 00:00:00 , doc_type: text/html\n",
        "URL: http://www.cis.es/cis/export/sites/default/-Archivos/Marginales/2800_2819/2812/e281200.html\n",
        "len(doc['barometro_dict']) = 35\n",
        "\n",
        "BAR\u00d3METRO JULIO 2009 , date: 2009-07-07 00:00:00 , doc_type: text/html\n",
        "URL: http://www.cis.es/cis/export/sites/default/-Archivos/Marginales/2800_2819/2811/e281100.html\n",
        "len(doc['barometro_dict']) = 35\n",
        "\n",
        "BAR\u00d3METRO JUNIO 2009 , date: 2009-06-04 00:00:00 , doc_type: text/html\n",
        "URL: http://www.cis.es/cis/export/sites/default/-Archivos/Marginales/2800_2819/2806/e280600.html\n",
        "len(doc['barometro_dict']) = 35\n",
        "\n",
        "BAR\u00d3METRO MAYO 2009 , date: 2009-05-13 00:00:00 , doc_type: text/html\n",
        "URL: http://www.cis.es/cis/export/sites/default/-Archivos/Marginales/2800_2819/2801/e280100.html\n",
        "len(doc['barometro_dict']) = 35\n",
        "\n",
        "BAR\u00d3METRO ABRIL 2009 , date: 2009-04-14 00:00:00 , doc_type: text/html\n",
        "URL: http://www.cis.es/cis/export/sites/default/-Archivos/Marginales/2780_2799/2798/e279800.html\n",
        "len(doc['barometro_dict']) = 35\n",
        "\n",
        "BAR\u00d3METRO MARZO 2009 , date: 2009-03-04 00:00:00 , doc_type: text/html\n",
        "URL: http://www.cis.es/cis/export/sites/default/-Archivos/Marginales/2780_2799/2794/e279400.html\n",
        "len(doc['barometro_dict']) = 35\n",
        "\n",
        "BAR\u00d3METRO FEBRERO 2009 , date: 2009-02-04 00:00:00 , doc_type: text/html\n",
        "URL: http://www.cis.es/cis/export/sites/default/-Archivos/Marginales/2780_2799/2788/e278800.html\n",
        "len(doc['barometro_dict']) = 35\n",
        "\n",
        "BAR\u00d3METRO ENERO 2009 , date: 2009-01-09 00:00:00 , doc_type: text/html\n",
        "URL: http://www.cis.es/cis/export/sites/default/-Archivos/Marginales/2780_2799/2782/e278200.html\n",
        "len(doc['barometro_dict']) = 35\n",
        "\n",
        "BAR\u00d3METRO DICIEMBRE 2008 , date: 2008-12-03 00:00:00 , doc_type: text/html\n",
        "URL: http://www.cis.es/cis/export/sites/default/-Archivos/Marginales/2780_2799/2781/e278100.html\n",
        "len(doc['barometro_dict']) = 35\n",
        "\n",
        "BAR\u00d3METRO NOVIEMBRE 2008 , date: 2008-11-03 00:00:00 , doc_type: text/html\n",
        "URL: http://www.cis.es/cis/export/sites/default/-Archivos/Marginales/2760_2779/2778/e277800.html\n",
        "len(doc['barometro_dict']) = 35\n",
        "\n",
        "BAR\u00d3METRO OCTUBRE 2008 , date: 2008-10-01 00:00:00 , doc_type: text/html\n",
        "URL: http://www.cis.es/cis/export/sites/default/-Archivos/Marginales/2760_2779/2775/e277500.html\n",
        "len(doc['barometro_dict']) = 35\n",
        "\n",
        "BAR\u00d3METRO SEPTIEMBRE 2008 , date: 2008-09-05 00:00:00 , doc_type: text/html\n",
        "URL: http://www.cis.es/cis/export/sites/default/-Archivos/Marginales/2760_2779/2771/e277100.html\n",
        "len(doc['barometro_dict']) = 35\n",
        "\n",
        "BAR\u00d3METRO JULIO 2008 , date: 2008-07-07 00:00:00 , doc_type: text/html\n",
        "URL: http://www.cis.es/cis/export/sites/default/-Archivos/Marginales/2760_2779/2769/e276900.html\n",
        "len(doc['barometro_dict']) = 35\n",
        "\n",
        "BAR\u00d3METRO JUNIO 2008 , date: 2008-06-18 00:00:00 , doc_type: text/html\n",
        "URL: http://www.cis.es/cis/export/sites/default/-Archivos/Marginales/2760_2779/2766/e276600.html\n",
        "len(doc['barometro_dict']) = 35\n",
        "\n",
        "BAR\u00d3METRO MAYO 2008 , date: 2008-05-22 00:00:00 , doc_type: text/html\n",
        "URL: http://www.cis.es/cis/export/sites/default/-Archivos/Marginales/2760_2779/2763/e276300.html\n",
        "len(doc['barometro_dict']) = 35\n",
        "\n",
        "BAR\u00d3METRO ABRIL 2008 , date: 2008-04-24 00:00:00 , doc_type: text/html\n",
        "URL: http://www.cis.es/cis/export/sites/default/-Archivos/Marginales/2760_2779/2761/e276100.html\n",
        "len(doc['barometro_dict']) = 35\n",
        "\n",
        "BAR\u00d3METRO MARZO 2008 , date: 2008-03-24 00:00:00 , doc_type: text/html\n",
        "URL: http://www.cis.es/cis/export/sites/default/-Archivos/Marginales/2740_2759/2758/e275800.html\n",
        "len(doc['barometro_dict']) = 35\n",
        "\n",
        "BAR\u00d3METRO FEBRERO 2008 , date: 2008-02-22 00:00:00 , doc_type: text/html\n",
        "URL: http://www.cis.es/cis/export/sites/default/-Archivos/Marginales/2740_2759/2754/e275400.html\n",
        "len(doc['barometro_dict']) = 35\n",
        "\n",
        "BAR\u00d3METRO ENERO 2008 , date: 2008-01-14 00:00:00 , doc_type: text/html\n",
        "URL: http://www.cis.es/cis/export/sites/default/-Archivos/Marginales/2740_2759/2749/e274900.html\n",
        "len(doc['barometro_dict']) = 35\n",
        "\n",
        "BAR\u00d3METRO DICIEMBRE 2007 , date: 2007-12-18 00:00:00 , doc_type: text/html\n",
        "URL: http://www.cis.es/cis/export/sites/default/-Archivos/Marginales/2740_2759/2746/e274600.html\n",
        "len(doc['barometro_dict']) = 35\n",
        "\n",
        "BAR\u00d3METRO NOVIEMBRE 2007 , date: 2007-11-23 00:00:00 , doc_type: text/html\n",
        "URL: http://www.cis.es/cis/export/sites/default/-Archivos/Marginales/2740_2759/2742/e274200.html\n",
        "len(doc['barometro_dict']) = 35\n",
        "\n",
        "BAR\u00d3METRO OCTUBRE 2007 , date: 2007-10-22 00:00:00 , doc_type: text/html\n",
        "URL: http://www.cis.es/cis/export/sites/default/-Archivos/Marginales/2720_2739/2735/e273500.html\n",
        "len(doc['barometro_dict']) = 35\n",
        "\n",
        "BAR\u00d3METRO SEPTIEMBRE 2007 , date: 2007-09-24 00:00:00 , doc_type: text/html\n",
        "URL: http://www.cis.es/cis/export/sites/default/-Archivos/Marginales/2720_2739/2732/e273200.html\n",
        "len(doc['barometro_dict']) = 35\n",
        "\n",
        "BAR\u00d3METRO JULIO 2007 , date: 2007-07-06 00:00:00 , doc_type: text/html\n",
        "URL: http://www.cis.es/cis/export/sites/default/-Archivos/Marginales/2720_2739/2728/e272800.html\n",
        "len(doc['barometro_dict']) = 35\n",
        "\n",
        "BAR\u00d3METRO JUNIO 2007 , date: 2007-06-22 00:00:00 , doc_type: text/html\n",
        "URL: http://www.cis.es/cis/export/sites/default/-Archivos/Marginales/2720_2739/2724/e272400.html\n",
        "len(doc['barometro_dict']) = 35\n",
        "\n",
        "BAR\u00d3METRO MAYO 2007 , date: 2007-05-19 00:00:00 , doc_type: text/html\n",
        "URL: http://www.cis.es/cis/export/sites/default/-Archivos/Marginales/2700_2719/2705/e270500.html\n",
        "len(doc['barometro_dict']) = 35\n",
        "\n",
        "BAR\u00d3METRO ABRIL 2007 , date: 2007-04-23 00:00:00 , doc_type: text/html\n",
        "URL: http://www.cis.es/cis/export/sites/default/-Archivos/Marginales/2700_2719/2700/e270000.html\n",
        "len(doc['barometro_dict']) = 35\n",
        "\n",
        "BAR\u00d3METRO MARZO 2007 , date: 2007-03-17 00:00:00 , doc_type: text/html\n",
        "URL: http://www.cis.es/cis/export/sites/default/-Archivos/Marginales/2680_2699/2681/e268100.html\n",
        "len(doc['barometro_dict']) = 35\n",
        "\n",
        "BAR\u00d3METRO FEBRERO 2007 , date: 2007-02-22 00:00:00 , doc_type: text/html\n",
        "URL: http://www.cis.es/cis/export/sites/default/-Archivos/Marginales/2660_2679/2677/e267700.html\n",
        "len(doc['barometro_dict']) = 35\n",
        "\n",
        "BAR\u00d3METRO ENERO 2007 , date: 2007-01-22 00:00:00 , doc_type: text/html\n",
        "URL: http://www.cis.es/cis/export/sites/default/-Archivos/Marginales/2660_2679/2672/e267200.html\n",
        "len(doc['barometro_dict']) = 35\n",
        "\n",
        "BAR\u00d3METRO DICIEMBRE 2006 , date: 2006-12-13 00:00:00 , doc_type: text/html\n",
        "URL: http://www.cis.es/cis/export/sites/default/-Archivos/Marginales/2660_2679/2666/e266600.html\n",
        "len(doc['barometro_dict']) = 35\n",
        "\n",
        "BAR\u00d3METRO NOVIEMBRE 2006 , date: 2006-11-18 00:00:00 , doc_type: text/html\n",
        "URL: http://www.cis.es/cis/export/sites/default/-Archivos/Marginales/2660_2679/2662/e266200.html\n",
        "len(doc['barometro_dict']) = 34\n",
        "\n",
        "BAR\u00d3METRO OCTUBRE 2006 , date: 2006-10-18 00:00:00 , doc_type: text/html\n",
        "URL: http://www.cis.es/cis/export/sites/default/-Archivos/Marginales/2640_2659/2657/e265700.html\n",
        "len(doc['barometro_dict']) = 34\n",
        "\n",
        "BAR\u00d3METRO SEPTIEMBRE 2006 , date: 2006-09-18 00:00:00 , doc_type: text/html\n",
        "URL: http://www.cis.es/cis/export/sites/default/-Archivos/Marginales/2640_2659/2654/e265400.html\n",
        "len(doc['barometro_dict']) = 35\n",
        "\n",
        "BAR\u00d3METRO JULIO 2006 , date: 2006-07-10 00:00:00 , doc_type: text/html\n",
        "URL: http://www.cis.es/cis/export/sites/default/-Archivos/Marginales/2640_2659/2651/e265100.html\n",
        "len(doc['barometro_dict']) = 34\n",
        "\n",
        "BAR\u00d3METRO JUNIO 2006 , date: 2006-06-21 00:00:00 , doc_type: text/html\n",
        "URL: http://www.cis.es/cis/export/sites/default/-Archivos/Marginales/2640_2659/2649/e264900.html\n",
        "len(doc['barometro_dict']) = 35\n",
        "\n",
        "BAR\u00d3METRO MAYO 2006 , date: 2006-05-22 00:00:00 , doc_type: text/html\n",
        "URL: http://www.cis.es/cis/export/sites/default/-Archivos/Marginales/2640_2659/2644/e264400.html\n",
        "len(doc['barometro_dict']) = 34\n",
        "\n",
        "BAR\u00d3METRO ABRIL 2006 , date: 2006-04-24 00:00:00 , doc_type: text/html\n",
        "URL: http://www.cis.es/cis/export/sites/default/-Archivos/Marginales/2640_2659/2640/e264000.html\n",
        "len(doc['barometro_dict']) = 34\n",
        "\n",
        "BAR\u00d3METRO MARZO 2006 , date: 2006-03-24 00:00:00 , doc_type: text/html\n",
        "URL: http://www.cis.es/cis/export/sites/default/-Archivos/Marginales/2620_2639/2636/e263600.html\n",
        "len(doc['barometro_dict']) = 34\n",
        "\n",
        "BAR\u00d3METRO FEBRERO 2006 , date: 2006-02-20 00:00:00 , doc_type: text/html\n",
        "URL: http://www.cis.es/cis/export/sites/default/-Archivos/Marginales/2620_2639/2635/e263500.html\n",
        "len(doc['barometro_dict']) = 34\n",
        "\n",
        "BAR\u00d3METRO ENERO 2006 , date: 2006-01-23 00:00:00 , doc_type: text/html\n",
        "URL: http://www.cis.es/cis/export/sites/default/-Archivos/Marginales/2620_2639/2633/e263300.html\n",
        "len(doc['barometro_dict']) = 34\n",
        "\n",
        "BAR\u00d3METRO DICIEMBRE 2005 , date: 2005-12-16 00:00:00 , doc_type: text/html\n",
        "URL: http://www.cis.es/cis/export/sites/default/-Archivos/Marginales/2620_2639/2630/e263000.html\n",
        "len(doc['barometro_dict']) = 34\n",
        "\n",
        "BAR\u00d3METRO NOVIEMBRE 2005 , date: 2005-11-15 00:00:00 , doc_type: text/html\n",
        "URL: http://www.cis.es/cis/export/sites/default/-Archivos/Marginales/2620_2639/2625/e262500.html\n",
        "len(doc['barometro_dict']) = 33\n",
        "\n",
        "BAR\u00d3METRO OCTUBRE 2005 , date: 2005-10-21 00:00:00 , doc_type: text/html\n",
        "URL: http://www.cis.es/cis/export/sites/default/-Archivos/Marginales/2620_2639/2622/e262200.html\n",
        "len(doc['barometro_dict']) = 33\n",
        "\n",
        "BAR\u00d3METRO SEPTIEMBRE 2005 , date: 2005-09-23 00:00:00 , doc_type: text/html\n",
        "URL: http://www.cis.es/cis/export/sites/default/-Archivos/Marginales/2600_2619/2618/e261800.html\n",
        "len(doc['barometro_dict']) = 33\n",
        "\n",
        "BAR\u00d3METRO JULIO 2005 , date: 2005-07-13 00:00:00 , doc_type: text/html\n",
        "URL: http://www.cis.es/cis/export/sites/default/-Archivos/Marginales/2600_2619/2616/e261600.html\n",
        "len(doc['barometro_dict']) = 33\n",
        "\n",
        "BAR\u00d3METRO JUNIO 2005 , date: 2005-06-06 00:00:00 , doc_type: text/html\n",
        "URL: http://www.cis.es/cis/export/sites/default/-Archivos/Marginales/2600_2619/2612/e261200.html\n",
        "len(doc['barometro_dict']) = 32\n",
        "\n",
        "BAR\u00d3METRO MAYO 2005 , date: 2005-05-13 00:00:00 , doc_type: text/html\n",
        "URL: http://www.cis.es/cis/export/sites/default/-Archivos/Marginales/2600_2619/2607/e260700.html\n",
        "len(doc['barometro_dict']) = 33\n",
        "\n",
        "BAR\u00d3METRO ABRIL 2005 , date: 2005-04-27 00:00:00 , doc_type: text/html\n",
        "URL: http://www.cis.es/cis/export/sites/default/-Archivos/Marginales/2600_2619/2602/e260200.html\n",
        "len(doc['barometro_dict']) = 31\n",
        "\n",
        "BAR\u00d3METRO MARZO 2005 , date: 2005-03-29 00:00:00 , doc_type: text/html\n",
        "URL: http://www.cis.es/cis/export/sites/default/-Archivos/Marginales/2580_2599/2597/e259700.html\n",
        "len(doc['barometro_dict']) = 37\n",
        "\n",
        "BAR\u00d3METRO FEBRERO 2005 , date: 2005-02-18 00:00:00 , doc_type: text/html\n",
        "URL: http://www.cis.es/cis/export/sites/default/-Archivos/Marginales/2580_2599/2594/e259400.html\n",
        "len(doc['barometro_dict']) = 37\n",
        "\n",
        "BAR\u00d3METRO ENERO 2005 , date: 2005-01-19 00:00:00 , doc_type: text/html\n",
        "URL: http://www.cis.es/cis/export/sites/default/-Archivos/Marginales/2580_2599/2589/e258900.html\n",
        "len(doc['barometro_dict']) = 37\n",
        "\n",
        "BAR\u00d3METRO DICIEMBRE 2004: EXPECTATIVAS 2005 , date: 2004-12-15 00:00:00 , doc_type: text/html\n",
        "URL: http://www.cis.es/cis/export/sites/default/-Archivos/Marginales/2580_2599/2584/e258400.html\n",
        "len(doc['barometro_dict']) = 37\n",
        "\n",
        "BAR\u00d3METRO NOVIEMBRE 2004 , date: 2004-11-19 00:00:00 , doc_type: text/html\n",
        "URL: http://www.cis.es/cis/export/sites/default/-Archivos/Marginales/2580_2599/2581/e258100.html\n",
        "len(doc['barometro_dict']) = 37\n",
        "\n",
        "BAR\u00d3METRO OCTUBRE 2004 , date: 2004-10-21 00:00:00 , doc_type: text/html\n",
        "URL: http://www.cis.es/cis/export/sites/default/-Archivos/Marginales/2560_2579/2577/e257700.html\n",
        "len(doc['barometro_dict']) = 37\n",
        "\n",
        "BAR\u00d3METRO SEPTIEMBRE 2004 , date: 2004-09-24 00:00:00 , doc_type: text/html\n",
        "URL: http://www.cis.es/cis/export/sites/default/-Archivos/Marginales/2560_2579/2573/e257300.html\n",
        "len(doc['barometro_dict']) = 37\n",
        "\n",
        "BAR\u00d3METRO JULIO 2004 , date: 2004-07-09 00:00:00 , doc_type: text/html\n",
        "URL: http://www.cis.es/cis/export/sites/default/-Archivos/Marginales/2560_2579/2570/e257000.html\n",
        "len(doc['barometro_dict']) = 37\n",
        "\n",
        "BAR\u00d3METRO JUNIO 2004 , date: 2004-06-25 00:00:00 , doc_type: text/html\n",
        "URL: http://www.cis.es/cis/export/sites/default/-Archivos/Marginales/2560_2579/2568/e256800.html\n",
        "len(doc['barometro_dict']) = 37\n",
        "\n",
        "BAR\u00d3METRO MAYO 2004 , date: 2004-05-27 00:00:00 , doc_type: text/html\n",
        "URL: http://www.cis.es/cis/export/sites/default/-Archivos/Marginales/2560_2579/2565/e256500.html\n",
        "len(doc['barometro_dict']) = 37\n",
        "\n",
        "BAR\u00d3METRO ABRIL 2004 , date: 2004-04-22 00:00:00 , doc_type: text/html\n",
        "URL: http://www.cis.es/cis/export/sites/default/-Archivos/Marginales/2560_2579/2561/e256100.html\n",
        "len(doc['barometro_dict']) = 37\n",
        "\n",
        "BAR\u00d3METRO MARZO 2004 , date: 2004-03-16 00:00:00 , doc_type: text/html\n",
        "URL: http://www.cis.es/cis/export/sites/default/-Archivos/Marginales/2540_2559/2558/e255800.html\n",
        "len(doc['barometro_dict']) = 37\n",
        "\n",
        "BAR\u00d3METRO FEBRERO 2004 , date: 2004-02-20 00:00:00 , doc_type: text/html\n",
        "URL: http://www.cis.es/cis/export/sites/default/-Archivos/Marginales/2540_2559/2556/e255600.html\n",
        "len(doc['barometro_dict']) = 37\n",
        "\n",
        "BAR\u00d3METRO ENERO 2004 , date: 2004-01-10 00:00:00 , doc_type: text/html\n",
        "URL: http://www.cis.es/cis/export/sites/default/-Archivos/Marginales/2540_2559/2554/e255400.html\n",
        "len(doc['barometro_dict']) = 36\n",
        "\n",
        "BAR\u00d3METRO DICIEMBRE 2003: EXPECTATIVAS 2004 , date: 2003-12-10 00:00:00 , doc_type: text/html\n",
        "URL: http://www.cis.es/cis/export/sites/default/-Archivos/Marginales/2540_2559/2548/e254800.html\n",
        "len(doc['barometro_dict']) = 36\n",
        "\n",
        "BAR\u00d3METRO NOVIEMBRE 2003 , date: 2003-11-14 00:00:00 , doc_type: text/html\n",
        "URL: http://www.cis.es/cis/export/sites/default/-Archivos/Marginales/2540_2559/2545/e254500.html\n",
        "len(doc['barometro_dict']) = 36\n",
        "\n",
        "BAR\u00d3METRO OCTUBRE 2003 , date: 2003-10-25 00:00:00 , doc_type: text/html\n",
        "URL: http://www.cis.es/cis/export/sites/default/-Archivos/Marginales/2540_2559/2541/e254100.html\n",
        "len(doc['barometro_dict']) = 36\n",
        "\n",
        "BAR\u00d3METRO SEPTIEMBRE 2003 , date: 2003-09-08 00:00:00 , doc_type: text/html\n",
        "URL: http://www.cis.es/cis/export/sites/default/-Archivos/Marginales/2520_2539/2535/e253500.html\n",
        "len(doc['barometro_dict']) = 36\n",
        "\n",
        "BAR\u00d3METRO JULIO 2003 , date: 2003-07-02 00:00:00 , doc_type: text/html\n",
        "URL: http://www.cis.es/cis/export/sites/default/-Archivos/Marginales/2520_2539/2531/e253100.html\n",
        "len(doc['barometro_dict']) = 36\n",
        "\n",
        "BAR\u00d3METRO JUNIO 2003 , date: 2003-06-17 00:00:00 , doc_type: text/html\n",
        "URL: http://www.cis.es/cis/export/sites/default/-Archivos/Marginales/2520_2539/2528/e252800.html\n",
        "len(doc['barometro_dict']) = 36\n",
        "\n",
        "BAR\u00d3METRO MAYO 2003 , date: 2003-05-16 00:00:00 , doc_type: text/html\n",
        "URL: http://www.cis.es/cis/export/sites/default/-Archivos/Marginales/2500_2519/2511/e251100.html\n",
        "len(doc['barometro_dict']) = 36\n",
        "\n",
        "BAR\u00d3METRO ABRIL 2003 , date: 2003-04-24 00:00:00 , doc_type: text/html\n",
        "URL: http://www.cis.es/cis/export/sites/default/-Archivos/Marginales/2500_2519/2508/e250800.html\n",
        "len(doc['barometro_dict']) = 36\n",
        "\n",
        "BAR\u00d3METRO MARZO 2003 , date: 2003-03-15 00:00:00 , doc_type: text/html\n",
        "URL: http://www.cis.es/cis/export/sites/default/-Archivos/Marginales/2480_2499/2483/e248300.html\n",
        "len(doc['barometro_dict']) = 37\n",
        "\n",
        "BAR\u00d3METRO FEBRERO 2003 , date: 2003-02-22 00:00:00 , doc_type: text/html\n",
        "URL: http://www.cis.es/cis/export/sites/default/-Archivos/Marginales/2480_2499/2481/e248100.html\n",
        "len(doc['barometro_dict']) = 37\n",
        "\n",
        "BAR\u00d3METRO ENERO 2003 , date: 2003-01-21 00:00:00 , doc_type: text/html\n",
        "URL: http://www.cis.es/cis/export/sites/default/-Archivos/Marginales/2460_2479/2477/e247700.html\n",
        "len(doc['barometro_dict']) = 36\n",
        "\n",
        "BAR\u00d3METRO DICIEMBRE 2002: EXPECTATIVAS 2003 , date: 2002-12-10 00:00:00 , doc_type: text/html\n",
        "URL: http://www.cis.es/cis/export/sites/default/-Archivos/Marginales/2460_2479/2474/e247400.html\n",
        "len(doc['barometro_dict']) = 36\n",
        "\n",
        "BAR\u00d3METRO NOVIEMBRE 2002 , date: 2002-11-16 00:00:00 , doc_type: text/html\n",
        "URL: http://www.cis.es/cis/export/sites/default/-Archivos/Marginales/2460_2479/2471/e247100.html\n",
        "len(doc['barometro_dict']) = 35\n",
        "\n",
        "BAR\u00d3METRO OCTUBRE 2002 , date: 2002-10-16 00:00:00 , doc_type: text/html\n",
        "URL: http://www.cis.es/cis/export/sites/default/-Archivos/Marginales/2460_2479/2468/e246800.html\n",
        "len(doc['barometro_dict']) = 35\n",
        "\n",
        "BAR\u00d3METRO SEPTIEMBRE 2002 , date: 2002-09-24 00:00:00 , doc_type: text/html\n",
        "URL: http://www.cis.es/cis/export/sites/default/-Archivos/Marginales/2460_2479/2466/e246600.html\n",
        "len(doc['barometro_dict']) = 35\n",
        "\n",
        "BAR\u00d3METRO JULIO 2002 , date: 2002-07-16 00:00:00 , doc_type: text/html\n",
        "URL: http://www.cis.es/cis/export/sites/default/-Archivos/Marginales/2460_2479/2463/e246300.html\n",
        "len(doc['barometro_dict']) = 35\n",
        "\n",
        "BAR\u00d3METRO JUNIO 2002 , date: 2002-06-26 00:00:00 , doc_type: text/html\n",
        "URL: http://www.cis.es/cis/export/sites/default/-Archivos/Marginales/2440_2459/2459/e245900.html\n",
        "len(doc['barometro_dict']) = 33\n",
        "\n",
        "BAR\u00d3METRO MAYO 2002 , date: 2002-05-20 00:00:00 , doc_type: text/html\n",
        "URL: http://www.cis.es/cis/export/sites/default/-Archivos/Marginales/2440_2459/2457/e245700.html\n",
        "len(doc['barometro_dict']) = 32\n",
        "\n",
        "BAR\u00d3METRO ABRIL 2002 , date: 2002-04-16 00:00:00 , doc_type: text/html\n",
        "URL: http://www.cis.es/cis/export/sites/default/-Archivos/Marginales/2440_2459/2454/e245400.html\n",
        "len(doc['barometro_dict']) = 33\n",
        "\n",
        "BAR\u00d3METRO MARZO 2002 , date: 2002-03-16 00:00:00 , doc_type: text/html\n",
        "URL: http://www.cis.es/cis/export/sites/default/-Archivos/Marginales/2440_2459/2452/e245200.html\n",
        "len(doc['barometro_dict']) = 33\n",
        "\n",
        "BAR\u00d3METRO FEBRERO 2002 , date: 2002-02-23 00:00:00 , doc_type: text/html\n",
        "URL: http://www.cis.es/cis/export/sites/default/-Archivos/Marginales/2440_2459/2448/e244800.html\n",
        "len(doc['barometro_dict']) = 33\n",
        "\n",
        "BAR\u00d3METRO ENERO 2002 , date: 2002-01-27 00:00:00 , doc_type: text/html\n",
        "URL: http://www.cis.es/cis/export/sites/default/-Archivos/Marginales/2440_2459/2444/e244400.html\n",
        "len(doc['barometro_dict']) = 32\n",
        "\n",
        "BAR\u00d3METRO DICIEMBRE 2001: EXPECTATIVAS 2002 , date: 2001-12-11 00:00:00 , doc_type: text/html\n",
        "URL: http://www.cis.es/cis/export/sites/default/-Archivos/Marginales/2440_2459/2441/e244100.html\n",
        "len(doc['barometro_dict']) = 32\n",
        "\n",
        "BAR\u00d3METRO NOVIEMBRE 2001 , date: 2001-11-21 00:00:00 , doc_type: text/html\n",
        "URL: http://www.cis.es/cis/export/sites/default/-Archivos/Marginales/2420_2439/2439/e243900.html\n",
        "len(doc['barometro_dict']) = 30\n",
        "\n",
        "BAR\u00d3METRO OCTUBRE 2001 , date: 2001-10-24 00:00:00 , doc_type: application/pdf\n",
        "URL: http://www.cis.es/cis/export/sites/default/-Archivos/Marginales/2420_2439/2433/Es2433mar.pdf\n",
        "No results.\n",
        "\n",
        "BAR\u00d3METRO SEPTIEMBRE 2001 , date: 2001-09-13 00:00:00 , doc_type: text/html\n",
        "URL: http://www.cis.es/cis/export/sites/default/-Archivos/Marginales/2420_2439/2429/e242900.html\n",
        "len(doc['barometro_dict']) = 28\n",
        "\n",
        "BAR\u00d3METRO JULIO 2001 , date: 2001-07-13 00:00:00 , doc_type: text/html\n",
        "URL: http://www.cis.es/cis/export/sites/default/-Archivos/Marginales/2420_2439/2428/e242800.html\n",
        "len(doc['barometro_dict']) = 30\n",
        "\n",
        "BAR\u00d3METRO JUNIO 2001 , date: 2001-06-19 00:00:00 , doc_type: text/html\n",
        "URL: http://www.cis.es/cis/export/sites/default/-Archivos/Marginales/2420_2439/2423/e242300.html\n",
        "len(doc['barometro_dict']) = 30\n",
        "\n",
        "BAR\u00d3METRO MAYO 2001 , date: 2001-05-22 00:00:00 , doc_type: text/html\n",
        "URL: http://www.cis.es/cis/export/sites/default/-Archivos/Marginales/2400_2419/2419/e241900.html\n",
        "len(doc['barometro_dict']) = 32\n",
        "\n",
        "BAR\u00d3METRO ABRIL 2001 , date: 2001-04-20 00:00:00 , doc_type: text/html\n",
        "URL: http://www.cis.es/cis/export/sites/default/-Archivos/Marginales/2400_2419/2415/e241500.html\n",
        "len(doc['barometro_dict']) = 32\n",
        "\n",
        "BAR\u00d3METRO MARZO 2001 , date: 2001-03-19 00:00:00 , doc_type: text/html\n",
        "URL: http://www.cis.es/cis/export/sites/default/-Archivos/Marginales/2400_2419/2411/e241100.html\n",
        "len(doc['barometro_dict']) = 32\n",
        "\n",
        "BAR\u00d3METRO FEBRERO 2001 , date: 2001-02-17 00:00:00 , doc_type: text/html\n",
        "URL: http://www.cis.es/cis/export/sites/default/-Archivos/Marginales/2400_2419/2409/e240900.html\n",
        "len(doc['barometro_dict']) = 31\n",
        "\n",
        "BAR\u00d3METRO ENERO 2001 , date: 2001-01-18 00:00:00 , doc_type: text/html\n",
        "URL: http://www.cis.es/cis/export/sites/default/-Archivos/Marginales/2400_2419/2406/e240600.html\n",
        "len(doc['barometro_dict']) = 30\n",
        "\n",
        "BAR\u00d3METRO DICIEMBRE 2000: EXPECTATIVAS 2001 , date: 2000-12-16 00:00:00 , doc_type: text/html\n",
        "URL: http://www.cis.es/cis/export/sites/default/-Archivos/Marginales/2400_2419/2405/e240500.html\n",
        "len(doc['barometro_dict']) = 30\n",
        "\n",
        "BAR\u00d3METRO NOVIEMBRE 2000 , date: 2000-11-23 00:00:00 , doc_type: text/html\n",
        "URL: http://www.cis.es/cis/export/sites/default/-Archivos/Marginales/2400_2419/2402/e240200.html\n",
        "len(doc['barometro_dict']) = 30\n",
        "\n",
        "BAR\u00d3METRO OCTUBRE 2000 , date: 2000-10-17 00:00:00 , doc_type: application/pdf\n",
        "URL: http://www.cis.es/cis/export/sites/default/-Archivos/Marginales/2400_2419/2400/Es2400mar.pdf\n",
        "No results.\n",
        "\n",
        "BAR\u00d3METRO SEPTIEMBRE 2000 , date: 2000-09-23 00:00:00 , doc_type: text/html\n",
        "URL: http://www.cis.es/cis/export/sites/default/-Archivos/Marginales/2380_2399/2398/e239800.html\n",
        "len(doc['barometro_dict']) = 29\n",
        "\n",
        "BAR\u00d3METRO JULIO 2000 , date: 2000-07-13 00:00:00 , doc_type: text/html\n",
        "URL: http://www.cis.es/cis/export/sites/default/-Archivos/Marginales/2380_2399/2396/e239600.html\n",
        "No results.\n",
        "\n",
        "BAR\u00d3METRO JUNIO 2000 , date: 2000-06-23 00:00:00 , doc_type: text/html\n",
        "URL: http://www.cis.es/cis/export/sites/default/-Archivos/Marginales/2380_2399/2394/e239400.html\n",
        "No results.\n",
        "\n",
        "BAR\u00d3METRO MAYO 2000: UNI\u00d3N EUROPEA , date: 2000-05-26 00:00:00 , doc_type: application/pdf\n",
        "URL: http://www.cis.es/cis/export/sites/default/-Archivos/Marginales/2380_2399/2392/Es2392mar.pdf\n",
        "No results.\n",
        "\n",
        "BAR\u00d3METRO ABRIL 2000 , date: 2000-04-29 00:00:00 , doc_type: text/html\n",
        "URL: http://www.cis.es/cis/export/sites/default/-Archivos/Marginales/2380_2399/2389/e238900.html\n",
        "No results.\n",
        "\n",
        "BAR\u00d3METRO MARZO 2000: CULTURA POL\u00cdTICA , date: 2000-03-24 00:00:00 , doc_type: application/pdf\n",
        "URL: http://www.cis.es/cis/export/sites/default/-Archivos/Marginales/2380_2399/2387/Es2387mar.pdf\n",
        "No results.\n",
        "\n",
        "BAR\u00d3METRO FEBRERO 2000 , date: 2000-02-25 00:00:00 , doc_type: text/html\n",
        "URL: http://www.cis.es/cis/export/sites/default/-Archivos/Marginales/2380_2399/2383/e238300.html\n",
        "No results.\n",
        "\n",
        "BAR\u00d3METRO ENERO 2000 , date: 2000-01-27 00:00:00 , doc_type: text/html\n",
        "URL: http://www.cis.es/cis/export/sites/default/-Archivos/Marginales/2380_2399/2381/e238100.html\n",
        "No results.\n",
        "\n",
        "BAR\u00d3METRO DICIEMBRE 1999: EXPECTATIVAS 2000 , date: 1999-12-16 00:00:00 , doc_type: text/html\n",
        "URL: http://www.cis.es/cis/export/sites/default/-Archivos/Marginales/2360_2379/2377/e237700.html\n",
        "No results.\n",
        "\n",
        "BAR\u00d3METRO NOVIEMBRE 1999 , date: 1999-11-26 00:00:00 , doc_type: application/pdf\n",
        "URL: http://www.cis.es/cis/export/sites/default/-Archivos/Marginales/2360_2379/2376/Es2376mar.pdf\n",
        "No results.\n",
        "\n",
        "BAR\u00d3METRO OCTUBRE 1999 , date: 1999-10-22 00:00:00 , doc_type: application/pdf\n",
        "URL: http://www.cis.es/cis/export/sites/default/-Archivos/Marginales/2360_2379/2372/Es2372mar.pdf\n",
        "No results.\n",
        "\n",
        "BAR\u00d3METRO SEPTIEMBRE 1999 , date: 1999-09-24 00:00:00 , doc_type: application/pdf\n",
        "URL: http://www.cis.es/cis/export/sites/default/-Archivos/Marginales/2360_2379/2369/Es2369mar.pdf\n",
        "No results.\n",
        "\n",
        "BAR\u00d3METRO JULIO 1999 , date: 1999-07-09 00:00:00 , doc_type: application/pdf\n",
        "URL: http://www.cis.es/cis/export/sites/default/-Archivos/Marginales/2360_2379/2367/Es2367mar.pdf\n",
        "No results.\n",
        "\n",
        "BAR\u00d3METRO JUNIO 1999 , date: 1999-06-26 00:00:00 , doc_type: application/pdf\n",
        "URL: http://www.cis.es/cis/export/sites/default/-Archivos/Marginales/2360_2379/2364/Es2364mar.pdf\n",
        "No results.\n",
        "\n",
        "BAR\u00d3METRO MAYO 1999: UNI\u00d3N EUROPEA , date: 1999-05-27 00:00:00 , doc_type: application/pdf\n",
        "URL: http://www.cis.es/cis/export/sites/default/-Archivos/Marginales/2320_2339/2339/Es2339mar.pdf\n",
        "No results.\n",
        "\n",
        "BAR\u00d3METRO ABRIL 1999 , date: 1999-04-24 00:00:00 , doc_type: text/html\n",
        "URL: http://www.cis.es/cis/export/sites/default/-Archivos/Marginales/2320_2339/2324/e232400.html\n",
        "No results.\n",
        "\n",
        "BAR\u00d3METRO MARZO 1999 , date: 1999-03-24 00:00:00 , doc_type: application/pdf\n",
        "URL: http://www.cis.es/cis/export/sites/default/-Archivos/Marginales/2320_2339/2322/Es2322mar.pdf\n",
        "No results.\n",
        "\n",
        "BAR\u00d3METRO FEBRERO 1999 , date: 1999-02-24 00:00:00 , doc_type: application/pdf\n",
        "URL: http://www.cis.es/cis/export/sites/default/-Archivos/Marginales/2320_2339/2320/Es2320mar.pdf\n",
        "No results.\n",
        "\n",
        "BAR\u00d3METRO ENERO 1999 , date: 1999-01-27 00:00:00 , doc_type: text/html\n",
        "URL: http://www.cis.es/cis/export/sites/default/-Archivos/Marginales/2300_2319/2316/e231600.html\n",
        "No results.\n",
        "\n",
        "BAR\u00d3METRO DICIEMBRE 1998: EXPECTATIVAS 1999 , date: 1998-12-18 00:00:00 , doc_type: text/html\n",
        "URL: http://www.cis.es/cis/export/sites/default/-Archivos/Marginales/2300_2319/2313/e231300.html\n",
        "No results.\n",
        "\n",
        "BAR\u00d3METRO NOVIEMBRE 1998 , date: 1998-11-26 00:00:00 , doc_type: text/html\n",
        "URL: http://www.cis.es/cis/export/sites/default/-Archivos/Marginales/2300_2319/2311/e231100.html\n",
        "No results.\n",
        "\n",
        "BAR\u00d3METRO OCTUBRE 1998 , date: 1998-10-26 00:00:00 , doc_type: text/html\n",
        "URL: http://www.cis.es/cis/export/sites/default/-Archivos/Marginales/2300_2319/2307/e230700.html\n",
        "No results.\n",
        "\n",
        "BAR\u00d3METRO SEPTIEMBRE 1998 , date: 1998-09-25 00:00:00 , doc_type: text/html\n",
        "URL: http://www.cis.es/cis/export/sites/default/-Archivos/Marginales/2300_2319/2303/e230300.html\n",
        "No results.\n",
        "\n",
        "BAR\u00d3METRO JULIO 1998 , date: 1998-07-09 00:00:00 , doc_type: text/html\n",
        "URL: http://www.cis.es/cis/export/sites/default/-Archivos/Marginales/2280_2299/2294/e229400.html\n",
        "len(doc['barometro_dict']) = 23\n",
        "\n",
        "BAR\u00d3METRO JUNIO 1998 , date: 1998-06-20 00:00:00 , doc_type: text/html\n",
        "URL: http://www.cis.es/cis/export/sites/default/-Archivos/Marginales/2280_2299/2291/e229100.html\n",
        "No results.\n",
        "\n",
        "BAR\u00d3METRO MAYO 1998: UNI\u00d3N EUROPEA , date: 1998-05-22 00:00:00 , doc_type: application/pdf\n",
        "URL: http://www.cis.es/cis/export/sites/default/-Archivos/Marginales/2280_2299/2288/Es2288mar_mod.pdf\n",
        "No results.\n",
        "\n",
        "BAR\u00d3METRO ABRIL 1998 , date: 1998-04-25 00:00:00 , doc_type: application/pdf\n",
        "URL: http://www.cis.es/cis/export/sites/default/-Archivos/Marginales/2280_2299/2285/Es2285mar_mod.pdf\n",
        "No results.\n",
        "\n",
        "BAR\u00d3METRO MARZO 1998 , date: 1998-03-27 00:00:00 , doc_type: text/html\n",
        "URL: http://www.cis.es/cis/export/sites/default/-Archivos/Marginales/2280_2299/2283/e228300.html\n",
        "No results.\n",
        "\n",
        "BAR\u00d3METRO FEBRERO 1998 , date: 1998-02-20 00:00:00 , doc_type: text/html\n",
        "URL: http://www.cis.es/cis/export/sites/default/-Archivos/Marginales/2260_2279/2278/e227800.html\n",
        "No results.\n",
        "\n",
        "BAR\u00d3METRO ENERO 1998 , date: 1998-01-23 00:00:00 , doc_type: text/html\n",
        "URL: http://www.cis.es/cis/export/sites/default/-Archivos/Marginales/2260_2279/2274/e227400.html\n",
        "No results.\n",
        "\n",
        "BAR\u00d3METRO DICIEMBRE 1997: EXPECTATIVAS 1998 , date: 1997-12-17 00:00:00 , doc_type: text/html\n",
        "URL: http://www.cis.es/cis/export/sites/default/-Archivos/Marginales/2260_2279/2271/e227100.html\n",
        "No results.\n",
        "\n",
        "BAR\u00d3METRO NOVIEMBRE 1997 , date: 1997-11-20 00:00:00 , doc_type: text/html\n",
        "URL: http://www.cis.es/cis/export/sites/default/-Archivos/Marginales/2260_2279/2267/e226700.html\n",
        "No results.\n",
        "\n",
        "BAR\u00d3METRO OCTUBRE 1997 , date: 1997-10-24 00:00:00 , doc_type: text/html\n",
        "URL: http://www.cis.es/cis/export/sites/default/-Archivos/Marginales/2260_2279/2264/e226400.html\n",
        "len(doc['barometro_dict']) = 16\n",
        "\n",
        "BAR\u00d3METRO SEPTIEMBRE 1997 , date: 1997-09-26 00:00:00 , doc_type: text/html\n",
        "URL: http://www.cis.es/cis/export/sites/default/-Archivos/Marginales/2240_2259/2259/e225900.html\n",
        "No results.\n",
        "\n",
        "BAR\u00d3METRO JULIO 1997 , date: 1997-07-11 00:00:00 , doc_type: text/html\n",
        "URL: http://www.cis.es/cis/export/sites/default/-Archivos/Marginales/2240_2259/2254/e225400.html\n",
        "No results.\n",
        "\n",
        "BAR\u00d3METRO JUNIO 1997 , date: 1997-06-20 00:00:00 , doc_type: text/html\n",
        "URL: http://www.cis.es/cis/export/sites/default/-Archivos/Marginales/2240_2259/2252/e225200.html\n",
        "No results.\n",
        "\n",
        "BAR\u00d3METRO MAYO 1997 , date: 1997-05-23 00:00:00 , doc_type: text/html\n",
        "URL: http://www.cis.es/cis/export/sites/default/-Archivos/Marginales/2240_2259/2248/e224800.html\n",
        "No results.\n",
        "\n",
        "BAR\u00d3METRO ABRIL 1997 , date: 1997-04-23 00:00:00 , doc_type: text/html\n",
        "URL: http://www.cis.es/cis/export/sites/default/-Archivos/Marginales/2240_2259/2244/e224400.html\n",
        "No results.\n",
        "\n",
        "BAR\u00d3METRO MARZO 1997 , date: 1997-03-19 00:00:00 , doc_type: text/html\n",
        "URL: http://www.cis.es/cis/export/sites/default/-Archivos/Marginales/2240_2259/2242/e224200.html\n",
        "len(doc['barometro_dict']) = 13\n",
        "\n",
        "BAR\u00d3METRO FEBRERO 1997 , date: 1997-02-22 00:00:00 , doc_type: text/html\n",
        "URL: http://www.cis.es/cis/export/sites/default/-Archivos/Marginales/2220_2239/2238/e223800.html\n",
        "No results.\n",
        "\n",
        "BAR\u00d3METRO ENERO 1997 , date: 1997-01-23 00:00:00 , doc_type: text/html\n",
        "URL: http://www.cis.es/cis/export/sites/default/-Archivos/Marginales/2220_2239/2233/e223300.html\n",
        "No results.\n",
        "\n",
        "BAR\u00d3METRO DICIEMBRE 1996 , date: 1996-12-17 00:00:00 , doc_type: text/html\n",
        "URL: http://www.cis.es/cis/export/sites/default/-Archivos/Marginales/2220_2239/2231/e223100.html\n",
        "No results.\n",
        "\n",
        "BAR\u00d3METRO NOVIEMBRE 1996 , date: 1996-11-23 00:00:00 , doc_type: text/html\n",
        "URL: http://www.cis.es/cis/export/sites/default/-Archivos/Marginales/2220_2239/2229/e222900.html\n",
        "len(doc['barometro_dict']) = 13\n",
        "\n",
        "BAR\u00d3METRO OCTUBRE 1996 , date: 1996-10-26 00:00:00 , doc_type: text/html\n",
        "URL: http://www.cis.es/cis/export/sites/default/-Archivos/Marginales/2220_2239/2225/e222500.html\n",
        "No results.\n",
        "\n",
        "BAR\u00d3METRO SEPTIEMBRE 1996 , date: 1996-09-27 00:00:00 , doc_type: text/html\n",
        "URL: http://www.cis.es/cis/export/sites/default/-Archivos/Marginales/2220_2239/2222/e222200.html\n",
        "No results.\n",
        "\n",
        "BAR\u00d3METRO JULIO 1996 , date: 1996-07-17 00:00:00 , doc_type: text/html\n",
        "URL: http://www.cis.es/cis/export/sites/default/-Archivos/Marginales/2220_2239/2220/e222000.html\n",
        "No results.\n",
        "\n",
        "BAR\u00d3METRO JUNIO 1996 , date: 1996-06-22 00:00:00 , doc_type: text/html\n",
        "URL: http://www.cis.es/cis/export/sites/default/-Archivos/Marginales/2200_2219/2217/e221700.html\n",
        "No results.\n",
        "\n",
        "BAR\u00d3METRO MAYO 1996 , date: 1996-05-29 00:00:00 , doc_type: text/html\n",
        "URL: http://www.cis.es/cis/export/sites/default/-Archivos/Marginales/2200_2219/2215/e221500.html\n",
        "No results.\n",
        "\n",
        "BAR\u00d3METRO ABRIL 1996 , date: 1996-04-13 00:00:00 , doc_type: text/html\n",
        "URL: http://www.cis.es/cis/export/sites/default/-Archivos/Marginales/2200_2219/2212/e221200.html\n",
        "No results.\n",
        "\n",
        "BAR\u00d3METRO MARZO 1996 , date: 1996-03-27 00:00:00 , doc_type: text/html\n",
        "URL: http://www.cis.es/cis/export/sites/default/-Archivos/Marginales/2200_2219/2211/e221100.html\n",
        "No results.\n",
        "\n",
        "BAR\u00d3METRO FEBRERO 1996 , date: 1996-02-27 00:00:00 , doc_type: text/html\n",
        "URL: http://www.cis.es/cis/export/sites/default/-Archivos/Marginales/2200_2219/2208/e220800.html\n",
        "No results.\n",
        "\n",
        "BAR\u00d3METRO ENERO 1996: UNI\u00d3N EUROPEA , date: 1996-01-10 00:00:00 , doc_type: text/html\n",
        "URL: http://www.cis.es/cis/export/sites/default/-Archivos/Marginales/2200_2219/2204/e220400.html\n",
        "No results.\n",
        "\n",
        "BAR\u00d3METRO DICIEMBRE 1995 , date: 1995-12-09 00:00:00 , doc_type: text/html\n",
        "URL: http://www.cis.es/cis/export/sites/default/-Archivos/Marginales/2200_2219/2201/e220100.html\n",
        "No results.\n",
        "\n",
        "BAR\u00d3METRO NOVIEMBRE 1995 , date: 1995-11-08 00:00:00 , doc_type: text/html\n",
        "URL: http://www.cis.es/cis/export/sites/default/-Archivos/Marginales/2180_2199/2197/e219700.html\n",
        "No results.\n",
        "\n",
        "BAR\u00d3METRO OCTUBRE 1995 , date: 1995-10-17 00:00:00 , doc_type: text/html\n",
        "URL: http://www.cis.es/cis/export/sites/default/-Archivos/Marginales/2180_2199/2194/e219400.html\n",
        "No results.\n",
        "\n",
        "BAR\u00d3METRO SEPTIEMBRE 1995 , date: 1995-09-13 00:00:00 , doc_type: text/html\n",
        "URL: http://www.cis.es/cis/export/sites/default/-Archivos/Marginales/2180_2199/2190/e219000.html\n",
        "No results.\n",
        "\n",
        "BAR\u00d3METRO JULIO 1995: UNI\u00d3N EUROPEA , date: 1995-07-12 00:00:00 , doc_type: text/html\n",
        "URL: http://www.cis.es/cis/export/sites/default/-Archivos/Marginales/2180_2199/2188/e218800.html\n",
        "No results.\n",
        "\n",
        "BAR\u00d3METRO JUNIO 1995 , date: 1995-06-25 00:00:00 , doc_type: text/html\n",
        "URL: http://www.cis.es/cis/export/sites/default/-Archivos/Marginales/2180_2199/2184/e218400.html\n",
        "No results.\n",
        "\n",
        "BAR\u00d3METRO MAYO 1995 , date: 1995-05-25 00:00:00 , doc_type: text/html\n",
        "URL: http://www.cis.es/cis/export/sites/default/-Archivos/Marginales/2180_2199/2181/e218100.html\n",
        "No results.\n",
        "\n",
        "BAR\u00d3METRO ABRIL 1995 , date: 1995-04-19 00:00:00 , doc_type: text/html\n",
        "URL: http://www.cis.es/cis/export/sites/default/-Archivos/Marginales/2140_2159/2156/e215600.html\n",
        "No results.\n",
        "\n",
        "BAR\u00d3METRO MARZO 1995 , date: 1995-03-19 00:00:00 , doc_type: text/html\n",
        "URL: http://www.cis.es/cis/export/sites/default/-Archivos/Marginales/2140_2159/2151/e215100.html\n",
        "No results.\n",
        "\n",
        "BAR\u00d3METRO FEBRERO 1995 , date: 1995-02-02 00:00:00 , doc_type: text/html\n",
        "URL: http://www.cis.es/cis/export/sites/default/-Archivos/Marginales/2120_2139/2132/e213200.html\n",
        "No results.\n",
        "\n",
        "BAR\u00d3METRO ENERO 1995 , date: 1995-01-12 00:00:00 , doc_type: text/html\n",
        "URL: http://www.cis.es/cis/export/sites/default/-Archivos/Marginales/2120_2139/2130/e213000.html\n",
        "No results.\n",
        "\n",
        "BAR\u00d3METRO DICIEMBRE 1994 , date: 1994-12-01 00:00:00 , doc_type: text/html\n",
        "URL: http://www.cis.es/cis/export/sites/default/-Archivos/Marginales/2120_2139/2127/e212700.html\n",
        "No results.\n",
        "\n",
        "BAR\u00d3METRO NOVIEMBRE 1994 , date: 1994-11-12 00:00:00 , doc_type: text/html\n",
        "URL: http://www.cis.es/cis/export/sites/default/-Archivos/Marginales/2120_2139/2122/e212200.html\n",
        "No results.\n",
        "\n",
        "BAR\u00d3METRO OCTUBRE 1994 , date: 1994-10-19 00:00:00 , doc_type: text/html\n",
        "URL: http://www.cis.es/cis/export/sites/default/-Archivos/Marginales/2100_2119/2118/e211800.html\n",
        "No results.\n",
        "\n",
        "BAR\u00d3METRO SEPTIEMBRE 1994 , date: 1994-09-20 00:00:00 , doc_type: text/html\n",
        "URL: http://www.cis.es/cis/export/sites/default/-Archivos/Marginales/2100_2119/2115/e211500.html\n",
        "No results.\n",
        "\n",
        "BAR\u00d3METRO JULIO 1994 , date: 1994-07-01 00:00:00 , doc_type: text/html\n",
        "URL: http://www.cis.es/cis/export/sites/default/-Archivos/Marginales/2100_2119/2110/e211000.html\n",
        "No results.\n",
        "\n",
        "BAR\u00d3METRO JUNIO 1994: POSTELECTORAL PARLAMENTO EUROPEO , date: 1994-06-16 00:00:00 , doc_type: text/html\n",
        "URL: http://www.cis.es/cis/export/sites/default/-Archivos/Marginales/2100_2119/2108/e210800.html\n",
        "No results.\n",
        "\n",
        "BAR\u00d3METRO MAYO 1994 , date: 1994-05-12 00:00:00 , doc_type: text/html\n",
        "URL: http://www.cis.es/cis/export/sites/default/-Archivos/Marginales/2100_2119/2100/es2100mar.html\n",
        "No results.\n",
        "\n",
        "BAR\u00d3METRO ABRIL 1994 , date: 1994-04-06 00:00:00 , doc_type: text/html\n",
        "URL: http://www.cis.es/cis/export/sites/default/-Archivos/Marginales/2080_2099/2087/e208700.html\n",
        "No results.\n",
        "\n",
        "-------------------------------------------\n",
        "Num. of docs without results: 68 , 29.0 %\n",
        "-------------------------------------------\n",
        "\n"
       ]
      }
     ],
     "prompt_number": 124
    },
    {
     "cell_type": "heading",
     "level": 4,
     "metadata": {},
     "source": [
      "Est\u00e1distica dels diferents 'problemes'"
     ]
    },
    {
     "cell_type": "code",
     "collapsed": false,
     "input": [
      "from gridfs import GridFS\n",
      "\n",
      "#\n",
      "barometro_docs_collection = db['barometro_docs']\n",
      "fs = GridFS(db, 'barometro_docs')\n",
      "\n",
      "result = barometro_docs_collection.find().sort('date',DESCENDING)\n",
      "\n",
      "if result.count() > 0 :\n",
      "    num_docs = result.count()\n",
      "    print \"Num. of docs:\", num_docs\n",
      "    \n",
      "    topic_dictionary = {}\n",
      "    for doc in result:\n",
      "        if len(doc['barometro_dict']) > 0:\n",
      "           \n",
      "            for topic in doc['barometro_dict']:\n",
      "                if topic[0] in topic_dictionary:\n",
      "                    topic_dictionary[topic[0]]['num'] += 1\n",
      "                    topic_dictionary[topic[0]]['value'] += topic[1]\n",
      "                else:\n",
      "                    topic_dictionary[topic[0]] = {'num':1, 'value':topic[1]}\n",
      "\n",
      "    topic_list = []\n",
      "    for topic in topic_dictionary:\n",
      "        topic_list.append((topic,topic_dictionary[topic]['num'],topic_dictionary[topic]['value']/topic_dictionary[topic]['num']))\n",
      "        \n",
      "    topic_list.sort(key=lambda tup: tup[2], reverse=True)\n",
      "\n",
      "    print \"\\n-------------------------------------------\"\n",
      "    print \"len(topic_list):\", len(topic_list)\n",
      "    for topic in topic_list:\n",
      "        print topic[0], \" --> \", topic[2], \" (\", topic[1], \")\"\n",
      "    print \"-------------------------------------------\\n\""
     ],
     "language": "python",
     "metadata": {},
     "outputs": [
      {
       "output_type": "stream",
       "stream": "stdout",
       "text": [
        "Num. of docs: 229\n",
        "\n",
        "-------------------------------------------\n",
        "len(topic_list): 189\n",
        "El paro  -->  67.1642201835  ( 109 )\n",
        "Paro  -->  60.9  ( 52 )\n",
        "Terrorismo, ETA  -->  53.074  ( 50 )\n",
        "Los problemas de \u00edndole econ\u00f3mica  -->  36.5972222222  ( 108 )\n",
        "El terrorismo  -->  33.4  ( 1 )\n",
        "Terrorismo, etc.  -->  32.6  ( 1 )\n",
        "Los pol\u00edticos en general, los partidos y la pol\u00edtica  -->  29.7  ( 1 )\n",
        "Los pol\u00edticos en general, los partidos pol\u00edticos y la pol\u00edtica  -->  29.6181818182  ( 11 )\n",
        "La droga  -->  29.2  ( 1 )\n",
        "Drogas. Alcoholismo.  -->  27.5  ( 1 )\n",
        "Los/as pol\u00edticos/as en general, los partidos y la pol\u00edtica  -->  25.0153846154  ( 13 )\n",
        "Droga  -->  25.0  ( 2 )\n",
        "Terrorismo  -->  20.6  ( 1 )\n",
        "'Vacas locas'  -->  20.2  ( 1 )\n",
        "Inseguridad ciudadana  -->  19.9710526316  ( 38 )\n",
        "La inmigraci\u00f3n  -->  17.0657407407  ( 108 )\n",
        "Droga, alcoholismo  -->  15.5  ( 11 )\n",
        "Delincuencia. Inseguridad ciudadana  -->  15.4  ( 1 )\n",
        "Inmigraci\u00f3n  -->  15.1530612245  ( 49 )\n",
        "El terrorismo, ETA  -->  15.0453703704  ( 108 )\n",
        "La delincuencia e inseguridad ciudadana  -->  14.6  ( 1 )\n",
        "Problemas pol\u00edticos (el Gobierno, la pol\u00edtica)  -->  14.4  ( 1 )\n",
        "La clase pol\u00edtica, los partidos pol\u00edticos  -->  13.5987951807  ( 83 )\n",
        "Problemas sociales (falta de servicios y ayudas sociales)  -->  13.5  ( 1 )\n",
        "Problemas econ\u00f3micos (Poca inversi\u00f3n, d\u00e9ficit p\u00fablico, salarios bajos)  -->  13.1  ( 1 )\n",
        "Delincuencia, inseguridad ciudadana. Violencia  -->  13.0  ( 1 )\n",
        "Problemas sociales (racismo, pobreza, etc.)  -->  13.0  ( 1 )\n",
        "La situaci\u00f3n econ\u00f3mica (carest\u00eda, sueldos, impuestos)  -->  12.8  ( 1 )\n",
        "La vivienda  -->  12.6824074074  ( 108 )\n",
        "La escasez y mal funcionamiento de los servicios p\u00fablicos  -->  12.6  ( 1 )\n",
        "Servicios p\u00fablicos (escasez, mal funcionamiento)  -->  12.4  ( 1 )\n",
        "Delincuencia e inseguridad ciudadana  -->  11.8  ( 1 )\n",
        "La corrupci\u00f3n y el fraude  -->  11.1577981651  ( 109 )\n",
        "La situaci\u00f3n econ\u00f3mica (carest\u00eda, precios, sueldos, etc.)  -->  11.1  ( 1 )\n",
        "Drogas  -->  11.0026315789  ( 38 )\n",
        "Vivienda  -->  10.4183673469  ( 49 )\n",
        "Problemas econ\u00f3micos  -->  10.3346938776  ( 49 )\n",
        "Situaci\u00f3n econ\u00f3mica  -->  10.3  ( 1 )\n",
        "La inseguridad ciudadana  -->  9.6712962963  ( 108 )\n",
        "Los problemas sociales (falta de servicios y ayudas)  -->  9.6  ( 1 )\n",
        "Delincuencia, inseguridad ciudadana  -->  9.49090909091  ( 11 )\n",
        "Servicios p\u00fablicos: escasez, mal funcionamiento (sanidad, vivienda, carreteras, tr\u00e1fico, etc.)  -->  9.1  ( 1 )\n",
        "El problema de las vacas locas  -->  8.6  ( 1 )\n",
        "Los problemas pol\u00edticos  -->  8.5  ( 1 )\n",
        "Otros problemas  -->  8.4  ( 2 )\n",
        "Problemas pol\u00edticos (desconfianza, mala gesti\u00f3n)  -->  8.2  ( 1 )\n",
        "Problemas pol\u00edticos  -->  7.11  ( 50 )\n",
        "La sanidad  -->  6.38240740741  ( 108 )\n",
        "Los Bancos  -->  6.2  ( 2 )\n",
        "La crisis de valores (racismo, incomunicaci\u00f3n)  -->  6.0  ( 1 )\n",
        "Las guerras  -->  5.85833333333  ( 12 )\n",
        "La educaci\u00f3n  -->  5.72037037037  ( 108 )\n",
        "Problemas del medio ambiente (contaminaci\u00f3n, desertizaci\u00f3n, incendios, etc.)  -->  5.7  ( 1 )\n",
        "Los problemas relacionados con la calidad del empleo  -->  5.13333333333  ( 108 )\n",
        "Los recortes  -->  4.76111111111  ( 18 )\n",
        "Los problemas de la ganader\u00eda y la alimentaci\u00f3n  -->  4.56  ( 5 )\n",
        "Los problemas de \u00edndole social  -->  4.44537037037  ( 108 )\n",
        "Sanidad  -->  4.40204081633  ( 49 )\n",
        "Bancos  -->  4.34375  ( 16 )\n",
        "\"Los recortes\"  -->  4.03571428571  ( 14 )\n",
        "El Gobierno y partidos o pol\u00edticos concretos  -->  4.0  ( 1 )\n",
        "Problemas sociales  -->  3.988  ( 50 )\n",
        "La guerra de Irak  -->  3.97333333333  ( 15 )\n",
        "Educaci\u00f3n  -->  3.88421052632  ( 38 )\n",
        "Otras respuestas  -->  3.84140127389  ( 157 )\n",
        "El sistema educativo  -->  3.65  ( 2 )\n",
        "Desahucios  -->  3.6  ( 10 )\n",
        "N.S.  -->  3.43489932886  ( 149 )\n",
        "Violencia contra la mujer  -->  3.38571428571  ( 49 )\n",
        "Sistema educativo  -->  3.27272727273  ( 11 )\n",
        "El Gobierno, los pol\u00edticos y los partidos  -->  3.2578313253  ( 83 )\n",
        "Otros  -->  3.25  ( 2 )\n",
        "Problemas relacionados con el empleo  -->  3.25  ( 34 )\n",
        "El Gobierno y partidos o pol\u00edticos/as concretos  -->  3.16153846154  ( 13 )\n",
        "El Gobierno, los pol\u00edticos y los partidos concretos  -->  3.10909090909  ( 11 )\n",
        "El conflicto del islote de Perejil  -->  3.0  ( 1 )\n",
        "Las pensiones  -->  2.99303797468  ( 158 )\n",
        "La actuaci\u00f3n judicial (lentitud, errores, etc.)  -->  2.8  ( 1 )\n",
        "Subida de los carburantes  -->  2.7375  ( 8 )\n",
        "Atentado New York y sus consecuencias  -->  2.6  ( 1 )\n",
        "Crisis de valores sociales  -->  2.5  ( 1 )\n",
        "El desastre del Prestige  -->  2.45  ( 22 )\n",
        "D\u00e9ficit de valores sociales  -->  2.40909090909  ( 11 )\n",
        "La reforma de los Estatutos de autonom\u00eda  -->  2.3  ( 1 )\n",
        "Las actuaciones judiciales  -->  2.2  ( 1 )\n",
        "Las drogas  -->  2.18504672897  ( 107 )\n",
        "Medio ambiente, contaminaci\u00f3n  -->  2.1  ( 1 )\n",
        "Corrupci\u00f3n, fraude  -->  2.1  ( 1 )\n",
        "Contaminaci\u00f3n, medio ambiente  -->  2.09  ( 10 )\n",
        "La crisis de valores  -->  2.08148148148  ( 108 )\n",
        "Corrupci\u00f3n pol\u00edtica  -->  2.0  ( 1 )\n",
        "Los bancos  -->  1.97142857143  ( 14 )\n",
        "Precariedad en el empleo  -->  1.96666666667  ( 15 )\n",
        "No_sabe  -->  1.93333333333  ( 9 )\n",
        "La Administraci\u00f3n de Justicia  -->  1.91203703704  ( 108 )\n",
        "Crisis de valores  -->  1.85526315789  ( 38 )\n",
        "Subida del IVA  -->  1.80833333333  ( 12 )\n",
        "Los problemas relacionados con la juventud  -->  1.8  ( 108 )\n",
        "La reforma de los Estatutos de Autonom\u00eda  -->  1.725  ( 4 )\n",
        "La actuaci\u00f3n judicial  -->  1.71666666667  ( 12 )\n",
        "La violencia contra la mujer  -->  1.69814814815  ( 108 )\n",
        "Los desahucios  -->  1.62666666667  ( 15 )\n",
        "Problemas ecol\u00f3gicos y del medio ambiente  -->  1.6  ( 1 )\n",
        "Justicia  -->  1.53684210526  ( 38 )\n",
        "La subida del IVA  -->  1.41333333333  ( 15 )\n",
        "La Reforma de los Estatutos de autonom\u00eda  -->  1.4  ( 1 )\n",
        "Problemas de la juventud  -->  1.372  ( 50 )\n",
        "No_Sabe  -->  1.3  ( 1 )\n",
        "Infraestructuras  -->  1.21052631579  ( 38 )\n",
        "'Vacas locas  -->  1.2  ( 2 )\n",
        "El euro  -->  1.2  ( 28 )\n",
        "Medio ambiente  -->  1.11842105263  ( 38 )\n",
        "La guerra. Las guerras en general  -->  1.1  ( 1 )\n",
        "Subida del precio a causa del euro  -->  1.1  ( 1 )\n",
        "Corrupci\u00f3n y fraude  -->  1.0641025641  ( 39 )\n",
        "Escasez y/o mal funcionamiento de los servicios p\u00fablicos  -->  1.05454545455  ( 11 )\n",
        "Los nacionalismos  -->  0.982727272727  ( 110 )\n",
        "Los problemas medioambientales  -->  0.982407407407  ( 108 )\n",
        "La guerra de Afganist\u00e1n  -->  0.925  ( 8 )\n",
        "Reforma laboral  -->  0.9  ( 1 )\n",
        "Inflaci\u00f3n por el euro  -->  0.9  ( 1 )\n",
        "Funcionamiento y cobertura de los servicios p\u00fablicos  -->  0.869230769231  ( 39 )\n",
        "Subida de precios a causa del euro  -->  0.866666666667  ( 3 )\n",
        "Racismo  -->  0.863265306122  ( 49 )\n",
        "Euro  -->  0.8  ( 4 )\n",
        "La guerra de Irak. Las guerras en general  -->  0.8  ( 1 )\n",
        "Problemas derivados de las autonom\u00edas  -->  0.754545454545  ( 11 )\n",
        "Problemas pol\u00edticos en el Pa\u00eds Vasco  -->  0.7  ( 1 )\n",
        "El atentado del 11-M  -->  0.681818181818  ( 11 )\n",
        "El estatuto de Catalu\u00f1a  -->  0.66  ( 5 )\n",
        "No_contesta  -->  0.633333333333  ( 9 )\n",
        "Problemas de la agricultura, ganader\u00eda y pesca  -->  0.630769230769  ( 39 )\n",
        "Problemas de la agricultura  -->  0.63  ( 10 )\n",
        "Los problemas laborales y familiares de las mujeres  -->  0.6  ( 1 )\n",
        "Problemas relacionados con la UE y la entrada en el Euro  -->  0.6  ( 1 )\n",
        "Las infraestructuras  -->  0.585046728972  ( 107 )\n",
        "Monarqu\u00eda  -->  0.583333333333  ( 6 )\n",
        "Problemas relacionados con el ocio de los j\u00f3venes  -->  0.554545454545  ( 33 )\n",
        "\u00c9bola  -->  0.55  ( 2 )\n",
        "Fraude fiscal  -->  0.533333333333  ( 9 )\n",
        "El fraude fiscal  -->  0.533333333333  ( 15 )\n",
        "N.C.  -->  0.518791946309  ( 149 )\n",
        "Los nacionalismos en Espa\u00f1a  -->  0.5  ( 1 )\n",
        "Problemas relacionados con la mujer  -->  0.426315789474  ( 38 )\n",
        "Problemas laborales y familiares de la mujer  -->  0.425  ( 4 )\n",
        "Hipotecas  -->  0.425  ( 8 )\n",
        "El funcionamiento de los servicios p\u00fablicos  -->  0.406481481481  ( 108 )\n",
        "No_Contesta  -->  0.4  ( 1 )\n",
        "Los problemas de la agricultura, ganader\u00eda y pesca  -->  0.397222222222  ( 108 )\n",
        "El Estatuto de Catalu\u00f1a  -->  0.388235294118  ( 51 )\n",
        "La Monarqu\u00eda  -->  0.378571428571  ( 14 )\n",
        "El Estatuto de autonom\u00eda  -->  0.371428571429  ( 7 )\n",
        "Estatutos de autonom\u00eda  -->  0.3625  ( 32 )\n",
        "La reforma laboral  -->  0.352941176471  ( 17 )\n",
        "Las excarcelaciones  -->  0.342857142857  ( 7 )\n",
        "Acuerdos pesqueros  -->  0.333333333333  ( 3 )\n",
        "Ley antitabaco  -->  0.333333333333  ( 3 )\n",
        "La situaci\u00f3n pol\u00edtica del Pa\u00eds Vasco  -->  0.3  ( 15 )\n",
        "Problemas relacionados con el comportamiento de los j\u00f3venes  -->  0.3  ( 1 )\n",
        "Problemas relacionados con el comportamiento social de los j\u00f3venes  -->  0.3  ( 1 )\n",
        "La salud  -->  0.295918367347  ( 49 )\n",
        "El racismo  -->  0.240384615385  ( 104 )\n",
        "Las preocupaciones y situaciones personales  -->  0.238095238095  ( 105 )\n",
        "Negociaciones con ETA  -->  0.233333333333  ( 3 )\n",
        "El accidente del Prestige  -->  0.2  ( 1 )\n",
        "La limitaci\u00f3n de la velocidad en autopistas y autov\u00edas  -->  0.2  ( 1 )\n",
        "Las hipotecas  -->  0.2  ( 14 )\n",
        "La Ley sobre la reforma del desempleo  -->  0.2  ( 1 )\n",
        "El futuro de los hijos  -->  0.2  ( 10 )\n",
        "Ninguno  -->  0.174358974359  ( 156 )\n",
        "Subida de tarifas energ\u00e9ticas  -->  0.17  ( 10 )\n",
        "La guerra en Afganist\u00e1n  -->  0.15  ( 2 )\n",
        "Los problemas relacionados con la mujer  -->  0.139215686275  ( 102 )\n",
        "Las guerras en general  -->  0.134615384615  ( 104 )\n",
        "La situaci\u00f3n del Pa\u00eds Vasco  -->  0.133333333333  ( 12 )\n",
        "La Ley del aborto  -->  0.111111111111  ( 9 )\n",
        "La familia  -->  0.1  ( 1 )\n",
        "Problemas pol\u00edticos en el P. Vasco  -->  0.1  ( 1 )\n",
        "Los acuerdos pesqueros  -->  0.1  ( 1 )\n",
        "La ley sobre la reforma del desempleo  -->  0.0933333333333  ( 15 )\n",
        "Reforma Laboral  -->  0.0769230769231  ( 13 )\n",
        "El terrorismo internacional  -->  0.04375  ( 96 )\n",
        "Las negociaciones con ETA  -->  0.0246753246753  ( 77 )\n",
        "Alimentaci\u00f3n  -->  0.00285714285714  ( 35 )\n",
        "El atentado del 11-M. Terrorismo islamista  -->  0.0  ( 1 )\n",
        "Reforma del Seguro de Desempleo  -->  0.0  ( 11 )\n",
        "La Ley antitabaco  -->  0.0  ( 1 )\n",
        "El accidente del petrolero Prestige  -->  0.0  ( 3 )\n",
        "La reforma del desempleo  -->  0.0  ( 3 )\n",
        "-------------------------------------------\n",
        "\n"
       ]
      }
     ],
     "prompt_number": 130
    },
    {
     "cell_type": "code",
     "collapsed": false,
     "input": [],
     "language": "python",
     "metadata": {},
     "outputs": []
    }
   ],
   "metadata": {}
  }
 ]
}