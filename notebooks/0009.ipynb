{
 "metadata": {
  "name": "",
  "signature": "sha256:979eeb2a31e2ed41bdeca67b5e3598e9425a3a3ae5144c14071e6cc509db6e55"
 },
 "nbformat": 3,
 "nbformat_minor": 0,
 "worksheets": [
  {
   "cells": [
    {
     "cell_type": "code",
     "collapsed": false,
     "input": [
      "import pickle\n",
      "adj_dict = pickle.load( open( \"C:\\Users\\pablo_000\\Dropbox\\SpanishPoliticsDebate\\data\\pickle\\\\adj.pickle\", \"rb\" ) )"
     ],
     "language": "python",
     "metadata": {},
     "outputs": [],
     "prompt_number": 4
    },
    {
     "cell_type": "code",
     "collapsed": false,
     "input": [
      "adj_dict['bonito']"
     ],
     "language": "python",
     "metadata": {},
     "outputs": [
      {
       "metadata": {},
       "output_type": "pyout",
       "prompt_number": 5,
       "text": [
        "{'label': 'AQ0MS0', 'lemma': 'bonito'}"
       ]
      }
     ],
     "prompt_number": 5
    },
    {
     "cell_type": "code",
     "collapsed": false,
     "input": [],
     "language": "python",
     "metadata": {},
     "outputs": []
    }
   ],
   "metadata": {}
  }
 ]
}