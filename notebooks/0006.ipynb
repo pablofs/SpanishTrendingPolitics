{
 "metadata": {
  "name": "",
  "signature": "sha256:1f5b37fd024f123a9daa06f4d2f7b2916ac005f4f9d27ba3add3071753c0002f"
 },
 "nbformat": 3,
 "nbformat_minor": 0,
 "worksheets": [
  {
   "cells": [
    {
     "cell_type": "heading",
     "level": 1,
     "metadata": {},
     "source": [
      "Scraping"
     ]
    },
    {
     "cell_type": "heading",
     "level": 3,
     "metadata": {},
     "source": [
      "M\u00e8todes i utilitats"
     ]
    },
    {
     "cell_type": "code",
     "collapsed": false,
     "input": [
      "from urllib2 import Request, urlopen, URLError\n",
      "\n",
      "# M\u00e8tode per obtenir una p\u00e0gina web\n",
      "def get_html_page(url_page):\n",
      "    req = Request(url_page)\n",
      "    try:\n",
      "        html_page = urlopen(req)\n",
      "    except URLError as e:\n",
      "        if hasattr(e, 'reason'):\n",
      "            print 'We failed to reach a server. URL: ' + url_page\n",
      "            print 'Reason: ', e.reason\n",
      "        elif hasattr(e, 'code'):\n",
      "            print 'The server couldn\\'t fulfill the request. URL: ' + url_page\n",
      "            print 'Error code: ', e.code\n",
      "    else:\n",
      "        # everything is fine\n",
      "        return html_page    "
     ],
     "language": "python",
     "metadata": {},
     "outputs": [],
     "prompt_number": 2
    },
    {
     "cell_type": "code",
     "collapsed": false,
     "input": [
      "# http://stackoverflow.com/questions/7100125/storing-python-dictionaries\n",
      "\n",
      "import json\n",
      "import yaml\n",
      "\n",
      "# M\u00e8todes per grabar y carregar fitxers en format json\n",
      "def save_dict_json(dict, filename):\n",
      "    with open(filename, 'wb') as fp:\n",
      "        json.dump(dict, fp)\n",
      "\n",
      "def load_dict_json(filename):\n",
      "    with open(filename, 'rb') as fp:\n",
      "        return json.load(fp)\n",
      "\n",
      "# http://stackoverflow.com/questions/956867/how-to-get-string-objects-instead-of-unicode-ones-from-json-in-python\n",
      "def load_dict_yaml(filename):\n",
      "    with open(filename, 'rb') as fp:\n",
      "        return yaml.load(fp)\n",
      "    \n",
      "# M\u00e8tode per grabar un fitxer de texte\n",
      "def save_text_file(text, file_name, encoding = 'utf-8'):\n",
      "    with open(file_name, \"w\") as text_file:\n",
      "        if encoding:\n",
      "            text_file.write(text.encode(encoding))\n",
      "        else:\n",
      "            text_file.write(text)\n",
      "            \n",
      "# M\u00e8tode per grabar un fitxer de texte\n",
      "def save_list_text_file(text_list, file_name):\n",
      "    with open(file_name, \"w\") as text_file:\n",
      "        for item in text_list:\n",
      "            text_file.write(\"%s\\n\" % item)\n",
      "        \n",
      "# M\u00e8tode per carregar un fitxer de texte\n",
      "def load_text_file(file_name, encoding = 'utf-8'):\n",
      "    with open(file_name, \"r\") as text_file:\n",
      "        if encoding:\n",
      "            return text_file.read().decode(encoding)\n",
      "        else:\n",
      "            return text_file.read()\n",
      "        \n",
      "# M\u00e8tode per eliminar caracters incorrectes als noms de fitxers (potser millor utilitzar: https://pypi.python.org/pypi/goldfinch/0.4)\n",
      "invalid_filename_chars_windows = '\\/:*?\"<>|'\n",
      "def del_invalid_chars(value, deletechars):\n",
      "    for c in deletechars:\n",
      "        value = value.replace(c,'')\n",
      "    return value;\n",
      "\n",
      "import datetime\n",
      "\n",
      "# M\u00e8tode per cambiar de format de data\n",
      "def format_date(strFecha, format_1, format_2):\n",
      "    dtDate = datetime.datetime.strptime(strFecha, format_1)\n",
      "    return dtDate.strftime(format_2)"
     ],
     "language": "python",
     "metadata": {},
     "outputs": [],
     "prompt_number": 3
    },
    {
     "cell_type": "code",
     "collapsed": false,
     "input": [
      "# http://stackoverflow.com/questions/22676/how-do-i-download-a-file-over-http-using-python/22776#22776\n",
      "# http://blog.radevic.com/2012/07/python-download-url-to-file-with.html\n",
      "\n",
      "import urllib2\n",
      "import sys\n",
      "\n",
      "# M\u00e8tode per descarregar fitxers d'una url\n",
      "def download_file(url, file_name, path = \"\", verbose = False):\n",
      "    u = urllib2.urlopen(url)\n",
      "    f = open(path+file_name, 'wb')\n",
      "    meta = u.info()\n",
      "    file_size = int(meta.getheaders(\"Content-Length\")[0])\n",
      "    if verbose:\n",
      "        print(\"Downloading: {0} Bytes: {1}\".format(url, file_size))\n",
      "\n",
      "    file_size_dl = 0\n",
      "    block_sz = 8192\n",
      "    while True:\n",
      "        buffer = u.read(block_sz)\n",
      "        if not buffer:\n",
      "            break\n",
      "\n",
      "        file_size_dl += len(buffer)\n",
      "        f.write(buffer)\n",
      "        \n",
      "        if verbose:\n",
      "            p = float(file_size_dl) / file_size\n",
      "            status = \"\\r{0} bytes  [{1:.2%}]\".format(file_size_dl, p)\n",
      "            status = status + chr(8)*(len(status)+1)\n",
      "            sys.stdout.write(status)\n",
      "            sys.stdout.flush()\n",
      "\n",
      "            # done = int(50 * file_size_dl / file_size)\n",
      "            # sys.stdout.write(\"\\r[%s%s]\" % ('=' * done, ' ' * (50-done)) )    \n",
      "            # sys.stdout.flush()\n",
      "\n",
      "    f.close()\n",
      "    print(\"\\n\")\n",
      "\n",
      "# url = 'http://www.pp.es/sites/default/files/documentos/pr_den_2015.pdf'\n",
      "# file_name = url.split('/')[-1]    \n",
      "# download_file(url, file_name,'../data/pp/')"
     ],
     "language": "python",
     "metadata": {},
     "outputs": [],
     "prompt_number": 4
    },
    {
     "cell_type": "code",
     "collapsed": false,
     "input": [
      "def get_text_between( s, first, last, include_limits = False, first_ocurrences = True ):\n",
      "    try:\n",
      "        if first_ocurrences:\n",
      "            if include_limits:\n",
      "                start = s.index( first )\n",
      "                end = s.rindex( last, start ) + len(last)\n",
      "                return s[start:end]\n",
      "            else:\n",
      "                start = s.index( first ) + len( first )\n",
      "                end = s.rindex( last, start ) \n",
      "            return s[start:end]\n",
      "        else: \n",
      "            # look for last ocurrences of first and last\n",
      "            if include_limits:\n",
      "                start = s.rindex( first )\n",
      "                end = s.index( last ) + len(last)\n",
      "                return s[start:end]\n",
      "            else:\n",
      "                start = s.rindex( first ) + len( first )\n",
      "                end = s.index( last ) \n",
      "            return s[start:end]            \n",
      "    except ValueError:\n",
      "        return \"\"\n",
      "    \n",
      "def remove_text_between( s, first, last, include_limits = False ):\n",
      "    try:\n",
      "        if include_limits:\n",
      "            start = s.index( first ) + len( first )\n",
      "            end = s.index( last, start ) \n",
      "            return s[:start] + s[end:] \n",
      "        else:\n",
      "            start = s.index( first )\n",
      "            end = s.index( last, start ) + len(last)\n",
      "            return s[:start] + s[end:]\n",
      "    except ValueError:\n",
      "        return \"\"\n",
      "    \n",
      "def remove_spaces_and_newline(s):\n",
      "    return re.sub(r'\\s+', ' ', s.replace('\\n',''))"
     ],
     "language": "python",
     "metadata": {},
     "outputs": [],
     "prompt_number": 5
    },
    {
     "cell_type": "code",
     "collapsed": false,
     "input": [
      "# http://stackoverflow.com/questions/16571150/how-to-capture-stdout-output-from-a-python-function-call\n",
      "\n",
      "from cStringIO import StringIO\n",
      "import sys\n",
      "\n",
      "class Capturing(list):\n",
      "    def __enter__(self):\n",
      "        self._stdout = sys.stdout\n",
      "        sys.stdout = self._stringio = StringIO()\n",
      "        return self\n",
      "    def __exit__(self, *args):\n",
      "        self.extend(self._stringio.getvalue().splitlines())\n",
      "        sys.stdout = self._stdout\n"
     ],
     "language": "python",
     "metadata": {},
     "outputs": [],
     "prompt_number": 6
    },
    {
     "cell_type": "heading",
     "level": 2,
     "metadata": {},
     "source": [
      "Scraping de la web de documents del Congr\u00e9s"
     ]
    },
    {
     "cell_type": "heading",
     "level": 4,
     "metadata": {},
     "source": [
      "Scraping \"simple\" no funciona "
     ]
    },
    {
     "cell_type": "code",
     "collapsed": false,
     "input": [
      "from bs4 import BeautifulSoup\n",
      "import re\n",
      "import time\n",
      "\n",
      "t_init = time.clock()\n",
      "\n",
      "num_diputado = 0\n",
      "diputados_dict = {}\n",
      "\n",
      "# url_page = \"http://www.congreso.es/portal/page/portal/Congreso/GenericPopUp?_piref73_2138150_73_2138147_2138147.next_page=/wc/lecturaFicheros&idLeg=e&tipo=int&numFich=3&nomFich=_odip&nomFich=_osen&nomFich=_onpa&nomTit=DIPUTADOS&nomTit=SENADORES&nomTit=NO%20PARLAMENTARIOS&campForm=formBuscarIntervSimples.ORAD\"\n",
      "\n",
      "url_page = \"http://www.congreso.es/portal/page/portal/Congreso/Congreso/Diputados?_piref73_1333056_73_1333049_1333049.next_page=/wc/menuAbecedarioInicio&tipoBusqueda=completo&idLegislatura=10\"\n",
      "# Diputados de la legislatura actual\n",
      "# http://www.congreso.es/portal/page/portal/Congreso/Congreso/Diputados?_piref73_1333056_73_1333049_1333049.next_page=/wc/menuAbecedarioInicio&tipoBusqueda=completo&idLegislatura=10\n",
      "# http://www.congreso.es/portal/page/portal/Congreso/Congreso/Diputados/DiputadosTodasLegislaturas?_piref73_1335404_73_1335403_1335403.next_page=/wc/busquedaAlfabeticaTodasLeg&paginaActual=1&criterio=\n",
      "html_page = get_html_page(url_page)\n",
      "if html_page is not None:\n",
      "    print \"Parsing: \" + url_page\n",
      "\n",
      "    soup = BeautifulSoup(html_page)\n",
      "    \n",
      "    div_resultados = soup.find('div', {'class' : 'resultados_encontrados'})\n",
      "    if div_resultados:\n",
      "        for link_tag in div_resultados.findAll('a'):\n",
      "            # print num_diputado, \":\", link_tag\n",
      "            name = link_tag.getText().split(', ')\n",
      "            if len(name) > 1:\n",
      "                diputados_dict[num_diputado] = {'name':name[1], 'surname':name[0]}\n",
      "            else:\n",
      "                name = link_tag.getText().split(' ')\n",
      "                diputados_dict[num_diputado] = {'name':name[1], 'surname':name[0]}\n",
      "            num_diputado += 1\n",
      "    else:\n",
      "        print \"Tag not found: soup.find('div', {'class' : 'titular'})\"\n",
      "else:\n",
      "    print \"URL not found:\", url_page\n",
      "\n",
      "t_end = time.clock()\n",
      "print \"Parse finished in {0:.2f} seconds\".format(t_end-t_init)\n",
      "print diputados_dict\n",
      "# print \"Saving docs dictionary...\"\n",
      "# save_dict_json(pp_doc_dict, 'pp_doc_dict.json')\n",
      "# print \"Number of Documents: {}\".format(len(pp_doc_dict))    "
     ],
     "language": "python",
     "metadata": {},
     "outputs": [
      {
       "output_type": "stream",
       "stream": "stdout",
       "text": [
        "We failed to reach a server. URL: http://www.congreso.es/portal/page/portal/Congreso/Congreso/Diputados?_piref73_1333056_73_1333049_1333049.next_page=/wc/menuAbecedarioInicio&tipoBusqueda=completo&idLegislatura=10\n",
        "Reason:  [Errno 11001] getaddrinfo failed\n",
        "URL not found: http://www.congreso.es/portal/page/portal/Congreso/Congreso/Diputados?_piref73_1333056_73_1333049_1333049.next_page=/wc/menuAbecedarioInicio&tipoBusqueda=completo&idLegislatura=10\n",
        "Parse finished in 0.61 seconds\n",
        "{}\n"
       ]
      }
     ],
     "prompt_number": 28
    },
    {
     "cell_type": "heading",
     "level": 3,
     "metadata": {},
     "source": [
      "Scraping amb Selenium. \n",
      "\n",
      "Obtenim el llistat de tots els diputats del Congr\u00e9s desde la democr\u00e0cia."
     ]
    },
    {
     "cell_type": "code",
     "collapsed": false,
     "input": [
      "from selenium import webdriver\n",
      "import os \n",
      "import time\n",
      "\n",
      "os.environ[\"PATH\"] = 'C:\\Users\\pablo_000\\Documents\\P\\Data Science\\chromedriver' \n",
      "# os.environ[\"PATH\"] = 'C:\\Users\\pfernandezs\\Documents\\P\\Cosas\\Data Science\\posgrau\\chromedriver'\n",
      "\n",
      "url_page = \"http://www.congreso.es/portal/page/portal/Congreso/GenericPopUp?_piref73_2138150_73_2138147_2138147.next_page=/wc/lecturaFicheros&idLeg=e&tipo=int&numFich=3&nomFich=_odip&nomFich=_osen&nomFich=_onpa&nomTit=DIPUTADOS&nomTit=SENADORES&nomTit=NO%20PARLAMENTARIOS&campForm=formBuscarIntervSimples.ORAD\"\n",
      "browser = webdriver.Chrome()\n",
      "browser.get(url_page)\n",
      "time.sleep(2) #Wait for the page to load\n",
      "html_page=browser.page_source\n",
      "# print html_page\n",
      "\n",
      "num_diputado = 0\n",
      "all_diputados_dict = {}\n",
      "\n",
      "if html_page is not None:\n",
      "    print \"Parsing: \" + url_page\n",
      "\n",
      "    soup = BeautifulSoup(html_page)\n",
      "    \n",
      "    div_resultados = soup.find('div', {'class' : 'resultados_encontrados'})\n",
      "    if div_resultados:\n",
      "        for link_tag in div_resultados.findAll('a'):\n",
      "            # print num_diputado, \":\", link_tag\n",
      "            name = link_tag.getText().split(', ')\n",
      "            if len(name) > 1:\n",
      "                all_diputados_dict[num_diputado] = {'name':name[1], 'surname':name[0]}\n",
      "            else:\n",
      "                name = link_tag.getText().split(' ')\n",
      "                all_diputados_dict[num_diputado] = {'name':name[1], 'surname':name[0]}\n",
      "            num_diputado += 1\n",
      "    else:\n",
      "        print \"Tag not found: soup.find('div', {'class' : 'titular'})\"\n",
      "else:\n",
      "    print \"URL not found:\", url_page\n",
      "\n",
      "print \"Num. diputados:\", len(all_diputados_dict)\n",
      "# print all_diputados_dict\n",
      "print \"Saving 'all_diputados_dict'...\"\n",
      "save_dict_json(all_diputados_dict, 'all_diputados_dict.json')"
     ],
     "language": "python",
     "metadata": {},
     "outputs": [
      {
       "output_type": "stream",
       "stream": "stdout",
       "text": [
        "Parsing: http://www.congreso.es/portal/page/portal/Congreso/GenericPopUp?_piref73_2138150_73_2138147_2138147.next_page=/wc/lecturaFicheros&idLeg=e&tipo=int&numFich=3&nomFich=_odip&nomFich=_osen&nomFich=_onpa&nomTit=DIPUTADOS&nomTit=SENADORES&nomTit=NO%20PARLAMENTARIOS&campForm=formBuscarIntervSimples.ORAD\n",
        "Num. diputados:"
       ]
      },
      {
       "output_type": "stream",
       "stream": "stdout",
       "text": [
        " 1474\n",
        "Saving 'all_diputados_dict'...\n"
       ]
      }
     ],
     "prompt_number": 29
    },
    {
     "cell_type": "heading",
     "level": 3,
     "metadata": {},
     "source": [
      "Obtenim el llistat de tots els diputats del Congr\u00e9s de la X Legislatura ( 2011-Actualidad ) amb els seus grups pol\u00edtics."
     ]
    },
    {
     "cell_type": "code",
     "collapsed": false,
     "input": [
      "# Altres links amb llistats de diputats:\n",
      "# I Legislatura ( 1979-1982 ) Resultados encontrados:  392 \n",
      "# http://www.congreso.es/portal/page/portal/Congreso/Congreso/Diputados?_piref73_1333056_73_1333049_1333049.next_page=/wc/menuAbecedarioInicio&tipoBusqueda=completo&idLegislatura=1\n",
      "\n",
      "# B\u00fasqueda amb dos par\u00e0metres: p\u00e0gina i idLegislatura\n",
      "# http://www.congreso.es/portal/page/portal/Congreso/Congreso/Diputados?_piref73_2874067_73_1333049_1333049.next_page=/wc/busquedaAlfabeticaDiputados&paginaActual=1&idLegislatura=4&tipoBusqueda=completo\n",
      "\n",
      "browser = webdriver.Chrome()\n",
      "\n",
      "continue_scraping = True\n",
      "web_page = 0\n",
      "diputados_dict = {}\n",
      "num_diputado = 0\n",
      "\n",
      "while continue_scraping :\n",
      "    # Congreso de los Diputados / Diputados / Relaci\u00f3n conjunta de diputados en activo y de diputados que han causado baja en la legislatura en curso\n",
      "    url_page = \"http://www.congreso.es/portal/page/portal/Congreso/Congreso/Diputados/DiputadosLegFechas?_piref73_2496079_73_2496068_2496068.next_page=/wc/diputadosLegsFechas&paginaActual={}\".format(web_page)\n",
      "    browser.get(url_page)\n",
      "    time.sleep(2) #Wait for the page to load\n",
      "    html_page=browser.page_source\n",
      "    \n",
      "    if html_page is not None:\n",
      "        print \"Parsing: \" + url_page\n",
      "\n",
      "        soup = BeautifulSoup(html_page)\n",
      "\n",
      "        div_listado = soup.find('div', {'class' : 'listado_1'})\n",
      "        if div_listado:\n",
      "            for li_tag in div_listado.findAll('li'):\n",
      "                link_tag = li_tag.find('a')\n",
      "                spam_tag = li_tag.find('span')\n",
      "                name = link_tag.getText().split(', ')\n",
      "                if len(name) > 1:\n",
      "                    diputados_dict[num_diputado] = {'name':name[1], 'surname':name[0], 'group':get_text_between(spam_tag.getText(),'(',')')}\n",
      "                else:\n",
      "                    name = link_tag.getText().split(' ')\n",
      "                    diputados_dict[num_diputado] = {'name':name[1], 'surname':name[0], 'group':get_text_between(spam_tag.getText(),'(',')')}\n",
      "                num_diputado += 1\n",
      "        else:\n",
      "            print \"Tag not found: soup.find('div', {'class' : 'listado_1'})\"\n",
      "    else:\n",
      "        print \"URL not found:\", url_page\n",
      "    \n",
      "    web_page += 1\n",
      "    \n",
      "    if web_page > 16:\n",
      "        break\n",
      "\n",
      "print \"Num. diputados:\", len(diputados_dict)\n",
      "# print diputados_dict\n",
      "print \"Saving 'diputados_dict'...\"\n",
      "save_dict_json(diputados_dict, 'diputados_dict.json')"
     ],
     "language": "python",
     "metadata": {},
     "outputs": [
      {
       "output_type": "stream",
       "stream": "stdout",
       "text": [
        "Parsing: http://www.congreso.es/portal/page/portal/Congreso/Congreso/Diputados/DiputadosLegFechas?_piref73_2496079_73_2496068_2496068.next_page=/wc/diputadosLegsFechas&paginaActual=0\n",
        "Parsing: http://www.congreso.es/portal/page/portal/Congreso/Congreso/Diputados/DiputadosLegFechas?_piref73_2496079_73_2496068_2496068.next_page=/wc/diputadosLegsFechas&paginaActual=1"
       ]
      },
      {
       "output_type": "stream",
       "stream": "stdout",
       "text": [
        "\n",
        "Parsing: http://www.congreso.es/portal/page/portal/Congreso/Congreso/Diputados/DiputadosLegFechas?_piref73_2496079_73_2496068_2496068.next_page=/wc/diputadosLegsFechas&paginaActual=2"
       ]
      },
      {
       "output_type": "stream",
       "stream": "stdout",
       "text": [
        "\n",
        "Parsing: http://www.congreso.es/portal/page/portal/Congreso/Congreso/Diputados/DiputadosLegFechas?_piref73_2496079_73_2496068_2496068.next_page=/wc/diputadosLegsFechas&paginaActual=3"
       ]
      },
      {
       "output_type": "stream",
       "stream": "stdout",
       "text": [
        "\n",
        "Parsing: http://www.congreso.es/portal/page/portal/Congreso/Congreso/Diputados/DiputadosLegFechas?_piref73_2496079_73_2496068_2496068.next_page=/wc/diputadosLegsFechas&paginaActual=4"
       ]
      },
      {
       "output_type": "stream",
       "stream": "stdout",
       "text": [
        "\n",
        "Parsing: http://www.congreso.es/portal/page/portal/Congreso/Congreso/Diputados/DiputadosLegFechas?_piref73_2496079_73_2496068_2496068.next_page=/wc/diputadosLegsFechas&paginaActual=5"
       ]
      },
      {
       "output_type": "stream",
       "stream": "stdout",
       "text": [
        "\n",
        "Parsing: http://www.congreso.es/portal/page/portal/Congreso/Congreso/Diputados/DiputadosLegFechas?_piref73_2496079_73_2496068_2496068.next_page=/wc/diputadosLegsFechas&paginaActual=6"
       ]
      },
      {
       "output_type": "stream",
       "stream": "stdout",
       "text": [
        "\n",
        "Parsing: http://www.congreso.es/portal/page/portal/Congreso/Congreso/Diputados/DiputadosLegFechas?_piref73_2496079_73_2496068_2496068.next_page=/wc/diputadosLegsFechas&paginaActual=7"
       ]
      },
      {
       "output_type": "stream",
       "stream": "stdout",
       "text": [
        "\n",
        "Parsing: http://www.congreso.es/portal/page/portal/Congreso/Congreso/Diputados/DiputadosLegFechas?_piref73_2496079_73_2496068_2496068.next_page=/wc/diputadosLegsFechas&paginaActual=8"
       ]
      },
      {
       "output_type": "stream",
       "stream": "stdout",
       "text": [
        "\n",
        "Parsing: http://www.congreso.es/portal/page/portal/Congreso/Congreso/Diputados/DiputadosLegFechas?_piref73_2496079_73_2496068_2496068.next_page=/wc/diputadosLegsFechas&paginaActual=9"
       ]
      },
      {
       "output_type": "stream",
       "stream": "stdout",
       "text": [
        "\n",
        "Parsing: http://www.congreso.es/portal/page/portal/Congreso/Congreso/Diputados/DiputadosLegFechas?_piref73_2496079_73_2496068_2496068.next_page=/wc/diputadosLegsFechas&paginaActual=10"
       ]
      },
      {
       "output_type": "stream",
       "stream": "stdout",
       "text": [
        "\n",
        "Parsing: http://www.congreso.es/portal/page/portal/Congreso/Congreso/Diputados/DiputadosLegFechas?_piref73_2496079_73_2496068_2496068.next_page=/wc/diputadosLegsFechas&paginaActual=11"
       ]
      },
      {
       "output_type": "stream",
       "stream": "stdout",
       "text": [
        "\n",
        "Parsing: http://www.congreso.es/portal/page/portal/Congreso/Congreso/Diputados/DiputadosLegFechas?_piref73_2496079_73_2496068_2496068.next_page=/wc/diputadosLegsFechas&paginaActual=12"
       ]
      },
      {
       "output_type": "stream",
       "stream": "stdout",
       "text": [
        "\n",
        "Parsing: http://www.congreso.es/portal/page/portal/Congreso/Congreso/Diputados/DiputadosLegFechas?_piref73_2496079_73_2496068_2496068.next_page=/wc/diputadosLegsFechas&paginaActual=13"
       ]
      },
      {
       "output_type": "stream",
       "stream": "stdout",
       "text": [
        "\n",
        "Parsing: http://www.congreso.es/portal/page/portal/Congreso/Congreso/Diputados/DiputadosLegFechas?_piref73_2496079_73_2496068_2496068.next_page=/wc/diputadosLegsFechas&paginaActual=14"
       ]
      },
      {
       "output_type": "stream",
       "stream": "stdout",
       "text": [
        "\n",
        "Parsing: http://www.congreso.es/portal/page/portal/Congreso/Congreso/Diputados/DiputadosLegFechas?_piref73_2496079_73_2496068_2496068.next_page=/wc/diputadosLegsFechas&paginaActual=15"
       ]
      },
      {
       "output_type": "stream",
       "stream": "stdout",
       "text": [
        "\n",
        "Parsing: http://www.congreso.es/portal/page/portal/Congreso/Congreso/Diputados/DiputadosLegFechas?_piref73_2496079_73_2496068_2496068.next_page=/wc/diputadosLegsFechas&paginaActual=16"
       ]
      },
      {
       "output_type": "stream",
       "stream": "stdout",
       "text": [
        "\n",
        "Num. diputados: 410\n",
        "Saving 'diputados_dict'...\n"
       ]
      }
     ],
     "prompt_number": 30
    },
    {
     "cell_type": "code",
     "collapsed": false,
     "input": [
      "# Metode per buscar un diputat al dictionari\n",
      "def search_diputado_in_dict(diputados_dict, dip_surname):\n",
      "    result = []\n",
      "    for key in diputados_dict:\n",
      "        # if dip_surname.upper() == diputados_dict[key]['surname'].encode('utf-8').upper():\n",
      "        if dip_surname.decode('utf-8').upper() == diputados_dict[key]['surname'].upper():\n",
      "            result.append(key)\n",
      "        # else:\n",
      "            # print dip_surname.decode('utf-8').upper(), \"<>\", diputados_dict[key]['surname'].upper()\n",
      "            \n",
      "    if len(result) == 0:\n",
      "        print \"ERROR en search_diputado_in_dict. No s'ha trobat:\", dip_surname\n",
      "        return None\n",
      "    elif len(result) == 1:\n",
      "        return result[0]\n",
      "    else: # len(result) > 1:\n",
      "        str_result = \"\"\n",
      "        for i in result:\n",
      "            str_result += diputados_dict[i]['surname'] + \", \" + diputados_dict[i]['name'] + \" \" + diputados_dict[i]['group'] + \"\\n\"\n",
      "        print \"ERROR en search_diputado_in_dict. S'ha trobat m\u00e9s d'un resultat:\\n\", str_result.encode('utf-8')\n",
      "        return result[0]\n",
      "    \n",
      "loaded_diputados_dict = load_dict_json('diputados_dict.json')\n",
      "\n",
      "id = search_diputado_in_dict(loaded_diputados_dict,'RODR\u00cdGUEZ RAMOS')\n",
      "if id:\n",
      "    print id, \":\", loaded_diputados_dict[id]['surname'] + \", \" + loaded_diputados_dict[id]['name'] + \" \" + loaded_diputados_dict[id]['group']"
     ],
     "language": "python",
     "metadata": {},
     "outputs": [
      {
       "output_type": "stream",
       "stream": "stdout",
       "text": [
        "321 : Rodr\u00edguez Ramos, Mar\u00eda Soraya GS\n"
       ]
      }
     ],
     "prompt_number": 31
    },
    {
     "cell_type": "heading",
     "level": 3,
     "metadata": {},
     "source": [
      "Llistat de grups de parlamentaris del Congr\u00e9s"
     ]
    },
    {
     "cell_type": "code",
     "collapsed": false,
     "input": [
      "# http://www.congreso.es/portal/page/portal/Congreso/Congreso/GruPar?_piref73_2914053_73_1339199_1339199.next_page=/wc/cambioLegislatura\n",
      "groups_dict = {'GP' : {'description':'Grupo Parlamentario Popular en el Congreso','color':''},'GS' : {'description':'Grupo Parlamentario Socialista','color':''},'GC-CiU' : {'description':'Grupo Parlamentario Catal\u00e1n (Converg\u00e8ncia i Uni\u00f3)','color':''},'GIP' : {'description':'Grupo Parlamentario de IU, ICV-EUiA, CHA: La Izquierda Plural','color':''},'GUPyD' : {'description':'Grupo Parlamentario de Uni\u00f3n Progreso y Democracia','color':''},'GV (EAJ-PNV)' : {'description':'Grupo Parlamentario Vasco (EAJ-PNV)','color':''},'GMx' : {'description':'Grupo Parlamentario Mixto','color':''}}\n",
      "\n",
      "print \"Num. groups:\", len(groups_dict)\n",
      "print groups_dict\n",
      "print \"Saving 'groups_dict'...\"\n",
      "save_dict_json(groups_dict, 'groups_dict.json')"
     ],
     "language": "python",
     "metadata": {},
     "outputs": [
      {
       "output_type": "stream",
       "stream": "stdout",
       "text": [
        "Num. groups: 7\n",
        "{'GV (EAJ-PNV)': {'color': '', 'description': 'Grupo Parlamentario Vasco (EAJ-PNV)'}, 'GS': {'color': '', 'description': 'Grupo Parlamentario Socialista'}, 'GIP': {'color': '', 'description': 'Grupo Parlamentario de IU, ICV-EUiA, CHA: La Izquierda Plural'}, 'GP': {'color': '', 'description': 'Grupo Parlamentario Popular en el Congreso'}, 'GMx': {'color': '', 'description': 'Grupo Parlamentario Mixto'}, 'GC-CiU': {'color': '', 'description': 'Grupo Parlamentario Catal\\xc3\\xa1n (Converg\\xc3\\xa8ncia i Uni\\xc3\\xb3)'}, 'GUPyD': {'color': '', 'description': 'Grupo Parlamentario de Uni\\xc3\\xb3n Progreso y Democracia'}}\n",
        "Saving 'groups_dict'...\n"
       ]
      }
     ],
     "prompt_number": 32
    },
    {
     "cell_type": "heading",
     "level": 3,
     "metadata": {},
     "source": [
      "Scraping per descarregar els documents de les sessions del Congr\u00e9s [ Intervenciones / B\u00fasqueda avanzada ]"
     ]
    },
    {
     "cell_type": "code",
     "collapsed": false,
     "input": [
      "# Congreso de los Diputados / Intervenciones / B\u00fasqueda avanzada\n",
      "\n",
      "from selenium import webdriver\n",
      "import os\n",
      "import time\n",
      "\n",
      "os.environ[\"PATH\"] = 'C:\\Users\\pablo_000\\Documents\\P\\Data Science\\chromedriver' \n",
      "# os.environ[\"PATH\"] = 'C:\\Users\\pfernandezs\\Documents\\P\\Cosas\\Data Science\\posgrau\\chromedriver'\n",
      "\n",
      "# Congreso de los Diputados / Intervenciones / B\u00fasqueda avanzada\n",
      "url_page = \"http://www.congreso.es/portal/page/portal/Congreso/Congreso/Intervenciones/Busqueda%20avanzada?_piref73_2554049_73_1335423_1335423.next_page=/wc/enviarCgiBuscadorAvIntervenciones\"\n",
      "    \n",
      "browser = webdriver.Chrome()\n",
      "browser.get(url_page)\n",
      "time.sleep(2) #Wait for the page to load\n",
      "html_page=browser.page_source\n",
      "# print html_page\n",
      "\n",
      "# Omplim el formulari\n",
      "# http://selenium-python.readthedocs.org/navigating.html#filling-in-forms\n",
      "\n",
      "# <input type=\"text\" name=\"SDIA\" id=\"SDIA\" value=\"\" />\n",
      "element_orden = browser.find_element_by_id(\"SDIA\")\n",
      "element_orden.send_keys(\"Pleno\")\n",
      "\n",
      "# <p>Fecha desde:</p>\n",
      "# <input type=\"text\" name=\"ddia\" id=\"ddia\" maxlength=\"2\" value=\"\" class=\"caja_mini\" />\n",
      "element_ddia = browser.find_element_by_id(\"ddia\")\n",
      "element_ddia.send_keys(\"01\")\n",
      "# <input type=\"text\" name=\"dmes\" id=\"dmes\" maxlength=\"2\" value=\"\" class=\"caja_mini\" />\n",
      "element_dmes = browser.find_element_by_id(\"dmes\")\n",
      "element_dmes.send_keys(\"01\")\n",
      "# <input type=\"text\" name=\"dano\" id=\"dano\" maxlength=\"4\" value=\"\" class=\"caja_mini_ano\" />\n",
      "element_dano = browser.find_element_by_id(\"dano\")\n",
      "element_dano.send_keys(\"2014\")\n",
      "\n",
      "# <p class=\"fecha\">Fecha hasta:</p>\n",
      "# <input type=\"text\" name=\"hdia\" id=\"hdia\" maxlength=\"2\" value=\"\" class=\"caja_mini\" />\n",
      "element_hdia = browser.find_element_by_id(\"hdia\")\n",
      "element_hdia.send_keys(\"19\")\n",
      "# <input type=\"text\" name=\"hmes\" id=\"hmes\" maxlength=\"2\" value=\"\" class=\"caja_mini\" />\n",
      "element_hmes = browser.find_element_by_id(\"hmes\")\n",
      "element_hmes.send_keys(\"03\")\n",
      "# <input type=\"text\" name=\"hano\" id=\"hano\" maxlength=\"4\" value=\"\" class=\"caja_mini_ano\" />\n",
      "element_hano = browser.find_element_by_id(\"hano\")\n",
      "element_hano.send_keys(\"2015\")\n",
      "\n",
      "# <label for=\"buscar\"><input id=\"buscar\" type=\"IMAGE\" alt=\"Buscar\" value=\"'Buscar'\" src=\"/wc/htdocs/web/img/btn_buscar.gif\" /></label>\n",
      "element_buscar = browser.find_element_by_id(\"buscar\")\n",
      "element_buscar.click()\n",
      "\n",
      "time.sleep(2) #Wait for the page to load\n",
      "html_page=browser.page_source\n",
      "# print html_page"
     ],
     "language": "python",
     "metadata": {},
     "outputs": []
    },
    {
     "cell_type": "heading",
     "level": 3,
     "metadata": {},
     "source": [
      "Scraping per descarregar els documents de les sessions del Congr\u00e9s [ Edici\u00f3n oficial / B\u00fasqueda de publicaciones ]"
     ]
    },
    {
     "cell_type": "heading",
     "level": 4,
     "metadata": {},
     "source": [
      "Estructura del diccionaris de documents"
     ]
    },
    {
     "cell_type": "code",
     "collapsed": false,
     "input": [
      "'''\n",
      "document_dictionary = {\n",
      "    'date': <data del document (Diario de sesiones del congreso de los diputados)>,\n",
      "    'url': <url del document>,\n",
      "    'cve': <codi del document del Congr\u00e9s>,\n",
      "    'description': <descripci\u00f3 del document>,\n",
      "    'file': <<path + filename> on s'ha descarregat el document. Si \u00e9s buit el document no s'ha descarregat encara.>,\n",
      "    'content_file': <contingut del document en format html (sense tractar)>\n",
      "    'updated_content_file': <data d'actualitzaci\u00f3 del camp 'content_file'>\n",
      "    <session_dictionary, diccionari amb les preguntes i intervencions de la sessi\u00f3 de control>\n",
      "    'updated_sesion_dictionary': <data d'actualitzaci\u00f3 del camp 'session_dictionary'>\n",
      "}\n",
      "\n",
      "session_dictionary = {\n",
      "    'question': <texte de la pregunta realitzada>,\n",
      "    'expedient_number': <n\u00famero d'expedient de la pregunta>, \n",
      "    <intervention_dictonary, diccionari amb les intervencions de la sessi\u00f3 de control i les persones que les van realitzar>\n",
      "}\n",
      "\n",
      "intervention_dictonary = {\n",
      "    <N\u00famero de la intervenci\u00f3 (determina l'ordre de les intervencions)> : \n",
      "    {\n",
      "        'text': <text de la intervenci\u00f3>,\n",
      "        'who': {  \n",
      "            'surname': <cognoms de la persona que realitza la intervenci\u00f3>,\n",
      "            'name': <nom de la persona que realitza la intervenci\u00f3>,\n",
      "            'group': <grup al que pertany la persona: 'GP' (Grupo Popular), 'GS' (Grupo Socialista), ...>\n",
      "        }\n",
      "    }\n",
      "}\n",
      "'''"
     ],
     "language": "python",
     "metadata": {},
     "outputs": []
    },
    {
     "cell_type": "code",
     "collapsed": false,
     "input": [
      "# Congreso de los Diputados / Edici\u00f3n oficial / B\u00fasqueda de publicaciones\n",
      "\n",
      "from selenium import webdriver\n",
      "from selenium.webdriver.support.ui import Select\n",
      "from selenium.common.exceptions import NoSuchElementException\n",
      "\n",
      "from bs4 import BeautifulSoup\n",
      "import re\n",
      "\n",
      "import os\n",
      "import time\n",
      "\n",
      "\n",
      "os.environ[\"PATH\"] = 'C:\\Users\\pablo_000\\Documents\\P\\Data Science\\chromedriver' \n",
      "# os.environ[\"PATH\"] = 'C:\\Users\\pfernandezs\\Documents\\P\\Cosas\\Data Science\\posgrau\\chromedriver'\n",
      "\n",
      "# Congreso de los Diputados / Edici\u00f3n oficial / B\u00fasqueda de publicaciones\n",
      "url_page = \"http://www.congreso.es/portal/page/portal/Congreso/Congreso/Publicaciones\"\n",
      "    \n",
      "browser = webdriver.Chrome()\n",
      "browser.get(url_page)\n",
      "time.sleep(2) #Wait for the page to load\n",
      "html_page=browser.page_source\n",
      "# print html_page\n",
      "\n",
      "# Omplim el formulari\n",
      "# http://selenium-python.readthedocs.org/navigating.html#filling-in-forms\n",
      "\n",
      "# Tipo B\u00fasqueda\n",
      "# <select name=\"TIPOB\" id=\"TIPOB\">\n",
      "#    <option value=\"1\">Simple</option>\n",
      "#    <option value=\"2\">Detallada por p&aacute;ginas</option>\n",
      "element_tipob = browser.find_element_by_id(\"TIPOB\")\n",
      "# element_tipob.send_keys(\"1\")\n",
      "select = Select(element_tipob)\n",
      "select.select_by_value(\"1\")\n",
      "\n",
      "# Publicaci\u00f3n\n",
      "# <select name=\"PUBL\" id=\"PUBL\">\n",
      "#    <option value=\"B\">Boletines Oficiales</option>\n",
      "#    <option value=\"D\">Diarios de sesiones</option>\n",
      "element_publ = browser.find_element_by_id(\"PUBL\")\n",
      "element_publ.send_keys(\"D\")\n",
      "\n",
      "# Secci\u00f3n\n",
      "# <select name=\"SECC\" id=\"SECC\">\n",
      "#    <option value=\"Congreso\">Congreso de los Diputados</option>\n",
      "#    <option value=\"Cortes\">Cortes Generales</option>\n",
      "#    <option value=\"Senado\">Senado</option>\n",
      "element_secc = browser.find_element_by_id(\"SECC\")\n",
      "element_secc.send_keys(\"Congreso\")\n",
      "\n",
      "# Serie/Aptdo./\u00d3rgano\n",
      "# <input type=\"text\" name=\"ORSE\"  id=\"idOrse\" value=''  />\n",
      "element_orse = browser.find_element_by_id(\"idOrse\")\n",
      "element_orse.send_keys(\"Pleno\")\n",
      "\n",
      "# Descripci\u00f3n\n",
      "# <input type=\"text\" name=\"SUDE\" id=\"SUDE\" value='' />\n",
      "\n",
      "# <p>Fecha desde:</p>\n",
      "# <input type=\"text\" name=\"ddia\" id=\"ddia\" maxlength=\"2\" value=\"\" class=\"caja_mini\" />\n",
      "element_ddia = browser.find_element_by_id(\"ddia\")\n",
      "element_ddia.send_keys(\"01\")\n",
      "# <input type=\"text\" name=\"dmes\" id=\"dmes\" maxlength=\"2\" value=\"\" class=\"caja_mini\" />\n",
      "element_dmes = browser.find_element_by_id(\"dmes\")\n",
      "element_dmes.send_keys(\"01\")\n",
      "# <input type=\"text\" name=\"dano\" id=\"dano\" maxlength=\"4\" value=\"\" class=\"caja_mini_ano\" />\n",
      "element_dano = browser.find_element_by_id(\"dano\")\n",
      "element_dano.send_keys(\"2014\")\n",
      "\n",
      "# <p class=\"fecha\">Fecha hasta:</p>\n",
      "# <input type=\"text\" name=\"hdia\" id=\"hdia\" maxlength=\"2\" value=\"\" class=\"caja_mini\" />\n",
      "element_hdia = browser.find_element_by_id(\"hdia\")\n",
      "element_hdia.send_keys(\"19\")\n",
      "# <input type=\"text\" name=\"hmes\" id=\"hmes\" maxlength=\"2\" value=\"\" class=\"caja_mini\" />\n",
      "element_hmes = browser.find_element_by_id(\"hmes\")\n",
      "element_hmes.send_keys(\"03\")\n",
      "# <input type=\"text\" name=\"hano\" id=\"hano\" maxlength=\"4\" value=\"\" class=\"caja_mini_ano\" />\n",
      "element_hano = browser.find_element_by_id(\"hano\")\n",
      "element_hano.send_keys(\"2015\")\n",
      "\n",
      "# <INPUT type=\"IMAGE\" Alt='Buscar' value='Buscar' src=\"/wc/htdocs/web/img/btn_buscar.gif\" />\n",
      "element_buscar = browser.find_element_by_xpath(\"//input[@src='/wc/htdocs/web/img/btn_buscar.gif']\")\n",
      "element_buscar.click()\n",
      "\n",
      "web_congreso = 'http://www.congreso.es'\n",
      "continue_scraping = True\n",
      "num_docs = 0\n",
      "documents_dict = {}\n",
      "\n",
      "while continue_scraping:\n",
      "    time.sleep(2) #Wait for the page to load\n",
      "    html_page=browser.page_source\n",
      "    # print html_page\n",
      "    \n",
      "    soup = BeautifulSoup(html_page)\n",
      "\n",
      "    # <div class=\"RESULTADOS_BUSQUEDA\">\n",
      "    div_resultados = soup.find('div', {'id' : 'RESULTADOS_BUSQUEDA'})\n",
      "    if div_resultados:\n",
      "        for div_resultados_encontrados in div_resultados.findAll('div', {'class' : 'resultados_encontrados'}):\n",
      "            link_tag = div_resultados_encontrados.find('a', attrs={'href': re.compile(\"^/portal\")})\n",
      "            url_document = web_congreso + link_tag.get('href')\n",
      "            description = remove_spaces_and_newline(remove_text_between(link_tag.getText(),'(',')').strip())\n",
      "            date = description.split(', de ')[1][:10]\n",
      "            p_subtitulo = div_resultados_encontrados.find('p', {'class', 'subtitulo_iniciativa'}).getText().strip()\n",
      "            cve = p_subtitulo.split('cve: ')[1]\n",
      "            documents_dict[num_docs] = {'description': description, 'url':url_document, 'cve':cve, 'date':date, 'file':''}\n",
      "            num_docs += 1\n",
      "    else:\n",
      "        print \"Tag not found: soup.find('div', {'id' : 'RESULTADOS_BUSQUEDA'})\"\n",
      "    \n",
      "    try:\n",
      "        element_siguiente = browser.find_element_by_xpath(\"//*[contains(text(), 'Siguiente')]\")\n",
      "        element_siguiente.click()\n",
      "    except NoSuchElementException as e:\n",
      "        # print e\n",
      "        print \"Scraping finished...\"\n",
      "        continue_scraping = False\n",
      "    \n",
      "print \"Num. documents:\", len(documents_dict)\n",
      "print \"Saving dictionary...\"\n",
      "save_dict_json(documents_dict, 'documents_dict.json')\n",
      "# print documents_dict"
     ],
     "language": "python",
     "metadata": {},
     "outputs": [
      {
       "output_type": "stream",
       "stream": "stdout",
       "text": [
        "Scraping finished...\n",
        "Num. documents: 90\n",
        "Saving dictionary...\n"
       ]
      }
     ],
     "prompt_number": 9
    },
    {
     "cell_type": "code",
     "collapsed": false,
     "input": [
      "loaded_documents_dict = load_dict_json('documents_dict.json')\n",
      "\n",
      "for key in loaded_documents_dict:\n",
      "    print key, \":\", loaded_documents_dict[key]['file']"
     ],
     "language": "python",
     "metadata": {},
     "outputs": [
      {
       "output_type": "stream",
       "stream": "stdout",
       "text": [
        "24 : ../data/congreso/20140430_DSCD-10-PL-196.html\n",
        "25 : ../data/congreso/20140506_DSCD-10-PL-197.html\n",
        "26 : ../data/congreso/20140507_DSCD-10-PL-198.html\n",
        "27 : ../data/congreso/20140513_DSCD-10-PL-199.html\n",
        "20 : ../data/congreso/20140408_DSCD-10-PL-192.html\n",
        "21 : ../data/congreso/20140409_DSCD-10-PL-193.html\n",
        "22 : ../data/congreso/20140410_DSCD-10-PL-194.html\n",
        "23 : ../data/congreso/20140429_DSCD-10-PL-195.html\n",
        "28 : ../data/congreso/20140514_DSCD-10-PL-200.html\n",
        "29 : ../data/congreso/20140527_DSCD-10-PL-201.html\n",
        "0 : ../data/congreso/20140121_DSCD-10-PL-171.html\n",
        "4 : ../data/congreso/20140213_DSCD-10-PL-176.html\n",
        "8 : ../data/congreso/20140220_DSCD-10-PL-180.html\n",
        "59 : ../data/congreso/20141028_DSCD-10-PL-234.html\n",
        "58 : ../data/congreso/20141022_DSCD-10-PL-233.html\n",
        "55 : ../data/congreso/20141016_DSCD-10-PL-230.html\n",
        "54 : ../data/congreso/20141015_DSCD-10-PL-229.html\n",
        "57 : ../data/congreso/20141021_DSCD-10-PL-232.html\n",
        "56 : ../data/congreso/20141016_DSCD-10-PL-231.html\n",
        "51 : ../data/congreso/20141009_DSCD-10-PL-226.html\n",
        "50 : ../data/congreso/20141008_DSCD-10-PL-225.html\n",
        "53 : ../data/congreso/20141014_DSCD-10-PL-228.html\n",
        "52 : ../data/congreso/20141014_DSCD-10-PL-227.html\n",
        "88 : ../data/congreso/20150311_DSCD-10-PL-266.html\n",
        "89 : ../data/congreso/20150312_DSCD-10-PL-267.html\n",
        "82 : ../data/congreso/20150217_DSCD-10-PL-259.html\n",
        "83 : ../data/congreso/20150218_DSCD-10-PL-260.html\n",
        "80 : ../data/congreso/20150211_DSCD-10-PL-257.html\n",
        "81 : ../data/congreso/20150212_DSCD-10-PL-258.html\n",
        "86 : ../data/congreso/20150226_DSCD-10-PL-264.html\n",
        "87 : ../data/congreso/20150310_DSCD-10-PL-265.html\n",
        "84 : ../data/congreso/20150219_DSCD-10-PL-261.html\n",
        "85 : ../data/congreso/20150225_DSCD-10-PL-263.html\n",
        "3 : ../data/congreso/20140212_DSCD-10-PL-175.html\n",
        "7 : ../data/congreso/20140220_DSCD-10-PL-179.html\n",
        "39 : ../data/congreso/20140710_DSCD-10-PL-212.html\n",
        "38 : ../data/congreso/20140709_DSCD-10-PL-211.html\n",
        "33 : ../data/congreso/20140624_DSCD-10-PL-205.html\n",
        "32 : ../data/congreso/20140611_DSCD-10-PL-204.html\n",
        "31 : ../data/congreso/20140529_DSCD-10-PL-203.html\n",
        "30 : ../data/congreso/20140528_DSCD-10-PL-202.html\n",
        "37 : ../data/congreso/20140708_DSCD-10-PL-210.html\n",
        "36 : ../data/congreso/20140626_DSCD-10-PL-208.html\n",
        "35 : ../data/congreso/20140626_DSCD-10-PL-207.html\n",
        "34 : ../data/congreso/20140625_DSCD-10-PL-206.html\n",
        "60 : ../data/congreso/20141029_DSCD-10-PL-235.html\n",
        "61 : ../data/congreso/20141030_DSCD-10-PL-236.html\n",
        "62 : ../data/congreso/20141111_DSCD-10-PL-237.html\n",
        "63 : ../data/congreso/20141112_DSCD-10-PL-238.html\n",
        "64 : ../data/congreso/20141113_DSCD-10-PL-239.html\n",
        "65 : ../data/congreso/20141118_DSCD-10-PL-240.html\n",
        "66 : ../data/congreso/20141119_DSCD-10-PL-241.html\n",
        "67 : ../data/congreso/20141120_DSCD-10-PL-242.html\n",
        "68 : ../data/congreso/20141125_DSCD-10-PL-243.html\n",
        "69 : ../data/congreso/20141126_DSCD-10-PL-244.html\n",
        "2 : ../data/congreso/20140211_DSCD-10-PL-174.html\n",
        "6 : ../data/congreso/20140219_DSCD-10-PL-178.html\n",
        "11 : ../data/congreso/20140227_DSCD-10-PL-183.html\n",
        "10 : ../data/congreso/20140226_DSCD-10-PL-182.html\n",
        "13 : ../data/congreso/20140311_DSCD-10-PL-185.html\n",
        "12 : ../data/congreso/20140227_DSCD-10-PL-184.html\n",
        "15 : ../data/congreso/20140313_DSCD-10-PL-187.html\n",
        "14 : ../data/congreso/20140312_DSCD-10-PL-186.html\n",
        "17 : ../data/congreso/20140319_DSCD-10-PL-189.html\n",
        "16 : ../data/congreso/20140318_DSCD-10-PL-188.html\n",
        "19 : ../data/congreso/20140327_DSCD-10-PL-191.html\n",
        "18 : ../data/congreso/20140320_DSCD-10-PL-190.html\n",
        "48 : ../data/congreso/20140925_DSCD-10-PL-223-C1.html\n",
        "49 : ../data/congreso/20141007_DSCD-10-PL-224.html\n",
        "46 : ../data/congreso/20140923_DSCD-10-PL-221.html\n",
        "47 : ../data/congreso/20140924_DSCD-10-PL-222-C1.html\n",
        "44 : ../data/congreso/20140917_DSCD-10-PL-219.html\n",
        "45 : ../data/congreso/20140918_DSCD-10-PL-220.html\n",
        "42 : ../data/congreso/20140911_DSCD-10-PL-217.html\n",
        "43 : ../data/congreso/20140916_DSCD-10-PL-218.html\n",
        "40 : ../data/congreso/20140909_DSCD-10-PL-215.html\n",
        "41 : ../data/congreso/20140910_DSCD-10-PL-216.html\n",
        "1 : ../data/congreso/20140122_DSCD-10-PL-172-C1.html\n",
        "5 : ../data/congreso/20140218_DSCD-10-PL-177.html\n",
        "9 : ../data/congreso/20140225_DSCD-10-PL-181.html\n",
        "77 : ../data/congreso/20150120_DSCD-10-PL-253.html\n",
        "76 : ../data/congreso/20141218_DSCD-10-PL-251.html\n",
        "75 : ../data/congreso/20141217_DSCD-10-PL-250.html\n",
        "74 : ../data/congreso/20141216_DSCD-10-PL-249.html\n",
        "73 : ../data/congreso/20141211_DSCD-10-PL-248.html\n",
        "72 : ../data/congreso/20141210_DSCD-10-PL-247.html\n",
        "71 : ../data/congreso/20141209_DSCD-10-PL-246.html\n",
        "70 : ../data/congreso/20141127_DSCD-10-PL-245.html\n",
        "79 : ../data/congreso/20150210_DSCD-10-PL-256.html\n",
        "78 : ../data/congreso/20150121_DSCD-10-PL-254.html\n"
       ]
      }
     ],
     "prompt_number": 9
    },
    {
     "cell_type": "code",
     "collapsed": false,
     "input": [
      "# M\u00e8tode per descarregar els documents del diccionari de docs del Congr\u00e9s\n",
      "\n",
      "from selenium import webdriver\n",
      "from selenium.webdriver.common.by import By\n",
      "from selenium.webdriver.support import expected_conditions as EC\n",
      "from selenium.webdriver.support.ui import WebDriverWait\n",
      "from selenium.common.exceptions import TimeoutException\n",
      "from selenium.common.exceptions import NoSuchElementException\n",
      "import os\n",
      "\n",
      "def download_docs(documents_dict, path=\"\", overwrite = False):\n",
      "    \n",
      "    # os.environ[\"PATH\"] = 'C:\\Users\\pablo_000\\Documents\\P\\Data Science\\chromedriver' \n",
      "    os.environ[\"PATH\"] = 'C:\\Users\\pfernandezs\\Documents\\P\\Cosas\\Data Science\\posgrau\\chromedriver'\n",
      "    delay = 10\n",
      "    element_id = 'PIE_POPUP'\n",
      "    \n",
      "    browser = webdriver.Chrome()\n",
      "    \n",
      "    for key in documents_dict:\n",
      "        if documents_dict[key]['file']==\"\" or overwrite:\n",
      "            print \"Loading: \", documents_dict[key]['url']\n",
      "            browser.get(documents_dict[key]['url'])\n",
      "            \n",
      "            # Wait for the page to load\n",
      "            # http://selenium-python.readthedocs.org/en/latest/waits.html\n",
      "            try:\n",
      "                WebDriverWait(browser, delay).until(EC.presence_of_element_located((By.ID, element_id)))\n",
      "                print \"Page is ready!\"\n",
      "            except TimeoutException:\n",
      "                print \"Loading took too much time!\"\n",
      "            except NoSuchElementException:\n",
      "                print \"Element id didn't find: \" + element_id\n",
      "            \n",
      "            html_page = browser.page_source\n",
      "            \n",
      "            # Aqu\u00ed es podria filtrar els documents a guardar per data (dimecres hi ha sessi\u00f3 de control al Congr\u00e9s) \n",
      "            # i tamb\u00e9 buscant al texte del diari de la sessi\u00f3 (buscant p.e. 'PREGUNTAS:')\n",
      "            # https://docs.python.org/2/library/datetime.html#datetime.date.weekday\n",
      "            \n",
      "            print \"Saving: \", documents_dict[key]['url']\n",
      "            file_name = path + format_date(documents_dict[key]['date'],\"%d/%m/%Y\",\"%Y%m%d\") + \"_\" + documents_dict[key]['cve'] + '.html'\n",
      "            save_text_file(html_page, file_name)\n",
      "            documents_dict[key]['file'] = file_name\n",
      "\n",
      "    print \"Updating 'documents_dict'...\"            \n",
      "    save_dict_json(documents_dict, 'documents_dict.json')\n",
      "    \n",
      "download_docs(loaded_documents_dict, '../data/congreso/', True)\n"
     ],
     "language": "python",
     "metadata": {},
     "outputs": [
      {
       "output_type": "stream",
       "stream": "stdout",
       "text": [
        "Loading:  http://www.congreso.es/portal/page/portal/Congreso/PopUpCGI?CMD=VERDOC&CONF=BRSPUB.cnf&BASE=PU10&PIECE=PUWD&DOCS=1-1&FMT=PUWTXDTS.fmt&OPDEF=Y&QUERY=%40FECH%26gt%3B%3D20140101+%26+%40FECH%26lt%3B%3D20150319+%26+%28D%29.PUBL.+%26+%28CONGRESO%29.SECC.+%26+%28PLENO%29.ORSE.+Y+DSCD-10-PL-196.CODI.#1\n",
        "Page is ready!"
       ]
      },
      {
       "output_type": "stream",
       "stream": "stdout",
       "text": [
        "\n",
        "Saving: "
       ]
      },
      {
       "output_type": "stream",
       "stream": "stdout",
       "text": [
        " http://www.congreso.es/portal/page/portal/Congreso/PopUpCGI?CMD=VERDOC&CONF=BRSPUB.cnf&BASE=PU10&PIECE=PUWD&DOCS=1-1&FMT=PUWTXDTS.fmt&OPDEF=Y&QUERY=%40FECH%26gt%3B%3D20140101+%26+%40FECH%26lt%3B%3D20150319+%26+%28D%29.PUBL.+%26+%28CONGRESO%29.SECC.+%26+%28PLENO%29.ORSE.+Y+DSCD-10-PL-196.CODI.#1\n",
        "Loading:  http://www.congreso.es/portal/page/portal/Congreso/PopUpCGI?CMD=VERDOC&CONF=BRSPUB.cnf&BASE=PU10&PIECE=PUWD&DOCS=1-1&FMT=PUWTXDTS.fmt&OPDEF=Y&QUERY=%40FECH%26gt%3B%3D20140101+%26+%40FECH%26lt%3B%3D20150319+%26+%28D%29.PUBL.+%26+%28CONGRESO%29.SECC.+%26+%28PLENO%29.ORSE.+Y+DSCD-10-PL-197.CODI.#1\n",
        "Page is ready!"
       ]
      },
      {
       "output_type": "stream",
       "stream": "stdout",
       "text": [
        "\n",
        "Saving: "
       ]
      },
      {
       "output_type": "stream",
       "stream": "stdout",
       "text": [
        " http://www.congreso.es/portal/page/portal/Congreso/PopUpCGI?CMD=VERDOC&CONF=BRSPUB.cnf&BASE=PU10&PIECE=PUWD&DOCS=1-1&FMT=PUWTXDTS.fmt&OPDEF=Y&QUERY=%40FECH%26gt%3B%3D20140101+%26+%40FECH%26lt%3B%3D20150319+%26+%28D%29.PUBL.+%26+%28CONGRESO%29.SECC.+%26+%28PLENO%29.ORSE.+Y+DSCD-10-PL-197.CODI.#1\n",
        "Loading:  http://www.congreso.es/portal/page/portal/Congreso/PopUpCGI?CMD=VERDOC&CONF=BRSPUB.cnf&BASE=PU10&PIECE=PUWD&DOCS=1-1&FMT=PUWTXDTS.fmt&OPDEF=Y&QUERY=%40FECH%26gt%3B%3D20140101+%26+%40FECH%26lt%3B%3D20150319+%26+%28D%29.PUBL.+%26+%28CONGRESO%29.SECC.+%26+%28PLENO%29.ORSE.+Y+DSCD-10-PL-198.CODI.#1\n",
        "Page is ready!"
       ]
      },
      {
       "output_type": "stream",
       "stream": "stdout",
       "text": [
        "\n",
        "Saving: "
       ]
      },
      {
       "output_type": "stream",
       "stream": "stdout",
       "text": [
        " http://www.congreso.es/portal/page/portal/Congreso/PopUpCGI?CMD=VERDOC&CONF=BRSPUB.cnf&BASE=PU10&PIECE=PUWD&DOCS=1-1&FMT=PUWTXDTS.fmt&OPDEF=Y&QUERY=%40FECH%26gt%3B%3D20140101+%26+%40FECH%26lt%3B%3D20150319+%26+%28D%29.PUBL.+%26+%28CONGRESO%29.SECC.+%26+%28PLENO%29.ORSE.+Y+DSCD-10-PL-198.CODI.#1\n",
        "Loading:  http://www.congreso.es/portal/page/portal/Congreso/PopUpCGI?CMD=VERDOC&CONF=BRSPUB.cnf&BASE=PU10&PIECE=PUWD&DOCS=1-1&FMT=PUWTXDTS.fmt&OPDEF=Y&QUERY=%40FECH%26gt%3B%3D20140101+%26+%40FECH%26lt%3B%3D20150319+%26+%28D%29.PUBL.+%26+%28CONGRESO%29.SECC.+%26+%28PLENO%29.ORSE.+Y+DSCD-10-PL-199.CODI.#1\n",
        "Page is ready!"
       ]
      },
      {
       "output_type": "stream",
       "stream": "stdout",
       "text": [
        "\n",
        "Saving: "
       ]
      },
      {
       "output_type": "stream",
       "stream": "stdout",
       "text": [
        " http://www.congreso.es/portal/page/portal/Congreso/PopUpCGI?CMD=VERDOC&CONF=BRSPUB.cnf&BASE=PU10&PIECE=PUWD&DOCS=1-1&FMT=PUWTXDTS.fmt&OPDEF=Y&QUERY=%40FECH%26gt%3B%3D20140101+%26+%40FECH%26lt%3B%3D20150319+%26+%28D%29.PUBL.+%26+%28CONGRESO%29.SECC.+%26+%28PLENO%29.ORSE.+Y+DSCD-10-PL-199.CODI.#1\n",
        "Loading:  http://www.congreso.es/portal/page/portal/Congreso/PopUpCGI?CMD=VERDOC&CONF=BRSPUB.cnf&BASE=PU10&PIECE=PUWD&DOCS=1-1&FMT=PUWTXDTS.fmt&OPDEF=Y&QUERY=%40FECH%26gt%3B%3D20140101+%26+%40FECH%26lt%3B%3D20150319+%26+%28D%29.PUBL.+%26+%28CONGRESO%29.SECC.+%26+%28PLENO%29.ORSE.+Y+DSCD-10-PL-192.CODI.#1\n",
        "Page is ready!"
       ]
      },
      {
       "output_type": "stream",
       "stream": "stdout",
       "text": [
        "\n",
        "Saving: "
       ]
      },
      {
       "output_type": "stream",
       "stream": "stdout",
       "text": [
        " http://www.congreso.es/portal/page/portal/Congreso/PopUpCGI?CMD=VERDOC&CONF=BRSPUB.cnf&BASE=PU10&PIECE=PUWD&DOCS=1-1&FMT=PUWTXDTS.fmt&OPDEF=Y&QUERY=%40FECH%26gt%3B%3D20140101+%26+%40FECH%26lt%3B%3D20150319+%26+%28D%29.PUBL.+%26+%28CONGRESO%29.SECC.+%26+%28PLENO%29.ORSE.+Y+DSCD-10-PL-192.CODI.#1\n",
        "Loading:  http://www.congreso.es/portal/page/portal/Congreso/PopUpCGI?CMD=VERDOC&CONF=BRSPUB.cnf&BASE=PU10&PIECE=PUWD&DOCS=1-1&FMT=PUWTXDTS.fmt&OPDEF=Y&QUERY=%40FECH%26gt%3B%3D20140101+%26+%40FECH%26lt%3B%3D20150319+%26+%28D%29.PUBL.+%26+%28CONGRESO%29.SECC.+%26+%28PLENO%29.ORSE.+Y+DSCD-10-PL-193.CODI.#1\n",
        "Page is ready!"
       ]
      },
      {
       "output_type": "stream",
       "stream": "stdout",
       "text": [
        "\n",
        "Saving: "
       ]
      },
      {
       "output_type": "stream",
       "stream": "stdout",
       "text": [
        " http://www.congreso.es/portal/page/portal/Congreso/PopUpCGI?CMD=VERDOC&CONF=BRSPUB.cnf&BASE=PU10&PIECE=PUWD&DOCS=1-1&FMT=PUWTXDTS.fmt&OPDEF=Y&QUERY=%40FECH%26gt%3B%3D20140101+%26+%40FECH%26lt%3B%3D20150319+%26+%28D%29.PUBL.+%26+%28CONGRESO%29.SECC.+%26+%28PLENO%29.ORSE.+Y+DSCD-10-PL-193.CODI.#1\n",
        "Loading:  http://www.congreso.es/portal/page/portal/Congreso/PopUpCGI?CMD=VERDOC&CONF=BRSPUB.cnf&BASE=PU10&PIECE=PUWD&DOCS=1-1&FMT=PUWTXDTS.fmt&OPDEF=Y&QUERY=%40FECH%26gt%3B%3D20140101+%26+%40FECH%26lt%3B%3D20150319+%26+%28D%29.PUBL.+%26+%28CONGRESO%29.SECC.+%26+%28PLENO%29.ORSE.+Y+DSCD-10-PL-194.CODI.#1\n",
        "Page is ready!"
       ]
      },
      {
       "output_type": "stream",
       "stream": "stdout",
       "text": [
        "\n",
        "Saving: "
       ]
      },
      {
       "output_type": "stream",
       "stream": "stdout",
       "text": [
        " http://www.congreso.es/portal/page/portal/Congreso/PopUpCGI?CMD=VERDOC&CONF=BRSPUB.cnf&BASE=PU10&PIECE=PUWD&DOCS=1-1&FMT=PUWTXDTS.fmt&OPDEF=Y&QUERY=%40FECH%26gt%3B%3D20140101+%26+%40FECH%26lt%3B%3D20150319+%26+%28D%29.PUBL.+%26+%28CONGRESO%29.SECC.+%26+%28PLENO%29.ORSE.+Y+DSCD-10-PL-194.CODI.#1\n",
        "Loading:  http://www.congreso.es/portal/page/portal/Congreso/PopUpCGI?CMD=VERDOC&CONF=BRSPUB.cnf&BASE=PU10&PIECE=PUWD&DOCS=1-1&FMT=PUWTXDTS.fmt&OPDEF=Y&QUERY=%40FECH%26gt%3B%3D20140101+%26+%40FECH%26lt%3B%3D20150319+%26+%28D%29.PUBL.+%26+%28CONGRESO%29.SECC.+%26+%28PLENO%29.ORSE.+Y+DSCD-10-PL-195.CODI.#1\n",
        "Page is ready!"
       ]
      },
      {
       "output_type": "stream",
       "stream": "stdout",
       "text": [
        "\n",
        "Saving: "
       ]
      },
      {
       "output_type": "stream",
       "stream": "stdout",
       "text": [
        " http://www.congreso.es/portal/page/portal/Congreso/PopUpCGI?CMD=VERDOC&CONF=BRSPUB.cnf&BASE=PU10&PIECE=PUWD&DOCS=1-1&FMT=PUWTXDTS.fmt&OPDEF=Y&QUERY=%40FECH%26gt%3B%3D20140101+%26+%40FECH%26lt%3B%3D20150319+%26+%28D%29.PUBL.+%26+%28CONGRESO%29.SECC.+%26+%28PLENO%29.ORSE.+Y+DSCD-10-PL-195.CODI.#1\n",
        "Loading:  http://www.congreso.es/portal/page/portal/Congreso/PopUpCGI?CMD=VERDOC&CONF=BRSPUB.cnf&BASE=PU10&PIECE=PUWD&DOCS=1-1&FMT=PUWTXDTS.fmt&OPDEF=Y&QUERY=%40FECH%26gt%3B%3D20140101+%26+%40FECH%26lt%3B%3D20150319+%26+%28D%29.PUBL.+%26+%28CONGRESO%29.SECC.+%26+%28PLENO%29.ORSE.+Y+DSCD-10-PL-200.CODI.#1\n",
        "Page is ready!"
       ]
      },
      {
       "output_type": "stream",
       "stream": "stdout",
       "text": [
        "\n",
        "Saving: "
       ]
      },
      {
       "output_type": "stream",
       "stream": "stdout",
       "text": [
        " http://www.congreso.es/portal/page/portal/Congreso/PopUpCGI?CMD=VERDOC&CONF=BRSPUB.cnf&BASE=PU10&PIECE=PUWD&DOCS=1-1&FMT=PUWTXDTS.fmt&OPDEF=Y&QUERY=%40FECH%26gt%3B%3D20140101+%26+%40FECH%26lt%3B%3D20150319+%26+%28D%29.PUBL.+%26+%28CONGRESO%29.SECC.+%26+%28PLENO%29.ORSE.+Y+DSCD-10-PL-200.CODI.#1\n",
        "Loading:  http://www.congreso.es/portal/page/portal/Congreso/PopUpCGI?CMD=VERDOC&CONF=BRSPUB.cnf&BASE=PU10&PIECE=PUWD&DOCS=1-1&FMT=PUWTXDTS.fmt&OPDEF=Y&QUERY=%40FECH%26gt%3B%3D20140101+%26+%40FECH%26lt%3B%3D20150319+%26+%28D%29.PUBL.+%26+%28CONGRESO%29.SECC.+%26+%28PLENO%29.ORSE.+Y+DSCD-10-PL-201.CODI.#1\n",
        "Page is ready!"
       ]
      },
      {
       "output_type": "stream",
       "stream": "stdout",
       "text": [
        "\n",
        "Saving: "
       ]
      },
      {
       "output_type": "stream",
       "stream": "stdout",
       "text": [
        " http://www.congreso.es/portal/page/portal/Congreso/PopUpCGI?CMD=VERDOC&CONF=BRSPUB.cnf&BASE=PU10&PIECE=PUWD&DOCS=1-1&FMT=PUWTXDTS.fmt&OPDEF=Y&QUERY=%40FECH%26gt%3B%3D20140101+%26+%40FECH%26lt%3B%3D20150319+%26+%28D%29.PUBL.+%26+%28CONGRESO%29.SECC.+%26+%28PLENO%29.ORSE.+Y+DSCD-10-PL-201.CODI.#1\n",
        "Loading:  http://www.congreso.es/portal/page/portal/Congreso/PopUpCGI?CMD=VERDOC&CONF=BRSPUB.cnf&BASE=PU10&PIECE=PUWD&DOCS=1-1&FMT=PUWTXDTS.fmt&OPDEF=Y&QUERY=%40FECH%26gt%3B%3D20140101+%26+%40FECH%26lt%3B%3D20150319+%26+%28D%29.PUBL.+%26+%28CONGRESO%29.SECC.+%26+%28PLENO%29.ORSE.+Y+DSCD-10-PL-171.CODI.#1\n",
        "Page is ready!"
       ]
      },
      {
       "output_type": "stream",
       "stream": "stdout",
       "text": [
        "\n",
        "Saving: "
       ]
      },
      {
       "output_type": "stream",
       "stream": "stdout",
       "text": [
        " http://www.congreso.es/portal/page/portal/Congreso/PopUpCGI?CMD=VERDOC&CONF=BRSPUB.cnf&BASE=PU10&PIECE=PUWD&DOCS=1-1&FMT=PUWTXDTS.fmt&OPDEF=Y&QUERY=%40FECH%26gt%3B%3D20140101+%26+%40FECH%26lt%3B%3D20150319+%26+%28D%29.PUBL.+%26+%28CONGRESO%29.SECC.+%26+%28PLENO%29.ORSE.+Y+DSCD-10-PL-171.CODI.#1\n",
        "Loading:  http://www.congreso.es/portal/page/portal/Congreso/PopUpCGI?CMD=VERDOC&CONF=BRSPUB.cnf&BASE=PU10&PIECE=PUWD&DOCS=1-1&FMT=PUWTXDTS.fmt&OPDEF=Y&QUERY=%40FECH%26gt%3B%3D20140101+%26+%40FECH%26lt%3B%3D20150319+%26+%28D%29.PUBL.+%26+%28CONGRESO%29.SECC.+%26+%28PLENO%29.ORSE.+Y+DSCD-10-PL-176.CODI.#1\n",
        "Page is ready!"
       ]
      },
      {
       "output_type": "stream",
       "stream": "stdout",
       "text": [
        "\n",
        "Saving:  http://www.congreso.es/portal/page/portal/Congreso/PopUpCGI?CMD=VERDOC&CONF=BRSPUB.cnf&BASE=PU10&PIECE=PUWD&DOCS=1-1&FMT=PUWTXDTS.fmt&OPDEF=Y&QUERY=%40FECH%26gt%3B%3D20140101+%26+%40FECH%26lt%3B%3D20150319+%26+%28D%29.PUBL.+%26+%28CONGRESO%29.SECC.+%26+%28PLENO%29.ORSE.+Y+DSCD-10-PL-176.CODI.#1\n",
        "Loading:  http://www.congreso.es/portal/page/portal/Congreso/PopUpCGI?CMD=VERDOC&CONF=BRSPUB.cnf&BASE=PU10&PIECE=PUWD&DOCS=1-1&FMT=PUWTXDTS.fmt&OPDEF=Y&QUERY=%40FECH%26gt%3B%3D20140101+%26+%40FECH%26lt%3B%3D20150319+%26+%28D%29.PUBL.+%26+%28CONGRESO%29.SECC.+%26+%28PLENO%29.ORSE.+Y+DSCD-10-PL-180.CODI.#1\n",
        "Page is ready!"
       ]
      },
      {
       "output_type": "stream",
       "stream": "stdout",
       "text": [
        "\n",
        "Saving: "
       ]
      },
      {
       "output_type": "stream",
       "stream": "stdout",
       "text": [
        " http://www.congreso.es/portal/page/portal/Congreso/PopUpCGI?CMD=VERDOC&CONF=BRSPUB.cnf&BASE=PU10&PIECE=PUWD&DOCS=1-1&FMT=PUWTXDTS.fmt&OPDEF=Y&QUERY=%40FECH%26gt%3B%3D20140101+%26+%40FECH%26lt%3B%3D20150319+%26+%28D%29.PUBL.+%26+%28CONGRESO%29.SECC.+%26+%28PLENO%29.ORSE.+Y+DSCD-10-PL-180.CODI.#1\n",
        "Loading:  http://www.congreso.es/portal/page/portal/Congreso/PopUpCGI?CMD=VERDOC&CONF=BRSPUB.cnf&BASE=PU10&PIECE=PUWD&DOCS=1-1&FMT=PUWTXDTS.fmt&OPDEF=Y&QUERY=%40FECH%26gt%3B%3D20140101+%26+%40FECH%26lt%3B%3D20150319+%26+%28D%29.PUBL.+%26+%28CONGRESO%29.SECC.+%26+%28PLENO%29.ORSE.+Y+DSCD-10-PL-234.CODI.#1\n",
        "Page is ready!"
       ]
      },
      {
       "output_type": "stream",
       "stream": "stdout",
       "text": [
        "\n",
        "Saving: "
       ]
      },
      {
       "output_type": "stream",
       "stream": "stdout",
       "text": [
        " http://www.congreso.es/portal/page/portal/Congreso/PopUpCGI?CMD=VERDOC&CONF=BRSPUB.cnf&BASE=PU10&PIECE=PUWD&DOCS=1-1&FMT=PUWTXDTS.fmt&OPDEF=Y&QUERY=%40FECH%26gt%3B%3D20140101+%26+%40FECH%26lt%3B%3D20150319+%26+%28D%29.PUBL.+%26+%28CONGRESO%29.SECC.+%26+%28PLENO%29.ORSE.+Y+DSCD-10-PL-234.CODI.#1\n",
        "Loading:  http://www.congreso.es/portal/page/portal/Congreso/PopUpCGI?CMD=VERDOC&CONF=BRSPUB.cnf&BASE=PU10&PIECE=PUWD&DOCS=1-1&FMT=PUWTXDTS.fmt&OPDEF=Y&QUERY=%40FECH%26gt%3B%3D20140101+%26+%40FECH%26lt%3B%3D20150319+%26+%28D%29.PUBL.+%26+%28CONGRESO%29.SECC.+%26+%28PLENO%29.ORSE.+Y+DSCD-10-PL-233.CODI.#1\n",
        "Page is ready!"
       ]
      },
      {
       "output_type": "stream",
       "stream": "stdout",
       "text": [
        "\n",
        "Saving: "
       ]
      },
      {
       "output_type": "stream",
       "stream": "stdout",
       "text": [
        " http://www.congreso.es/portal/page/portal/Congreso/PopUpCGI?CMD=VERDOC&CONF=BRSPUB.cnf&BASE=PU10&PIECE=PUWD&DOCS=1-1&FMT=PUWTXDTS.fmt&OPDEF=Y&QUERY=%40FECH%26gt%3B%3D20140101+%26+%40FECH%26lt%3B%3D20150319+%26+%28D%29.PUBL.+%26+%28CONGRESO%29.SECC.+%26+%28PLENO%29.ORSE.+Y+DSCD-10-PL-233.CODI.#1\n",
        "Loading:  http://www.congreso.es/portal/page/portal/Congreso/PopUpCGI?CMD=VERDOC&CONF=BRSPUB.cnf&BASE=PU10&PIECE=PUWD&DOCS=1-1&FMT=PUWTXDTS.fmt&OPDEF=Y&QUERY=%40FECH%26gt%3B%3D20140101+%26+%40FECH%26lt%3B%3D20150319+%26+%28D%29.PUBL.+%26+%28CONGRESO%29.SECC.+%26+%28PLENO%29.ORSE.+Y+DSCD-10-PL-230.CODI.#1\n",
        "Page is ready!"
       ]
      },
      {
       "output_type": "stream",
       "stream": "stdout",
       "text": [
        "\n",
        "Saving: "
       ]
      },
      {
       "output_type": "stream",
       "stream": "stdout",
       "text": [
        " http://www.congreso.es/portal/page/portal/Congreso/PopUpCGI?CMD=VERDOC&CONF=BRSPUB.cnf&BASE=PU10&PIECE=PUWD&DOCS=1-1&FMT=PUWTXDTS.fmt&OPDEF=Y&QUERY=%40FECH%26gt%3B%3D20140101+%26+%40FECH%26lt%3B%3D20150319+%26+%28D%29.PUBL.+%26+%28CONGRESO%29.SECC.+%26+%28PLENO%29.ORSE.+Y+DSCD-10-PL-230.CODI.#1\n",
        "Loading:  http://www.congreso.es/portal/page/portal/Congreso/PopUpCGI?CMD=VERDOC&CONF=BRSPUB.cnf&BASE=PU10&PIECE=PUWD&DOCS=1-1&FMT=PUWTXDTS.fmt&OPDEF=Y&QUERY=%40FECH%26gt%3B%3D20140101+%26+%40FECH%26lt%3B%3D20150319+%26+%28D%29.PUBL.+%26+%28CONGRESO%29.SECC.+%26+%28PLENO%29.ORSE.+Y+DSCD-10-PL-229.CODI.#1\n",
        "Page is ready!"
       ]
      },
      {
       "output_type": "stream",
       "stream": "stdout",
       "text": [
        "\n",
        "Saving: "
       ]
      },
      {
       "output_type": "stream",
       "stream": "stdout",
       "text": [
        " http://www.congreso.es/portal/page/portal/Congreso/PopUpCGI?CMD=VERDOC&CONF=BRSPUB.cnf&BASE=PU10&PIECE=PUWD&DOCS=1-1&FMT=PUWTXDTS.fmt&OPDEF=Y&QUERY=%40FECH%26gt%3B%3D20140101+%26+%40FECH%26lt%3B%3D20150319+%26+%28D%29.PUBL.+%26+%28CONGRESO%29.SECC.+%26+%28PLENO%29.ORSE.+Y+DSCD-10-PL-229.CODI.#1\n",
        "Loading:  http://www.congreso.es/portal/page/portal/Congreso/PopUpCGI?CMD=VERDOC&CONF=BRSPUB.cnf&BASE=PU10&PIECE=PUWD&DOCS=1-1&FMT=PUWTXDTS.fmt&OPDEF=Y&QUERY=%40FECH%26gt%3B%3D20140101+%26+%40FECH%26lt%3B%3D20150319+%26+%28D%29.PUBL.+%26+%28CONGRESO%29.SECC.+%26+%28PLENO%29.ORSE.+Y+DSCD-10-PL-232.CODI.#1\n",
        "Page is ready!"
       ]
      },
      {
       "output_type": "stream",
       "stream": "stdout",
       "text": [
        "\n",
        "Saving: "
       ]
      },
      {
       "output_type": "stream",
       "stream": "stdout",
       "text": [
        " http://www.congreso.es/portal/page/portal/Congreso/PopUpCGI?CMD=VERDOC&CONF=BRSPUB.cnf&BASE=PU10&PIECE=PUWD&DOCS=1-1&FMT=PUWTXDTS.fmt&OPDEF=Y&QUERY=%40FECH%26gt%3B%3D20140101+%26+%40FECH%26lt%3B%3D20150319+%26+%28D%29.PUBL.+%26+%28CONGRESO%29.SECC.+%26+%28PLENO%29.ORSE.+Y+DSCD-10-PL-232.CODI.#1\n",
        "Loading:  http://www.congreso.es/portal/page/portal/Congreso/PopUpCGI?CMD=VERDOC&CONF=BRSPUB.cnf&BASE=PU10&PIECE=PUWD&DOCS=1-1&FMT=PUWTXDTS.fmt&OPDEF=Y&QUERY=%40FECH%26gt%3B%3D20140101+%26+%40FECH%26lt%3B%3D20150319+%26+%28D%29.PUBL.+%26+%28CONGRESO%29.SECC.+%26+%28PLENO%29.ORSE.+Y+DSCD-10-PL-231.CODI.#1\n",
        "Page is ready!"
       ]
      },
      {
       "output_type": "stream",
       "stream": "stdout",
       "text": [
        "\n",
        "Saving:  http://www.congreso.es/portal/page/portal/Congreso/PopUpCGI?CMD=VERDOC&CONF=BRSPUB.cnf&BASE=PU10&PIECE=PUWD&DOCS=1-1&FMT=PUWTXDTS.fmt&OPDEF=Y&QUERY=%40FECH%26gt%3B%3D20140101+%26+%40FECH%26lt%3B%3D20150319+%26+%28D%29.PUBL.+%26+%28CONGRESO%29.SECC.+%26+%28PLENO%29.ORSE.+Y+DSCD-10-PL-231.CODI.#1\n",
        "Loading:  http://www.congreso.es/portal/page/portal/Congreso/PopUpCGI?CMD=VERDOC&CONF=BRSPUB.cnf&BASE=PU10&PIECE=PUWD&DOCS=1-1&FMT=PUWTXDTS.fmt&OPDEF=Y&QUERY=%40FECH%26gt%3B%3D20140101+%26+%40FECH%26lt%3B%3D20150319+%26+%28D%29.PUBL.+%26+%28CONGRESO%29.SECC.+%26+%28PLENO%29.ORSE.+Y+DSCD-10-PL-226.CODI.#1\n",
        "Page is ready!"
       ]
      },
      {
       "output_type": "stream",
       "stream": "stdout",
       "text": [
        "\n",
        "Saving:  http://www.congreso.es/portal/page/portal/Congreso/PopUpCGI?CMD=VERDOC&CONF=BRSPUB.cnf&BASE=PU10&PIECE=PUWD&DOCS=1-1&FMT=PUWTXDTS.fmt&OPDEF=Y&QUERY=%40FECH%26gt%3B%3D20140101+%26+%40FECH%26lt%3B%3D20150319+%26+%28D%29.PUBL.+%26+%28CONGRESO%29.SECC.+%26+%28PLENO%29.ORSE.+Y+DSCD-10-PL-226.CODI.#1\n",
        "Loading: "
       ]
      },
      {
       "output_type": "stream",
       "stream": "stdout",
       "text": [
        " http://www.congreso.es/portal/page/portal/Congreso/PopUpCGI?CMD=VERDOC&CONF=BRSPUB.cnf&BASE=PU10&PIECE=PUWD&DOCS=1-1&FMT=PUWTXDTS.fmt&OPDEF=Y&QUERY=%40FECH%26gt%3B%3D20140101+%26+%40FECH%26lt%3B%3D20150319+%26+%28D%29.PUBL.+%26+%28CONGRESO%29.SECC.+%26+%28PLENO%29.ORSE.+Y+DSCD-10-PL-225.CODI.#1\n",
        "Page is ready!"
       ]
      },
      {
       "output_type": "stream",
       "stream": "stdout",
       "text": [
        "\n",
        "Saving: "
       ]
      },
      {
       "output_type": "stream",
       "stream": "stdout",
       "text": [
        " http://www.congreso.es/portal/page/portal/Congreso/PopUpCGI?CMD=VERDOC&CONF=BRSPUB.cnf&BASE=PU10&PIECE=PUWD&DOCS=1-1&FMT=PUWTXDTS.fmt&OPDEF=Y&QUERY=%40FECH%26gt%3B%3D20140101+%26+%40FECH%26lt%3B%3D20150319+%26+%28D%29.PUBL.+%26+%28CONGRESO%29.SECC.+%26+%28PLENO%29.ORSE.+Y+DSCD-10-PL-225.CODI.#1\n",
        "Loading:  http://www.congreso.es/portal/page/portal/Congreso/PopUpCGI?CMD=VERDOC&CONF=BRSPUB.cnf&BASE=PU10&PIECE=PUWD&DOCS=1-1&FMT=PUWTXDTS.fmt&OPDEF=Y&QUERY=%40FECH%26gt%3B%3D20140101+%26+%40FECH%26lt%3B%3D20150319+%26+%28D%29.PUBL.+%26+%28CONGRESO%29.SECC.+%26+%28PLENO%29.ORSE.+Y+DSCD-10-PL-228.CODI.#1\n",
        "Page is ready!"
       ]
      },
      {
       "output_type": "stream",
       "stream": "stdout",
       "text": [
        "\n",
        "Saving: "
       ]
      },
      {
       "output_type": "stream",
       "stream": "stdout",
       "text": [
        " http://www.congreso.es/portal/page/portal/Congreso/PopUpCGI?CMD=VERDOC&CONF=BRSPUB.cnf&BASE=PU10&PIECE=PUWD&DOCS=1-1&FMT=PUWTXDTS.fmt&OPDEF=Y&QUERY=%40FECH%26gt%3B%3D20140101+%26+%40FECH%26lt%3B%3D20150319+%26+%28D%29.PUBL.+%26+%28CONGRESO%29.SECC.+%26+%28PLENO%29.ORSE.+Y+DSCD-10-PL-228.CODI.#1\n",
        "Loading:  http://www.congreso.es/portal/page/portal/Congreso/PopUpCGI?CMD=VERDOC&CONF=BRSPUB.cnf&BASE=PU10&PIECE=PUWD&DOCS=1-1&FMT=PUWTXDTS.fmt&OPDEF=Y&QUERY=%40FECH%26gt%3B%3D20140101+%26+%40FECH%26lt%3B%3D20150319+%26+%28D%29.PUBL.+%26+%28CONGRESO%29.SECC.+%26+%28PLENO%29.ORSE.+Y+DSCD-10-PL-227.CODI.#1\n",
        "Page is ready!"
       ]
      },
      {
       "output_type": "stream",
       "stream": "stdout",
       "text": [
        "\n",
        "Saving: "
       ]
      },
      {
       "output_type": "stream",
       "stream": "stdout",
       "text": [
        " http://www.congreso.es/portal/page/portal/Congreso/PopUpCGI?CMD=VERDOC&CONF=BRSPUB.cnf&BASE=PU10&PIECE=PUWD&DOCS=1-1&FMT=PUWTXDTS.fmt&OPDEF=Y&QUERY=%40FECH%26gt%3B%3D20140101+%26+%40FECH%26lt%3B%3D20150319+%26+%28D%29.PUBL.+%26+%28CONGRESO%29.SECC.+%26+%28PLENO%29.ORSE.+Y+DSCD-10-PL-227.CODI.#1\n",
        "Loading:  http://www.congreso.es/portal/page/portal/Congreso/PopUpCGI?CMD=VERDOC&CONF=BRSPUB.cnf&BASE=PU10&PIECE=PUWC&DOCS=1-1&FMT=PUWTXDTS.fmt&OPDEF=Y&QUERY=%40FECH%26gt%3B%3D20140101+%26+%40FECH%26lt%3B%3D20150319+%26+%28D%29.PUBL.+%26+%28CONGRESO%29.SECC.+%26+%28PLENO%29.ORSE.+Y+DSCD-10-PL-266.CODI.#1\n",
        "Page is ready!"
       ]
      },
      {
       "output_type": "stream",
       "stream": "stdout",
       "text": [
        "\n",
        "Saving: "
       ]
      },
      {
       "output_type": "stream",
       "stream": "stdout",
       "text": [
        " http://www.congreso.es/portal/page/portal/Congreso/PopUpCGI?CMD=VERDOC&CONF=BRSPUB.cnf&BASE=PU10&PIECE=PUWC&DOCS=1-1&FMT=PUWTXDTS.fmt&OPDEF=Y&QUERY=%40FECH%26gt%3B%3D20140101+%26+%40FECH%26lt%3B%3D20150319+%26+%28D%29.PUBL.+%26+%28CONGRESO%29.SECC.+%26+%28PLENO%29.ORSE.+Y+DSCD-10-PL-266.CODI.#1\n",
        "Loading:  http://www.congreso.es/portal/page/portal/Congreso/PopUpCGI?CMD=VERDOC&CONF=BRSPUB.cnf&BASE=PU10&PIECE=PUWC&DOCS=1-1&FMT=PUWTXDTS.fmt&OPDEF=Y&QUERY=%40FECH%26gt%3B%3D20140101+%26+%40FECH%26lt%3B%3D20150319+%26+%28D%29.PUBL.+%26+%28CONGRESO%29.SECC.+%26+%28PLENO%29.ORSE.+Y+DSCD-10-PL-267.CODI.#1\n",
        "Page is ready!"
       ]
      },
      {
       "output_type": "stream",
       "stream": "stdout",
       "text": [
        "\n",
        "Saving: "
       ]
      },
      {
       "output_type": "stream",
       "stream": "stdout",
       "text": [
        " http://www.congreso.es/portal/page/portal/Congreso/PopUpCGI?CMD=VERDOC&CONF=BRSPUB.cnf&BASE=PU10&PIECE=PUWC&DOCS=1-1&FMT=PUWTXDTS.fmt&OPDEF=Y&QUERY=%40FECH%26gt%3B%3D20140101+%26+%40FECH%26lt%3B%3D20150319+%26+%28D%29.PUBL.+%26+%28CONGRESO%29.SECC.+%26+%28PLENO%29.ORSE.+Y+DSCD-10-PL-267.CODI.#1\n",
        "Loading:  http://www.congreso.es/portal/page/portal/Congreso/PopUpCGI?CMD=VERDOC&CONF=BRSPUB.cnf&BASE=PU10&PIECE=PUWC&DOCS=1-1&FMT=PUWTXDTS.fmt&OPDEF=Y&QUERY=%40FECH%26gt%3B%3D20140101+%26+%40FECH%26lt%3B%3D20150319+%26+%28D%29.PUBL.+%26+%28CONGRESO%29.SECC.+%26+%28PLENO%29.ORSE.+Y+DSCD-10-PL-259.CODI.#1\n",
        "Page is ready!"
       ]
      },
      {
       "output_type": "stream",
       "stream": "stdout",
       "text": [
        "\n",
        "Saving: "
       ]
      },
      {
       "output_type": "stream",
       "stream": "stdout",
       "text": [
        " http://www.congreso.es/portal/page/portal/Congreso/PopUpCGI?CMD=VERDOC&CONF=BRSPUB.cnf&BASE=PU10&PIECE=PUWC&DOCS=1-1&FMT=PUWTXDTS.fmt&OPDEF=Y&QUERY=%40FECH%26gt%3B%3D20140101+%26+%40FECH%26lt%3B%3D20150319+%26+%28D%29.PUBL.+%26+%28CONGRESO%29.SECC.+%26+%28PLENO%29.ORSE.+Y+DSCD-10-PL-259.CODI.#1\n",
        "Loading:  http://www.congreso.es/portal/page/portal/Congreso/PopUpCGI?CMD=VERDOC&CONF=BRSPUB.cnf&BASE=PU10&PIECE=PUWC&DOCS=1-1&FMT=PUWTXDTS.fmt&OPDEF=Y&QUERY=%40FECH%26gt%3B%3D20140101+%26+%40FECH%26lt%3B%3D20150319+%26+%28D%29.PUBL.+%26+%28CONGRESO%29.SECC.+%26+%28PLENO%29.ORSE.+Y+DSCD-10-PL-260.CODI.#1\n",
        "Page is ready!"
       ]
      },
      {
       "output_type": "stream",
       "stream": "stdout",
       "text": [
        "\n",
        "Saving: "
       ]
      },
      {
       "output_type": "stream",
       "stream": "stdout",
       "text": [
        " http://www.congreso.es/portal/page/portal/Congreso/PopUpCGI?CMD=VERDOC&CONF=BRSPUB.cnf&BASE=PU10&PIECE=PUWC&DOCS=1-1&FMT=PUWTXDTS.fmt&OPDEF=Y&QUERY=%40FECH%26gt%3B%3D20140101+%26+%40FECH%26lt%3B%3D20150319+%26+%28D%29.PUBL.+%26+%28CONGRESO%29.SECC.+%26+%28PLENO%29.ORSE.+Y+DSCD-10-PL-260.CODI.#1\n",
        "Loading:  http://www.congreso.es/portal/page/portal/Congreso/PopUpCGI?CMD=VERDOC&CONF=BRSPUB.cnf&BASE=PU10&PIECE=PUWC&DOCS=1-1&FMT=PUWTXDTS.fmt&OPDEF=Y&QUERY=%40FECH%26gt%3B%3D20140101+%26+%40FECH%26lt%3B%3D20150319+%26+%28D%29.PUBL.+%26+%28CONGRESO%29.SECC.+%26+%28PLENO%29.ORSE.+Y+DSCD-10-PL-257.CODI.#1\n",
        "Page is ready!"
       ]
      },
      {
       "output_type": "stream",
       "stream": "stdout",
       "text": [
        "\n",
        "Saving: "
       ]
      },
      {
       "output_type": "stream",
       "stream": "stdout",
       "text": [
        " http://www.congreso.es/portal/page/portal/Congreso/PopUpCGI?CMD=VERDOC&CONF=BRSPUB.cnf&BASE=PU10&PIECE=PUWC&DOCS=1-1&FMT=PUWTXDTS.fmt&OPDEF=Y&QUERY=%40FECH%26gt%3B%3D20140101+%26+%40FECH%26lt%3B%3D20150319+%26+%28D%29.PUBL.+%26+%28CONGRESO%29.SECC.+%26+%28PLENO%29.ORSE.+Y+DSCD-10-PL-257.CODI.#1\n",
        "Loading:  http://www.congreso.es/portal/page/portal/Congreso/PopUpCGI?CMD=VERDOC&CONF=BRSPUB.cnf&BASE=PU10&PIECE=PUWC&DOCS=1-1&FMT=PUWTXDTS.fmt&OPDEF=Y&QUERY=%40FECH%26gt%3B%3D20140101+%26+%40FECH%26lt%3B%3D20150319+%26+%28D%29.PUBL.+%26+%28CONGRESO%29.SECC.+%26+%28PLENO%29.ORSE.+Y+DSCD-10-PL-258.CODI.#1\n",
        "Page is ready!"
       ]
      },
      {
       "output_type": "stream",
       "stream": "stdout",
       "text": [
        "\n",
        "Saving: "
       ]
      },
      {
       "output_type": "stream",
       "stream": "stdout",
       "text": [
        " http://www.congreso.es/portal/page/portal/Congreso/PopUpCGI?CMD=VERDOC&CONF=BRSPUB.cnf&BASE=PU10&PIECE=PUWC&DOCS=1-1&FMT=PUWTXDTS.fmt&OPDEF=Y&QUERY=%40FECH%26gt%3B%3D20140101+%26+%40FECH%26lt%3B%3D20150319+%26+%28D%29.PUBL.+%26+%28CONGRESO%29.SECC.+%26+%28PLENO%29.ORSE.+Y+DSCD-10-PL-258.CODI.#1\n",
        "Loading:  http://www.congreso.es/portal/page/portal/Congreso/PopUpCGI?CMD=VERDOC&CONF=BRSPUB.cnf&BASE=PU10&PIECE=PUWC&DOCS=1-1&FMT=PUWTXDTS.fmt&OPDEF=Y&QUERY=%40FECH%26gt%3B%3D20140101+%26+%40FECH%26lt%3B%3D20150319+%26+%28D%29.PUBL.+%26+%28CONGRESO%29.SECC.+%26+%28PLENO%29.ORSE.+Y+DSCD-10-PL-264.CODI.#1\n",
        "Page is ready!"
       ]
      },
      {
       "output_type": "stream",
       "stream": "stdout",
       "text": [
        "\n",
        "Saving:  http://www.congreso.es/portal/page/portal/Congreso/PopUpCGI?CMD=VERDOC&CONF=BRSPUB.cnf&BASE=PU10&PIECE=PUWC&DOCS=1-1&FMT=PUWTXDTS.fmt&OPDEF=Y&QUERY=%40FECH%26gt%3B%3D20140101+%26+%40FECH%26lt%3B%3D20150319+%26+%28D%29.PUBL.+%26+%28CONGRESO%29.SECC.+%26+%28PLENO%29.ORSE.+Y+DSCD-10-PL-264.CODI.#1\n",
        "Loading:  http://www.congreso.es/portal/page/portal/Congreso/PopUpCGI?CMD=VERDOC&CONF=BRSPUB.cnf&BASE=PU10&PIECE=PUWC&DOCS=1-1&FMT=PUWTXDTS.fmt&OPDEF=Y&QUERY=%40FECH%26gt%3B%3D20140101+%26+%40FECH%26lt%3B%3D20150319+%26+%28D%29.PUBL.+%26+%28CONGRESO%29.SECC.+%26+%28PLENO%29.ORSE.+Y+DSCD-10-PL-265.CODI.#1\n",
        "Page is ready!"
       ]
      },
      {
       "output_type": "stream",
       "stream": "stdout",
       "text": [
        "\n",
        "Saving: "
       ]
      },
      {
       "output_type": "stream",
       "stream": "stdout",
       "text": [
        " http://www.congreso.es/portal/page/portal/Congreso/PopUpCGI?CMD=VERDOC&CONF=BRSPUB.cnf&BASE=PU10&PIECE=PUWC&DOCS=1-1&FMT=PUWTXDTS.fmt&OPDEF=Y&QUERY=%40FECH%26gt%3B%3D20140101+%26+%40FECH%26lt%3B%3D20150319+%26+%28D%29.PUBL.+%26+%28CONGRESO%29.SECC.+%26+%28PLENO%29.ORSE.+Y+DSCD-10-PL-265.CODI.#1\n",
        "Loading:  http://www.congreso.es/portal/page/portal/Congreso/PopUpCGI?CMD=VERDOC&CONF=BRSPUB.cnf&BASE=PU10&PIECE=PUWC&DOCS=1-1&FMT=PUWTXDTS.fmt&OPDEF=Y&QUERY=%40FECH%26gt%3B%3D20140101+%26+%40FECH%26lt%3B%3D20150319+%26+%28D%29.PUBL.+%26+%28CONGRESO%29.SECC.+%26+%28PLENO%29.ORSE.+Y+DSCD-10-PL-261.CODI.#1\n",
        "Page is ready!"
       ]
      },
      {
       "output_type": "stream",
       "stream": "stdout",
       "text": [
        "\n",
        "Saving:  http://www.congreso.es/portal/page/portal/Congreso/PopUpCGI?CMD=VERDOC&CONF=BRSPUB.cnf&BASE=PU10&PIECE=PUWC&DOCS=1-1&FMT=PUWTXDTS.fmt&OPDEF=Y&QUERY=%40FECH%26gt%3B%3D20140101+%26+%40FECH%26lt%3B%3D20150319+%26+%28D%29.PUBL.+%26+%28CONGRESO%29.SECC.+%26+%28PLENO%29.ORSE.+Y+DSCD-10-PL-261.CODI.#1\n",
        "Loading:  http://www.congreso.es/portal/page/portal/Congreso/PopUpCGI?CMD=VERDOC&CONF=BRSPUB.cnf&BASE=PU10&PIECE=PUWC&DOCS=1-1&FMT=PUWTXDTS.fmt&OPDEF=Y&QUERY=%40FECH%26gt%3B%3D20140101+%26+%40FECH%26lt%3B%3D20150319+%26+%28D%29.PUBL.+%26+%28CONGRESO%29.SECC.+%26+%28PLENO%29.ORSE.+Y+DSCD-10-PL-263.CODI.#1\n",
        "Page is ready!"
       ]
      },
      {
       "output_type": "stream",
       "stream": "stdout",
       "text": [
        "\n",
        "Saving: "
       ]
      },
      {
       "output_type": "stream",
       "stream": "stdout",
       "text": [
        " http://www.congreso.es/portal/page/portal/Congreso/PopUpCGI?CMD=VERDOC&CONF=BRSPUB.cnf&BASE=PU10&PIECE=PUWC&DOCS=1-1&FMT=PUWTXDTS.fmt&OPDEF=Y&QUERY=%40FECH%26gt%3B%3D20140101+%26+%40FECH%26lt%3B%3D20150319+%26+%28D%29.PUBL.+%26+%28CONGRESO%29.SECC.+%26+%28PLENO%29.ORSE.+Y+DSCD-10-PL-263.CODI.#1\n",
        "Loading:  http://www.congreso.es/portal/page/portal/Congreso/PopUpCGI?CMD=VERDOC&CONF=BRSPUB.cnf&BASE=PU10&PIECE=PUWD&DOCS=1-1&FMT=PUWTXDTS.fmt&OPDEF=Y&QUERY=%40FECH%26gt%3B%3D20140101+%26+%40FECH%26lt%3B%3D20150319+%26+%28D%29.PUBL.+%26+%28CONGRESO%29.SECC.+%26+%28PLENO%29.ORSE.+Y+DSCD-10-PL-175.CODI.#1\n",
        "Page is ready!"
       ]
      },
      {
       "output_type": "stream",
       "stream": "stdout",
       "text": [
        "\n",
        "Saving: "
       ]
      },
      {
       "output_type": "stream",
       "stream": "stdout",
       "text": [
        " http://www.congreso.es/portal/page/portal/Congreso/PopUpCGI?CMD=VERDOC&CONF=BRSPUB.cnf&BASE=PU10&PIECE=PUWD&DOCS=1-1&FMT=PUWTXDTS.fmt&OPDEF=Y&QUERY=%40FECH%26gt%3B%3D20140101+%26+%40FECH%26lt%3B%3D20150319+%26+%28D%29.PUBL.+%26+%28CONGRESO%29.SECC.+%26+%28PLENO%29.ORSE.+Y+DSCD-10-PL-175.CODI.#1\n",
        "Loading:  http://www.congreso.es/portal/page/portal/Congreso/PopUpCGI?CMD=VERDOC&CONF=BRSPUB.cnf&BASE=PU10&PIECE=PUWD&DOCS=1-1&FMT=PUWTXDTS.fmt&OPDEF=Y&QUERY=%40FECH%26gt%3B%3D20140101+%26+%40FECH%26lt%3B%3D20150319+%26+%28D%29.PUBL.+%26+%28CONGRESO%29.SECC.+%26+%28PLENO%29.ORSE.+Y+DSCD-10-PL-179.CODI.#1\n",
        "Page is ready!"
       ]
      },
      {
       "output_type": "stream",
       "stream": "stdout",
       "text": [
        "\n",
        "Saving:  http://www.congreso.es/portal/page/portal/Congreso/PopUpCGI?CMD=VERDOC&CONF=BRSPUB.cnf&BASE=PU10&PIECE=PUWD&DOCS=1-1&FMT=PUWTXDTS.fmt&OPDEF=Y&QUERY=%40FECH%26gt%3B%3D20140101+%26+%40FECH%26lt%3B%3D20150319+%26+%28D%29.PUBL.+%26+%28CONGRESO%29.SECC.+%26+%28PLENO%29.ORSE.+Y+DSCD-10-PL-179.CODI.#1\n",
        "Loading:  http://www.congreso.es/portal/page/portal/Congreso/PopUpCGI?CMD=VERDOC&CONF=BRSPUB.cnf&BASE=PU10&PIECE=PUWD&DOCS=1-1&FMT=PUWTXDTS.fmt&OPDEF=Y&QUERY=%40FECH%26gt%3B%3D20140101+%26+%40FECH%26lt%3B%3D20150319+%26+%28D%29.PUBL.+%26+%28CONGRESO%29.SECC.+%26+%28PLENO%29.ORSE.+Y+DSCD-10-PL-212.CODI.#1\n",
        "Page is ready!"
       ]
      },
      {
       "output_type": "stream",
       "stream": "stdout",
       "text": [
        "\n",
        "Saving: "
       ]
      },
      {
       "output_type": "stream",
       "stream": "stdout",
       "text": [
        " http://www.congreso.es/portal/page/portal/Congreso/PopUpCGI?CMD=VERDOC&CONF=BRSPUB.cnf&BASE=PU10&PIECE=PUWD&DOCS=1-1&FMT=PUWTXDTS.fmt&OPDEF=Y&QUERY=%40FECH%26gt%3B%3D20140101+%26+%40FECH%26lt%3B%3D20150319+%26+%28D%29.PUBL.+%26+%28CONGRESO%29.SECC.+%26+%28PLENO%29.ORSE.+Y+DSCD-10-PL-212.CODI.#1\n",
        "Loading:  http://www.congreso.es/portal/page/portal/Congreso/PopUpCGI?CMD=VERDOC&CONF=BRSPUB.cnf&BASE=PU10&PIECE=PUWD&DOCS=1-1&FMT=PUWTXDTS.fmt&OPDEF=Y&QUERY=%40FECH%26gt%3B%3D20140101+%26+%40FECH%26lt%3B%3D20150319+%26+%28D%29.PUBL.+%26+%28CONGRESO%29.SECC.+%26+%28PLENO%29.ORSE.+Y+DSCD-10-PL-211.CODI.#1\n",
        "Page is ready!"
       ]
      },
      {
       "output_type": "stream",
       "stream": "stdout",
       "text": [
        "\n",
        "Saving: "
       ]
      },
      {
       "output_type": "stream",
       "stream": "stdout",
       "text": [
        " http://www.congreso.es/portal/page/portal/Congreso/PopUpCGI?CMD=VERDOC&CONF=BRSPUB.cnf&BASE=PU10&PIECE=PUWD&DOCS=1-1&FMT=PUWTXDTS.fmt&OPDEF=Y&QUERY=%40FECH%26gt%3B%3D20140101+%26+%40FECH%26lt%3B%3D20150319+%26+%28D%29.PUBL.+%26+%28CONGRESO%29.SECC.+%26+%28PLENO%29.ORSE.+Y+DSCD-10-PL-211.CODI.#1\n",
        "Loading:  http://www.congreso.es/portal/page/portal/Congreso/PopUpCGI?CMD=VERDOC&CONF=BRSPUB.cnf&BASE=PU10&PIECE=PUWD&DOCS=1-1&FMT=PUWTXDTS.fmt&OPDEF=Y&QUERY=%40FECH%26gt%3B%3D20140101+%26+%40FECH%26lt%3B%3D20150319+%26+%28D%29.PUBL.+%26+%28CONGRESO%29.SECC.+%26+%28PLENO%29.ORSE.+Y+DSCD-10-PL-205.CODI.#1\n",
        "Page is ready!"
       ]
      },
      {
       "output_type": "stream",
       "stream": "stdout",
       "text": [
        "\n",
        "Saving: "
       ]
      },
      {
       "output_type": "stream",
       "stream": "stdout",
       "text": [
        " http://www.congreso.es/portal/page/portal/Congreso/PopUpCGI?CMD=VERDOC&CONF=BRSPUB.cnf&BASE=PU10&PIECE=PUWD&DOCS=1-1&FMT=PUWTXDTS.fmt&OPDEF=Y&QUERY=%40FECH%26gt%3B%3D20140101+%26+%40FECH%26lt%3B%3D20150319+%26+%28D%29.PUBL.+%26+%28CONGRESO%29.SECC.+%26+%28PLENO%29.ORSE.+Y+DSCD-10-PL-205.CODI.#1\n",
        "Loading:  http://www.congreso.es/portal/page/portal/Congreso/PopUpCGI?CMD=VERDOC&CONF=BRSPUB.cnf&BASE=PU10&PIECE=PUWD&DOCS=1-1&FMT=PUWTXDTS.fmt&OPDEF=Y&QUERY=%40FECH%26gt%3B%3D20140101+%26+%40FECH%26lt%3B%3D20150319+%26+%28D%29.PUBL.+%26+%28CONGRESO%29.SECC.+%26+%28PLENO%29.ORSE.+Y+DSCD-10-PL-204.CODI.#1\n",
        "Page is ready!"
       ]
      },
      {
       "output_type": "stream",
       "stream": "stdout",
       "text": [
        "\n",
        "Saving: "
       ]
      },
      {
       "output_type": "stream",
       "stream": "stdout",
       "text": [
        " http://www.congreso.es/portal/page/portal/Congreso/PopUpCGI?CMD=VERDOC&CONF=BRSPUB.cnf&BASE=PU10&PIECE=PUWD&DOCS=1-1&FMT=PUWTXDTS.fmt&OPDEF=Y&QUERY=%40FECH%26gt%3B%3D20140101+%26+%40FECH%26lt%3B%3D20150319+%26+%28D%29.PUBL.+%26+%28CONGRESO%29.SECC.+%26+%28PLENO%29.ORSE.+Y+DSCD-10-PL-204.CODI.#1\n",
        "Loading:  http://www.congreso.es/portal/page/portal/Congreso/PopUpCGI?CMD=VERDOC&CONF=BRSPUB.cnf&BASE=PU10&PIECE=PUWD&DOCS=1-1&FMT=PUWTXDTS.fmt&OPDEF=Y&QUERY=%40FECH%26gt%3B%3D20140101+%26+%40FECH%26lt%3B%3D20150319+%26+%28D%29.PUBL.+%26+%28CONGRESO%29.SECC.+%26+%28PLENO%29.ORSE.+Y+DSCD-10-PL-203.CODI.#1\n",
        "Page is ready!"
       ]
      },
      {
       "output_type": "stream",
       "stream": "stdout",
       "text": [
        "\n",
        "Saving: "
       ]
      },
      {
       "output_type": "stream",
       "stream": "stdout",
       "text": [
        " http://www.congreso.es/portal/page/portal/Congreso/PopUpCGI?CMD=VERDOC&CONF=BRSPUB.cnf&BASE=PU10&PIECE=PUWD&DOCS=1-1&FMT=PUWTXDTS.fmt&OPDEF=Y&QUERY=%40FECH%26gt%3B%3D20140101+%26+%40FECH%26lt%3B%3D20150319+%26+%28D%29.PUBL.+%26+%28CONGRESO%29.SECC.+%26+%28PLENO%29.ORSE.+Y+DSCD-10-PL-203.CODI.#1\n",
        "Loading:  http://www.congreso.es/portal/page/portal/Congreso/PopUpCGI?CMD=VERDOC&CONF=BRSPUB.cnf&BASE=PU10&PIECE=PUWD&DOCS=1-1&FMT=PUWTXDTS.fmt&OPDEF=Y&QUERY=%40FECH%26gt%3B%3D20140101+%26+%40FECH%26lt%3B%3D20150319+%26+%28D%29.PUBL.+%26+%28CONGRESO%29.SECC.+%26+%28PLENO%29.ORSE.+Y+DSCD-10-PL-202.CODI.#1\n",
        "Page is ready!"
       ]
      },
      {
       "output_type": "stream",
       "stream": "stdout",
       "text": [
        "\n",
        "Saving: "
       ]
      },
      {
       "output_type": "stream",
       "stream": "stdout",
       "text": [
        " http://www.congreso.es/portal/page/portal/Congreso/PopUpCGI?CMD=VERDOC&CONF=BRSPUB.cnf&BASE=PU10&PIECE=PUWD&DOCS=1-1&FMT=PUWTXDTS.fmt&OPDEF=Y&QUERY=%40FECH%26gt%3B%3D20140101+%26+%40FECH%26lt%3B%3D20150319+%26+%28D%29.PUBL.+%26+%28CONGRESO%29.SECC.+%26+%28PLENO%29.ORSE.+Y+DSCD-10-PL-202.CODI.#1\n",
        "Loading:  http://www.congreso.es/portal/page/portal/Congreso/PopUpCGI?CMD=VERDOC&CONF=BRSPUB.cnf&BASE=PU10&PIECE=PUWD&DOCS=1-1&FMT=PUWTXDTS.fmt&OPDEF=Y&QUERY=%40FECH%26gt%3B%3D20140101+%26+%40FECH%26lt%3B%3D20150319+%26+%28D%29.PUBL.+%26+%28CONGRESO%29.SECC.+%26+%28PLENO%29.ORSE.+Y+DSCD-10-PL-210.CODI.#1\n",
        "Page is ready!"
       ]
      },
      {
       "output_type": "stream",
       "stream": "stdout",
       "text": [
        "\n",
        "Saving: "
       ]
      },
      {
       "output_type": "stream",
       "stream": "stdout",
       "text": [
        " http://www.congreso.es/portal/page/portal/Congreso/PopUpCGI?CMD=VERDOC&CONF=BRSPUB.cnf&BASE=PU10&PIECE=PUWD&DOCS=1-1&FMT=PUWTXDTS.fmt&OPDEF=Y&QUERY=%40FECH%26gt%3B%3D20140101+%26+%40FECH%26lt%3B%3D20150319+%26+%28D%29.PUBL.+%26+%28CONGRESO%29.SECC.+%26+%28PLENO%29.ORSE.+Y+DSCD-10-PL-210.CODI.#1\n",
        "Loading:  http://www.congreso.es/portal/page/portal/Congreso/PopUpCGI?CMD=VERDOC&CONF=BRSPUB.cnf&BASE=PU10&PIECE=PUWD&DOCS=1-1&FMT=PUWTXDTS.fmt&OPDEF=Y&QUERY=%40FECH%26gt%3B%3D20140101+%26+%40FECH%26lt%3B%3D20150319+%26+%28D%29.PUBL.+%26+%28CONGRESO%29.SECC.+%26+%28PLENO%29.ORSE.+Y+DSCD-10-PL-208.CODI.#1\n",
        "Page is ready!"
       ]
      },
      {
       "output_type": "stream",
       "stream": "stdout",
       "text": [
        "\n",
        "Saving:  http://www.congreso.es/portal/page/portal/Congreso/PopUpCGI?CMD=VERDOC&CONF=BRSPUB.cnf&BASE=PU10&PIECE=PUWD&DOCS=1-1&FMT=PUWTXDTS.fmt&OPDEF=Y&QUERY=%40FECH%26gt%3B%3D20140101+%26+%40FECH%26lt%3B%3D20150319+%26+%28D%29.PUBL.+%26+%28CONGRESO%29.SECC.+%26+%28PLENO%29.ORSE.+Y+DSCD-10-PL-208.CODI.#1\n",
        "Loading:  http://www.congreso.es/portal/page/portal/Congreso/PopUpCGI?CMD=VERDOC&CONF=BRSPUB.cnf&BASE=PU10&PIECE=PUWD&DOCS=1-1&FMT=PUWTXDTS.fmt&OPDEF=Y&QUERY=%40FECH%26gt%3B%3D20140101+%26+%40FECH%26lt%3B%3D20150319+%26+%28D%29.PUBL.+%26+%28CONGRESO%29.SECC.+%26+%28PLENO%29.ORSE.+Y+DSCD-10-PL-207.CODI.#1\n",
        "Page is ready!"
       ]
      },
      {
       "output_type": "stream",
       "stream": "stdout",
       "text": [
        "\n",
        "Saving:  http://www.congreso.es/portal/page/portal/Congreso/PopUpCGI?CMD=VERDOC&CONF=BRSPUB.cnf&BASE=PU10&PIECE=PUWD&DOCS=1-1&FMT=PUWTXDTS.fmt&OPDEF=Y&QUERY=%40FECH%26gt%3B%3D20140101+%26+%40FECH%26lt%3B%3D20150319+%26+%28D%29.PUBL.+%26+%28CONGRESO%29.SECC.+%26+%28PLENO%29.ORSE.+Y+DSCD-10-PL-207.CODI.#1\n",
        "Loading:  http://www.congreso.es/portal/page/portal/Congreso/PopUpCGI?CMD=VERDOC&CONF=BRSPUB.cnf&BASE=PU10&PIECE=PUWD&DOCS=1-1&FMT=PUWTXDTS.fmt&OPDEF=Y&QUERY=%40FECH%26gt%3B%3D20140101+%26+%40FECH%26lt%3B%3D20150319+%26+%28D%29.PUBL.+%26+%28CONGRESO%29.SECC.+%26+%28PLENO%29.ORSE.+Y+DSCD-10-PL-206.CODI.#1\n",
        "Page is ready!"
       ]
      },
      {
       "output_type": "stream",
       "stream": "stdout",
       "text": [
        "\n",
        "Saving: "
       ]
      },
      {
       "output_type": "stream",
       "stream": "stdout",
       "text": [
        " http://www.congreso.es/portal/page/portal/Congreso/PopUpCGI?CMD=VERDOC&CONF=BRSPUB.cnf&BASE=PU10&PIECE=PUWD&DOCS=1-1&FMT=PUWTXDTS.fmt&OPDEF=Y&QUERY=%40FECH%26gt%3B%3D20140101+%26+%40FECH%26lt%3B%3D20150319+%26+%28D%29.PUBL.+%26+%28CONGRESO%29.SECC.+%26+%28PLENO%29.ORSE.+Y+DSCD-10-PL-206.CODI.#1\n",
        "Loading:  http://www.congreso.es/portal/page/portal/Congreso/PopUpCGI?CMD=VERDOC&CONF=BRSPUB.cnf&BASE=PU10&PIECE=PUWD&DOCS=1-1&FMT=PUWTXDTS.fmt&OPDEF=Y&QUERY=%40FECH%26gt%3B%3D20140101+%26+%40FECH%26lt%3B%3D20150319+%26+%28D%29.PUBL.+%26+%28CONGRESO%29.SECC.+%26+%28PLENO%29.ORSE.+Y+DSCD-10-PL-235.CODI.#1\n",
        "Page is ready!"
       ]
      },
      {
       "output_type": "stream",
       "stream": "stdout",
       "text": [
        "\n",
        "Saving: "
       ]
      },
      {
       "output_type": "stream",
       "stream": "stdout",
       "text": [
        " http://www.congreso.es/portal/page/portal/Congreso/PopUpCGI?CMD=VERDOC&CONF=BRSPUB.cnf&BASE=PU10&PIECE=PUWD&DOCS=1-1&FMT=PUWTXDTS.fmt&OPDEF=Y&QUERY=%40FECH%26gt%3B%3D20140101+%26+%40FECH%26lt%3B%3D20150319+%26+%28D%29.PUBL.+%26+%28CONGRESO%29.SECC.+%26+%28PLENO%29.ORSE.+Y+DSCD-10-PL-235.CODI.#1\n",
        "Loading:  http://www.congreso.es/portal/page/portal/Congreso/PopUpCGI?CMD=VERDOC&CONF=BRSPUB.cnf&BASE=PU10&PIECE=PUWD&DOCS=1-1&FMT=PUWTXDTS.fmt&OPDEF=Y&QUERY=%40FECH%26gt%3B%3D20140101+%26+%40FECH%26lt%3B%3D20150319+%26+%28D%29.PUBL.+%26+%28CONGRESO%29.SECC.+%26+%28PLENO%29.ORSE.+Y+DSCD-10-PL-236.CODI.#1\n",
        "Page is ready!"
       ]
      },
      {
       "output_type": "stream",
       "stream": "stdout",
       "text": [
        "\n",
        "Saving:  http://www.congreso.es/portal/page/portal/Congreso/PopUpCGI?CMD=VERDOC&CONF=BRSPUB.cnf&BASE=PU10&PIECE=PUWD&DOCS=1-1&FMT=PUWTXDTS.fmt&OPDEF=Y&QUERY=%40FECH%26gt%3B%3D20140101+%26+%40FECH%26lt%3B%3D20150319+%26+%28D%29.PUBL.+%26+%28CONGRESO%29.SECC.+%26+%28PLENO%29.ORSE.+Y+DSCD-10-PL-236.CODI.#1\n",
        "Loading:  http://www.congreso.es/portal/page/portal/Congreso/PopUpCGI?CMD=VERDOC&CONF=BRSPUB.cnf&BASE=PU10&PIECE=PUWD&DOCS=1-1&FMT=PUWTXDTS.fmt&OPDEF=Y&QUERY=%40FECH%26gt%3B%3D20140101+%26+%40FECH%26lt%3B%3D20150319+%26+%28D%29.PUBL.+%26+%28CONGRESO%29.SECC.+%26+%28PLENO%29.ORSE.+Y+DSCD-10-PL-237.CODI.#1\n",
        "Page is ready!"
       ]
      },
      {
       "output_type": "stream",
       "stream": "stdout",
       "text": [
        "\n",
        "Saving: "
       ]
      },
      {
       "output_type": "stream",
       "stream": "stdout",
       "text": [
        " http://www.congreso.es/portal/page/portal/Congreso/PopUpCGI?CMD=VERDOC&CONF=BRSPUB.cnf&BASE=PU10&PIECE=PUWD&DOCS=1-1&FMT=PUWTXDTS.fmt&OPDEF=Y&QUERY=%40FECH%26gt%3B%3D20140101+%26+%40FECH%26lt%3B%3D20150319+%26+%28D%29.PUBL.+%26+%28CONGRESO%29.SECC.+%26+%28PLENO%29.ORSE.+Y+DSCD-10-PL-237.CODI.#1\n",
        "Loading:  http://www.congreso.es/portal/page/portal/Congreso/PopUpCGI?CMD=VERDOC&CONF=BRSPUB.cnf&BASE=PU10&PIECE=PUWD&DOCS=1-1&FMT=PUWTXDTS.fmt&OPDEF=Y&QUERY=%40FECH%26gt%3B%3D20140101+%26+%40FECH%26lt%3B%3D20150319+%26+%28D%29.PUBL.+%26+%28CONGRESO%29.SECC.+%26+%28PLENO%29.ORSE.+Y+DSCD-10-PL-238.CODI.#1\n",
        "Page is ready!"
       ]
      },
      {
       "output_type": "stream",
       "stream": "stdout",
       "text": [
        "\n",
        "Saving: "
       ]
      },
      {
       "output_type": "stream",
       "stream": "stdout",
       "text": [
        " http://www.congreso.es/portal/page/portal/Congreso/PopUpCGI?CMD=VERDOC&CONF=BRSPUB.cnf&BASE=PU10&PIECE=PUWD&DOCS=1-1&FMT=PUWTXDTS.fmt&OPDEF=Y&QUERY=%40FECH%26gt%3B%3D20140101+%26+%40FECH%26lt%3B%3D20150319+%26+%28D%29.PUBL.+%26+%28CONGRESO%29.SECC.+%26+%28PLENO%29.ORSE.+Y+DSCD-10-PL-238.CODI.#1\n",
        "Loading:  http://www.congreso.es/portal/page/portal/Congreso/PopUpCGI?CMD=VERDOC&CONF=BRSPUB.cnf&BASE=PU10&PIECE=PUWD&DOCS=1-1&FMT=PUWTXDTS.fmt&OPDEF=Y&QUERY=%40FECH%26gt%3B%3D20140101+%26+%40FECH%26lt%3B%3D20150319+%26+%28D%29.PUBL.+%26+%28CONGRESO%29.SECC.+%26+%28PLENO%29.ORSE.+Y+DSCD-10-PL-239.CODI.#1\n",
        "Page is ready!"
       ]
      },
      {
       "output_type": "stream",
       "stream": "stdout",
       "text": [
        "\n",
        "Saving: "
       ]
      },
      {
       "output_type": "stream",
       "stream": "stdout",
       "text": [
        " http://www.congreso.es/portal/page/portal/Congreso/PopUpCGI?CMD=VERDOC&CONF=BRSPUB.cnf&BASE=PU10&PIECE=PUWD&DOCS=1-1&FMT=PUWTXDTS.fmt&OPDEF=Y&QUERY=%40FECH%26gt%3B%3D20140101+%26+%40FECH%26lt%3B%3D20150319+%26+%28D%29.PUBL.+%26+%28CONGRESO%29.SECC.+%26+%28PLENO%29.ORSE.+Y+DSCD-10-PL-239.CODI.#1\n",
        "Loading:  http://www.congreso.es/portal/page/portal/Congreso/PopUpCGI?CMD=VERDOC&CONF=BRSPUB.cnf&BASE=PU10&PIECE=PUWD&DOCS=1-1&FMT=PUWTXDTS.fmt&OPDEF=Y&QUERY=%40FECH%26gt%3B%3D20140101+%26+%40FECH%26lt%3B%3D20150319+%26+%28D%29.PUBL.+%26+%28CONGRESO%29.SECC.+%26+%28PLENO%29.ORSE.+Y+DSCD-10-PL-240.CODI.#1\n",
        "Page is ready!"
       ]
      },
      {
       "output_type": "stream",
       "stream": "stdout",
       "text": [
        "\n",
        "Saving: "
       ]
      },
      {
       "output_type": "stream",
       "stream": "stdout",
       "text": [
        " http://www.congreso.es/portal/page/portal/Congreso/PopUpCGI?CMD=VERDOC&CONF=BRSPUB.cnf&BASE=PU10&PIECE=PUWD&DOCS=1-1&FMT=PUWTXDTS.fmt&OPDEF=Y&QUERY=%40FECH%26gt%3B%3D20140101+%26+%40FECH%26lt%3B%3D20150319+%26+%28D%29.PUBL.+%26+%28CONGRESO%29.SECC.+%26+%28PLENO%29.ORSE.+Y+DSCD-10-PL-240.CODI.#1\n",
        "Loading:  http://www.congreso.es/portal/page/portal/Congreso/PopUpCGI?CMD=VERDOC&CONF=BRSPUB.cnf&BASE=PU10&PIECE=PUWD&DOCS=1-1&FMT=PUWTXDTS.fmt&OPDEF=Y&QUERY=%40FECH%26gt%3B%3D20140101+%26+%40FECH%26lt%3B%3D20150319+%26+%28D%29.PUBL.+%26+%28CONGRESO%29.SECC.+%26+%28PLENO%29.ORSE.+Y+DSCD-10-PL-241.CODI.#1\n",
        "Page is ready!"
       ]
      },
      {
       "output_type": "stream",
       "stream": "stdout",
       "text": [
        "\n",
        "Saving: "
       ]
      },
      {
       "output_type": "stream",
       "stream": "stdout",
       "text": [
        " http://www.congreso.es/portal/page/portal/Congreso/PopUpCGI?CMD=VERDOC&CONF=BRSPUB.cnf&BASE=PU10&PIECE=PUWD&DOCS=1-1&FMT=PUWTXDTS.fmt&OPDEF=Y&QUERY=%40FECH%26gt%3B%3D20140101+%26+%40FECH%26lt%3B%3D20150319+%26+%28D%29.PUBL.+%26+%28CONGRESO%29.SECC.+%26+%28PLENO%29.ORSE.+Y+DSCD-10-PL-241.CODI.#1\n",
        "Loading:  http://www.congreso.es/portal/page/portal/Congreso/PopUpCGI?CMD=VERDOC&CONF=BRSPUB.cnf&BASE=PU10&PIECE=PUWD&DOCS=1-1&FMT=PUWTXDTS.fmt&OPDEF=Y&QUERY=%40FECH%26gt%3B%3D20140101+%26+%40FECH%26lt%3B%3D20150319+%26+%28D%29.PUBL.+%26+%28CONGRESO%29.SECC.+%26+%28PLENO%29.ORSE.+Y+DSCD-10-PL-242.CODI.#1\n",
        "Page is ready!"
       ]
      },
      {
       "output_type": "stream",
       "stream": "stdout",
       "text": [
        "\n",
        "Saving: "
       ]
      },
      {
       "output_type": "stream",
       "stream": "stdout",
       "text": [
        " http://www.congreso.es/portal/page/portal/Congreso/PopUpCGI?CMD=VERDOC&CONF=BRSPUB.cnf&BASE=PU10&PIECE=PUWD&DOCS=1-1&FMT=PUWTXDTS.fmt&OPDEF=Y&QUERY=%40FECH%26gt%3B%3D20140101+%26+%40FECH%26lt%3B%3D20150319+%26+%28D%29.PUBL.+%26+%28CONGRESO%29.SECC.+%26+%28PLENO%29.ORSE.+Y+DSCD-10-PL-242.CODI.#1\n",
        "Loading:  http://www.congreso.es/portal/page/portal/Congreso/PopUpCGI?CMD=VERDOC&CONF=BRSPUB.cnf&BASE=PU10&PIECE=PUWD&DOCS=1-1&FMT=PUWTXDTS.fmt&OPDEF=Y&QUERY=%40FECH%26gt%3B%3D20140101+%26+%40FECH%26lt%3B%3D20150319+%26+%28D%29.PUBL.+%26+%28CONGRESO%29.SECC.+%26+%28PLENO%29.ORSE.+Y+DSCD-10-PL-243.CODI.#1\n",
        "Page is ready!"
       ]
      },
      {
       "output_type": "stream",
       "stream": "stdout",
       "text": [
        "\n",
        "Saving: "
       ]
      },
      {
       "output_type": "stream",
       "stream": "stdout",
       "text": [
        " http://www.congreso.es/portal/page/portal/Congreso/PopUpCGI?CMD=VERDOC&CONF=BRSPUB.cnf&BASE=PU10&PIECE=PUWD&DOCS=1-1&FMT=PUWTXDTS.fmt&OPDEF=Y&QUERY=%40FECH%26gt%3B%3D20140101+%26+%40FECH%26lt%3B%3D20150319+%26+%28D%29.PUBL.+%26+%28CONGRESO%29.SECC.+%26+%28PLENO%29.ORSE.+Y+DSCD-10-PL-243.CODI.#1\n",
        "Loading:  http://www.congreso.es/portal/page/portal/Congreso/PopUpCGI?CMD=VERDOC&CONF=BRSPUB.cnf&BASE=PU10&PIECE=PUWD&DOCS=1-1&FMT=PUWTXDTS.fmt&OPDEF=Y&QUERY=%40FECH%26gt%3B%3D20140101+%26+%40FECH%26lt%3B%3D20150319+%26+%28D%29.PUBL.+%26+%28CONGRESO%29.SECC.+%26+%28PLENO%29.ORSE.+Y+DSCD-10-PL-244.CODI.#1\n",
        "Page is ready!"
       ]
      },
      {
       "output_type": "stream",
       "stream": "stdout",
       "text": [
        "\n",
        "Saving: "
       ]
      },
      {
       "output_type": "stream",
       "stream": "stdout",
       "text": [
        " http://www.congreso.es/portal/page/portal/Congreso/PopUpCGI?CMD=VERDOC&CONF=BRSPUB.cnf&BASE=PU10&PIECE=PUWD&DOCS=1-1&FMT=PUWTXDTS.fmt&OPDEF=Y&QUERY=%40FECH%26gt%3B%3D20140101+%26+%40FECH%26lt%3B%3D20150319+%26+%28D%29.PUBL.+%26+%28CONGRESO%29.SECC.+%26+%28PLENO%29.ORSE.+Y+DSCD-10-PL-244.CODI.#1\n",
        "Loading:  http://www.congreso.es/portal/page/portal/Congreso/PopUpCGI?CMD=VERDOC&CONF=BRSPUB.cnf&BASE=PU10&PIECE=PUWD&DOCS=1-1&FMT=PUWTXDTS.fmt&OPDEF=Y&QUERY=%40FECH%26gt%3B%3D20140101+%26+%40FECH%26lt%3B%3D20150319+%26+%28D%29.PUBL.+%26+%28CONGRESO%29.SECC.+%26+%28PLENO%29.ORSE.+Y+DSCD-10-PL-174.CODI.#1\n",
        "Page is ready!"
       ]
      },
      {
       "output_type": "stream",
       "stream": "stdout",
       "text": [
        "\n",
        "Saving: "
       ]
      },
      {
       "output_type": "stream",
       "stream": "stdout",
       "text": [
        " http://www.congreso.es/portal/page/portal/Congreso/PopUpCGI?CMD=VERDOC&CONF=BRSPUB.cnf&BASE=PU10&PIECE=PUWD&DOCS=1-1&FMT=PUWTXDTS.fmt&OPDEF=Y&QUERY=%40FECH%26gt%3B%3D20140101+%26+%40FECH%26lt%3B%3D20150319+%26+%28D%29.PUBL.+%26+%28CONGRESO%29.SECC.+%26+%28PLENO%29.ORSE.+Y+DSCD-10-PL-174.CODI.#1\n",
        "Loading:  http://www.congreso.es/portal/page/portal/Congreso/PopUpCGI?CMD=VERDOC&CONF=BRSPUB.cnf&BASE=PU10&PIECE=PUWD&DOCS=1-1&FMT=PUWTXDTS.fmt&OPDEF=Y&QUERY=%40FECH%26gt%3B%3D20140101+%26+%40FECH%26lt%3B%3D20150319+%26+%28D%29.PUBL.+%26+%28CONGRESO%29.SECC.+%26+%28PLENO%29.ORSE.+Y+DSCD-10-PL-178.CODI.#1\n",
        "Page is ready!"
       ]
      },
      {
       "output_type": "stream",
       "stream": "stdout",
       "text": [
        "\n",
        "Saving: "
       ]
      },
      {
       "output_type": "stream",
       "stream": "stdout",
       "text": [
        " http://www.congreso.es/portal/page/portal/Congreso/PopUpCGI?CMD=VERDOC&CONF=BRSPUB.cnf&BASE=PU10&PIECE=PUWD&DOCS=1-1&FMT=PUWTXDTS.fmt&OPDEF=Y&QUERY=%40FECH%26gt%3B%3D20140101+%26+%40FECH%26lt%3B%3D20150319+%26+%28D%29.PUBL.+%26+%28CONGRESO%29.SECC.+%26+%28PLENO%29.ORSE.+Y+DSCD-10-PL-178.CODI.#1\n",
        "Loading:  http://www.congreso.es/portal/page/portal/Congreso/PopUpCGI?CMD=VERDOC&CONF=BRSPUB.cnf&BASE=PU10&PIECE=PUWD&DOCS=1-1&FMT=PUWTXDTS.fmt&OPDEF=Y&QUERY=%40FECH%26gt%3B%3D20140101+%26+%40FECH%26lt%3B%3D20150319+%26+%28D%29.PUBL.+%26+%28CONGRESO%29.SECC.+%26+%28PLENO%29.ORSE.+Y+DSCD-10-PL-183.CODI.#1\n",
        "Page is ready!"
       ]
      },
      {
       "output_type": "stream",
       "stream": "stdout",
       "text": [
        "\n",
        "Saving:  http://www.congreso.es/portal/page/portal/Congreso/PopUpCGI?CMD=VERDOC&CONF=BRSPUB.cnf&BASE=PU10&PIECE=PUWD&DOCS=1-1&FMT=PUWTXDTS.fmt&OPDEF=Y&QUERY=%40FECH%26gt%3B%3D20140101+%26+%40FECH%26lt%3B%3D20150319+%26+%28D%29.PUBL.+%26+%28CONGRESO%29.SECC.+%26+%28PLENO%29.ORSE.+Y+DSCD-10-PL-183.CODI.#1\n",
        "Loading:  http://www.congreso.es/portal/page/portal/Congreso/PopUpCGI?CMD=VERDOC&CONF=BRSPUB.cnf&BASE=PU10&PIECE=PUWD&DOCS=1-1&FMT=PUWTXDTS.fmt&OPDEF=Y&QUERY=%40FECH%26gt%3B%3D20140101+%26+%40FECH%26lt%3B%3D20150319+%26+%28D%29.PUBL.+%26+%28CONGRESO%29.SECC.+%26+%28PLENO%29.ORSE.+Y+DSCD-10-PL-182.CODI.#1\n",
        "Page is ready!"
       ]
      },
      {
       "output_type": "stream",
       "stream": "stdout",
       "text": [
        "\n",
        "Saving: "
       ]
      },
      {
       "output_type": "stream",
       "stream": "stdout",
       "text": [
        " http://www.congreso.es/portal/page/portal/Congreso/PopUpCGI?CMD=VERDOC&CONF=BRSPUB.cnf&BASE=PU10&PIECE=PUWD&DOCS=1-1&FMT=PUWTXDTS.fmt&OPDEF=Y&QUERY=%40FECH%26gt%3B%3D20140101+%26+%40FECH%26lt%3B%3D20150319+%26+%28D%29.PUBL.+%26+%28CONGRESO%29.SECC.+%26+%28PLENO%29.ORSE.+Y+DSCD-10-PL-182.CODI.#1\n",
        "Loading:  http://www.congreso.es/portal/page/portal/Congreso/PopUpCGI?CMD=VERDOC&CONF=BRSPUB.cnf&BASE=PU10&PIECE=PUWD&DOCS=1-1&FMT=PUWTXDTS.fmt&OPDEF=Y&QUERY=%40FECH%26gt%3B%3D20140101+%26+%40FECH%26lt%3B%3D20150319+%26+%28D%29.PUBL.+%26+%28CONGRESO%29.SECC.+%26+%28PLENO%29.ORSE.+Y+DSCD-10-PL-185.CODI.#1\n",
        "Page is ready!"
       ]
      },
      {
       "output_type": "stream",
       "stream": "stdout",
       "text": [
        "\n",
        "Saving: "
       ]
      },
      {
       "output_type": "stream",
       "stream": "stdout",
       "text": [
        " http://www.congreso.es/portal/page/portal/Congreso/PopUpCGI?CMD=VERDOC&CONF=BRSPUB.cnf&BASE=PU10&PIECE=PUWD&DOCS=1-1&FMT=PUWTXDTS.fmt&OPDEF=Y&QUERY=%40FECH%26gt%3B%3D20140101+%26+%40FECH%26lt%3B%3D20150319+%26+%28D%29.PUBL.+%26+%28CONGRESO%29.SECC.+%26+%28PLENO%29.ORSE.+Y+DSCD-10-PL-185.CODI.#1\n",
        "Loading:  http://www.congreso.es/portal/page/portal/Congreso/PopUpCGI?CMD=VERDOC&CONF=BRSPUB.cnf&BASE=PU10&PIECE=PUWD&DOCS=1-1&FMT=PUWTXDTS.fmt&OPDEF=Y&QUERY=%40FECH%26gt%3B%3D20140101+%26+%40FECH%26lt%3B%3D20150319+%26+%28D%29.PUBL.+%26+%28CONGRESO%29.SECC.+%26+%28PLENO%29.ORSE.+Y+DSCD-10-PL-184.CODI.#1\n",
        "Page is ready!"
       ]
      },
      {
       "output_type": "stream",
       "stream": "stdout",
       "text": [
        "\n",
        "Saving:  http://www.congreso.es/portal/page/portal/Congreso/PopUpCGI?CMD=VERDOC&CONF=BRSPUB.cnf&BASE=PU10&PIECE=PUWD&DOCS=1-1&FMT=PUWTXDTS.fmt&OPDEF=Y&QUERY=%40FECH%26gt%3B%3D20140101+%26+%40FECH%26lt%3B%3D20150319+%26+%28D%29.PUBL.+%26+%28CONGRESO%29.SECC.+%26+%28PLENO%29.ORSE.+Y+DSCD-10-PL-184.CODI.#1\n",
        "Loading:  http://www.congreso.es/portal/page/portal/Congreso/PopUpCGI?CMD=VERDOC&CONF=BRSPUB.cnf&BASE=PU10&PIECE=PUWD&DOCS=1-1&FMT=PUWTXDTS.fmt&OPDEF=Y&QUERY=%40FECH%26gt%3B%3D20140101+%26+%40FECH%26lt%3B%3D20150319+%26+%28D%29.PUBL.+%26+%28CONGRESO%29.SECC.+%26+%28PLENO%29.ORSE.+Y+DSCD-10-PL-187.CODI.#1\n",
        "Page is ready!"
       ]
      },
      {
       "output_type": "stream",
       "stream": "stdout",
       "text": [
        "\n",
        "Saving: "
       ]
      },
      {
       "output_type": "stream",
       "stream": "stdout",
       "text": [
        " http://www.congreso.es/portal/page/portal/Congreso/PopUpCGI?CMD=VERDOC&CONF=BRSPUB.cnf&BASE=PU10&PIECE=PUWD&DOCS=1-1&FMT=PUWTXDTS.fmt&OPDEF=Y&QUERY=%40FECH%26gt%3B%3D20140101+%26+%40FECH%26lt%3B%3D20150319+%26+%28D%29.PUBL.+%26+%28CONGRESO%29.SECC.+%26+%28PLENO%29.ORSE.+Y+DSCD-10-PL-187.CODI.#1\n",
        "Loading:  http://www.congreso.es/portal/page/portal/Congreso/PopUpCGI?CMD=VERDOC&CONF=BRSPUB.cnf&BASE=PU10&PIECE=PUWD&DOCS=1-1&FMT=PUWTXDTS.fmt&OPDEF=Y&QUERY=%40FECH%26gt%3B%3D20140101+%26+%40FECH%26lt%3B%3D20150319+%26+%28D%29.PUBL.+%26+%28CONGRESO%29.SECC.+%26+%28PLENO%29.ORSE.+Y+DSCD-10-PL-186.CODI.#1\n",
        "Page is ready!"
       ]
      },
      {
       "output_type": "stream",
       "stream": "stdout",
       "text": [
        "\n",
        "Saving: "
       ]
      },
      {
       "output_type": "stream",
       "stream": "stdout",
       "text": [
        " http://www.congreso.es/portal/page/portal/Congreso/PopUpCGI?CMD=VERDOC&CONF=BRSPUB.cnf&BASE=PU10&PIECE=PUWD&DOCS=1-1&FMT=PUWTXDTS.fmt&OPDEF=Y&QUERY=%40FECH%26gt%3B%3D20140101+%26+%40FECH%26lt%3B%3D20150319+%26+%28D%29.PUBL.+%26+%28CONGRESO%29.SECC.+%26+%28PLENO%29.ORSE.+Y+DSCD-10-PL-186.CODI.#1\n",
        "Loading:  http://www.congreso.es/portal/page/portal/Congreso/PopUpCGI?CMD=VERDOC&CONF=BRSPUB.cnf&BASE=PU10&PIECE=PUWD&DOCS=1-1&FMT=PUWTXDTS.fmt&OPDEF=Y&QUERY=%40FECH%26gt%3B%3D20140101+%26+%40FECH%26lt%3B%3D20150319+%26+%28D%29.PUBL.+%26+%28CONGRESO%29.SECC.+%26+%28PLENO%29.ORSE.+Y+DSCD-10-PL-189.CODI.#1\n",
        "Page is ready!"
       ]
      },
      {
       "output_type": "stream",
       "stream": "stdout",
       "text": [
        "\n",
        "Saving: "
       ]
      },
      {
       "output_type": "stream",
       "stream": "stdout",
       "text": [
        " http://www.congreso.es/portal/page/portal/Congreso/PopUpCGI?CMD=VERDOC&CONF=BRSPUB.cnf&BASE=PU10&PIECE=PUWD&DOCS=1-1&FMT=PUWTXDTS.fmt&OPDEF=Y&QUERY=%40FECH%26gt%3B%3D20140101+%26+%40FECH%26lt%3B%3D20150319+%26+%28D%29.PUBL.+%26+%28CONGRESO%29.SECC.+%26+%28PLENO%29.ORSE.+Y+DSCD-10-PL-189.CODI.#1\n",
        "Loading:  http://www.congreso.es/portal/page/portal/Congreso/PopUpCGI?CMD=VERDOC&CONF=BRSPUB.cnf&BASE=PU10&PIECE=PUWD&DOCS=1-1&FMT=PUWTXDTS.fmt&OPDEF=Y&QUERY=%40FECH%26gt%3B%3D20140101+%26+%40FECH%26lt%3B%3D20150319+%26+%28D%29.PUBL.+%26+%28CONGRESO%29.SECC.+%26+%28PLENO%29.ORSE.+Y+DSCD-10-PL-188.CODI.#1\n",
        "Page is ready!"
       ]
      },
      {
       "output_type": "stream",
       "stream": "stdout",
       "text": [
        "\n",
        "Saving: "
       ]
      },
      {
       "output_type": "stream",
       "stream": "stdout",
       "text": [
        " http://www.congreso.es/portal/page/portal/Congreso/PopUpCGI?CMD=VERDOC&CONF=BRSPUB.cnf&BASE=PU10&PIECE=PUWD&DOCS=1-1&FMT=PUWTXDTS.fmt&OPDEF=Y&QUERY=%40FECH%26gt%3B%3D20140101+%26+%40FECH%26lt%3B%3D20150319+%26+%28D%29.PUBL.+%26+%28CONGRESO%29.SECC.+%26+%28PLENO%29.ORSE.+Y+DSCD-10-PL-188.CODI.#1\n",
        "Loading:  http://www.congreso.es/portal/page/portal/Congreso/PopUpCGI?CMD=VERDOC&CONF=BRSPUB.cnf&BASE=PU10&PIECE=PUWD&DOCS=1-1&FMT=PUWTXDTS.fmt&OPDEF=Y&QUERY=%40FECH%26gt%3B%3D20140101+%26+%40FECH%26lt%3B%3D20150319+%26+%28D%29.PUBL.+%26+%28CONGRESO%29.SECC.+%26+%28PLENO%29.ORSE.+Y+DSCD-10-PL-191.CODI.#1\n",
        "Page is ready!"
       ]
      },
      {
       "output_type": "stream",
       "stream": "stdout",
       "text": [
        "\n",
        "Saving: "
       ]
      },
      {
       "output_type": "stream",
       "stream": "stdout",
       "text": [
        " http://www.congreso.es/portal/page/portal/Congreso/PopUpCGI?CMD=VERDOC&CONF=BRSPUB.cnf&BASE=PU10&PIECE=PUWD&DOCS=1-1&FMT=PUWTXDTS.fmt&OPDEF=Y&QUERY=%40FECH%26gt%3B%3D20140101+%26+%40FECH%26lt%3B%3D20150319+%26+%28D%29.PUBL.+%26+%28CONGRESO%29.SECC.+%26+%28PLENO%29.ORSE.+Y+DSCD-10-PL-191.CODI.#1\n",
        "Loading:  http://www.congreso.es/portal/page/portal/Congreso/PopUpCGI?CMD=VERDOC&CONF=BRSPUB.cnf&BASE=PU10&PIECE=PUWD&DOCS=1-1&FMT=PUWTXDTS.fmt&OPDEF=Y&QUERY=%40FECH%26gt%3B%3D20140101+%26+%40FECH%26lt%3B%3D20150319+%26+%28D%29.PUBL.+%26+%28CONGRESO%29.SECC.+%26+%28PLENO%29.ORSE.+Y+DSCD-10-PL-190.CODI.#1\n",
        "Page is ready!"
       ]
      },
      {
       "output_type": "stream",
       "stream": "stdout",
       "text": [
        "\n",
        "Saving: "
       ]
      },
      {
       "output_type": "stream",
       "stream": "stdout",
       "text": [
        " http://www.congreso.es/portal/page/portal/Congreso/PopUpCGI?CMD=VERDOC&CONF=BRSPUB.cnf&BASE=PU10&PIECE=PUWD&DOCS=1-1&FMT=PUWTXDTS.fmt&OPDEF=Y&QUERY=%40FECH%26gt%3B%3D20140101+%26+%40FECH%26lt%3B%3D20150319+%26+%28D%29.PUBL.+%26+%28CONGRESO%29.SECC.+%26+%28PLENO%29.ORSE.+Y+DSCD-10-PL-190.CODI.#1\n",
        "Loading:  http://www.congreso.es/portal/page/portal/Congreso/PopUpCGI?CMD=VERDOC&CONF=BRSPUB.cnf&BASE=PU10&PIECE=PUWD&DOCS=1-1&FMT=PUWTXDTS.fmt&OPDEF=Y&QUERY=%40FECH%26gt%3B%3D20140101+%26+%40FECH%26lt%3B%3D20150319+%26+%28D%29.PUBL.+%26+%28CONGRESO%29.SECC.+%26+%28PLENO%29.ORSE.+Y+DSCD-10-PL-223-C1+DSCD-10-PL-223.CODI.#1\n",
        "Page is ready!"
       ]
      },
      {
       "output_type": "stream",
       "stream": "stdout",
       "text": [
        "\n",
        "Saving:  http://www.congreso.es/portal/page/portal/Congreso/PopUpCGI?CMD=VERDOC&CONF=BRSPUB.cnf&BASE=PU10&PIECE=PUWD&DOCS=1-1&FMT=PUWTXDTS.fmt&OPDEF=Y&QUERY=%40FECH%26gt%3B%3D20140101+%26+%40FECH%26lt%3B%3D20150319+%26+%28D%29.PUBL.+%26+%28CONGRESO%29.SECC.+%26+%28PLENO%29.ORSE.+Y+DSCD-10-PL-223-C1+DSCD-10-PL-223.CODI.#1\n",
        "Loading:  http://www.congreso.es/portal/page/portal/Congreso/PopUpCGI?CMD=VERDOC&CONF=BRSPUB.cnf&BASE=PU10&PIECE=PUWD&DOCS=1-1&FMT=PUWTXDTS.fmt&OPDEF=Y&QUERY=%40FECH%26gt%3B%3D20140101+%26+%40FECH%26lt%3B%3D20150319+%26+%28D%29.PUBL.+%26+%28CONGRESO%29.SECC.+%26+%28PLENO%29.ORSE.+Y+DSCD-10-PL-224.CODI.#1\n",
        "Page is ready!"
       ]
      },
      {
       "output_type": "stream",
       "stream": "stdout",
       "text": [
        "\n",
        "Saving: "
       ]
      },
      {
       "output_type": "stream",
       "stream": "stdout",
       "text": [
        " http://www.congreso.es/portal/page/portal/Congreso/PopUpCGI?CMD=VERDOC&CONF=BRSPUB.cnf&BASE=PU10&PIECE=PUWD&DOCS=1-1&FMT=PUWTXDTS.fmt&OPDEF=Y&QUERY=%40FECH%26gt%3B%3D20140101+%26+%40FECH%26lt%3B%3D20150319+%26+%28D%29.PUBL.+%26+%28CONGRESO%29.SECC.+%26+%28PLENO%29.ORSE.+Y+DSCD-10-PL-224.CODI.#1\n",
        "Loading:  http://www.congreso.es/portal/page/portal/Congreso/PopUpCGI?CMD=VERDOC&CONF=BRSPUB.cnf&BASE=PU10&PIECE=PUWD&DOCS=1-1&FMT=PUWTXDTS.fmt&OPDEF=Y&QUERY=%40FECH%26gt%3B%3D20140101+%26+%40FECH%26lt%3B%3D20150319+%26+%28D%29.PUBL.+%26+%28CONGRESO%29.SECC.+%26+%28PLENO%29.ORSE.+Y+DSCD-10-PL-221.CODI.#1\n",
        "Page is ready!"
       ]
      },
      {
       "output_type": "stream",
       "stream": "stdout",
       "text": [
        "\n",
        "Saving:  http://www.congreso.es/portal/page/portal/Congreso/PopUpCGI?CMD=VERDOC&CONF=BRSPUB.cnf&BASE=PU10&PIECE=PUWD&DOCS=1-1&FMT=PUWTXDTS.fmt&OPDEF=Y&QUERY=%40FECH%26gt%3B%3D20140101+%26+%40FECH%26lt%3B%3D20150319+%26+%28D%29.PUBL.+%26+%28CONGRESO%29.SECC.+%26+%28PLENO%29.ORSE.+Y+DSCD-10-PL-221.CODI.#1\n",
        "Loading: "
       ]
      },
      {
       "output_type": "stream",
       "stream": "stdout",
       "text": [
        " http://www.congreso.es/portal/page/portal/Congreso/PopUpCGI?CMD=VERDOC&CONF=BRSPUB.cnf&BASE=PU10&PIECE=PUWD&DOCS=1-1&FMT=PUWTXDTS.fmt&OPDEF=Y&QUERY=%40FECH%26gt%3B%3D20140101+%26+%40FECH%26lt%3B%3D20150319+%26+%28D%29.PUBL.+%26+%28CONGRESO%29.SECC.+%26+%28PLENO%29.ORSE.+Y+DSCD-10-PL-222-C1+DSCD-10-PL-222.CODI.#1\n",
        "Page is ready!"
       ]
      },
      {
       "output_type": "stream",
       "stream": "stdout",
       "text": [
        "\n",
        "Saving: "
       ]
      },
      {
       "output_type": "stream",
       "stream": "stdout",
       "text": [
        " http://www.congreso.es/portal/page/portal/Congreso/PopUpCGI?CMD=VERDOC&CONF=BRSPUB.cnf&BASE=PU10&PIECE=PUWD&DOCS=1-1&FMT=PUWTXDTS.fmt&OPDEF=Y&QUERY=%40FECH%26gt%3B%3D20140101+%26+%40FECH%26lt%3B%3D20150319+%26+%28D%29.PUBL.+%26+%28CONGRESO%29.SECC.+%26+%28PLENO%29.ORSE.+Y+DSCD-10-PL-222-C1+DSCD-10-PL-222.CODI.#1\n",
        "Loading:  http://www.congreso.es/portal/page/portal/Congreso/PopUpCGI?CMD=VERDOC&CONF=BRSPUB.cnf&BASE=PU10&PIECE=PUWD&DOCS=1-1&FMT=PUWTXDTS.fmt&OPDEF=Y&QUERY=%40FECH%26gt%3B%3D20140101+%26+%40FECH%26lt%3B%3D20150319+%26+%28D%29.PUBL.+%26+%28CONGRESO%29.SECC.+%26+%28PLENO%29.ORSE.+Y+DSCD-10-PL-219.CODI.#1\n",
        "Page is ready!"
       ]
      },
      {
       "output_type": "stream",
       "stream": "stdout",
       "text": [
        "\n",
        "Saving: "
       ]
      },
      {
       "output_type": "stream",
       "stream": "stdout",
       "text": [
        " http://www.congreso.es/portal/page/portal/Congreso/PopUpCGI?CMD=VERDOC&CONF=BRSPUB.cnf&BASE=PU10&PIECE=PUWD&DOCS=1-1&FMT=PUWTXDTS.fmt&OPDEF=Y&QUERY=%40FECH%26gt%3B%3D20140101+%26+%40FECH%26lt%3B%3D20150319+%26+%28D%29.PUBL.+%26+%28CONGRESO%29.SECC.+%26+%28PLENO%29.ORSE.+Y+DSCD-10-PL-219.CODI.#1\n",
        "Loading:  http://www.congreso.es/portal/page/portal/Congreso/PopUpCGI?CMD=VERDOC&CONF=BRSPUB.cnf&BASE=PU10&PIECE=PUWD&DOCS=1-1&FMT=PUWTXDTS.fmt&OPDEF=Y&QUERY=%40FECH%26gt%3B%3D20140101+%26+%40FECH%26lt%3B%3D20150319+%26+%28D%29.PUBL.+%26+%28CONGRESO%29.SECC.+%26+%28PLENO%29.ORSE.+Y+DSCD-10-PL-220.CODI.#1\n",
        "Page is ready!"
       ]
      },
      {
       "output_type": "stream",
       "stream": "stdout",
       "text": [
        "\n",
        "Saving: "
       ]
      },
      {
       "output_type": "stream",
       "stream": "stdout",
       "text": [
        " http://www.congreso.es/portal/page/portal/Congreso/PopUpCGI?CMD=VERDOC&CONF=BRSPUB.cnf&BASE=PU10&PIECE=PUWD&DOCS=1-1&FMT=PUWTXDTS.fmt&OPDEF=Y&QUERY=%40FECH%26gt%3B%3D20140101+%26+%40FECH%26lt%3B%3D20150319+%26+%28D%29.PUBL.+%26+%28CONGRESO%29.SECC.+%26+%28PLENO%29.ORSE.+Y+DSCD-10-PL-220.CODI.#1\n",
        "Loading: "
       ]
      },
      {
       "output_type": "stream",
       "stream": "stdout",
       "text": [
        " http://www.congreso.es/portal/page/portal/Congreso/PopUpCGI?CMD=VERDOC&CONF=BRSPUB.cnf&BASE=PU10&PIECE=PUWD&DOCS=1-1&FMT=PUWTXDTS.fmt&OPDEF=Y&QUERY=%40FECH%26gt%3B%3D20140101+%26+%40FECH%26lt%3B%3D20150319+%26+%28D%29.PUBL.+%26+%28CONGRESO%29.SECC.+%26+%28PLENO%29.ORSE.+Y+DSCD-10-PL-217.CODI.#1\n",
        "Page is ready!"
       ]
      },
      {
       "output_type": "stream",
       "stream": "stdout",
       "text": [
        "\n",
        "Saving: "
       ]
      },
      {
       "output_type": "stream",
       "stream": "stdout",
       "text": [
        " http://www.congreso.es/portal/page/portal/Congreso/PopUpCGI?CMD=VERDOC&CONF=BRSPUB.cnf&BASE=PU10&PIECE=PUWD&DOCS=1-1&FMT=PUWTXDTS.fmt&OPDEF=Y&QUERY=%40FECH%26gt%3B%3D20140101+%26+%40FECH%26lt%3B%3D20150319+%26+%28D%29.PUBL.+%26+%28CONGRESO%29.SECC.+%26+%28PLENO%29.ORSE.+Y+DSCD-10-PL-217.CODI.#1\n",
        "Loading:  http://www.congreso.es/portal/page/portal/Congreso/PopUpCGI?CMD=VERDOC&CONF=BRSPUB.cnf&BASE=PU10&PIECE=PUWD&DOCS=1-1&FMT=PUWTXDTS.fmt&OPDEF=Y&QUERY=%40FECH%26gt%3B%3D20140101+%26+%40FECH%26lt%3B%3D20150319+%26+%28D%29.PUBL.+%26+%28CONGRESO%29.SECC.+%26+%28PLENO%29.ORSE.+Y+DSCD-10-PL-218.CODI.#1\n",
        "Page is ready!"
       ]
      },
      {
       "output_type": "stream",
       "stream": "stdout",
       "text": [
        "\n",
        "Saving: "
       ]
      },
      {
       "output_type": "stream",
       "stream": "stdout",
       "text": [
        " http://www.congreso.es/portal/page/portal/Congreso/PopUpCGI?CMD=VERDOC&CONF=BRSPUB.cnf&BASE=PU10&PIECE=PUWD&DOCS=1-1&FMT=PUWTXDTS.fmt&OPDEF=Y&QUERY=%40FECH%26gt%3B%3D20140101+%26+%40FECH%26lt%3B%3D20150319+%26+%28D%29.PUBL.+%26+%28CONGRESO%29.SECC.+%26+%28PLENO%29.ORSE.+Y+DSCD-10-PL-218.CODI.#1\n",
        "Loading:  http://www.congreso.es/portal/page/portal/Congreso/PopUpCGI?CMD=VERDOC&CONF=BRSPUB.cnf&BASE=PU10&PIECE=PUWD&DOCS=1-1&FMT=PUWTXDTS.fmt&OPDEF=Y&QUERY=%40FECH%26gt%3B%3D20140101+%26+%40FECH%26lt%3B%3D20150319+%26+%28D%29.PUBL.+%26+%28CONGRESO%29.SECC.+%26+%28PLENO%29.ORSE.+Y+DSCD-10-PL-215.CODI.#1\n",
        "Page is ready!"
       ]
      },
      {
       "output_type": "stream",
       "stream": "stdout",
       "text": [
        "\n",
        "Saving: "
       ]
      },
      {
       "output_type": "stream",
       "stream": "stdout",
       "text": [
        " http://www.congreso.es/portal/page/portal/Congreso/PopUpCGI?CMD=VERDOC&CONF=BRSPUB.cnf&BASE=PU10&PIECE=PUWD&DOCS=1-1&FMT=PUWTXDTS.fmt&OPDEF=Y&QUERY=%40FECH%26gt%3B%3D20140101+%26+%40FECH%26lt%3B%3D20150319+%26+%28D%29.PUBL.+%26+%28CONGRESO%29.SECC.+%26+%28PLENO%29.ORSE.+Y+DSCD-10-PL-215.CODI.#1\n",
        "Loading:  http://www.congreso.es/portal/page/portal/Congreso/PopUpCGI?CMD=VERDOC&CONF=BRSPUB.cnf&BASE=PU10&PIECE=PUWD&DOCS=1-1&FMT=PUWTXDTS.fmt&OPDEF=Y&QUERY=%40FECH%26gt%3B%3D20140101+%26+%40FECH%26lt%3B%3D20150319+%26+%28D%29.PUBL.+%26+%28CONGRESO%29.SECC.+%26+%28PLENO%29.ORSE.+Y+DSCD-10-PL-216.CODI.#1\n",
        "Page is ready!"
       ]
      },
      {
       "output_type": "stream",
       "stream": "stdout",
       "text": [
        "\n",
        "Saving: "
       ]
      },
      {
       "output_type": "stream",
       "stream": "stdout",
       "text": [
        " http://www.congreso.es/portal/page/portal/Congreso/PopUpCGI?CMD=VERDOC&CONF=BRSPUB.cnf&BASE=PU10&PIECE=PUWD&DOCS=1-1&FMT=PUWTXDTS.fmt&OPDEF=Y&QUERY=%40FECH%26gt%3B%3D20140101+%26+%40FECH%26lt%3B%3D20150319+%26+%28D%29.PUBL.+%26+%28CONGRESO%29.SECC.+%26+%28PLENO%29.ORSE.+Y+DSCD-10-PL-216.CODI.#1\n",
        "Loading:  http://www.congreso.es/portal/page/portal/Congreso/PopUpCGI?CMD=VERDOC&CONF=BRSPUB.cnf&BASE=PU10&PIECE=PUWD&DOCS=1-1&FMT=PUWTXDTS.fmt&OPDEF=Y&QUERY=%40FECH%26gt%3B%3D20140101+%26+%40FECH%26lt%3B%3D20150319+%26+%28D%29.PUBL.+%26+%28CONGRESO%29.SECC.+%26+%28PLENO%29.ORSE.+Y+DSCD-10-PL-172-C1+DSCD-10-PL-172.CODI.#1\n",
        "Page is ready!"
       ]
      },
      {
       "output_type": "stream",
       "stream": "stdout",
       "text": [
        "\n",
        "Saving: "
       ]
      },
      {
       "output_type": "stream",
       "stream": "stdout",
       "text": [
        " http://www.congreso.es/portal/page/portal/Congreso/PopUpCGI?CMD=VERDOC&CONF=BRSPUB.cnf&BASE=PU10&PIECE=PUWD&DOCS=1-1&FMT=PUWTXDTS.fmt&OPDEF=Y&QUERY=%40FECH%26gt%3B%3D20140101+%26+%40FECH%26lt%3B%3D20150319+%26+%28D%29.PUBL.+%26+%28CONGRESO%29.SECC.+%26+%28PLENO%29.ORSE.+Y+DSCD-10-PL-172-C1+DSCD-10-PL-172.CODI.#1\n",
        "Loading:  http://www.congreso.es/portal/page/portal/Congreso/PopUpCGI?CMD=VERDOC&CONF=BRSPUB.cnf&BASE=PU10&PIECE=PUWD&DOCS=1-1&FMT=PUWTXDTS.fmt&OPDEF=Y&QUERY=%40FECH%26gt%3B%3D20140101+%26+%40FECH%26lt%3B%3D20150319+%26+%28D%29.PUBL.+%26+%28CONGRESO%29.SECC.+%26+%28PLENO%29.ORSE.+Y+DSCD-10-PL-177.CODI.#1\n",
        "Page is ready!"
       ]
      },
      {
       "output_type": "stream",
       "stream": "stdout",
       "text": [
        "\n",
        "Saving: "
       ]
      },
      {
       "output_type": "stream",
       "stream": "stdout",
       "text": [
        " http://www.congreso.es/portal/page/portal/Congreso/PopUpCGI?CMD=VERDOC&CONF=BRSPUB.cnf&BASE=PU10&PIECE=PUWD&DOCS=1-1&FMT=PUWTXDTS.fmt&OPDEF=Y&QUERY=%40FECH%26gt%3B%3D20140101+%26+%40FECH%26lt%3B%3D20150319+%26+%28D%29.PUBL.+%26+%28CONGRESO%29.SECC.+%26+%28PLENO%29.ORSE.+Y+DSCD-10-PL-177.CODI.#1\n",
        "Loading:  http://www.congreso.es/portal/page/portal/Congreso/PopUpCGI?CMD=VERDOC&CONF=BRSPUB.cnf&BASE=PU10&PIECE=PUWD&DOCS=1-1&FMT=PUWTXDTS.fmt&OPDEF=Y&QUERY=%40FECH%26gt%3B%3D20140101+%26+%40FECH%26lt%3B%3D20150319+%26+%28D%29.PUBL.+%26+%28CONGRESO%29.SECC.+%26+%28PLENO%29.ORSE.+Y+DSCD-10-PL-181.CODI.#1\n",
        "Page is ready!"
       ]
      },
      {
       "output_type": "stream",
       "stream": "stdout",
       "text": [
        "\n",
        "Saving: "
       ]
      },
      {
       "output_type": "stream",
       "stream": "stdout",
       "text": [
        " http://www.congreso.es/portal/page/portal/Congreso/PopUpCGI?CMD=VERDOC&CONF=BRSPUB.cnf&BASE=PU10&PIECE=PUWD&DOCS=1-1&FMT=PUWTXDTS.fmt&OPDEF=Y&QUERY=%40FECH%26gt%3B%3D20140101+%26+%40FECH%26lt%3B%3D20150319+%26+%28D%29.PUBL.+%26+%28CONGRESO%29.SECC.+%26+%28PLENO%29.ORSE.+Y+DSCD-10-PL-181.CODI.#1\n",
        "Loading:  http://www.congreso.es/portal/page/portal/Congreso/PopUpCGI?CMD=VERDOC&CONF=BRSPUB.cnf&BASE=PU10&PIECE=PUWD&DOCS=1-1&FMT=PUWTXDTS.fmt&OPDEF=Y&QUERY=%40FECH%26gt%3B%3D20140101+%26+%40FECH%26lt%3B%3D20150319+%26+%28D%29.PUBL.+%26+%28CONGRESO%29.SECC.+%26+%28PLENO%29.ORSE.+Y+DSCD-10-PL-253.CODI.#1\n",
        "Page is ready!"
       ]
      },
      {
       "output_type": "stream",
       "stream": "stdout",
       "text": [
        "\n",
        "Saving: "
       ]
      },
      {
       "output_type": "stream",
       "stream": "stdout",
       "text": [
        " http://www.congreso.es/portal/page/portal/Congreso/PopUpCGI?CMD=VERDOC&CONF=BRSPUB.cnf&BASE=PU10&PIECE=PUWD&DOCS=1-1&FMT=PUWTXDTS.fmt&OPDEF=Y&QUERY=%40FECH%26gt%3B%3D20140101+%26+%40FECH%26lt%3B%3D20150319+%26+%28D%29.PUBL.+%26+%28CONGRESO%29.SECC.+%26+%28PLENO%29.ORSE.+Y+DSCD-10-PL-253.CODI.#1\n",
        "Loading:  http://www.congreso.es/portal/page/portal/Congreso/PopUpCGI?CMD=VERDOC&CONF=BRSPUB.cnf&BASE=PU10&PIECE=PUWD&DOCS=1-1&FMT=PUWTXDTS.fmt&OPDEF=Y&QUERY=%40FECH%26gt%3B%3D20140101+%26+%40FECH%26lt%3B%3D20150319+%26+%28D%29.PUBL.+%26+%28CONGRESO%29.SECC.+%26+%28PLENO%29.ORSE.+Y+DSCD-10-PL-251.CODI.#1\n",
        "Page is ready!"
       ]
      },
      {
       "output_type": "stream",
       "stream": "stdout",
       "text": [
        "\n",
        "Saving: "
       ]
      },
      {
       "output_type": "stream",
       "stream": "stdout",
       "text": [
        " http://www.congreso.es/portal/page/portal/Congreso/PopUpCGI?CMD=VERDOC&CONF=BRSPUB.cnf&BASE=PU10&PIECE=PUWD&DOCS=1-1&FMT=PUWTXDTS.fmt&OPDEF=Y&QUERY=%40FECH%26gt%3B%3D20140101+%26+%40FECH%26lt%3B%3D20150319+%26+%28D%29.PUBL.+%26+%28CONGRESO%29.SECC.+%26+%28PLENO%29.ORSE.+Y+DSCD-10-PL-251.CODI.#1\n",
        "Loading:  http://www.congreso.es/portal/page/portal/Congreso/PopUpCGI?CMD=VERDOC&CONF=BRSPUB.cnf&BASE=PU10&PIECE=PUWD&DOCS=1-1&FMT=PUWTXDTS.fmt&OPDEF=Y&QUERY=%40FECH%26gt%3B%3D20140101+%26+%40FECH%26lt%3B%3D20150319+%26+%28D%29.PUBL.+%26+%28CONGRESO%29.SECC.+%26+%28PLENO%29.ORSE.+Y+DSCD-10-PL-250.CODI.#1\n",
        "Page is ready!"
       ]
      },
      {
       "output_type": "stream",
       "stream": "stdout",
       "text": [
        "\n",
        "Saving: "
       ]
      },
      {
       "output_type": "stream",
       "stream": "stdout",
       "text": [
        " http://www.congreso.es/portal/page/portal/Congreso/PopUpCGI?CMD=VERDOC&CONF=BRSPUB.cnf&BASE=PU10&PIECE=PUWD&DOCS=1-1&FMT=PUWTXDTS.fmt&OPDEF=Y&QUERY=%40FECH%26gt%3B%3D20140101+%26+%40FECH%26lt%3B%3D20150319+%26+%28D%29.PUBL.+%26+%28CONGRESO%29.SECC.+%26+%28PLENO%29.ORSE.+Y+DSCD-10-PL-250.CODI.#1\n",
        "Loading:  http://www.congreso.es/portal/page/portal/Congreso/PopUpCGI?CMD=VERDOC&CONF=BRSPUB.cnf&BASE=PU10&PIECE=PUWD&DOCS=1-1&FMT=PUWTXDTS.fmt&OPDEF=Y&QUERY=%40FECH%26gt%3B%3D20140101+%26+%40FECH%26lt%3B%3D20150319+%26+%28D%29.PUBL.+%26+%28CONGRESO%29.SECC.+%26+%28PLENO%29.ORSE.+Y+DSCD-10-PL-249.CODI.#1\n",
        "Page is ready!"
       ]
      },
      {
       "output_type": "stream",
       "stream": "stdout",
       "text": [
        "\n",
        "Saving: "
       ]
      },
      {
       "output_type": "stream",
       "stream": "stdout",
       "text": [
        " http://www.congreso.es/portal/page/portal/Congreso/PopUpCGI?CMD=VERDOC&CONF=BRSPUB.cnf&BASE=PU10&PIECE=PUWD&DOCS=1-1&FMT=PUWTXDTS.fmt&OPDEF=Y&QUERY=%40FECH%26gt%3B%3D20140101+%26+%40FECH%26lt%3B%3D20150319+%26+%28D%29.PUBL.+%26+%28CONGRESO%29.SECC.+%26+%28PLENO%29.ORSE.+Y+DSCD-10-PL-249.CODI.#1\n",
        "Loading:  http://www.congreso.es/portal/page/portal/Congreso/PopUpCGI?CMD=VERDOC&CONF=BRSPUB.cnf&BASE=PU10&PIECE=PUWD&DOCS=1-1&FMT=PUWTXDTS.fmt&OPDEF=Y&QUERY=%40FECH%26gt%3B%3D20140101+%26+%40FECH%26lt%3B%3D20150319+%26+%28D%29.PUBL.+%26+%28CONGRESO%29.SECC.+%26+%28PLENO%29.ORSE.+Y+DSCD-10-PL-248.CODI.#1\n",
        "Page is ready!"
       ]
      },
      {
       "output_type": "stream",
       "stream": "stdout",
       "text": [
        "\n",
        "Saving: "
       ]
      },
      {
       "output_type": "stream",
       "stream": "stdout",
       "text": [
        " http://www.congreso.es/portal/page/portal/Congreso/PopUpCGI?CMD=VERDOC&CONF=BRSPUB.cnf&BASE=PU10&PIECE=PUWD&DOCS=1-1&FMT=PUWTXDTS.fmt&OPDEF=Y&QUERY=%40FECH%26gt%3B%3D20140101+%26+%40FECH%26lt%3B%3D20150319+%26+%28D%29.PUBL.+%26+%28CONGRESO%29.SECC.+%26+%28PLENO%29.ORSE.+Y+DSCD-10-PL-248.CODI.#1\n",
        "Loading:  http://www.congreso.es/portal/page/portal/Congreso/PopUpCGI?CMD=VERDOC&CONF=BRSPUB.cnf&BASE=PU10&PIECE=PUWD&DOCS=1-1&FMT=PUWTXDTS.fmt&OPDEF=Y&QUERY=%40FECH%26gt%3B%3D20140101+%26+%40FECH%26lt%3B%3D20150319+%26+%28D%29.PUBL.+%26+%28CONGRESO%29.SECC.+%26+%28PLENO%29.ORSE.+Y+DSCD-10-PL-247.CODI.#1\n",
        "Page is ready!"
       ]
      },
      {
       "output_type": "stream",
       "stream": "stdout",
       "text": [
        "\n",
        "Saving: "
       ]
      },
      {
       "output_type": "stream",
       "stream": "stdout",
       "text": [
        " http://www.congreso.es/portal/page/portal/Congreso/PopUpCGI?CMD=VERDOC&CONF=BRSPUB.cnf&BASE=PU10&PIECE=PUWD&DOCS=1-1&FMT=PUWTXDTS.fmt&OPDEF=Y&QUERY=%40FECH%26gt%3B%3D20140101+%26+%40FECH%26lt%3B%3D20150319+%26+%28D%29.PUBL.+%26+%28CONGRESO%29.SECC.+%26+%28PLENO%29.ORSE.+Y+DSCD-10-PL-247.CODI.#1\n",
        "Loading:  http://www.congreso.es/portal/page/portal/Congreso/PopUpCGI?CMD=VERDOC&CONF=BRSPUB.cnf&BASE=PU10&PIECE=PUWD&DOCS=1-1&FMT=PUWTXDTS.fmt&OPDEF=Y&QUERY=%40FECH%26gt%3B%3D20140101+%26+%40FECH%26lt%3B%3D20150319+%26+%28D%29.PUBL.+%26+%28CONGRESO%29.SECC.+%26+%28PLENO%29.ORSE.+Y+DSCD-10-PL-246.CODI.#1\n",
        "Page is ready!"
       ]
      },
      {
       "output_type": "stream",
       "stream": "stdout",
       "text": [
        "\n",
        "Saving: "
       ]
      },
      {
       "output_type": "stream",
       "stream": "stdout",
       "text": [
        " http://www.congreso.es/portal/page/portal/Congreso/PopUpCGI?CMD=VERDOC&CONF=BRSPUB.cnf&BASE=PU10&PIECE=PUWD&DOCS=1-1&FMT=PUWTXDTS.fmt&OPDEF=Y&QUERY=%40FECH%26gt%3B%3D20140101+%26+%40FECH%26lt%3B%3D20150319+%26+%28D%29.PUBL.+%26+%28CONGRESO%29.SECC.+%26+%28PLENO%29.ORSE.+Y+DSCD-10-PL-246.CODI.#1\n",
        "Loading:  http://www.congreso.es/portal/page/portal/Congreso/PopUpCGI?CMD=VERDOC&CONF=BRSPUB.cnf&BASE=PU10&PIECE=PUWD&DOCS=1-1&FMT=PUWTXDTS.fmt&OPDEF=Y&QUERY=%40FECH%26gt%3B%3D20140101+%26+%40FECH%26lt%3B%3D20150319+%26+%28D%29.PUBL.+%26+%28CONGRESO%29.SECC.+%26+%28PLENO%29.ORSE.+Y+DSCD-10-PL-245.CODI.#1\n",
        "Page is ready!"
       ]
      },
      {
       "output_type": "stream",
       "stream": "stdout",
       "text": [
        "\n",
        "Saving: "
       ]
      },
      {
       "output_type": "stream",
       "stream": "stdout",
       "text": [
        " http://www.congreso.es/portal/page/portal/Congreso/PopUpCGI?CMD=VERDOC&CONF=BRSPUB.cnf&BASE=PU10&PIECE=PUWD&DOCS=1-1&FMT=PUWTXDTS.fmt&OPDEF=Y&QUERY=%40FECH%26gt%3B%3D20140101+%26+%40FECH%26lt%3B%3D20150319+%26+%28D%29.PUBL.+%26+%28CONGRESO%29.SECC.+%26+%28PLENO%29.ORSE.+Y+DSCD-10-PL-245.CODI.#1\n",
        "Loading:  http://www.congreso.es/portal/page/portal/Congreso/PopUpCGI?CMD=VERDOC&CONF=BRSPUB.cnf&BASE=PU10&PIECE=PUWC&DOCS=1-1&FMT=PUWTXDTS.fmt&OPDEF=Y&QUERY=%40FECH%26gt%3B%3D20140101+%26+%40FECH%26lt%3B%3D20150319+%26+%28D%29.PUBL.+%26+%28CONGRESO%29.SECC.+%26+%28PLENO%29.ORSE.+Y+DSCD-10-PL-256.CODI.#1\n",
        "Page is ready!"
       ]
      },
      {
       "output_type": "stream",
       "stream": "stdout",
       "text": [
        "\n",
        "Saving: "
       ]
      },
      {
       "output_type": "stream",
       "stream": "stdout",
       "text": [
        " http://www.congreso.es/portal/page/portal/Congreso/PopUpCGI?CMD=VERDOC&CONF=BRSPUB.cnf&BASE=PU10&PIECE=PUWC&DOCS=1-1&FMT=PUWTXDTS.fmt&OPDEF=Y&QUERY=%40FECH%26gt%3B%3D20140101+%26+%40FECH%26lt%3B%3D20150319+%26+%28D%29.PUBL.+%26+%28CONGRESO%29.SECC.+%26+%28PLENO%29.ORSE.+Y+DSCD-10-PL-256.CODI.#1\n",
        "Loading:  http://www.congreso.es/portal/page/portal/Congreso/PopUpCGI?CMD=VERDOC&CONF=BRSPUB.cnf&BASE=PU10&PIECE=PUWD&DOCS=1-1&FMT=PUWTXDTS.fmt&OPDEF=Y&QUERY=%40FECH%26gt%3B%3D20140101+%26+%40FECH%26lt%3B%3D20150319+%26+%28D%29.PUBL.+%26+%28CONGRESO%29.SECC.+%26+%28PLENO%29.ORSE.+Y+DSCD-10-PL-254.CODI.#1\n",
        "Page is ready!"
       ]
      },
      {
       "output_type": "stream",
       "stream": "stdout",
       "text": [
        "\n",
        "Saving: "
       ]
      },
      {
       "output_type": "stream",
       "stream": "stdout",
       "text": [
        " http://www.congreso.es/portal/page/portal/Congreso/PopUpCGI?CMD=VERDOC&CONF=BRSPUB.cnf&BASE=PU10&PIECE=PUWD&DOCS=1-1&FMT=PUWTXDTS.fmt&OPDEF=Y&QUERY=%40FECH%26gt%3B%3D20140101+%26+%40FECH%26lt%3B%3D20150319+%26+%28D%29.PUBL.+%26+%28CONGRESO%29.SECC.+%26+%28PLENO%29.ORSE.+Y+DSCD-10-PL-254.CODI.#1\n",
        "Updating 'documents_dict'...\n"
       ]
      }
     ],
     "prompt_number": 16
    },
    {
     "cell_type": "code",
     "collapsed": false,
     "input": [
      "'''\n",
      "Blocs detectats en els diaris de sessions del Congr\u00e9s dels dimecres (per ordre d'aparici\u00f3):\n",
      "\n",
      "\"ORDEN DEL D\u00cdA:\"\n",
      "- Trobat sempre\n",
      "\n",
      "\"SUMARIO\"\n",
      "- Trobat sempre\n",
      "\n",
      "\n",
      "<br /><br />Se levanta la sesi\u00f3n a las ocho y cuarenta minutos de la noche.\n",
      "<br /><br />Se suspende la sesi\u00f3n a las tres y diez minutos de la tarde.\n",
      "<br /><br />Se reanuda la sesi\u00f3n a las nueve de la ma\u00f1ana.\n",
      "    \n",
      "    \n",
      "\"COMPARECENCIA DEL GOBIERNO ANTE EL PLENO DE LA C\u00c1MARA\"\n",
      "- Trobat a DSCD-10-PL-172-C1.html\n",
      "\n",
      "\"PREGUNTAS:\"\n",
      "- Trobat sempre\n",
      "\n",
      "\"INTERPELACIONES URGENTES:\"\n",
      "- Trobat sempre\n",
      "\n",
      "\"CONVALIDACI\u00d3N O DEROGACI\u00d3N DE REALES DECRETOS-LEYES:\"\n",
      "- Trobat a DSCD-10-PL-172-C1.html\n",
      "\n",
      "\n",
      "\n",
      "'''"
     ],
     "language": "python",
     "metadata": {},
     "outputs": []
    },
    {
     "cell_type": "code",
     "collapsed": false,
     "input": [
      "from bs4 import BeautifulSoup\n",
      "import re\n",
      "\n",
      "def text_analyzer(full_file_name):\n",
      "    \n",
      "    file_name = full_file_name[full_file_name.rfind('/'):full_file_name.rfind('.')]\n",
      "    \n",
      "    html_file = load_text_file(full_file_name)\n",
      "\n",
      "    if html_file:\n",
      "        soup = BeautifulSoup(html_file)\n",
      "\n",
      "        div_texto_completo = soup.find('div', {'class' : 'texto_completo'})\n",
      "        if div_texto_completo:\n",
      "            if div_texto_completo.find(text=re.compile('PREGUNTAS:')):\n",
      "                # Cleaning the of html tags:\n",
      "                # Remove:\n",
      "                # <p style=\"text-align:center\"><a name=\"(P\u00e1gina7)\"><b>P\u00e1gina7</b></a></p>\n",
      "                p_styles = div_texto_completo.findAll('p', {'style' : 'text-align:center'})\n",
      "                for p_style in p_styles:\n",
      "                    p_style.extract()\n",
      "\n",
      "                # Remove:\n",
      "                # <br />\n",
      "                brs = div_texto_completo.findAll('br')\n",
      "                for br in brs:\n",
      "                    br.extract()    \n",
      "\n",
      "                texto_completo_html = str(div_texto_completo)\n",
      "                preguntas_html = texto_completo_html[texto_completo_html.find('PREGUNTAS:')+len('PREGUNTAS:'):]\n",
      "\n",
      "                #\n",
      "                paragraphs = preguntas_html.split(\"\\n\\n\")\n",
      "                text_to_analyze = \"\"\n",
      "                for paragraph in paragraphs:\n",
      "                    text_to_analyze += \"-----------------------------------------------------\" + \"\\n\"\n",
      "                    text_to_analyze += paragraph + \"\\n\"\n",
      "                # print text_to_analyze\n",
      "                save_text_file(text_to_analyze, 'log/' + file_name + '_to_analyze.txt', \"\")\n",
      "\n",
      "                #\n",
      "                # paragraphs_analyzer(paragraphs)\n",
      "                with Capturing() as output:\n",
      "                    result_dialogue_dict = paragraphs_analyzer(paragraphs)\n",
      "\n",
      "                # print 'output:\\n', output\n",
      "                save_list_text_file(output, 'log/' + file_name + '_analyzer_log.txt') \n",
      "                \n",
      "                print \"Saving '\" + file_name + \"_dialogue_dict'...\"\n",
      "                save_dict_json(result_dialogue_dict, 'log/' + file_name + '_dialogue_dict.json')\n",
      "                # print result_dialogue_dict\n",
      "            else:\n",
      "                print \"'PREGUNTAS:' not found in \", full_file_name\n",
      "        else:\n",
      "            print \"TAG not found: soup.find('div', {'class' : 'texto_completo'})\"\n",
      "    else:\n",
      "        print \"File not found:\", full_file_name\n"
     ],
     "language": "python",
     "metadata": {},
     "outputs": [],
     "prompt_number": 34
    },
    {
     "cell_type": "code",
     "collapsed": false,
     "input": [
      "# M\u00e8tode que analitza una llista de par\u00e0grafs\n",
      "def paragraphs_analyzer(paragraphs):\n",
      "\n",
      "    index = 0\n",
      "    num_dialogue = 0\n",
      "    num_intervention = 0\n",
      "    dialogue_dict = {}\n",
      "    who = -1  # -1: nobody, otherwise diputado id \n",
      "\n",
      "    while index < len(paragraphs):\n",
      "        if \"N\u00famero de expediente\" in paragraphs[index]:\n",
      "            num_dialogue += 1\n",
      "            num_intervention = 0\n",
      "\n",
      "            id_error = 1000\n",
      "            id_error_current = id_error\n",
      "\n",
      "            question = remove_spaces_and_newline(get_text_between(paragraphs[index],'\u00bf','?'))\n",
      "            if question == \"\":\n",
      "                question = paragraphs[index]\n",
      "            num_exp = remove_spaces_and_newline(get_text_between(paragraphs[index],'expediente',')'))\n",
      "            dialogue_dict[num_dialogue] = {'question':question, 'num_exp':num_exp, 'inter_dict':{}}\n",
      "            print \"-----------------------------------------------------\"\n",
      "            print \"num_exp:\", num_exp\n",
      "            print \"question:\", question\n",
      "        elif \"INTERPELACIONES URGENTES:\" in paragraphs[index]:\n",
      "            print \"DO NOTHING WITH INTERPELACIONES URGENTES:\", paragraphs[index]\n",
      "        elif \"CONVALIDACI\u00d3N O DEROGACI\u00d3N DE REALES DECRETOS-LEYES:\" in paragraphs[index]:\n",
      "            print \"DO NOTHING WITH CONVALIDACI\u00d3N O DEROGACI\u00d3N DE REALES DECRETOS-LEYES:\", paragraphs[index]\n",
      "        elif \"PRESIDENTE:\" in paragraphs[index]:\n",
      "            print \"KO PRESIDENTE:\", paragraphs[index]\n",
      "            who = -1\n",
      "        elif num_dialogue > 0:\n",
      "            # expressi\u00f3 regular per cognoms de dues paraules\n",
      "            m = re.search(r\"se\u00f1or\\w? ([A-Z\u00c1\u00c9\u00cd\u00d3\u00da\u00d1\\-]+) ([A-Z\u00c1\u00c9\u00cd\u00d3\u00da\u00d1\\-]+)\\:\", paragraphs[index])\n",
      "            if m:\n",
      "                print \"OK\", paragraphs[index]\n",
      "                print \"found:\", paragraphs[index][m.start():m.end()]\n",
      "                print \"groups:\", m.group(0), \", \", m.group(1), \", \", m.group(2)\n",
      "                print \"speaker:\", m.group(1) + \" \" + m.group(2)\n",
      "                print \"speach:\", paragraphs[index][m.end():]\n",
      "\n",
      "                id = search_diputado_in_dict(loaded_diputados_dict, m.group(1) + \" \" + m.group(2))\n",
      "                if id:\n",
      "                    if id in dialogue_dict[num_dialogue]:\n",
      "                        dialogue_dict[num_dialogue][id]['inter'].append(num_intervention)\n",
      "                    else:\n",
      "                        dialogue_dict[num_dialogue][id] = {'inter':[num_intervention],'surname':loaded_diputados_dict[id]['surname']}\n",
      "                else:\n",
      "                    # \n",
      "                    print \"ERROR: not found:\", m.group(1) + \" \" + m.group(2)\n",
      "                who = id\n",
      "                # dialogue_dict[num_dialogue]['asker'] = m.group(1) + \" \" + m.group(2)\n",
      "                # dialogue_dict[num_dialogue]['asker_inter'].append(num_inter)\n",
      "                # dialogue_dict[num_dialogue]['inter_dict'].update({num_inter:remove_spaces_and_newline(paragraphs[index][m.end():])})\n",
      "                dialogue_dict[num_dialogue]['inter_dict'].update({num_intervention:{'who':who,'text':remove_spaces_and_newline(paragraphs[index][m.end():])}})\n",
      "                num_intervention += 1\n",
      "            else:\n",
      "                # expressi\u00f3 regular per els cognoms catalans\n",
      "                m = re.search(r\"se\u00f1or\\w? ([A-Z\u00c1\u00c9\u00cd\u00d3\u00da\u00d1\\-]+) I ([A-Z\u00c1\u00c9\u00cd\u00d3\u00da\u00d1\\-]+)\\:\", paragraphs[index])\n",
      "                if m:\n",
      "                    print \"OK 2\", paragraphs[index]\n",
      "                    print \"found:\", paragraphs[index][m.start():m.end()]\n",
      "                    print \"groups:\", m.group(0), \", \", m.group(1), \", \", m.group(2)\n",
      "                    print \"speaker:\", m.group(1) + \" \" + m.group(2)\n",
      "                    print \"speach:\", paragraphs[index][m.end():]\n",
      "\n",
      "                    id = search_diputado_in_dict(loaded_diputados_dict, m.group(1) + \" I \" + m.group(2))\n",
      "                    if id:\n",
      "                        if id in dialogue_dict[num_dialogue]:\n",
      "                            dialogue_dict[num_dialogue][id]['inter'].append(num_intervention)\n",
      "                        else:\n",
      "                            dialogue_dict[num_dialogue][id] = {'inter':[num_intervention],'surname':loaded_diputados_dict[id]['surname']}\n",
      "                    else:\n",
      "                        # \n",
      "                        print \"ERROR: not found:\", m.group(1) + \" I \" + m.group(2)\n",
      "                    who = id\n",
      "                    # dialogue_dict[num_dialogue]['asker'] = m.group(1) + \" I \" + m.group(2)\n",
      "                    # dialogue_dict[num_dialogue]['asker_inter'].append(num_inter)\n",
      "                    # dialogue_dict[num_dialogue]['inter_dict'].update({num_inter:remove_spaces_and_newline(paragraphs[index][m.end():])})\n",
      "                    dialogue_dict[num_dialogue]['inter_dict'].update({num_intervention:{'who':who,'text':remove_spaces_and_newline(paragraphs[index][m.end():])}})\n",
      "                    num_intervention += 1\n",
      "                else:\n",
      "                    # expressi\u00f3 regular per trobar intervencions del tipus: \n",
      "                    #     \"   El se\u00f1or MINISTRO DE INDUSTRIA, ENERG\u00cdA Y TURISMO (Soria L\u00f3pez):\"\n",
      "                    m = re.search(r\"^\\s+(El se\u00f1or|La se\u00f1ora) ([^:]+)\\:\", paragraphs[index])\n",
      "                    if m:\n",
      "                        print \"OK 3\", paragraphs[index]\n",
      "                        print \"found:\", paragraphs[index][m.start():m.end()]\n",
      "                        print \"groups:\", m.group(0), \", \", m.group(1), \", \", m.group(2)\n",
      "                        print \"speaker:\", m.group(2)\n",
      "                        if '(' in m.group(2) and ')' in m.group(2):\n",
      "                            str_surname = remove_spaces_and_newline(get_text_between(m.group(2), '(',')'))\n",
      "                        else:\n",
      "                            str_surname = m.group(2)\n",
      "                        print \"speaker2:\", str_surname\n",
      "                        print \"speach:\", paragraphs[index][m.end():]\n",
      "\n",
      "                        id = search_diputado_in_dict(loaded_diputados_dict, str_surname)\n",
      "                        if id:\n",
      "                            if id in dialogue_dict[num_dialogue]:\n",
      "                                dialogue_dict[num_dialogue][id]['inter'].append(num_intervention)\n",
      "                            else:\n",
      "                                dialogue_dict[num_dialogue][id] = {'inter':[num_intervention],'surname':loaded_diputados_dict[id]['surname']}\n",
      "                            who = id\n",
      "                        else:\n",
      "                            # Emmagatzegem els intervencions de persones no identificades (amb el dicionari de diputats) amb un codi de error\n",
      "                            # per a posteriors tractaments\n",
      "                            print id_error, id_error_current\n",
      "                            if id_error < id_error_current:\n",
      "                                found_surname = False\n",
      "                                for i in range(id_error, id_error_current):\n",
      "                                    if m.group(2) == dialogue_dict[num_dialogue][i]['surname']:\n",
      "                                        found_surname = True\n",
      "                                        break\n",
      "                                if found_surname:\n",
      "                                    dialogue_dict[num_dialogue][i]['inter'].append(num_intervention)\n",
      "                                    who = i\n",
      "                                else:\n",
      "                                    dialogue_dict[num_dialogue][id_error_current] = {'inter':[num_intervention],'surname':m.group(2)}\n",
      "                                    who = id_error_current\n",
      "                                    id_error_current += 1\n",
      "                            else:\n",
      "                                dialogue_dict[num_dialogue][id_error_current] = {'inter':[num_intervention],'surname':m.group(2)}\n",
      "                                who = id_error_current\n",
      "                                id_error_current += 1\n",
      "\n",
      "                        # dialogue_dict[num_dialogue]['responder'] = m.group(2)\n",
      "                        # dialogue_dict[num_dialogue]['responder_inter'].append(num_inter)\n",
      "                        # dialogue_dict[num_dialogue]['inter_dict'].update({num_inter:remove_spaces_and_newline(paragraphs[index][m.end():])})\n",
      "                        dialogue_dict[num_dialogue]['inter_dict'].update({num_intervention:{'who':who,'text':remove_spaces_and_newline(paragraphs[index][m.end():])}})\n",
      "                        num_intervention += 1\n",
      "                    else:\n",
      "                        if who >= 0:\n",
      "                            print \"OK\", who, \":\", paragraphs[index]\n",
      "                            # dialogue_dict[num_dialogue][who]['inter'].append(num_inter)\n",
      "                            # dialogue_dict[num_dialogue]['inter_dict'].update({num_inter:remove_spaces_and_newline(paragraphs[index])})\n",
      "                            # num_inter += 1\n",
      "                            # dialogue_dict[num_dialogue]['inter_dict'][(num_inter-1)] += (\" <CONTINUED> \" + remove_spaces_and_newline(paragraphs[index]))\n",
      "                            dialogue_dict[num_dialogue]['inter_dict'][(num_intervention-1)]['text'] += (\" <CONTINUED> \" + remove_spaces_and_newline(paragraphs[index]))\n",
      "                        else:\n",
      "                            print \"KO\", paragraphs[index]                \n",
      "\n",
      "        index += 1\n",
      "\n",
      "    return dialogue_dict"
     ],
     "language": "python",
     "metadata": {},
     "outputs": [],
     "prompt_number": 35
    },
    {
     "cell_type": "heading",
     "level": 4,
     "metadata": {},
     "source": [
      "Proc\u00e9s d'an\u00e0l.lisi dels documents"
     ]
    },
    {
     "cell_type": "code",
     "collapsed": false,
     "input": [
      "# Loading dictionaries\n",
      "loaded_documents_dict = load_dict_json('documents_dict.json')\n",
      "loaded_diputados_dict = load_dict_json('diputados_dict.json')\n",
      "\n",
      "for key in loaded_documents_dict:\n",
      "    print \"Analyzing:\", loaded_documents_dict[key]['file']\n",
      "    text_analyzer(loaded_documents_dict[key]['file'])\n"
     ],
     "language": "python",
     "metadata": {},
     "outputs": [
      {
       "output_type": "stream",
       "stream": "stdout",
       "text": [
        "Analyzing: ../data/congreso/20140430_DSCD-10-PL-196.html\n",
        "'PREGUNTAS:' not found in "
       ]
      },
      {
       "output_type": "stream",
       "stream": "stdout",
       "text": [
        " ../data/congreso/20140430_DSCD-10-PL-196.html\n",
        "Analyzing: ../data/congreso/20140506_DSCD-10-PL-197.html\n",
        "'PREGUNTAS:' not found in "
       ]
      },
      {
       "output_type": "stream",
       "stream": "stdout",
       "text": [
        " ../data/congreso/20140506_DSCD-10-PL-197.html\n",
        "Analyzing: ../data/congreso/20140507_DSCD-10-PL-198.html\n",
        "Saving '/20140507_DSCD-10-PL-198_dialogue_dict'..."
       ]
      },
      {
       "output_type": "stream",
       "stream": "stdout",
       "text": [
        "\n",
        "Analyzing: ../data/congreso/20140513_DSCD-10-PL-199.html\n",
        "'PREGUNTAS:' not found in "
       ]
      },
      {
       "output_type": "stream",
       "stream": "stdout",
       "text": [
        " ../data/congreso/20140513_DSCD-10-PL-199.html\n",
        "Analyzing: ../data/congreso/20140408_DSCD-10-PL-192.html\n",
        "'PREGUNTAS:' not found in "
       ]
      },
      {
       "output_type": "stream",
       "stream": "stdout",
       "text": [
        " ../data/congreso/20140408_DSCD-10-PL-192.html\n",
        "Analyzing: ../data/congreso/20140409_DSCD-10-PL-193.html\n",
        "Saving '/20140409_DSCD-10-PL-193_dialogue_dict'..."
       ]
      },
      {
       "output_type": "stream",
       "stream": "stdout",
       "text": [
        "\n",
        "Analyzing: ../data/congreso/20140410_DSCD-10-PL-194.html\n",
        "'PREGUNTAS:' not found in "
       ]
      },
      {
       "output_type": "stream",
       "stream": "stdout",
       "text": [
        " ../data/congreso/20140410_DSCD-10-PL-194.html\n",
        "Analyzing: ../data/congreso/20140429_DSCD-10-PL-195.html\n",
        "Saving '/20140429_DSCD-10-PL-195_dialogue_dict'..."
       ]
      },
      {
       "output_type": "stream",
       "stream": "stdout",
       "text": [
        "\n",
        "Analyzing: ../data/congreso/20140514_DSCD-10-PL-200.html\n",
        "Saving '/20140514_DSCD-10-PL-200_dialogue_dict'..."
       ]
      },
      {
       "output_type": "stream",
       "stream": "stdout",
       "text": [
        "\n",
        "Analyzing: ../data/congreso/20140527_DSCD-10-PL-201.html\n",
        "'PREGUNTAS:' not found in "
       ]
      },
      {
       "output_type": "stream",
       "stream": "stdout",
       "text": [
        " ../data/congreso/20140527_DSCD-10-PL-201.html\n",
        "Analyzing: ../data/congreso/20140121_DSCD-10-PL-171.html\n",
        "'PREGUNTAS:' not found in "
       ]
      },
      {
       "output_type": "stream",
       "stream": "stdout",
       "text": [
        " ../data/congreso/20140121_DSCD-10-PL-171.html\n",
        "Analyzing: ../data/congreso/20140213_DSCD-10-PL-176.html\n",
        "'PREGUNTAS:' not found in  ../data/congreso/20140213_DSCD-10-PL-176.html\n",
        "Analyzing: ../data/congreso/20140220_DSCD-10-PL-180.html\n",
        "'PREGUNTAS:' not found in  ../data/congreso/20140220_DSCD-10-PL-180.html\n",
        "Analyzing: ../data/congreso/20141028_DSCD-10-PL-234.html\n",
        "'PREGUNTAS:' not found in "
       ]
      },
      {
       "output_type": "stream",
       "stream": "stdout",
       "text": [
        " ../data/congreso/20141028_DSCD-10-PL-234.html\n",
        "Analyzing: ../data/congreso/20141022_DSCD-10-PL-233.html\n",
        "'PREGUNTAS:' not found in "
       ]
      },
      {
       "output_type": "stream",
       "stream": "stdout",
       "text": [
        " ../data/congreso/20141022_DSCD-10-PL-233.html\n",
        "Analyzing: ../data/congreso/20141016_DSCD-10-PL-230.html\n",
        "'PREGUNTAS:' not found in "
       ]
      },
      {
       "output_type": "stream",
       "stream": "stdout",
       "text": [
        " ../data/congreso/20141016_DSCD-10-PL-230.html\n",
        "Analyzing: ../data/congreso/20141015_DSCD-10-PL-229.html\n",
        "Saving '/20141015_DSCD-10-PL-229_dialogue_dict'..."
       ]
      },
      {
       "output_type": "stream",
       "stream": "stdout",
       "text": [
        "\n",
        "Analyzing: ../data/congreso/20141021_DSCD-10-PL-232.html\n",
        "'PREGUNTAS:' not found in  ../data/congreso/20141021_DSCD-10-PL-232.html\n",
        "Analyzing: ../data/congreso/20141016_DSCD-10-PL-231.html\n",
        "'PREGUNTAS:' not found in "
       ]
      },
      {
       "output_type": "stream",
       "stream": "stdout",
       "text": [
        " ../data/congreso/20141016_DSCD-10-PL-231.html\n",
        "Analyzing: ../data/congreso/20141009_DSCD-10-PL-226.html\n",
        "'PREGUNTAS:' not found in  ../data/congreso/20141009_DSCD-10-PL-226.html\n",
        "Analyzing: ../data/congreso/20141008_DSCD-10-PL-225.html\n",
        "Saving '/20141008_DSCD-10-PL-225_dialogue_dict'..."
       ]
      },
      {
       "output_type": "stream",
       "stream": "stdout",
       "text": [
        "\n",
        "Analyzing: ../data/congreso/20141014_DSCD-10-PL-228.html\n",
        "'PREGUNTAS:' not found in "
       ]
      },
      {
       "output_type": "stream",
       "stream": "stdout",
       "text": [
        " ../data/congreso/20141014_DSCD-10-PL-228.html\n",
        "Analyzing: ../data/congreso/20141014_DSCD-10-PL-227.html\n",
        "'PREGUNTAS:' not found in  ../data/congreso/20141014_DSCD-10-PL-227.html\n",
        "Analyzing: ../data/congreso/20150311_DSCD-10-PL-266.html\n",
        "Saving '/20150311_DSCD-10-PL-266_dialogue_dict'..."
       ]
      },
      {
       "output_type": "stream",
       "stream": "stdout",
       "text": [
        "\n",
        "Analyzing: ../data/congreso/20150312_DSCD-10-PL-267.html\n",
        "'PREGUNTAS:' not found in "
       ]
      },
      {
       "output_type": "stream",
       "stream": "stdout",
       "text": [
        " ../data/congreso/20150312_DSCD-10-PL-267.html\n",
        "Analyzing: ../data/congreso/20150217_DSCD-10-PL-259.html\n",
        "'PREGUNTAS:' not found in "
       ]
      },
      {
       "output_type": "stream",
       "stream": "stdout",
       "text": [
        " ../data/congreso/20150217_DSCD-10-PL-259.html\n",
        "Analyzing: ../data/congreso/20150218_DSCD-10-PL-260.html\n",
        "Saving '/20150218_DSCD-10-PL-260_dialogue_dict'..."
       ]
      },
      {
       "output_type": "stream",
       "stream": "stdout",
       "text": [
        "\n",
        "Analyzing: ../data/congreso/20150211_DSCD-10-PL-257.html\n",
        "Saving '/20150211_DSCD-10-PL-257_dialogue_dict'..."
       ]
      },
      {
       "output_type": "stream",
       "stream": "stdout",
       "text": [
        "\n",
        "Analyzing: ../data/congreso/20150212_DSCD-10-PL-258.html\n",
        "'PREGUNTAS:' not found in "
       ]
      },
      {
       "output_type": "stream",
       "stream": "stdout",
       "text": [
        " ../data/congreso/20150212_DSCD-10-PL-258.html\n",
        "Analyzing: ../data/congreso/20150226_DSCD-10-PL-264.html\n",
        "'PREGUNTAS:' not found in "
       ]
      },
      {
       "output_type": "stream",
       "stream": "stdout",
       "text": [
        " ../data/congreso/20150226_DSCD-10-PL-264.html\n",
        "Analyzing: ../data/congreso/20150310_DSCD-10-PL-265.html\n",
        "'PREGUNTAS:' not found in  ../data/congreso/20150310_DSCD-10-PL-265.html\n",
        "Analyzing: ../data/congreso/20150219_DSCD-10-PL-261.html\n",
        "'PREGUNTAS:' not found in "
       ]
      },
      {
       "output_type": "stream",
       "stream": "stdout",
       "text": [
        " ../data/congreso/20150219_DSCD-10-PL-261.html\n",
        "Analyzing: ../data/congreso/20150225_DSCD-10-PL-263.html\n",
        "'PREGUNTAS:' not found in  ../data/congreso/20150225_DSCD-10-PL-263.html\n",
        "Analyzing: ../data/congreso/20140212_DSCD-10-PL-175.html\n",
        "Saving '/20140212_DSCD-10-PL-175_dialogue_dict'..."
       ]
      },
      {
       "output_type": "stream",
       "stream": "stdout",
       "text": [
        "\n",
        "Analyzing: ../data/congreso/20140220_DSCD-10-PL-179.html\n",
        "'PREGUNTAS:' not found in "
       ]
      },
      {
       "output_type": "stream",
       "stream": "stdout",
       "text": [
        " ../data/congreso/20140220_DSCD-10-PL-179.html\n",
        "Analyzing: ../data/congreso/20140710_DSCD-10-PL-212.html\n",
        "'PREGUNTAS:' not found in  ../data/congreso/20140710_DSCD-10-PL-212.html\n",
        "Analyzing: ../data/congreso/20140709_DSCD-10-PL-211.html\n",
        "Saving '/20140709_DSCD-10-PL-211_dialogue_dict'..."
       ]
      },
      {
       "output_type": "stream",
       "stream": "stdout",
       "text": [
        "\n",
        "Analyzing: ../data/congreso/20140624_DSCD-10-PL-205.html\n",
        "'PREGUNTAS:' not found in  ../data/congreso/20140624_DSCD-10-PL-205.html\n",
        "Analyzing: ../data/congreso/20140611_DSCD-10-PL-204.html\n",
        "'PREGUNTAS:' not found in "
       ]
      },
      {
       "output_type": "stream",
       "stream": "stdout",
       "text": [
        " ../data/congreso/20140611_DSCD-10-PL-204.html\n",
        "Analyzing: ../data/congreso/20140529_DSCD-10-PL-203.html\n",
        "'PREGUNTAS:' not found in "
       ]
      },
      {
       "output_type": "stream",
       "stream": "stdout",
       "text": [
        " ../data/congreso/20140529_DSCD-10-PL-203.html\n",
        "Analyzing: ../data/congreso/20140528_DSCD-10-PL-202.html\n",
        "Saving '/20140528_DSCD-10-PL-202_dialogue_dict'..."
       ]
      },
      {
       "output_type": "stream",
       "stream": "stdout",
       "text": [
        "\n",
        "Analyzing: ../data/congreso/20140708_DSCD-10-PL-210.html\n",
        "'PREGUNTAS:' not found in "
       ]
      },
      {
       "output_type": "stream",
       "stream": "stdout",
       "text": [
        " ../data/congreso/20140708_DSCD-10-PL-210.html\n",
        "Analyzing: ../data/congreso/20140626_DSCD-10-PL-208.html\n",
        "'PREGUNTAS:' not found in  ../data/congreso/20140626_DSCD-10-PL-208.html\n",
        "Analyzing: ../data/congreso/20140626_DSCD-10-PL-207.html\n",
        "'PREGUNTAS:' not found in "
       ]
      },
      {
       "output_type": "stream",
       "stream": "stdout",
       "text": [
        " ../data/congreso/20140626_DSCD-10-PL-207.html\n",
        "Analyzing: ../data/congreso/20140625_DSCD-10-PL-206.html\n",
        "Saving '/20140625_DSCD-10-PL-206_dialogue_dict'..."
       ]
      },
      {
       "output_type": "stream",
       "stream": "stdout",
       "text": [
        "\n",
        "Analyzing: ../data/congreso/20141029_DSCD-10-PL-235.html\n",
        "Saving '/20141029_DSCD-10-PL-235_dialogue_dict'..."
       ]
      },
      {
       "output_type": "stream",
       "stream": "stdout",
       "text": [
        "\n",
        "Analyzing: ../data/congreso/20141030_DSCD-10-PL-236.html\n",
        "'PREGUNTAS:' not found in  ../data/congreso/20141030_DSCD-10-PL-236.html\n",
        "Analyzing: ../data/congreso/20141111_DSCD-10-PL-237.html\n",
        "'PREGUNTAS:' not found in "
       ]
      },
      {
       "output_type": "stream",
       "stream": "stdout",
       "text": [
        " ../data/congreso/20141111_DSCD-10-PL-237.html\n",
        "Analyzing: ../data/congreso/20141112_DSCD-10-PL-238.html\n",
        "'PREGUNTAS:' not found in "
       ]
      },
      {
       "output_type": "stream",
       "stream": "stdout",
       "text": [
        " ../data/congreso/20141112_DSCD-10-PL-238.html\n",
        "Analyzing: ../data/congreso/20141113_DSCD-10-PL-239.html\n",
        "'PREGUNTAS:' not found in "
       ]
      },
      {
       "output_type": "stream",
       "stream": "stdout",
       "text": [
        " ../data/congreso/20141113_DSCD-10-PL-239.html\n",
        "Analyzing: ../data/congreso/20141118_DSCD-10-PL-240.html\n",
        "'PREGUNTAS:' not found in "
       ]
      },
      {
       "output_type": "stream",
       "stream": "stdout",
       "text": [
        " ../data/congreso/20141118_DSCD-10-PL-240.html\n",
        "Analyzing: ../data/congreso/20141119_DSCD-10-PL-241.html\n",
        "Saving '/20141119_DSCD-10-PL-241_dialogue_dict'..."
       ]
      },
      {
       "output_type": "stream",
       "stream": "stdout",
       "text": [
        "\n",
        "Analyzing: ../data/congreso/20141120_DSCD-10-PL-242.html\n",
        "'PREGUNTAS:' not found in "
       ]
      },
      {
       "output_type": "stream",
       "stream": "stdout",
       "text": [
        " ../data/congreso/20141120_DSCD-10-PL-242.html\n",
        "Analyzing: ../data/congreso/20141125_DSCD-10-PL-243.html\n",
        "'PREGUNTAS:' not found in "
       ]
      },
      {
       "output_type": "stream",
       "stream": "stdout",
       "text": [
        " ../data/congreso/20141125_DSCD-10-PL-243.html\n",
        "Analyzing: ../data/congreso/20141126_DSCD-10-PL-244.html\n",
        "Saving '/20141126_DSCD-10-PL-244_dialogue_dict'..."
       ]
      },
      {
       "output_type": "stream",
       "stream": "stdout",
       "text": [
        "\n",
        "Analyzing: ../data/congreso/20140211_DSCD-10-PL-174.html\n",
        "'PREGUNTAS:' not found in "
       ]
      },
      {
       "output_type": "stream",
       "stream": "stdout",
       "text": [
        " ../data/congreso/20140211_DSCD-10-PL-174.html\n",
        "Analyzing: ../data/congreso/20140219_DSCD-10-PL-178.html\n",
        "'PREGUNTAS:' not found in "
       ]
      },
      {
       "output_type": "stream",
       "stream": "stdout",
       "text": [
        " ../data/congreso/20140219_DSCD-10-PL-178.html\n",
        "Analyzing: ../data/congreso/20140227_DSCD-10-PL-183.html\n",
        "'PREGUNTAS:' not found in "
       ]
      },
      {
       "output_type": "stream",
       "stream": "stdout",
       "text": [
        " ../data/congreso/20140227_DSCD-10-PL-183.html\n",
        "Analyzing: ../data/congreso/20140226_DSCD-10-PL-182.html\n",
        "'PREGUNTAS:' not found in "
       ]
      },
      {
       "output_type": "stream",
       "stream": "stdout",
       "text": [
        " ../data/congreso/20140226_DSCD-10-PL-182.html\n",
        "Analyzing: ../data/congreso/20140311_DSCD-10-PL-185.html\n",
        "'PREGUNTAS:' not found in  ../data/congreso/20140311_DSCD-10-PL-185.html\n",
        "Analyzing: ../data/congreso/20140227_DSCD-10-PL-184.html\n",
        "'PREGUNTAS:' not found in "
       ]
      },
      {
       "output_type": "stream",
       "stream": "stdout",
       "text": [
        " ../data/congreso/20140227_DSCD-10-PL-184.html\n",
        "Analyzing: ../data/congreso/20140313_DSCD-10-PL-187.html\n",
        "'PREGUNTAS:' not found in "
       ]
      },
      {
       "output_type": "stream",
       "stream": "stdout",
       "text": [
        " ../data/congreso/20140313_DSCD-10-PL-187.html\n",
        "Analyzing: ../data/congreso/20140312_DSCD-10-PL-186.html\n",
        "Saving '/20140312_DSCD-10-PL-186_dialogue_dict'..."
       ]
      },
      {
       "output_type": "stream",
       "stream": "stdout",
       "text": [
        "\n",
        "Analyzing: ../data/congreso/20140319_DSCD-10-PL-189.html\n",
        "Saving '/20140319_DSCD-10-PL-189_dialogue_dict'..."
       ]
      },
      {
       "output_type": "stream",
       "stream": "stdout",
       "text": [
        "\n",
        "Analyzing: ../data/congreso/20140318_DSCD-10-PL-188.html\n",
        "'PREGUNTAS:' not found in "
       ]
      },
      {
       "output_type": "stream",
       "stream": "stdout",
       "text": [
        " ../data/congreso/20140318_DSCD-10-PL-188.html\n",
        "Analyzing: ../data/congreso/20140327_DSCD-10-PL-191.html\n",
        "'PREGUNTAS:' not found in "
       ]
      },
      {
       "output_type": "stream",
       "stream": "stdout",
       "text": [
        " ../data/congreso/20140327_DSCD-10-PL-191.html\n",
        "Analyzing: ../data/congreso/20140320_DSCD-10-PL-190.html\n",
        "'PREGUNTAS:' not found in "
       ]
      },
      {
       "output_type": "stream",
       "stream": "stdout",
       "text": [
        " ../data/congreso/20140320_DSCD-10-PL-190.html\n",
        "Analyzing: ../data/congreso/20140925_DSCD-10-PL-223-C1.html\n",
        "'PREGUNTAS:' not found in  ../data/congreso/20140925_DSCD-10-PL-223-C1.html\n",
        "Analyzing: ../data/congreso/20141007_DSCD-10-PL-224.html\n",
        "'PREGUNTAS:' not found in "
       ]
      },
      {
       "output_type": "stream",
       "stream": "stdout",
       "text": [
        " ../data/congreso/20141007_DSCD-10-PL-224.html\n",
        "Analyzing: ../data/congreso/20140923_DSCD-10-PL-221.html\n",
        "'PREGUNTAS:' not found in  ../data/congreso/20140923_DSCD-10-PL-221.html\n",
        "Analyzing: ../data/congreso/20140924_DSCD-10-PL-222-C1.html\n",
        "Saving '/20140924_DSCD-10-PL-222-C1_dialogue_dict'..."
       ]
      },
      {
       "output_type": "stream",
       "stream": "stdout",
       "text": [
        "\n",
        "Analyzing: ../data/congreso/20140917_DSCD-10-PL-219.html\n",
        "Saving '/20140917_DSCD-10-PL-219_dialogue_dict'..."
       ]
      },
      {
       "output_type": "stream",
       "stream": "stdout",
       "text": [
        "\n",
        "Analyzing: ../data/congreso/20140918_DSCD-10-PL-220.html\n",
        "'PREGUNTAS:' not found in "
       ]
      },
      {
       "output_type": "stream",
       "stream": "stdout",
       "text": [
        " ../data/congreso/20140918_DSCD-10-PL-220.html\n",
        "Analyzing: ../data/congreso/20140911_DSCD-10-PL-217.html\n",
        "'PREGUNTAS:' not found in  ../data/congreso/20140911_DSCD-10-PL-217.html\n",
        "Analyzing: ../data/congreso/20140916_DSCD-10-PL-218.html\n",
        "'PREGUNTAS:' not found in "
       ]
      },
      {
       "output_type": "stream",
       "stream": "stdout",
       "text": [
        " ../data/congreso/20140916_DSCD-10-PL-218.html\n",
        "Analyzing: ../data/congreso/20140909_DSCD-10-PL-215.html\n",
        "'PREGUNTAS:' not found in "
       ]
      },
      {
       "output_type": "stream",
       "stream": "stdout",
       "text": [
        " ../data/congreso/20140909_DSCD-10-PL-215.html\n",
        "Analyzing: ../data/congreso/20140910_DSCD-10-PL-216.html\n",
        "Saving '/20140910_DSCD-10-PL-216_dialogue_dict'..."
       ]
      },
      {
       "output_type": "stream",
       "stream": "stdout",
       "text": [
        "\n",
        "Analyzing: ../data/congreso/20140122_DSCD-10-PL-172-C1.html\n",
        "Saving '/20140122_DSCD-10-PL-172-C1_dialogue_dict'..."
       ]
      },
      {
       "output_type": "stream",
       "stream": "stdout",
       "text": [
        "\n",
        "Analyzing: ../data/congreso/20140218_DSCD-10-PL-177.html\n",
        "'PREGUNTAS:' not found in  ../data/congreso/20140218_DSCD-10-PL-177.html\n",
        "Analyzing: ../data/congreso/20140225_DSCD-10-PL-181.html\n",
        "'PREGUNTAS:' not found in "
       ]
      },
      {
       "output_type": "stream",
       "stream": "stdout",
       "text": [
        " ../data/congreso/20140225_DSCD-10-PL-181.html\n",
        "Analyzing: ../data/congreso/20150120_DSCD-10-PL-253.html\n",
        "'PREGUNTAS:' not found in "
       ]
      },
      {
       "output_type": "stream",
       "stream": "stdout",
       "text": [
        " ../data/congreso/20150120_DSCD-10-PL-253.html\n",
        "Analyzing: ../data/congreso/20141218_DSCD-10-PL-251.html\n",
        "'PREGUNTAS:' not found in "
       ]
      },
      {
       "output_type": "stream",
       "stream": "stdout",
       "text": [
        " ../data/congreso/20141218_DSCD-10-PL-251.html\n",
        "Analyzing: ../data/congreso/20141217_DSCD-10-PL-250.html\n",
        "Saving '/20141217_DSCD-10-PL-250_dialogue_dict'..."
       ]
      },
      {
       "output_type": "stream",
       "stream": "stdout",
       "text": [
        "\n",
        "Analyzing: ../data/congreso/20141216_DSCD-10-PL-249.html\n",
        "'PREGUNTAS:' not found in "
       ]
      },
      {
       "output_type": "stream",
       "stream": "stdout",
       "text": [
        " ../data/congreso/20141216_DSCD-10-PL-249.html\n",
        "Analyzing: ../data/congreso/20141211_DSCD-10-PL-248.html\n",
        "'PREGUNTAS:' not found in "
       ]
      },
      {
       "output_type": "stream",
       "stream": "stdout",
       "text": [
        " ../data/congreso/20141211_DSCD-10-PL-248.html\n",
        "Analyzing: ../data/congreso/20141210_DSCD-10-PL-247.html\n",
        "Saving '/20141210_DSCD-10-PL-247_dialogue_dict'..."
       ]
      },
      {
       "output_type": "stream",
       "stream": "stdout",
       "text": [
        "\n",
        "Analyzing: ../data/congreso/20141209_DSCD-10-PL-246.html\n",
        "'PREGUNTAS:' not found in  ../data/congreso/20141209_DSCD-10-PL-246.html\n",
        "Analyzing: ../data/congreso/20141127_DSCD-10-PL-245.html\n",
        "'PREGUNTAS:' not found in "
       ]
      },
      {
       "output_type": "stream",
       "stream": "stdout",
       "text": [
        " ../data/congreso/20141127_DSCD-10-PL-245.html\n",
        "Analyzing: ../data/congreso/20150210_DSCD-10-PL-256.html\n",
        "'PREGUNTAS:' not found in "
       ]
      },
      {
       "output_type": "stream",
       "stream": "stdout",
       "text": [
        " ../data/congreso/20150210_DSCD-10-PL-256.html\n",
        "Analyzing: ../data/congreso/20150121_DSCD-10-PL-254.html\n",
        "Saving '/20150121_DSCD-10-PL-254_dialogue_dict'..."
       ]
      },
      {
       "output_type": "stream",
       "stream": "stdout",
       "text": [
        "\n"
       ]
      }
     ],
     "prompt_number": 36
    },
    {
     "cell_type": "heading",
     "level": 4,
     "metadata": {},
     "source": [
      "Proves"
     ]
    },
    {
     "cell_type": "code",
     "collapsed": false,
     "input": [
      "text = '''\n",
      "    Muchas gracias, presidente.\n",
      "\n",
      "    El se\u00f1or PRESIDENTE: Muchas gracias, se\u00f1ora diputada.\n",
      "\n",
      "    Se\u00f1or ministro.\n",
      "\n",
      "    El se\u00f1or MINISTRO DE JUSTICIA (Ruiz-Gallard\u00f3n Jim\u00e9nez): Gracias, se\u00f1or\n",
      "    presidente.\n",
      "\n",
      "    Se\u00f1ora diputada, ninguna reforma que haya hecho esta C\u00e1mara ha supuesto\n",
      "    ninguna impunidad ni para ning\u00fan narcotraficante ni para ning\u00fan\n",
      "    delincuente. Usted confunde jurisdicci\u00f3n con impunidad. Si, mientras\n",
      "    usted y yo estamos hablando, en la ciudad de Nueva York un ciudadano\n",
      "    mexicano le compra droga, que es de origen colombiano, a un ciudadano\n",
      "    canadiense, no tenemos ninguna capacidad para juzgarlo, pero eso no\n",
      "    significa que ese delito sea impune y que si esa persona apareciese por\n",
      "    Espa\u00f1a quedase en impunidad. Lo que ha hecho este Gobierno, como muy bien\n",
      "    ha explicado la vicepresidenta, es establecer las reglas de jurisdicci\u00f3n.\n",
      "    Impunidades y libertades no hemos adoptado ninguna.\n",
      "\n",
      "    Gracias, se\u00f1or presidente. (Aplausos).\n",
      "\n",
      "    El se\u00f1or PRESIDENTE: Gracias, se\u00f1or ministro.\n",
      "\n",
      "    Se\u00f1ora diputada.\n",
      "\n",
      "    \n",
      "La se\u00f1ora LOZANO DOMINGO: Resulta que trece de diecis\u00e9is magistrados de la\n",
      "    Audiencia Nacional discrepan de su criterio. Algo sabr\u00e1n los magistrados\n",
      "    de la Audiencia Nacional respecto al castigo y a la impunidad. Lo cierto\n",
      "    es que bajo su Gobierno se han liberado masivamente terroristas de ETA;\n",
      "    bajo su Gobierno han quedado en libertad masivamente los peores asesinos\n",
      "    de la Espa\u00f1a negra de los \u00faltimos veinte a\u00f1os; bajo su Gobierno no los\n",
      "    sospechosos, los condenados en firme por corrupci\u00f3n est\u00e1n paseando por la\n",
      "    calle tambi\u00e9n alegremente, como los narcotraficantes; bajo su Gobierno se\n",
      "    protege a quienes cometen el fraude y se desampara a las v\u00edctimas. Este\n",
      "    es el balance que se puede hacer, se\u00f1or ministro de Justicia, de su\n",
      "    gesti\u00f3n; sin embargo, ustedes sostienen, en un ejercicio de cinismo\n",
      "    imp\u00fadico, que no es su responsabilidad, sino de esta C\u00e1mara. Ustedes,\n",
      "    despu\u00e9s de haber triturado la separaci\u00f3n de poderes, de haber invadido el\n",
      "    Poder Judicial con esa reforma de la jurisdicci\u00f3n universal y de haber\n",
      "    puesto la alfombra al Grupo Parlamentario Popular, al que utilizaron de\n",
      "    forma espuria para esa reforma, ahora vienen a invocar la separaci\u00f3n de\n",
      "    poderes para lavarse las manos y no hacerse responsables de sus propios\n",
      "    actos. Eso es impropio de un gobierno serio, se\u00f1or ministro. En los\n",
      "    pa\u00edses serios los errores se pagan, y su reforma de la jurisdicci\u00f3n\n",
      "    universal es un error; es un error que adem\u00e1s tira por tierra el trabajo\n",
      "    de cientos, de miles de funcionarios, polic\u00edas, fiscales, jueces, que\n",
      "    trabajaron duramente para encarcelar a esos narcotraficantes y ahora ven\n",
      "    c\u00f3mo por su voluntad de dar capricho a los jerarcas chinos su trabajo se\n",
      "    tira por tierra. Es un error, se\u00f1or ministro, como dir\u00eda Talleyrand, peor\n",
      "    que un crimen, porque es un error que permitir\u00e1 cometer muchos cr\u00edmenes.\n",
      "    Le pido que rectifique, todav\u00eda est\u00e1 a tiempo; si no rectifica, los\n",
      "    errores en pol\u00edtica solo se solventan de una forma: dimitiendo, se\u00f1or\n",
      "    ministro. (Aplausos).\n",
      "\n",
      "    La se\u00f1ora RODR\u00cdGUEZ RAMOS: Pues no, se\u00f1ora vicepresidenta.\n",
      "\n",
      "    Esta ley es infame en su contenido y vergonzosa en su tramitaci\u00f3n. Es\n",
      "    infame en el contenido porque est\u00e1 garantizando la impunidad de los\n",
      "    autores de los peores cr\u00edmenes y de las violaciones de derechos humanos y\n",
      "    abandona a las v\u00edctimas espa\u00f1olas de estos delitos, que hasta ahora\n",
      "    ten\u00edan el derecho y la esperanza de que se pudiera hacer justicia; adem\u00e1s\n",
      "    da\u00f1a enormemente la reputaci\u00f3n de Espa\u00f1a, porque abandona el principio de\n",
      "    defensa de los derechos humanos que compete a todo dem\u00f3crata. Es\n",
      "    vergonzosa en su tramitaci\u00f3n, porque ustedes como Gobierno se negaron a\n",
      "    presentarla como un proyecto de ley y cedieron su autor\u00eda al grupo\n",
      "    parlamentario. Lo hicieron fundamentalmente para que el Consejo General\n",
      "    del Poder Judicial no emitiera el informe obligatorio y les dijera lo que\n",
      "    luego les han dicho los jueces que tienen que aplicarla: que es una ley\n",
      "    il\u00f3gica, una chapuza, contraria a los convenios internacionales firmados\n",
      "    por Espa\u00f1a y adem\u00e1s es inconstitucional. Por eso, se\u00f1ora vicepresidenta,\n",
      "    me sorprendi\u00f3 enormemente que usted el otro d\u00eda, al ser preguntada sobre\n",
      "    esto, dijera que el Gobierno no tiene nada que ver, porque es una\n",
      "    iniciativa del Parlamento. \u00bfSabe lo que sucede? Tiene todo que ver, y\n",
      "    sobre todo con usted como encargada de las relaciones con las Cortes.\n",
      "    Usted autoriz\u00f3 la presentaci\u00f3n de esta proposici\u00f3n de ley, usted autoriz\u00f3\n",
      "    una tramitaci\u00f3n vergonzosa por urgencia, usted la vot\u00f3 y usted autoriz\u00f3\n",
      "    que antes de que transcurrieran cuarenta y ocho horas de su aprobaci\u00f3n\n",
      "    por el Senado estuviera publicada en el Bolet\u00edn Oficial del Estado. Por\n",
      "    eso le pido, le exijo que deje de mentir, porque al final no la vamos a\n",
      "    creer ni en Moncloa ni en este hemiciclo, ni lo que dice chillando por\n",
      "    los pasillos del Congreso; le exijo, se\u00f1ora vicepresidenta, que\n",
      "    rectifiquen antes de que vayamos al Tribunal Constitucional, entre otras\n",
      "    cosas para que m\u00e1s de cuarenta narcotraficantes dejen de ser puestos en\n",
      "    libertad. El otro d\u00eda, cuando la escuch\u00e9 diciendo que se notaba una\n",
      "    alegr\u00eda por las calles, pens\u00e9: la vicepresidenta se ha cruzado con los\n",
      "    cuarenta y tres narcotraficantes liberados por la Audiencia Nacional\n",
      "    (Protestas), que son los \u00fanicos que tienen un motivo de alegr\u00eda por las\n",
      "    decisiones de su Gobierno. (Varios se\u00f1ores diputados: Muy\n",
      "    bien.-Aplausos).\n",
      "\n",
      "    El se\u00f1or PRESIDENTE: Muchas gracias, se\u00f1ora diputada.\n",
      "\n",
      "    Se\u00f1ora vicepresidenta.\n",
      "\n",
      "    La se\u00f1ora VICEPRESIDENTA DEL GOBIERNO Y MINISTRA DE LA PRESIDENCIA (S\u00e1enz\n",
      "    de Santamar\u00eda Ant\u00f3n): Muchas gracias, se\u00f1or presidente.\n",
      "\n",
      "'''\n",
      "paragraphs = text.split(\"\\n\\n\")\n",
      "# paragraphs = preguntas_html.split(\"\\n\\n\")\n",
      "\n",
      "# print remove_text_between(text, '(',')')\n",
      "\n",
      "index = 0\n",
      "while index < len(paragraphs):\n",
      "    m = re.search(r\"\\s+(El se\u00f1or|La se\u00f1ora) ([^:]+)\\:\", paragraphs[index])\n",
      "    # m = re.search(r\"^\\s+(El se\u00f1or|La se\u00f1ora) ([A-Z\u00c1\u00c9\u00cd\u00d3\u00daa-z\u00e1\u00e9\u00ed\u00f3\u00fa\\(\\)\\-]+)\\:\", paragraphs[index])\n",
      "    if m:\n",
      "        print \"OK 2\", paragraphs[index]\n",
      "        print \"find:\", paragraphs[index][m.start():m.end()]\n",
      "        print \"groups:\", m.group(0), \", \", m.group(1), \", \", m.group(2)\n",
      "        print \"speaker:\", m.group(2)\n",
      "        print \"speach:\", paragraphs[index][m.end():]\n",
      "    index += 1\n"
     ],
     "language": "python",
     "metadata": {},
     "outputs": [
      {
       "output_type": "stream",
       "stream": "stdout",
       "text": [
        "OK 2     El se\u00f1or PRESIDENTE: Muchas gracias, se\u00f1ora diputada.\n",
        "find:     El se\u00f1or PRESIDENTE:\n",
        "groups:     El se\u00f1or PRESIDENTE: ,  El se\u00f1or ,  PRESIDENTE\n",
        "speaker: PRESIDENTE\n",
        "speach:  Muchas gracias, se\u00f1ora diputada.\n",
        "OK 2     El se\u00f1or MINISTRO DE JUSTICIA (Ruiz-Gallard\u00f3n Jim\u00e9nez): Gracias, se\u00f1or\n",
        "    presidente.\n",
        "find:     El se\u00f1or MINISTRO DE JUSTICIA (Ruiz-Gallard\u00f3n Jim\u00e9nez):\n",
        "groups:     El se\u00f1or MINISTRO DE JUSTICIA (Ruiz-Gallard\u00f3n Jim\u00e9nez): ,  El se\u00f1or ,  MINISTRO DE JUSTICIA (Ruiz-Gallard\u00f3n Jim\u00e9nez)\n",
        "speaker: MINISTRO DE JUSTICIA (Ruiz-Gallard\u00f3n Jim\u00e9nez)\n",
        "speach:  Gracias, se\u00f1or\n",
        "    presidente.\n",
        "OK 2     El se\u00f1or PRESIDENTE: Gracias, se\u00f1or ministro.\n",
        "find:     El se\u00f1or PRESIDENTE:\n",
        "groups:     El se\u00f1or PRESIDENTE: ,  El se\u00f1or ,  PRESIDENTE\n",
        "speaker: PRESIDENTE\n",
        "speach:  Gracias, se\u00f1or ministro.\n",
        "OK 2     \n",
        "La se\u00f1ora LOZANO DOMINGO: Resulta que trece de diecis\u00e9is magistrados de la\n",
        "    Audiencia Nacional discrepan de su criterio. Algo sabr\u00e1n los magistrados\n",
        "    de la Audiencia Nacional respecto al castigo y a la impunidad. Lo cierto\n",
        "    es que bajo su Gobierno se han liberado masivamente terroristas de ETA;\n",
        "    bajo su Gobierno han quedado en libertad masivamente los peores asesinos\n",
        "    de la Espa\u00f1a negra de los \u00faltimos veinte a\u00f1os; bajo su Gobierno no los\n",
        "    sospechosos, los condenados en firme por corrupci\u00f3n est\u00e1n paseando por la\n",
        "    calle tambi\u00e9n alegremente, como los narcotraficantes; bajo su Gobierno se\n",
        "    protege a quienes cometen el fraude y se desampara a las v\u00edctimas. Este\n",
        "    es el balance que se puede hacer, se\u00f1or ministro de Justicia, de su\n",
        "    gesti\u00f3n; sin embargo, ustedes sostienen, en un ejercicio de cinismo\n",
        "    imp\u00fadico, que no es su responsabilidad, sino de esta C\u00e1mara. Ustedes,\n",
        "    despu\u00e9s de haber triturado la separaci\u00f3n de poderes, de haber invadido el\n",
        "    Poder Judicial con esa reforma de la jurisdicci\u00f3n universal y de haber\n",
        "    puesto la alfombra al Grupo Parlamentario Popular, al que utilizaron de\n",
        "    forma espuria para esa reforma, ahora vienen a invocar la separaci\u00f3n de\n",
        "    poderes para lavarse las manos y no hacerse responsables de sus propios\n",
        "    actos. Eso es impropio de un gobierno serio, se\u00f1or ministro. En los\n",
        "    pa\u00edses serios los errores se pagan, y su reforma de la jurisdicci\u00f3n\n",
        "    universal es un error; es un error que adem\u00e1s tira por tierra el trabajo\n",
        "    de cientos, de miles de funcionarios, polic\u00edas, fiscales, jueces, que\n",
        "    trabajaron duramente para encarcelar a esos narcotraficantes y ahora ven\n",
        "    c\u00f3mo por su voluntad de dar capricho a los jerarcas chinos su trabajo se\n",
        "    tira por tierra. Es un error, se\u00f1or ministro, como dir\u00eda Talleyrand, peor\n",
        "    que un crimen, porque es un error que permitir\u00e1 cometer muchos cr\u00edmenes.\n",
        "    Le pido que rectifique, todav\u00eda est\u00e1 a tiempo; si no rectifica, los\n",
        "    errores en pol\u00edtica solo se solventan de una forma: dimitiendo, se\u00f1or\n",
        "    ministro. (Aplausos).\n",
        "find:     \n",
        "La se\u00f1ora LOZANO DOMINGO:\n",
        "groups:     \n",
        "La se\u00f1ora LOZANO DOMINGO: ,  La se\u00f1ora ,  LOZANO DOMINGO\n",
        "speaker: LOZANO DOMINGO\n",
        "speach:  Resulta que trece de diecis\u00e9is magistrados de la\n",
        "    Audiencia Nacional discrepan de su criterio. Algo sabr\u00e1n los magistrados\n",
        "    de la Audiencia Nacional respecto al castigo y a la impunidad. Lo cierto\n",
        "    es que bajo su Gobierno se han liberado masivamente terroristas de ETA;\n",
        "    bajo su Gobierno han quedado en libertad masivamente los peores asesinos\n",
        "    de la Espa\u00f1a negra de los \u00faltimos veinte a\u00f1os; bajo su Gobierno no los\n",
        "    sospechosos, los condenados en firme por corrupci\u00f3n est\u00e1n paseando por la\n",
        "    calle tambi\u00e9n alegremente, como los narcotraficantes; bajo su Gobierno se\n",
        "    protege a quienes cometen el fraude y se desampara a las v\u00edctimas. Este\n",
        "    es el balance que se puede hacer, se\u00f1or ministro de Justicia, de su\n",
        "    gesti\u00f3n; sin embargo, ustedes sostienen, en un ejercicio de cinismo\n",
        "    imp\u00fadico, que no es su responsabilidad, sino de esta C\u00e1mara. Ustedes,\n",
        "    despu\u00e9s de haber triturado la separaci\u00f3n de poderes, de haber invadido el\n",
        "    Poder Judicial con esa reforma de la jurisdicci\u00f3n universal y de haber\n",
        "    puesto la alfombra al Grupo Parlamentario Popular, al que utilizaron de\n",
        "    forma espuria para esa reforma, ahora vienen a invocar la separaci\u00f3n de\n",
        "    poderes para lavarse las manos y no hacerse responsables de sus propios\n",
        "    actos. Eso es impropio de un gobierno serio, se\u00f1or ministro. En los\n",
        "    pa\u00edses serios los errores se pagan, y su reforma de la jurisdicci\u00f3n\n",
        "    universal es un error; es un error que adem\u00e1s tira por tierra el trabajo\n",
        "    de cientos, de miles de funcionarios, polic\u00edas, fiscales, jueces, que\n",
        "    trabajaron duramente para encarcelar a esos narcotraficantes y ahora ven\n",
        "    c\u00f3mo por su voluntad de dar capricho a los jerarcas chinos su trabajo se\n",
        "    tira por tierra. Es un error, se\u00f1or ministro, como dir\u00eda Talleyrand, peor\n",
        "    que un crimen, porque es un error que permitir\u00e1 cometer muchos cr\u00edmenes.\n",
        "    Le pido que rectifique, todav\u00eda est\u00e1 a tiempo; si no rectifica, los\n",
        "    errores en pol\u00edtica solo se solventan de una forma: dimitiendo, se\u00f1or\n",
        "    ministro. (Aplausos).\n",
        "OK 2     La se\u00f1ora RODR\u00cdGUEZ RAMOS: Pues no, se\u00f1ora vicepresidenta.\n",
        "find:     La se\u00f1ora RODR\u00cdGUEZ RAMOS:\n",
        "groups:     La se\u00f1ora RODR\u00cdGUEZ RAMOS: ,  La se\u00f1ora ,  RODR\u00cdGUEZ RAMOS\n",
        "speaker: RODR\u00cdGUEZ RAMOS\n",
        "speach:  Pues no, se\u00f1ora vicepresidenta.\n",
        "OK 2     El se\u00f1or PRESIDENTE: Muchas gracias, se\u00f1ora diputada.\n",
        "find:     El se\u00f1or PRESIDENTE:\n",
        "groups:     El se\u00f1or PRESIDENTE: ,  El se\u00f1or ,  PRESIDENTE\n",
        "speaker: PRESIDENTE\n",
        "speach:  Muchas gracias, se\u00f1ora diputada.\n",
        "OK 2     La se\u00f1ora VICEPRESIDENTA DEL GOBIERNO Y MINISTRA DE LA PRESIDENCIA (S\u00e1enz\n",
        "    de Santamar\u00eda Ant\u00f3n): Muchas gracias, se\u00f1or presidente.\n",
        "find:     La se\u00f1ora VICEPRESIDENTA DEL GOBIERNO Y MINISTRA DE LA PRESIDENCIA (S\u00e1enz\n",
        "    de Santamar\u00eda Ant\u00f3n):\n",
        "groups:     La se\u00f1ora VICEPRESIDENTA DEL GOBIERNO Y MINISTRA DE LA PRESIDENCIA (S\u00e1enz\n",
        "    de Santamar\u00eda Ant\u00f3n): ,  La se\u00f1ora ,  VICEPRESIDENTA DEL GOBIERNO Y MINISTRA DE LA PRESIDENCIA (S\u00e1enz\n",
        "    de Santamar\u00eda Ant\u00f3n)\n",
        "speaker: VICEPRESIDENTA DEL GOBIERNO Y MINISTRA DE LA PRESIDENCIA (S\u00e1enz\n",
        "    de Santamar\u00eda Ant\u00f3n)\n",
        "speach:  Muchas gracias, se\u00f1or presidente.\n"
       ]
      }
     ],
     "prompt_number": 173
    },
    {
     "cell_type": "code",
     "collapsed": false,
     "input": [],
     "language": "python",
     "metadata": {},
     "outputs": []
    },
    {
     "cell_type": "code",
     "collapsed": false,
     "input": [
      "import re\n",
      "\n",
      "# M\u00e8tode que analitza una llista de par\u00e0grafs\n",
      "def paragraphs_question_analyzer(paragraphs):\n",
      "\n",
      "    index = 0\n",
      "\n",
      "    while index < len(paragraphs):\n",
      "        clean_text = remove_spaces_and_newline(paragraphs[index])\n",
      "        \n",
      "        if \"N\u00famero de expediente\" in clean_text:\n",
      "            print \"-----------------------------------------------------\"\n",
      "            print index, \":\", clean_text\n",
      "        \n",
      "            question = get_text_between(clean_text,'\u00bf','?')\n",
      "            if question == \"\":\n",
      "                group = get_text_between(clean_text, \"DEL GRUPO PARLAMENTARIO\", \" SOBRE\")\n",
      "                question = get_text_between(clean_text, \" SOBRE \", \". (\")\n",
      "                speaker = \"<group>\"\n",
      "            else:\n",
      "                group = get_text_between(clean_text, \"GRUPO PARLAMENTARIO\", \", QUE\")\n",
      "                m = re.search(r\"(DEL SE\u00d1OR DIPUTADO DON|DEL DIPUTADO DON|DE LA DIPUTADA DO\u00d1A) ([^,]+),\", clean_text)\n",
      "                if m:\n",
      "                    # print \"found:\", clean_text[m.start():m.end()]\n",
      "                    # print \"groups:\", m.group(0), \", \", m.group(1), \", \", m.group(2)\n",
      "                    # print \"speaker:\", m.group(2)\n",
      "                    speaker = m.group(2)\n",
      "                else:\n",
      "                    speaker = \"not found\"\n",
      "            \n",
      "            num_exp = get_text_between(clean_text,'expediente',')')\n",
      "            \n",
      "            print \"\"\n",
      "            print \"speaker:\", speaker\n",
      "            print \"GRUPO PARLAMENTARIO:\", group\n",
      "            print \"num_exp:\", num_exp\n",
      "            print \"question:\", question\n",
      "            print \"-----------------------------------------------------\"\n",
      "            \n",
      "        index += 1\n",
      "\n",
      "loaded_text_file = load_text_file('log/20140122_DSCD-10-PL-172-C1_to_analyze.txt',\"\")\n",
      "paragraphs = loaded_text_file.split(\"-----------------------------------------------------\")\n",
      "\n",
      "# print paragraphs\n",
      "\n",
      "result_dialogue_dict = paragraphs_question_analyzer(paragraphs)\n"
     ],
     "language": "python",
     "metadata": {},
     "outputs": [
      {
       "output_type": "stream",
       "stream": "stdout",
       "text": [
        "-----------------------------------------------------\n",
        "2 :  - DE LA DIPUTADA DO\u00d1A MAR\u00cdA OLAIA FERN\u00c1NDEZ DAVILA, DEL GRUPO PARLAMENTARIO MIXTO, QUE FORMULA AL SE\u00d1OR PRESIDENTE DEL GOBIERNO: \u00bfVA EL GOBIERNO A RETIRAR EL ANTEPROYECTO DE LEY DE PROTECCI\u00d3N DE LA VIDA DEL CONCEBIDO Y LOS DERECHOS DE LA EMBARAZADA ANTE EL MALESTAR SOCIAL GENERADO POR ESTA PROPUESTA DE REFORMA DE LA LEGISLACI\u00d3N EN MATERIA DEL ABORTO? (N\u00famero de expediente 180/000792).\n",
        "\n",
        "speaker: MAR\u00cdA OLAIA FERN\u00c1NDEZ DAVILA\n",
        "GRUPO PARLAMENTARIO:  MIXTO\n",
        "num_exp:  180/000792\n",
        "question: VA EL GOBIERNO A RETIRAR EL ANTEPROYECTO DE LEY DE PROTECCI\u00d3N DE LA VIDA DEL CONCEBIDO Y LOS DERECHOS DE LA EMBARAZADA ANTE EL MALESTAR SOCIAL GENERADO POR ESTA PROPUESTA DE REFORMA DE LA LEGISLACI\u00d3N EN MATERIA DEL ABORTO\n",
        "-----------------------------------------------------\n",
        "-----------------------------------------------------\n",
        "21 :  - DEL DIPUTADO DON AITOR ESTEBAN BRAVO, DEL GRUPO PARLAMENTARIO VASCO (EAJ-PNV), QUE FORMULA AL SE\u00d1OR PRESIDENTE DEL GOBIERNO: \u00bfVA A CORREGIR USTED EL INCUMPLIMIENTO DE SU PROMESA DE LICITAR LAS OBRAS DEL DENOMINADO NUDO DE BERGARA DE LA Y VASCA? (N\u00famero de expediente 180/000806).\n",
        "\n",
        "speaker: AITOR ESTEBAN BRAVO\n",
        "GRUPO PARLAMENTARIO:  VASCO (EAJ-PNV)\n",
        "num_exp:  180/000806\n",
        "question: VA A CORREGIR USTED EL INCUMPLIMIENTO DE SU PROMESA DE LICITAR LAS OBRAS DEL DENOMINADO NUDO DE BERGARA DE LA Y VASCA\n",
        "-----------------------------------------------------\n",
        "-----------------------------------------------------\n",
        "38 :  - DEL DIPUTADO DON ALFREDO P\u00c9REZ RUBALCABA, DEL GRUPO PARLAMENTARIO SOCIALISTA, QUE FORMULA AL SE\u00d1OR PRESIDENTE DEL GOBIERNO: \u00bfCREE QUE EL GOBIERNO GARANTIZA EL DERECHO A LA PROTECCI\u00d3N DE LA SALUD DE LOS CIUDADANOS? (N\u00famero de expediente 180/000795).\n",
        "\n",
        "speaker: ALFREDO P\u00c9REZ RUBALCABA\n",
        "GRUPO PARLAMENTARIO:  SOCIALISTA\n",
        "num_exp:  180/000795\n",
        "question: CREE QUE EL GOBIERNO GARANTIZA EL DERECHO A LA PROTECCI\u00d3N DE LA SALUD DE LOS CIUDADANOS\n",
        "-----------------------------------------------------\n",
        "-----------------------------------------------------\n",
        "58 :  - DE LA DIPUTADA DO\u00d1A MAR\u00cdA SORAYA RODR\u00cdGUEZ RAMOS, DEL GRUPO PARLAMENTARIO SOCIALISTA, QUE FORMULA A SE\u00d1ORA VICEPRESIDENTA DEL GOBIERNO Y MINISTRA DE LA PRESIDENCIA: \u00bfPOR QU\u00c9 NING\u00daN MIEMBRO DEL GOBIERNO EST\u00c1 DISPUESTO A COMPARECER EN EL PARLAMENTO PARA EXPLICAR EL ANTEPROYECTO DE LEY SOBRE INTERRUPCI\u00d3N VOLUNTARIA DEL EMBARAZO? (N\u00famero de expediente 180/000796).\n",
        "\n",
        "speaker: MAR\u00cdA SORAYA RODR\u00cdGUEZ RAMOS\n",
        "GRUPO PARLAMENTARIO:  SOCIALISTA\n",
        "num_exp:  180/000796\n",
        "question: POR QU\u00c9 NING\u00daN MIEMBRO DEL GOBIERNO EST\u00c1 DISPUESTO A COMPARECER EN EL PARLAMENTO PARA EXPLICAR EL ANTEPROYECTO DE LEY SOBRE INTERRUPCI\u00d3N VOLUNTARIA DEL EMBARAZO\n",
        "-----------------------------------------------------\n",
        "-----------------------------------------------------\n",
        "78 :  - DEL SE\u00d1OR DIPUTADO DON JOS\u00c9 EUGENIO AZPIROZ VILLAR, DEL GRUPO PARLAMENTARIO POPULAR EN EL CONGRESO, QUE FORMULA AL SE\u00d1OR MINISTRO DE EDUCACI\u00d3N, CULTURA Y DEPORTE: \u00bfQU\u00c9 EVOLUCI\u00d3N HA EXPERIMENTADO LA FORMACI\u00d3N PROFESIONAL DUAL EN EL CURSO 2013-2014? (N\u00famero de expediente 180/000805).\n",
        "\n",
        "speaker: JOS\u00c9 EUGENIO AZPIROZ VILLAR\n",
        "GRUPO PARLAMENTARIO:  POPULAR EN EL CONGRESO\n",
        "num_exp:  180/000805\n",
        "question: QU\u00c9 EVOLUCI\u00d3N HA EXPERIMENTADO LA FORMACI\u00d3N PROFESIONAL DUAL EN EL CURSO 2013-2014\n",
        "-----------------------------------------------------\n",
        "-----------------------------------------------------\n",
        "92 :  - DE LA DIPUTADA DO\u00d1A IRENE LOZANO DOMINGO, DEL GRUPO PARLAMENTARIO DE UNI\u00d3N PROGRESO Y DEMOCRACIA, QUE FORMULA AL SE\u00d1OR MINISTRO DE JUSTICIA: \u00bfC\u00d3MO VA A GARANTIZAR EL GOBIERNO QUE, EN LA LUCHA CONTRA LA CORRUPCI\u00d3N, LOS FISCALES PUEDAN CUMPLIR LOS PRINCIPIOS DE IMPARCIALIDAD Y LEGALIDAD A QUE LES OBLIGA LA CONSTITUCI\u00d3N? (N\u00famero de expediente 180/000807).\n",
        "\n",
        "speaker: IRENE LOZANO DOMINGO\n",
        "GRUPO PARLAMENTARIO:  DE UNI\u00d3N PROGRESO Y DEMOCRACIA\n",
        "num_exp:  180/000807\n",
        "question: C\u00d3MO VA A GARANTIZAR EL GOBIERNO QUE, EN LA LUCHA CONTRA LA CORRUPCI\u00d3N, LOS FISCALES PUEDAN CUMPLIR LOS PRINCIPIOS DE IMPARCIALIDAD Y LEGALIDAD A QUE LES OBLIGA LA CONSTITUCI\u00d3N\n",
        "-----------------------------------------------------\n",
        "-----------------------------------------------------\n",
        "111 :  - DE LA DIPUTADA DO\u00d1A ELENA VALENCIANO MART\u00cdNEZ-OROZCO, DEL GRUPO PARLAMENTARIO SOCIALISTA, QUE FORMULA AL SE\u00d1OR MINISTRO DE JUSTICIA: \u00bfCONSIDERA EL GOBIERNO QUE SE RESPETA LA LIBERTAD DE LAS MUJERES OBLIG\u00c1NDOLAS A SER MADRES? (N\u00famero de expediente 180/000797).\n",
        "\n",
        "speaker: ELENA VALENCIANO MART\u00cdNEZ-OROZCO\n",
        "GRUPO PARLAMENTARIO:  SOCIALISTA\n",
        "num_exp:  180/000797\n",
        "question: CONSIDERA EL GOBIERNO QUE SE RESPETA LA LIBERTAD DE LAS MUJERES OBLIG\u00c1NDOLAS A SER MADRES\n",
        "-----------------------------------------------------\n",
        "-----------------------------------------------------\n",
        "134 :  - DEL DIPUTADO DON LUIS TUDANCA FERN\u00c1NDEZ, DEL GRUPO PARLAMENTARIO SOCIALISTA, QUE FORMULA AL SE\u00d1OR MINISTRO DEL INTERIOR: \u00bfPOR QU\u00c9 HA INTENTADO EL MINISTERIO DEL INTERIOR CRIMINALIZAR LAS PROTESTAS VECINALES DEL BARRIO DE GAMONAL? (N\u00famero de expediente 180/000798).\n",
        "\n",
        "speaker: LUIS TUDANCA FERN\u00c1NDEZ\n",
        "GRUPO PARLAMENTARIO:  SOCIALISTA\n",
        "num_exp:  180/000798\n",
        "question: POR QU\u00c9 HA INTENTADO EL MINISTERIO DEL INTERIOR CRIMINALIZAR LAS PROTESTAS VECINALES DEL BARRIO DE GAMONAL\n",
        "-----------------------------------------------------\n",
        "-----------------------------------------------------\n",
        "153 :  - DE LA DIPUTADA DO\u00d1A ESPERAN\u00c7A ESTEVE ORTEGA, DEL GRUPO PARLAMENTARIO SOCIALISTA, QUE FORMULA AL SE\u00d1OR MINISTRO DEL INTERIOR: \u00bfCREE EL GOBIERNO QUE SE EST\u00c1N RESPETANDO LOS DERECHOS DE LAS PERSONAS EN EL CENTRO DE INTERNAMIENTO PARA EXTRANJEROS EN LA ZONA FRANCA? (N\u00famero de expediente 180/000799).\n",
        "\n",
        "speaker: ESPERAN\u00c7A ESTEVE ORTEGA\n",
        "GRUPO PARLAMENTARIO:  SOCIALISTA\n",
        "num_exp:  180/000799\n",
        "question: CREE EL GOBIERNO QUE SE EST\u00c1N RESPETANDO LOS DERECHOS DE LAS PERSONAS EN EL CENTRO DE INTERNAMIENTO PARA EXTRANJEROS EN LA ZONA FRANCA\n",
        "-----------------------------------------------------\n",
        "-----------------------------------------------------\n",
        "177 :  - DE LA DIPUTADA DO\u00d1A MAR\u00cdA CONSUELO RUM\u00cd IB\u00c1\u00d1EZ, DEL GRUPO PARLAMENTARIO SOCIALISTA, QUE FORMULA A LA SE\u00d1ORA MINISTRA DE FOMENTO: \u00bfQU\u00c9 ACCIONES TIENE PREVISTO EMPRENDER EL MINISTERIO DE FOMENTO PARA GARANTIZAR LA COMUNICACI\u00d3N V\u00cdA A\u00c9REA DE LOS CIUDADANOS DE SEVILLA Y ALMER\u00cdA MANTENIENDO DICHO SERVICIO ENTRE AMBAS CIUDADES? (N\u00famero de expediente 180/000800).\n",
        "\n",
        "speaker: MAR\u00cdA CONSUELO RUM\u00cd IB\u00c1\u00d1EZ\n",
        "GRUPO PARLAMENTARIO:  SOCIALISTA\n",
        "num_exp:  180/000800\n",
        "question: QU\u00c9 ACCIONES TIENE PREVISTO EMPRENDER EL MINISTERIO DE FOMENTO PARA GARANTIZAR LA COMUNICACI\u00d3N V\u00cdA A\u00c9REA DE LOS CIUDADANOS DE SEVILLA Y ALMER\u00cdA MANTENIENDO DICHO SERVICIO ENTRE AMBAS CIUDADES\n",
        "-----------------------------------------------------\n",
        "-----------------------------------------------------\n",
        "196 :  - DEL DIPUTADO DON OD\u00d3N ELORZA GONZ\u00c1LEZ, DEL GRUPO PARLAMENTARIO SOCIALISTA, QUE FORMULA A LA SE\u00d1ORA MINISTRA DE FOMENTO: \u00bfQU\u00c9 DECISIONES PIENSA TOMAR EL GOBIERNO PARA ACELERAR LAS OBRAS DEL SISTEMA FERROVIARIO DE LA Y VASCA, INCLUIDAS SUS CONEXIONES CON LA RED EXISTENTE, PARA LOGRAR LA LLEGADA DEL AVE A LAS CIUDADES VASCAS EN 2018? (N\u00famero de expediente 180/000801).\n",
        "\n",
        "speaker: OD\u00d3N ELORZA GONZ\u00c1LEZ\n",
        "GRUPO PARLAMENTARIO:  SOCIALISTA\n",
        "num_exp:  180/000801\n",
        "question: QU\u00c9 DECISIONES PIENSA TOMAR EL GOBIERNO PARA ACELERAR LAS OBRAS DEL SISTEMA FERROVIARIO DE LA Y VASCA, INCLUIDAS SUS CONEXIONES CON LA RED EXISTENTE, PARA LOGRAR LA LLEGADA DEL AVE A LAS CIUDADES VASCAS EN 2018\n",
        "-----------------------------------------------------\n",
        "-----------------------------------------------------\n",
        "214 :  - DEL DIPUTADO DON JES\u00daS CALDERA S\u00c1NCHEZ-CAPIT\u00c1N, DEL GRUPO PARLAMENTARIO SOCIALISTA, QUE FORMULA A LA SE\u00d1ORA MINISTRA DE EMPLEO Y SEGURIDAD SOCIAL: \u00bfHA VALORADO EL GOBIERNO LAS CONSECUENCIAS DE CONGELAR EL SALARIO M\u00cdNIMO INTERPROFESIONAL? (N\u00famero de expediente 180/000802).\n",
        "\n",
        "speaker: JES\u00daS CALDERA S\u00c1NCHEZ-CAPIT\u00c1N\n",
        "GRUPO PARLAMENTARIO:  SOCIALISTA\n",
        "num_exp:  180/000802\n",
        "question: HA VALORADO EL GOBIERNO LAS CONSECUENCIAS DE CONGELAR EL SALARIO M\u00cdNIMO INTERPROFESIONAL\n",
        "-----------------------------------------------------\n",
        "-----------------------------------------------------\n",
        "235 :  - DE LA DIPUTADA DO\u00d1A MAR\u00cdA CONCEPCI\u00d3 TARRUELLA TOM\u00c0S, DEL GRUPO PARLAMENTARIO CATAL\u00c1N (CONVERG\u00c8NCIA I UNI\u00d3), QUE FORMULA A LA SE\u00d1ORA MINISTRA DE SANIDAD, SERVICIOS SOCIALES E IGUALDAD: \u00bfCU\u00c1LES SON LOS MOTIVOS POR LOS QUE EN EL ESTADO ESPA\u00d1OL SE IMPIDE LA VENTA EN OFICINAS DE FARMACIA DE VACUNAS QUE NO TIENEN RESTRICCIONES DE DISPENSACI\u00d3N EN LA UNI\u00d3N EUROPEA? (N\u00famero de expediente 180/000794).\n",
        "\n",
        "speaker: MAR\u00cdA CONCEPCI\u00d3 TARRUELLA TOM\u00c0S\n",
        "GRUPO PARLAMENTARIO:  CATAL\u00c1N (CONVERG\u00c8NCIA I UNI\u00d3)\n",
        "num_exp:  180/000794\n",
        "question: CU\u00c1LES SON LOS MOTIVOS POR LOS QUE EN EL ESTADO ESPA\u00d1OL SE IMPIDE LA VENTA EN OFICINAS DE FARMACIA DE VACUNAS QUE NO TIENEN RESTRICCIONES DE DISPENSACI\u00d3N EN LA UNI\u00d3N EUROPEA\n",
        "-----------------------------------------------------\n",
        "-----------------------------------------------------\n",
        "254 :  - DEL DIPUTADO DON JOS\u00c9 MART\u00cdNEZ OLMOS, DEL GRUPO PARLAMENTARIO SOCIALISTA, QUE FORMULA A LA SE\u00d1ORA MINISTRA DE SANIDAD, SERVICIOS SOCIALES E IGUALDAD: \u00bfESTA SATISFECHA DE LOS COPAGOS APLICADOS POR EL GOBIERNO EN LA SANIDAD P\u00daBLICA? (N\u00famero de expediente 180/000804).\n",
        "\n",
        "speaker: JOS\u00c9 MART\u00cdNEZ OLMOS\n",
        "GRUPO PARLAMENTARIO:  SOCIALISTA\n",
        "num_exp:  180/000804\n",
        "question: ESTA SATISFECHA DE LOS COPAGOS APLICADOS POR EL GOBIERNO EN LA SANIDAD P\u00daBLICA\n",
        "-----------------------------------------------------\n",
        "-----------------------------------------------------\n",
        "274 :  - DE LA DIPUTADA DO\u00d1A CARMEN MONT\u00d3N GIM\u00c9NEZ, DEL GRUPO PARLAMENTARIO SOCIALISTA, QUE FORMULA A LA SE\u00d1ORA MINISTRA DE SANIDAD, SERVICIOS SOCIALES E IGUALDAD: \u00bfQU\u00c9 RESPONSABILIDAD TIENE LA MINISTRA ENCARGADA DE LA POL\u00cdTICA DE IGUALDAD EN LAS DECISIONES DEL GOBIERNO QUE AMENAZAN LOS DERECHOS DE LAS MUJERES? (N\u00famero de expediente 180/000803).\n",
        "\n",
        "speaker: CARMEN MONT\u00d3N GIM\u00c9NEZ\n",
        "GRUPO PARLAMENTARIO:  SOCIALISTA\n",
        "num_exp:  180/000803\n",
        "question: QU\u00c9 RESPONSABILIDAD TIENE LA MINISTRA ENCARGADA DE LA POL\u00cdTICA DE IGUALDAD EN LAS DECISIONES DEL GOBIERNO QUE AMENAZAN LOS DERECHOS DE LAS MUJERES\n",
        "-----------------------------------------------------\n",
        "-----------------------------------------------------\n",
        "294 :  - DEL GRUPO PARLAMENTARIO SOCIALISTA, A LA MINISTRA DE SANIDAD, SERVICIOS SOCIALES E IGUALDAD SOBRE LA POL\u00cdTICA DEL GOBIERNO EN MATERIA DE LUCHA CONTRA LA POBREZA Y LA EXCLUSI\u00d3N SOCIAL. (N\u00famero de expediente 172/000188).\n",
        "\n",
        "speaker: <group>\n",
        "GRUPO PARLAMENTARIO:  SOCIALISTA, A LA MINISTRA DE SANIDAD, SERVICIOS SOCIALES E IGUALDAD\n",
        "num_exp:  172/000188\n",
        "question: LA POL\u00cdTICA DEL GOBIERNO EN MATERIA DE LUCHA CONTRA LA POBREZA Y LA EXCLUSI\u00d3N SOCIAL\n",
        "-----------------------------------------------------\n",
        "-----------------------------------------------------\n",
        "347 :  - DEL GRUPO PARLAMENTARIO DE IU, ICV-EUiA, CHA: LA IZQUIERDA PLURAL, SOBRE LA POL\u00cdTICA DEL GOBIERNO EN MATERIA DE SALUD SEXUAL Y REPRODUCTIVA E INTERRUPCI\u00d3N VOLUNTARIA DEL EMBARAZO. (N\u00famero de expediente 172/000190).\n",
        "\n",
        "speaker: <group>\n",
        "GRUPO PARLAMENTARIO:  DE IU, ICV-EUiA, CHA: LA IZQUIERDA PLURAL,\n",
        "num_exp:  172/000190\n",
        "question: LA POL\u00cdTICA DEL GOBIERNO EN MATERIA DE SALUD SEXUAL Y REPRODUCTIVA E INTERRUPCI\u00d3N VOLUNTARIA DEL EMBARAZO\n",
        "-----------------------------------------------------\n",
        "-----------------------------------------------------\n",
        "392 :  - DEL GRUPO PARLAMENTARIO CATAL\u00c1N (CONVERG\u00c8NCIA I UNI\u00d3), SOBRE MEDIDAS A ADOPTAR PARA LUCHAR CONTRA EL DESEMPLEO Y PARA IMPULSAR LA CREACI\u00d3N DE PUESTOS DE TRABAJO. (N\u00famero de expediente 172/000191).\n",
        "\n",
        "speaker: <group>\n",
        "GRUPO PARLAMENTARIO:  CATAL\u00c1N (CONVERG\u00c8NCIA I UNI\u00d3),\n",
        "num_exp:  172/000191\n",
        "question: MEDIDAS A ADOPTAR PARA LUCHAR CONTRA EL DESEMPLEO Y PARA IMPULSAR LA CREACI\u00d3N DE PUESTOS DE TRABAJO\n",
        "-----------------------------------------------------\n",
        "-----------------------------------------------------\n",
        "447 :  - REAL DECRETO-LEY 15/2013, DE 13 DE DICIEMBRE, SOBRE REESTRUCTURACI\u00d3N DE LA ENTIDAD P\u00daBLICA EMPRESARIAL ADMINISTRADOR DE INFRAESTRUCTURAS FERROVIARIAS (ADIF) Y OTRAS MEDIDAS URGENTES EN EL ORDEN ECON\u00d3MICO. (N\u00famero de expediente 130/000045).\n",
        "\n",
        "speaker: <group>\n",
        "GRUPO PARLAMENTARIO: \n",
        "num_exp:  130/000045\n",
        "question: REESTRUCTURACI\u00d3N DE LA ENTIDAD P\u00daBLICA EMPRESARIAL ADMINISTRADOR DE INFRAESTRUCTURAS FERROVIARIAS (ADIF) Y OTRAS MEDIDAS URGENTES EN EL ORDEN ECON\u00d3MICO\n",
        "-----------------------------------------------------\n",
        "-----------------------------------------------------\n",
        "548 :  - REAL DECRETO-LEY 16/2013, DE 20 DE DICIEMBRE, DE MEDIDAS PARA FAVORECER LA CONTRATACI\u00d3N ESTABLE Y MEJORAR LA EMPLEABILIDAD DE LOS TRABAJADORES. (N\u00famero de expediente 130/000046).\n",
        "\n",
        "speaker: <group>\n",
        "GRUPO PARLAMENTARIO: \n",
        "num_exp:  130/000046\n",
        "question: \n",
        "-----------------------------------------------------\n",
        "-----------------------------------------------------\n",
        "696 :  - REAL DECRETO-LEY 15/2013, DE 13 DE DICIEMBRE, SOBRE REESTRUCTURACI\u00d3N DE LA ENTIDAD P\u00daBLICA EMPRESARIAL ADMINISTRADOR DE INFRAESTRUCTURAS FERROVIARIAS (ADIF) Y OTRAS MEDIDAS URGENTES EN EL ORDEN ECON\u00d3MICO. (N\u00famero de expediente 130/000045).\n",
        "\n",
        "speaker: <group>\n",
        "GRUPO PARLAMENTARIO: \n",
        "num_exp:  130/000045\n",
        "question: REESTRUCTURACI\u00d3N DE LA ENTIDAD P\u00daBLICA EMPRESARIAL ADMINISTRADOR DE INFRAESTRUCTURAS FERROVIARIAS (ADIF) Y OTRAS MEDIDAS URGENTES EN EL ORDEN ECON\u00d3MICO\n",
        "-----------------------------------------------------\n",
        "-----------------------------------------------------\n",
        "705 :  - REAL DECRETO-LEY 16/2013, DE 20 DE DICIEMBRE, DE MEDIDAS PARA FAVORECER LA CONTRATACI\u00d3N ESTABLE Y MEJORAR LA EMPLEABILIDAD DE LOS TRABAJADORES. (N\u00famero de expediente 130/000046).\n",
        "\n",
        "speaker: <group>\n",
        "GRUPO PARLAMENTARIO: \n",
        "num_exp:  130/000046\n",
        "question: \n",
        "-----------------------------------------------------\n"
       ]
      }
     ],
     "prompt_number": 21
    },
    {
     "cell_type": "code",
     "collapsed": false,
     "input": [],
     "language": "python",
     "metadata": {},
     "outputs": []
    }
   ],
   "metadata": {}
  }
 ]
}